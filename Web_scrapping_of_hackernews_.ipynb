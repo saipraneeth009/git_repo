{
  "nbformat": 4,
  "nbformat_minor": 0,
  "metadata": {
    "colab": {
      "provenance": [],
      "authorship_tag": "ABX9TyNWRBP6AP2z8BhxSH8PK7Pe",
      "include_colab_link": true
    },
    "kernelspec": {
      "name": "python3",
      "display_name": "Python 3"
    },
    "language_info": {
      "name": "python"
    }
  },
  "cells": [
    {
      "cell_type": "markdown",
      "metadata": {
        "id": "view-in-github",
        "colab_type": "text"
      },
      "source": [
        "<a href=\"https://colab.research.google.com/github/saipraneeth009/git_repo/blob/main/Web_scrapping_of_hackernews_.ipynb\" target=\"_parent\"><img src=\"https://colab.research.google.com/assets/colab-badge.svg\" alt=\"Open In Colab\"/></a>"
      ]
    },
    {
      "cell_type": "code",
      "execution_count": 1,
      "metadata": {
        "id": "L1YM4r45HCIQ"
      },
      "outputs": [],
      "source": [
        "import requests\n",
        "from bs4 import BeautifulSoup\n",
        "import pprint"
      ]
    },
    {
      "cell_type": "code",
      "source": [
        "#creating a new response variable\n",
        "res = requests.get(\"https://news.ycombinator.com/news\")\n",
        "print(res)"
      ],
      "metadata": {
        "colab": {
          "base_uri": "https://localhost:8080/"
        },
        "id": "a5_H92I9Kw7V",
        "outputId": "68e1a645-5396-4d90-8a04-7406581b1a26"
      },
      "execution_count": 2,
      "outputs": [
        {
          "output_type": "stream",
          "name": "stdout",
          "text": [
            "<Response [200]>\n"
          ]
        }
      ]
    },
    {
      "cell_type": "code",
      "source": [
        "print(res.text)"
      ],
      "metadata": {
        "colab": {
          "base_uri": "https://localhost:8080/"
        },
        "id": "bipR8KLdLFZr",
        "outputId": "7bd8a06d-cc82-41c9-edc9-b0722ddf888a"
      },
      "execution_count": 3,
      "outputs": [
        {
          "output_type": "stream",
          "name": "stdout",
          "text": [
            "<html lang=\"en\" op=\"news\"><head><meta name=\"referrer\" content=\"origin\"><meta name=\"viewport\" content=\"width=device-width, initial-scale=1.0\"><link rel=\"stylesheet\" type=\"text/css\" href=\"news.css?sOwA2w4A8zIV2E0prLby\">\n",
            "        <link rel=\"shortcut icon\" href=\"favicon.ico\">\n",
            "          <link rel=\"alternate\" type=\"application/rss+xml\" title=\"RSS\" href=\"rss\">\n",
            "        <title>Hacker News</title></head><body><center><table id=\"hnmain\" border=\"0\" cellpadding=\"0\" cellspacing=\"0\" width=\"85%\" bgcolor=\"#f6f6ef\">\n",
            "        <tr><td bgcolor=\"#ff6600\"><table border=\"0\" cellpadding=\"0\" cellspacing=\"0\" width=\"100%\" style=\"padding:2px\"><tr><td style=\"width:18px;padding-right:4px\"><a href=\"https://news.ycombinator.com\"><img src=\"y18.svg\" width=\"18\" height=\"18\" style=\"border:1px white solid; display:block\"></a></td>\n",
            "                  <td style=\"line-height:12pt; height:10px;\"><span class=\"pagetop\"><b class=\"hnname\"><a href=\"news\">Hacker News</a></b>\n",
            "                            <a href=\"newest\">new</a> | <a href=\"front\">past</a> | <a href=\"newcomments\">comments</a> | <a href=\"ask\">ask</a> | <a href=\"show\">show</a> | <a href=\"jobs\">jobs</a> | <a href=\"submit\">submit</a>            </span></td><td style=\"text-align:right;padding-right:4px;\"><span class=\"pagetop\">\n",
            "                              <a href=\"login?goto=news\">login</a>\n",
            "                          </span></td>\n",
            "              </tr></table></td></tr>\n",
            "<tr id=\"pagespace\" title=\"\" style=\"height:10px\"></tr><tr><td><table border=\"0\" cellpadding=\"0\" cellspacing=\"0\">\n",
            "            <tr class='athing' id='36457557'>\n",
            "      <td align=\"right\" valign=\"top\" class=\"title\"><span class=\"rank\">1.</span></td>      <td valign=\"top\" class=\"votelinks\"><center><a id='up_36457557'href='vote?id=36457557&amp;how=up&amp;goto=news'><div class='votearrow' title='upvote'></div></a></center></td><td class=\"title\"><span class=\"titleline\"><a href=\"https://alexharri.com/blog/typescript-structural-typing\" rel=\"noreferrer\">Why doesn&#x27;t TypeScript properly type Object.keys?</a><span class=\"sitebit comhead\"> (<a href=\"from?site=alexharri.com\"><span class=\"sitestr\">alexharri.com</span></a>)</span></span></td></tr><tr><td colspan=\"2\"></td><td class=\"subtext\"><span class=\"subline\">\n",
            "          <span class=\"score\" id=\"score_36457557\">37 points</span> by <a href=\"user?id=alexharri\" class=\"hnuser\">alexharri</a> <span class=\"age\" title=\"2023-06-24T11:06:37\"><a href=\"item?id=36457557\">1 hour ago</a></span> <span id=\"unv_36457557\"></span> | <a href=\"hide?id=36457557&amp;goto=news\">hide</a> | <a href=\"item?id=36457557\">9&nbsp;comments</a>        </span>\n",
            "              </td></tr>\n",
            "      <tr class=\"spacer\" style=\"height:5px\"></tr>\n",
            "                <tr class='athing' id='36453856'>\n",
            "      <td align=\"right\" valign=\"top\" class=\"title\"><span class=\"rank\">2.</span></td>      <td valign=\"top\" class=\"votelinks\"><center><a id='up_36453856'href='vote?id=36453856&amp;how=up&amp;goto=news'><div class='votearrow' title='upvote'></div></a></center></td><td class=\"title\"><span class=\"titleline\"><a href=\"https://novehiclesinthepark.com/\" rel=\"noreferrer\">The rule says, “No vehicles in the park”</a><span class=\"sitebit comhead\"> (<a href=\"from?site=novehiclesinthepark.com\"><span class=\"sitestr\">novehiclesinthepark.com</span></a>)</span></span></td></tr><tr><td colspan=\"2\"></td><td class=\"subtext\"><span class=\"subline\">\n",
            "          <span class=\"score\" id=\"score_36453856\">1087 points</span> by <a href=\"user?id=luu\" class=\"hnuser\">luu</a> <span class=\"age\" title=\"2023-06-23T23:57:49\"><a href=\"item?id=36453856\">12 hours ago</a></span> <span id=\"unv_36453856\"></span> | <a href=\"hide?id=36453856&amp;goto=news\">hide</a> | <a href=\"item?id=36453856\">806&nbsp;comments</a>        </span>\n",
            "              </td></tr>\n",
            "      <tr class=\"spacer\" style=\"height:5px\"></tr>\n",
            "                <tr class='athing' id='36457051'>\n",
            "      <td align=\"right\" valign=\"top\" class=\"title\"><span class=\"rank\">3.</span></td>      <td valign=\"top\" class=\"votelinks\"><center><a id='up_36457051'href='vote?id=36457051&amp;how=up&amp;goto=news'><div class='votearrow' title='upvote'></div></a></center></td><td class=\"title\"><span class=\"titleline\"><a href=\"https://www.cs.columbia.edu/~hgs/etc/writing-bugs.html\" rel=\"noreferrer\">Common Bugs in Writing</a><span class=\"sitebit comhead\"> (<a href=\"from?site=columbia.edu\"><span class=\"sitestr\">columbia.edu</span></a>)</span></span></td></tr><tr><td colspan=\"2\"></td><td class=\"subtext\"><span class=\"subline\">\n",
            "          <span class=\"score\" id=\"score_36457051\">57 points</span> by <a href=\"user?id=pablode\" class=\"hnuser\">pablode</a> <span class=\"age\" title=\"2023-06-24T09:25:33\"><a href=\"item?id=36457051\">2 hours ago</a></span> <span id=\"unv_36457051\"></span> | <a href=\"hide?id=36457051&amp;goto=news\">hide</a> | <a href=\"item?id=36457051\">20&nbsp;comments</a>        </span>\n",
            "              </td></tr>\n",
            "      <tr class=\"spacer\" style=\"height:5px\"></tr>\n",
            "                <tr class='athing' id='36449957'>\n",
            "      <td align=\"right\" valign=\"top\" class=\"title\"><span class=\"rank\">4.</span></td>      <td valign=\"top\" class=\"votelinks\"><center><a id='up_36449957'href='vote?id=36449957&amp;how=up&amp;goto=news'><div class='votearrow' title='upvote'></div></a></center></td><td class=\"title\"><span class=\"titleline\"><a href=\"https://memory-alpha.fandom.com/wiki/Rules_of_Acquisition\" rel=\"noreferrer\">Ferengi Rules of Acquisition</a><span class=\"sitebit comhead\"> (<a href=\"from?site=memory-alpha.fandom.com\"><span class=\"sitestr\">memory-alpha.fandom.com</span></a>)</span></span></td></tr><tr><td colspan=\"2\"></td><td class=\"subtext\"><span class=\"subline\">\n",
            "          <span class=\"score\" id=\"score_36449957\">27 points</span> by <a href=\"user?id=_Microft\" class=\"hnuser\">_Microft</a> <span class=\"age\" title=\"2023-06-23T17:38:39\"><a href=\"item?id=36449957\">2 hours ago</a></span> <span id=\"unv_36449957\"></span> | <a href=\"hide?id=36449957&amp;goto=news\">hide</a> | <a href=\"item?id=36449957\">14&nbsp;comments</a>        </span>\n",
            "              </td></tr>\n",
            "      <tr class=\"spacer\" style=\"height:5px\"></tr>\n",
            "                <tr class='athing' id='36457205'>\n",
            "      <td align=\"right\" valign=\"top\" class=\"title\"><span class=\"rank\">5.</span></td>      <td valign=\"top\" class=\"votelinks\"><center><a id='up_36457205'href='vote?id=36457205&amp;how=up&amp;goto=news'><div class='votearrow' title='upvote'></div></a></center></td><td class=\"title\"><span class=\"titleline\"><a href=\"https://www.stylemanual.gov.au/\" rel=\"noreferrer\">Australian Government Style Manual</a><span class=\"sitebit comhead\"> (<a href=\"from?site=stylemanual.gov.au\"><span class=\"sitestr\">stylemanual.gov.au</span></a>)</span></span></td></tr><tr><td colspan=\"2\"></td><td class=\"subtext\"><span class=\"subline\">\n",
            "          <span class=\"score\" id=\"score_36457205\">35 points</span> by <a href=\"user?id=kimburgess\" class=\"hnuser\">kimburgess</a> <span class=\"age\" title=\"2023-06-24T09:54:36\"><a href=\"item?id=36457205\">2 hours ago</a></span> <span id=\"unv_36457205\"></span> | <a href=\"hide?id=36457205&amp;goto=news\">hide</a> | <a href=\"item?id=36457205\">9&nbsp;comments</a>        </span>\n",
            "              </td></tr>\n",
            "      <tr class=\"spacer\" style=\"height:5px\"></tr>\n",
            "                <tr class='athing' id='36451907'>\n",
            "      <td align=\"right\" valign=\"top\" class=\"title\"><span class=\"rank\">6.</span></td>      <td valign=\"top\" class=\"votelinks\"><center><a id='up_36451907'href='vote?id=36451907&amp;how=up&amp;goto=news'><div class='votearrow' title='upvote'></div></a></center></td><td class=\"title\"><span class=\"titleline\"><a href=\"https://neugierig.org/software/blog/2023/06/twos-complement.html\" rel=\"noreferrer\">Finally getting two&#x27;s complement</a><span class=\"sitebit comhead\"> (<a href=\"from?site=neugierig.org\"><span class=\"sitestr\">neugierig.org</span></a>)</span></span></td></tr><tr><td colspan=\"2\"></td><td class=\"subtext\"><span class=\"subline\">\n",
            "          <span class=\"score\" id=\"score_36451907\">78 points</span> by <a href=\"user?id=thepbone\" class=\"hnuser\">thepbone</a> <span class=\"age\" title=\"2023-06-23T20:38:46\"><a href=\"item?id=36451907\">6 hours ago</a></span> <span id=\"unv_36451907\"></span> | <a href=\"hide?id=36451907&amp;goto=news\">hide</a> | <a href=\"item?id=36451907\">34&nbsp;comments</a>        </span>\n",
            "              </td></tr>\n",
            "      <tr class=\"spacer\" style=\"height:5px\"></tr>\n",
            "                <tr class='athing' id='36445690'>\n",
            "      <td align=\"right\" valign=\"top\" class=\"title\"><span class=\"rank\">7.</span></td>      <td valign=\"top\" class=\"votelinks\"><center><a id='up_36445690'href='vote?id=36445690&amp;how=up&amp;goto=news'><div class='votearrow' title='upvote'></div></a></center></td><td class=\"title\"><span class=\"titleline\"><a href=\"https://en.wikipedia.org/wiki/Sturddlefish\" rel=\"noreferrer\">Sturddlefish</a><span class=\"sitebit comhead\"> (<a href=\"from?site=wikipedia.org\"><span class=\"sitestr\">wikipedia.org</span></a>)</span></span></td></tr><tr><td colspan=\"2\"></td><td class=\"subtext\"><span class=\"subline\">\n",
            "          <span class=\"score\" id=\"score_36445690\">29 points</span> by <a href=\"user?id=isp\" class=\"hnuser\">isp</a> <span class=\"age\" title=\"2023-06-23T12:04:31\"><a href=\"item?id=36445690\">4 hours ago</a></span> <span id=\"unv_36445690\"></span> | <a href=\"hide?id=36445690&amp;goto=news\">hide</a> | <a href=\"item?id=36445690\">11&nbsp;comments</a>        </span>\n",
            "              </td></tr>\n",
            "      <tr class=\"spacer\" style=\"height:5px\"></tr>\n",
            "                <tr class='athing' id='36454783'>\n",
            "      <td align=\"right\" valign=\"top\" class=\"title\"><span class=\"rank\">8.</span></td>      <td valign=\"top\" class=\"votelinks\"><center><a id='up_36454783'href='vote?id=36454783&amp;how=up&amp;goto=news'><div class='votearrow' title='upvote'></div></a></center></td><td class=\"title\"><span class=\"titleline\"><a href=\"https://github.com/hwgilbert16/scholarsome\">An open source web-based flashcard studying system</a><span class=\"sitebit comhead\"> (<a href=\"from?site=github.com/hwgilbert16\"><span class=\"sitestr\">github.com/hwgilbert16</span></a>)</span></span></td></tr><tr><td colspan=\"2\"></td><td class=\"subtext\"><span class=\"subline\">\n",
            "          <span class=\"score\" id=\"score_36454783\">128 points</span> by <a href=\"user?id=hwgilbert16\" class=\"hnuser\">hwgilbert16</a> <span class=\"age\" title=\"2023-06-24T02:12:09\"><a href=\"item?id=36454783\">10 hours ago</a></span> <span id=\"unv_36454783\"></span> | <a href=\"hide?id=36454783&amp;goto=news\">hide</a> | <a href=\"item?id=36454783\">59&nbsp;comments</a>        </span>\n",
            "              </td></tr>\n",
            "      <tr class=\"spacer\" style=\"height:5px\"></tr>\n",
            "                <tr class='athing' id='36455843'>\n",
            "      <td align=\"right\" valign=\"top\" class=\"title\"><span class=\"rank\">9.</span></td>      <td valign=\"top\" class=\"votelinks\"><center><a id='up_36455843'href='vote?id=36455843&amp;how=up&amp;goto=news'><div class='votearrow' title='upvote'></div></a></center></td><td class=\"title\"><span class=\"titleline\"><a href=\"http://www.paulgraham.com/makersschedule.html\" rel=\"noreferrer\">Maker&#x27;s schedule, Manager&#x27;s schedule (2009)</a><span class=\"sitebit comhead\"> (<a href=\"from?site=paulgraham.com\"><span class=\"sitestr\">paulgraham.com</span></a>)</span></span></td></tr><tr><td colspan=\"2\"></td><td class=\"subtext\"><span class=\"subline\">\n",
            "          <span class=\"score\" id=\"score_36455843\">72 points</span> by <a href=\"user?id=mad2021\" class=\"hnuser\">mad2021</a> <span class=\"age\" title=\"2023-06-24T05:30:47\"><a href=\"item?id=36455843\">6 hours ago</a></span> <span id=\"unv_36455843\"></span> | <a href=\"hide?id=36455843&amp;goto=news\">hide</a> | <a href=\"item?id=36455843\">27&nbsp;comments</a>        </span>\n",
            "              </td></tr>\n",
            "      <tr class=\"spacer\" style=\"height:5px\"></tr>\n",
            "                <tr class='athing' id='36457435'>\n",
            "      <td align=\"right\" valign=\"top\" class=\"title\"><span class=\"rank\">10.</span></td>      <td valign=\"top\" class=\"votelinks\"><center><a id='up_36457435'href='vote?id=36457435&amp;how=up&amp;goto=news'><div class='votearrow' title='upvote'></div></a></center></td><td class=\"title\"><span class=\"titleline\"><a href=\"https://www.snprajwal.com/blog/keyboards-are-broken/\" rel=\"nofollow noreferrer\">Your keyboard layout is broken</a><span class=\"sitebit comhead\"> (<a href=\"from?site=snprajwal.com\"><span class=\"sitestr\">snprajwal.com</span></a>)</span></span></td></tr><tr><td colspan=\"2\"></td><td class=\"subtext\"><span class=\"subline\">\n",
            "          <span class=\"score\" id=\"score_36457435\">7 points</span> by <a href=\"user?id=snprajwal\" class=\"hnuser\">snprajwal</a> <span class=\"age\" title=\"2023-06-24T10:43:58\"><a href=\"item?id=36457435\">1 hour ago</a></span> <span id=\"unv_36457435\"></span> | <a href=\"hide?id=36457435&amp;goto=news\">hide</a> | <a href=\"item?id=36457435\">discuss</a>        </span>\n",
            "              </td></tr>\n",
            "      <tr class=\"spacer\" style=\"height:5px\"></tr>\n",
            "                <tr class='athing' id='36457286'>\n",
            "      <td align=\"right\" valign=\"top\" class=\"title\"><span class=\"rank\">11.</span></td>      <td valign=\"top\" class=\"votelinks\"><center><a id='up_36457286'href='vote?id=36457286&amp;how=up&amp;goto=news'><div class='votearrow' title='upvote'></div></a></center></td><td class=\"title\"><span class=\"titleline\"><a href=\"https://www.nature.com/articles/d41586-023-02120-8\" rel=\"noreferrer\">Decades-long bet on consciousness ends – it’s philosopher 1, neuroscientist 0</a><span class=\"sitebit comhead\"> (<a href=\"from?site=nature.com\"><span class=\"sitestr\">nature.com</span></a>)</span></span></td></tr><tr><td colspan=\"2\"></td><td class=\"subtext\"><span class=\"subline\">\n",
            "          <span class=\"score\" id=\"score_36457286\">66 points</span> by <a href=\"user?id=mellosouls\" class=\"hnuser\">mellosouls</a> <span class=\"age\" title=\"2023-06-24T10:12:37\"><a href=\"item?id=36457286\">2 hours ago</a></span> <span id=\"unv_36457286\"></span> | <a href=\"hide?id=36457286&amp;goto=news\">hide</a> | <a href=\"item?id=36457286\">83&nbsp;comments</a>        </span>\n",
            "              </td></tr>\n",
            "      <tr class=\"spacer\" style=\"height:5px\"></tr>\n",
            "                <tr class='athing' id='36457546'>\n",
            "      <td align=\"right\" valign=\"top\" class=\"title\"><span class=\"rank\">12.</span></td>      <td valign=\"top\" class=\"votelinks\"><center><a id='up_36457546'href='vote?id=36457546&amp;how=up&amp;goto=news'><div class='votearrow' title='upvote'></div></a></center></td><td class=\"title\"><span class=\"titleline\"><a href=\"https://github.com/pjakma/fopl\">Fully Open Public Licence</a><span class=\"sitebit comhead\"> (<a href=\"from?site=github.com/pjakma\"><span class=\"sitestr\">github.com/pjakma</span></a>)</span></span></td></tr><tr><td colspan=\"2\"></td><td class=\"subtext\"><span class=\"subline\">\n",
            "          <span class=\"score\" id=\"score_36457546\">3 points</span> by <a href=\"user?id=pabs3\" class=\"hnuser\">pabs3</a> <span class=\"age\" title=\"2023-06-24T11:05:02\"><a href=\"item?id=36457546\">1 hour ago</a></span> <span id=\"unv_36457546\"></span> | <a href=\"hide?id=36457546&amp;goto=news\">hide</a> | <a href=\"item?id=36457546\">discuss</a>        </span>\n",
            "              </td></tr>\n",
            "      <tr class=\"spacer\" style=\"height:5px\"></tr>\n",
            "                <tr class='athing' id='36450605'>\n",
            "      <td align=\"right\" valign=\"top\" class=\"title\"><span class=\"rank\">13.</span></td>      <td valign=\"top\" class=\"votelinks\"><center><a id='up_36450605'href='vote?id=36450605&amp;how=up&amp;goto=news'><div class='votearrow' title='upvote'></div></a></center></td><td class=\"title\"><span class=\"titleline\"><a href=\"https://thebolditalic.com/theres-an-exact-replica-of-san-francisco-in-japan-and-it-s-weird-b8566a747150\" rel=\"noreferrer\">There’s an exact replica of San Francisco in Japan</a><span class=\"sitebit comhead\"> (<a href=\"from?site=thebolditalic.com\"><span class=\"sitestr\">thebolditalic.com</span></a>)</span></span></td></tr><tr><td colspan=\"2\"></td><td class=\"subtext\"><span class=\"subline\">\n",
            "          <span class=\"score\" id=\"score_36450605\">29 points</span> by <a href=\"user?id=Brajeshwar\" class=\"hnuser\">Brajeshwar</a> <span class=\"age\" title=\"2023-06-23T18:34:19\"><a href=\"item?id=36450605\">5 hours ago</a></span> <span id=\"unv_36450605\"></span> | <a href=\"hide?id=36450605&amp;goto=news\">hide</a> | <a href=\"item?id=36450605\">19&nbsp;comments</a>        </span>\n",
            "              </td></tr>\n",
            "      <tr class=\"spacer\" style=\"height:5px\"></tr>\n",
            "                <tr class='athing' id='36453790'>\n",
            "      <td align=\"right\" valign=\"top\" class=\"title\"><span class=\"rank\">14.</span></td>      <td valign=\"top\" class=\"votelinks\"><center><a id='up_36453790'href='vote?id=36453790&amp;how=up&amp;goto=news'><div class='votearrow' title='upvote'></div></a></center></td><td class=\"title\"><span class=\"titleline\"><a href=\"https://johnnysswlab.com/make-your-programs-run-faster-by-better-using-the-data-cache/\" rel=\"noreferrer\">Make your programs run faster by better using the data cache (2020)</a><span class=\"sitebit comhead\"> (<a href=\"from?site=johnnysswlab.com\"><span class=\"sitestr\">johnnysswlab.com</span></a>)</span></span></td></tr><tr><td colspan=\"2\"></td><td class=\"subtext\"><span class=\"subline\">\n",
            "          <span class=\"score\" id=\"score_36453790\">102 points</span> by <a href=\"user?id=eatonphil\" class=\"hnuser\">eatonphil</a> <span class=\"age\" title=\"2023-06-23T23:50:36\"><a href=\"item?id=36453790\">11 hours ago</a></span> <span id=\"unv_36453790\"></span> | <a href=\"hide?id=36453790&amp;goto=news\">hide</a> | <a href=\"item?id=36453790\">47&nbsp;comments</a>        </span>\n",
            "              </td></tr>\n",
            "      <tr class=\"spacer\" style=\"height:5px\"></tr>\n",
            "                <tr class='athing' id='36454824'>\n",
            "      <td align=\"right\" valign=\"top\" class=\"title\"><span class=\"rank\">15.</span></td>      <td valign=\"top\" class=\"votelinks\"><center><a id='up_36454824'href='vote?id=36454824&amp;how=up&amp;goto=news'><div class='votearrow' title='upvote'></div></a></center></td><td class=\"title\"><span class=\"titleline\"><a href=\"https://www.startribune.com/anti-monopoly-mankato-landfill-board-game-history/600279625/\" rel=\"noreferrer\">Why thousands of board games are buried beneath Mankato</a><span class=\"sitebit comhead\"> (<a href=\"from?site=startribune.com\"><span class=\"sitestr\">startribune.com</span></a>)</span></span></td></tr><tr><td colspan=\"2\"></td><td class=\"subtext\"><span class=\"subline\">\n",
            "          <span class=\"score\" id=\"score_36454824\">72 points</span> by <a href=\"user?id=PaulHoule\" class=\"hnuser\">PaulHoule</a> <span class=\"age\" title=\"2023-06-24T02:20:25\"><a href=\"item?id=36454824\">9 hours ago</a></span> <span id=\"unv_36454824\"></span> | <a href=\"hide?id=36454824&amp;goto=news\">hide</a> | <a href=\"item?id=36454824\">17&nbsp;comments</a>        </span>\n",
            "              </td></tr>\n",
            "      <tr class=\"spacer\" style=\"height:5px\"></tr>\n",
            "                <tr class='athing' id='36451924'>\n",
            "      <td align=\"right\" valign=\"top\" class=\"title\"><span class=\"rank\">16.</span></td>      <td valign=\"top\" class=\"votelinks\"><center><a id='up_36451924'href='vote?id=36451924&amp;how=up&amp;goto=news'><div class='votearrow' title='upvote'></div></a></center></td><td class=\"title\"><span class=\"titleline\"><a href=\"https://www.u-tokyo.ac.jp/focus/en/press/z0508_00289.html\" rel=\"noreferrer\">The evolution of honey bee brains</a><span class=\"sitebit comhead\"> (<a href=\"from?site=u-tokyo.ac.jp\"><span class=\"sitestr\">u-tokyo.ac.jp</span></a>)</span></span></td></tr><tr><td colspan=\"2\"></td><td class=\"subtext\"><span class=\"subline\">\n",
            "          <span class=\"score\" id=\"score_36451924\">12 points</span> by <a href=\"user?id=rustoo\" class=\"hnuser\">rustoo</a> <span class=\"age\" title=\"2023-06-23T20:40:03\"><a href=\"item?id=36451924\">4 hours ago</a></span> <span id=\"unv_36451924\"></span> | <a href=\"hide?id=36451924&amp;goto=news\">hide</a> | <a href=\"item?id=36451924\">discuss</a>        </span>\n",
            "              </td></tr>\n",
            "      <tr class=\"spacer\" style=\"height:5px\"></tr>\n",
            "                <tr class='athing' id='36454895'>\n",
            "      <td align=\"right\" valign=\"top\" class=\"title\"><span class=\"rank\">17.</span></td>      <td valign=\"top\" class=\"votelinks\"><center><a id='up_36454895'href='vote?id=36454895&amp;how=up&amp;goto=news'><div class='votearrow' title='upvote'></div></a></center></td><td class=\"title\"><span class=\"titleline\"><a href=\"https://utcc.utoronto.ca/~cks/space/blog/programming/Go121ToolchainDownloads\" rel=\"noreferrer\">Go 1.21 will (probably) download newer toolchains on demand by default</a><span class=\"sitebit comhead\"> (<a href=\"from?site=utoronto.ca\"><span class=\"sitestr\">utoronto.ca</span></a>)</span></span></td></tr><tr><td colspan=\"2\"></td><td class=\"subtext\"><span class=\"subline\">\n",
            "          <span class=\"score\" id=\"score_36454895\">94 points</span> by <a href=\"user?id=todsacerdoti\" class=\"hnuser\">todsacerdoti</a> <span class=\"age\" title=\"2023-06-24T02:33:08\"><a href=\"item?id=36454895\">9 hours ago</a></span> <span id=\"unv_36454895\"></span> | <a href=\"hide?id=36454895&amp;goto=news\">hide</a> | <a href=\"item?id=36454895\">61&nbsp;comments</a>        </span>\n",
            "              </td></tr>\n",
            "      <tr class=\"spacer\" style=\"height:5px\"></tr>\n",
            "                <tr class='athing' id='36443020'>\n",
            "      <td align=\"right\" valign=\"top\" class=\"title\"><span class=\"rank\">18.</span></td>      <td valign=\"top\" class=\"votelinks\"><center><a id='up_36443020'href='vote?id=36443020&amp;how=up&amp;goto=news'><div class='votearrow' title='upvote'></div></a></center></td><td class=\"title\"><span class=\"titleline\"><a href=\"https://www.theguardian.com/books/2023/jun/22/the-diary-of-virginia-woolf-review-a-book-for-the-ages\" rel=\"noreferrer\">The Diary of Virginia Woolf review – a book for the ages</a><span class=\"sitebit comhead\"> (<a href=\"from?site=theguardian.com\"><span class=\"sitestr\">theguardian.com</span></a>)</span></span></td></tr><tr><td colspan=\"2\"></td><td class=\"subtext\"><span class=\"subline\">\n",
            "          <span class=\"score\" id=\"score_36443020\">22 points</span> by <a href=\"user?id=Caiero\" class=\"hnuser\">Caiero</a> <span class=\"age\" title=\"2023-06-23T05:07:44\"><a href=\"item?id=36443020\">6 hours ago</a></span> <span id=\"unv_36443020\"></span> | <a href=\"hide?id=36443020&amp;goto=news\">hide</a> | <a href=\"item?id=36443020\">1&nbsp;comment</a>        </span>\n",
            "              </td></tr>\n",
            "      <tr class=\"spacer\" style=\"height:5px\"></tr>\n",
            "                <tr class='athing' id='36455697'>\n",
            "      <td align=\"right\" valign=\"top\" class=\"title\"><span class=\"rank\">19.</span></td>      <td valign=\"top\" class=\"votelinks\"><center><a id='up_36455697'href='vote?id=36455697&amp;how=up&amp;goto=news'><div class='votearrow' title='upvote'></div></a></center></td><td class=\"title\"><span class=\"titleline\"><a href=\"https://collabfund.com/blog/how-this-all-happened/\" rel=\"noreferrer\">History is just one damn thing after another</a><span class=\"sitebit comhead\"> (<a href=\"from?site=collabfund.com\"><span class=\"sitestr\">collabfund.com</span></a>)</span></span></td></tr><tr><td colspan=\"2\"></td><td class=\"subtext\"><span class=\"subline\">\n",
            "          <span class=\"score\" id=\"score_36455697\">48 points</span> by <a href=\"user?id=prakhar897\" class=\"hnuser\">prakhar897</a> <span class=\"age\" title=\"2023-06-24T04:56:24\"><a href=\"item?id=36455697\">7 hours ago</a></span> <span id=\"unv_36455697\"></span> | <a href=\"hide?id=36455697&amp;goto=news\">hide</a> | <a href=\"item?id=36455697\">8&nbsp;comments</a>        </span>\n",
            "              </td></tr>\n",
            "      <tr class=\"spacer\" style=\"height:5px\"></tr>\n",
            "                <tr class='athing' id='36453810'>\n",
            "      <td align=\"right\" valign=\"top\" class=\"title\"><span class=\"rank\">20.</span></td>      <td valign=\"top\" class=\"votelinks\"><center><a id='up_36453810'href='vote?id=36453810&amp;how=up&amp;goto=news'><div class='votearrow' title='upvote'></div></a></center></td><td class=\"title\"><span class=\"titleline\"><a href=\"https://lupyuen.codeberg.page/articles/riscv.html\" rel=\"noreferrer\">64-Bit RISC-V with Apache NuttX Real-Time Operating System</a><span class=\"sitebit comhead\"> (<a href=\"from?site=codeberg.page\"><span class=\"sitestr\">codeberg.page</span></a>)</span></span></td></tr><tr><td colspan=\"2\"></td><td class=\"subtext\"><span class=\"subline\">\n",
            "          <span class=\"score\" id=\"score_36453810\">74 points</span> by <a href=\"user?id=lupyuen\" class=\"hnuser\">lupyuen</a> <span class=\"age\" title=\"2023-06-23T23:53:04\"><a href=\"item?id=36453810\">12 hours ago</a></span> <span id=\"unv_36453810\"></span> | <a href=\"hide?id=36453810&amp;goto=news\">hide</a> | <a href=\"item?id=36453810\">13&nbsp;comments</a>        </span>\n",
            "              </td></tr>\n",
            "      <tr class=\"spacer\" style=\"height:5px\"></tr>\n",
            "                <tr class='athing' id='36452322'>\n",
            "      <td align=\"right\" valign=\"top\" class=\"title\"><span class=\"rank\">21.</span></td>      <td valign=\"top\" class=\"votelinks\"><center><a id='up_36452322'href='vote?id=36452322&amp;how=up&amp;goto=news'><div class='votearrow' title='upvote'></div></a></center></td><td class=\"title\"><span class=\"titleline\"><a href=\"https://www.bleepingcomputer.com/news/security/millions-of-github-repos-likely-vulnerable-to-repojacking-researchers-say/\" rel=\"noreferrer\">Millions of GitHub repos likely vulnerable to RepoJacking, researchers say</a><span class=\"sitebit comhead\"> (<a href=\"from?site=bleepingcomputer.com\"><span class=\"sitestr\">bleepingcomputer.com</span></a>)</span></span></td></tr><tr><td colspan=\"2\"></td><td class=\"subtext\"><span class=\"subline\">\n",
            "          <span class=\"score\" id=\"score_36452322\">115 points</span> by <a href=\"user?id=pyeri\" class=\"hnuser\">pyeri</a> <span class=\"age\" title=\"2023-06-23T21:22:09\"><a href=\"item?id=36452322\">14 hours ago</a></span> <span id=\"unv_36452322\"></span> | <a href=\"hide?id=36452322&amp;goto=news\">hide</a> | <a href=\"item?id=36452322\">45&nbsp;comments</a>        </span>\n",
            "              </td></tr>\n",
            "      <tr class=\"spacer\" style=\"height:5px\"></tr>\n",
            "                <tr class='athing' id='36455627'>\n",
            "      <td align=\"right\" valign=\"top\" class=\"title\"><span class=\"rank\">22.</span></td>      <td valign=\"top\" class=\"votelinks\"><center><a id='up_36455627'href='vote?id=36455627&amp;how=up&amp;goto=news'><div class='votearrow' title='upvote'></div></a></center></td><td class=\"title\"><span class=\"titleline\"><a href=\"https://fosstodon.org/@gabrielesvelto/110592904713090347\" rel=\"noreferrer\">A large crash spike affecting Firefox users on Linux</a><span class=\"sitebit comhead\"> (<a href=\"from?site=fosstodon.org\"><span class=\"sitestr\">fosstodon.org</span></a>)</span></span></td></tr><tr><td colspan=\"2\"></td><td class=\"subtext\"><span class=\"subline\">\n",
            "          <span class=\"score\" id=\"score_36455627\">144 points</span> by <a href=\"user?id=sohkamyung\" class=\"hnuser\">sohkamyung</a> <span class=\"age\" title=\"2023-06-24T04:37:39\"><a href=\"item?id=36455627\">7 hours ago</a></span> <span id=\"unv_36455627\"></span> | <a href=\"hide?id=36455627&amp;goto=news\">hide</a> | <a href=\"item?id=36455627\">47&nbsp;comments</a>        </span>\n",
            "              </td></tr>\n",
            "      <tr class=\"spacer\" style=\"height:5px\"></tr>\n",
            "                <tr class='athing' id='36455794'>\n",
            "      <td align=\"right\" valign=\"top\" class=\"title\"><span class=\"rank\">23.</span></td>      <td valign=\"top\" class=\"votelinks\"><center><a id='up_36455794'href='vote?id=36455794&amp;how=up&amp;goto=news'><div class='votearrow' title='upvote'></div></a></center></td><td class=\"title\"><span class=\"titleline\"><a href=\"https://caseymuratori.com/blog_0015\" rel=\"noreferrer\">How to write good code easily with semantic compression</a><span class=\"sitebit comhead\"> (<a href=\"from?site=caseymuratori.com\"><span class=\"sitestr\">caseymuratori.com</span></a>)</span></span></td></tr><tr><td colspan=\"2\"></td><td class=\"subtext\"><span class=\"subline\">\n",
            "          <span class=\"score\" id=\"score_36455794\">20 points</span> by <a href=\"user?id=noob_eng\" class=\"hnuser\">noob_eng</a> <span class=\"age\" title=\"2023-06-24T05:16:09\"><a href=\"item?id=36455794\">7 hours ago</a></span> <span id=\"unv_36455794\"></span> | <a href=\"hide?id=36455794&amp;goto=news\">hide</a> | <a href=\"item?id=36455794\">9&nbsp;comments</a>        </span>\n",
            "              </td></tr>\n",
            "      <tr class=\"spacer\" style=\"height:5px\"></tr>\n",
            "                <tr class='athing' id='36454556'>\n",
            "      <td align=\"right\" valign=\"top\" class=\"title\"><span class=\"rank\">24.</span></td>      <td valign=\"top\" class=\"votelinks\"><center><a id='up_36454556'href='vote?id=36454556&amp;how=up&amp;goto=news'><div class='votearrow' title='upvote'></div></a></center></td><td class=\"title\"><span class=\"titleline\"><a href=\"https://nibblestew.blogspot.com/2023/06/pdf-subpage-navigation.html\" rel=\"noreferrer\">PDF Subpage Navigation</a><span class=\"sitebit comhead\"> (<a href=\"from?site=nibblestew.blogspot.com\"><span class=\"sitestr\">nibblestew.blogspot.com</span></a>)</span></span></td></tr><tr><td colspan=\"2\"></td><td class=\"subtext\"><span class=\"subline\">\n",
            "          <span class=\"score\" id=\"score_36454556\">51 points</span> by <a href=\"user?id=ingve\" class=\"hnuser\">ingve</a> <span class=\"age\" title=\"2023-06-24T01:34:35\"><a href=\"item?id=36454556\">10 hours ago</a></span> <span id=\"unv_36454556\"></span> | <a href=\"hide?id=36454556&amp;goto=news\">hide</a> | <a href=\"item?id=36454556\">10&nbsp;comments</a>        </span>\n",
            "              </td></tr>\n",
            "      <tr class=\"spacer\" style=\"height:5px\"></tr>\n",
            "                <tr class='athing' id='36447566'>\n",
            "      <td align=\"right\" valign=\"top\" class=\"title\"><span class=\"rank\">25.</span></td>      <td valign=\"top\" class=\"votelinks\"><center><a id='up_36447566'href='vote?id=36447566&amp;how=up&amp;goto=news'><div class='votearrow' title='upvote'></div></a></center></td><td class=\"title\"><span class=\"titleline\"><a href=\"https://spectrum.ieee.org/iron-fuel\" rel=\"noreferrer\">Iron fuel shows its mettle</a><span class=\"sitebit comhead\"> (<a href=\"from?site=ieee.org\"><span class=\"sitestr\">ieee.org</span></a>)</span></span></td></tr><tr><td colspan=\"2\"></td><td class=\"subtext\"><span class=\"subline\">\n",
            "          <span class=\"score\" id=\"score_36447566\">158 points</span> by <a href=\"user?id=mfiguiere\" class=\"hnuser\">mfiguiere</a> <span class=\"age\" title=\"2023-06-23T14:48:54\"><a href=\"item?id=36447566\">21 hours ago</a></span> <span id=\"unv_36447566\"></span> | <a href=\"hide?id=36447566&amp;goto=news\">hide</a> | <a href=\"item?id=36447566\">191&nbsp;comments</a>        </span>\n",
            "              </td></tr>\n",
            "      <tr class=\"spacer\" style=\"height:5px\"></tr>\n",
            "                <tr class='athing' id='36456887'>\n",
            "      <td align=\"right\" valign=\"top\" class=\"title\"><span class=\"rank\">26.</span></td>      <td valign=\"top\" class=\"votelinks\"><center><a id='up_36456887'href='vote?id=36456887&amp;how=up&amp;goto=news'><div class='votearrow' title='upvote'></div></a></center></td><td class=\"title\"><span class=\"titleline\"><a href=\"https://undeadly.org/cgi?action=article;sid=20230624054334\" rel=\"noreferrer\">OpenBSD: Game of Trees 0.90 Released</a><span class=\"sitebit comhead\"> (<a href=\"from?site=undeadly.org\"><span class=\"sitestr\">undeadly.org</span></a>)</span></span></td></tr><tr><td colspan=\"2\"></td><td class=\"subtext\"><span class=\"subline\">\n",
            "          <span class=\"score\" id=\"score_36456887\">24 points</span> by <a href=\"user?id=peter_hansteen\" class=\"hnuser\">peter_hansteen</a> <span class=\"age\" title=\"2023-06-24T09:00:49\"><a href=\"item?id=36456887\">3 hours ago</a></span> <span id=\"unv_36456887\"></span> | <a href=\"hide?id=36456887&amp;goto=news\">hide</a> | <a href=\"item?id=36456887\">2&nbsp;comments</a>        </span>\n",
            "              </td></tr>\n",
            "      <tr class=\"spacer\" style=\"height:5px\"></tr>\n",
            "                <tr class='athing' id='36448686'>\n",
            "      <td align=\"right\" valign=\"top\" class=\"title\"><span class=\"rank\">27.</span></td>      <td valign=\"top\" class=\"votelinks\"><center><a id='up_36448686'href='vote?id=36448686&amp;how=up&amp;goto=news'><div class='votearrow' title='upvote'></div></a></center></td><td class=\"title\"><span class=\"titleline\"><a href=\"https://github.com/axllent/mailpit\">Mailpit – An email and SMTP testing tool with API</a><span class=\"sitebit comhead\"> (<a href=\"from?site=github.com/axllent\"><span class=\"sitestr\">github.com/axllent</span></a>)</span></span></td></tr><tr><td colspan=\"2\"></td><td class=\"subtext\"><span class=\"subline\">\n",
            "          <span class=\"score\" id=\"score_36448686\">101 points</span> by <a href=\"user?id=qa-guy\" class=\"hnuser\">qa-guy</a> <span class=\"age\" title=\"2023-06-23T15:59:56\"><a href=\"item?id=36448686\">14 hours ago</a></span> <span id=\"unv_36448686\"></span> | <a href=\"hide?id=36448686&amp;goto=news\">hide</a> | <a href=\"item?id=36448686\">19&nbsp;comments</a>        </span>\n",
            "              </td></tr>\n",
            "      <tr class=\"spacer\" style=\"height:5px\"></tr>\n",
            "                <tr class='athing' id='36454327'>\n",
            "      <td align=\"right\" valign=\"top\" class=\"title\"><span class=\"rank\">28.</span></td>      <td><img src=\"s.gif\" height=\"1\" width=\"14\"></td>       <td class=\"title\"><span class=\"titleline\"><a href=\"https://www.ycombinator.com/companies/doctor-droid/jobs/euNMtT4-senior-backend-7-yrs\">Doctor Droid (YC W23) Is Hiring Back End Engineer (7 Years Exp)</a><span class=\"sitebit comhead\"> (<a href=\"from?site=ycombinator.com\"><span class=\"sitestr\">ycombinator.com</span></a>)</span></span></td></tr><tr><td colspan=\"2\"></td><td class=\"subtext\">\n",
            "        <span class=\"age\" title=\"2023-06-24T01:00:40\"><a href=\"item?id=36454327\">11 hours ago</a></span> | <a href=\"hide?id=36454327&amp;goto=news\">hide</a>      </td></tr>\n",
            "      <tr class=\"spacer\" style=\"height:5px\"></tr>\n",
            "                <tr class='athing' id='36457347'>\n",
            "      <td align=\"right\" valign=\"top\" class=\"title\"><span class=\"rank\">29.</span></td>      <td valign=\"top\" class=\"votelinks\"><center><a id='up_36457347'href='vote?id=36457347&amp;how=up&amp;goto=news'><div class='votearrow' title='upvote'></div></a></center></td><td class=\"title\"><span class=\"titleline\"><a href=\"https://www.phoronix.com/news/GCC-Lands-Std-CPP26-GNU26\" rel=\"noreferrer\">GCC 14 Adds Initial “-std=C++26” Plumbing</a><span class=\"sitebit comhead\"> (<a href=\"from?site=phoronix.com\"><span class=\"sitestr\">phoronix.com</span></a>)</span></span></td></tr><tr><td colspan=\"2\"></td><td class=\"subtext\"><span class=\"subline\">\n",
            "          <span class=\"score\" id=\"score_36457347\">9 points</span> by <a href=\"user?id=mfiguiere\" class=\"hnuser\">mfiguiere</a> <span class=\"age\" title=\"2023-06-24T10:27:37\"><a href=\"item?id=36457347\">1 hour ago</a></span> <span id=\"unv_36457347\"></span> | <a href=\"hide?id=36457347&amp;goto=news\">hide</a> | <a href=\"item?id=36457347\">discuss</a>        </span>\n",
            "              </td></tr>\n",
            "      <tr class=\"spacer\" style=\"height:5px\"></tr>\n",
            "                <tr class='athing' id='36449072'>\n",
            "      <td align=\"right\" valign=\"top\" class=\"title\"><span class=\"rank\">30.</span></td>      <td valign=\"top\" class=\"votelinks\"><center><a id='up_36449072'href='vote?id=36449072&amp;how=up&amp;goto=news'><div class='votearrow' title='upvote'></div></a></center></td><td class=\"title\"><span class=\"titleline\"><a href=\"https://colorandcontrast.com/\" rel=\"noreferrer\">An interactive guide to color and contrast</a><span class=\"sitebit comhead\"> (<a href=\"from?site=colorandcontrast.com\"><span class=\"sitestr\">colorandcontrast.com</span></a>)</span></span></td></tr><tr><td colspan=\"2\"></td><td class=\"subtext\"><span class=\"subline\">\n",
            "          <span class=\"score\" id=\"score_36449072\">60 points</span> by <a href=\"user?id=warrenm\" class=\"hnuser\">warrenm</a> <span class=\"age\" title=\"2023-06-23T16:25:28\"><a href=\"item?id=36449072\">13 hours ago</a></span> <span id=\"unv_36449072\"></span> | <a href=\"hide?id=36449072&amp;goto=news\">hide</a> | <a href=\"item?id=36449072\">6&nbsp;comments</a>        </span>\n",
            "              </td></tr>\n",
            "      <tr class=\"spacer\" style=\"height:5px\"></tr>\n",
            "            <tr class=\"morespace\" style=\"height:10px\"></tr><tr><td colspan=\"2\"></td>\n",
            "      <td class='title'><a href='?p=2' class='morelink' rel='next'>More</a></td>    </tr>\n",
            "  </table>\n",
            "</td></tr>\n",
            "<tr><td><img src=\"s.gif\" height=\"10\" width=\"0\"><table width=\"100%\" cellspacing=\"0\" cellpadding=\"1\"><tr><td bgcolor=\"#ff6600\"></td></tr></table><br>\n",
            "<center><span class=\"yclinks\"><a href=\"newsguidelines.html\">Guidelines</a> | <a href=\"newsfaq.html\">FAQ</a> | <a href=\"lists\">Lists</a> | <a href=\"https://github.com/HackerNews/API\">API</a> | <a href=\"security.html\">Security</a> | <a href=\"https://www.ycombinator.com/legal/\">Legal</a> | <a href=\"https://www.ycombinator.com/apply/\">Apply to YC</a> | <a href=\"mailto:hn@ycombinator.com\">Contact</a></span><br><br>\n",
            "<form method=\"get\" action=\"//hn.algolia.com/\">Search: <input type=\"text\" name=\"q\" size=\"17\" autocorrect=\"off\" spellcheck=\"false\" autocapitalize=\"off\" autocomplete=\"false\"></form></center></td></tr>      </table></center></body>\n",
            "      <script type='text/javascript' src='hn.js?sOwA2w4A8zIV2E0prLby'></script>\n",
            "  </html>\n",
            "\n"
          ]
        }
      ]
    },
    {
      "cell_type": "markdown",
      "source": [
        "## **Using BeautifulSoup**"
      ],
      "metadata": {
        "id": "1XN9fpu4Lmvy"
      }
    },
    {
      "cell_type": "code",
      "source": [
        "soup = BeautifulSoup(res.text, 'html.parser')\n",
        "print(soup)"
      ],
      "metadata": {
        "colab": {
          "base_uri": "https://localhost:8080/"
        },
        "id": "PT8m720bLblL",
        "outputId": "2f79f2e6-6a20-48bb-aad8-bfa7313c9b4f"
      },
      "execution_count": 4,
      "outputs": [
        {
          "output_type": "stream",
          "name": "stdout",
          "text": [
            "<html lang=\"en\" op=\"news\"><head><meta content=\"origin\" name=\"referrer\"/><meta content=\"width=device-width, initial-scale=1.0\" name=\"viewport\"/><link href=\"news.css?sOwA2w4A8zIV2E0prLby\" rel=\"stylesheet\" type=\"text/css\"/>\n",
            "<link href=\"favicon.ico\" rel=\"shortcut icon\"/>\n",
            "<link href=\"rss\" rel=\"alternate\" title=\"RSS\" type=\"application/rss+xml\"/>\n",
            "<title>Hacker News</title></head><body><center><table bgcolor=\"#f6f6ef\" border=\"0\" cellpadding=\"0\" cellspacing=\"0\" id=\"hnmain\" width=\"85%\">\n",
            "<tr><td bgcolor=\"#ff6600\"><table border=\"0\" cellpadding=\"0\" cellspacing=\"0\" style=\"padding:2px\" width=\"100%\"><tr><td style=\"width:18px;padding-right:4px\"><a href=\"https://news.ycombinator.com\"><img height=\"18\" src=\"y18.svg\" style=\"border:1px white solid; display:block\" width=\"18\"/></a></td>\n",
            "<td style=\"line-height:12pt; height:10px;\"><span class=\"pagetop\"><b class=\"hnname\"><a href=\"news\">Hacker News</a></b>\n",
            "<a href=\"newest\">new</a> | <a href=\"front\">past</a> | <a href=\"newcomments\">comments</a> | <a href=\"ask\">ask</a> | <a href=\"show\">show</a> | <a href=\"jobs\">jobs</a> | <a href=\"submit\">submit</a> </span></td><td style=\"text-align:right;padding-right:4px;\"><span class=\"pagetop\">\n",
            "<a href=\"login?goto=news\">login</a>\n",
            "</span></td>\n",
            "</tr></table></td></tr>\n",
            "<tr id=\"pagespace\" style=\"height:10px\" title=\"\"></tr><tr><td><table border=\"0\" cellpadding=\"0\" cellspacing=\"0\">\n",
            "<tr class=\"athing\" id=\"36457557\">\n",
            "<td align=\"right\" class=\"title\" valign=\"top\"><span class=\"rank\">1.</span></td> <td class=\"votelinks\" valign=\"top\"><center><a href=\"vote?id=36457557&amp;how=up&amp;goto=news\" id=\"up_36457557\"><div class=\"votearrow\" title=\"upvote\"></div></a></center></td><td class=\"title\"><span class=\"titleline\"><a href=\"https://alexharri.com/blog/typescript-structural-typing\" rel=\"noreferrer\">Why doesn't TypeScript properly type Object.keys?</a><span class=\"sitebit comhead\"> (<a href=\"from?site=alexharri.com\"><span class=\"sitestr\">alexharri.com</span></a>)</span></span></td></tr><tr><td colspan=\"2\"></td><td class=\"subtext\"><span class=\"subline\">\n",
            "<span class=\"score\" id=\"score_36457557\">37 points</span> by <a class=\"hnuser\" href=\"user?id=alexharri\">alexharri</a> <span class=\"age\" title=\"2023-06-24T11:06:37\"><a href=\"item?id=36457557\">1 hour ago</a></span> <span id=\"unv_36457557\"></span> | <a href=\"hide?id=36457557&amp;goto=news\">hide</a> | <a href=\"item?id=36457557\">9 comments</a> </span>\n",
            "</td></tr>\n",
            "<tr class=\"spacer\" style=\"height:5px\"></tr>\n",
            "<tr class=\"athing\" id=\"36453856\">\n",
            "<td align=\"right\" class=\"title\" valign=\"top\"><span class=\"rank\">2.</span></td> <td class=\"votelinks\" valign=\"top\"><center><a href=\"vote?id=36453856&amp;how=up&amp;goto=news\" id=\"up_36453856\"><div class=\"votearrow\" title=\"upvote\"></div></a></center></td><td class=\"title\"><span class=\"titleline\"><a href=\"https://novehiclesinthepark.com/\" rel=\"noreferrer\">The rule says, “No vehicles in the park”</a><span class=\"sitebit comhead\"> (<a href=\"from?site=novehiclesinthepark.com\"><span class=\"sitestr\">novehiclesinthepark.com</span></a>)</span></span></td></tr><tr><td colspan=\"2\"></td><td class=\"subtext\"><span class=\"subline\">\n",
            "<span class=\"score\" id=\"score_36453856\">1087 points</span> by <a class=\"hnuser\" href=\"user?id=luu\">luu</a> <span class=\"age\" title=\"2023-06-23T23:57:49\"><a href=\"item?id=36453856\">12 hours ago</a></span> <span id=\"unv_36453856\"></span> | <a href=\"hide?id=36453856&amp;goto=news\">hide</a> | <a href=\"item?id=36453856\">806 comments</a> </span>\n",
            "</td></tr>\n",
            "<tr class=\"spacer\" style=\"height:5px\"></tr>\n",
            "<tr class=\"athing\" id=\"36457051\">\n",
            "<td align=\"right\" class=\"title\" valign=\"top\"><span class=\"rank\">3.</span></td> <td class=\"votelinks\" valign=\"top\"><center><a href=\"vote?id=36457051&amp;how=up&amp;goto=news\" id=\"up_36457051\"><div class=\"votearrow\" title=\"upvote\"></div></a></center></td><td class=\"title\"><span class=\"titleline\"><a href=\"https://www.cs.columbia.edu/~hgs/etc/writing-bugs.html\" rel=\"noreferrer\">Common Bugs in Writing</a><span class=\"sitebit comhead\"> (<a href=\"from?site=columbia.edu\"><span class=\"sitestr\">columbia.edu</span></a>)</span></span></td></tr><tr><td colspan=\"2\"></td><td class=\"subtext\"><span class=\"subline\">\n",
            "<span class=\"score\" id=\"score_36457051\">57 points</span> by <a class=\"hnuser\" href=\"user?id=pablode\">pablode</a> <span class=\"age\" title=\"2023-06-24T09:25:33\"><a href=\"item?id=36457051\">2 hours ago</a></span> <span id=\"unv_36457051\"></span> | <a href=\"hide?id=36457051&amp;goto=news\">hide</a> | <a href=\"item?id=36457051\">20 comments</a> </span>\n",
            "</td></tr>\n",
            "<tr class=\"spacer\" style=\"height:5px\"></tr>\n",
            "<tr class=\"athing\" id=\"36449957\">\n",
            "<td align=\"right\" class=\"title\" valign=\"top\"><span class=\"rank\">4.</span></td> <td class=\"votelinks\" valign=\"top\"><center><a href=\"vote?id=36449957&amp;how=up&amp;goto=news\" id=\"up_36449957\"><div class=\"votearrow\" title=\"upvote\"></div></a></center></td><td class=\"title\"><span class=\"titleline\"><a href=\"https://memory-alpha.fandom.com/wiki/Rules_of_Acquisition\" rel=\"noreferrer\">Ferengi Rules of Acquisition</a><span class=\"sitebit comhead\"> (<a href=\"from?site=memory-alpha.fandom.com\"><span class=\"sitestr\">memory-alpha.fandom.com</span></a>)</span></span></td></tr><tr><td colspan=\"2\"></td><td class=\"subtext\"><span class=\"subline\">\n",
            "<span class=\"score\" id=\"score_36449957\">27 points</span> by <a class=\"hnuser\" href=\"user?id=_Microft\">_Microft</a> <span class=\"age\" title=\"2023-06-23T17:38:39\"><a href=\"item?id=36449957\">2 hours ago</a></span> <span id=\"unv_36449957\"></span> | <a href=\"hide?id=36449957&amp;goto=news\">hide</a> | <a href=\"item?id=36449957\">14 comments</a> </span>\n",
            "</td></tr>\n",
            "<tr class=\"spacer\" style=\"height:5px\"></tr>\n",
            "<tr class=\"athing\" id=\"36457205\">\n",
            "<td align=\"right\" class=\"title\" valign=\"top\"><span class=\"rank\">5.</span></td> <td class=\"votelinks\" valign=\"top\"><center><a href=\"vote?id=36457205&amp;how=up&amp;goto=news\" id=\"up_36457205\"><div class=\"votearrow\" title=\"upvote\"></div></a></center></td><td class=\"title\"><span class=\"titleline\"><a href=\"https://www.stylemanual.gov.au/\" rel=\"noreferrer\">Australian Government Style Manual</a><span class=\"sitebit comhead\"> (<a href=\"from?site=stylemanual.gov.au\"><span class=\"sitestr\">stylemanual.gov.au</span></a>)</span></span></td></tr><tr><td colspan=\"2\"></td><td class=\"subtext\"><span class=\"subline\">\n",
            "<span class=\"score\" id=\"score_36457205\">35 points</span> by <a class=\"hnuser\" href=\"user?id=kimburgess\">kimburgess</a> <span class=\"age\" title=\"2023-06-24T09:54:36\"><a href=\"item?id=36457205\">2 hours ago</a></span> <span id=\"unv_36457205\"></span> | <a href=\"hide?id=36457205&amp;goto=news\">hide</a> | <a href=\"item?id=36457205\">9 comments</a> </span>\n",
            "</td></tr>\n",
            "<tr class=\"spacer\" style=\"height:5px\"></tr>\n",
            "<tr class=\"athing\" id=\"36451907\">\n",
            "<td align=\"right\" class=\"title\" valign=\"top\"><span class=\"rank\">6.</span></td> <td class=\"votelinks\" valign=\"top\"><center><a href=\"vote?id=36451907&amp;how=up&amp;goto=news\" id=\"up_36451907\"><div class=\"votearrow\" title=\"upvote\"></div></a></center></td><td class=\"title\"><span class=\"titleline\"><a href=\"https://neugierig.org/software/blog/2023/06/twos-complement.html\" rel=\"noreferrer\">Finally getting two's complement</a><span class=\"sitebit comhead\"> (<a href=\"from?site=neugierig.org\"><span class=\"sitestr\">neugierig.org</span></a>)</span></span></td></tr><tr><td colspan=\"2\"></td><td class=\"subtext\"><span class=\"subline\">\n",
            "<span class=\"score\" id=\"score_36451907\">78 points</span> by <a class=\"hnuser\" href=\"user?id=thepbone\">thepbone</a> <span class=\"age\" title=\"2023-06-23T20:38:46\"><a href=\"item?id=36451907\">6 hours ago</a></span> <span id=\"unv_36451907\"></span> | <a href=\"hide?id=36451907&amp;goto=news\">hide</a> | <a href=\"item?id=36451907\">34 comments</a> </span>\n",
            "</td></tr>\n",
            "<tr class=\"spacer\" style=\"height:5px\"></tr>\n",
            "<tr class=\"athing\" id=\"36445690\">\n",
            "<td align=\"right\" class=\"title\" valign=\"top\"><span class=\"rank\">7.</span></td> <td class=\"votelinks\" valign=\"top\"><center><a href=\"vote?id=36445690&amp;how=up&amp;goto=news\" id=\"up_36445690\"><div class=\"votearrow\" title=\"upvote\"></div></a></center></td><td class=\"title\"><span class=\"titleline\"><a href=\"https://en.wikipedia.org/wiki/Sturddlefish\" rel=\"noreferrer\">Sturddlefish</a><span class=\"sitebit comhead\"> (<a href=\"from?site=wikipedia.org\"><span class=\"sitestr\">wikipedia.org</span></a>)</span></span></td></tr><tr><td colspan=\"2\"></td><td class=\"subtext\"><span class=\"subline\">\n",
            "<span class=\"score\" id=\"score_36445690\">29 points</span> by <a class=\"hnuser\" href=\"user?id=isp\">isp</a> <span class=\"age\" title=\"2023-06-23T12:04:31\"><a href=\"item?id=36445690\">4 hours ago</a></span> <span id=\"unv_36445690\"></span> | <a href=\"hide?id=36445690&amp;goto=news\">hide</a> | <a href=\"item?id=36445690\">11 comments</a> </span>\n",
            "</td></tr>\n",
            "<tr class=\"spacer\" style=\"height:5px\"></tr>\n",
            "<tr class=\"athing\" id=\"36454783\">\n",
            "<td align=\"right\" class=\"title\" valign=\"top\"><span class=\"rank\">8.</span></td> <td class=\"votelinks\" valign=\"top\"><center><a href=\"vote?id=36454783&amp;how=up&amp;goto=news\" id=\"up_36454783\"><div class=\"votearrow\" title=\"upvote\"></div></a></center></td><td class=\"title\"><span class=\"titleline\"><a href=\"https://github.com/hwgilbert16/scholarsome\">An open source web-based flashcard studying system</a><span class=\"sitebit comhead\"> (<a href=\"from?site=github.com/hwgilbert16\"><span class=\"sitestr\">github.com/hwgilbert16</span></a>)</span></span></td></tr><tr><td colspan=\"2\"></td><td class=\"subtext\"><span class=\"subline\">\n",
            "<span class=\"score\" id=\"score_36454783\">128 points</span> by <a class=\"hnuser\" href=\"user?id=hwgilbert16\">hwgilbert16</a> <span class=\"age\" title=\"2023-06-24T02:12:09\"><a href=\"item?id=36454783\">10 hours ago</a></span> <span id=\"unv_36454783\"></span> | <a href=\"hide?id=36454783&amp;goto=news\">hide</a> | <a href=\"item?id=36454783\">59 comments</a> </span>\n",
            "</td></tr>\n",
            "<tr class=\"spacer\" style=\"height:5px\"></tr>\n",
            "<tr class=\"athing\" id=\"36455843\">\n",
            "<td align=\"right\" class=\"title\" valign=\"top\"><span class=\"rank\">9.</span></td> <td class=\"votelinks\" valign=\"top\"><center><a href=\"vote?id=36455843&amp;how=up&amp;goto=news\" id=\"up_36455843\"><div class=\"votearrow\" title=\"upvote\"></div></a></center></td><td class=\"title\"><span class=\"titleline\"><a href=\"http://www.paulgraham.com/makersschedule.html\" rel=\"noreferrer\">Maker's schedule, Manager's schedule (2009)</a><span class=\"sitebit comhead\"> (<a href=\"from?site=paulgraham.com\"><span class=\"sitestr\">paulgraham.com</span></a>)</span></span></td></tr><tr><td colspan=\"2\"></td><td class=\"subtext\"><span class=\"subline\">\n",
            "<span class=\"score\" id=\"score_36455843\">72 points</span> by <a class=\"hnuser\" href=\"user?id=mad2021\">mad2021</a> <span class=\"age\" title=\"2023-06-24T05:30:47\"><a href=\"item?id=36455843\">6 hours ago</a></span> <span id=\"unv_36455843\"></span> | <a href=\"hide?id=36455843&amp;goto=news\">hide</a> | <a href=\"item?id=36455843\">27 comments</a> </span>\n",
            "</td></tr>\n",
            "<tr class=\"spacer\" style=\"height:5px\"></tr>\n",
            "<tr class=\"athing\" id=\"36457435\">\n",
            "<td align=\"right\" class=\"title\" valign=\"top\"><span class=\"rank\">10.</span></td> <td class=\"votelinks\" valign=\"top\"><center><a href=\"vote?id=36457435&amp;how=up&amp;goto=news\" id=\"up_36457435\"><div class=\"votearrow\" title=\"upvote\"></div></a></center></td><td class=\"title\"><span class=\"titleline\"><a href=\"https://www.snprajwal.com/blog/keyboards-are-broken/\" rel=\"nofollow noreferrer\">Your keyboard layout is broken</a><span class=\"sitebit comhead\"> (<a href=\"from?site=snprajwal.com\"><span class=\"sitestr\">snprajwal.com</span></a>)</span></span></td></tr><tr><td colspan=\"2\"></td><td class=\"subtext\"><span class=\"subline\">\n",
            "<span class=\"score\" id=\"score_36457435\">7 points</span> by <a class=\"hnuser\" href=\"user?id=snprajwal\">snprajwal</a> <span class=\"age\" title=\"2023-06-24T10:43:58\"><a href=\"item?id=36457435\">1 hour ago</a></span> <span id=\"unv_36457435\"></span> | <a href=\"hide?id=36457435&amp;goto=news\">hide</a> | <a href=\"item?id=36457435\">discuss</a> </span>\n",
            "</td></tr>\n",
            "<tr class=\"spacer\" style=\"height:5px\"></tr>\n",
            "<tr class=\"athing\" id=\"36457286\">\n",
            "<td align=\"right\" class=\"title\" valign=\"top\"><span class=\"rank\">11.</span></td> <td class=\"votelinks\" valign=\"top\"><center><a href=\"vote?id=36457286&amp;how=up&amp;goto=news\" id=\"up_36457286\"><div class=\"votearrow\" title=\"upvote\"></div></a></center></td><td class=\"title\"><span class=\"titleline\"><a href=\"https://www.nature.com/articles/d41586-023-02120-8\" rel=\"noreferrer\">Decades-long bet on consciousness ends – it’s philosopher 1, neuroscientist 0</a><span class=\"sitebit comhead\"> (<a href=\"from?site=nature.com\"><span class=\"sitestr\">nature.com</span></a>)</span></span></td></tr><tr><td colspan=\"2\"></td><td class=\"subtext\"><span class=\"subline\">\n",
            "<span class=\"score\" id=\"score_36457286\">66 points</span> by <a class=\"hnuser\" href=\"user?id=mellosouls\">mellosouls</a> <span class=\"age\" title=\"2023-06-24T10:12:37\"><a href=\"item?id=36457286\">2 hours ago</a></span> <span id=\"unv_36457286\"></span> | <a href=\"hide?id=36457286&amp;goto=news\">hide</a> | <a href=\"item?id=36457286\">83 comments</a> </span>\n",
            "</td></tr>\n",
            "<tr class=\"spacer\" style=\"height:5px\"></tr>\n",
            "<tr class=\"athing\" id=\"36457546\">\n",
            "<td align=\"right\" class=\"title\" valign=\"top\"><span class=\"rank\">12.</span></td> <td class=\"votelinks\" valign=\"top\"><center><a href=\"vote?id=36457546&amp;how=up&amp;goto=news\" id=\"up_36457546\"><div class=\"votearrow\" title=\"upvote\"></div></a></center></td><td class=\"title\"><span class=\"titleline\"><a href=\"https://github.com/pjakma/fopl\">Fully Open Public Licence</a><span class=\"sitebit comhead\"> (<a href=\"from?site=github.com/pjakma\"><span class=\"sitestr\">github.com/pjakma</span></a>)</span></span></td></tr><tr><td colspan=\"2\"></td><td class=\"subtext\"><span class=\"subline\">\n",
            "<span class=\"score\" id=\"score_36457546\">3 points</span> by <a class=\"hnuser\" href=\"user?id=pabs3\">pabs3</a> <span class=\"age\" title=\"2023-06-24T11:05:02\"><a href=\"item?id=36457546\">1 hour ago</a></span> <span id=\"unv_36457546\"></span> | <a href=\"hide?id=36457546&amp;goto=news\">hide</a> | <a href=\"item?id=36457546\">discuss</a> </span>\n",
            "</td></tr>\n",
            "<tr class=\"spacer\" style=\"height:5px\"></tr>\n",
            "<tr class=\"athing\" id=\"36450605\">\n",
            "<td align=\"right\" class=\"title\" valign=\"top\"><span class=\"rank\">13.</span></td> <td class=\"votelinks\" valign=\"top\"><center><a href=\"vote?id=36450605&amp;how=up&amp;goto=news\" id=\"up_36450605\"><div class=\"votearrow\" title=\"upvote\"></div></a></center></td><td class=\"title\"><span class=\"titleline\"><a href=\"https://thebolditalic.com/theres-an-exact-replica-of-san-francisco-in-japan-and-it-s-weird-b8566a747150\" rel=\"noreferrer\">There’s an exact replica of San Francisco in Japan</a><span class=\"sitebit comhead\"> (<a href=\"from?site=thebolditalic.com\"><span class=\"sitestr\">thebolditalic.com</span></a>)</span></span></td></tr><tr><td colspan=\"2\"></td><td class=\"subtext\"><span class=\"subline\">\n",
            "<span class=\"score\" id=\"score_36450605\">29 points</span> by <a class=\"hnuser\" href=\"user?id=Brajeshwar\">Brajeshwar</a> <span class=\"age\" title=\"2023-06-23T18:34:19\"><a href=\"item?id=36450605\">5 hours ago</a></span> <span id=\"unv_36450605\"></span> | <a href=\"hide?id=36450605&amp;goto=news\">hide</a> | <a href=\"item?id=36450605\">19 comments</a> </span>\n",
            "</td></tr>\n",
            "<tr class=\"spacer\" style=\"height:5px\"></tr>\n",
            "<tr class=\"athing\" id=\"36453790\">\n",
            "<td align=\"right\" class=\"title\" valign=\"top\"><span class=\"rank\">14.</span></td> <td class=\"votelinks\" valign=\"top\"><center><a href=\"vote?id=36453790&amp;how=up&amp;goto=news\" id=\"up_36453790\"><div class=\"votearrow\" title=\"upvote\"></div></a></center></td><td class=\"title\"><span class=\"titleline\"><a href=\"https://johnnysswlab.com/make-your-programs-run-faster-by-better-using-the-data-cache/\" rel=\"noreferrer\">Make your programs run faster by better using the data cache (2020)</a><span class=\"sitebit comhead\"> (<a href=\"from?site=johnnysswlab.com\"><span class=\"sitestr\">johnnysswlab.com</span></a>)</span></span></td></tr><tr><td colspan=\"2\"></td><td class=\"subtext\"><span class=\"subline\">\n",
            "<span class=\"score\" id=\"score_36453790\">102 points</span> by <a class=\"hnuser\" href=\"user?id=eatonphil\">eatonphil</a> <span class=\"age\" title=\"2023-06-23T23:50:36\"><a href=\"item?id=36453790\">11 hours ago</a></span> <span id=\"unv_36453790\"></span> | <a href=\"hide?id=36453790&amp;goto=news\">hide</a> | <a href=\"item?id=36453790\">47 comments</a> </span>\n",
            "</td></tr>\n",
            "<tr class=\"spacer\" style=\"height:5px\"></tr>\n",
            "<tr class=\"athing\" id=\"36454824\">\n",
            "<td align=\"right\" class=\"title\" valign=\"top\"><span class=\"rank\">15.</span></td> <td class=\"votelinks\" valign=\"top\"><center><a href=\"vote?id=36454824&amp;how=up&amp;goto=news\" id=\"up_36454824\"><div class=\"votearrow\" title=\"upvote\"></div></a></center></td><td class=\"title\"><span class=\"titleline\"><a href=\"https://www.startribune.com/anti-monopoly-mankato-landfill-board-game-history/600279625/\" rel=\"noreferrer\">Why thousands of board games are buried beneath Mankato</a><span class=\"sitebit comhead\"> (<a href=\"from?site=startribune.com\"><span class=\"sitestr\">startribune.com</span></a>)</span></span></td></tr><tr><td colspan=\"2\"></td><td class=\"subtext\"><span class=\"subline\">\n",
            "<span class=\"score\" id=\"score_36454824\">72 points</span> by <a class=\"hnuser\" href=\"user?id=PaulHoule\">PaulHoule</a> <span class=\"age\" title=\"2023-06-24T02:20:25\"><a href=\"item?id=36454824\">9 hours ago</a></span> <span id=\"unv_36454824\"></span> | <a href=\"hide?id=36454824&amp;goto=news\">hide</a> | <a href=\"item?id=36454824\">17 comments</a> </span>\n",
            "</td></tr>\n",
            "<tr class=\"spacer\" style=\"height:5px\"></tr>\n",
            "<tr class=\"athing\" id=\"36451924\">\n",
            "<td align=\"right\" class=\"title\" valign=\"top\"><span class=\"rank\">16.</span></td> <td class=\"votelinks\" valign=\"top\"><center><a href=\"vote?id=36451924&amp;how=up&amp;goto=news\" id=\"up_36451924\"><div class=\"votearrow\" title=\"upvote\"></div></a></center></td><td class=\"title\"><span class=\"titleline\"><a href=\"https://www.u-tokyo.ac.jp/focus/en/press/z0508_00289.html\" rel=\"noreferrer\">The evolution of honey bee brains</a><span class=\"sitebit comhead\"> (<a href=\"from?site=u-tokyo.ac.jp\"><span class=\"sitestr\">u-tokyo.ac.jp</span></a>)</span></span></td></tr><tr><td colspan=\"2\"></td><td class=\"subtext\"><span class=\"subline\">\n",
            "<span class=\"score\" id=\"score_36451924\">12 points</span> by <a class=\"hnuser\" href=\"user?id=rustoo\">rustoo</a> <span class=\"age\" title=\"2023-06-23T20:40:03\"><a href=\"item?id=36451924\">4 hours ago</a></span> <span id=\"unv_36451924\"></span> | <a href=\"hide?id=36451924&amp;goto=news\">hide</a> | <a href=\"item?id=36451924\">discuss</a> </span>\n",
            "</td></tr>\n",
            "<tr class=\"spacer\" style=\"height:5px\"></tr>\n",
            "<tr class=\"athing\" id=\"36454895\">\n",
            "<td align=\"right\" class=\"title\" valign=\"top\"><span class=\"rank\">17.</span></td> <td class=\"votelinks\" valign=\"top\"><center><a href=\"vote?id=36454895&amp;how=up&amp;goto=news\" id=\"up_36454895\"><div class=\"votearrow\" title=\"upvote\"></div></a></center></td><td class=\"title\"><span class=\"titleline\"><a href=\"https://utcc.utoronto.ca/~cks/space/blog/programming/Go121ToolchainDownloads\" rel=\"noreferrer\">Go 1.21 will (probably) download newer toolchains on demand by default</a><span class=\"sitebit comhead\"> (<a href=\"from?site=utoronto.ca\"><span class=\"sitestr\">utoronto.ca</span></a>)</span></span></td></tr><tr><td colspan=\"2\"></td><td class=\"subtext\"><span class=\"subline\">\n",
            "<span class=\"score\" id=\"score_36454895\">94 points</span> by <a class=\"hnuser\" href=\"user?id=todsacerdoti\">todsacerdoti</a> <span class=\"age\" title=\"2023-06-24T02:33:08\"><a href=\"item?id=36454895\">9 hours ago</a></span> <span id=\"unv_36454895\"></span> | <a href=\"hide?id=36454895&amp;goto=news\">hide</a> | <a href=\"item?id=36454895\">61 comments</a> </span>\n",
            "</td></tr>\n",
            "<tr class=\"spacer\" style=\"height:5px\"></tr>\n",
            "<tr class=\"athing\" id=\"36443020\">\n",
            "<td align=\"right\" class=\"title\" valign=\"top\"><span class=\"rank\">18.</span></td> <td class=\"votelinks\" valign=\"top\"><center><a href=\"vote?id=36443020&amp;how=up&amp;goto=news\" id=\"up_36443020\"><div class=\"votearrow\" title=\"upvote\"></div></a></center></td><td class=\"title\"><span class=\"titleline\"><a href=\"https://www.theguardian.com/books/2023/jun/22/the-diary-of-virginia-woolf-review-a-book-for-the-ages\" rel=\"noreferrer\">The Diary of Virginia Woolf review – a book for the ages</a><span class=\"sitebit comhead\"> (<a href=\"from?site=theguardian.com\"><span class=\"sitestr\">theguardian.com</span></a>)</span></span></td></tr><tr><td colspan=\"2\"></td><td class=\"subtext\"><span class=\"subline\">\n",
            "<span class=\"score\" id=\"score_36443020\">22 points</span> by <a class=\"hnuser\" href=\"user?id=Caiero\">Caiero</a> <span class=\"age\" title=\"2023-06-23T05:07:44\"><a href=\"item?id=36443020\">6 hours ago</a></span> <span id=\"unv_36443020\"></span> | <a href=\"hide?id=36443020&amp;goto=news\">hide</a> | <a href=\"item?id=36443020\">1 comment</a> </span>\n",
            "</td></tr>\n",
            "<tr class=\"spacer\" style=\"height:5px\"></tr>\n",
            "<tr class=\"athing\" id=\"36455697\">\n",
            "<td align=\"right\" class=\"title\" valign=\"top\"><span class=\"rank\">19.</span></td> <td class=\"votelinks\" valign=\"top\"><center><a href=\"vote?id=36455697&amp;how=up&amp;goto=news\" id=\"up_36455697\"><div class=\"votearrow\" title=\"upvote\"></div></a></center></td><td class=\"title\"><span class=\"titleline\"><a href=\"https://collabfund.com/blog/how-this-all-happened/\" rel=\"noreferrer\">History is just one damn thing after another</a><span class=\"sitebit comhead\"> (<a href=\"from?site=collabfund.com\"><span class=\"sitestr\">collabfund.com</span></a>)</span></span></td></tr><tr><td colspan=\"2\"></td><td class=\"subtext\"><span class=\"subline\">\n",
            "<span class=\"score\" id=\"score_36455697\">48 points</span> by <a class=\"hnuser\" href=\"user?id=prakhar897\">prakhar897</a> <span class=\"age\" title=\"2023-06-24T04:56:24\"><a href=\"item?id=36455697\">7 hours ago</a></span> <span id=\"unv_36455697\"></span> | <a href=\"hide?id=36455697&amp;goto=news\">hide</a> | <a href=\"item?id=36455697\">8 comments</a> </span>\n",
            "</td></tr>\n",
            "<tr class=\"spacer\" style=\"height:5px\"></tr>\n",
            "<tr class=\"athing\" id=\"36453810\">\n",
            "<td align=\"right\" class=\"title\" valign=\"top\"><span class=\"rank\">20.</span></td> <td class=\"votelinks\" valign=\"top\"><center><a href=\"vote?id=36453810&amp;how=up&amp;goto=news\" id=\"up_36453810\"><div class=\"votearrow\" title=\"upvote\"></div></a></center></td><td class=\"title\"><span class=\"titleline\"><a href=\"https://lupyuen.codeberg.page/articles/riscv.html\" rel=\"noreferrer\">64-Bit RISC-V with Apache NuttX Real-Time Operating System</a><span class=\"sitebit comhead\"> (<a href=\"from?site=codeberg.page\"><span class=\"sitestr\">codeberg.page</span></a>)</span></span></td></tr><tr><td colspan=\"2\"></td><td class=\"subtext\"><span class=\"subline\">\n",
            "<span class=\"score\" id=\"score_36453810\">74 points</span> by <a class=\"hnuser\" href=\"user?id=lupyuen\">lupyuen</a> <span class=\"age\" title=\"2023-06-23T23:53:04\"><a href=\"item?id=36453810\">12 hours ago</a></span> <span id=\"unv_36453810\"></span> | <a href=\"hide?id=36453810&amp;goto=news\">hide</a> | <a href=\"item?id=36453810\">13 comments</a> </span>\n",
            "</td></tr>\n",
            "<tr class=\"spacer\" style=\"height:5px\"></tr>\n",
            "<tr class=\"athing\" id=\"36452322\">\n",
            "<td align=\"right\" class=\"title\" valign=\"top\"><span class=\"rank\">21.</span></td> <td class=\"votelinks\" valign=\"top\"><center><a href=\"vote?id=36452322&amp;how=up&amp;goto=news\" id=\"up_36452322\"><div class=\"votearrow\" title=\"upvote\"></div></a></center></td><td class=\"title\"><span class=\"titleline\"><a href=\"https://www.bleepingcomputer.com/news/security/millions-of-github-repos-likely-vulnerable-to-repojacking-researchers-say/\" rel=\"noreferrer\">Millions of GitHub repos likely vulnerable to RepoJacking, researchers say</a><span class=\"sitebit comhead\"> (<a href=\"from?site=bleepingcomputer.com\"><span class=\"sitestr\">bleepingcomputer.com</span></a>)</span></span></td></tr><tr><td colspan=\"2\"></td><td class=\"subtext\"><span class=\"subline\">\n",
            "<span class=\"score\" id=\"score_36452322\">115 points</span> by <a class=\"hnuser\" href=\"user?id=pyeri\">pyeri</a> <span class=\"age\" title=\"2023-06-23T21:22:09\"><a href=\"item?id=36452322\">14 hours ago</a></span> <span id=\"unv_36452322\"></span> | <a href=\"hide?id=36452322&amp;goto=news\">hide</a> | <a href=\"item?id=36452322\">45 comments</a> </span>\n",
            "</td></tr>\n",
            "<tr class=\"spacer\" style=\"height:5px\"></tr>\n",
            "<tr class=\"athing\" id=\"36455627\">\n",
            "<td align=\"right\" class=\"title\" valign=\"top\"><span class=\"rank\">22.</span></td> <td class=\"votelinks\" valign=\"top\"><center><a href=\"vote?id=36455627&amp;how=up&amp;goto=news\" id=\"up_36455627\"><div class=\"votearrow\" title=\"upvote\"></div></a></center></td><td class=\"title\"><span class=\"titleline\"><a href=\"https://fosstodon.org/@gabrielesvelto/110592904713090347\" rel=\"noreferrer\">A large crash spike affecting Firefox users on Linux</a><span class=\"sitebit comhead\"> (<a href=\"from?site=fosstodon.org\"><span class=\"sitestr\">fosstodon.org</span></a>)</span></span></td></tr><tr><td colspan=\"2\"></td><td class=\"subtext\"><span class=\"subline\">\n",
            "<span class=\"score\" id=\"score_36455627\">144 points</span> by <a class=\"hnuser\" href=\"user?id=sohkamyung\">sohkamyung</a> <span class=\"age\" title=\"2023-06-24T04:37:39\"><a href=\"item?id=36455627\">7 hours ago</a></span> <span id=\"unv_36455627\"></span> | <a href=\"hide?id=36455627&amp;goto=news\">hide</a> | <a href=\"item?id=36455627\">47 comments</a> </span>\n",
            "</td></tr>\n",
            "<tr class=\"spacer\" style=\"height:5px\"></tr>\n",
            "<tr class=\"athing\" id=\"36455794\">\n",
            "<td align=\"right\" class=\"title\" valign=\"top\"><span class=\"rank\">23.</span></td> <td class=\"votelinks\" valign=\"top\"><center><a href=\"vote?id=36455794&amp;how=up&amp;goto=news\" id=\"up_36455794\"><div class=\"votearrow\" title=\"upvote\"></div></a></center></td><td class=\"title\"><span class=\"titleline\"><a href=\"https://caseymuratori.com/blog_0015\" rel=\"noreferrer\">How to write good code easily with semantic compression</a><span class=\"sitebit comhead\"> (<a href=\"from?site=caseymuratori.com\"><span class=\"sitestr\">caseymuratori.com</span></a>)</span></span></td></tr><tr><td colspan=\"2\"></td><td class=\"subtext\"><span class=\"subline\">\n",
            "<span class=\"score\" id=\"score_36455794\">20 points</span> by <a class=\"hnuser\" href=\"user?id=noob_eng\">noob_eng</a> <span class=\"age\" title=\"2023-06-24T05:16:09\"><a href=\"item?id=36455794\">7 hours ago</a></span> <span id=\"unv_36455794\"></span> | <a href=\"hide?id=36455794&amp;goto=news\">hide</a> | <a href=\"item?id=36455794\">9 comments</a> </span>\n",
            "</td></tr>\n",
            "<tr class=\"spacer\" style=\"height:5px\"></tr>\n",
            "<tr class=\"athing\" id=\"36454556\">\n",
            "<td align=\"right\" class=\"title\" valign=\"top\"><span class=\"rank\">24.</span></td> <td class=\"votelinks\" valign=\"top\"><center><a href=\"vote?id=36454556&amp;how=up&amp;goto=news\" id=\"up_36454556\"><div class=\"votearrow\" title=\"upvote\"></div></a></center></td><td class=\"title\"><span class=\"titleline\"><a href=\"https://nibblestew.blogspot.com/2023/06/pdf-subpage-navigation.html\" rel=\"noreferrer\">PDF Subpage Navigation</a><span class=\"sitebit comhead\"> (<a href=\"from?site=nibblestew.blogspot.com\"><span class=\"sitestr\">nibblestew.blogspot.com</span></a>)</span></span></td></tr><tr><td colspan=\"2\"></td><td class=\"subtext\"><span class=\"subline\">\n",
            "<span class=\"score\" id=\"score_36454556\">51 points</span> by <a class=\"hnuser\" href=\"user?id=ingve\">ingve</a> <span class=\"age\" title=\"2023-06-24T01:34:35\"><a href=\"item?id=36454556\">10 hours ago</a></span> <span id=\"unv_36454556\"></span> | <a href=\"hide?id=36454556&amp;goto=news\">hide</a> | <a href=\"item?id=36454556\">10 comments</a> </span>\n",
            "</td></tr>\n",
            "<tr class=\"spacer\" style=\"height:5px\"></tr>\n",
            "<tr class=\"athing\" id=\"36447566\">\n",
            "<td align=\"right\" class=\"title\" valign=\"top\"><span class=\"rank\">25.</span></td> <td class=\"votelinks\" valign=\"top\"><center><a href=\"vote?id=36447566&amp;how=up&amp;goto=news\" id=\"up_36447566\"><div class=\"votearrow\" title=\"upvote\"></div></a></center></td><td class=\"title\"><span class=\"titleline\"><a href=\"https://spectrum.ieee.org/iron-fuel\" rel=\"noreferrer\">Iron fuel shows its mettle</a><span class=\"sitebit comhead\"> (<a href=\"from?site=ieee.org\"><span class=\"sitestr\">ieee.org</span></a>)</span></span></td></tr><tr><td colspan=\"2\"></td><td class=\"subtext\"><span class=\"subline\">\n",
            "<span class=\"score\" id=\"score_36447566\">158 points</span> by <a class=\"hnuser\" href=\"user?id=mfiguiere\">mfiguiere</a> <span class=\"age\" title=\"2023-06-23T14:48:54\"><a href=\"item?id=36447566\">21 hours ago</a></span> <span id=\"unv_36447566\"></span> | <a href=\"hide?id=36447566&amp;goto=news\">hide</a> | <a href=\"item?id=36447566\">191 comments</a> </span>\n",
            "</td></tr>\n",
            "<tr class=\"spacer\" style=\"height:5px\"></tr>\n",
            "<tr class=\"athing\" id=\"36456887\">\n",
            "<td align=\"right\" class=\"title\" valign=\"top\"><span class=\"rank\">26.</span></td> <td class=\"votelinks\" valign=\"top\"><center><a href=\"vote?id=36456887&amp;how=up&amp;goto=news\" id=\"up_36456887\"><div class=\"votearrow\" title=\"upvote\"></div></a></center></td><td class=\"title\"><span class=\"titleline\"><a href=\"https://undeadly.org/cgi?action=article;sid=20230624054334\" rel=\"noreferrer\">OpenBSD: Game of Trees 0.90 Released</a><span class=\"sitebit comhead\"> (<a href=\"from?site=undeadly.org\"><span class=\"sitestr\">undeadly.org</span></a>)</span></span></td></tr><tr><td colspan=\"2\"></td><td class=\"subtext\"><span class=\"subline\">\n",
            "<span class=\"score\" id=\"score_36456887\">24 points</span> by <a class=\"hnuser\" href=\"user?id=peter_hansteen\">peter_hansteen</a> <span class=\"age\" title=\"2023-06-24T09:00:49\"><a href=\"item?id=36456887\">3 hours ago</a></span> <span id=\"unv_36456887\"></span> | <a href=\"hide?id=36456887&amp;goto=news\">hide</a> | <a href=\"item?id=36456887\">2 comments</a> </span>\n",
            "</td></tr>\n",
            "<tr class=\"spacer\" style=\"height:5px\"></tr>\n",
            "<tr class=\"athing\" id=\"36448686\">\n",
            "<td align=\"right\" class=\"title\" valign=\"top\"><span class=\"rank\">27.</span></td> <td class=\"votelinks\" valign=\"top\"><center><a href=\"vote?id=36448686&amp;how=up&amp;goto=news\" id=\"up_36448686\"><div class=\"votearrow\" title=\"upvote\"></div></a></center></td><td class=\"title\"><span class=\"titleline\"><a href=\"https://github.com/axllent/mailpit\">Mailpit – An email and SMTP testing tool with API</a><span class=\"sitebit comhead\"> (<a href=\"from?site=github.com/axllent\"><span class=\"sitestr\">github.com/axllent</span></a>)</span></span></td></tr><tr><td colspan=\"2\"></td><td class=\"subtext\"><span class=\"subline\">\n",
            "<span class=\"score\" id=\"score_36448686\">101 points</span> by <a class=\"hnuser\" href=\"user?id=qa-guy\">qa-guy</a> <span class=\"age\" title=\"2023-06-23T15:59:56\"><a href=\"item?id=36448686\">14 hours ago</a></span> <span id=\"unv_36448686\"></span> | <a href=\"hide?id=36448686&amp;goto=news\">hide</a> | <a href=\"item?id=36448686\">19 comments</a> </span>\n",
            "</td></tr>\n",
            "<tr class=\"spacer\" style=\"height:5px\"></tr>\n",
            "<tr class=\"athing\" id=\"36454327\">\n",
            "<td align=\"right\" class=\"title\" valign=\"top\"><span class=\"rank\">28.</span></td> <td><img height=\"1\" src=\"s.gif\" width=\"14\"/></td> <td class=\"title\"><span class=\"titleline\"><a href=\"https://www.ycombinator.com/companies/doctor-droid/jobs/euNMtT4-senior-backend-7-yrs\">Doctor Droid (YC W23) Is Hiring Back End Engineer (7 Years Exp)</a><span class=\"sitebit comhead\"> (<a href=\"from?site=ycombinator.com\"><span class=\"sitestr\">ycombinator.com</span></a>)</span></span></td></tr><tr><td colspan=\"2\"></td><td class=\"subtext\">\n",
            "<span class=\"age\" title=\"2023-06-24T01:00:40\"><a href=\"item?id=36454327\">11 hours ago</a></span> | <a href=\"hide?id=36454327&amp;goto=news\">hide</a> </td></tr>\n",
            "<tr class=\"spacer\" style=\"height:5px\"></tr>\n",
            "<tr class=\"athing\" id=\"36457347\">\n",
            "<td align=\"right\" class=\"title\" valign=\"top\"><span class=\"rank\">29.</span></td> <td class=\"votelinks\" valign=\"top\"><center><a href=\"vote?id=36457347&amp;how=up&amp;goto=news\" id=\"up_36457347\"><div class=\"votearrow\" title=\"upvote\"></div></a></center></td><td class=\"title\"><span class=\"titleline\"><a href=\"https://www.phoronix.com/news/GCC-Lands-Std-CPP26-GNU26\" rel=\"noreferrer\">GCC 14 Adds Initial “-std=C++26” Plumbing</a><span class=\"sitebit comhead\"> (<a href=\"from?site=phoronix.com\"><span class=\"sitestr\">phoronix.com</span></a>)</span></span></td></tr><tr><td colspan=\"2\"></td><td class=\"subtext\"><span class=\"subline\">\n",
            "<span class=\"score\" id=\"score_36457347\">9 points</span> by <a class=\"hnuser\" href=\"user?id=mfiguiere\">mfiguiere</a> <span class=\"age\" title=\"2023-06-24T10:27:37\"><a href=\"item?id=36457347\">1 hour ago</a></span> <span id=\"unv_36457347\"></span> | <a href=\"hide?id=36457347&amp;goto=news\">hide</a> | <a href=\"item?id=36457347\">discuss</a> </span>\n",
            "</td></tr>\n",
            "<tr class=\"spacer\" style=\"height:5px\"></tr>\n",
            "<tr class=\"athing\" id=\"36449072\">\n",
            "<td align=\"right\" class=\"title\" valign=\"top\"><span class=\"rank\">30.</span></td> <td class=\"votelinks\" valign=\"top\"><center><a href=\"vote?id=36449072&amp;how=up&amp;goto=news\" id=\"up_36449072\"><div class=\"votearrow\" title=\"upvote\"></div></a></center></td><td class=\"title\"><span class=\"titleline\"><a href=\"https://colorandcontrast.com/\" rel=\"noreferrer\">An interactive guide to color and contrast</a><span class=\"sitebit comhead\"> (<a href=\"from?site=colorandcontrast.com\"><span class=\"sitestr\">colorandcontrast.com</span></a>)</span></span></td></tr><tr><td colspan=\"2\"></td><td class=\"subtext\"><span class=\"subline\">\n",
            "<span class=\"score\" id=\"score_36449072\">60 points</span> by <a class=\"hnuser\" href=\"user?id=warrenm\">warrenm</a> <span class=\"age\" title=\"2023-06-23T16:25:28\"><a href=\"item?id=36449072\">13 hours ago</a></span> <span id=\"unv_36449072\"></span> | <a href=\"hide?id=36449072&amp;goto=news\">hide</a> | <a href=\"item?id=36449072\">6 comments</a> </span>\n",
            "</td></tr>\n",
            "<tr class=\"spacer\" style=\"height:5px\"></tr>\n",
            "<tr class=\"morespace\" style=\"height:10px\"></tr><tr><td colspan=\"2\"></td>\n",
            "<td class=\"title\"><a class=\"morelink\" href=\"?p=2\" rel=\"next\">More</a></td> </tr>\n",
            "</table>\n",
            "</td></tr>\n",
            "<tr><td><img height=\"10\" src=\"s.gif\" width=\"0\"/><table cellpadding=\"1\" cellspacing=\"0\" width=\"100%\"><tr><td bgcolor=\"#ff6600\"></td></tr></table><br/>\n",
            "<center><span class=\"yclinks\"><a href=\"newsguidelines.html\">Guidelines</a> | <a href=\"newsfaq.html\">FAQ</a> | <a href=\"lists\">Lists</a> | <a href=\"https://github.com/HackerNews/API\">API</a> | <a href=\"security.html\">Security</a> | <a href=\"https://www.ycombinator.com/legal/\">Legal</a> | <a href=\"https://www.ycombinator.com/apply/\">Apply to YC</a> | <a href=\"mailto:hn@ycombinator.com\">Contact</a></span><br/><br/>\n",
            "<form action=\"//hn.algolia.com/\" method=\"get\">Search: <input autocapitalize=\"off\" autocomplete=\"false\" autocorrect=\"off\" name=\"q\" size=\"17\" spellcheck=\"false\" type=\"text\"/></form></center></td></tr> </table></center></body>\n",
            "<script src=\"hn.js?sOwA2w4A8zIV2E0prLby\" type=\"text/javascript\"></script>\n",
            "</html>\n",
            "\n"
          ]
        }
      ]
    },
    {
      "cell_type": "code",
      "source": [
        "soup.body"
      ],
      "metadata": {
        "colab": {
          "base_uri": "https://localhost:8080/"
        },
        "id": "jTFHUw8pMJzX",
        "outputId": "134e00e7-12dd-45bb-c7d0-1657827c6957"
      },
      "execution_count": 5,
      "outputs": [
        {
          "output_type": "execute_result",
          "data": {
            "text/plain": [
              "<body><center><table bgcolor=\"#f6f6ef\" border=\"0\" cellpadding=\"0\" cellspacing=\"0\" id=\"hnmain\" width=\"85%\">\n",
              "<tr><td bgcolor=\"#ff6600\"><table border=\"0\" cellpadding=\"0\" cellspacing=\"0\" style=\"padding:2px\" width=\"100%\"><tr><td style=\"width:18px;padding-right:4px\"><a href=\"https://news.ycombinator.com\"><img height=\"18\" src=\"y18.svg\" style=\"border:1px white solid; display:block\" width=\"18\"/></a></td>\n",
              "<td style=\"line-height:12pt; height:10px;\"><span class=\"pagetop\"><b class=\"hnname\"><a href=\"news\">Hacker News</a></b>\n",
              "<a href=\"newest\">new</a> | <a href=\"front\">past</a> | <a href=\"newcomments\">comments</a> | <a href=\"ask\">ask</a> | <a href=\"show\">show</a> | <a href=\"jobs\">jobs</a> | <a href=\"submit\">submit</a> </span></td><td style=\"text-align:right;padding-right:4px;\"><span class=\"pagetop\">\n",
              "<a href=\"login?goto=news\">login</a>\n",
              "</span></td>\n",
              "</tr></table></td></tr>\n",
              "<tr id=\"pagespace\" style=\"height:10px\" title=\"\"></tr><tr><td><table border=\"0\" cellpadding=\"0\" cellspacing=\"0\">\n",
              "<tr class=\"athing\" id=\"36457557\">\n",
              "<td align=\"right\" class=\"title\" valign=\"top\"><span class=\"rank\">1.</span></td> <td class=\"votelinks\" valign=\"top\"><center><a href=\"vote?id=36457557&amp;how=up&amp;goto=news\" id=\"up_36457557\"><div class=\"votearrow\" title=\"upvote\"></div></a></center></td><td class=\"title\"><span class=\"titleline\"><a href=\"https://alexharri.com/blog/typescript-structural-typing\" rel=\"noreferrer\">Why doesn't TypeScript properly type Object.keys?</a><span class=\"sitebit comhead\"> (<a href=\"from?site=alexharri.com\"><span class=\"sitestr\">alexharri.com</span></a>)</span></span></td></tr><tr><td colspan=\"2\"></td><td class=\"subtext\"><span class=\"subline\">\n",
              "<span class=\"score\" id=\"score_36457557\">37 points</span> by <a class=\"hnuser\" href=\"user?id=alexharri\">alexharri</a> <span class=\"age\" title=\"2023-06-24T11:06:37\"><a href=\"item?id=36457557\">1 hour ago</a></span> <span id=\"unv_36457557\"></span> | <a href=\"hide?id=36457557&amp;goto=news\">hide</a> | <a href=\"item?id=36457557\">9 comments</a> </span>\n",
              "</td></tr>\n",
              "<tr class=\"spacer\" style=\"height:5px\"></tr>\n",
              "<tr class=\"athing\" id=\"36453856\">\n",
              "<td align=\"right\" class=\"title\" valign=\"top\"><span class=\"rank\">2.</span></td> <td class=\"votelinks\" valign=\"top\"><center><a href=\"vote?id=36453856&amp;how=up&amp;goto=news\" id=\"up_36453856\"><div class=\"votearrow\" title=\"upvote\"></div></a></center></td><td class=\"title\"><span class=\"titleline\"><a href=\"https://novehiclesinthepark.com/\" rel=\"noreferrer\">The rule says, “No vehicles in the park”</a><span class=\"sitebit comhead\"> (<a href=\"from?site=novehiclesinthepark.com\"><span class=\"sitestr\">novehiclesinthepark.com</span></a>)</span></span></td></tr><tr><td colspan=\"2\"></td><td class=\"subtext\"><span class=\"subline\">\n",
              "<span class=\"score\" id=\"score_36453856\">1087 points</span> by <a class=\"hnuser\" href=\"user?id=luu\">luu</a> <span class=\"age\" title=\"2023-06-23T23:57:49\"><a href=\"item?id=36453856\">12 hours ago</a></span> <span id=\"unv_36453856\"></span> | <a href=\"hide?id=36453856&amp;goto=news\">hide</a> | <a href=\"item?id=36453856\">806 comments</a> </span>\n",
              "</td></tr>\n",
              "<tr class=\"spacer\" style=\"height:5px\"></tr>\n",
              "<tr class=\"athing\" id=\"36457051\">\n",
              "<td align=\"right\" class=\"title\" valign=\"top\"><span class=\"rank\">3.</span></td> <td class=\"votelinks\" valign=\"top\"><center><a href=\"vote?id=36457051&amp;how=up&amp;goto=news\" id=\"up_36457051\"><div class=\"votearrow\" title=\"upvote\"></div></a></center></td><td class=\"title\"><span class=\"titleline\"><a href=\"https://www.cs.columbia.edu/~hgs/etc/writing-bugs.html\" rel=\"noreferrer\">Common Bugs in Writing</a><span class=\"sitebit comhead\"> (<a href=\"from?site=columbia.edu\"><span class=\"sitestr\">columbia.edu</span></a>)</span></span></td></tr><tr><td colspan=\"2\"></td><td class=\"subtext\"><span class=\"subline\">\n",
              "<span class=\"score\" id=\"score_36457051\">57 points</span> by <a class=\"hnuser\" href=\"user?id=pablode\">pablode</a> <span class=\"age\" title=\"2023-06-24T09:25:33\"><a href=\"item?id=36457051\">2 hours ago</a></span> <span id=\"unv_36457051\"></span> | <a href=\"hide?id=36457051&amp;goto=news\">hide</a> | <a href=\"item?id=36457051\">20 comments</a> </span>\n",
              "</td></tr>\n",
              "<tr class=\"spacer\" style=\"height:5px\"></tr>\n",
              "<tr class=\"athing\" id=\"36449957\">\n",
              "<td align=\"right\" class=\"title\" valign=\"top\"><span class=\"rank\">4.</span></td> <td class=\"votelinks\" valign=\"top\"><center><a href=\"vote?id=36449957&amp;how=up&amp;goto=news\" id=\"up_36449957\"><div class=\"votearrow\" title=\"upvote\"></div></a></center></td><td class=\"title\"><span class=\"titleline\"><a href=\"https://memory-alpha.fandom.com/wiki/Rules_of_Acquisition\" rel=\"noreferrer\">Ferengi Rules of Acquisition</a><span class=\"sitebit comhead\"> (<a href=\"from?site=memory-alpha.fandom.com\"><span class=\"sitestr\">memory-alpha.fandom.com</span></a>)</span></span></td></tr><tr><td colspan=\"2\"></td><td class=\"subtext\"><span class=\"subline\">\n",
              "<span class=\"score\" id=\"score_36449957\">27 points</span> by <a class=\"hnuser\" href=\"user?id=_Microft\">_Microft</a> <span class=\"age\" title=\"2023-06-23T17:38:39\"><a href=\"item?id=36449957\">2 hours ago</a></span> <span id=\"unv_36449957\"></span> | <a href=\"hide?id=36449957&amp;goto=news\">hide</a> | <a href=\"item?id=36449957\">14 comments</a> </span>\n",
              "</td></tr>\n",
              "<tr class=\"spacer\" style=\"height:5px\"></tr>\n",
              "<tr class=\"athing\" id=\"36457205\">\n",
              "<td align=\"right\" class=\"title\" valign=\"top\"><span class=\"rank\">5.</span></td> <td class=\"votelinks\" valign=\"top\"><center><a href=\"vote?id=36457205&amp;how=up&amp;goto=news\" id=\"up_36457205\"><div class=\"votearrow\" title=\"upvote\"></div></a></center></td><td class=\"title\"><span class=\"titleline\"><a href=\"https://www.stylemanual.gov.au/\" rel=\"noreferrer\">Australian Government Style Manual</a><span class=\"sitebit comhead\"> (<a href=\"from?site=stylemanual.gov.au\"><span class=\"sitestr\">stylemanual.gov.au</span></a>)</span></span></td></tr><tr><td colspan=\"2\"></td><td class=\"subtext\"><span class=\"subline\">\n",
              "<span class=\"score\" id=\"score_36457205\">35 points</span> by <a class=\"hnuser\" href=\"user?id=kimburgess\">kimburgess</a> <span class=\"age\" title=\"2023-06-24T09:54:36\"><a href=\"item?id=36457205\">2 hours ago</a></span> <span id=\"unv_36457205\"></span> | <a href=\"hide?id=36457205&amp;goto=news\">hide</a> | <a href=\"item?id=36457205\">9 comments</a> </span>\n",
              "</td></tr>\n",
              "<tr class=\"spacer\" style=\"height:5px\"></tr>\n",
              "<tr class=\"athing\" id=\"36451907\">\n",
              "<td align=\"right\" class=\"title\" valign=\"top\"><span class=\"rank\">6.</span></td> <td class=\"votelinks\" valign=\"top\"><center><a href=\"vote?id=36451907&amp;how=up&amp;goto=news\" id=\"up_36451907\"><div class=\"votearrow\" title=\"upvote\"></div></a></center></td><td class=\"title\"><span class=\"titleline\"><a href=\"https://neugierig.org/software/blog/2023/06/twos-complement.html\" rel=\"noreferrer\">Finally getting two's complement</a><span class=\"sitebit comhead\"> (<a href=\"from?site=neugierig.org\"><span class=\"sitestr\">neugierig.org</span></a>)</span></span></td></tr><tr><td colspan=\"2\"></td><td class=\"subtext\"><span class=\"subline\">\n",
              "<span class=\"score\" id=\"score_36451907\">78 points</span> by <a class=\"hnuser\" href=\"user?id=thepbone\">thepbone</a> <span class=\"age\" title=\"2023-06-23T20:38:46\"><a href=\"item?id=36451907\">6 hours ago</a></span> <span id=\"unv_36451907\"></span> | <a href=\"hide?id=36451907&amp;goto=news\">hide</a> | <a href=\"item?id=36451907\">34 comments</a> </span>\n",
              "</td></tr>\n",
              "<tr class=\"spacer\" style=\"height:5px\"></tr>\n",
              "<tr class=\"athing\" id=\"36445690\">\n",
              "<td align=\"right\" class=\"title\" valign=\"top\"><span class=\"rank\">7.</span></td> <td class=\"votelinks\" valign=\"top\"><center><a href=\"vote?id=36445690&amp;how=up&amp;goto=news\" id=\"up_36445690\"><div class=\"votearrow\" title=\"upvote\"></div></a></center></td><td class=\"title\"><span class=\"titleline\"><a href=\"https://en.wikipedia.org/wiki/Sturddlefish\" rel=\"noreferrer\">Sturddlefish</a><span class=\"sitebit comhead\"> (<a href=\"from?site=wikipedia.org\"><span class=\"sitestr\">wikipedia.org</span></a>)</span></span></td></tr><tr><td colspan=\"2\"></td><td class=\"subtext\"><span class=\"subline\">\n",
              "<span class=\"score\" id=\"score_36445690\">29 points</span> by <a class=\"hnuser\" href=\"user?id=isp\">isp</a> <span class=\"age\" title=\"2023-06-23T12:04:31\"><a href=\"item?id=36445690\">4 hours ago</a></span> <span id=\"unv_36445690\"></span> | <a href=\"hide?id=36445690&amp;goto=news\">hide</a> | <a href=\"item?id=36445690\">11 comments</a> </span>\n",
              "</td></tr>\n",
              "<tr class=\"spacer\" style=\"height:5px\"></tr>\n",
              "<tr class=\"athing\" id=\"36454783\">\n",
              "<td align=\"right\" class=\"title\" valign=\"top\"><span class=\"rank\">8.</span></td> <td class=\"votelinks\" valign=\"top\"><center><a href=\"vote?id=36454783&amp;how=up&amp;goto=news\" id=\"up_36454783\"><div class=\"votearrow\" title=\"upvote\"></div></a></center></td><td class=\"title\"><span class=\"titleline\"><a href=\"https://github.com/hwgilbert16/scholarsome\">An open source web-based flashcard studying system</a><span class=\"sitebit comhead\"> (<a href=\"from?site=github.com/hwgilbert16\"><span class=\"sitestr\">github.com/hwgilbert16</span></a>)</span></span></td></tr><tr><td colspan=\"2\"></td><td class=\"subtext\"><span class=\"subline\">\n",
              "<span class=\"score\" id=\"score_36454783\">128 points</span> by <a class=\"hnuser\" href=\"user?id=hwgilbert16\">hwgilbert16</a> <span class=\"age\" title=\"2023-06-24T02:12:09\"><a href=\"item?id=36454783\">10 hours ago</a></span> <span id=\"unv_36454783\"></span> | <a href=\"hide?id=36454783&amp;goto=news\">hide</a> | <a href=\"item?id=36454783\">59 comments</a> </span>\n",
              "</td></tr>\n",
              "<tr class=\"spacer\" style=\"height:5px\"></tr>\n",
              "<tr class=\"athing\" id=\"36455843\">\n",
              "<td align=\"right\" class=\"title\" valign=\"top\"><span class=\"rank\">9.</span></td> <td class=\"votelinks\" valign=\"top\"><center><a href=\"vote?id=36455843&amp;how=up&amp;goto=news\" id=\"up_36455843\"><div class=\"votearrow\" title=\"upvote\"></div></a></center></td><td class=\"title\"><span class=\"titleline\"><a href=\"http://www.paulgraham.com/makersschedule.html\" rel=\"noreferrer\">Maker's schedule, Manager's schedule (2009)</a><span class=\"sitebit comhead\"> (<a href=\"from?site=paulgraham.com\"><span class=\"sitestr\">paulgraham.com</span></a>)</span></span></td></tr><tr><td colspan=\"2\"></td><td class=\"subtext\"><span class=\"subline\">\n",
              "<span class=\"score\" id=\"score_36455843\">72 points</span> by <a class=\"hnuser\" href=\"user?id=mad2021\">mad2021</a> <span class=\"age\" title=\"2023-06-24T05:30:47\"><a href=\"item?id=36455843\">6 hours ago</a></span> <span id=\"unv_36455843\"></span> | <a href=\"hide?id=36455843&amp;goto=news\">hide</a> | <a href=\"item?id=36455843\">27 comments</a> </span>\n",
              "</td></tr>\n",
              "<tr class=\"spacer\" style=\"height:5px\"></tr>\n",
              "<tr class=\"athing\" id=\"36457435\">\n",
              "<td align=\"right\" class=\"title\" valign=\"top\"><span class=\"rank\">10.</span></td> <td class=\"votelinks\" valign=\"top\"><center><a href=\"vote?id=36457435&amp;how=up&amp;goto=news\" id=\"up_36457435\"><div class=\"votearrow\" title=\"upvote\"></div></a></center></td><td class=\"title\"><span class=\"titleline\"><a href=\"https://www.snprajwal.com/blog/keyboards-are-broken/\" rel=\"nofollow noreferrer\">Your keyboard layout is broken</a><span class=\"sitebit comhead\"> (<a href=\"from?site=snprajwal.com\"><span class=\"sitestr\">snprajwal.com</span></a>)</span></span></td></tr><tr><td colspan=\"2\"></td><td class=\"subtext\"><span class=\"subline\">\n",
              "<span class=\"score\" id=\"score_36457435\">7 points</span> by <a class=\"hnuser\" href=\"user?id=snprajwal\">snprajwal</a> <span class=\"age\" title=\"2023-06-24T10:43:58\"><a href=\"item?id=36457435\">1 hour ago</a></span> <span id=\"unv_36457435\"></span> | <a href=\"hide?id=36457435&amp;goto=news\">hide</a> | <a href=\"item?id=36457435\">discuss</a> </span>\n",
              "</td></tr>\n",
              "<tr class=\"spacer\" style=\"height:5px\"></tr>\n",
              "<tr class=\"athing\" id=\"36457286\">\n",
              "<td align=\"right\" class=\"title\" valign=\"top\"><span class=\"rank\">11.</span></td> <td class=\"votelinks\" valign=\"top\"><center><a href=\"vote?id=36457286&amp;how=up&amp;goto=news\" id=\"up_36457286\"><div class=\"votearrow\" title=\"upvote\"></div></a></center></td><td class=\"title\"><span class=\"titleline\"><a href=\"https://www.nature.com/articles/d41586-023-02120-8\" rel=\"noreferrer\">Decades-long bet on consciousness ends – it’s philosopher 1, neuroscientist 0</a><span class=\"sitebit comhead\"> (<a href=\"from?site=nature.com\"><span class=\"sitestr\">nature.com</span></a>)</span></span></td></tr><tr><td colspan=\"2\"></td><td class=\"subtext\"><span class=\"subline\">\n",
              "<span class=\"score\" id=\"score_36457286\">66 points</span> by <a class=\"hnuser\" href=\"user?id=mellosouls\">mellosouls</a> <span class=\"age\" title=\"2023-06-24T10:12:37\"><a href=\"item?id=36457286\">2 hours ago</a></span> <span id=\"unv_36457286\"></span> | <a href=\"hide?id=36457286&amp;goto=news\">hide</a> | <a href=\"item?id=36457286\">83 comments</a> </span>\n",
              "</td></tr>\n",
              "<tr class=\"spacer\" style=\"height:5px\"></tr>\n",
              "<tr class=\"athing\" id=\"36457546\">\n",
              "<td align=\"right\" class=\"title\" valign=\"top\"><span class=\"rank\">12.</span></td> <td class=\"votelinks\" valign=\"top\"><center><a href=\"vote?id=36457546&amp;how=up&amp;goto=news\" id=\"up_36457546\"><div class=\"votearrow\" title=\"upvote\"></div></a></center></td><td class=\"title\"><span class=\"titleline\"><a href=\"https://github.com/pjakma/fopl\">Fully Open Public Licence</a><span class=\"sitebit comhead\"> (<a href=\"from?site=github.com/pjakma\"><span class=\"sitestr\">github.com/pjakma</span></a>)</span></span></td></tr><tr><td colspan=\"2\"></td><td class=\"subtext\"><span class=\"subline\">\n",
              "<span class=\"score\" id=\"score_36457546\">3 points</span> by <a class=\"hnuser\" href=\"user?id=pabs3\">pabs3</a> <span class=\"age\" title=\"2023-06-24T11:05:02\"><a href=\"item?id=36457546\">1 hour ago</a></span> <span id=\"unv_36457546\"></span> | <a href=\"hide?id=36457546&amp;goto=news\">hide</a> | <a href=\"item?id=36457546\">discuss</a> </span>\n",
              "</td></tr>\n",
              "<tr class=\"spacer\" style=\"height:5px\"></tr>\n",
              "<tr class=\"athing\" id=\"36450605\">\n",
              "<td align=\"right\" class=\"title\" valign=\"top\"><span class=\"rank\">13.</span></td> <td class=\"votelinks\" valign=\"top\"><center><a href=\"vote?id=36450605&amp;how=up&amp;goto=news\" id=\"up_36450605\"><div class=\"votearrow\" title=\"upvote\"></div></a></center></td><td class=\"title\"><span class=\"titleline\"><a href=\"https://thebolditalic.com/theres-an-exact-replica-of-san-francisco-in-japan-and-it-s-weird-b8566a747150\" rel=\"noreferrer\">There’s an exact replica of San Francisco in Japan</a><span class=\"sitebit comhead\"> (<a href=\"from?site=thebolditalic.com\"><span class=\"sitestr\">thebolditalic.com</span></a>)</span></span></td></tr><tr><td colspan=\"2\"></td><td class=\"subtext\"><span class=\"subline\">\n",
              "<span class=\"score\" id=\"score_36450605\">29 points</span> by <a class=\"hnuser\" href=\"user?id=Brajeshwar\">Brajeshwar</a> <span class=\"age\" title=\"2023-06-23T18:34:19\"><a href=\"item?id=36450605\">5 hours ago</a></span> <span id=\"unv_36450605\"></span> | <a href=\"hide?id=36450605&amp;goto=news\">hide</a> | <a href=\"item?id=36450605\">19 comments</a> </span>\n",
              "</td></tr>\n",
              "<tr class=\"spacer\" style=\"height:5px\"></tr>\n",
              "<tr class=\"athing\" id=\"36453790\">\n",
              "<td align=\"right\" class=\"title\" valign=\"top\"><span class=\"rank\">14.</span></td> <td class=\"votelinks\" valign=\"top\"><center><a href=\"vote?id=36453790&amp;how=up&amp;goto=news\" id=\"up_36453790\"><div class=\"votearrow\" title=\"upvote\"></div></a></center></td><td class=\"title\"><span class=\"titleline\"><a href=\"https://johnnysswlab.com/make-your-programs-run-faster-by-better-using-the-data-cache/\" rel=\"noreferrer\">Make your programs run faster by better using the data cache (2020)</a><span class=\"sitebit comhead\"> (<a href=\"from?site=johnnysswlab.com\"><span class=\"sitestr\">johnnysswlab.com</span></a>)</span></span></td></tr><tr><td colspan=\"2\"></td><td class=\"subtext\"><span class=\"subline\">\n",
              "<span class=\"score\" id=\"score_36453790\">102 points</span> by <a class=\"hnuser\" href=\"user?id=eatonphil\">eatonphil</a> <span class=\"age\" title=\"2023-06-23T23:50:36\"><a href=\"item?id=36453790\">11 hours ago</a></span> <span id=\"unv_36453790\"></span> | <a href=\"hide?id=36453790&amp;goto=news\">hide</a> | <a href=\"item?id=36453790\">47 comments</a> </span>\n",
              "</td></tr>\n",
              "<tr class=\"spacer\" style=\"height:5px\"></tr>\n",
              "<tr class=\"athing\" id=\"36454824\">\n",
              "<td align=\"right\" class=\"title\" valign=\"top\"><span class=\"rank\">15.</span></td> <td class=\"votelinks\" valign=\"top\"><center><a href=\"vote?id=36454824&amp;how=up&amp;goto=news\" id=\"up_36454824\"><div class=\"votearrow\" title=\"upvote\"></div></a></center></td><td class=\"title\"><span class=\"titleline\"><a href=\"https://www.startribune.com/anti-monopoly-mankato-landfill-board-game-history/600279625/\" rel=\"noreferrer\">Why thousands of board games are buried beneath Mankato</a><span class=\"sitebit comhead\"> (<a href=\"from?site=startribune.com\"><span class=\"sitestr\">startribune.com</span></a>)</span></span></td></tr><tr><td colspan=\"2\"></td><td class=\"subtext\"><span class=\"subline\">\n",
              "<span class=\"score\" id=\"score_36454824\">72 points</span> by <a class=\"hnuser\" href=\"user?id=PaulHoule\">PaulHoule</a> <span class=\"age\" title=\"2023-06-24T02:20:25\"><a href=\"item?id=36454824\">9 hours ago</a></span> <span id=\"unv_36454824\"></span> | <a href=\"hide?id=36454824&amp;goto=news\">hide</a> | <a href=\"item?id=36454824\">17 comments</a> </span>\n",
              "</td></tr>\n",
              "<tr class=\"spacer\" style=\"height:5px\"></tr>\n",
              "<tr class=\"athing\" id=\"36451924\">\n",
              "<td align=\"right\" class=\"title\" valign=\"top\"><span class=\"rank\">16.</span></td> <td class=\"votelinks\" valign=\"top\"><center><a href=\"vote?id=36451924&amp;how=up&amp;goto=news\" id=\"up_36451924\"><div class=\"votearrow\" title=\"upvote\"></div></a></center></td><td class=\"title\"><span class=\"titleline\"><a href=\"https://www.u-tokyo.ac.jp/focus/en/press/z0508_00289.html\" rel=\"noreferrer\">The evolution of honey bee brains</a><span class=\"sitebit comhead\"> (<a href=\"from?site=u-tokyo.ac.jp\"><span class=\"sitestr\">u-tokyo.ac.jp</span></a>)</span></span></td></tr><tr><td colspan=\"2\"></td><td class=\"subtext\"><span class=\"subline\">\n",
              "<span class=\"score\" id=\"score_36451924\">12 points</span> by <a class=\"hnuser\" href=\"user?id=rustoo\">rustoo</a> <span class=\"age\" title=\"2023-06-23T20:40:03\"><a href=\"item?id=36451924\">4 hours ago</a></span> <span id=\"unv_36451924\"></span> | <a href=\"hide?id=36451924&amp;goto=news\">hide</a> | <a href=\"item?id=36451924\">discuss</a> </span>\n",
              "</td></tr>\n",
              "<tr class=\"spacer\" style=\"height:5px\"></tr>\n",
              "<tr class=\"athing\" id=\"36454895\">\n",
              "<td align=\"right\" class=\"title\" valign=\"top\"><span class=\"rank\">17.</span></td> <td class=\"votelinks\" valign=\"top\"><center><a href=\"vote?id=36454895&amp;how=up&amp;goto=news\" id=\"up_36454895\"><div class=\"votearrow\" title=\"upvote\"></div></a></center></td><td class=\"title\"><span class=\"titleline\"><a href=\"https://utcc.utoronto.ca/~cks/space/blog/programming/Go121ToolchainDownloads\" rel=\"noreferrer\">Go 1.21 will (probably) download newer toolchains on demand by default</a><span class=\"sitebit comhead\"> (<a href=\"from?site=utoronto.ca\"><span class=\"sitestr\">utoronto.ca</span></a>)</span></span></td></tr><tr><td colspan=\"2\"></td><td class=\"subtext\"><span class=\"subline\">\n",
              "<span class=\"score\" id=\"score_36454895\">94 points</span> by <a class=\"hnuser\" href=\"user?id=todsacerdoti\">todsacerdoti</a> <span class=\"age\" title=\"2023-06-24T02:33:08\"><a href=\"item?id=36454895\">9 hours ago</a></span> <span id=\"unv_36454895\"></span> | <a href=\"hide?id=36454895&amp;goto=news\">hide</a> | <a href=\"item?id=36454895\">61 comments</a> </span>\n",
              "</td></tr>\n",
              "<tr class=\"spacer\" style=\"height:5px\"></tr>\n",
              "<tr class=\"athing\" id=\"36443020\">\n",
              "<td align=\"right\" class=\"title\" valign=\"top\"><span class=\"rank\">18.</span></td> <td class=\"votelinks\" valign=\"top\"><center><a href=\"vote?id=36443020&amp;how=up&amp;goto=news\" id=\"up_36443020\"><div class=\"votearrow\" title=\"upvote\"></div></a></center></td><td class=\"title\"><span class=\"titleline\"><a href=\"https://www.theguardian.com/books/2023/jun/22/the-diary-of-virginia-woolf-review-a-book-for-the-ages\" rel=\"noreferrer\">The Diary of Virginia Woolf review – a book for the ages</a><span class=\"sitebit comhead\"> (<a href=\"from?site=theguardian.com\"><span class=\"sitestr\">theguardian.com</span></a>)</span></span></td></tr><tr><td colspan=\"2\"></td><td class=\"subtext\"><span class=\"subline\">\n",
              "<span class=\"score\" id=\"score_36443020\">22 points</span> by <a class=\"hnuser\" href=\"user?id=Caiero\">Caiero</a> <span class=\"age\" title=\"2023-06-23T05:07:44\"><a href=\"item?id=36443020\">6 hours ago</a></span> <span id=\"unv_36443020\"></span> | <a href=\"hide?id=36443020&amp;goto=news\">hide</a> | <a href=\"item?id=36443020\">1 comment</a> </span>\n",
              "</td></tr>\n",
              "<tr class=\"spacer\" style=\"height:5px\"></tr>\n",
              "<tr class=\"athing\" id=\"36455697\">\n",
              "<td align=\"right\" class=\"title\" valign=\"top\"><span class=\"rank\">19.</span></td> <td class=\"votelinks\" valign=\"top\"><center><a href=\"vote?id=36455697&amp;how=up&amp;goto=news\" id=\"up_36455697\"><div class=\"votearrow\" title=\"upvote\"></div></a></center></td><td class=\"title\"><span class=\"titleline\"><a href=\"https://collabfund.com/blog/how-this-all-happened/\" rel=\"noreferrer\">History is just one damn thing after another</a><span class=\"sitebit comhead\"> (<a href=\"from?site=collabfund.com\"><span class=\"sitestr\">collabfund.com</span></a>)</span></span></td></tr><tr><td colspan=\"2\"></td><td class=\"subtext\"><span class=\"subline\">\n",
              "<span class=\"score\" id=\"score_36455697\">48 points</span> by <a class=\"hnuser\" href=\"user?id=prakhar897\">prakhar897</a> <span class=\"age\" title=\"2023-06-24T04:56:24\"><a href=\"item?id=36455697\">7 hours ago</a></span> <span id=\"unv_36455697\"></span> | <a href=\"hide?id=36455697&amp;goto=news\">hide</a> | <a href=\"item?id=36455697\">8 comments</a> </span>\n",
              "</td></tr>\n",
              "<tr class=\"spacer\" style=\"height:5px\"></tr>\n",
              "<tr class=\"athing\" id=\"36453810\">\n",
              "<td align=\"right\" class=\"title\" valign=\"top\"><span class=\"rank\">20.</span></td> <td class=\"votelinks\" valign=\"top\"><center><a href=\"vote?id=36453810&amp;how=up&amp;goto=news\" id=\"up_36453810\"><div class=\"votearrow\" title=\"upvote\"></div></a></center></td><td class=\"title\"><span class=\"titleline\"><a href=\"https://lupyuen.codeberg.page/articles/riscv.html\" rel=\"noreferrer\">64-Bit RISC-V with Apache NuttX Real-Time Operating System</a><span class=\"sitebit comhead\"> (<a href=\"from?site=codeberg.page\"><span class=\"sitestr\">codeberg.page</span></a>)</span></span></td></tr><tr><td colspan=\"2\"></td><td class=\"subtext\"><span class=\"subline\">\n",
              "<span class=\"score\" id=\"score_36453810\">74 points</span> by <a class=\"hnuser\" href=\"user?id=lupyuen\">lupyuen</a> <span class=\"age\" title=\"2023-06-23T23:53:04\"><a href=\"item?id=36453810\">12 hours ago</a></span> <span id=\"unv_36453810\"></span> | <a href=\"hide?id=36453810&amp;goto=news\">hide</a> | <a href=\"item?id=36453810\">13 comments</a> </span>\n",
              "</td></tr>\n",
              "<tr class=\"spacer\" style=\"height:5px\"></tr>\n",
              "<tr class=\"athing\" id=\"36452322\">\n",
              "<td align=\"right\" class=\"title\" valign=\"top\"><span class=\"rank\">21.</span></td> <td class=\"votelinks\" valign=\"top\"><center><a href=\"vote?id=36452322&amp;how=up&amp;goto=news\" id=\"up_36452322\"><div class=\"votearrow\" title=\"upvote\"></div></a></center></td><td class=\"title\"><span class=\"titleline\"><a href=\"https://www.bleepingcomputer.com/news/security/millions-of-github-repos-likely-vulnerable-to-repojacking-researchers-say/\" rel=\"noreferrer\">Millions of GitHub repos likely vulnerable to RepoJacking, researchers say</a><span class=\"sitebit comhead\"> (<a href=\"from?site=bleepingcomputer.com\"><span class=\"sitestr\">bleepingcomputer.com</span></a>)</span></span></td></tr><tr><td colspan=\"2\"></td><td class=\"subtext\"><span class=\"subline\">\n",
              "<span class=\"score\" id=\"score_36452322\">115 points</span> by <a class=\"hnuser\" href=\"user?id=pyeri\">pyeri</a> <span class=\"age\" title=\"2023-06-23T21:22:09\"><a href=\"item?id=36452322\">14 hours ago</a></span> <span id=\"unv_36452322\"></span> | <a href=\"hide?id=36452322&amp;goto=news\">hide</a> | <a href=\"item?id=36452322\">45 comments</a> </span>\n",
              "</td></tr>\n",
              "<tr class=\"spacer\" style=\"height:5px\"></tr>\n",
              "<tr class=\"athing\" id=\"36455627\">\n",
              "<td align=\"right\" class=\"title\" valign=\"top\"><span class=\"rank\">22.</span></td> <td class=\"votelinks\" valign=\"top\"><center><a href=\"vote?id=36455627&amp;how=up&amp;goto=news\" id=\"up_36455627\"><div class=\"votearrow\" title=\"upvote\"></div></a></center></td><td class=\"title\"><span class=\"titleline\"><a href=\"https://fosstodon.org/@gabrielesvelto/110592904713090347\" rel=\"noreferrer\">A large crash spike affecting Firefox users on Linux</a><span class=\"sitebit comhead\"> (<a href=\"from?site=fosstodon.org\"><span class=\"sitestr\">fosstodon.org</span></a>)</span></span></td></tr><tr><td colspan=\"2\"></td><td class=\"subtext\"><span class=\"subline\">\n",
              "<span class=\"score\" id=\"score_36455627\">144 points</span> by <a class=\"hnuser\" href=\"user?id=sohkamyung\">sohkamyung</a> <span class=\"age\" title=\"2023-06-24T04:37:39\"><a href=\"item?id=36455627\">7 hours ago</a></span> <span id=\"unv_36455627\"></span> | <a href=\"hide?id=36455627&amp;goto=news\">hide</a> | <a href=\"item?id=36455627\">47 comments</a> </span>\n",
              "</td></tr>\n",
              "<tr class=\"spacer\" style=\"height:5px\"></tr>\n",
              "<tr class=\"athing\" id=\"36455794\">\n",
              "<td align=\"right\" class=\"title\" valign=\"top\"><span class=\"rank\">23.</span></td> <td class=\"votelinks\" valign=\"top\"><center><a href=\"vote?id=36455794&amp;how=up&amp;goto=news\" id=\"up_36455794\"><div class=\"votearrow\" title=\"upvote\"></div></a></center></td><td class=\"title\"><span class=\"titleline\"><a href=\"https://caseymuratori.com/blog_0015\" rel=\"noreferrer\">How to write good code easily with semantic compression</a><span class=\"sitebit comhead\"> (<a href=\"from?site=caseymuratori.com\"><span class=\"sitestr\">caseymuratori.com</span></a>)</span></span></td></tr><tr><td colspan=\"2\"></td><td class=\"subtext\"><span class=\"subline\">\n",
              "<span class=\"score\" id=\"score_36455794\">20 points</span> by <a class=\"hnuser\" href=\"user?id=noob_eng\">noob_eng</a> <span class=\"age\" title=\"2023-06-24T05:16:09\"><a href=\"item?id=36455794\">7 hours ago</a></span> <span id=\"unv_36455794\"></span> | <a href=\"hide?id=36455794&amp;goto=news\">hide</a> | <a href=\"item?id=36455794\">9 comments</a> </span>\n",
              "</td></tr>\n",
              "<tr class=\"spacer\" style=\"height:5px\"></tr>\n",
              "<tr class=\"athing\" id=\"36454556\">\n",
              "<td align=\"right\" class=\"title\" valign=\"top\"><span class=\"rank\">24.</span></td> <td class=\"votelinks\" valign=\"top\"><center><a href=\"vote?id=36454556&amp;how=up&amp;goto=news\" id=\"up_36454556\"><div class=\"votearrow\" title=\"upvote\"></div></a></center></td><td class=\"title\"><span class=\"titleline\"><a href=\"https://nibblestew.blogspot.com/2023/06/pdf-subpage-navigation.html\" rel=\"noreferrer\">PDF Subpage Navigation</a><span class=\"sitebit comhead\"> (<a href=\"from?site=nibblestew.blogspot.com\"><span class=\"sitestr\">nibblestew.blogspot.com</span></a>)</span></span></td></tr><tr><td colspan=\"2\"></td><td class=\"subtext\"><span class=\"subline\">\n",
              "<span class=\"score\" id=\"score_36454556\">51 points</span> by <a class=\"hnuser\" href=\"user?id=ingve\">ingve</a> <span class=\"age\" title=\"2023-06-24T01:34:35\"><a href=\"item?id=36454556\">10 hours ago</a></span> <span id=\"unv_36454556\"></span> | <a href=\"hide?id=36454556&amp;goto=news\">hide</a> | <a href=\"item?id=36454556\">10 comments</a> </span>\n",
              "</td></tr>\n",
              "<tr class=\"spacer\" style=\"height:5px\"></tr>\n",
              "<tr class=\"athing\" id=\"36447566\">\n",
              "<td align=\"right\" class=\"title\" valign=\"top\"><span class=\"rank\">25.</span></td> <td class=\"votelinks\" valign=\"top\"><center><a href=\"vote?id=36447566&amp;how=up&amp;goto=news\" id=\"up_36447566\"><div class=\"votearrow\" title=\"upvote\"></div></a></center></td><td class=\"title\"><span class=\"titleline\"><a href=\"https://spectrum.ieee.org/iron-fuel\" rel=\"noreferrer\">Iron fuel shows its mettle</a><span class=\"sitebit comhead\"> (<a href=\"from?site=ieee.org\"><span class=\"sitestr\">ieee.org</span></a>)</span></span></td></tr><tr><td colspan=\"2\"></td><td class=\"subtext\"><span class=\"subline\">\n",
              "<span class=\"score\" id=\"score_36447566\">158 points</span> by <a class=\"hnuser\" href=\"user?id=mfiguiere\">mfiguiere</a> <span class=\"age\" title=\"2023-06-23T14:48:54\"><a href=\"item?id=36447566\">21 hours ago</a></span> <span id=\"unv_36447566\"></span> | <a href=\"hide?id=36447566&amp;goto=news\">hide</a> | <a href=\"item?id=36447566\">191 comments</a> </span>\n",
              "</td></tr>\n",
              "<tr class=\"spacer\" style=\"height:5px\"></tr>\n",
              "<tr class=\"athing\" id=\"36456887\">\n",
              "<td align=\"right\" class=\"title\" valign=\"top\"><span class=\"rank\">26.</span></td> <td class=\"votelinks\" valign=\"top\"><center><a href=\"vote?id=36456887&amp;how=up&amp;goto=news\" id=\"up_36456887\"><div class=\"votearrow\" title=\"upvote\"></div></a></center></td><td class=\"title\"><span class=\"titleline\"><a href=\"https://undeadly.org/cgi?action=article;sid=20230624054334\" rel=\"noreferrer\">OpenBSD: Game of Trees 0.90 Released</a><span class=\"sitebit comhead\"> (<a href=\"from?site=undeadly.org\"><span class=\"sitestr\">undeadly.org</span></a>)</span></span></td></tr><tr><td colspan=\"2\"></td><td class=\"subtext\"><span class=\"subline\">\n",
              "<span class=\"score\" id=\"score_36456887\">24 points</span> by <a class=\"hnuser\" href=\"user?id=peter_hansteen\">peter_hansteen</a> <span class=\"age\" title=\"2023-06-24T09:00:49\"><a href=\"item?id=36456887\">3 hours ago</a></span> <span id=\"unv_36456887\"></span> | <a href=\"hide?id=36456887&amp;goto=news\">hide</a> | <a href=\"item?id=36456887\">2 comments</a> </span>\n",
              "</td></tr>\n",
              "<tr class=\"spacer\" style=\"height:5px\"></tr>\n",
              "<tr class=\"athing\" id=\"36448686\">\n",
              "<td align=\"right\" class=\"title\" valign=\"top\"><span class=\"rank\">27.</span></td> <td class=\"votelinks\" valign=\"top\"><center><a href=\"vote?id=36448686&amp;how=up&amp;goto=news\" id=\"up_36448686\"><div class=\"votearrow\" title=\"upvote\"></div></a></center></td><td class=\"title\"><span class=\"titleline\"><a href=\"https://github.com/axllent/mailpit\">Mailpit – An email and SMTP testing tool with API</a><span class=\"sitebit comhead\"> (<a href=\"from?site=github.com/axllent\"><span class=\"sitestr\">github.com/axllent</span></a>)</span></span></td></tr><tr><td colspan=\"2\"></td><td class=\"subtext\"><span class=\"subline\">\n",
              "<span class=\"score\" id=\"score_36448686\">101 points</span> by <a class=\"hnuser\" href=\"user?id=qa-guy\">qa-guy</a> <span class=\"age\" title=\"2023-06-23T15:59:56\"><a href=\"item?id=36448686\">14 hours ago</a></span> <span id=\"unv_36448686\"></span> | <a href=\"hide?id=36448686&amp;goto=news\">hide</a> | <a href=\"item?id=36448686\">19 comments</a> </span>\n",
              "</td></tr>\n",
              "<tr class=\"spacer\" style=\"height:5px\"></tr>\n",
              "<tr class=\"athing\" id=\"36454327\">\n",
              "<td align=\"right\" class=\"title\" valign=\"top\"><span class=\"rank\">28.</span></td> <td><img height=\"1\" src=\"s.gif\" width=\"14\"/></td> <td class=\"title\"><span class=\"titleline\"><a href=\"https://www.ycombinator.com/companies/doctor-droid/jobs/euNMtT4-senior-backend-7-yrs\">Doctor Droid (YC W23) Is Hiring Back End Engineer (7 Years Exp)</a><span class=\"sitebit comhead\"> (<a href=\"from?site=ycombinator.com\"><span class=\"sitestr\">ycombinator.com</span></a>)</span></span></td></tr><tr><td colspan=\"2\"></td><td class=\"subtext\">\n",
              "<span class=\"age\" title=\"2023-06-24T01:00:40\"><a href=\"item?id=36454327\">11 hours ago</a></span> | <a href=\"hide?id=36454327&amp;goto=news\">hide</a> </td></tr>\n",
              "<tr class=\"spacer\" style=\"height:5px\"></tr>\n",
              "<tr class=\"athing\" id=\"36457347\">\n",
              "<td align=\"right\" class=\"title\" valign=\"top\"><span class=\"rank\">29.</span></td> <td class=\"votelinks\" valign=\"top\"><center><a href=\"vote?id=36457347&amp;how=up&amp;goto=news\" id=\"up_36457347\"><div class=\"votearrow\" title=\"upvote\"></div></a></center></td><td class=\"title\"><span class=\"titleline\"><a href=\"https://www.phoronix.com/news/GCC-Lands-Std-CPP26-GNU26\" rel=\"noreferrer\">GCC 14 Adds Initial “-std=C++26” Plumbing</a><span class=\"sitebit comhead\"> (<a href=\"from?site=phoronix.com\"><span class=\"sitestr\">phoronix.com</span></a>)</span></span></td></tr><tr><td colspan=\"2\"></td><td class=\"subtext\"><span class=\"subline\">\n",
              "<span class=\"score\" id=\"score_36457347\">9 points</span> by <a class=\"hnuser\" href=\"user?id=mfiguiere\">mfiguiere</a> <span class=\"age\" title=\"2023-06-24T10:27:37\"><a href=\"item?id=36457347\">1 hour ago</a></span> <span id=\"unv_36457347\"></span> | <a href=\"hide?id=36457347&amp;goto=news\">hide</a> | <a href=\"item?id=36457347\">discuss</a> </span>\n",
              "</td></tr>\n",
              "<tr class=\"spacer\" style=\"height:5px\"></tr>\n",
              "<tr class=\"athing\" id=\"36449072\">\n",
              "<td align=\"right\" class=\"title\" valign=\"top\"><span class=\"rank\">30.</span></td> <td class=\"votelinks\" valign=\"top\"><center><a href=\"vote?id=36449072&amp;how=up&amp;goto=news\" id=\"up_36449072\"><div class=\"votearrow\" title=\"upvote\"></div></a></center></td><td class=\"title\"><span class=\"titleline\"><a href=\"https://colorandcontrast.com/\" rel=\"noreferrer\">An interactive guide to color and contrast</a><span class=\"sitebit comhead\"> (<a href=\"from?site=colorandcontrast.com\"><span class=\"sitestr\">colorandcontrast.com</span></a>)</span></span></td></tr><tr><td colspan=\"2\"></td><td class=\"subtext\"><span class=\"subline\">\n",
              "<span class=\"score\" id=\"score_36449072\">60 points</span> by <a class=\"hnuser\" href=\"user?id=warrenm\">warrenm</a> <span class=\"age\" title=\"2023-06-23T16:25:28\"><a href=\"item?id=36449072\">13 hours ago</a></span> <span id=\"unv_36449072\"></span> | <a href=\"hide?id=36449072&amp;goto=news\">hide</a> | <a href=\"item?id=36449072\">6 comments</a> </span>\n",
              "</td></tr>\n",
              "<tr class=\"spacer\" style=\"height:5px\"></tr>\n",
              "<tr class=\"morespace\" style=\"height:10px\"></tr><tr><td colspan=\"2\"></td>\n",
              "<td class=\"title\"><a class=\"morelink\" href=\"?p=2\" rel=\"next\">More</a></td> </tr>\n",
              "</table>\n",
              "</td></tr>\n",
              "<tr><td><img height=\"10\" src=\"s.gif\" width=\"0\"/><table cellpadding=\"1\" cellspacing=\"0\" width=\"100%\"><tr><td bgcolor=\"#ff6600\"></td></tr></table><br/>\n",
              "<center><span class=\"yclinks\"><a href=\"newsguidelines.html\">Guidelines</a> | <a href=\"newsfaq.html\">FAQ</a> | <a href=\"lists\">Lists</a> | <a href=\"https://github.com/HackerNews/API\">API</a> | <a href=\"security.html\">Security</a> | <a href=\"https://www.ycombinator.com/legal/\">Legal</a> | <a href=\"https://www.ycombinator.com/apply/\">Apply to YC</a> | <a href=\"mailto:hn@ycombinator.com\">Contact</a></span><br/><br/>\n",
              "<form action=\"//hn.algolia.com/\" method=\"get\">Search: <input autocapitalize=\"off\" autocomplete=\"false\" autocorrect=\"off\" name=\"q\" size=\"17\" spellcheck=\"false\" type=\"text\"/></form></center></td></tr> </table></center></body>"
            ]
          },
          "metadata": {},
          "execution_count": 5
        }
      ]
    },
    {
      "cell_type": "code",
      "source": [
        "soup.body.contents"
      ],
      "metadata": {
        "colab": {
          "base_uri": "https://localhost:8080/"
        },
        "id": "0iT74WO1MSID",
        "outputId": "9d2148b9-cce2-4cf7-ccab-45910fd982c1"
      },
      "execution_count": 6,
      "outputs": [
        {
          "output_type": "execute_result",
          "data": {
            "text/plain": [
              "[<center><table bgcolor=\"#f6f6ef\" border=\"0\" cellpadding=\"0\" cellspacing=\"0\" id=\"hnmain\" width=\"85%\">\n",
              " <tr><td bgcolor=\"#ff6600\"><table border=\"0\" cellpadding=\"0\" cellspacing=\"0\" style=\"padding:2px\" width=\"100%\"><tr><td style=\"width:18px;padding-right:4px\"><a href=\"https://news.ycombinator.com\"><img height=\"18\" src=\"y18.svg\" style=\"border:1px white solid; display:block\" width=\"18\"/></a></td>\n",
              " <td style=\"line-height:12pt; height:10px;\"><span class=\"pagetop\"><b class=\"hnname\"><a href=\"news\">Hacker News</a></b>\n",
              " <a href=\"newest\">new</a> | <a href=\"front\">past</a> | <a href=\"newcomments\">comments</a> | <a href=\"ask\">ask</a> | <a href=\"show\">show</a> | <a href=\"jobs\">jobs</a> | <a href=\"submit\">submit</a> </span></td><td style=\"text-align:right;padding-right:4px;\"><span class=\"pagetop\">\n",
              " <a href=\"login?goto=news\">login</a>\n",
              " </span></td>\n",
              " </tr></table></td></tr>\n",
              " <tr id=\"pagespace\" style=\"height:10px\" title=\"\"></tr><tr><td><table border=\"0\" cellpadding=\"0\" cellspacing=\"0\">\n",
              " <tr class=\"athing\" id=\"36457557\">\n",
              " <td align=\"right\" class=\"title\" valign=\"top\"><span class=\"rank\">1.</span></td> <td class=\"votelinks\" valign=\"top\"><center><a href=\"vote?id=36457557&amp;how=up&amp;goto=news\" id=\"up_36457557\"><div class=\"votearrow\" title=\"upvote\"></div></a></center></td><td class=\"title\"><span class=\"titleline\"><a href=\"https://alexharri.com/blog/typescript-structural-typing\" rel=\"noreferrer\">Why doesn't TypeScript properly type Object.keys?</a><span class=\"sitebit comhead\"> (<a href=\"from?site=alexharri.com\"><span class=\"sitestr\">alexharri.com</span></a>)</span></span></td></tr><tr><td colspan=\"2\"></td><td class=\"subtext\"><span class=\"subline\">\n",
              " <span class=\"score\" id=\"score_36457557\">37 points</span> by <a class=\"hnuser\" href=\"user?id=alexharri\">alexharri</a> <span class=\"age\" title=\"2023-06-24T11:06:37\"><a href=\"item?id=36457557\">1 hour ago</a></span> <span id=\"unv_36457557\"></span> | <a href=\"hide?id=36457557&amp;goto=news\">hide</a> | <a href=\"item?id=36457557\">9 comments</a> </span>\n",
              " </td></tr>\n",
              " <tr class=\"spacer\" style=\"height:5px\"></tr>\n",
              " <tr class=\"athing\" id=\"36453856\">\n",
              " <td align=\"right\" class=\"title\" valign=\"top\"><span class=\"rank\">2.</span></td> <td class=\"votelinks\" valign=\"top\"><center><a href=\"vote?id=36453856&amp;how=up&amp;goto=news\" id=\"up_36453856\"><div class=\"votearrow\" title=\"upvote\"></div></a></center></td><td class=\"title\"><span class=\"titleline\"><a href=\"https://novehiclesinthepark.com/\" rel=\"noreferrer\">The rule says, “No vehicles in the park”</a><span class=\"sitebit comhead\"> (<a href=\"from?site=novehiclesinthepark.com\"><span class=\"sitestr\">novehiclesinthepark.com</span></a>)</span></span></td></tr><tr><td colspan=\"2\"></td><td class=\"subtext\"><span class=\"subline\">\n",
              " <span class=\"score\" id=\"score_36453856\">1087 points</span> by <a class=\"hnuser\" href=\"user?id=luu\">luu</a> <span class=\"age\" title=\"2023-06-23T23:57:49\"><a href=\"item?id=36453856\">12 hours ago</a></span> <span id=\"unv_36453856\"></span> | <a href=\"hide?id=36453856&amp;goto=news\">hide</a> | <a href=\"item?id=36453856\">806 comments</a> </span>\n",
              " </td></tr>\n",
              " <tr class=\"spacer\" style=\"height:5px\"></tr>\n",
              " <tr class=\"athing\" id=\"36457051\">\n",
              " <td align=\"right\" class=\"title\" valign=\"top\"><span class=\"rank\">3.</span></td> <td class=\"votelinks\" valign=\"top\"><center><a href=\"vote?id=36457051&amp;how=up&amp;goto=news\" id=\"up_36457051\"><div class=\"votearrow\" title=\"upvote\"></div></a></center></td><td class=\"title\"><span class=\"titleline\"><a href=\"https://www.cs.columbia.edu/~hgs/etc/writing-bugs.html\" rel=\"noreferrer\">Common Bugs in Writing</a><span class=\"sitebit comhead\"> (<a href=\"from?site=columbia.edu\"><span class=\"sitestr\">columbia.edu</span></a>)</span></span></td></tr><tr><td colspan=\"2\"></td><td class=\"subtext\"><span class=\"subline\">\n",
              " <span class=\"score\" id=\"score_36457051\">57 points</span> by <a class=\"hnuser\" href=\"user?id=pablode\">pablode</a> <span class=\"age\" title=\"2023-06-24T09:25:33\"><a href=\"item?id=36457051\">2 hours ago</a></span> <span id=\"unv_36457051\"></span> | <a href=\"hide?id=36457051&amp;goto=news\">hide</a> | <a href=\"item?id=36457051\">20 comments</a> </span>\n",
              " </td></tr>\n",
              " <tr class=\"spacer\" style=\"height:5px\"></tr>\n",
              " <tr class=\"athing\" id=\"36449957\">\n",
              " <td align=\"right\" class=\"title\" valign=\"top\"><span class=\"rank\">4.</span></td> <td class=\"votelinks\" valign=\"top\"><center><a href=\"vote?id=36449957&amp;how=up&amp;goto=news\" id=\"up_36449957\"><div class=\"votearrow\" title=\"upvote\"></div></a></center></td><td class=\"title\"><span class=\"titleline\"><a href=\"https://memory-alpha.fandom.com/wiki/Rules_of_Acquisition\" rel=\"noreferrer\">Ferengi Rules of Acquisition</a><span class=\"sitebit comhead\"> (<a href=\"from?site=memory-alpha.fandom.com\"><span class=\"sitestr\">memory-alpha.fandom.com</span></a>)</span></span></td></tr><tr><td colspan=\"2\"></td><td class=\"subtext\"><span class=\"subline\">\n",
              " <span class=\"score\" id=\"score_36449957\">27 points</span> by <a class=\"hnuser\" href=\"user?id=_Microft\">_Microft</a> <span class=\"age\" title=\"2023-06-23T17:38:39\"><a href=\"item?id=36449957\">2 hours ago</a></span> <span id=\"unv_36449957\"></span> | <a href=\"hide?id=36449957&amp;goto=news\">hide</a> | <a href=\"item?id=36449957\">14 comments</a> </span>\n",
              " </td></tr>\n",
              " <tr class=\"spacer\" style=\"height:5px\"></tr>\n",
              " <tr class=\"athing\" id=\"36457205\">\n",
              " <td align=\"right\" class=\"title\" valign=\"top\"><span class=\"rank\">5.</span></td> <td class=\"votelinks\" valign=\"top\"><center><a href=\"vote?id=36457205&amp;how=up&amp;goto=news\" id=\"up_36457205\"><div class=\"votearrow\" title=\"upvote\"></div></a></center></td><td class=\"title\"><span class=\"titleline\"><a href=\"https://www.stylemanual.gov.au/\" rel=\"noreferrer\">Australian Government Style Manual</a><span class=\"sitebit comhead\"> (<a href=\"from?site=stylemanual.gov.au\"><span class=\"sitestr\">stylemanual.gov.au</span></a>)</span></span></td></tr><tr><td colspan=\"2\"></td><td class=\"subtext\"><span class=\"subline\">\n",
              " <span class=\"score\" id=\"score_36457205\">35 points</span> by <a class=\"hnuser\" href=\"user?id=kimburgess\">kimburgess</a> <span class=\"age\" title=\"2023-06-24T09:54:36\"><a href=\"item?id=36457205\">2 hours ago</a></span> <span id=\"unv_36457205\"></span> | <a href=\"hide?id=36457205&amp;goto=news\">hide</a> | <a href=\"item?id=36457205\">9 comments</a> </span>\n",
              " </td></tr>\n",
              " <tr class=\"spacer\" style=\"height:5px\"></tr>\n",
              " <tr class=\"athing\" id=\"36451907\">\n",
              " <td align=\"right\" class=\"title\" valign=\"top\"><span class=\"rank\">6.</span></td> <td class=\"votelinks\" valign=\"top\"><center><a href=\"vote?id=36451907&amp;how=up&amp;goto=news\" id=\"up_36451907\"><div class=\"votearrow\" title=\"upvote\"></div></a></center></td><td class=\"title\"><span class=\"titleline\"><a href=\"https://neugierig.org/software/blog/2023/06/twos-complement.html\" rel=\"noreferrer\">Finally getting two's complement</a><span class=\"sitebit comhead\"> (<a href=\"from?site=neugierig.org\"><span class=\"sitestr\">neugierig.org</span></a>)</span></span></td></tr><tr><td colspan=\"2\"></td><td class=\"subtext\"><span class=\"subline\">\n",
              " <span class=\"score\" id=\"score_36451907\">78 points</span> by <a class=\"hnuser\" href=\"user?id=thepbone\">thepbone</a> <span class=\"age\" title=\"2023-06-23T20:38:46\"><a href=\"item?id=36451907\">6 hours ago</a></span> <span id=\"unv_36451907\"></span> | <a href=\"hide?id=36451907&amp;goto=news\">hide</a> | <a href=\"item?id=36451907\">34 comments</a> </span>\n",
              " </td></tr>\n",
              " <tr class=\"spacer\" style=\"height:5px\"></tr>\n",
              " <tr class=\"athing\" id=\"36445690\">\n",
              " <td align=\"right\" class=\"title\" valign=\"top\"><span class=\"rank\">7.</span></td> <td class=\"votelinks\" valign=\"top\"><center><a href=\"vote?id=36445690&amp;how=up&amp;goto=news\" id=\"up_36445690\"><div class=\"votearrow\" title=\"upvote\"></div></a></center></td><td class=\"title\"><span class=\"titleline\"><a href=\"https://en.wikipedia.org/wiki/Sturddlefish\" rel=\"noreferrer\">Sturddlefish</a><span class=\"sitebit comhead\"> (<a href=\"from?site=wikipedia.org\"><span class=\"sitestr\">wikipedia.org</span></a>)</span></span></td></tr><tr><td colspan=\"2\"></td><td class=\"subtext\"><span class=\"subline\">\n",
              " <span class=\"score\" id=\"score_36445690\">29 points</span> by <a class=\"hnuser\" href=\"user?id=isp\">isp</a> <span class=\"age\" title=\"2023-06-23T12:04:31\"><a href=\"item?id=36445690\">4 hours ago</a></span> <span id=\"unv_36445690\"></span> | <a href=\"hide?id=36445690&amp;goto=news\">hide</a> | <a href=\"item?id=36445690\">11 comments</a> </span>\n",
              " </td></tr>\n",
              " <tr class=\"spacer\" style=\"height:5px\"></tr>\n",
              " <tr class=\"athing\" id=\"36454783\">\n",
              " <td align=\"right\" class=\"title\" valign=\"top\"><span class=\"rank\">8.</span></td> <td class=\"votelinks\" valign=\"top\"><center><a href=\"vote?id=36454783&amp;how=up&amp;goto=news\" id=\"up_36454783\"><div class=\"votearrow\" title=\"upvote\"></div></a></center></td><td class=\"title\"><span class=\"titleline\"><a href=\"https://github.com/hwgilbert16/scholarsome\">An open source web-based flashcard studying system</a><span class=\"sitebit comhead\"> (<a href=\"from?site=github.com/hwgilbert16\"><span class=\"sitestr\">github.com/hwgilbert16</span></a>)</span></span></td></tr><tr><td colspan=\"2\"></td><td class=\"subtext\"><span class=\"subline\">\n",
              " <span class=\"score\" id=\"score_36454783\">128 points</span> by <a class=\"hnuser\" href=\"user?id=hwgilbert16\">hwgilbert16</a> <span class=\"age\" title=\"2023-06-24T02:12:09\"><a href=\"item?id=36454783\">10 hours ago</a></span> <span id=\"unv_36454783\"></span> | <a href=\"hide?id=36454783&amp;goto=news\">hide</a> | <a href=\"item?id=36454783\">59 comments</a> </span>\n",
              " </td></tr>\n",
              " <tr class=\"spacer\" style=\"height:5px\"></tr>\n",
              " <tr class=\"athing\" id=\"36455843\">\n",
              " <td align=\"right\" class=\"title\" valign=\"top\"><span class=\"rank\">9.</span></td> <td class=\"votelinks\" valign=\"top\"><center><a href=\"vote?id=36455843&amp;how=up&amp;goto=news\" id=\"up_36455843\"><div class=\"votearrow\" title=\"upvote\"></div></a></center></td><td class=\"title\"><span class=\"titleline\"><a href=\"http://www.paulgraham.com/makersschedule.html\" rel=\"noreferrer\">Maker's schedule, Manager's schedule (2009)</a><span class=\"sitebit comhead\"> (<a href=\"from?site=paulgraham.com\"><span class=\"sitestr\">paulgraham.com</span></a>)</span></span></td></tr><tr><td colspan=\"2\"></td><td class=\"subtext\"><span class=\"subline\">\n",
              " <span class=\"score\" id=\"score_36455843\">72 points</span> by <a class=\"hnuser\" href=\"user?id=mad2021\">mad2021</a> <span class=\"age\" title=\"2023-06-24T05:30:47\"><a href=\"item?id=36455843\">6 hours ago</a></span> <span id=\"unv_36455843\"></span> | <a href=\"hide?id=36455843&amp;goto=news\">hide</a> | <a href=\"item?id=36455843\">27 comments</a> </span>\n",
              " </td></tr>\n",
              " <tr class=\"spacer\" style=\"height:5px\"></tr>\n",
              " <tr class=\"athing\" id=\"36457435\">\n",
              " <td align=\"right\" class=\"title\" valign=\"top\"><span class=\"rank\">10.</span></td> <td class=\"votelinks\" valign=\"top\"><center><a href=\"vote?id=36457435&amp;how=up&amp;goto=news\" id=\"up_36457435\"><div class=\"votearrow\" title=\"upvote\"></div></a></center></td><td class=\"title\"><span class=\"titleline\"><a href=\"https://www.snprajwal.com/blog/keyboards-are-broken/\" rel=\"nofollow noreferrer\">Your keyboard layout is broken</a><span class=\"sitebit comhead\"> (<a href=\"from?site=snprajwal.com\"><span class=\"sitestr\">snprajwal.com</span></a>)</span></span></td></tr><tr><td colspan=\"2\"></td><td class=\"subtext\"><span class=\"subline\">\n",
              " <span class=\"score\" id=\"score_36457435\">7 points</span> by <a class=\"hnuser\" href=\"user?id=snprajwal\">snprajwal</a> <span class=\"age\" title=\"2023-06-24T10:43:58\"><a href=\"item?id=36457435\">1 hour ago</a></span> <span id=\"unv_36457435\"></span> | <a href=\"hide?id=36457435&amp;goto=news\">hide</a> | <a href=\"item?id=36457435\">discuss</a> </span>\n",
              " </td></tr>\n",
              " <tr class=\"spacer\" style=\"height:5px\"></tr>\n",
              " <tr class=\"athing\" id=\"36457286\">\n",
              " <td align=\"right\" class=\"title\" valign=\"top\"><span class=\"rank\">11.</span></td> <td class=\"votelinks\" valign=\"top\"><center><a href=\"vote?id=36457286&amp;how=up&amp;goto=news\" id=\"up_36457286\"><div class=\"votearrow\" title=\"upvote\"></div></a></center></td><td class=\"title\"><span class=\"titleline\"><a href=\"https://www.nature.com/articles/d41586-023-02120-8\" rel=\"noreferrer\">Decades-long bet on consciousness ends – it’s philosopher 1, neuroscientist 0</a><span class=\"sitebit comhead\"> (<a href=\"from?site=nature.com\"><span class=\"sitestr\">nature.com</span></a>)</span></span></td></tr><tr><td colspan=\"2\"></td><td class=\"subtext\"><span class=\"subline\">\n",
              " <span class=\"score\" id=\"score_36457286\">66 points</span> by <a class=\"hnuser\" href=\"user?id=mellosouls\">mellosouls</a> <span class=\"age\" title=\"2023-06-24T10:12:37\"><a href=\"item?id=36457286\">2 hours ago</a></span> <span id=\"unv_36457286\"></span> | <a href=\"hide?id=36457286&amp;goto=news\">hide</a> | <a href=\"item?id=36457286\">83 comments</a> </span>\n",
              " </td></tr>\n",
              " <tr class=\"spacer\" style=\"height:5px\"></tr>\n",
              " <tr class=\"athing\" id=\"36457546\">\n",
              " <td align=\"right\" class=\"title\" valign=\"top\"><span class=\"rank\">12.</span></td> <td class=\"votelinks\" valign=\"top\"><center><a href=\"vote?id=36457546&amp;how=up&amp;goto=news\" id=\"up_36457546\"><div class=\"votearrow\" title=\"upvote\"></div></a></center></td><td class=\"title\"><span class=\"titleline\"><a href=\"https://github.com/pjakma/fopl\">Fully Open Public Licence</a><span class=\"sitebit comhead\"> (<a href=\"from?site=github.com/pjakma\"><span class=\"sitestr\">github.com/pjakma</span></a>)</span></span></td></tr><tr><td colspan=\"2\"></td><td class=\"subtext\"><span class=\"subline\">\n",
              " <span class=\"score\" id=\"score_36457546\">3 points</span> by <a class=\"hnuser\" href=\"user?id=pabs3\">pabs3</a> <span class=\"age\" title=\"2023-06-24T11:05:02\"><a href=\"item?id=36457546\">1 hour ago</a></span> <span id=\"unv_36457546\"></span> | <a href=\"hide?id=36457546&amp;goto=news\">hide</a> | <a href=\"item?id=36457546\">discuss</a> </span>\n",
              " </td></tr>\n",
              " <tr class=\"spacer\" style=\"height:5px\"></tr>\n",
              " <tr class=\"athing\" id=\"36450605\">\n",
              " <td align=\"right\" class=\"title\" valign=\"top\"><span class=\"rank\">13.</span></td> <td class=\"votelinks\" valign=\"top\"><center><a href=\"vote?id=36450605&amp;how=up&amp;goto=news\" id=\"up_36450605\"><div class=\"votearrow\" title=\"upvote\"></div></a></center></td><td class=\"title\"><span class=\"titleline\"><a href=\"https://thebolditalic.com/theres-an-exact-replica-of-san-francisco-in-japan-and-it-s-weird-b8566a747150\" rel=\"noreferrer\">There’s an exact replica of San Francisco in Japan</a><span class=\"sitebit comhead\"> (<a href=\"from?site=thebolditalic.com\"><span class=\"sitestr\">thebolditalic.com</span></a>)</span></span></td></tr><tr><td colspan=\"2\"></td><td class=\"subtext\"><span class=\"subline\">\n",
              " <span class=\"score\" id=\"score_36450605\">29 points</span> by <a class=\"hnuser\" href=\"user?id=Brajeshwar\">Brajeshwar</a> <span class=\"age\" title=\"2023-06-23T18:34:19\"><a href=\"item?id=36450605\">5 hours ago</a></span> <span id=\"unv_36450605\"></span> | <a href=\"hide?id=36450605&amp;goto=news\">hide</a> | <a href=\"item?id=36450605\">19 comments</a> </span>\n",
              " </td></tr>\n",
              " <tr class=\"spacer\" style=\"height:5px\"></tr>\n",
              " <tr class=\"athing\" id=\"36453790\">\n",
              " <td align=\"right\" class=\"title\" valign=\"top\"><span class=\"rank\">14.</span></td> <td class=\"votelinks\" valign=\"top\"><center><a href=\"vote?id=36453790&amp;how=up&amp;goto=news\" id=\"up_36453790\"><div class=\"votearrow\" title=\"upvote\"></div></a></center></td><td class=\"title\"><span class=\"titleline\"><a href=\"https://johnnysswlab.com/make-your-programs-run-faster-by-better-using-the-data-cache/\" rel=\"noreferrer\">Make your programs run faster by better using the data cache (2020)</a><span class=\"sitebit comhead\"> (<a href=\"from?site=johnnysswlab.com\"><span class=\"sitestr\">johnnysswlab.com</span></a>)</span></span></td></tr><tr><td colspan=\"2\"></td><td class=\"subtext\"><span class=\"subline\">\n",
              " <span class=\"score\" id=\"score_36453790\">102 points</span> by <a class=\"hnuser\" href=\"user?id=eatonphil\">eatonphil</a> <span class=\"age\" title=\"2023-06-23T23:50:36\"><a href=\"item?id=36453790\">11 hours ago</a></span> <span id=\"unv_36453790\"></span> | <a href=\"hide?id=36453790&amp;goto=news\">hide</a> | <a href=\"item?id=36453790\">47 comments</a> </span>\n",
              " </td></tr>\n",
              " <tr class=\"spacer\" style=\"height:5px\"></tr>\n",
              " <tr class=\"athing\" id=\"36454824\">\n",
              " <td align=\"right\" class=\"title\" valign=\"top\"><span class=\"rank\">15.</span></td> <td class=\"votelinks\" valign=\"top\"><center><a href=\"vote?id=36454824&amp;how=up&amp;goto=news\" id=\"up_36454824\"><div class=\"votearrow\" title=\"upvote\"></div></a></center></td><td class=\"title\"><span class=\"titleline\"><a href=\"https://www.startribune.com/anti-monopoly-mankato-landfill-board-game-history/600279625/\" rel=\"noreferrer\">Why thousands of board games are buried beneath Mankato</a><span class=\"sitebit comhead\"> (<a href=\"from?site=startribune.com\"><span class=\"sitestr\">startribune.com</span></a>)</span></span></td></tr><tr><td colspan=\"2\"></td><td class=\"subtext\"><span class=\"subline\">\n",
              " <span class=\"score\" id=\"score_36454824\">72 points</span> by <a class=\"hnuser\" href=\"user?id=PaulHoule\">PaulHoule</a> <span class=\"age\" title=\"2023-06-24T02:20:25\"><a href=\"item?id=36454824\">9 hours ago</a></span> <span id=\"unv_36454824\"></span> | <a href=\"hide?id=36454824&amp;goto=news\">hide</a> | <a href=\"item?id=36454824\">17 comments</a> </span>\n",
              " </td></tr>\n",
              " <tr class=\"spacer\" style=\"height:5px\"></tr>\n",
              " <tr class=\"athing\" id=\"36451924\">\n",
              " <td align=\"right\" class=\"title\" valign=\"top\"><span class=\"rank\">16.</span></td> <td class=\"votelinks\" valign=\"top\"><center><a href=\"vote?id=36451924&amp;how=up&amp;goto=news\" id=\"up_36451924\"><div class=\"votearrow\" title=\"upvote\"></div></a></center></td><td class=\"title\"><span class=\"titleline\"><a href=\"https://www.u-tokyo.ac.jp/focus/en/press/z0508_00289.html\" rel=\"noreferrer\">The evolution of honey bee brains</a><span class=\"sitebit comhead\"> (<a href=\"from?site=u-tokyo.ac.jp\"><span class=\"sitestr\">u-tokyo.ac.jp</span></a>)</span></span></td></tr><tr><td colspan=\"2\"></td><td class=\"subtext\"><span class=\"subline\">\n",
              " <span class=\"score\" id=\"score_36451924\">12 points</span> by <a class=\"hnuser\" href=\"user?id=rustoo\">rustoo</a> <span class=\"age\" title=\"2023-06-23T20:40:03\"><a href=\"item?id=36451924\">4 hours ago</a></span> <span id=\"unv_36451924\"></span> | <a href=\"hide?id=36451924&amp;goto=news\">hide</a> | <a href=\"item?id=36451924\">discuss</a> </span>\n",
              " </td></tr>\n",
              " <tr class=\"spacer\" style=\"height:5px\"></tr>\n",
              " <tr class=\"athing\" id=\"36454895\">\n",
              " <td align=\"right\" class=\"title\" valign=\"top\"><span class=\"rank\">17.</span></td> <td class=\"votelinks\" valign=\"top\"><center><a href=\"vote?id=36454895&amp;how=up&amp;goto=news\" id=\"up_36454895\"><div class=\"votearrow\" title=\"upvote\"></div></a></center></td><td class=\"title\"><span class=\"titleline\"><a href=\"https://utcc.utoronto.ca/~cks/space/blog/programming/Go121ToolchainDownloads\" rel=\"noreferrer\">Go 1.21 will (probably) download newer toolchains on demand by default</a><span class=\"sitebit comhead\"> (<a href=\"from?site=utoronto.ca\"><span class=\"sitestr\">utoronto.ca</span></a>)</span></span></td></tr><tr><td colspan=\"2\"></td><td class=\"subtext\"><span class=\"subline\">\n",
              " <span class=\"score\" id=\"score_36454895\">94 points</span> by <a class=\"hnuser\" href=\"user?id=todsacerdoti\">todsacerdoti</a> <span class=\"age\" title=\"2023-06-24T02:33:08\"><a href=\"item?id=36454895\">9 hours ago</a></span> <span id=\"unv_36454895\"></span> | <a href=\"hide?id=36454895&amp;goto=news\">hide</a> | <a href=\"item?id=36454895\">61 comments</a> </span>\n",
              " </td></tr>\n",
              " <tr class=\"spacer\" style=\"height:5px\"></tr>\n",
              " <tr class=\"athing\" id=\"36443020\">\n",
              " <td align=\"right\" class=\"title\" valign=\"top\"><span class=\"rank\">18.</span></td> <td class=\"votelinks\" valign=\"top\"><center><a href=\"vote?id=36443020&amp;how=up&amp;goto=news\" id=\"up_36443020\"><div class=\"votearrow\" title=\"upvote\"></div></a></center></td><td class=\"title\"><span class=\"titleline\"><a href=\"https://www.theguardian.com/books/2023/jun/22/the-diary-of-virginia-woolf-review-a-book-for-the-ages\" rel=\"noreferrer\">The Diary of Virginia Woolf review – a book for the ages</a><span class=\"sitebit comhead\"> (<a href=\"from?site=theguardian.com\"><span class=\"sitestr\">theguardian.com</span></a>)</span></span></td></tr><tr><td colspan=\"2\"></td><td class=\"subtext\"><span class=\"subline\">\n",
              " <span class=\"score\" id=\"score_36443020\">22 points</span> by <a class=\"hnuser\" href=\"user?id=Caiero\">Caiero</a> <span class=\"age\" title=\"2023-06-23T05:07:44\"><a href=\"item?id=36443020\">6 hours ago</a></span> <span id=\"unv_36443020\"></span> | <a href=\"hide?id=36443020&amp;goto=news\">hide</a> | <a href=\"item?id=36443020\">1 comment</a> </span>\n",
              " </td></tr>\n",
              " <tr class=\"spacer\" style=\"height:5px\"></tr>\n",
              " <tr class=\"athing\" id=\"36455697\">\n",
              " <td align=\"right\" class=\"title\" valign=\"top\"><span class=\"rank\">19.</span></td> <td class=\"votelinks\" valign=\"top\"><center><a href=\"vote?id=36455697&amp;how=up&amp;goto=news\" id=\"up_36455697\"><div class=\"votearrow\" title=\"upvote\"></div></a></center></td><td class=\"title\"><span class=\"titleline\"><a href=\"https://collabfund.com/blog/how-this-all-happened/\" rel=\"noreferrer\">History is just one damn thing after another</a><span class=\"sitebit comhead\"> (<a href=\"from?site=collabfund.com\"><span class=\"sitestr\">collabfund.com</span></a>)</span></span></td></tr><tr><td colspan=\"2\"></td><td class=\"subtext\"><span class=\"subline\">\n",
              " <span class=\"score\" id=\"score_36455697\">48 points</span> by <a class=\"hnuser\" href=\"user?id=prakhar897\">prakhar897</a> <span class=\"age\" title=\"2023-06-24T04:56:24\"><a href=\"item?id=36455697\">7 hours ago</a></span> <span id=\"unv_36455697\"></span> | <a href=\"hide?id=36455697&amp;goto=news\">hide</a> | <a href=\"item?id=36455697\">8 comments</a> </span>\n",
              " </td></tr>\n",
              " <tr class=\"spacer\" style=\"height:5px\"></tr>\n",
              " <tr class=\"athing\" id=\"36453810\">\n",
              " <td align=\"right\" class=\"title\" valign=\"top\"><span class=\"rank\">20.</span></td> <td class=\"votelinks\" valign=\"top\"><center><a href=\"vote?id=36453810&amp;how=up&amp;goto=news\" id=\"up_36453810\"><div class=\"votearrow\" title=\"upvote\"></div></a></center></td><td class=\"title\"><span class=\"titleline\"><a href=\"https://lupyuen.codeberg.page/articles/riscv.html\" rel=\"noreferrer\">64-Bit RISC-V with Apache NuttX Real-Time Operating System</a><span class=\"sitebit comhead\"> (<a href=\"from?site=codeberg.page\"><span class=\"sitestr\">codeberg.page</span></a>)</span></span></td></tr><tr><td colspan=\"2\"></td><td class=\"subtext\"><span class=\"subline\">\n",
              " <span class=\"score\" id=\"score_36453810\">74 points</span> by <a class=\"hnuser\" href=\"user?id=lupyuen\">lupyuen</a> <span class=\"age\" title=\"2023-06-23T23:53:04\"><a href=\"item?id=36453810\">12 hours ago</a></span> <span id=\"unv_36453810\"></span> | <a href=\"hide?id=36453810&amp;goto=news\">hide</a> | <a href=\"item?id=36453810\">13 comments</a> </span>\n",
              " </td></tr>\n",
              " <tr class=\"spacer\" style=\"height:5px\"></tr>\n",
              " <tr class=\"athing\" id=\"36452322\">\n",
              " <td align=\"right\" class=\"title\" valign=\"top\"><span class=\"rank\">21.</span></td> <td class=\"votelinks\" valign=\"top\"><center><a href=\"vote?id=36452322&amp;how=up&amp;goto=news\" id=\"up_36452322\"><div class=\"votearrow\" title=\"upvote\"></div></a></center></td><td class=\"title\"><span class=\"titleline\"><a href=\"https://www.bleepingcomputer.com/news/security/millions-of-github-repos-likely-vulnerable-to-repojacking-researchers-say/\" rel=\"noreferrer\">Millions of GitHub repos likely vulnerable to RepoJacking, researchers say</a><span class=\"sitebit comhead\"> (<a href=\"from?site=bleepingcomputer.com\"><span class=\"sitestr\">bleepingcomputer.com</span></a>)</span></span></td></tr><tr><td colspan=\"2\"></td><td class=\"subtext\"><span class=\"subline\">\n",
              " <span class=\"score\" id=\"score_36452322\">115 points</span> by <a class=\"hnuser\" href=\"user?id=pyeri\">pyeri</a> <span class=\"age\" title=\"2023-06-23T21:22:09\"><a href=\"item?id=36452322\">14 hours ago</a></span> <span id=\"unv_36452322\"></span> | <a href=\"hide?id=36452322&amp;goto=news\">hide</a> | <a href=\"item?id=36452322\">45 comments</a> </span>\n",
              " </td></tr>\n",
              " <tr class=\"spacer\" style=\"height:5px\"></tr>\n",
              " <tr class=\"athing\" id=\"36455627\">\n",
              " <td align=\"right\" class=\"title\" valign=\"top\"><span class=\"rank\">22.</span></td> <td class=\"votelinks\" valign=\"top\"><center><a href=\"vote?id=36455627&amp;how=up&amp;goto=news\" id=\"up_36455627\"><div class=\"votearrow\" title=\"upvote\"></div></a></center></td><td class=\"title\"><span class=\"titleline\"><a href=\"https://fosstodon.org/@gabrielesvelto/110592904713090347\" rel=\"noreferrer\">A large crash spike affecting Firefox users on Linux</a><span class=\"sitebit comhead\"> (<a href=\"from?site=fosstodon.org\"><span class=\"sitestr\">fosstodon.org</span></a>)</span></span></td></tr><tr><td colspan=\"2\"></td><td class=\"subtext\"><span class=\"subline\">\n",
              " <span class=\"score\" id=\"score_36455627\">144 points</span> by <a class=\"hnuser\" href=\"user?id=sohkamyung\">sohkamyung</a> <span class=\"age\" title=\"2023-06-24T04:37:39\"><a href=\"item?id=36455627\">7 hours ago</a></span> <span id=\"unv_36455627\"></span> | <a href=\"hide?id=36455627&amp;goto=news\">hide</a> | <a href=\"item?id=36455627\">47 comments</a> </span>\n",
              " </td></tr>\n",
              " <tr class=\"spacer\" style=\"height:5px\"></tr>\n",
              " <tr class=\"athing\" id=\"36455794\">\n",
              " <td align=\"right\" class=\"title\" valign=\"top\"><span class=\"rank\">23.</span></td> <td class=\"votelinks\" valign=\"top\"><center><a href=\"vote?id=36455794&amp;how=up&amp;goto=news\" id=\"up_36455794\"><div class=\"votearrow\" title=\"upvote\"></div></a></center></td><td class=\"title\"><span class=\"titleline\"><a href=\"https://caseymuratori.com/blog_0015\" rel=\"noreferrer\">How to write good code easily with semantic compression</a><span class=\"sitebit comhead\"> (<a href=\"from?site=caseymuratori.com\"><span class=\"sitestr\">caseymuratori.com</span></a>)</span></span></td></tr><tr><td colspan=\"2\"></td><td class=\"subtext\"><span class=\"subline\">\n",
              " <span class=\"score\" id=\"score_36455794\">20 points</span> by <a class=\"hnuser\" href=\"user?id=noob_eng\">noob_eng</a> <span class=\"age\" title=\"2023-06-24T05:16:09\"><a href=\"item?id=36455794\">7 hours ago</a></span> <span id=\"unv_36455794\"></span> | <a href=\"hide?id=36455794&amp;goto=news\">hide</a> | <a href=\"item?id=36455794\">9 comments</a> </span>\n",
              " </td></tr>\n",
              " <tr class=\"spacer\" style=\"height:5px\"></tr>\n",
              " <tr class=\"athing\" id=\"36454556\">\n",
              " <td align=\"right\" class=\"title\" valign=\"top\"><span class=\"rank\">24.</span></td> <td class=\"votelinks\" valign=\"top\"><center><a href=\"vote?id=36454556&amp;how=up&amp;goto=news\" id=\"up_36454556\"><div class=\"votearrow\" title=\"upvote\"></div></a></center></td><td class=\"title\"><span class=\"titleline\"><a href=\"https://nibblestew.blogspot.com/2023/06/pdf-subpage-navigation.html\" rel=\"noreferrer\">PDF Subpage Navigation</a><span class=\"sitebit comhead\"> (<a href=\"from?site=nibblestew.blogspot.com\"><span class=\"sitestr\">nibblestew.blogspot.com</span></a>)</span></span></td></tr><tr><td colspan=\"2\"></td><td class=\"subtext\"><span class=\"subline\">\n",
              " <span class=\"score\" id=\"score_36454556\">51 points</span> by <a class=\"hnuser\" href=\"user?id=ingve\">ingve</a> <span class=\"age\" title=\"2023-06-24T01:34:35\"><a href=\"item?id=36454556\">10 hours ago</a></span> <span id=\"unv_36454556\"></span> | <a href=\"hide?id=36454556&amp;goto=news\">hide</a> | <a href=\"item?id=36454556\">10 comments</a> </span>\n",
              " </td></tr>\n",
              " <tr class=\"spacer\" style=\"height:5px\"></tr>\n",
              " <tr class=\"athing\" id=\"36447566\">\n",
              " <td align=\"right\" class=\"title\" valign=\"top\"><span class=\"rank\">25.</span></td> <td class=\"votelinks\" valign=\"top\"><center><a href=\"vote?id=36447566&amp;how=up&amp;goto=news\" id=\"up_36447566\"><div class=\"votearrow\" title=\"upvote\"></div></a></center></td><td class=\"title\"><span class=\"titleline\"><a href=\"https://spectrum.ieee.org/iron-fuel\" rel=\"noreferrer\">Iron fuel shows its mettle</a><span class=\"sitebit comhead\"> (<a href=\"from?site=ieee.org\"><span class=\"sitestr\">ieee.org</span></a>)</span></span></td></tr><tr><td colspan=\"2\"></td><td class=\"subtext\"><span class=\"subline\">\n",
              " <span class=\"score\" id=\"score_36447566\">158 points</span> by <a class=\"hnuser\" href=\"user?id=mfiguiere\">mfiguiere</a> <span class=\"age\" title=\"2023-06-23T14:48:54\"><a href=\"item?id=36447566\">21 hours ago</a></span> <span id=\"unv_36447566\"></span> | <a href=\"hide?id=36447566&amp;goto=news\">hide</a> | <a href=\"item?id=36447566\">191 comments</a> </span>\n",
              " </td></tr>\n",
              " <tr class=\"spacer\" style=\"height:5px\"></tr>\n",
              " <tr class=\"athing\" id=\"36456887\">\n",
              " <td align=\"right\" class=\"title\" valign=\"top\"><span class=\"rank\">26.</span></td> <td class=\"votelinks\" valign=\"top\"><center><a href=\"vote?id=36456887&amp;how=up&amp;goto=news\" id=\"up_36456887\"><div class=\"votearrow\" title=\"upvote\"></div></a></center></td><td class=\"title\"><span class=\"titleline\"><a href=\"https://undeadly.org/cgi?action=article;sid=20230624054334\" rel=\"noreferrer\">OpenBSD: Game of Trees 0.90 Released</a><span class=\"sitebit comhead\"> (<a href=\"from?site=undeadly.org\"><span class=\"sitestr\">undeadly.org</span></a>)</span></span></td></tr><tr><td colspan=\"2\"></td><td class=\"subtext\"><span class=\"subline\">\n",
              " <span class=\"score\" id=\"score_36456887\">24 points</span> by <a class=\"hnuser\" href=\"user?id=peter_hansteen\">peter_hansteen</a> <span class=\"age\" title=\"2023-06-24T09:00:49\"><a href=\"item?id=36456887\">3 hours ago</a></span> <span id=\"unv_36456887\"></span> | <a href=\"hide?id=36456887&amp;goto=news\">hide</a> | <a href=\"item?id=36456887\">2 comments</a> </span>\n",
              " </td></tr>\n",
              " <tr class=\"spacer\" style=\"height:5px\"></tr>\n",
              " <tr class=\"athing\" id=\"36448686\">\n",
              " <td align=\"right\" class=\"title\" valign=\"top\"><span class=\"rank\">27.</span></td> <td class=\"votelinks\" valign=\"top\"><center><a href=\"vote?id=36448686&amp;how=up&amp;goto=news\" id=\"up_36448686\"><div class=\"votearrow\" title=\"upvote\"></div></a></center></td><td class=\"title\"><span class=\"titleline\"><a href=\"https://github.com/axllent/mailpit\">Mailpit – An email and SMTP testing tool with API</a><span class=\"sitebit comhead\"> (<a href=\"from?site=github.com/axllent\"><span class=\"sitestr\">github.com/axllent</span></a>)</span></span></td></tr><tr><td colspan=\"2\"></td><td class=\"subtext\"><span class=\"subline\">\n",
              " <span class=\"score\" id=\"score_36448686\">101 points</span> by <a class=\"hnuser\" href=\"user?id=qa-guy\">qa-guy</a> <span class=\"age\" title=\"2023-06-23T15:59:56\"><a href=\"item?id=36448686\">14 hours ago</a></span> <span id=\"unv_36448686\"></span> | <a href=\"hide?id=36448686&amp;goto=news\">hide</a> | <a href=\"item?id=36448686\">19 comments</a> </span>\n",
              " </td></tr>\n",
              " <tr class=\"spacer\" style=\"height:5px\"></tr>\n",
              " <tr class=\"athing\" id=\"36454327\">\n",
              " <td align=\"right\" class=\"title\" valign=\"top\"><span class=\"rank\">28.</span></td> <td><img height=\"1\" src=\"s.gif\" width=\"14\"/></td> <td class=\"title\"><span class=\"titleline\"><a href=\"https://www.ycombinator.com/companies/doctor-droid/jobs/euNMtT4-senior-backend-7-yrs\">Doctor Droid (YC W23) Is Hiring Back End Engineer (7 Years Exp)</a><span class=\"sitebit comhead\"> (<a href=\"from?site=ycombinator.com\"><span class=\"sitestr\">ycombinator.com</span></a>)</span></span></td></tr><tr><td colspan=\"2\"></td><td class=\"subtext\">\n",
              " <span class=\"age\" title=\"2023-06-24T01:00:40\"><a href=\"item?id=36454327\">11 hours ago</a></span> | <a href=\"hide?id=36454327&amp;goto=news\">hide</a> </td></tr>\n",
              " <tr class=\"spacer\" style=\"height:5px\"></tr>\n",
              " <tr class=\"athing\" id=\"36457347\">\n",
              " <td align=\"right\" class=\"title\" valign=\"top\"><span class=\"rank\">29.</span></td> <td class=\"votelinks\" valign=\"top\"><center><a href=\"vote?id=36457347&amp;how=up&amp;goto=news\" id=\"up_36457347\"><div class=\"votearrow\" title=\"upvote\"></div></a></center></td><td class=\"title\"><span class=\"titleline\"><a href=\"https://www.phoronix.com/news/GCC-Lands-Std-CPP26-GNU26\" rel=\"noreferrer\">GCC 14 Adds Initial “-std=C++26” Plumbing</a><span class=\"sitebit comhead\"> (<a href=\"from?site=phoronix.com\"><span class=\"sitestr\">phoronix.com</span></a>)</span></span></td></tr><tr><td colspan=\"2\"></td><td class=\"subtext\"><span class=\"subline\">\n",
              " <span class=\"score\" id=\"score_36457347\">9 points</span> by <a class=\"hnuser\" href=\"user?id=mfiguiere\">mfiguiere</a> <span class=\"age\" title=\"2023-06-24T10:27:37\"><a href=\"item?id=36457347\">1 hour ago</a></span> <span id=\"unv_36457347\"></span> | <a href=\"hide?id=36457347&amp;goto=news\">hide</a> | <a href=\"item?id=36457347\">discuss</a> </span>\n",
              " </td></tr>\n",
              " <tr class=\"spacer\" style=\"height:5px\"></tr>\n",
              " <tr class=\"athing\" id=\"36449072\">\n",
              " <td align=\"right\" class=\"title\" valign=\"top\"><span class=\"rank\">30.</span></td> <td class=\"votelinks\" valign=\"top\"><center><a href=\"vote?id=36449072&amp;how=up&amp;goto=news\" id=\"up_36449072\"><div class=\"votearrow\" title=\"upvote\"></div></a></center></td><td class=\"title\"><span class=\"titleline\"><a href=\"https://colorandcontrast.com/\" rel=\"noreferrer\">An interactive guide to color and contrast</a><span class=\"sitebit comhead\"> (<a href=\"from?site=colorandcontrast.com\"><span class=\"sitestr\">colorandcontrast.com</span></a>)</span></span></td></tr><tr><td colspan=\"2\"></td><td class=\"subtext\"><span class=\"subline\">\n",
              " <span class=\"score\" id=\"score_36449072\">60 points</span> by <a class=\"hnuser\" href=\"user?id=warrenm\">warrenm</a> <span class=\"age\" title=\"2023-06-23T16:25:28\"><a href=\"item?id=36449072\">13 hours ago</a></span> <span id=\"unv_36449072\"></span> | <a href=\"hide?id=36449072&amp;goto=news\">hide</a> | <a href=\"item?id=36449072\">6 comments</a> </span>\n",
              " </td></tr>\n",
              " <tr class=\"spacer\" style=\"height:5px\"></tr>\n",
              " <tr class=\"morespace\" style=\"height:10px\"></tr><tr><td colspan=\"2\"></td>\n",
              " <td class=\"title\"><a class=\"morelink\" href=\"?p=2\" rel=\"next\">More</a></td> </tr>\n",
              " </table>\n",
              " </td></tr>\n",
              " <tr><td><img height=\"10\" src=\"s.gif\" width=\"0\"/><table cellpadding=\"1\" cellspacing=\"0\" width=\"100%\"><tr><td bgcolor=\"#ff6600\"></td></tr></table><br/>\n",
              " <center><span class=\"yclinks\"><a href=\"newsguidelines.html\">Guidelines</a> | <a href=\"newsfaq.html\">FAQ</a> | <a href=\"lists\">Lists</a> | <a href=\"https://github.com/HackerNews/API\">API</a> | <a href=\"security.html\">Security</a> | <a href=\"https://www.ycombinator.com/legal/\">Legal</a> | <a href=\"https://www.ycombinator.com/apply/\">Apply to YC</a> | <a href=\"mailto:hn@ycombinator.com\">Contact</a></span><br/><br/>\n",
              " <form action=\"//hn.algolia.com/\" method=\"get\">Search: <input autocapitalize=\"off\" autocomplete=\"false\" autocorrect=\"off\" name=\"q\" size=\"17\" spellcheck=\"false\" type=\"text\"/></form></center></td></tr> </table></center>]"
            ]
          },
          "metadata": {},
          "execution_count": 6
        }
      ]
    },
    {
      "cell_type": "code",
      "source": [
        "soup.find_all('div')"
      ],
      "metadata": {
        "colab": {
          "base_uri": "https://localhost:8080/"
        },
        "id": "rVCbzLGzMVW-",
        "outputId": "952cdaab-6c01-42f1-e7ff-fb182851ee13"
      },
      "execution_count": 7,
      "outputs": [
        {
          "output_type": "execute_result",
          "data": {
            "text/plain": [
              "[<div class=\"votearrow\" title=\"upvote\"></div>,\n",
              " <div class=\"votearrow\" title=\"upvote\"></div>,\n",
              " <div class=\"votearrow\" title=\"upvote\"></div>,\n",
              " <div class=\"votearrow\" title=\"upvote\"></div>,\n",
              " <div class=\"votearrow\" title=\"upvote\"></div>,\n",
              " <div class=\"votearrow\" title=\"upvote\"></div>,\n",
              " <div class=\"votearrow\" title=\"upvote\"></div>,\n",
              " <div class=\"votearrow\" title=\"upvote\"></div>,\n",
              " <div class=\"votearrow\" title=\"upvote\"></div>,\n",
              " <div class=\"votearrow\" title=\"upvote\"></div>,\n",
              " <div class=\"votearrow\" title=\"upvote\"></div>,\n",
              " <div class=\"votearrow\" title=\"upvote\"></div>,\n",
              " <div class=\"votearrow\" title=\"upvote\"></div>,\n",
              " <div class=\"votearrow\" title=\"upvote\"></div>,\n",
              " <div class=\"votearrow\" title=\"upvote\"></div>,\n",
              " <div class=\"votearrow\" title=\"upvote\"></div>,\n",
              " <div class=\"votearrow\" title=\"upvote\"></div>,\n",
              " <div class=\"votearrow\" title=\"upvote\"></div>,\n",
              " <div class=\"votearrow\" title=\"upvote\"></div>,\n",
              " <div class=\"votearrow\" title=\"upvote\"></div>,\n",
              " <div class=\"votearrow\" title=\"upvote\"></div>,\n",
              " <div class=\"votearrow\" title=\"upvote\"></div>,\n",
              " <div class=\"votearrow\" title=\"upvote\"></div>,\n",
              " <div class=\"votearrow\" title=\"upvote\"></div>,\n",
              " <div class=\"votearrow\" title=\"upvote\"></div>,\n",
              " <div class=\"votearrow\" title=\"upvote\"></div>,\n",
              " <div class=\"votearrow\" title=\"upvote\"></div>,\n",
              " <div class=\"votearrow\" title=\"upvote\"></div>,\n",
              " <div class=\"votearrow\" title=\"upvote\"></div>]"
            ]
          },
          "metadata": {},
          "execution_count": 7
        }
      ]
    },
    {
      "cell_type": "code",
      "source": [
        "soup.find_all('a')"
      ],
      "metadata": {
        "colab": {
          "base_uri": "https://localhost:8080/"
        },
        "id": "AG3jnGBcMcD3",
        "outputId": "d0da1481-ecce-44c5-a337-01272b651e71"
      },
      "execution_count": 8,
      "outputs": [
        {
          "output_type": "execute_result",
          "data": {
            "text/plain": [
              "[<a href=\"https://news.ycombinator.com\"><img height=\"18\" src=\"y18.svg\" style=\"border:1px white solid; display:block\" width=\"18\"/></a>,\n",
              " <a href=\"news\">Hacker News</a>,\n",
              " <a href=\"newest\">new</a>,\n",
              " <a href=\"front\">past</a>,\n",
              " <a href=\"newcomments\">comments</a>,\n",
              " <a href=\"ask\">ask</a>,\n",
              " <a href=\"show\">show</a>,\n",
              " <a href=\"jobs\">jobs</a>,\n",
              " <a href=\"submit\">submit</a>,\n",
              " <a href=\"login?goto=news\">login</a>,\n",
              " <a href=\"vote?id=36457557&amp;how=up&amp;goto=news\" id=\"up_36457557\"><div class=\"votearrow\" title=\"upvote\"></div></a>,\n",
              " <a href=\"https://alexharri.com/blog/typescript-structural-typing\" rel=\"noreferrer\">Why doesn't TypeScript properly type Object.keys?</a>,\n",
              " <a href=\"from?site=alexharri.com\"><span class=\"sitestr\">alexharri.com</span></a>,\n",
              " <a class=\"hnuser\" href=\"user?id=alexharri\">alexharri</a>,\n",
              " <a href=\"item?id=36457557\">1 hour ago</a>,\n",
              " <a href=\"hide?id=36457557&amp;goto=news\">hide</a>,\n",
              " <a href=\"item?id=36457557\">9 comments</a>,\n",
              " <a href=\"vote?id=36453856&amp;how=up&amp;goto=news\" id=\"up_36453856\"><div class=\"votearrow\" title=\"upvote\"></div></a>,\n",
              " <a href=\"https://novehiclesinthepark.com/\" rel=\"noreferrer\">The rule says, “No vehicles in the park”</a>,\n",
              " <a href=\"from?site=novehiclesinthepark.com\"><span class=\"sitestr\">novehiclesinthepark.com</span></a>,\n",
              " <a class=\"hnuser\" href=\"user?id=luu\">luu</a>,\n",
              " <a href=\"item?id=36453856\">12 hours ago</a>,\n",
              " <a href=\"hide?id=36453856&amp;goto=news\">hide</a>,\n",
              " <a href=\"item?id=36453856\">806 comments</a>,\n",
              " <a href=\"vote?id=36457051&amp;how=up&amp;goto=news\" id=\"up_36457051\"><div class=\"votearrow\" title=\"upvote\"></div></a>,\n",
              " <a href=\"https://www.cs.columbia.edu/~hgs/etc/writing-bugs.html\" rel=\"noreferrer\">Common Bugs in Writing</a>,\n",
              " <a href=\"from?site=columbia.edu\"><span class=\"sitestr\">columbia.edu</span></a>,\n",
              " <a class=\"hnuser\" href=\"user?id=pablode\">pablode</a>,\n",
              " <a href=\"item?id=36457051\">2 hours ago</a>,\n",
              " <a href=\"hide?id=36457051&amp;goto=news\">hide</a>,\n",
              " <a href=\"item?id=36457051\">20 comments</a>,\n",
              " <a href=\"vote?id=36449957&amp;how=up&amp;goto=news\" id=\"up_36449957\"><div class=\"votearrow\" title=\"upvote\"></div></a>,\n",
              " <a href=\"https://memory-alpha.fandom.com/wiki/Rules_of_Acquisition\" rel=\"noreferrer\">Ferengi Rules of Acquisition</a>,\n",
              " <a href=\"from?site=memory-alpha.fandom.com\"><span class=\"sitestr\">memory-alpha.fandom.com</span></a>,\n",
              " <a class=\"hnuser\" href=\"user?id=_Microft\">_Microft</a>,\n",
              " <a href=\"item?id=36449957\">2 hours ago</a>,\n",
              " <a href=\"hide?id=36449957&amp;goto=news\">hide</a>,\n",
              " <a href=\"item?id=36449957\">14 comments</a>,\n",
              " <a href=\"vote?id=36457205&amp;how=up&amp;goto=news\" id=\"up_36457205\"><div class=\"votearrow\" title=\"upvote\"></div></a>,\n",
              " <a href=\"https://www.stylemanual.gov.au/\" rel=\"noreferrer\">Australian Government Style Manual</a>,\n",
              " <a href=\"from?site=stylemanual.gov.au\"><span class=\"sitestr\">stylemanual.gov.au</span></a>,\n",
              " <a class=\"hnuser\" href=\"user?id=kimburgess\">kimburgess</a>,\n",
              " <a href=\"item?id=36457205\">2 hours ago</a>,\n",
              " <a href=\"hide?id=36457205&amp;goto=news\">hide</a>,\n",
              " <a href=\"item?id=36457205\">9 comments</a>,\n",
              " <a href=\"vote?id=36451907&amp;how=up&amp;goto=news\" id=\"up_36451907\"><div class=\"votearrow\" title=\"upvote\"></div></a>,\n",
              " <a href=\"https://neugierig.org/software/blog/2023/06/twos-complement.html\" rel=\"noreferrer\">Finally getting two's complement</a>,\n",
              " <a href=\"from?site=neugierig.org\"><span class=\"sitestr\">neugierig.org</span></a>,\n",
              " <a class=\"hnuser\" href=\"user?id=thepbone\">thepbone</a>,\n",
              " <a href=\"item?id=36451907\">6 hours ago</a>,\n",
              " <a href=\"hide?id=36451907&amp;goto=news\">hide</a>,\n",
              " <a href=\"item?id=36451907\">34 comments</a>,\n",
              " <a href=\"vote?id=36445690&amp;how=up&amp;goto=news\" id=\"up_36445690\"><div class=\"votearrow\" title=\"upvote\"></div></a>,\n",
              " <a href=\"https://en.wikipedia.org/wiki/Sturddlefish\" rel=\"noreferrer\">Sturddlefish</a>,\n",
              " <a href=\"from?site=wikipedia.org\"><span class=\"sitestr\">wikipedia.org</span></a>,\n",
              " <a class=\"hnuser\" href=\"user?id=isp\">isp</a>,\n",
              " <a href=\"item?id=36445690\">4 hours ago</a>,\n",
              " <a href=\"hide?id=36445690&amp;goto=news\">hide</a>,\n",
              " <a href=\"item?id=36445690\">11 comments</a>,\n",
              " <a href=\"vote?id=36454783&amp;how=up&amp;goto=news\" id=\"up_36454783\"><div class=\"votearrow\" title=\"upvote\"></div></a>,\n",
              " <a href=\"https://github.com/hwgilbert16/scholarsome\">An open source web-based flashcard studying system</a>,\n",
              " <a href=\"from?site=github.com/hwgilbert16\"><span class=\"sitestr\">github.com/hwgilbert16</span></a>,\n",
              " <a class=\"hnuser\" href=\"user?id=hwgilbert16\">hwgilbert16</a>,\n",
              " <a href=\"item?id=36454783\">10 hours ago</a>,\n",
              " <a href=\"hide?id=36454783&amp;goto=news\">hide</a>,\n",
              " <a href=\"item?id=36454783\">59 comments</a>,\n",
              " <a href=\"vote?id=36455843&amp;how=up&amp;goto=news\" id=\"up_36455843\"><div class=\"votearrow\" title=\"upvote\"></div></a>,\n",
              " <a href=\"http://www.paulgraham.com/makersschedule.html\" rel=\"noreferrer\">Maker's schedule, Manager's schedule (2009)</a>,\n",
              " <a href=\"from?site=paulgraham.com\"><span class=\"sitestr\">paulgraham.com</span></a>,\n",
              " <a class=\"hnuser\" href=\"user?id=mad2021\">mad2021</a>,\n",
              " <a href=\"item?id=36455843\">6 hours ago</a>,\n",
              " <a href=\"hide?id=36455843&amp;goto=news\">hide</a>,\n",
              " <a href=\"item?id=36455843\">27 comments</a>,\n",
              " <a href=\"vote?id=36457435&amp;how=up&amp;goto=news\" id=\"up_36457435\"><div class=\"votearrow\" title=\"upvote\"></div></a>,\n",
              " <a href=\"https://www.snprajwal.com/blog/keyboards-are-broken/\" rel=\"nofollow noreferrer\">Your keyboard layout is broken</a>,\n",
              " <a href=\"from?site=snprajwal.com\"><span class=\"sitestr\">snprajwal.com</span></a>,\n",
              " <a class=\"hnuser\" href=\"user?id=snprajwal\">snprajwal</a>,\n",
              " <a href=\"item?id=36457435\">1 hour ago</a>,\n",
              " <a href=\"hide?id=36457435&amp;goto=news\">hide</a>,\n",
              " <a href=\"item?id=36457435\">discuss</a>,\n",
              " <a href=\"vote?id=36457286&amp;how=up&amp;goto=news\" id=\"up_36457286\"><div class=\"votearrow\" title=\"upvote\"></div></a>,\n",
              " <a href=\"https://www.nature.com/articles/d41586-023-02120-8\" rel=\"noreferrer\">Decades-long bet on consciousness ends – it’s philosopher 1, neuroscientist 0</a>,\n",
              " <a href=\"from?site=nature.com\"><span class=\"sitestr\">nature.com</span></a>,\n",
              " <a class=\"hnuser\" href=\"user?id=mellosouls\">mellosouls</a>,\n",
              " <a href=\"item?id=36457286\">2 hours ago</a>,\n",
              " <a href=\"hide?id=36457286&amp;goto=news\">hide</a>,\n",
              " <a href=\"item?id=36457286\">83 comments</a>,\n",
              " <a href=\"vote?id=36457546&amp;how=up&amp;goto=news\" id=\"up_36457546\"><div class=\"votearrow\" title=\"upvote\"></div></a>,\n",
              " <a href=\"https://github.com/pjakma/fopl\">Fully Open Public Licence</a>,\n",
              " <a href=\"from?site=github.com/pjakma\"><span class=\"sitestr\">github.com/pjakma</span></a>,\n",
              " <a class=\"hnuser\" href=\"user?id=pabs3\">pabs3</a>,\n",
              " <a href=\"item?id=36457546\">1 hour ago</a>,\n",
              " <a href=\"hide?id=36457546&amp;goto=news\">hide</a>,\n",
              " <a href=\"item?id=36457546\">discuss</a>,\n",
              " <a href=\"vote?id=36450605&amp;how=up&amp;goto=news\" id=\"up_36450605\"><div class=\"votearrow\" title=\"upvote\"></div></a>,\n",
              " <a href=\"https://thebolditalic.com/theres-an-exact-replica-of-san-francisco-in-japan-and-it-s-weird-b8566a747150\" rel=\"noreferrer\">There’s an exact replica of San Francisco in Japan</a>,\n",
              " <a href=\"from?site=thebolditalic.com\"><span class=\"sitestr\">thebolditalic.com</span></a>,\n",
              " <a class=\"hnuser\" href=\"user?id=Brajeshwar\">Brajeshwar</a>,\n",
              " <a href=\"item?id=36450605\">5 hours ago</a>,\n",
              " <a href=\"hide?id=36450605&amp;goto=news\">hide</a>,\n",
              " <a href=\"item?id=36450605\">19 comments</a>,\n",
              " <a href=\"vote?id=36453790&amp;how=up&amp;goto=news\" id=\"up_36453790\"><div class=\"votearrow\" title=\"upvote\"></div></a>,\n",
              " <a href=\"https://johnnysswlab.com/make-your-programs-run-faster-by-better-using-the-data-cache/\" rel=\"noreferrer\">Make your programs run faster by better using the data cache (2020)</a>,\n",
              " <a href=\"from?site=johnnysswlab.com\"><span class=\"sitestr\">johnnysswlab.com</span></a>,\n",
              " <a class=\"hnuser\" href=\"user?id=eatonphil\">eatonphil</a>,\n",
              " <a href=\"item?id=36453790\">11 hours ago</a>,\n",
              " <a href=\"hide?id=36453790&amp;goto=news\">hide</a>,\n",
              " <a href=\"item?id=36453790\">47 comments</a>,\n",
              " <a href=\"vote?id=36454824&amp;how=up&amp;goto=news\" id=\"up_36454824\"><div class=\"votearrow\" title=\"upvote\"></div></a>,\n",
              " <a href=\"https://www.startribune.com/anti-monopoly-mankato-landfill-board-game-history/600279625/\" rel=\"noreferrer\">Why thousands of board games are buried beneath Mankato</a>,\n",
              " <a href=\"from?site=startribune.com\"><span class=\"sitestr\">startribune.com</span></a>,\n",
              " <a class=\"hnuser\" href=\"user?id=PaulHoule\">PaulHoule</a>,\n",
              " <a href=\"item?id=36454824\">9 hours ago</a>,\n",
              " <a href=\"hide?id=36454824&amp;goto=news\">hide</a>,\n",
              " <a href=\"item?id=36454824\">17 comments</a>,\n",
              " <a href=\"vote?id=36451924&amp;how=up&amp;goto=news\" id=\"up_36451924\"><div class=\"votearrow\" title=\"upvote\"></div></a>,\n",
              " <a href=\"https://www.u-tokyo.ac.jp/focus/en/press/z0508_00289.html\" rel=\"noreferrer\">The evolution of honey bee brains</a>,\n",
              " <a href=\"from?site=u-tokyo.ac.jp\"><span class=\"sitestr\">u-tokyo.ac.jp</span></a>,\n",
              " <a class=\"hnuser\" href=\"user?id=rustoo\">rustoo</a>,\n",
              " <a href=\"item?id=36451924\">4 hours ago</a>,\n",
              " <a href=\"hide?id=36451924&amp;goto=news\">hide</a>,\n",
              " <a href=\"item?id=36451924\">discuss</a>,\n",
              " <a href=\"vote?id=36454895&amp;how=up&amp;goto=news\" id=\"up_36454895\"><div class=\"votearrow\" title=\"upvote\"></div></a>,\n",
              " <a href=\"https://utcc.utoronto.ca/~cks/space/blog/programming/Go121ToolchainDownloads\" rel=\"noreferrer\">Go 1.21 will (probably) download newer toolchains on demand by default</a>,\n",
              " <a href=\"from?site=utoronto.ca\"><span class=\"sitestr\">utoronto.ca</span></a>,\n",
              " <a class=\"hnuser\" href=\"user?id=todsacerdoti\">todsacerdoti</a>,\n",
              " <a href=\"item?id=36454895\">9 hours ago</a>,\n",
              " <a href=\"hide?id=36454895&amp;goto=news\">hide</a>,\n",
              " <a href=\"item?id=36454895\">61 comments</a>,\n",
              " <a href=\"vote?id=36443020&amp;how=up&amp;goto=news\" id=\"up_36443020\"><div class=\"votearrow\" title=\"upvote\"></div></a>,\n",
              " <a href=\"https://www.theguardian.com/books/2023/jun/22/the-diary-of-virginia-woolf-review-a-book-for-the-ages\" rel=\"noreferrer\">The Diary of Virginia Woolf review – a book for the ages</a>,\n",
              " <a href=\"from?site=theguardian.com\"><span class=\"sitestr\">theguardian.com</span></a>,\n",
              " <a class=\"hnuser\" href=\"user?id=Caiero\">Caiero</a>,\n",
              " <a href=\"item?id=36443020\">6 hours ago</a>,\n",
              " <a href=\"hide?id=36443020&amp;goto=news\">hide</a>,\n",
              " <a href=\"item?id=36443020\">1 comment</a>,\n",
              " <a href=\"vote?id=36455697&amp;how=up&amp;goto=news\" id=\"up_36455697\"><div class=\"votearrow\" title=\"upvote\"></div></a>,\n",
              " <a href=\"https://collabfund.com/blog/how-this-all-happened/\" rel=\"noreferrer\">History is just one damn thing after another</a>,\n",
              " <a href=\"from?site=collabfund.com\"><span class=\"sitestr\">collabfund.com</span></a>,\n",
              " <a class=\"hnuser\" href=\"user?id=prakhar897\">prakhar897</a>,\n",
              " <a href=\"item?id=36455697\">7 hours ago</a>,\n",
              " <a href=\"hide?id=36455697&amp;goto=news\">hide</a>,\n",
              " <a href=\"item?id=36455697\">8 comments</a>,\n",
              " <a href=\"vote?id=36453810&amp;how=up&amp;goto=news\" id=\"up_36453810\"><div class=\"votearrow\" title=\"upvote\"></div></a>,\n",
              " <a href=\"https://lupyuen.codeberg.page/articles/riscv.html\" rel=\"noreferrer\">64-Bit RISC-V with Apache NuttX Real-Time Operating System</a>,\n",
              " <a href=\"from?site=codeberg.page\"><span class=\"sitestr\">codeberg.page</span></a>,\n",
              " <a class=\"hnuser\" href=\"user?id=lupyuen\">lupyuen</a>,\n",
              " <a href=\"item?id=36453810\">12 hours ago</a>,\n",
              " <a href=\"hide?id=36453810&amp;goto=news\">hide</a>,\n",
              " <a href=\"item?id=36453810\">13 comments</a>,\n",
              " <a href=\"vote?id=36452322&amp;how=up&amp;goto=news\" id=\"up_36452322\"><div class=\"votearrow\" title=\"upvote\"></div></a>,\n",
              " <a href=\"https://www.bleepingcomputer.com/news/security/millions-of-github-repos-likely-vulnerable-to-repojacking-researchers-say/\" rel=\"noreferrer\">Millions of GitHub repos likely vulnerable to RepoJacking, researchers say</a>,\n",
              " <a href=\"from?site=bleepingcomputer.com\"><span class=\"sitestr\">bleepingcomputer.com</span></a>,\n",
              " <a class=\"hnuser\" href=\"user?id=pyeri\">pyeri</a>,\n",
              " <a href=\"item?id=36452322\">14 hours ago</a>,\n",
              " <a href=\"hide?id=36452322&amp;goto=news\">hide</a>,\n",
              " <a href=\"item?id=36452322\">45 comments</a>,\n",
              " <a href=\"vote?id=36455627&amp;how=up&amp;goto=news\" id=\"up_36455627\"><div class=\"votearrow\" title=\"upvote\"></div></a>,\n",
              " <a href=\"https://fosstodon.org/@gabrielesvelto/110592904713090347\" rel=\"noreferrer\">A large crash spike affecting Firefox users on Linux</a>,\n",
              " <a href=\"from?site=fosstodon.org\"><span class=\"sitestr\">fosstodon.org</span></a>,\n",
              " <a class=\"hnuser\" href=\"user?id=sohkamyung\">sohkamyung</a>,\n",
              " <a href=\"item?id=36455627\">7 hours ago</a>,\n",
              " <a href=\"hide?id=36455627&amp;goto=news\">hide</a>,\n",
              " <a href=\"item?id=36455627\">47 comments</a>,\n",
              " <a href=\"vote?id=36455794&amp;how=up&amp;goto=news\" id=\"up_36455794\"><div class=\"votearrow\" title=\"upvote\"></div></a>,\n",
              " <a href=\"https://caseymuratori.com/blog_0015\" rel=\"noreferrer\">How to write good code easily with semantic compression</a>,\n",
              " <a href=\"from?site=caseymuratori.com\"><span class=\"sitestr\">caseymuratori.com</span></a>,\n",
              " <a class=\"hnuser\" href=\"user?id=noob_eng\">noob_eng</a>,\n",
              " <a href=\"item?id=36455794\">7 hours ago</a>,\n",
              " <a href=\"hide?id=36455794&amp;goto=news\">hide</a>,\n",
              " <a href=\"item?id=36455794\">9 comments</a>,\n",
              " <a href=\"vote?id=36454556&amp;how=up&amp;goto=news\" id=\"up_36454556\"><div class=\"votearrow\" title=\"upvote\"></div></a>,\n",
              " <a href=\"https://nibblestew.blogspot.com/2023/06/pdf-subpage-navigation.html\" rel=\"noreferrer\">PDF Subpage Navigation</a>,\n",
              " <a href=\"from?site=nibblestew.blogspot.com\"><span class=\"sitestr\">nibblestew.blogspot.com</span></a>,\n",
              " <a class=\"hnuser\" href=\"user?id=ingve\">ingve</a>,\n",
              " <a href=\"item?id=36454556\">10 hours ago</a>,\n",
              " <a href=\"hide?id=36454556&amp;goto=news\">hide</a>,\n",
              " <a href=\"item?id=36454556\">10 comments</a>,\n",
              " <a href=\"vote?id=36447566&amp;how=up&amp;goto=news\" id=\"up_36447566\"><div class=\"votearrow\" title=\"upvote\"></div></a>,\n",
              " <a href=\"https://spectrum.ieee.org/iron-fuel\" rel=\"noreferrer\">Iron fuel shows its mettle</a>,\n",
              " <a href=\"from?site=ieee.org\"><span class=\"sitestr\">ieee.org</span></a>,\n",
              " <a class=\"hnuser\" href=\"user?id=mfiguiere\">mfiguiere</a>,\n",
              " <a href=\"item?id=36447566\">21 hours ago</a>,\n",
              " <a href=\"hide?id=36447566&amp;goto=news\">hide</a>,\n",
              " <a href=\"item?id=36447566\">191 comments</a>,\n",
              " <a href=\"vote?id=36456887&amp;how=up&amp;goto=news\" id=\"up_36456887\"><div class=\"votearrow\" title=\"upvote\"></div></a>,\n",
              " <a href=\"https://undeadly.org/cgi?action=article;sid=20230624054334\" rel=\"noreferrer\">OpenBSD: Game of Trees 0.90 Released</a>,\n",
              " <a href=\"from?site=undeadly.org\"><span class=\"sitestr\">undeadly.org</span></a>,\n",
              " <a class=\"hnuser\" href=\"user?id=peter_hansteen\">peter_hansteen</a>,\n",
              " <a href=\"item?id=36456887\">3 hours ago</a>,\n",
              " <a href=\"hide?id=36456887&amp;goto=news\">hide</a>,\n",
              " <a href=\"item?id=36456887\">2 comments</a>,\n",
              " <a href=\"vote?id=36448686&amp;how=up&amp;goto=news\" id=\"up_36448686\"><div class=\"votearrow\" title=\"upvote\"></div></a>,\n",
              " <a href=\"https://github.com/axllent/mailpit\">Mailpit – An email and SMTP testing tool with API</a>,\n",
              " <a href=\"from?site=github.com/axllent\"><span class=\"sitestr\">github.com/axllent</span></a>,\n",
              " <a class=\"hnuser\" href=\"user?id=qa-guy\">qa-guy</a>,\n",
              " <a href=\"item?id=36448686\">14 hours ago</a>,\n",
              " <a href=\"hide?id=36448686&amp;goto=news\">hide</a>,\n",
              " <a href=\"item?id=36448686\">19 comments</a>,\n",
              " <a href=\"https://www.ycombinator.com/companies/doctor-droid/jobs/euNMtT4-senior-backend-7-yrs\">Doctor Droid (YC W23) Is Hiring Back End Engineer (7 Years Exp)</a>,\n",
              " <a href=\"from?site=ycombinator.com\"><span class=\"sitestr\">ycombinator.com</span></a>,\n",
              " <a href=\"item?id=36454327\">11 hours ago</a>,\n",
              " <a href=\"hide?id=36454327&amp;goto=news\">hide</a>,\n",
              " <a href=\"vote?id=36457347&amp;how=up&amp;goto=news\" id=\"up_36457347\"><div class=\"votearrow\" title=\"upvote\"></div></a>,\n",
              " <a href=\"https://www.phoronix.com/news/GCC-Lands-Std-CPP26-GNU26\" rel=\"noreferrer\">GCC 14 Adds Initial “-std=C++26” Plumbing</a>,\n",
              " <a href=\"from?site=phoronix.com\"><span class=\"sitestr\">phoronix.com</span></a>,\n",
              " <a class=\"hnuser\" href=\"user?id=mfiguiere\">mfiguiere</a>,\n",
              " <a href=\"item?id=36457347\">1 hour ago</a>,\n",
              " <a href=\"hide?id=36457347&amp;goto=news\">hide</a>,\n",
              " <a href=\"item?id=36457347\">discuss</a>,\n",
              " <a href=\"vote?id=36449072&amp;how=up&amp;goto=news\" id=\"up_36449072\"><div class=\"votearrow\" title=\"upvote\"></div></a>,\n",
              " <a href=\"https://colorandcontrast.com/\" rel=\"noreferrer\">An interactive guide to color and contrast</a>,\n",
              " <a href=\"from?site=colorandcontrast.com\"><span class=\"sitestr\">colorandcontrast.com</span></a>,\n",
              " <a class=\"hnuser\" href=\"user?id=warrenm\">warrenm</a>,\n",
              " <a href=\"item?id=36449072\">13 hours ago</a>,\n",
              " <a href=\"hide?id=36449072&amp;goto=news\">hide</a>,\n",
              " <a href=\"item?id=36449072\">6 comments</a>,\n",
              " <a class=\"morelink\" href=\"?p=2\" rel=\"next\">More</a>,\n",
              " <a href=\"newsguidelines.html\">Guidelines</a>,\n",
              " <a href=\"newsfaq.html\">FAQ</a>,\n",
              " <a href=\"lists\">Lists</a>,\n",
              " <a href=\"https://github.com/HackerNews/API\">API</a>,\n",
              " <a href=\"security.html\">Security</a>,\n",
              " <a href=\"https://www.ycombinator.com/legal/\">Legal</a>,\n",
              " <a href=\"https://www.ycombinator.com/apply/\">Apply to YC</a>,\n",
              " <a href=\"mailto:hn@ycombinator.com\">Contact</a>]"
            ]
          },
          "metadata": {},
          "execution_count": 8
        }
      ]
    },
    {
      "cell_type": "code",
      "source": [
        "soup.title"
      ],
      "metadata": {
        "colab": {
          "base_uri": "https://localhost:8080/"
        },
        "id": "FvYDi5vNMlqM",
        "outputId": "9e1b9e8a-fa6c-4387-ba0a-030f514463e9"
      },
      "execution_count": 9,
      "outputs": [
        {
          "output_type": "execute_result",
          "data": {
            "text/plain": [
              "<title>Hacker News</title>"
            ]
          },
          "metadata": {},
          "execution_count": 9
        }
      ]
    },
    {
      "cell_type": "code",
      "source": [
        "soup.a"
      ],
      "metadata": {
        "colab": {
          "base_uri": "https://localhost:8080/"
        },
        "id": "mqH3FDBbMp_s",
        "outputId": "b52c7aa4-22c4-4d3b-e289-c1ef23839a21"
      },
      "execution_count": 10,
      "outputs": [
        {
          "output_type": "execute_result",
          "data": {
            "text/plain": [
              "<a href=\"https://news.ycombinator.com\"><img height=\"18\" src=\"y18.svg\" style=\"border:1px white solid; display:block\" width=\"18\"/></a>"
            ]
          },
          "metadata": {},
          "execution_count": 10
        }
      ]
    },
    {
      "cell_type": "code",
      "source": [
        "soup.find('a')"
      ],
      "metadata": {
        "colab": {
          "base_uri": "https://localhost:8080/"
        },
        "id": "aKsY42rkMr8u",
        "outputId": "d691c9ed-2403-4f26-e6f7-1a66df854eb0"
      },
      "execution_count": 11,
      "outputs": [
        {
          "output_type": "execute_result",
          "data": {
            "text/plain": [
              "<a href=\"https://news.ycombinator.com\"><img height=\"18\" src=\"y18.svg\" style=\"border:1px white solid; display:block\" width=\"18\"/></a>"
            ]
          },
          "metadata": {},
          "execution_count": 11
        }
      ]
    },
    {
      "cell_type": "code",
      "source": [
        "soup.find(id=\"score_36457286\")"
      ],
      "metadata": {
        "colab": {
          "base_uri": "https://localhost:8080/"
        },
        "id": "Kmhka3SeMvhV",
        "outputId": "49ed1437-7b41-463d-dffb-8776a036c6a7"
      },
      "execution_count": 12,
      "outputs": [
        {
          "output_type": "execute_result",
          "data": {
            "text/plain": [
              "<span class=\"score\" id=\"score_36457286\">66 points</span>"
            ]
          },
          "metadata": {},
          "execution_count": 12
        }
      ]
    },
    {
      "cell_type": "code",
      "source": [
        "print(soup.select('a'))"
      ],
      "metadata": {
        "colab": {
          "base_uri": "https://localhost:8080/"
        },
        "id": "o59wbTQDNZgX",
        "outputId": "3b1cfbda-716b-41c0-a973-5bd8a8c91248"
      },
      "execution_count": 13,
      "outputs": [
        {
          "output_type": "stream",
          "name": "stdout",
          "text": [
            "[<a href=\"https://news.ycombinator.com\"><img height=\"18\" src=\"y18.svg\" style=\"border:1px white solid; display:block\" width=\"18\"/></a>, <a href=\"news\">Hacker News</a>, <a href=\"newest\">new</a>, <a href=\"front\">past</a>, <a href=\"newcomments\">comments</a>, <a href=\"ask\">ask</a>, <a href=\"show\">show</a>, <a href=\"jobs\">jobs</a>, <a href=\"submit\">submit</a>, <a href=\"login?goto=news\">login</a>, <a href=\"vote?id=36457557&amp;how=up&amp;goto=news\" id=\"up_36457557\"><div class=\"votearrow\" title=\"upvote\"></div></a>, <a href=\"https://alexharri.com/blog/typescript-structural-typing\" rel=\"noreferrer\">Why doesn't TypeScript properly type Object.keys?</a>, <a href=\"from?site=alexharri.com\"><span class=\"sitestr\">alexharri.com</span></a>, <a class=\"hnuser\" href=\"user?id=alexharri\">alexharri</a>, <a href=\"item?id=36457557\">1 hour ago</a>, <a href=\"hide?id=36457557&amp;goto=news\">hide</a>, <a href=\"item?id=36457557\">9 comments</a>, <a href=\"vote?id=36453856&amp;how=up&amp;goto=news\" id=\"up_36453856\"><div class=\"votearrow\" title=\"upvote\"></div></a>, <a href=\"https://novehiclesinthepark.com/\" rel=\"noreferrer\">The rule says, “No vehicles in the park”</a>, <a href=\"from?site=novehiclesinthepark.com\"><span class=\"sitestr\">novehiclesinthepark.com</span></a>, <a class=\"hnuser\" href=\"user?id=luu\">luu</a>, <a href=\"item?id=36453856\">12 hours ago</a>, <a href=\"hide?id=36453856&amp;goto=news\">hide</a>, <a href=\"item?id=36453856\">806 comments</a>, <a href=\"vote?id=36457051&amp;how=up&amp;goto=news\" id=\"up_36457051\"><div class=\"votearrow\" title=\"upvote\"></div></a>, <a href=\"https://www.cs.columbia.edu/~hgs/etc/writing-bugs.html\" rel=\"noreferrer\">Common Bugs in Writing</a>, <a href=\"from?site=columbia.edu\"><span class=\"sitestr\">columbia.edu</span></a>, <a class=\"hnuser\" href=\"user?id=pablode\">pablode</a>, <a href=\"item?id=36457051\">2 hours ago</a>, <a href=\"hide?id=36457051&amp;goto=news\">hide</a>, <a href=\"item?id=36457051\">20 comments</a>, <a href=\"vote?id=36449957&amp;how=up&amp;goto=news\" id=\"up_36449957\"><div class=\"votearrow\" title=\"upvote\"></div></a>, <a href=\"https://memory-alpha.fandom.com/wiki/Rules_of_Acquisition\" rel=\"noreferrer\">Ferengi Rules of Acquisition</a>, <a href=\"from?site=memory-alpha.fandom.com\"><span class=\"sitestr\">memory-alpha.fandom.com</span></a>, <a class=\"hnuser\" href=\"user?id=_Microft\">_Microft</a>, <a href=\"item?id=36449957\">2 hours ago</a>, <a href=\"hide?id=36449957&amp;goto=news\">hide</a>, <a href=\"item?id=36449957\">14 comments</a>, <a href=\"vote?id=36457205&amp;how=up&amp;goto=news\" id=\"up_36457205\"><div class=\"votearrow\" title=\"upvote\"></div></a>, <a href=\"https://www.stylemanual.gov.au/\" rel=\"noreferrer\">Australian Government Style Manual</a>, <a href=\"from?site=stylemanual.gov.au\"><span class=\"sitestr\">stylemanual.gov.au</span></a>, <a class=\"hnuser\" href=\"user?id=kimburgess\">kimburgess</a>, <a href=\"item?id=36457205\">2 hours ago</a>, <a href=\"hide?id=36457205&amp;goto=news\">hide</a>, <a href=\"item?id=36457205\">9 comments</a>, <a href=\"vote?id=36451907&amp;how=up&amp;goto=news\" id=\"up_36451907\"><div class=\"votearrow\" title=\"upvote\"></div></a>, <a href=\"https://neugierig.org/software/blog/2023/06/twos-complement.html\" rel=\"noreferrer\">Finally getting two's complement</a>, <a href=\"from?site=neugierig.org\"><span class=\"sitestr\">neugierig.org</span></a>, <a class=\"hnuser\" href=\"user?id=thepbone\">thepbone</a>, <a href=\"item?id=36451907\">6 hours ago</a>, <a href=\"hide?id=36451907&amp;goto=news\">hide</a>, <a href=\"item?id=36451907\">34 comments</a>, <a href=\"vote?id=36445690&amp;how=up&amp;goto=news\" id=\"up_36445690\"><div class=\"votearrow\" title=\"upvote\"></div></a>, <a href=\"https://en.wikipedia.org/wiki/Sturddlefish\" rel=\"noreferrer\">Sturddlefish</a>, <a href=\"from?site=wikipedia.org\"><span class=\"sitestr\">wikipedia.org</span></a>, <a class=\"hnuser\" href=\"user?id=isp\">isp</a>, <a href=\"item?id=36445690\">4 hours ago</a>, <a href=\"hide?id=36445690&amp;goto=news\">hide</a>, <a href=\"item?id=36445690\">11 comments</a>, <a href=\"vote?id=36454783&amp;how=up&amp;goto=news\" id=\"up_36454783\"><div class=\"votearrow\" title=\"upvote\"></div></a>, <a href=\"https://github.com/hwgilbert16/scholarsome\">An open source web-based flashcard studying system</a>, <a href=\"from?site=github.com/hwgilbert16\"><span class=\"sitestr\">github.com/hwgilbert16</span></a>, <a class=\"hnuser\" href=\"user?id=hwgilbert16\">hwgilbert16</a>, <a href=\"item?id=36454783\">10 hours ago</a>, <a href=\"hide?id=36454783&amp;goto=news\">hide</a>, <a href=\"item?id=36454783\">59 comments</a>, <a href=\"vote?id=36455843&amp;how=up&amp;goto=news\" id=\"up_36455843\"><div class=\"votearrow\" title=\"upvote\"></div></a>, <a href=\"http://www.paulgraham.com/makersschedule.html\" rel=\"noreferrer\">Maker's schedule, Manager's schedule (2009)</a>, <a href=\"from?site=paulgraham.com\"><span class=\"sitestr\">paulgraham.com</span></a>, <a class=\"hnuser\" href=\"user?id=mad2021\">mad2021</a>, <a href=\"item?id=36455843\">6 hours ago</a>, <a href=\"hide?id=36455843&amp;goto=news\">hide</a>, <a href=\"item?id=36455843\">27 comments</a>, <a href=\"vote?id=36457435&amp;how=up&amp;goto=news\" id=\"up_36457435\"><div class=\"votearrow\" title=\"upvote\"></div></a>, <a href=\"https://www.snprajwal.com/blog/keyboards-are-broken/\" rel=\"nofollow noreferrer\">Your keyboard layout is broken</a>, <a href=\"from?site=snprajwal.com\"><span class=\"sitestr\">snprajwal.com</span></a>, <a class=\"hnuser\" href=\"user?id=snprajwal\">snprajwal</a>, <a href=\"item?id=36457435\">1 hour ago</a>, <a href=\"hide?id=36457435&amp;goto=news\">hide</a>, <a href=\"item?id=36457435\">discuss</a>, <a href=\"vote?id=36457286&amp;how=up&amp;goto=news\" id=\"up_36457286\"><div class=\"votearrow\" title=\"upvote\"></div></a>, <a href=\"https://www.nature.com/articles/d41586-023-02120-8\" rel=\"noreferrer\">Decades-long bet on consciousness ends – it’s philosopher 1, neuroscientist 0</a>, <a href=\"from?site=nature.com\"><span class=\"sitestr\">nature.com</span></a>, <a class=\"hnuser\" href=\"user?id=mellosouls\">mellosouls</a>, <a href=\"item?id=36457286\">2 hours ago</a>, <a href=\"hide?id=36457286&amp;goto=news\">hide</a>, <a href=\"item?id=36457286\">83 comments</a>, <a href=\"vote?id=36457546&amp;how=up&amp;goto=news\" id=\"up_36457546\"><div class=\"votearrow\" title=\"upvote\"></div></a>, <a href=\"https://github.com/pjakma/fopl\">Fully Open Public Licence</a>, <a href=\"from?site=github.com/pjakma\"><span class=\"sitestr\">github.com/pjakma</span></a>, <a class=\"hnuser\" href=\"user?id=pabs3\">pabs3</a>, <a href=\"item?id=36457546\">1 hour ago</a>, <a href=\"hide?id=36457546&amp;goto=news\">hide</a>, <a href=\"item?id=36457546\">discuss</a>, <a href=\"vote?id=36450605&amp;how=up&amp;goto=news\" id=\"up_36450605\"><div class=\"votearrow\" title=\"upvote\"></div></a>, <a href=\"https://thebolditalic.com/theres-an-exact-replica-of-san-francisco-in-japan-and-it-s-weird-b8566a747150\" rel=\"noreferrer\">There’s an exact replica of San Francisco in Japan</a>, <a href=\"from?site=thebolditalic.com\"><span class=\"sitestr\">thebolditalic.com</span></a>, <a class=\"hnuser\" href=\"user?id=Brajeshwar\">Brajeshwar</a>, <a href=\"item?id=36450605\">5 hours ago</a>, <a href=\"hide?id=36450605&amp;goto=news\">hide</a>, <a href=\"item?id=36450605\">19 comments</a>, <a href=\"vote?id=36453790&amp;how=up&amp;goto=news\" id=\"up_36453790\"><div class=\"votearrow\" title=\"upvote\"></div></a>, <a href=\"https://johnnysswlab.com/make-your-programs-run-faster-by-better-using-the-data-cache/\" rel=\"noreferrer\">Make your programs run faster by better using the data cache (2020)</a>, <a href=\"from?site=johnnysswlab.com\"><span class=\"sitestr\">johnnysswlab.com</span></a>, <a class=\"hnuser\" href=\"user?id=eatonphil\">eatonphil</a>, <a href=\"item?id=36453790\">11 hours ago</a>, <a href=\"hide?id=36453790&amp;goto=news\">hide</a>, <a href=\"item?id=36453790\">47 comments</a>, <a href=\"vote?id=36454824&amp;how=up&amp;goto=news\" id=\"up_36454824\"><div class=\"votearrow\" title=\"upvote\"></div></a>, <a href=\"https://www.startribune.com/anti-monopoly-mankato-landfill-board-game-history/600279625/\" rel=\"noreferrer\">Why thousands of board games are buried beneath Mankato</a>, <a href=\"from?site=startribune.com\"><span class=\"sitestr\">startribune.com</span></a>, <a class=\"hnuser\" href=\"user?id=PaulHoule\">PaulHoule</a>, <a href=\"item?id=36454824\">9 hours ago</a>, <a href=\"hide?id=36454824&amp;goto=news\">hide</a>, <a href=\"item?id=36454824\">17 comments</a>, <a href=\"vote?id=36451924&amp;how=up&amp;goto=news\" id=\"up_36451924\"><div class=\"votearrow\" title=\"upvote\"></div></a>, <a href=\"https://www.u-tokyo.ac.jp/focus/en/press/z0508_00289.html\" rel=\"noreferrer\">The evolution of honey bee brains</a>, <a href=\"from?site=u-tokyo.ac.jp\"><span class=\"sitestr\">u-tokyo.ac.jp</span></a>, <a class=\"hnuser\" href=\"user?id=rustoo\">rustoo</a>, <a href=\"item?id=36451924\">4 hours ago</a>, <a href=\"hide?id=36451924&amp;goto=news\">hide</a>, <a href=\"item?id=36451924\">discuss</a>, <a href=\"vote?id=36454895&amp;how=up&amp;goto=news\" id=\"up_36454895\"><div class=\"votearrow\" title=\"upvote\"></div></a>, <a href=\"https://utcc.utoronto.ca/~cks/space/blog/programming/Go121ToolchainDownloads\" rel=\"noreferrer\">Go 1.21 will (probably) download newer toolchains on demand by default</a>, <a href=\"from?site=utoronto.ca\"><span class=\"sitestr\">utoronto.ca</span></a>, <a class=\"hnuser\" href=\"user?id=todsacerdoti\">todsacerdoti</a>, <a href=\"item?id=36454895\">9 hours ago</a>, <a href=\"hide?id=36454895&amp;goto=news\">hide</a>, <a href=\"item?id=36454895\">61 comments</a>, <a href=\"vote?id=36443020&amp;how=up&amp;goto=news\" id=\"up_36443020\"><div class=\"votearrow\" title=\"upvote\"></div></a>, <a href=\"https://www.theguardian.com/books/2023/jun/22/the-diary-of-virginia-woolf-review-a-book-for-the-ages\" rel=\"noreferrer\">The Diary of Virginia Woolf review – a book for the ages</a>, <a href=\"from?site=theguardian.com\"><span class=\"sitestr\">theguardian.com</span></a>, <a class=\"hnuser\" href=\"user?id=Caiero\">Caiero</a>, <a href=\"item?id=36443020\">6 hours ago</a>, <a href=\"hide?id=36443020&amp;goto=news\">hide</a>, <a href=\"item?id=36443020\">1 comment</a>, <a href=\"vote?id=36455697&amp;how=up&amp;goto=news\" id=\"up_36455697\"><div class=\"votearrow\" title=\"upvote\"></div></a>, <a href=\"https://collabfund.com/blog/how-this-all-happened/\" rel=\"noreferrer\">History is just one damn thing after another</a>, <a href=\"from?site=collabfund.com\"><span class=\"sitestr\">collabfund.com</span></a>, <a class=\"hnuser\" href=\"user?id=prakhar897\">prakhar897</a>, <a href=\"item?id=36455697\">7 hours ago</a>, <a href=\"hide?id=36455697&amp;goto=news\">hide</a>, <a href=\"item?id=36455697\">8 comments</a>, <a href=\"vote?id=36453810&amp;how=up&amp;goto=news\" id=\"up_36453810\"><div class=\"votearrow\" title=\"upvote\"></div></a>, <a href=\"https://lupyuen.codeberg.page/articles/riscv.html\" rel=\"noreferrer\">64-Bit RISC-V with Apache NuttX Real-Time Operating System</a>, <a href=\"from?site=codeberg.page\"><span class=\"sitestr\">codeberg.page</span></a>, <a class=\"hnuser\" href=\"user?id=lupyuen\">lupyuen</a>, <a href=\"item?id=36453810\">12 hours ago</a>, <a href=\"hide?id=36453810&amp;goto=news\">hide</a>, <a href=\"item?id=36453810\">13 comments</a>, <a href=\"vote?id=36452322&amp;how=up&amp;goto=news\" id=\"up_36452322\"><div class=\"votearrow\" title=\"upvote\"></div></a>, <a href=\"https://www.bleepingcomputer.com/news/security/millions-of-github-repos-likely-vulnerable-to-repojacking-researchers-say/\" rel=\"noreferrer\">Millions of GitHub repos likely vulnerable to RepoJacking, researchers say</a>, <a href=\"from?site=bleepingcomputer.com\"><span class=\"sitestr\">bleepingcomputer.com</span></a>, <a class=\"hnuser\" href=\"user?id=pyeri\">pyeri</a>, <a href=\"item?id=36452322\">14 hours ago</a>, <a href=\"hide?id=36452322&amp;goto=news\">hide</a>, <a href=\"item?id=36452322\">45 comments</a>, <a href=\"vote?id=36455627&amp;how=up&amp;goto=news\" id=\"up_36455627\"><div class=\"votearrow\" title=\"upvote\"></div></a>, <a href=\"https://fosstodon.org/@gabrielesvelto/110592904713090347\" rel=\"noreferrer\">A large crash spike affecting Firefox users on Linux</a>, <a href=\"from?site=fosstodon.org\"><span class=\"sitestr\">fosstodon.org</span></a>, <a class=\"hnuser\" href=\"user?id=sohkamyung\">sohkamyung</a>, <a href=\"item?id=36455627\">7 hours ago</a>, <a href=\"hide?id=36455627&amp;goto=news\">hide</a>, <a href=\"item?id=36455627\">47 comments</a>, <a href=\"vote?id=36455794&amp;how=up&amp;goto=news\" id=\"up_36455794\"><div class=\"votearrow\" title=\"upvote\"></div></a>, <a href=\"https://caseymuratori.com/blog_0015\" rel=\"noreferrer\">How to write good code easily with semantic compression</a>, <a href=\"from?site=caseymuratori.com\"><span class=\"sitestr\">caseymuratori.com</span></a>, <a class=\"hnuser\" href=\"user?id=noob_eng\">noob_eng</a>, <a href=\"item?id=36455794\">7 hours ago</a>, <a href=\"hide?id=36455794&amp;goto=news\">hide</a>, <a href=\"item?id=36455794\">9 comments</a>, <a href=\"vote?id=36454556&amp;how=up&amp;goto=news\" id=\"up_36454556\"><div class=\"votearrow\" title=\"upvote\"></div></a>, <a href=\"https://nibblestew.blogspot.com/2023/06/pdf-subpage-navigation.html\" rel=\"noreferrer\">PDF Subpage Navigation</a>, <a href=\"from?site=nibblestew.blogspot.com\"><span class=\"sitestr\">nibblestew.blogspot.com</span></a>, <a class=\"hnuser\" href=\"user?id=ingve\">ingve</a>, <a href=\"item?id=36454556\">10 hours ago</a>, <a href=\"hide?id=36454556&amp;goto=news\">hide</a>, <a href=\"item?id=36454556\">10 comments</a>, <a href=\"vote?id=36447566&amp;how=up&amp;goto=news\" id=\"up_36447566\"><div class=\"votearrow\" title=\"upvote\"></div></a>, <a href=\"https://spectrum.ieee.org/iron-fuel\" rel=\"noreferrer\">Iron fuel shows its mettle</a>, <a href=\"from?site=ieee.org\"><span class=\"sitestr\">ieee.org</span></a>, <a class=\"hnuser\" href=\"user?id=mfiguiere\">mfiguiere</a>, <a href=\"item?id=36447566\">21 hours ago</a>, <a href=\"hide?id=36447566&amp;goto=news\">hide</a>, <a href=\"item?id=36447566\">191 comments</a>, <a href=\"vote?id=36456887&amp;how=up&amp;goto=news\" id=\"up_36456887\"><div class=\"votearrow\" title=\"upvote\"></div></a>, <a href=\"https://undeadly.org/cgi?action=article;sid=20230624054334\" rel=\"noreferrer\">OpenBSD: Game of Trees 0.90 Released</a>, <a href=\"from?site=undeadly.org\"><span class=\"sitestr\">undeadly.org</span></a>, <a class=\"hnuser\" href=\"user?id=peter_hansteen\">peter_hansteen</a>, <a href=\"item?id=36456887\">3 hours ago</a>, <a href=\"hide?id=36456887&amp;goto=news\">hide</a>, <a href=\"item?id=36456887\">2 comments</a>, <a href=\"vote?id=36448686&amp;how=up&amp;goto=news\" id=\"up_36448686\"><div class=\"votearrow\" title=\"upvote\"></div></a>, <a href=\"https://github.com/axllent/mailpit\">Mailpit – An email and SMTP testing tool with API</a>, <a href=\"from?site=github.com/axllent\"><span class=\"sitestr\">github.com/axllent</span></a>, <a class=\"hnuser\" href=\"user?id=qa-guy\">qa-guy</a>, <a href=\"item?id=36448686\">14 hours ago</a>, <a href=\"hide?id=36448686&amp;goto=news\">hide</a>, <a href=\"item?id=36448686\">19 comments</a>, <a href=\"https://www.ycombinator.com/companies/doctor-droid/jobs/euNMtT4-senior-backend-7-yrs\">Doctor Droid (YC W23) Is Hiring Back End Engineer (7 Years Exp)</a>, <a href=\"from?site=ycombinator.com\"><span class=\"sitestr\">ycombinator.com</span></a>, <a href=\"item?id=36454327\">11 hours ago</a>, <a href=\"hide?id=36454327&amp;goto=news\">hide</a>, <a href=\"vote?id=36457347&amp;how=up&amp;goto=news\" id=\"up_36457347\"><div class=\"votearrow\" title=\"upvote\"></div></a>, <a href=\"https://www.phoronix.com/news/GCC-Lands-Std-CPP26-GNU26\" rel=\"noreferrer\">GCC 14 Adds Initial “-std=C++26” Plumbing</a>, <a href=\"from?site=phoronix.com\"><span class=\"sitestr\">phoronix.com</span></a>, <a class=\"hnuser\" href=\"user?id=mfiguiere\">mfiguiere</a>, <a href=\"item?id=36457347\">1 hour ago</a>, <a href=\"hide?id=36457347&amp;goto=news\">hide</a>, <a href=\"item?id=36457347\">discuss</a>, <a href=\"vote?id=36449072&amp;how=up&amp;goto=news\" id=\"up_36449072\"><div class=\"votearrow\" title=\"upvote\"></div></a>, <a href=\"https://colorandcontrast.com/\" rel=\"noreferrer\">An interactive guide to color and contrast</a>, <a href=\"from?site=colorandcontrast.com\"><span class=\"sitestr\">colorandcontrast.com</span></a>, <a class=\"hnuser\" href=\"user?id=warrenm\">warrenm</a>, <a href=\"item?id=36449072\">13 hours ago</a>, <a href=\"hide?id=36449072&amp;goto=news\">hide</a>, <a href=\"item?id=36449072\">6 comments</a>, <a class=\"morelink\" href=\"?p=2\" rel=\"next\">More</a>, <a href=\"newsguidelines.html\">Guidelines</a>, <a href=\"newsfaq.html\">FAQ</a>, <a href=\"lists\">Lists</a>, <a href=\"https://github.com/HackerNews/API\">API</a>, <a href=\"security.html\">Security</a>, <a href=\"https://www.ycombinator.com/legal/\">Legal</a>, <a href=\"https://www.ycombinator.com/apply/\">Apply to YC</a>, <a href=\"mailto:hn@ycombinator.com\">Contact</a>]\n"
          ]
        }
      ]
    },
    {
      "cell_type": "code",
      "source": [
        "print(soup.select('.score'))"
      ],
      "metadata": {
        "colab": {
          "base_uri": "https://localhost:8080/"
        },
        "id": "f4iLZ2ljOE5F",
        "outputId": "cc0b21c8-e640-4d71-d5e3-3c736b239564"
      },
      "execution_count": 14,
      "outputs": [
        {
          "output_type": "stream",
          "name": "stdout",
          "text": [
            "[<span class=\"score\" id=\"score_36457557\">37 points</span>, <span class=\"score\" id=\"score_36453856\">1087 points</span>, <span class=\"score\" id=\"score_36457051\">57 points</span>, <span class=\"score\" id=\"score_36449957\">27 points</span>, <span class=\"score\" id=\"score_36457205\">35 points</span>, <span class=\"score\" id=\"score_36451907\">78 points</span>, <span class=\"score\" id=\"score_36445690\">29 points</span>, <span class=\"score\" id=\"score_36454783\">128 points</span>, <span class=\"score\" id=\"score_36455843\">72 points</span>, <span class=\"score\" id=\"score_36457435\">7 points</span>, <span class=\"score\" id=\"score_36457286\">66 points</span>, <span class=\"score\" id=\"score_36457546\">3 points</span>, <span class=\"score\" id=\"score_36450605\">29 points</span>, <span class=\"score\" id=\"score_36453790\">102 points</span>, <span class=\"score\" id=\"score_36454824\">72 points</span>, <span class=\"score\" id=\"score_36451924\">12 points</span>, <span class=\"score\" id=\"score_36454895\">94 points</span>, <span class=\"score\" id=\"score_36443020\">22 points</span>, <span class=\"score\" id=\"score_36455697\">48 points</span>, <span class=\"score\" id=\"score_36453810\">74 points</span>, <span class=\"score\" id=\"score_36452322\">115 points</span>, <span class=\"score\" id=\"score_36455627\">144 points</span>, <span class=\"score\" id=\"score_36455794\">20 points</span>, <span class=\"score\" id=\"score_36454556\">51 points</span>, <span class=\"score\" id=\"score_36447566\">158 points</span>, <span class=\"score\" id=\"score_36456887\">24 points</span>, <span class=\"score\" id=\"score_36448686\">101 points</span>, <span class=\"score\" id=\"score_36457347\">9 points</span>, <span class=\"score\" id=\"score_36449072\">60 points</span>]\n"
          ]
        }
      ]
    },
    {
      "cell_type": "code",
      "source": [
        "print(soup.select('#score_36457286'))"
      ],
      "metadata": {
        "colab": {
          "base_uri": "https://localhost:8080/"
        },
        "id": "nhbrbVgKOKGd",
        "outputId": "0727ff85-a22f-4d07-8076-5c913d06af38"
      },
      "execution_count": 15,
      "outputs": [
        {
          "output_type": "stream",
          "name": "stdout",
          "text": [
            "[<span class=\"score\" id=\"score_36457286\">66 points</span>]\n"
          ]
        }
      ]
    },
    {
      "cell_type": "code",
      "source": [
        "soup.select('.titleline')"
      ],
      "metadata": {
        "colab": {
          "base_uri": "https://localhost:8080/"
        },
        "id": "WEsVSPELOWjA",
        "outputId": "9e21811f-343d-4464-864f-81f258dff53c"
      },
      "execution_count": 16,
      "outputs": [
        {
          "output_type": "execute_result",
          "data": {
            "text/plain": [
              "[<span class=\"titleline\"><a href=\"https://alexharri.com/blog/typescript-structural-typing\" rel=\"noreferrer\">Why doesn't TypeScript properly type Object.keys?</a><span class=\"sitebit comhead\"> (<a href=\"from?site=alexharri.com\"><span class=\"sitestr\">alexharri.com</span></a>)</span></span>,\n",
              " <span class=\"titleline\"><a href=\"https://novehiclesinthepark.com/\" rel=\"noreferrer\">The rule says, “No vehicles in the park”</a><span class=\"sitebit comhead\"> (<a href=\"from?site=novehiclesinthepark.com\"><span class=\"sitestr\">novehiclesinthepark.com</span></a>)</span></span>,\n",
              " <span class=\"titleline\"><a href=\"https://www.cs.columbia.edu/~hgs/etc/writing-bugs.html\" rel=\"noreferrer\">Common Bugs in Writing</a><span class=\"sitebit comhead\"> (<a href=\"from?site=columbia.edu\"><span class=\"sitestr\">columbia.edu</span></a>)</span></span>,\n",
              " <span class=\"titleline\"><a href=\"https://memory-alpha.fandom.com/wiki/Rules_of_Acquisition\" rel=\"noreferrer\">Ferengi Rules of Acquisition</a><span class=\"sitebit comhead\"> (<a href=\"from?site=memory-alpha.fandom.com\"><span class=\"sitestr\">memory-alpha.fandom.com</span></a>)</span></span>,\n",
              " <span class=\"titleline\"><a href=\"https://www.stylemanual.gov.au/\" rel=\"noreferrer\">Australian Government Style Manual</a><span class=\"sitebit comhead\"> (<a href=\"from?site=stylemanual.gov.au\"><span class=\"sitestr\">stylemanual.gov.au</span></a>)</span></span>,\n",
              " <span class=\"titleline\"><a href=\"https://neugierig.org/software/blog/2023/06/twos-complement.html\" rel=\"noreferrer\">Finally getting two's complement</a><span class=\"sitebit comhead\"> (<a href=\"from?site=neugierig.org\"><span class=\"sitestr\">neugierig.org</span></a>)</span></span>,\n",
              " <span class=\"titleline\"><a href=\"https://en.wikipedia.org/wiki/Sturddlefish\" rel=\"noreferrer\">Sturddlefish</a><span class=\"sitebit comhead\"> (<a href=\"from?site=wikipedia.org\"><span class=\"sitestr\">wikipedia.org</span></a>)</span></span>,\n",
              " <span class=\"titleline\"><a href=\"https://github.com/hwgilbert16/scholarsome\">An open source web-based flashcard studying system</a><span class=\"sitebit comhead\"> (<a href=\"from?site=github.com/hwgilbert16\"><span class=\"sitestr\">github.com/hwgilbert16</span></a>)</span></span>,\n",
              " <span class=\"titleline\"><a href=\"http://www.paulgraham.com/makersschedule.html\" rel=\"noreferrer\">Maker's schedule, Manager's schedule (2009)</a><span class=\"sitebit comhead\"> (<a href=\"from?site=paulgraham.com\"><span class=\"sitestr\">paulgraham.com</span></a>)</span></span>,\n",
              " <span class=\"titleline\"><a href=\"https://www.snprajwal.com/blog/keyboards-are-broken/\" rel=\"nofollow noreferrer\">Your keyboard layout is broken</a><span class=\"sitebit comhead\"> (<a href=\"from?site=snprajwal.com\"><span class=\"sitestr\">snprajwal.com</span></a>)</span></span>,\n",
              " <span class=\"titleline\"><a href=\"https://www.nature.com/articles/d41586-023-02120-8\" rel=\"noreferrer\">Decades-long bet on consciousness ends – it’s philosopher 1, neuroscientist 0</a><span class=\"sitebit comhead\"> (<a href=\"from?site=nature.com\"><span class=\"sitestr\">nature.com</span></a>)</span></span>,\n",
              " <span class=\"titleline\"><a href=\"https://github.com/pjakma/fopl\">Fully Open Public Licence</a><span class=\"sitebit comhead\"> (<a href=\"from?site=github.com/pjakma\"><span class=\"sitestr\">github.com/pjakma</span></a>)</span></span>,\n",
              " <span class=\"titleline\"><a href=\"https://thebolditalic.com/theres-an-exact-replica-of-san-francisco-in-japan-and-it-s-weird-b8566a747150\" rel=\"noreferrer\">There’s an exact replica of San Francisco in Japan</a><span class=\"sitebit comhead\"> (<a href=\"from?site=thebolditalic.com\"><span class=\"sitestr\">thebolditalic.com</span></a>)</span></span>,\n",
              " <span class=\"titleline\"><a href=\"https://johnnysswlab.com/make-your-programs-run-faster-by-better-using-the-data-cache/\" rel=\"noreferrer\">Make your programs run faster by better using the data cache (2020)</a><span class=\"sitebit comhead\"> (<a href=\"from?site=johnnysswlab.com\"><span class=\"sitestr\">johnnysswlab.com</span></a>)</span></span>,\n",
              " <span class=\"titleline\"><a href=\"https://www.startribune.com/anti-monopoly-mankato-landfill-board-game-history/600279625/\" rel=\"noreferrer\">Why thousands of board games are buried beneath Mankato</a><span class=\"sitebit comhead\"> (<a href=\"from?site=startribune.com\"><span class=\"sitestr\">startribune.com</span></a>)</span></span>,\n",
              " <span class=\"titleline\"><a href=\"https://www.u-tokyo.ac.jp/focus/en/press/z0508_00289.html\" rel=\"noreferrer\">The evolution of honey bee brains</a><span class=\"sitebit comhead\"> (<a href=\"from?site=u-tokyo.ac.jp\"><span class=\"sitestr\">u-tokyo.ac.jp</span></a>)</span></span>,\n",
              " <span class=\"titleline\"><a href=\"https://utcc.utoronto.ca/~cks/space/blog/programming/Go121ToolchainDownloads\" rel=\"noreferrer\">Go 1.21 will (probably) download newer toolchains on demand by default</a><span class=\"sitebit comhead\"> (<a href=\"from?site=utoronto.ca\"><span class=\"sitestr\">utoronto.ca</span></a>)</span></span>,\n",
              " <span class=\"titleline\"><a href=\"https://www.theguardian.com/books/2023/jun/22/the-diary-of-virginia-woolf-review-a-book-for-the-ages\" rel=\"noreferrer\">The Diary of Virginia Woolf review – a book for the ages</a><span class=\"sitebit comhead\"> (<a href=\"from?site=theguardian.com\"><span class=\"sitestr\">theguardian.com</span></a>)</span></span>,\n",
              " <span class=\"titleline\"><a href=\"https://collabfund.com/blog/how-this-all-happened/\" rel=\"noreferrer\">History is just one damn thing after another</a><span class=\"sitebit comhead\"> (<a href=\"from?site=collabfund.com\"><span class=\"sitestr\">collabfund.com</span></a>)</span></span>,\n",
              " <span class=\"titleline\"><a href=\"https://lupyuen.codeberg.page/articles/riscv.html\" rel=\"noreferrer\">64-Bit RISC-V with Apache NuttX Real-Time Operating System</a><span class=\"sitebit comhead\"> (<a href=\"from?site=codeberg.page\"><span class=\"sitestr\">codeberg.page</span></a>)</span></span>,\n",
              " <span class=\"titleline\"><a href=\"https://www.bleepingcomputer.com/news/security/millions-of-github-repos-likely-vulnerable-to-repojacking-researchers-say/\" rel=\"noreferrer\">Millions of GitHub repos likely vulnerable to RepoJacking, researchers say</a><span class=\"sitebit comhead\"> (<a href=\"from?site=bleepingcomputer.com\"><span class=\"sitestr\">bleepingcomputer.com</span></a>)</span></span>,\n",
              " <span class=\"titleline\"><a href=\"https://fosstodon.org/@gabrielesvelto/110592904713090347\" rel=\"noreferrer\">A large crash spike affecting Firefox users on Linux</a><span class=\"sitebit comhead\"> (<a href=\"from?site=fosstodon.org\"><span class=\"sitestr\">fosstodon.org</span></a>)</span></span>,\n",
              " <span class=\"titleline\"><a href=\"https://caseymuratori.com/blog_0015\" rel=\"noreferrer\">How to write good code easily with semantic compression</a><span class=\"sitebit comhead\"> (<a href=\"from?site=caseymuratori.com\"><span class=\"sitestr\">caseymuratori.com</span></a>)</span></span>,\n",
              " <span class=\"titleline\"><a href=\"https://nibblestew.blogspot.com/2023/06/pdf-subpage-navigation.html\" rel=\"noreferrer\">PDF Subpage Navigation</a><span class=\"sitebit comhead\"> (<a href=\"from?site=nibblestew.blogspot.com\"><span class=\"sitestr\">nibblestew.blogspot.com</span></a>)</span></span>,\n",
              " <span class=\"titleline\"><a href=\"https://spectrum.ieee.org/iron-fuel\" rel=\"noreferrer\">Iron fuel shows its mettle</a><span class=\"sitebit comhead\"> (<a href=\"from?site=ieee.org\"><span class=\"sitestr\">ieee.org</span></a>)</span></span>,\n",
              " <span class=\"titleline\"><a href=\"https://undeadly.org/cgi?action=article;sid=20230624054334\" rel=\"noreferrer\">OpenBSD: Game of Trees 0.90 Released</a><span class=\"sitebit comhead\"> (<a href=\"from?site=undeadly.org\"><span class=\"sitestr\">undeadly.org</span></a>)</span></span>,\n",
              " <span class=\"titleline\"><a href=\"https://github.com/axllent/mailpit\">Mailpit – An email and SMTP testing tool with API</a><span class=\"sitebit comhead\"> (<a href=\"from?site=github.com/axllent\"><span class=\"sitestr\">github.com/axllent</span></a>)</span></span>,\n",
              " <span class=\"titleline\"><a href=\"https://www.ycombinator.com/companies/doctor-droid/jobs/euNMtT4-senior-backend-7-yrs\">Doctor Droid (YC W23) Is Hiring Back End Engineer (7 Years Exp)</a><span class=\"sitebit comhead\"> (<a href=\"from?site=ycombinator.com\"><span class=\"sitestr\">ycombinator.com</span></a>)</span></span>,\n",
              " <span class=\"titleline\"><a href=\"https://www.phoronix.com/news/GCC-Lands-Std-CPP26-GNU26\" rel=\"noreferrer\">GCC 14 Adds Initial “-std=C++26” Plumbing</a><span class=\"sitebit comhead\"> (<a href=\"from?site=phoronix.com\"><span class=\"sitestr\">phoronix.com</span></a>)</span></span>,\n",
              " <span class=\"titleline\"><a href=\"https://colorandcontrast.com/\" rel=\"noreferrer\">An interactive guide to color and contrast</a><span class=\"sitebit comhead\"> (<a href=\"from?site=colorandcontrast.com\"><span class=\"sitestr\">colorandcontrast.com</span></a>)</span></span>]"
            ]
          },
          "metadata": {},
          "execution_count": 16
        }
      ]
    },
    {
      "cell_type": "code",
      "source": [
        "soup.select('.titleline')[0]"
      ],
      "metadata": {
        "colab": {
          "base_uri": "https://localhost:8080/"
        },
        "id": "X5pjuQXROzRO",
        "outputId": "ec32fd2e-f386-4e30-da88-e643da31097d"
      },
      "execution_count": 17,
      "outputs": [
        {
          "output_type": "execute_result",
          "data": {
            "text/plain": [
              "<span class=\"titleline\"><a href=\"https://alexharri.com/blog/typescript-structural-typing\" rel=\"noreferrer\">Why doesn't TypeScript properly type Object.keys?</a><span class=\"sitebit comhead\"> (<a href=\"from?site=alexharri.com\"><span class=\"sitestr\">alexharri.com</span></a>)</span></span>"
            ]
          },
          "metadata": {},
          "execution_count": 17
        }
      ]
    },
    {
      "cell_type": "code",
      "source": [
        "links = soup.select('.titleline')\n",
        "votes = soup.select('.score')\n",
        "subtext = soup.select('.subtext')\n",
        "print(votes[0])"
      ],
      "metadata": {
        "colab": {
          "base_uri": "https://localhost:8080/"
        },
        "id": "wisf8P1dO7ez",
        "outputId": "b03411b2-cf5f-41c4-9246-bea9d8436482"
      },
      "execution_count": 18,
      "outputs": [
        {
          "output_type": "stream",
          "name": "stdout",
          "text": [
            "<span class=\"score\" id=\"score_36457557\">37 points</span>\n"
          ]
        }
      ]
    },
    {
      "cell_type": "code",
      "source": [
        "votes[0].get('id')"
      ],
      "metadata": {
        "colab": {
          "base_uri": "https://localhost:8080/",
          "height": 36
        },
        "id": "xA3J_TOmPJzQ",
        "outputId": "03c0df8b-1b61-4547-f6ec-562f65e3dc7c"
      },
      "execution_count": 19,
      "outputs": [
        {
          "output_type": "execute_result",
          "data": {
            "text/plain": [
              "'score_36457557'"
            ],
            "application/vnd.google.colaboratory.intrinsic+json": {
              "type": "string"
            }
          },
          "metadata": {},
          "execution_count": 19
        }
      ]
    },
    {
      "cell_type": "markdown",
      "source": [
        "# **creating funtion  for custom news**"
      ],
      "metadata": {
        "id": "65A--DvIPohp"
      }
    },
    {
      "cell_type": "markdown",
      "source": [
        "**to get title**"
      ],
      "metadata": {
        "id": "2h3sZ4oPQn2g"
      }
    },
    {
      "cell_type": "code",
      "source": [
        "def create_custom_hn(links, votes):\n",
        "  hn = []\n",
        "  for idx, item in enumerate(links):\n",
        "    title = links[idx].getText()\n",
        "    href = links[idx].get('href', None)\n",
        "    hn.append(title)\n",
        "  return hn"
      ],
      "metadata": {
        "id": "xD0NE4PYPbhW"
      },
      "execution_count": 20,
      "outputs": []
    },
    {
      "cell_type": "code",
      "source": [
        "create_custom_hn(links, votes)"
      ],
      "metadata": {
        "colab": {
          "base_uri": "https://localhost:8080/"
        },
        "id": "RkqysdJGQP6i",
        "outputId": "0a5cf7fc-da34-4453-d980-034bd71d270b"
      },
      "execution_count": 21,
      "outputs": [
        {
          "output_type": "execute_result",
          "data": {
            "text/plain": [
              "[\"Why doesn't TypeScript properly type Object.keys? (alexharri.com)\",\n",
              " 'The rule says, “No vehicles in the park” (novehiclesinthepark.com)',\n",
              " 'Common Bugs in Writing (columbia.edu)',\n",
              " 'Ferengi Rules of Acquisition (memory-alpha.fandom.com)',\n",
              " 'Australian Government Style Manual (stylemanual.gov.au)',\n",
              " \"Finally getting two's complement (neugierig.org)\",\n",
              " 'Sturddlefish (wikipedia.org)',\n",
              " 'An open source web-based flashcard studying system (github.com/hwgilbert16)',\n",
              " \"Maker's schedule, Manager's schedule (2009) (paulgraham.com)\",\n",
              " 'Your keyboard layout is broken (snprajwal.com)',\n",
              " 'Decades-long bet on consciousness ends – it’s philosopher 1, neuroscientist 0 (nature.com)',\n",
              " 'Fully Open Public Licence (github.com/pjakma)',\n",
              " 'There’s an exact replica of San Francisco in Japan (thebolditalic.com)',\n",
              " 'Make your programs run faster by better using the data cache (2020) (johnnysswlab.com)',\n",
              " 'Why thousands of board games are buried beneath Mankato (startribune.com)',\n",
              " 'The evolution of honey bee brains (u-tokyo.ac.jp)',\n",
              " 'Go 1.21 will (probably) download newer toolchains on demand by default (utoronto.ca)',\n",
              " 'The Diary of Virginia Woolf review – a book for the ages (theguardian.com)',\n",
              " 'History is just one damn thing after another (collabfund.com)',\n",
              " '64-Bit RISC-V with Apache NuttX Real-Time Operating System (codeberg.page)',\n",
              " 'Millions of GitHub repos likely vulnerable to RepoJacking, researchers say (bleepingcomputer.com)',\n",
              " 'A large crash spike affecting Firefox users on Linux (fosstodon.org)',\n",
              " 'How to write good code easily with semantic compression (caseymuratori.com)',\n",
              " 'PDF Subpage Navigation (nibblestew.blogspot.com)',\n",
              " 'Iron fuel shows its mettle (ieee.org)',\n",
              " 'OpenBSD: Game of Trees 0.90 Released (undeadly.org)',\n",
              " 'Mailpit – An email and SMTP testing tool with API (github.com/axllent)',\n",
              " 'Doctor Droid (YC W23) Is Hiring Back End Engineer (7 Years Exp) (ycombinator.com)',\n",
              " 'GCC 14 Adds Initial “-std=C++26” Plumbing (phoronix.com)',\n",
              " 'An interactive guide to color and contrast (colorandcontrast.com)']"
            ]
          },
          "metadata": {},
          "execution_count": 21
        }
      ]
    },
    {
      "cell_type": "markdown",
      "source": [
        "**to get title and link(href)**"
      ],
      "metadata": {
        "id": "HmmVYZX9Qqa-"
      }
    },
    {
      "cell_type": "code",
      "source": [
        "def create_custom_hn1(links, votes):\n",
        "  hn = []\n",
        "  for idx, item in enumerate(links):\n",
        "    title = links[idx].getText()\n",
        "    href = links[idx].get('href', None)\n",
        "    hn.append({'title': title, 'link': href})\n",
        "  return hn"
      ],
      "metadata": {
        "id": "5DruhkqMQfrr"
      },
      "execution_count": 22,
      "outputs": []
    },
    {
      "cell_type": "code",
      "source": [
        "create_custom_hn1(links, votes)"
      ],
      "metadata": {
        "colab": {
          "base_uri": "https://localhost:8080/"
        },
        "id": "iwEjiyInQ3ug",
        "outputId": "d243e1f6-ddd2-445e-db5e-ecda307e818a"
      },
      "execution_count": 23,
      "outputs": [
        {
          "output_type": "execute_result",
          "data": {
            "text/plain": [
              "[{'title': \"Why doesn't TypeScript properly type Object.keys? (alexharri.com)\",\n",
              "  'link': None},\n",
              " {'title': 'The rule says, “No vehicles in the park” (novehiclesinthepark.com)',\n",
              "  'link': None},\n",
              " {'title': 'Common Bugs in Writing (columbia.edu)', 'link': None},\n",
              " {'title': 'Ferengi Rules of Acquisition (memory-alpha.fandom.com)',\n",
              "  'link': None},\n",
              " {'title': 'Australian Government Style Manual (stylemanual.gov.au)',\n",
              "  'link': None},\n",
              " {'title': \"Finally getting two's complement (neugierig.org)\", 'link': None},\n",
              " {'title': 'Sturddlefish (wikipedia.org)', 'link': None},\n",
              " {'title': 'An open source web-based flashcard studying system (github.com/hwgilbert16)',\n",
              "  'link': None},\n",
              " {'title': \"Maker's schedule, Manager's schedule (2009) (paulgraham.com)\",\n",
              "  'link': None},\n",
              " {'title': 'Your keyboard layout is broken (snprajwal.com)', 'link': None},\n",
              " {'title': 'Decades-long bet on consciousness ends – it’s philosopher 1, neuroscientist 0 (nature.com)',\n",
              "  'link': None},\n",
              " {'title': 'Fully Open Public Licence (github.com/pjakma)', 'link': None},\n",
              " {'title': 'There’s an exact replica of San Francisco in Japan (thebolditalic.com)',\n",
              "  'link': None},\n",
              " {'title': 'Make your programs run faster by better using the data cache (2020) (johnnysswlab.com)',\n",
              "  'link': None},\n",
              " {'title': 'Why thousands of board games are buried beneath Mankato (startribune.com)',\n",
              "  'link': None},\n",
              " {'title': 'The evolution of honey bee brains (u-tokyo.ac.jp)', 'link': None},\n",
              " {'title': 'Go 1.21 will (probably) download newer toolchains on demand by default (utoronto.ca)',\n",
              "  'link': None},\n",
              " {'title': 'The Diary of Virginia Woolf review – a book for the ages (theguardian.com)',\n",
              "  'link': None},\n",
              " {'title': 'History is just one damn thing after another (collabfund.com)',\n",
              "  'link': None},\n",
              " {'title': '64-Bit RISC-V with Apache NuttX Real-Time Operating System (codeberg.page)',\n",
              "  'link': None},\n",
              " {'title': 'Millions of GitHub repos likely vulnerable to RepoJacking, researchers say (bleepingcomputer.com)',\n",
              "  'link': None},\n",
              " {'title': 'A large crash spike affecting Firefox users on Linux (fosstodon.org)',\n",
              "  'link': None},\n",
              " {'title': 'How to write good code easily with semantic compression (caseymuratori.com)',\n",
              "  'link': None},\n",
              " {'title': 'PDF Subpage Navigation (nibblestew.blogspot.com)', 'link': None},\n",
              " {'title': 'Iron fuel shows its mettle (ieee.org)', 'link': None},\n",
              " {'title': 'OpenBSD: Game of Trees 0.90 Released (undeadly.org)',\n",
              "  'link': None},\n",
              " {'title': 'Mailpit – An email and SMTP testing tool with API (github.com/axllent)',\n",
              "  'link': None},\n",
              " {'title': 'Doctor Droid (YC W23) Is Hiring Back End Engineer (7 Years Exp) (ycombinator.com)',\n",
              "  'link': None},\n",
              " {'title': 'GCC 14 Adds Initial “-std=C++26” Plumbing (phoronix.com)',\n",
              "  'link': None},\n",
              " {'title': 'An interactive guide to color and contrast (colorandcontrast.com)',\n",
              "  'link': None}]"
            ]
          },
          "metadata": {},
          "execution_count": 23
        }
      ]
    },
    {
      "cell_type": "markdown",
      "source": [
        "**To get votes**"
      ],
      "metadata": {
        "id": "bv2_-VHLRcta"
      }
    },
    {
      "cell_type": "code",
      "source": [
        "def create_custom_hn2(links, subtext):\n",
        "  hn = []\n",
        "  for idx, item in enumerate(links):\n",
        "    title = links[idx].getText()\n",
        "    href = links[idx].get('href', None)\n",
        "    vote  = subtext[idx].select('.score')\n",
        "    if len(vote):\n",
        "      points = int(vote[0].getText().replace(' points', \"\"))\n",
        "      hn.append({'title': title, 'link': href, 'votes': points})\n",
        "  return hn"
      ],
      "metadata": {
        "id": "8qwwEy2lQ5ah"
      },
      "execution_count": 24,
      "outputs": []
    },
    {
      "cell_type": "code",
      "source": [
        "create_custom_hn2(links, subtext)"
      ],
      "metadata": {
        "colab": {
          "base_uri": "https://localhost:8080/"
        },
        "id": "8vlC46UqRl2v",
        "outputId": "05bc3a77-6c37-4f60-c6ce-03bca96fa6a2"
      },
      "execution_count": 25,
      "outputs": [
        {
          "output_type": "execute_result",
          "data": {
            "text/plain": [
              "[{'title': \"Why doesn't TypeScript properly type Object.keys? (alexharri.com)\",\n",
              "  'link': None,\n",
              "  'votes': 37},\n",
              " {'title': 'The rule says, “No vehicles in the park” (novehiclesinthepark.com)',\n",
              "  'link': None,\n",
              "  'votes': 1087},\n",
              " {'title': 'Common Bugs in Writing (columbia.edu)', 'link': None, 'votes': 57},\n",
              " {'title': 'Ferengi Rules of Acquisition (memory-alpha.fandom.com)',\n",
              "  'link': None,\n",
              "  'votes': 27},\n",
              " {'title': 'Australian Government Style Manual (stylemanual.gov.au)',\n",
              "  'link': None,\n",
              "  'votes': 35},\n",
              " {'title': \"Finally getting two's complement (neugierig.org)\",\n",
              "  'link': None,\n",
              "  'votes': 78},\n",
              " {'title': 'Sturddlefish (wikipedia.org)', 'link': None, 'votes': 29},\n",
              " {'title': 'An open source web-based flashcard studying system (github.com/hwgilbert16)',\n",
              "  'link': None,\n",
              "  'votes': 128},\n",
              " {'title': \"Maker's schedule, Manager's schedule (2009) (paulgraham.com)\",\n",
              "  'link': None,\n",
              "  'votes': 72},\n",
              " {'title': 'Your keyboard layout is broken (snprajwal.com)',\n",
              "  'link': None,\n",
              "  'votes': 7},\n",
              " {'title': 'Decades-long bet on consciousness ends – it’s philosopher 1, neuroscientist 0 (nature.com)',\n",
              "  'link': None,\n",
              "  'votes': 66},\n",
              " {'title': 'Fully Open Public Licence (github.com/pjakma)',\n",
              "  'link': None,\n",
              "  'votes': 3},\n",
              " {'title': 'There’s an exact replica of San Francisco in Japan (thebolditalic.com)',\n",
              "  'link': None,\n",
              "  'votes': 29},\n",
              " {'title': 'Make your programs run faster by better using the data cache (2020) (johnnysswlab.com)',\n",
              "  'link': None,\n",
              "  'votes': 102},\n",
              " {'title': 'Why thousands of board games are buried beneath Mankato (startribune.com)',\n",
              "  'link': None,\n",
              "  'votes': 72},\n",
              " {'title': 'The evolution of honey bee brains (u-tokyo.ac.jp)',\n",
              "  'link': None,\n",
              "  'votes': 12},\n",
              " {'title': 'Go 1.21 will (probably) download newer toolchains on demand by default (utoronto.ca)',\n",
              "  'link': None,\n",
              "  'votes': 94},\n",
              " {'title': 'The Diary of Virginia Woolf review – a book for the ages (theguardian.com)',\n",
              "  'link': None,\n",
              "  'votes': 22},\n",
              " {'title': 'History is just one damn thing after another (collabfund.com)',\n",
              "  'link': None,\n",
              "  'votes': 48},\n",
              " {'title': '64-Bit RISC-V with Apache NuttX Real-Time Operating System (codeberg.page)',\n",
              "  'link': None,\n",
              "  'votes': 74},\n",
              " {'title': 'Millions of GitHub repos likely vulnerable to RepoJacking, researchers say (bleepingcomputer.com)',\n",
              "  'link': None,\n",
              "  'votes': 115},\n",
              " {'title': 'A large crash spike affecting Firefox users on Linux (fosstodon.org)',\n",
              "  'link': None,\n",
              "  'votes': 144},\n",
              " {'title': 'How to write good code easily with semantic compression (caseymuratori.com)',\n",
              "  'link': None,\n",
              "  'votes': 20},\n",
              " {'title': 'PDF Subpage Navigation (nibblestew.blogspot.com)',\n",
              "  'link': None,\n",
              "  'votes': 51},\n",
              " {'title': 'Iron fuel shows its mettle (ieee.org)',\n",
              "  'link': None,\n",
              "  'votes': 158},\n",
              " {'title': 'OpenBSD: Game of Trees 0.90 Released (undeadly.org)',\n",
              "  'link': None,\n",
              "  'votes': 24},\n",
              " {'title': 'Mailpit – An email and SMTP testing tool with API (github.com/axllent)',\n",
              "  'link': None,\n",
              "  'votes': 101},\n",
              " {'title': 'GCC 14 Adds Initial “-std=C++26” Plumbing (phoronix.com)',\n",
              "  'link': None,\n",
              "  'votes': 9},\n",
              " {'title': 'An interactive guide to color and contrast (colorandcontrast.com)',\n",
              "  'link': None,\n",
              "  'votes': 60}]"
            ]
          },
          "metadata": {},
          "execution_count": 25
        }
      ]
    },
    {
      "cell_type": "code",
      "source": [
        "pprint.pprint(create_custom_hn2(links, subtext))"
      ],
      "metadata": {
        "colab": {
          "base_uri": "https://localhost:8080/"
        },
        "id": "xjOuIhkFRnws",
        "outputId": "8f2d0aee-61d4-4811-9ab4-d79fde243434"
      },
      "execution_count": 26,
      "outputs": [
        {
          "output_type": "stream",
          "name": "stdout",
          "text": [
            "[{'link': None,\n",
            "  'title': \"Why doesn't TypeScript properly type Object.keys? (alexharri.com)\",\n",
            "  'votes': 37},\n",
            " {'link': None,\n",
            "  'title': 'The rule says, “No vehicles in the park” (novehiclesinthepark.com)',\n",
            "  'votes': 1087},\n",
            " {'link': None, 'title': 'Common Bugs in Writing (columbia.edu)', 'votes': 57},\n",
            " {'link': None,\n",
            "  'title': 'Ferengi Rules of Acquisition (memory-alpha.fandom.com)',\n",
            "  'votes': 27},\n",
            " {'link': None,\n",
            "  'title': 'Australian Government Style Manual (stylemanual.gov.au)',\n",
            "  'votes': 35},\n",
            " {'link': None,\n",
            "  'title': \"Finally getting two's complement (neugierig.org)\",\n",
            "  'votes': 78},\n",
            " {'link': None, 'title': 'Sturddlefish (wikipedia.org)', 'votes': 29},\n",
            " {'link': None,\n",
            "  'title': 'An open source web-based flashcard studying system '\n",
            "           '(github.com/hwgilbert16)',\n",
            "  'votes': 128},\n",
            " {'link': None,\n",
            "  'title': \"Maker's schedule, Manager's schedule (2009) (paulgraham.com)\",\n",
            "  'votes': 72},\n",
            " {'link': None,\n",
            "  'title': 'Your keyboard layout is broken (snprajwal.com)',\n",
            "  'votes': 7},\n",
            " {'link': None,\n",
            "  'title': 'Decades-long bet on consciousness ends – it’s philosopher 1, '\n",
            "           'neuroscientist 0 (nature.com)',\n",
            "  'votes': 66},\n",
            " {'link': None,\n",
            "  'title': 'Fully Open Public Licence (github.com/pjakma)',\n",
            "  'votes': 3},\n",
            " {'link': None,\n",
            "  'title': 'There’s an exact replica of San Francisco in Japan '\n",
            "           '(thebolditalic.com)',\n",
            "  'votes': 29},\n",
            " {'link': None,\n",
            "  'title': 'Make your programs run faster by better using the data cache '\n",
            "           '(2020) (johnnysswlab.com)',\n",
            "  'votes': 102},\n",
            " {'link': None,\n",
            "  'title': 'Why thousands of board games are buried beneath Mankato '\n",
            "           '(startribune.com)',\n",
            "  'votes': 72},\n",
            " {'link': None,\n",
            "  'title': 'The evolution of honey bee brains (u-tokyo.ac.jp)',\n",
            "  'votes': 12},\n",
            " {'link': None,\n",
            "  'title': 'Go 1.21 will (probably) download newer toolchains on demand by '\n",
            "           'default (utoronto.ca)',\n",
            "  'votes': 94},\n",
            " {'link': None,\n",
            "  'title': 'The Diary of Virginia Woolf review – a book for the ages '\n",
            "           '(theguardian.com)',\n",
            "  'votes': 22},\n",
            " {'link': None,\n",
            "  'title': 'History is just one damn thing after another (collabfund.com)',\n",
            "  'votes': 48},\n",
            " {'link': None,\n",
            "  'title': '64-Bit RISC-V with Apache NuttX Real-Time Operating System '\n",
            "           '(codeberg.page)',\n",
            "  'votes': 74},\n",
            " {'link': None,\n",
            "  'title': 'Millions of GitHub repos likely vulnerable to RepoJacking, '\n",
            "           'researchers say (bleepingcomputer.com)',\n",
            "  'votes': 115},\n",
            " {'link': None,\n",
            "  'title': 'A large crash spike affecting Firefox users on Linux '\n",
            "           '(fosstodon.org)',\n",
            "  'votes': 144},\n",
            " {'link': None,\n",
            "  'title': 'How to write good code easily with semantic compression '\n",
            "           '(caseymuratori.com)',\n",
            "  'votes': 20},\n",
            " {'link': None,\n",
            "  'title': 'PDF Subpage Navigation (nibblestew.blogspot.com)',\n",
            "  'votes': 51},\n",
            " {'link': None, 'title': 'Iron fuel shows its mettle (ieee.org)', 'votes': 158},\n",
            " {'link': None,\n",
            "  'title': 'OpenBSD: Game of Trees 0.90 Released (undeadly.org)',\n",
            "  'votes': 24},\n",
            " {'link': None,\n",
            "  'title': 'Mailpit – An email and SMTP testing tool with API '\n",
            "           '(github.com/axllent)',\n",
            "  'votes': 101},\n",
            " {'link': None,\n",
            "  'title': 'GCC 14 Adds Initial “-std=C++26” Plumbing (phoronix.com)',\n",
            "  'votes': 9},\n",
            " {'link': None,\n",
            "  'title': 'An interactive guide to color and contrast (colorandcontrast.com)',\n",
            "  'votes': 60}]\n"
          ]
        }
      ]
    },
    {
      "cell_type": "markdown",
      "source": [
        "**To get particular range score**"
      ],
      "metadata": {
        "id": "qIfzIxHSUZt9"
      }
    },
    {
      "cell_type": "code",
      "source": [
        "def create_custom_hn3(links, subtext):\n",
        "  hn = []\n",
        "  for idx, item in enumerate(links):\n",
        "    title = links[idx].getText()\n",
        "    href = links[idx].get('href', None)\n",
        "    vote  = subtext[idx].select('.score')\n",
        "    if len(vote):\n",
        "      points = int(vote[0].getText().replace(' points', \"\"))\n",
        "      if points > 99:\n",
        "        hn.append({'title': title, 'link': href, 'votes': points})\n",
        "  return hn"
      ],
      "metadata": {
        "id": "8Ha_-ASzUSSG"
      },
      "execution_count": 27,
      "outputs": []
    },
    {
      "cell_type": "code",
      "source": [
        "create_custom_hn3(links, subtext)"
      ],
      "metadata": {
        "colab": {
          "base_uri": "https://localhost:8080/"
        },
        "id": "dmvKGNnPUmKS",
        "outputId": "79e09b54-8227-4603-dfc8-77db4b80945b"
      },
      "execution_count": 28,
      "outputs": [
        {
          "output_type": "execute_result",
          "data": {
            "text/plain": [
              "[{'title': 'The rule says, “No vehicles in the park” (novehiclesinthepark.com)',\n",
              "  'link': None,\n",
              "  'votes': 1087},\n",
              " {'title': 'An open source web-based flashcard studying system (github.com/hwgilbert16)',\n",
              "  'link': None,\n",
              "  'votes': 128},\n",
              " {'title': 'Make your programs run faster by better using the data cache (2020) (johnnysswlab.com)',\n",
              "  'link': None,\n",
              "  'votes': 102},\n",
              " {'title': 'Millions of GitHub repos likely vulnerable to RepoJacking, researchers say (bleepingcomputer.com)',\n",
              "  'link': None,\n",
              "  'votes': 115},\n",
              " {'title': 'A large crash spike affecting Firefox users on Linux (fosstodon.org)',\n",
              "  'link': None,\n",
              "  'votes': 144},\n",
              " {'title': 'Iron fuel shows its mettle (ieee.org)',\n",
              "  'link': None,\n",
              "  'votes': 158},\n",
              " {'title': 'Mailpit – An email and SMTP testing tool with API (github.com/axllent)',\n",
              "  'link': None,\n",
              "  'votes': 101}]"
            ]
          },
          "metadata": {},
          "execution_count": 28
        }
      ]
    },
    {
      "cell_type": "markdown",
      "source": [
        "**sorting our list from highest to lowest**"
      ],
      "metadata": {
        "id": "9xhXPdcyU9SV"
      }
    },
    {
      "cell_type": "code",
      "source": [
        "def sort_stories_by_votes(hnlist):\n",
        "  return sorted(hnlist, key = lambda k:k['votes'], reverse = True)"
      ],
      "metadata": {
        "id": "CfmBhlynVN5-"
      },
      "execution_count": 29,
      "outputs": []
    },
    {
      "cell_type": "code",
      "source": [
        "def create_custom_hn4(links, subtext):\n",
        "  hn = []\n",
        "  for idx, item in enumerate(links):\n",
        "    title = links[idx].getText()\n",
        "    href = links[idx].get('href', None)\n",
        "    vote  = subtext[idx].select('.score')\n",
        "    if len(vote):\n",
        "      points = int(vote[0].getText().replace(' points', \"\"))\n",
        "      if points > 99:\n",
        "        hn.append({'title': title, 'link': href, 'votes': points})\n",
        "  return sort_stories_by_votes(hn)"
      ],
      "metadata": {
        "id": "D5l1hvzWUnhf"
      },
      "execution_count": 30,
      "outputs": []
    },
    {
      "cell_type": "code",
      "source": [
        "create_custom_hn4(links, subtext)"
      ],
      "metadata": {
        "colab": {
          "base_uri": "https://localhost:8080/"
        },
        "id": "g-M-Ba9gVXUw",
        "outputId": "e28a0be3-f495-431e-ea54-c08555302661"
      },
      "execution_count": 31,
      "outputs": [
        {
          "output_type": "execute_result",
          "data": {
            "text/plain": [
              "[{'title': 'The rule says, “No vehicles in the park” (novehiclesinthepark.com)',\n",
              "  'link': None,\n",
              "  'votes': 1087},\n",
              " {'title': 'Iron fuel shows its mettle (ieee.org)',\n",
              "  'link': None,\n",
              "  'votes': 158},\n",
              " {'title': 'A large crash spike affecting Firefox users on Linux (fosstodon.org)',\n",
              "  'link': None,\n",
              "  'votes': 144},\n",
              " {'title': 'An open source web-based flashcard studying system (github.com/hwgilbert16)',\n",
              "  'link': None,\n",
              "  'votes': 128},\n",
              " {'title': 'Millions of GitHub repos likely vulnerable to RepoJacking, researchers say (bleepingcomputer.com)',\n",
              "  'link': None,\n",
              "  'votes': 115},\n",
              " {'title': 'Make your programs run faster by better using the data cache (2020) (johnnysswlab.com)',\n",
              "  'link': None,\n",
              "  'votes': 102},\n",
              " {'title': 'Mailpit – An email and SMTP testing tool with API (github.com/axllent)',\n",
              "  'link': None,\n",
              "  'votes': 101}]"
            ]
          },
          "metadata": {},
          "execution_count": 31
        }
      ]
    },
    {
      "cell_type": "markdown",
      "source": [
        "**to get more news than page 1 i.e., page 1 + page 2**"
      ],
      "metadata": {
        "id": "vlqmcIs_WNr1"
      }
    },
    {
      "cell_type": "code",
      "source": [
        "res2 = requests.get(\"https://news.ycombinator.com/news?p=2\")\n",
        "print(res2)"
      ],
      "metadata": {
        "colab": {
          "base_uri": "https://localhost:8080/"
        },
        "id": "AO1lynatVX_o",
        "outputId": "3e269631-043c-4235-f040-aff4eab89025"
      },
      "execution_count": 32,
      "outputs": [
        {
          "output_type": "stream",
          "name": "stdout",
          "text": [
            "<Response [200]>\n"
          ]
        }
      ]
    },
    {
      "cell_type": "code",
      "source": [
        "soup2 = BeautifulSoup(res2.text, 'html.parser')\n",
        "links2 = soup2.select('.titleline > a')\n",
        "subtext2 = soup2.select('.subtext')\n"
      ],
      "metadata": {
        "id": "iZqqMltOWUC8"
      },
      "execution_count": 33,
      "outputs": []
    },
    {
      "cell_type": "code",
      "source": [
        "mega_links = links + links2\n",
        "mega_subtext = subtext + subtext2"
      ],
      "metadata": {
        "id": "BJartA-9WUAy"
      },
      "execution_count": 34,
      "outputs": []
    },
    {
      "cell_type": "code",
      "source": [
        "def sort_stories_by_votes(hnlist):\n",
        "  return sorted(hnlist, key= lambda k:k['votes'], reverse=True)"
      ],
      "metadata": {
        "id": "fw4HZUZ8WT-t"
      },
      "execution_count": 35,
      "outputs": []
    },
    {
      "cell_type": "code",
      "source": [
        "def create_custom_hn(links, subtext):\n",
        "  hn = []\n",
        "  for idx, item in enumerate(links):\n",
        "    title = item.getText()\n",
        "    href = item.get('href', None)\n",
        "    vote = subtext[idx].select('.score')\n",
        "    if len(vote):\n",
        "      points = int(vote[0].getText().replace(' points', ''))\n",
        "      if points > 99:\n",
        "        hn.append({'title': title, 'link': href, 'votes': points})\n",
        "  return sort_stories_by_votes(hn)"
      ],
      "metadata": {
        "id": "aK2tRkaPWT8Y"
      },
      "execution_count": 36,
      "outputs": []
    },
    {
      "cell_type": "code",
      "source": [
        "pprint.pprint(create_custom_hn(mega_links, mega_subtext))"
      ],
      "metadata": {
        "colab": {
          "base_uri": "https://localhost:8080/"
        },
        "id": "zzSLaNYFXF5F",
        "outputId": "44f1c806-328d-4dcc-c870-420912a41046"
      },
      "execution_count": 37,
      "outputs": [
        {
          "output_type": "stream",
          "name": "stdout",
          "text": [
            "[{'link': None,\n",
            "  'title': 'The rule says, “No vehicles in the park” (novehiclesinthepark.com)',\n",
            "  'votes': 1087},\n",
            " {'link': 'https://animejs.com/',\n",
            "  'title': 'Anime.js – A lightweight JavaScript animation library',\n",
            "  'votes': 559},\n",
            " {'link': 'https://editor.vrite.io/',\n",
            "  'title': 'Show HN: An open-source, collaborative, WYSIWYG Markdown editor',\n",
            "  'votes': 417},\n",
            " {'link': 'https://curia.europa.eu/jcms/upload/docs/application/pdf/2023-06/cp230110en.pdf',\n",
            "  'title': 'EU Advocate General: Technical Standards must be freely available '\n",
            "           '[pdf]',\n",
            "  'votes': 401},\n",
            " {'link': 'https://github.com/arwes/arwes',\n",
            "  'title': 'Arwes: Futuristic Sci-Fi UI Web Framework',\n",
            "  'votes': 364},\n",
            " {'link': 'https://www.eveonline.com/news/view/information-is-power-excel-release',\n",
            "  'title': 'EVE Online: Add-in for MS Excel',\n",
            "  'votes': 282},\n",
            " {'link': 'https://blogs.nvidia.com/blog/2022/03/25/what-is-a-transformer-model/',\n",
            "  'title': 'What is a transformer model? (2022)',\n",
            "  'votes': 281},\n",
            " {'link': 'https://www.react-graph-gallery.com',\n",
            "  'title': 'Show HN: A gallery of graphs built with React and D3.js',\n",
            "  'votes': 276},\n",
            " {'link': 'item?id=36446770',\n",
            "  'title': 'Tell HN: Interview take home assessments without feedback are '\n",
            "           'frustrating',\n",
            "  'votes': 258},\n",
            " {'link': 'https://verdagon.dev/blog/vale-memory-safe-cpp',\n",
            "  'title': 'Making C++ safe without borrow checking, reference counting, or '\n",
            "           'tracing GC',\n",
            "  'votes': 252},\n",
            " {'link': 'http://www.paulgraham.com/jessica.html',\n",
            "  'title': 'Jessica Livingston (2015)',\n",
            "  'votes': 242},\n",
            " {'link': 'https://www.esa.int/Enabling_Support/Space_Transportation/Full_ignition_for_ESA_s_reusable_rocket_engine',\n",
            "  'title': 'Full ignition for ESA’s reusable rocket engine',\n",
            "  'votes': 208},\n",
            " {'link': 'https://dl.acm.org/doi/pdf/10.1145/3593856.3595903',\n",
            "  'title': 'Putting out the hardware dumpster fire',\n",
            "  'votes': 208},\n",
            " {'link': 'https://linearmouse.app/',\n",
            "  'title': 'An open-source mouse and trackpad utility for Mac',\n",
            "  'votes': 174},\n",
            " {'link': 'item?id=36431004',\n",
            "  'title': 'Launch HN: OpenMeter (YC W23) – Real-Time, Open Source Usage '\n",
            "           'Metering',\n",
            "  'votes': 165},\n",
            " {'link': None, 'title': 'Iron fuel shows its mettle (ieee.org)', 'votes': 158},\n",
            " {'link': 'https://slack.engineering/real-time-messaging/',\n",
            "  'title': 'Real-time messaging',\n",
            "  'votes': 155},\n",
            " {'link': 'https://www.pv-magazine.com/2023/06/23/china-solar-module-prices-keep-diving/',\n",
            "  'title': 'China solar module prices keep diving',\n",
            "  'votes': 147},\n",
            " {'link': None,\n",
            "  'title': 'A large crash spike affecting Firefox users on Linux '\n",
            "           '(fosstodon.org)',\n",
            "  'votes': 144},\n",
            " {'link': None,\n",
            "  'title': 'An open source web-based flashcard studying system '\n",
            "           '(github.com/hwgilbert16)',\n",
            "  'votes': 128},\n",
            " {'link': 'https://arxiv.org/abs/2306.11827',\n",
            "  'title': 'Any Deep ReLU Network Is Shallow',\n",
            "  'votes': 118},\n",
            " {'link': None,\n",
            "  'title': 'Millions of GitHub repos likely vulnerable to RepoJacking, '\n",
            "           'researchers say (bleepingcomputer.com)',\n",
            "  'votes': 115},\n",
            " {'link': 'https://www.youtube.com/watch?v=1GanrexRyVY',\n",
            "  'title': 'How I landed a model rocket [video]',\n",
            "  'votes': 104},\n",
            " {'link': None,\n",
            "  'title': 'Make your programs run faster by better using the data cache '\n",
            "           '(2020) (johnnysswlab.com)',\n",
            "  'votes': 102},\n",
            " {'link': None,\n",
            "  'title': 'Mailpit – An email and SMTP testing tool with API '\n",
            "           '(github.com/axllent)',\n",
            "  'votes': 101}]\n"
          ]
        }
      ]
    },
    {
      "cell_type": "code",
      "source": [],
      "metadata": {
        "id": "VO9GnOVlXIFa"
      },
      "execution_count": null,
      "outputs": []
    }
  ]
}