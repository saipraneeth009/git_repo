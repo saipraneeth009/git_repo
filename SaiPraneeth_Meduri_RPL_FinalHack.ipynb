{
 "cells": [
  {
   "cell_type": "markdown",
   "id": "3e620f1f",
   "metadata": {},
   "source": [
    "\n",
    "\n",
    "\n",
    "# **Predicting the   retail customer retention potential level as high/medium/low AND Customer Segmentation & Pattern Extraction**"
   ]
  },
  {
   "cell_type": "markdown",
   "id": "bfa97f17",
   "metadata": {},
   "source": [
    "\n",
    "It is important for any retail company to focus on customer though continuous engagement which translates to increased sales and resultant profitability measured over a period. The customer churn results in not just loss of potential revenue and future profits together with sunk acquisition costs but also negative publicity and incurrence of additional cost of new acquisitions.\n",
    "\n",
    "On the other hand, Customer focus leads to retention which in turn leads to generation of value, not just volumes. Thus, understanding of customer churn and the underlying factors is central to customer relationship management.\n",
    "\n",
    "Retailers develop metric to capture customer response towards the product, service, price and competition so that they offer better products and service delivery to customers in comparison with competition. In retail business, a customer is treated as churned once his/her transactions/interactions/visits outdate a particular amount of time. It happens when the product/service is no more used or he uses a product/service of competitor. It is useful to understand defected customer in terms of interests and preferences  to win them back.\n",
    "\n",
    "It is possible to understand the customer based on historical data of customers containing the characteristics of customers, their transactions, the interactions with them  etc. Customer churn predictions help the retail company devise suitable marketing programs to target specific groups of retail customers as part of continued engagement. To ensure that such marketing spend is appropriately directed to the customers likely to be retained and/or with high probability of retention, you are required to classify the retention potential of customer as High/Medium/Low.\n",
    "\n",
    "\n",
    "You are expected to classify each customer  as high/medium/low under the target attribute “RententionPotential”. Here identifying the medium level customers is important as this category  indicates where some intelligent action may lead to high possibility of retaining the customers who are likely to churn.\n",
    "\n",
    "You are also required to segment the customers from the standpoint of customer retention for strategic purposes and extract the top 5 patterns for each level in target attribute, while answering other questions too cited below.\n",
    "\n",
    "**Objectives, In this hackathon, you are expected**\n",
    "\n",
    "1. to do exploratory Data Analysis using visualizations\n",
    "2. to build the analytical framework to predict the retail customer retention potential level as high/medium/low \n",
    "3. to  segment the customers into different  categories from the standpoint of customer retention which will be used for strategic purposes\n",
    "4. to extract the top 5 patterns for each level in the target attribute\n"
   ]
  },
  {
   "cell_type": "markdown",
   "id": "7699623f",
   "metadata": {},
   "source": [
    "# **About Data:**\n",
    "\n",
    "Data consists of  the  transactions made by the customers, emails sent to the customers and customers profile along with their preferences given during registration etc. \n",
    "Target attribute : RetentionPotential"
   ]
  },
  {
   "cell_type": "markdown",
   "id": "16bccc42",
   "metadata": {},
   "source": [
    "# ***Details of the datasets:***\n",
    "\n",
    "\n",
    "**Data consists of :**\n",
    "\n",
    "\n",
    "         a.  the transactions made by the customers, with the details of  Customer ID, date of order, quantity etc.  \n",
    "         b.  the emails sent to the customers, with the details of Customer ID, email date, time stamp, email type etc  \n",
    "         c.  Customers profile and preferences data, with the details of Customer ID, City, date of registration etc \n",
    "\n",
    "\n",
    "**I. Datasets with  customer id & the target attribute(RetentionPotential) :**\n",
    "\n",
    "      a.     Train.xlsx\n",
    "      b .     Test.xlsx  ( The target attribute RetentionPotential is not available as it has to be predicted)\n",
    "        Note:  Use Train.xlsx  for doing the cluster analysis and use  Test.xlsx  for assigning the segment to the new  Customer. (Note : Use train dataset for cluster analysis,  removing the target attribute RetentionPotential)\n",
    "\n",
    "\n",
    "\n",
    "**II. Other datasets:**\n",
    "\n",
    "        a. Train\n",
    "              i.   transactionsdata_Train.xlsx\n",
    "              ii.  Emaildata_Train.xlsx\n",
    "              iii.  Customerdata_Train.xlsx\n",
    "        b.  Test\n",
    "              i.   transactionsdata_Test.xlsx\n",
    "              ii.  Emaildata_Test.xlsx\n",
    "              iii.  Customerdata_Test.xlsx\n",
    "\n",
    "\n",
    " **III.  Hint:**\n",
    "\n",
    "  You may explore further to understand the domain and to do the feature engineering to handle the prediction task . Feature Engineering is important to do the tasks efficiently. "
   ]
  },
  {
   "cell_type": "markdown",
   "id": "7a77f3b4",
   "metadata": {},
   "source": [
    "# ***Main Tasks:***\n",
    "\n",
    "\n",
    "\n",
    "1.      Exploratory Data Analysis using visualizations in R Notebook or Jupiter notebook format . (All train related datasets should be used for this )\n",
    "             a.  What kind of insights did you find in the data after feature engineering?\n",
    "             b.  Learning curves : what is your observation based on the learning curves? Is there any bias or variance problem in the data or none? How do you address this bias/variance issue in the data?\n",
    "             c.  Based on the learning curves observation, which model do you think is suitable for the data and why?  \n",
    "\t\n",
    "\n",
    "\n",
    "2.   You are expected to build a framework that predicts each customer as high / medium / low under the target attribute RetentionPotential\n",
    "        a.  For this purpose you may use traditional approaches and deep learning techniques as well to improve the accuracies on prediction.\n",
    "\n",
    "\n",
    "3.    You are expected to do the customer segmentation on train data and assign appropriate segments to the  customers in test dataset.  (Note : Use train datasets for this task removing the target attribute ‘RetentionPotential’)\n",
    "\n",
    "\n",
    "4.     Patterns and suggestions to the company :  You are expected to extract top 5 patterns for each level in target attribute using any decision tree algorithm and explain on what basis did you rank the rules and what rules would you suggest to the company to improve it’s ROI."
   ]
  },
  {
   "cell_type": "markdown",
   "id": "b65b4a18",
   "metadata": {},
   "source": [
    "#  ***Error Metrics***\n",
    "\n",
    "Consider the **‘recall’**  for the class level **\"medium”** of Target attribute **\"RetentionPotential”**  as error metric and tune the model accordingly.\n",
    "\n",
    "\n",
    "\n",
    "**Important Note for the results submission:**  \n",
    "\n",
    "**Note:** \n",
    "\n",
    "While evaluating the predictions submitted, the system will consider “1” as positive  level in target attribute and hence please convert the target attribute accordingly and submit the results. It is very important for this problem as the error metic is “recall” for the target attribute level “medium”.  Refer to the samplesubmission.csv file."
   ]
  },
  {
   "cell_type": "markdown",
   "id": "6e8cbffa",
   "metadata": {},
   "source": [
    "**-------------------------------------------------------------------------------------------------------------------------------**"
   ]
  },
  {
   "cell_type": "markdown",
   "id": "a86b628c",
   "metadata": {},
   "source": [
    "\n",
    "# **Importing Dependencies**"
   ]
  },
  {
   "cell_type": "code",
   "execution_count": 1,
   "id": "31bef492",
   "metadata": {},
   "outputs": [],
   "source": [
    "import os\n",
    "import pandas as pd     #importiing pandas library \n",
    "import numpy as np      #importing numpy library\n",
    "import matplotlib.pyplot as plt   #importing matplotlib for visualizatona and plotting    \n",
    "import seaborn as sns           #importing matplotlib for visualizatona and plotting  \n"
   ]
  },
  {
   "cell_type": "code",
   "execution_count": 2,
   "id": "2d18e834",
   "metadata": {},
   "outputs": [],
   "source": [
    "## to avoid any wornings appering while executing\n",
    "import warnings\n",
    "warnings.filterwarnings('ignore')\n"
   ]
  },
  {
   "cell_type": "markdown",
   "id": "5e7a075f",
   "metadata": {},
   "source": [
    "**------------------------------------------------------------------------------------------------------------------------------**"
   ]
  },
  {
   "cell_type": "markdown",
   "id": "4a24ea31",
   "metadata": {},
   "source": [
    "# **Reading data**"
   ]
  },
  {
   "cell_type": "code",
   "execution_count": 3,
   "id": "99f7fb46",
   "metadata": {},
   "outputs": [],
   "source": [
    "##reading data file \n",
    "cust = pd.read_excel(r'C:\\Users\\saipr\\Downloads\\TrainData\\Customerdata_Train.xlsx',na_values=['#','?',',','*'])\n",
    "email = pd.read_excel(r'C:\\Users\\saipr\\Downloads\\TrainData\\Emaildata_Train.xlsx',na_values=['#','?',',','*'])\n",
    "train = pd.read_excel(r'C:\\Users\\saipr\\Downloads\\TrainData\\Train.xlsx',na_values=['#','?',',','*'])\n",
    "trans = pd.read_excel(r'C:\\Users\\saipr\\Downloads\\TrainData\\transactionsdata_Train.xlsx',na_values=['#','?',',','*'])\n"
   ]
  },
  {
   "cell_type": "markdown",
   "id": "d19788de",
   "metadata": {},
   "source": [
    "**Checking shape**\n"
   ]
  },
  {
   "cell_type": "code",
   "execution_count": 4,
   "id": "2d228ccc",
   "metadata": {},
   "outputs": [
    {
     "name": "stdout",
     "output_type": "stream",
     "text": [
      "(23820, 7)\n",
      "(517672, 6)\n",
      "(104755, 4)\n",
      "(23820, 2)\n"
     ]
    }
   ],
   "source": [
    "print(cust.shape)   \n",
    "print(email.shape)      \n",
    "print(trans.shape)\n",
    "print(train.shape)"
   ]
  },
  {
   "cell_type": "markdown",
   "id": "d5f1729f",
   "metadata": {},
   "source": [
    "**sorting according to customerID**"
   ]
  },
  {
   "cell_type": "code",
   "execution_count": 5,
   "id": "7be2cb84",
   "metadata": {},
   "outputs": [],
   "source": [
    "#cust = cust.sort_values(\"CustomerID\", ascending=True)"
   ]
  },
  {
   "cell_type": "code",
   "execution_count": 6,
   "id": "03b157e0",
   "metadata": {},
   "outputs": [],
   "source": [
    "#email = email.sort_values(\"CustomerID\", ascending=True)"
   ]
  },
  {
   "cell_type": "code",
   "execution_count": 7,
   "id": "26d8b9cc",
   "metadata": {},
   "outputs": [],
   "source": [
    "#trans = trans.sort_values(\"CustomerID\", ascending=True)"
   ]
  },
  {
   "cell_type": "code",
   "execution_count": 8,
   "id": "5e861432",
   "metadata": {},
   "outputs": [],
   "source": [
    "#train = train.sort_values(\"CustomerID\", ascending=True)"
   ]
  },
  {
   "cell_type": "code",
   "execution_count": 9,
   "id": "a475e19a",
   "metadata": {},
   "outputs": [
    {
     "data": {
      "text/html": [
       "<div>\n",
       "<style scoped>\n",
       "    .dataframe tbody tr th:only-of-type {\n",
       "        vertical-align: middle;\n",
       "    }\n",
       "\n",
       "    .dataframe tbody tr th {\n",
       "        vertical-align: top;\n",
       "    }\n",
       "\n",
       "    .dataframe thead th {\n",
       "        text-align: right;\n",
       "    }\n",
       "</style>\n",
       "<table border=\"1\" class=\"dataframe\">\n",
       "  <thead>\n",
       "    <tr style=\"text-align: right;\">\n",
       "      <th></th>\n",
       "      <th>CustomerID</th>\n",
       "      <th>City</th>\n",
       "      <th>DateOfRegistration</th>\n",
       "      <th>OnlineCommunication</th>\n",
       "      <th>AutomaticRefill</th>\n",
       "      <th>DoorstepDelivery</th>\n",
       "      <th>PreferredDeliveryDay</th>\n",
       "    </tr>\n",
       "  </thead>\n",
       "  <tbody>\n",
       "    <tr>\n",
       "      <th>0</th>\n",
       "      <td>C16368</td>\n",
       "      <td>CITY2</td>\n",
       "      <td>2012-09-28</td>\n",
       "      <td>0</td>\n",
       "      <td>0</td>\n",
       "      <td>0</td>\n",
       "      <td>Monday</td>\n",
       "    </tr>\n",
       "    <tr>\n",
       "      <th>1</th>\n",
       "      <td>C20345</td>\n",
       "      <td>CITY2</td>\n",
       "      <td>2010-12-19</td>\n",
       "      <td>1</td>\n",
       "      <td>1</td>\n",
       "      <td>1</td>\n",
       "      <td>Friday</td>\n",
       "    </tr>\n",
       "    <tr>\n",
       "      <th>2</th>\n",
       "      <td>C17683</td>\n",
       "      <td>CITY2</td>\n",
       "      <td>2010-10-03</td>\n",
       "      <td>0</td>\n",
       "      <td>0</td>\n",
       "      <td>0</td>\n",
       "      <td>Wednesday</td>\n",
       "    </tr>\n",
       "    <tr>\n",
       "      <th>3</th>\n",
       "      <td>C18647</td>\n",
       "      <td>CITY4</td>\n",
       "      <td>2010-11-27</td>\n",
       "      <td>0</td>\n",
       "      <td>0</td>\n",
       "      <td>0</td>\n",
       "      <td>Monday</td>\n",
       "    </tr>\n",
       "    <tr>\n",
       "      <th>4</th>\n",
       "      <td>C36692</td>\n",
       "      <td>CITY2</td>\n",
       "      <td>2009-12-04</td>\n",
       "      <td>1</td>\n",
       "      <td>1</td>\n",
       "      <td>0</td>\n",
       "      <td>Friday</td>\n",
       "    </tr>\n",
       "  </tbody>\n",
       "</table>\n",
       "</div>"
      ],
      "text/plain": [
       "  CustomerID   City DateOfRegistration  OnlineCommunication  AutomaticRefill  \\\n",
       "0     C16368  CITY2         2012-09-28                    0                0   \n",
       "1     C20345  CITY2         2010-12-19                    1                1   \n",
       "2     C17683  CITY2         2010-10-03                    0                0   \n",
       "3     C18647  CITY4         2010-11-27                    0                0   \n",
       "4     C36692  CITY2         2009-12-04                    1                1   \n",
       "\n",
       "   DoorstepDelivery PreferredDeliveryDay  \n",
       "0                 0               Monday  \n",
       "1                 1               Friday  \n",
       "2                 0            Wednesday  \n",
       "3                 0               Monday  \n",
       "4                 0               Friday  "
      ]
     },
     "execution_count": 9,
     "metadata": {},
     "output_type": "execute_result"
    }
   ],
   "source": [
    "cust.head()"
   ]
  },
  {
   "cell_type": "code",
   "execution_count": 10,
   "id": "05237240",
   "metadata": {},
   "outputs": [
    {
     "data": {
      "text/plain": [
       "CustomerID                      object\n",
       "City                            object\n",
       "DateOfRegistration      datetime64[ns]\n",
       "OnlineCommunication              int64\n",
       "AutomaticRefill                  int64\n",
       "DoorstepDelivery                 int64\n",
       "PreferredDeliveryDay            object\n",
       "dtype: object"
      ]
     },
     "execution_count": 10,
     "metadata": {},
     "output_type": "execute_result"
    }
   ],
   "source": [
    "cust.dtypes"
   ]
  },
  {
   "cell_type": "code",
   "execution_count": 11,
   "id": "bbed361f",
   "metadata": {},
   "outputs": [
    {
     "data": {
      "text/html": [
       "<div>\n",
       "<style scoped>\n",
       "    .dataframe tbody tr th:only-of-type {\n",
       "        vertical-align: middle;\n",
       "    }\n",
       "\n",
       "    .dataframe tbody tr th {\n",
       "        vertical-align: top;\n",
       "    }\n",
       "\n",
       "    .dataframe thead th {\n",
       "        text-align: right;\n",
       "    }\n",
       "</style>\n",
       "<table border=\"1\" class=\"dataframe\">\n",
       "  <thead>\n",
       "    <tr style=\"text-align: right;\">\n",
       "      <th></th>\n",
       "      <th>CustomerID</th>\n",
       "      <th>DateOfemail</th>\n",
       "      <th>EmailType</th>\n",
       "      <th>timestamp</th>\n",
       "      <th>MailOpened</th>\n",
       "      <th>MailClicked</th>\n",
       "    </tr>\n",
       "  </thead>\n",
       "  <tbody>\n",
       "    <tr>\n",
       "      <th>0</th>\n",
       "      <td>C16368</td>\n",
       "      <td>2012-09-28</td>\n",
       "      <td>WelcomeEmail</td>\n",
       "      <td>15:56:50</td>\n",
       "      <td>yes</td>\n",
       "      <td>NotApplicable</td>\n",
       "    </tr>\n",
       "    <tr>\n",
       "      <th>1</th>\n",
       "      <td>C20345</td>\n",
       "      <td>2010-12-19</td>\n",
       "      <td>WelcomeEmail</td>\n",
       "      <td>15:10:30</td>\n",
       "      <td>yes</td>\n",
       "      <td>NotApplicable</td>\n",
       "    </tr>\n",
       "    <tr>\n",
       "      <th>2</th>\n",
       "      <td>C17683</td>\n",
       "      <td>2010-10-03</td>\n",
       "      <td>WelcomeEmail</td>\n",
       "      <td>17:12:24</td>\n",
       "      <td>yes</td>\n",
       "      <td>NotApplicable</td>\n",
       "    </tr>\n",
       "    <tr>\n",
       "      <th>3</th>\n",
       "      <td>C18647</td>\n",
       "      <td>2010-11-27</td>\n",
       "      <td>WelcomeEmail</td>\n",
       "      <td>16:59:02</td>\n",
       "      <td>yes</td>\n",
       "      <td>NotApplicable</td>\n",
       "    </tr>\n",
       "    <tr>\n",
       "      <th>4</th>\n",
       "      <td>C36692</td>\n",
       "      <td>2009-12-04</td>\n",
       "      <td>WelcomeEmail</td>\n",
       "      <td>17:27:22</td>\n",
       "      <td>yes</td>\n",
       "      <td>NotApplicable</td>\n",
       "    </tr>\n",
       "  </tbody>\n",
       "</table>\n",
       "</div>"
      ],
      "text/plain": [
       "  CustomerID DateOfemail     EmailType timestamp MailOpened    MailClicked\n",
       "0     C16368  2012-09-28  WelcomeEmail  15:56:50        yes  NotApplicable\n",
       "1     C20345  2010-12-19  WelcomeEmail  15:10:30        yes  NotApplicable\n",
       "2     C17683  2010-10-03  WelcomeEmail  17:12:24        yes  NotApplicable\n",
       "3     C18647  2010-11-27  WelcomeEmail  16:59:02        yes  NotApplicable\n",
       "4     C36692  2009-12-04  WelcomeEmail  17:27:22        yes  NotApplicable"
      ]
     },
     "execution_count": 11,
     "metadata": {},
     "output_type": "execute_result"
    }
   ],
   "source": [
    "email.head()"
   ]
  },
  {
   "cell_type": "code",
   "execution_count": 12,
   "id": "04c0eee2",
   "metadata": {
    "scrolled": true
   },
   "outputs": [
    {
     "data": {
      "text/plain": [
       "CustomerID     object\n",
       "DateOfemail    object\n",
       "EmailType      object\n",
       "timestamp      object\n",
       "MailOpened     object\n",
       "MailClicked    object\n",
       "dtype: object"
      ]
     },
     "execution_count": 12,
     "metadata": {},
     "output_type": "execute_result"
    }
   ],
   "source": [
    "email.dtypes"
   ]
  },
  {
   "cell_type": "code",
   "execution_count": 13,
   "id": "13845a19",
   "metadata": {},
   "outputs": [
    {
     "data": {
      "text/plain": [
       "CustomerID     23820\n",
       "DateOfemail     3382\n",
       "EmailType          2\n",
       "timestamp      14369\n",
       "MailOpened         2\n",
       "MailClicked        3\n",
       "dtype: int64"
      ]
     },
     "execution_count": 13,
     "metadata": {},
     "output_type": "execute_result"
    }
   ],
   "source": [
    "email.nunique()"
   ]
  },
  {
   "cell_type": "code",
   "execution_count": 14,
   "id": "704f0b26",
   "metadata": {},
   "outputs": [
    {
     "data": {
      "text/plain": [
       "CustomizedEmail    493852\n",
       "WelcomeEmail        23820\n",
       "Name: EmailType, dtype: int64"
      ]
     },
     "execution_count": 14,
     "metadata": {},
     "output_type": "execute_result"
    }
   ],
   "source": [
    "email['EmailType'].value_counts()"
   ]
  },
  {
   "cell_type": "code",
   "execution_count": 15,
   "id": "d8120bd9",
   "metadata": {},
   "outputs": [
    {
     "data": {
      "text/html": [
       "<div>\n",
       "<style scoped>\n",
       "    .dataframe tbody tr th:only-of-type {\n",
       "        vertical-align: middle;\n",
       "    }\n",
       "\n",
       "    .dataframe tbody tr th {\n",
       "        vertical-align: top;\n",
       "    }\n",
       "\n",
       "    .dataframe thead th {\n",
       "        text-align: right;\n",
       "    }\n",
       "</style>\n",
       "<table border=\"1\" class=\"dataframe\">\n",
       "  <thead>\n",
       "    <tr style=\"text-align: right;\">\n",
       "      <th></th>\n",
       "      <th>CustomerID</th>\n",
       "      <th>DateOfOrder</th>\n",
       "      <th>timestamp</th>\n",
       "      <th>OrderQuantity</th>\n",
       "    </tr>\n",
       "  </thead>\n",
       "  <tbody>\n",
       "    <tr>\n",
       "      <th>0</th>\n",
       "      <td>C16368</td>\n",
       "      <td>2013-08-11</td>\n",
       "      <td>15:17:52</td>\n",
       "      <td>15</td>\n",
       "    </tr>\n",
       "    <tr>\n",
       "      <th>1</th>\n",
       "      <td>C20345</td>\n",
       "      <td>2011-04-01</td>\n",
       "      <td>19:50:00</td>\n",
       "      <td>92</td>\n",
       "    </tr>\n",
       "    <tr>\n",
       "      <th>2</th>\n",
       "      <td>C20345</td>\n",
       "      <td>2012-06-29</td>\n",
       "      <td>15:11:56</td>\n",
       "      <td>95</td>\n",
       "    </tr>\n",
       "    <tr>\n",
       "      <th>3</th>\n",
       "      <td>C20345</td>\n",
       "      <td>2012-09-22</td>\n",
       "      <td>20:49:10</td>\n",
       "      <td>74</td>\n",
       "    </tr>\n",
       "    <tr>\n",
       "      <th>4</th>\n",
       "      <td>C20345</td>\n",
       "      <td>2011-08-23</td>\n",
       "      <td>11:50:26</td>\n",
       "      <td>81</td>\n",
       "    </tr>\n",
       "  </tbody>\n",
       "</table>\n",
       "</div>"
      ],
      "text/plain": [
       "  CustomerID DateOfOrder timestamp  OrderQuantity\n",
       "0     C16368  2013-08-11  15:17:52             15\n",
       "1     C20345  2011-04-01  19:50:00             92\n",
       "2     C20345  2012-06-29  15:11:56             95\n",
       "3     C20345  2012-09-22  20:49:10             74\n",
       "4     C20345  2011-08-23  11:50:26             81"
      ]
     },
     "execution_count": 15,
     "metadata": {},
     "output_type": "execute_result"
    }
   ],
   "source": [
    "trans.head()"
   ]
  },
  {
   "cell_type": "code",
   "execution_count": 16,
   "id": "a52f05ac",
   "metadata": {},
   "outputs": [
    {
     "data": {
      "text/plain": [
       "CustomerID       object\n",
       "DateOfOrder      object\n",
       "timestamp        object\n",
       "OrderQuantity     int64\n",
       "dtype: object"
      ]
     },
     "execution_count": 16,
     "metadata": {},
     "output_type": "execute_result"
    }
   ],
   "source": [
    "trans.dtypes"
   ]
  },
  {
   "cell_type": "code",
   "execution_count": 17,
   "id": "b8a216ce",
   "metadata": {},
   "outputs": [
    {
     "data": {
      "text/html": [
       "<div>\n",
       "<style scoped>\n",
       "    .dataframe tbody tr th:only-of-type {\n",
       "        vertical-align: middle;\n",
       "    }\n",
       "\n",
       "    .dataframe tbody tr th {\n",
       "        vertical-align: top;\n",
       "    }\n",
       "\n",
       "    .dataframe thead th {\n",
       "        text-align: right;\n",
       "    }\n",
       "</style>\n",
       "<table border=\"1\" class=\"dataframe\">\n",
       "  <thead>\n",
       "    <tr style=\"text-align: right;\">\n",
       "      <th></th>\n",
       "      <th>CustomerID</th>\n",
       "      <th>RetentionPotential</th>\n",
       "    </tr>\n",
       "  </thead>\n",
       "  <tbody>\n",
       "    <tr>\n",
       "      <th>0</th>\n",
       "      <td>C37869</td>\n",
       "      <td>Low</td>\n",
       "    </tr>\n",
       "    <tr>\n",
       "      <th>1</th>\n",
       "      <td>C33841</td>\n",
       "      <td>Low</td>\n",
       "    </tr>\n",
       "    <tr>\n",
       "      <th>2</th>\n",
       "      <td>C29464</td>\n",
       "      <td>Low</td>\n",
       "    </tr>\n",
       "    <tr>\n",
       "      <th>3</th>\n",
       "      <td>C28158</td>\n",
       "      <td>Low</td>\n",
       "    </tr>\n",
       "    <tr>\n",
       "      <th>4</th>\n",
       "      <td>C22785</td>\n",
       "      <td>High</td>\n",
       "    </tr>\n",
       "  </tbody>\n",
       "</table>\n",
       "</div>"
      ],
      "text/plain": [
       "  CustomerID RetentionPotential\n",
       "0     C37869                Low\n",
       "1     C33841                Low\n",
       "2     C29464                Low\n",
       "3     C28158                Low\n",
       "4     C22785               High"
      ]
     },
     "execution_count": 17,
     "metadata": {},
     "output_type": "execute_result"
    }
   ],
   "source": [
    "train.head()"
   ]
  },
  {
   "cell_type": "code",
   "execution_count": 18,
   "id": "26624a63",
   "metadata": {},
   "outputs": [
    {
     "data": {
      "text/plain": [
       "CustomerID            object\n",
       "RetentionPotential    object\n",
       "dtype: object"
      ]
     },
     "execution_count": 18,
     "metadata": {},
     "output_type": "execute_result"
    }
   ],
   "source": [
    "train.dtypes"
   ]
  },
  {
   "cell_type": "markdown",
   "id": "93778cb3",
   "metadata": {},
   "source": [
    "# **Preprocessing data**"
   ]
  },
  {
   "cell_type": "markdown",
   "id": "988bfc39",
   "metadata": {},
   "source": [
    "**Extracting year form DateOfRegistration**"
   ]
  },
  {
   "cell_type": "code",
   "execution_count": 19,
   "id": "94962ddb",
   "metadata": {},
   "outputs": [],
   "source": [
    "cust['DateOfRegistration'] = pd.to_datetime(cust['DateOfRegistration'])\n",
    "cust['yearofreg'] = cust['DateOfRegistration'].apply(lambda x:x.year)"
   ]
  },
  {
   "cell_type": "code",
   "execution_count": 20,
   "id": "2bb70abc",
   "metadata": {},
   "outputs": [
    {
     "data": {
      "text/html": [
       "<div>\n",
       "<style scoped>\n",
       "    .dataframe tbody tr th:only-of-type {\n",
       "        vertical-align: middle;\n",
       "    }\n",
       "\n",
       "    .dataframe tbody tr th {\n",
       "        vertical-align: top;\n",
       "    }\n",
       "\n",
       "    .dataframe thead th {\n",
       "        text-align: right;\n",
       "    }\n",
       "</style>\n",
       "<table border=\"1\" class=\"dataframe\">\n",
       "  <thead>\n",
       "    <tr style=\"text-align: right;\">\n",
       "      <th></th>\n",
       "      <th>CustomerID</th>\n",
       "      <th>City</th>\n",
       "      <th>DateOfRegistration</th>\n",
       "      <th>OnlineCommunication</th>\n",
       "      <th>AutomaticRefill</th>\n",
       "      <th>DoorstepDelivery</th>\n",
       "      <th>PreferredDeliveryDay</th>\n",
       "      <th>yearofreg</th>\n",
       "    </tr>\n",
       "  </thead>\n",
       "  <tbody>\n",
       "    <tr>\n",
       "      <th>0</th>\n",
       "      <td>C16368</td>\n",
       "      <td>CITY2</td>\n",
       "      <td>2012-09-28</td>\n",
       "      <td>0</td>\n",
       "      <td>0</td>\n",
       "      <td>0</td>\n",
       "      <td>Monday</td>\n",
       "      <td>2012</td>\n",
       "    </tr>\n",
       "    <tr>\n",
       "      <th>1</th>\n",
       "      <td>C20345</td>\n",
       "      <td>CITY2</td>\n",
       "      <td>2010-12-19</td>\n",
       "      <td>1</td>\n",
       "      <td>1</td>\n",
       "      <td>1</td>\n",
       "      <td>Friday</td>\n",
       "      <td>2010</td>\n",
       "    </tr>\n",
       "    <tr>\n",
       "      <th>2</th>\n",
       "      <td>C17683</td>\n",
       "      <td>CITY2</td>\n",
       "      <td>2010-10-03</td>\n",
       "      <td>0</td>\n",
       "      <td>0</td>\n",
       "      <td>0</td>\n",
       "      <td>Wednesday</td>\n",
       "      <td>2010</td>\n",
       "    </tr>\n",
       "    <tr>\n",
       "      <th>3</th>\n",
       "      <td>C18647</td>\n",
       "      <td>CITY4</td>\n",
       "      <td>2010-11-27</td>\n",
       "      <td>0</td>\n",
       "      <td>0</td>\n",
       "      <td>0</td>\n",
       "      <td>Monday</td>\n",
       "      <td>2010</td>\n",
       "    </tr>\n",
       "    <tr>\n",
       "      <th>4</th>\n",
       "      <td>C36692</td>\n",
       "      <td>CITY2</td>\n",
       "      <td>2009-12-04</td>\n",
       "      <td>1</td>\n",
       "      <td>1</td>\n",
       "      <td>0</td>\n",
       "      <td>Friday</td>\n",
       "      <td>2009</td>\n",
       "    </tr>\n",
       "    <tr>\n",
       "      <th>...</th>\n",
       "      <td>...</td>\n",
       "      <td>...</td>\n",
       "      <td>...</td>\n",
       "      <td>...</td>\n",
       "      <td>...</td>\n",
       "      <td>...</td>\n",
       "      <td>...</td>\n",
       "      <td>...</td>\n",
       "    </tr>\n",
       "    <tr>\n",
       "      <th>23815</th>\n",
       "      <td>C23511</td>\n",
       "      <td>CITY2</td>\n",
       "      <td>2018-01-17</td>\n",
       "      <td>1</td>\n",
       "      <td>1</td>\n",
       "      <td>0</td>\n",
       "      <td>Friday</td>\n",
       "      <td>2018</td>\n",
       "    </tr>\n",
       "    <tr>\n",
       "      <th>23816</th>\n",
       "      <td>C12197</td>\n",
       "      <td>CITY3</td>\n",
       "      <td>2018-01-17</td>\n",
       "      <td>1</td>\n",
       "      <td>0</td>\n",
       "      <td>1</td>\n",
       "      <td>Friday</td>\n",
       "      <td>2018</td>\n",
       "    </tr>\n",
       "    <tr>\n",
       "      <th>23817</th>\n",
       "      <td>C40967</td>\n",
       "      <td>CITY3</td>\n",
       "      <td>2018-01-17</td>\n",
       "      <td>1</td>\n",
       "      <td>0</td>\n",
       "      <td>0</td>\n",
       "      <td>Saturday</td>\n",
       "      <td>2018</td>\n",
       "    </tr>\n",
       "    <tr>\n",
       "      <th>23818</th>\n",
       "      <td>C36140</td>\n",
       "      <td>CITY3</td>\n",
       "      <td>2018-01-17</td>\n",
       "      <td>1</td>\n",
       "      <td>1</td>\n",
       "      <td>0</td>\n",
       "      <td>Saturday</td>\n",
       "      <td>2018</td>\n",
       "    </tr>\n",
       "    <tr>\n",
       "      <th>23819</th>\n",
       "      <td>C42003</td>\n",
       "      <td>CITY4</td>\n",
       "      <td>2018-01-17</td>\n",
       "      <td>1</td>\n",
       "      <td>0</td>\n",
       "      <td>0</td>\n",
       "      <td>Friday</td>\n",
       "      <td>2018</td>\n",
       "    </tr>\n",
       "  </tbody>\n",
       "</table>\n",
       "<p>23820 rows × 8 columns</p>\n",
       "</div>"
      ],
      "text/plain": [
       "      CustomerID   City DateOfRegistration  OnlineCommunication  \\\n",
       "0         C16368  CITY2         2012-09-28                    0   \n",
       "1         C20345  CITY2         2010-12-19                    1   \n",
       "2         C17683  CITY2         2010-10-03                    0   \n",
       "3         C18647  CITY4         2010-11-27                    0   \n",
       "4         C36692  CITY2         2009-12-04                    1   \n",
       "...          ...    ...                ...                  ...   \n",
       "23815     C23511  CITY2         2018-01-17                    1   \n",
       "23816     C12197  CITY3         2018-01-17                    1   \n",
       "23817     C40967  CITY3         2018-01-17                    1   \n",
       "23818     C36140  CITY3         2018-01-17                    1   \n",
       "23819     C42003  CITY4         2018-01-17                    1   \n",
       "\n",
       "       AutomaticRefill  DoorstepDelivery PreferredDeliveryDay  yearofreg  \n",
       "0                    0                 0               Monday       2012  \n",
       "1                    1                 1               Friday       2010  \n",
       "2                    0                 0            Wednesday       2010  \n",
       "3                    0                 0               Monday       2010  \n",
       "4                    1                 0               Friday       2009  \n",
       "...                ...               ...                  ...        ...  \n",
       "23815                1                 0               Friday       2018  \n",
       "23816                0                 1               Friday       2018  \n",
       "23817                0                 0             Saturday       2018  \n",
       "23818                1                 0             Saturday       2018  \n",
       "23819                0                 0               Friday       2018  \n",
       "\n",
       "[23820 rows x 8 columns]"
      ]
     },
     "execution_count": 20,
     "metadata": {},
     "output_type": "execute_result"
    }
   ],
   "source": [
    "cust"
   ]
  },
  {
   "cell_type": "code",
   "execution_count": 21,
   "id": "ad50993b",
   "metadata": {},
   "outputs": [],
   "source": [
    "cust.drop('DateOfRegistration', axis=1, inplace=True)"
   ]
  },
  {
   "cell_type": "code",
   "execution_count": 22,
   "id": "8cff3bdb",
   "metadata": {},
   "outputs": [
    {
     "data": {
      "text/html": [
       "<div>\n",
       "<style scoped>\n",
       "    .dataframe tbody tr th:only-of-type {\n",
       "        vertical-align: middle;\n",
       "    }\n",
       "\n",
       "    .dataframe tbody tr th {\n",
       "        vertical-align: top;\n",
       "    }\n",
       "\n",
       "    .dataframe thead th {\n",
       "        text-align: right;\n",
       "    }\n",
       "</style>\n",
       "<table border=\"1\" class=\"dataframe\">\n",
       "  <thead>\n",
       "    <tr style=\"text-align: right;\">\n",
       "      <th></th>\n",
       "      <th>CustomerID</th>\n",
       "      <th>City</th>\n",
       "      <th>OnlineCommunication</th>\n",
       "      <th>AutomaticRefill</th>\n",
       "      <th>DoorstepDelivery</th>\n",
       "      <th>PreferredDeliveryDay</th>\n",
       "      <th>yearofreg</th>\n",
       "    </tr>\n",
       "  </thead>\n",
       "  <tbody>\n",
       "    <tr>\n",
       "      <th>0</th>\n",
       "      <td>C16368</td>\n",
       "      <td>CITY2</td>\n",
       "      <td>0</td>\n",
       "      <td>0</td>\n",
       "      <td>0</td>\n",
       "      <td>Monday</td>\n",
       "      <td>2012</td>\n",
       "    </tr>\n",
       "    <tr>\n",
       "      <th>1</th>\n",
       "      <td>C20345</td>\n",
       "      <td>CITY2</td>\n",
       "      <td>1</td>\n",
       "      <td>1</td>\n",
       "      <td>1</td>\n",
       "      <td>Friday</td>\n",
       "      <td>2010</td>\n",
       "    </tr>\n",
       "    <tr>\n",
       "      <th>2</th>\n",
       "      <td>C17683</td>\n",
       "      <td>CITY2</td>\n",
       "      <td>0</td>\n",
       "      <td>0</td>\n",
       "      <td>0</td>\n",
       "      <td>Wednesday</td>\n",
       "      <td>2010</td>\n",
       "    </tr>\n",
       "    <tr>\n",
       "      <th>3</th>\n",
       "      <td>C18647</td>\n",
       "      <td>CITY4</td>\n",
       "      <td>0</td>\n",
       "      <td>0</td>\n",
       "      <td>0</td>\n",
       "      <td>Monday</td>\n",
       "      <td>2010</td>\n",
       "    </tr>\n",
       "    <tr>\n",
       "      <th>4</th>\n",
       "      <td>C36692</td>\n",
       "      <td>CITY2</td>\n",
       "      <td>1</td>\n",
       "      <td>1</td>\n",
       "      <td>0</td>\n",
       "      <td>Friday</td>\n",
       "      <td>2009</td>\n",
       "    </tr>\n",
       "    <tr>\n",
       "      <th>...</th>\n",
       "      <td>...</td>\n",
       "      <td>...</td>\n",
       "      <td>...</td>\n",
       "      <td>...</td>\n",
       "      <td>...</td>\n",
       "      <td>...</td>\n",
       "      <td>...</td>\n",
       "    </tr>\n",
       "    <tr>\n",
       "      <th>23815</th>\n",
       "      <td>C23511</td>\n",
       "      <td>CITY2</td>\n",
       "      <td>1</td>\n",
       "      <td>1</td>\n",
       "      <td>0</td>\n",
       "      <td>Friday</td>\n",
       "      <td>2018</td>\n",
       "    </tr>\n",
       "    <tr>\n",
       "      <th>23816</th>\n",
       "      <td>C12197</td>\n",
       "      <td>CITY3</td>\n",
       "      <td>1</td>\n",
       "      <td>0</td>\n",
       "      <td>1</td>\n",
       "      <td>Friday</td>\n",
       "      <td>2018</td>\n",
       "    </tr>\n",
       "    <tr>\n",
       "      <th>23817</th>\n",
       "      <td>C40967</td>\n",
       "      <td>CITY3</td>\n",
       "      <td>1</td>\n",
       "      <td>0</td>\n",
       "      <td>0</td>\n",
       "      <td>Saturday</td>\n",
       "      <td>2018</td>\n",
       "    </tr>\n",
       "    <tr>\n",
       "      <th>23818</th>\n",
       "      <td>C36140</td>\n",
       "      <td>CITY3</td>\n",
       "      <td>1</td>\n",
       "      <td>1</td>\n",
       "      <td>0</td>\n",
       "      <td>Saturday</td>\n",
       "      <td>2018</td>\n",
       "    </tr>\n",
       "    <tr>\n",
       "      <th>23819</th>\n",
       "      <td>C42003</td>\n",
       "      <td>CITY4</td>\n",
       "      <td>1</td>\n",
       "      <td>0</td>\n",
       "      <td>0</td>\n",
       "      <td>Friday</td>\n",
       "      <td>2018</td>\n",
       "    </tr>\n",
       "  </tbody>\n",
       "</table>\n",
       "<p>23820 rows × 7 columns</p>\n",
       "</div>"
      ],
      "text/plain": [
       "      CustomerID   City  OnlineCommunication  AutomaticRefill  \\\n",
       "0         C16368  CITY2                    0                0   \n",
       "1         C20345  CITY2                    1                1   \n",
       "2         C17683  CITY2                    0                0   \n",
       "3         C18647  CITY4                    0                0   \n",
       "4         C36692  CITY2                    1                1   \n",
       "...          ...    ...                  ...              ...   \n",
       "23815     C23511  CITY2                    1                1   \n",
       "23816     C12197  CITY3                    1                0   \n",
       "23817     C40967  CITY3                    1                0   \n",
       "23818     C36140  CITY3                    1                1   \n",
       "23819     C42003  CITY4                    1                0   \n",
       "\n",
       "       DoorstepDelivery PreferredDeliveryDay  yearofreg  \n",
       "0                     0               Monday       2012  \n",
       "1                     1               Friday       2010  \n",
       "2                     0            Wednesday       2010  \n",
       "3                     0               Monday       2010  \n",
       "4                     0               Friday       2009  \n",
       "...                 ...                  ...        ...  \n",
       "23815                 0               Friday       2018  \n",
       "23816                 1               Friday       2018  \n",
       "23817                 0             Saturday       2018  \n",
       "23818                 0             Saturday       2018  \n",
       "23819                 0               Friday       2018  \n",
       "\n",
       "[23820 rows x 7 columns]"
      ]
     },
     "execution_count": 22,
     "metadata": {},
     "output_type": "execute_result"
    }
   ],
   "source": [
    "cust"
   ]
  },
  {
   "cell_type": "code",
   "execution_count": 23,
   "id": "e9eec437",
   "metadata": {},
   "outputs": [
    {
     "data": {
      "text/plain": [
       "CustomerID              object\n",
       "City                    object\n",
       "OnlineCommunication      int64\n",
       "AutomaticRefill          int64\n",
       "DoorstepDelivery         int64\n",
       "PreferredDeliveryDay    object\n",
       "yearofreg                int64\n",
       "dtype: object"
      ]
     },
     "execution_count": 23,
     "metadata": {},
     "output_type": "execute_result"
    }
   ],
   "source": [
    "cust.dtypes"
   ]
  },
  {
   "cell_type": "markdown",
   "id": "d96dee10",
   "metadata": {},
   "source": [
    "**Extracting year form DateOfEmail**"
   ]
  },
  {
   "cell_type": "code",
   "execution_count": 24,
   "id": "af7fa5ad",
   "metadata": {},
   "outputs": [],
   "source": [
    "email['DateOfemail'] = pd.to_datetime(email['DateOfemail'])\n",
    "email['yearofemail'] = email['DateOfemail'].apply(lambda x:x.year)"
   ]
  },
  {
   "cell_type": "code",
   "execution_count": 25,
   "id": "542e3df0",
   "metadata": {},
   "outputs": [
    {
     "data": {
      "text/html": [
       "<div>\n",
       "<style scoped>\n",
       "    .dataframe tbody tr th:only-of-type {\n",
       "        vertical-align: middle;\n",
       "    }\n",
       "\n",
       "    .dataframe tbody tr th {\n",
       "        vertical-align: top;\n",
       "    }\n",
       "\n",
       "    .dataframe thead th {\n",
       "        text-align: right;\n",
       "    }\n",
       "</style>\n",
       "<table border=\"1\" class=\"dataframe\">\n",
       "  <thead>\n",
       "    <tr style=\"text-align: right;\">\n",
       "      <th></th>\n",
       "      <th>CustomerID</th>\n",
       "      <th>DateOfemail</th>\n",
       "      <th>EmailType</th>\n",
       "      <th>timestamp</th>\n",
       "      <th>MailOpened</th>\n",
       "      <th>MailClicked</th>\n",
       "      <th>yearofemail</th>\n",
       "    </tr>\n",
       "  </thead>\n",
       "  <tbody>\n",
       "    <tr>\n",
       "      <th>0</th>\n",
       "      <td>C16368</td>\n",
       "      <td>2012-09-28</td>\n",
       "      <td>WelcomeEmail</td>\n",
       "      <td>15:56:50</td>\n",
       "      <td>yes</td>\n",
       "      <td>NotApplicable</td>\n",
       "      <td>2012</td>\n",
       "    </tr>\n",
       "    <tr>\n",
       "      <th>1</th>\n",
       "      <td>C20345</td>\n",
       "      <td>2010-12-19</td>\n",
       "      <td>WelcomeEmail</td>\n",
       "      <td>15:10:30</td>\n",
       "      <td>yes</td>\n",
       "      <td>NotApplicable</td>\n",
       "      <td>2010</td>\n",
       "    </tr>\n",
       "    <tr>\n",
       "      <th>2</th>\n",
       "      <td>C17683</td>\n",
       "      <td>2010-10-03</td>\n",
       "      <td>WelcomeEmail</td>\n",
       "      <td>17:12:24</td>\n",
       "      <td>yes</td>\n",
       "      <td>NotApplicable</td>\n",
       "      <td>2010</td>\n",
       "    </tr>\n",
       "    <tr>\n",
       "      <th>3</th>\n",
       "      <td>C18647</td>\n",
       "      <td>2010-11-27</td>\n",
       "      <td>WelcomeEmail</td>\n",
       "      <td>16:59:02</td>\n",
       "      <td>yes</td>\n",
       "      <td>NotApplicable</td>\n",
       "      <td>2010</td>\n",
       "    </tr>\n",
       "    <tr>\n",
       "      <th>4</th>\n",
       "      <td>C36692</td>\n",
       "      <td>2009-12-04</td>\n",
       "      <td>WelcomeEmail</td>\n",
       "      <td>17:27:22</td>\n",
       "      <td>yes</td>\n",
       "      <td>NotApplicable</td>\n",
       "      <td>2009</td>\n",
       "    </tr>\n",
       "    <tr>\n",
       "      <th>...</th>\n",
       "      <td>...</td>\n",
       "      <td>...</td>\n",
       "      <td>...</td>\n",
       "      <td>...</td>\n",
       "      <td>...</td>\n",
       "      <td>...</td>\n",
       "      <td>...</td>\n",
       "    </tr>\n",
       "    <tr>\n",
       "      <th>517667</th>\n",
       "      <td>C36140</td>\n",
       "      <td>2018-01-18</td>\n",
       "      <td>CustomizedEmail</td>\n",
       "      <td>14:04:44</td>\n",
       "      <td>yes</td>\n",
       "      <td>yes</td>\n",
       "      <td>2018</td>\n",
       "    </tr>\n",
       "    <tr>\n",
       "      <th>517668</th>\n",
       "      <td>C36140</td>\n",
       "      <td>2018-01-21</td>\n",
       "      <td>CustomizedEmail</td>\n",
       "      <td>16:17:16</td>\n",
       "      <td>no</td>\n",
       "      <td>no</td>\n",
       "      <td>2018</td>\n",
       "    </tr>\n",
       "    <tr>\n",
       "      <th>517669</th>\n",
       "      <td>C36140</td>\n",
       "      <td>2018-01-20</td>\n",
       "      <td>CustomizedEmail</td>\n",
       "      <td>12:17:34</td>\n",
       "      <td>yes</td>\n",
       "      <td>yes</td>\n",
       "      <td>2018</td>\n",
       "    </tr>\n",
       "    <tr>\n",
       "      <th>517670</th>\n",
       "      <td>C36140</td>\n",
       "      <td>2018-01-20</td>\n",
       "      <td>CustomizedEmail</td>\n",
       "      <td>16:31:18</td>\n",
       "      <td>yes</td>\n",
       "      <td>no</td>\n",
       "      <td>2018</td>\n",
       "    </tr>\n",
       "    <tr>\n",
       "      <th>517671</th>\n",
       "      <td>C36140</td>\n",
       "      <td>2018-01-21</td>\n",
       "      <td>CustomizedEmail</td>\n",
       "      <td>14:23:16</td>\n",
       "      <td>yes</td>\n",
       "      <td>yes</td>\n",
       "      <td>2018</td>\n",
       "    </tr>\n",
       "  </tbody>\n",
       "</table>\n",
       "<p>517672 rows × 7 columns</p>\n",
       "</div>"
      ],
      "text/plain": [
       "       CustomerID DateOfemail        EmailType timestamp MailOpened  \\\n",
       "0          C16368  2012-09-28     WelcomeEmail  15:56:50        yes   \n",
       "1          C20345  2010-12-19     WelcomeEmail  15:10:30        yes   \n",
       "2          C17683  2010-10-03     WelcomeEmail  17:12:24        yes   \n",
       "3          C18647  2010-11-27     WelcomeEmail  16:59:02        yes   \n",
       "4          C36692  2009-12-04     WelcomeEmail  17:27:22        yes   \n",
       "...           ...         ...              ...       ...        ...   \n",
       "517667     C36140  2018-01-18  CustomizedEmail  14:04:44        yes   \n",
       "517668     C36140  2018-01-21  CustomizedEmail  16:17:16         no   \n",
       "517669     C36140  2018-01-20  CustomizedEmail  12:17:34        yes   \n",
       "517670     C36140  2018-01-20  CustomizedEmail  16:31:18        yes   \n",
       "517671     C36140  2018-01-21  CustomizedEmail  14:23:16        yes   \n",
       "\n",
       "          MailClicked  yearofemail  \n",
       "0       NotApplicable         2012  \n",
       "1       NotApplicable         2010  \n",
       "2       NotApplicable         2010  \n",
       "3       NotApplicable         2010  \n",
       "4       NotApplicable         2009  \n",
       "...               ...          ...  \n",
       "517667            yes         2018  \n",
       "517668             no         2018  \n",
       "517669            yes         2018  \n",
       "517670             no         2018  \n",
       "517671            yes         2018  \n",
       "\n",
       "[517672 rows x 7 columns]"
      ]
     },
     "execution_count": 25,
     "metadata": {},
     "output_type": "execute_result"
    }
   ],
   "source": [
    "email"
   ]
  },
  {
   "cell_type": "code",
   "execution_count": 26,
   "id": "ffb0f755",
   "metadata": {},
   "outputs": [],
   "source": [
    "email.drop(['DateOfemail','timestamp'], axis=1, inplace=True)"
   ]
  },
  {
   "cell_type": "code",
   "execution_count": 27,
   "id": "4f39269e",
   "metadata": {},
   "outputs": [
    {
     "data": {
      "text/html": [
       "<div>\n",
       "<style scoped>\n",
       "    .dataframe tbody tr th:only-of-type {\n",
       "        vertical-align: middle;\n",
       "    }\n",
       "\n",
       "    .dataframe tbody tr th {\n",
       "        vertical-align: top;\n",
       "    }\n",
       "\n",
       "    .dataframe thead th {\n",
       "        text-align: right;\n",
       "    }\n",
       "</style>\n",
       "<table border=\"1\" class=\"dataframe\">\n",
       "  <thead>\n",
       "    <tr style=\"text-align: right;\">\n",
       "      <th></th>\n",
       "      <th>CustomerID</th>\n",
       "      <th>EmailType</th>\n",
       "      <th>MailOpened</th>\n",
       "      <th>MailClicked</th>\n",
       "      <th>yearofemail</th>\n",
       "    </tr>\n",
       "  </thead>\n",
       "  <tbody>\n",
       "    <tr>\n",
       "      <th>0</th>\n",
       "      <td>C16368</td>\n",
       "      <td>WelcomeEmail</td>\n",
       "      <td>yes</td>\n",
       "      <td>NotApplicable</td>\n",
       "      <td>2012</td>\n",
       "    </tr>\n",
       "    <tr>\n",
       "      <th>1</th>\n",
       "      <td>C20345</td>\n",
       "      <td>WelcomeEmail</td>\n",
       "      <td>yes</td>\n",
       "      <td>NotApplicable</td>\n",
       "      <td>2010</td>\n",
       "    </tr>\n",
       "    <tr>\n",
       "      <th>2</th>\n",
       "      <td>C17683</td>\n",
       "      <td>WelcomeEmail</td>\n",
       "      <td>yes</td>\n",
       "      <td>NotApplicable</td>\n",
       "      <td>2010</td>\n",
       "    </tr>\n",
       "    <tr>\n",
       "      <th>3</th>\n",
       "      <td>C18647</td>\n",
       "      <td>WelcomeEmail</td>\n",
       "      <td>yes</td>\n",
       "      <td>NotApplicable</td>\n",
       "      <td>2010</td>\n",
       "    </tr>\n",
       "    <tr>\n",
       "      <th>4</th>\n",
       "      <td>C36692</td>\n",
       "      <td>WelcomeEmail</td>\n",
       "      <td>yes</td>\n",
       "      <td>NotApplicable</td>\n",
       "      <td>2009</td>\n",
       "    </tr>\n",
       "    <tr>\n",
       "      <th>...</th>\n",
       "      <td>...</td>\n",
       "      <td>...</td>\n",
       "      <td>...</td>\n",
       "      <td>...</td>\n",
       "      <td>...</td>\n",
       "    </tr>\n",
       "    <tr>\n",
       "      <th>517667</th>\n",
       "      <td>C36140</td>\n",
       "      <td>CustomizedEmail</td>\n",
       "      <td>yes</td>\n",
       "      <td>yes</td>\n",
       "      <td>2018</td>\n",
       "    </tr>\n",
       "    <tr>\n",
       "      <th>517668</th>\n",
       "      <td>C36140</td>\n",
       "      <td>CustomizedEmail</td>\n",
       "      <td>no</td>\n",
       "      <td>no</td>\n",
       "      <td>2018</td>\n",
       "    </tr>\n",
       "    <tr>\n",
       "      <th>517669</th>\n",
       "      <td>C36140</td>\n",
       "      <td>CustomizedEmail</td>\n",
       "      <td>yes</td>\n",
       "      <td>yes</td>\n",
       "      <td>2018</td>\n",
       "    </tr>\n",
       "    <tr>\n",
       "      <th>517670</th>\n",
       "      <td>C36140</td>\n",
       "      <td>CustomizedEmail</td>\n",
       "      <td>yes</td>\n",
       "      <td>no</td>\n",
       "      <td>2018</td>\n",
       "    </tr>\n",
       "    <tr>\n",
       "      <th>517671</th>\n",
       "      <td>C36140</td>\n",
       "      <td>CustomizedEmail</td>\n",
       "      <td>yes</td>\n",
       "      <td>yes</td>\n",
       "      <td>2018</td>\n",
       "    </tr>\n",
       "  </tbody>\n",
       "</table>\n",
       "<p>517672 rows × 5 columns</p>\n",
       "</div>"
      ],
      "text/plain": [
       "       CustomerID        EmailType MailOpened    MailClicked  yearofemail\n",
       "0          C16368     WelcomeEmail        yes  NotApplicable         2012\n",
       "1          C20345     WelcomeEmail        yes  NotApplicable         2010\n",
       "2          C17683     WelcomeEmail        yes  NotApplicable         2010\n",
       "3          C18647     WelcomeEmail        yes  NotApplicable         2010\n",
       "4          C36692     WelcomeEmail        yes  NotApplicable         2009\n",
       "...           ...              ...        ...            ...          ...\n",
       "517667     C36140  CustomizedEmail        yes            yes         2018\n",
       "517668     C36140  CustomizedEmail         no             no         2018\n",
       "517669     C36140  CustomizedEmail        yes            yes         2018\n",
       "517670     C36140  CustomizedEmail        yes             no         2018\n",
       "517671     C36140  CustomizedEmail        yes            yes         2018\n",
       "\n",
       "[517672 rows x 5 columns]"
      ]
     },
     "execution_count": 27,
     "metadata": {},
     "output_type": "execute_result"
    }
   ],
   "source": [
    "email"
   ]
  },
  {
   "cell_type": "code",
   "execution_count": 28,
   "id": "9f531b72",
   "metadata": {},
   "outputs": [
    {
     "data": {
      "text/plain": [
       "CustomerID     object\n",
       "EmailType      object\n",
       "MailOpened     object\n",
       "MailClicked    object\n",
       "yearofemail     int64\n",
       "dtype: object"
      ]
     },
     "execution_count": 28,
     "metadata": {},
     "output_type": "execute_result"
    }
   ],
   "source": [
    "email.dtypes"
   ]
  },
  {
   "cell_type": "markdown",
   "id": "173e44c0",
   "metadata": {},
   "source": [
    "**Extracting year form DateOfOrder**"
   ]
  },
  {
   "cell_type": "code",
   "execution_count": 29,
   "id": "1d426522",
   "metadata": {},
   "outputs": [],
   "source": [
    "trans['DateOfOrder'] = pd.to_datetime(trans['DateOfOrder'])\n",
    "trans['yearoforder'] = trans['DateOfOrder'].apply(lambda x:x.year)"
   ]
  },
  {
   "cell_type": "code",
   "execution_count": 30,
   "id": "7687983e",
   "metadata": {},
   "outputs": [
    {
     "data": {
      "text/html": [
       "<div>\n",
       "<style scoped>\n",
       "    .dataframe tbody tr th:only-of-type {\n",
       "        vertical-align: middle;\n",
       "    }\n",
       "\n",
       "    .dataframe tbody tr th {\n",
       "        vertical-align: top;\n",
       "    }\n",
       "\n",
       "    .dataframe thead th {\n",
       "        text-align: right;\n",
       "    }\n",
       "</style>\n",
       "<table border=\"1\" class=\"dataframe\">\n",
       "  <thead>\n",
       "    <tr style=\"text-align: right;\">\n",
       "      <th></th>\n",
       "      <th>CustomerID</th>\n",
       "      <th>DateOfOrder</th>\n",
       "      <th>timestamp</th>\n",
       "      <th>OrderQuantity</th>\n",
       "      <th>yearoforder</th>\n",
       "    </tr>\n",
       "  </thead>\n",
       "  <tbody>\n",
       "    <tr>\n",
       "      <th>0</th>\n",
       "      <td>C16368</td>\n",
       "      <td>2013-08-11</td>\n",
       "      <td>15:17:52</td>\n",
       "      <td>15</td>\n",
       "      <td>2013</td>\n",
       "    </tr>\n",
       "    <tr>\n",
       "      <th>1</th>\n",
       "      <td>C20345</td>\n",
       "      <td>2011-04-01</td>\n",
       "      <td>19:50:00</td>\n",
       "      <td>92</td>\n",
       "      <td>2011</td>\n",
       "    </tr>\n",
       "    <tr>\n",
       "      <th>2</th>\n",
       "      <td>C20345</td>\n",
       "      <td>2012-06-29</td>\n",
       "      <td>15:11:56</td>\n",
       "      <td>95</td>\n",
       "      <td>2012</td>\n",
       "    </tr>\n",
       "    <tr>\n",
       "      <th>3</th>\n",
       "      <td>C20345</td>\n",
       "      <td>2012-09-22</td>\n",
       "      <td>20:49:10</td>\n",
       "      <td>74</td>\n",
       "      <td>2012</td>\n",
       "    </tr>\n",
       "    <tr>\n",
       "      <th>4</th>\n",
       "      <td>C20345</td>\n",
       "      <td>2011-08-23</td>\n",
       "      <td>11:50:26</td>\n",
       "      <td>81</td>\n",
       "      <td>2011</td>\n",
       "    </tr>\n",
       "  </tbody>\n",
       "</table>\n",
       "</div>"
      ],
      "text/plain": [
       "  CustomerID DateOfOrder timestamp  OrderQuantity  yearoforder\n",
       "0     C16368  2013-08-11  15:17:52             15         2013\n",
       "1     C20345  2011-04-01  19:50:00             92         2011\n",
       "2     C20345  2012-06-29  15:11:56             95         2012\n",
       "3     C20345  2012-09-22  20:49:10             74         2012\n",
       "4     C20345  2011-08-23  11:50:26             81         2011"
      ]
     },
     "execution_count": 30,
     "metadata": {},
     "output_type": "execute_result"
    }
   ],
   "source": [
    "trans.head()"
   ]
  },
  {
   "cell_type": "code",
   "execution_count": 31,
   "id": "1f4e0d4e",
   "metadata": {},
   "outputs": [],
   "source": [
    "trans.drop(['DateOfOrder','timestamp'], axis=1, inplace=True)"
   ]
  },
  {
   "cell_type": "code",
   "execution_count": 32,
   "id": "4d44957b",
   "metadata": {},
   "outputs": [
    {
     "data": {
      "text/html": [
       "<div>\n",
       "<style scoped>\n",
       "    .dataframe tbody tr th:only-of-type {\n",
       "        vertical-align: middle;\n",
       "    }\n",
       "\n",
       "    .dataframe tbody tr th {\n",
       "        vertical-align: top;\n",
       "    }\n",
       "\n",
       "    .dataframe thead th {\n",
       "        text-align: right;\n",
       "    }\n",
       "</style>\n",
       "<table border=\"1\" class=\"dataframe\">\n",
       "  <thead>\n",
       "    <tr style=\"text-align: right;\">\n",
       "      <th></th>\n",
       "      <th>CustomerID</th>\n",
       "      <th>OrderQuantity</th>\n",
       "      <th>yearoforder</th>\n",
       "    </tr>\n",
       "  </thead>\n",
       "  <tbody>\n",
       "    <tr>\n",
       "      <th>0</th>\n",
       "      <td>C16368</td>\n",
       "      <td>15</td>\n",
       "      <td>2013</td>\n",
       "    </tr>\n",
       "    <tr>\n",
       "      <th>1</th>\n",
       "      <td>C20345</td>\n",
       "      <td>92</td>\n",
       "      <td>2011</td>\n",
       "    </tr>\n",
       "    <tr>\n",
       "      <th>2</th>\n",
       "      <td>C20345</td>\n",
       "      <td>95</td>\n",
       "      <td>2012</td>\n",
       "    </tr>\n",
       "    <tr>\n",
       "      <th>3</th>\n",
       "      <td>C20345</td>\n",
       "      <td>74</td>\n",
       "      <td>2012</td>\n",
       "    </tr>\n",
       "    <tr>\n",
       "      <th>4</th>\n",
       "      <td>C20345</td>\n",
       "      <td>81</td>\n",
       "      <td>2011</td>\n",
       "    </tr>\n",
       "    <tr>\n",
       "      <th>...</th>\n",
       "      <td>...</td>\n",
       "      <td>...</td>\n",
       "      <td>...</td>\n",
       "    </tr>\n",
       "    <tr>\n",
       "      <th>104750</th>\n",
       "      <td>C12197</td>\n",
       "      <td>56</td>\n",
       "      <td>2018</td>\n",
       "    </tr>\n",
       "    <tr>\n",
       "      <th>104751</th>\n",
       "      <td>C40967</td>\n",
       "      <td>35</td>\n",
       "      <td>2018</td>\n",
       "    </tr>\n",
       "    <tr>\n",
       "      <th>104752</th>\n",
       "      <td>C36140</td>\n",
       "      <td>47</td>\n",
       "      <td>2018</td>\n",
       "    </tr>\n",
       "    <tr>\n",
       "      <th>104753</th>\n",
       "      <td>C36140</td>\n",
       "      <td>53</td>\n",
       "      <td>2018</td>\n",
       "    </tr>\n",
       "    <tr>\n",
       "      <th>104754</th>\n",
       "      <td>C42003</td>\n",
       "      <td>41</td>\n",
       "      <td>2018</td>\n",
       "    </tr>\n",
       "  </tbody>\n",
       "</table>\n",
       "<p>104755 rows × 3 columns</p>\n",
       "</div>"
      ],
      "text/plain": [
       "       CustomerID  OrderQuantity  yearoforder\n",
       "0          C16368             15         2013\n",
       "1          C20345             92         2011\n",
       "2          C20345             95         2012\n",
       "3          C20345             74         2012\n",
       "4          C20345             81         2011\n",
       "...           ...            ...          ...\n",
       "104750     C12197             56         2018\n",
       "104751     C40967             35         2018\n",
       "104752     C36140             47         2018\n",
       "104753     C36140             53         2018\n",
       "104754     C42003             41         2018\n",
       "\n",
       "[104755 rows x 3 columns]"
      ]
     },
     "execution_count": 32,
     "metadata": {},
     "output_type": "execute_result"
    }
   ],
   "source": [
    "trans"
   ]
  },
  {
   "cell_type": "code",
   "execution_count": 33,
   "id": "44028cd6",
   "metadata": {},
   "outputs": [
    {
     "data": {
      "text/plain": [
       "CustomerID       object\n",
       "OrderQuantity     int64\n",
       "yearoforder       int64\n",
       "dtype: object"
      ]
     },
     "execution_count": 33,
     "metadata": {},
     "output_type": "execute_result"
    }
   ],
   "source": [
    "trans.dtypes"
   ]
  },
  {
   "cell_type": "markdown",
   "id": "97a978dc",
   "metadata": {},
   "source": [
    "**grouping customerID and year**"
   ]
  },
  {
   "cell_type": "code",
   "execution_count": 34,
   "id": "76edaf44",
   "metadata": {},
   "outputs": [],
   "source": [
    "email_df=email.groupby([\"CustomerID\"]).count()"
   ]
  },
  {
   "cell_type": "code",
   "execution_count": 35,
   "id": "dcda0192",
   "metadata": {},
   "outputs": [
    {
     "data": {
      "text/html": [
       "<div>\n",
       "<style scoped>\n",
       "    .dataframe tbody tr th:only-of-type {\n",
       "        vertical-align: middle;\n",
       "    }\n",
       "\n",
       "    .dataframe tbody tr th {\n",
       "        vertical-align: top;\n",
       "    }\n",
       "\n",
       "    .dataframe thead th {\n",
       "        text-align: right;\n",
       "    }\n",
       "</style>\n",
       "<table border=\"1\" class=\"dataframe\">\n",
       "  <thead>\n",
       "    <tr style=\"text-align: right;\">\n",
       "      <th></th>\n",
       "      <th>EmailType</th>\n",
       "      <th>MailOpened</th>\n",
       "      <th>MailClicked</th>\n",
       "      <th>yearofemail</th>\n",
       "    </tr>\n",
       "    <tr>\n",
       "      <th>CustomerID</th>\n",
       "      <th></th>\n",
       "      <th></th>\n",
       "      <th></th>\n",
       "      <th></th>\n",
       "    </tr>\n",
       "  </thead>\n",
       "  <tbody>\n",
       "    <tr>\n",
       "      <th>C12116</th>\n",
       "      <td>32</td>\n",
       "      <td>32</td>\n",
       "      <td>32</td>\n",
       "      <td>32</td>\n",
       "    </tr>\n",
       "    <tr>\n",
       "      <th>C12117</th>\n",
       "      <td>1</td>\n",
       "      <td>1</td>\n",
       "      <td>1</td>\n",
       "      <td>1</td>\n",
       "    </tr>\n",
       "    <tr>\n",
       "      <th>C12118</th>\n",
       "      <td>1</td>\n",
       "      <td>1</td>\n",
       "      <td>1</td>\n",
       "      <td>1</td>\n",
       "    </tr>\n",
       "    <tr>\n",
       "      <th>C12119</th>\n",
       "      <td>42</td>\n",
       "      <td>42</td>\n",
       "      <td>42</td>\n",
       "      <td>42</td>\n",
       "    </tr>\n",
       "    <tr>\n",
       "      <th>C12120</th>\n",
       "      <td>1</td>\n",
       "      <td>1</td>\n",
       "      <td>1</td>\n",
       "      <td>1</td>\n",
       "    </tr>\n",
       "    <tr>\n",
       "      <th>...</th>\n",
       "      <td>...</td>\n",
       "      <td>...</td>\n",
       "      <td>...</td>\n",
       "      <td>...</td>\n",
       "    </tr>\n",
       "    <tr>\n",
       "      <th>C42185</th>\n",
       "      <td>44</td>\n",
       "      <td>44</td>\n",
       "      <td>44</td>\n",
       "      <td>44</td>\n",
       "    </tr>\n",
       "    <tr>\n",
       "      <th>C42186</th>\n",
       "      <td>1</td>\n",
       "      <td>1</td>\n",
       "      <td>1</td>\n",
       "      <td>1</td>\n",
       "    </tr>\n",
       "    <tr>\n",
       "      <th>C42187</th>\n",
       "      <td>1</td>\n",
       "      <td>1</td>\n",
       "      <td>1</td>\n",
       "      <td>1</td>\n",
       "    </tr>\n",
       "    <tr>\n",
       "      <th>C42188</th>\n",
       "      <td>1</td>\n",
       "      <td>1</td>\n",
       "      <td>1</td>\n",
       "      <td>1</td>\n",
       "    </tr>\n",
       "    <tr>\n",
       "      <th>C42189</th>\n",
       "      <td>51</td>\n",
       "      <td>51</td>\n",
       "      <td>51</td>\n",
       "      <td>51</td>\n",
       "    </tr>\n",
       "  </tbody>\n",
       "</table>\n",
       "<p>23820 rows × 4 columns</p>\n",
       "</div>"
      ],
      "text/plain": [
       "            EmailType  MailOpened  MailClicked  yearofemail\n",
       "CustomerID                                                 \n",
       "C12116             32          32           32           32\n",
       "C12117              1           1            1            1\n",
       "C12118              1           1            1            1\n",
       "C12119             42          42           42           42\n",
       "C12120              1           1            1            1\n",
       "...               ...         ...          ...          ...\n",
       "C42185             44          44           44           44\n",
       "C42186              1           1            1            1\n",
       "C42187              1           1            1            1\n",
       "C42188              1           1            1            1\n",
       "C42189             51          51           51           51\n",
       "\n",
       "[23820 rows x 4 columns]"
      ]
     },
     "execution_count": 35,
     "metadata": {},
     "output_type": "execute_result"
    }
   ],
   "source": [
    "email_df"
   ]
  },
  {
   "cell_type": "code",
   "execution_count": 36,
   "id": "20e593a8",
   "metadata": {},
   "outputs": [
    {
     "data": {
      "text/plain": [
       "EmailType      84\n",
       "MailOpened     84\n",
       "MailClicked    84\n",
       "yearofemail    84\n",
       "dtype: int64"
      ]
     },
     "execution_count": 36,
     "metadata": {},
     "output_type": "execute_result"
    }
   ],
   "source": [
    "email_df.nunique()"
   ]
  },
  {
   "cell_type": "code",
   "execution_count": 37,
   "id": "a5a54340",
   "metadata": {},
   "outputs": [],
   "source": [
    "trans_df = trans.groupby([\"CustomerID\"]).sum()"
   ]
  },
  {
   "cell_type": "code",
   "execution_count": 38,
   "id": "896367fd",
   "metadata": {},
   "outputs": [
    {
     "data": {
      "text/html": [
       "<div>\n",
       "<style scoped>\n",
       "    .dataframe tbody tr th:only-of-type {\n",
       "        vertical-align: middle;\n",
       "    }\n",
       "\n",
       "    .dataframe tbody tr th {\n",
       "        vertical-align: top;\n",
       "    }\n",
       "\n",
       "    .dataframe thead th {\n",
       "        text-align: right;\n",
       "    }\n",
       "</style>\n",
       "<table border=\"1\" class=\"dataframe\">\n",
       "  <thead>\n",
       "    <tr style=\"text-align: right;\">\n",
       "      <th></th>\n",
       "      <th>OrderQuantity</th>\n",
       "      <th>yearoforder</th>\n",
       "    </tr>\n",
       "    <tr>\n",
       "      <th>CustomerID</th>\n",
       "      <th></th>\n",
       "      <th></th>\n",
       "    </tr>\n",
       "  </thead>\n",
       "  <tbody>\n",
       "    <tr>\n",
       "      <th>C12116</th>\n",
       "      <td>115</td>\n",
       "      <td>6039</td>\n",
       "    </tr>\n",
       "    <tr>\n",
       "      <th>C12117</th>\n",
       "      <td>41</td>\n",
       "      <td>2013</td>\n",
       "    </tr>\n",
       "    <tr>\n",
       "      <th>C12118</th>\n",
       "      <td>41</td>\n",
       "      <td>2013</td>\n",
       "    </tr>\n",
       "    <tr>\n",
       "      <th>C12119</th>\n",
       "      <td>52</td>\n",
       "      <td>2013</td>\n",
       "    </tr>\n",
       "    <tr>\n",
       "      <th>C12120</th>\n",
       "      <td>31</td>\n",
       "      <td>2014</td>\n",
       "    </tr>\n",
       "    <tr>\n",
       "      <th>...</th>\n",
       "      <td>...</td>\n",
       "      <td>...</td>\n",
       "    </tr>\n",
       "    <tr>\n",
       "      <th>C42185</th>\n",
       "      <td>1340</td>\n",
       "      <td>26144</td>\n",
       "    </tr>\n",
       "    <tr>\n",
       "      <th>C42186</th>\n",
       "      <td>46</td>\n",
       "      <td>2013</td>\n",
       "    </tr>\n",
       "    <tr>\n",
       "      <th>C42187</th>\n",
       "      <td>41</td>\n",
       "      <td>2013</td>\n",
       "    </tr>\n",
       "    <tr>\n",
       "      <th>C42188</th>\n",
       "      <td>51</td>\n",
       "      <td>2011</td>\n",
       "    </tr>\n",
       "    <tr>\n",
       "      <th>C42189</th>\n",
       "      <td>180</td>\n",
       "      <td>4026</td>\n",
       "    </tr>\n",
       "  </tbody>\n",
       "</table>\n",
       "<p>23820 rows × 2 columns</p>\n",
       "</div>"
      ],
      "text/plain": [
       "            OrderQuantity  yearoforder\n",
       "CustomerID                            \n",
       "C12116                115         6039\n",
       "C12117                 41         2013\n",
       "C12118                 41         2013\n",
       "C12119                 52         2013\n",
       "C12120                 31         2014\n",
       "...                   ...          ...\n",
       "C42185               1340        26144\n",
       "C42186                 46         2013\n",
       "C42187                 41         2013\n",
       "C42188                 51         2011\n",
       "C42189                180         4026\n",
       "\n",
       "[23820 rows x 2 columns]"
      ]
     },
     "execution_count": 38,
     "metadata": {},
     "output_type": "execute_result"
    }
   ],
   "source": [
    "trans_df"
   ]
  },
  {
   "cell_type": "code",
   "execution_count": 39,
   "id": "2bf23437",
   "metadata": {},
   "outputs": [
    {
     "data": {
      "text/plain": [
       "(23820, 7)"
      ]
     },
     "execution_count": 39,
     "metadata": {},
     "output_type": "execute_result"
    }
   ],
   "source": [
    "cust.shape"
   ]
  },
  {
   "cell_type": "code",
   "execution_count": 40,
   "id": "ed2ff607",
   "metadata": {},
   "outputs": [
    {
     "data": {
      "text/plain": [
       "Index(['CustomerID', 'City', 'OnlineCommunication', 'AutomaticRefill',\n",
       "       'DoorstepDelivery', 'PreferredDeliveryDay', 'yearofreg'],\n",
       "      dtype='object')"
      ]
     },
     "execution_count": 40,
     "metadata": {},
     "output_type": "execute_result"
    }
   ],
   "source": [
    "cust.columns"
   ]
  },
  {
   "cell_type": "code",
   "execution_count": 41,
   "id": "75917828",
   "metadata": {},
   "outputs": [
    {
     "data": {
      "text/plain": [
       "(23820, 2)"
      ]
     },
     "execution_count": 41,
     "metadata": {},
     "output_type": "execute_result"
    }
   ],
   "source": [
    "train.shape"
   ]
  },
  {
   "cell_type": "code",
   "execution_count": 42,
   "id": "aac01b18",
   "metadata": {},
   "outputs": [
    {
     "data": {
      "text/plain": [
       "Index(['CustomerID', 'RetentionPotential'], dtype='object')"
      ]
     },
     "execution_count": 42,
     "metadata": {},
     "output_type": "execute_result"
    }
   ],
   "source": [
    "train.columns"
   ]
  },
  {
   "cell_type": "code",
   "execution_count": 43,
   "id": "b48555b4",
   "metadata": {},
   "outputs": [
    {
     "data": {
      "text/plain": [
       "(23820, 4)"
      ]
     },
     "execution_count": 43,
     "metadata": {},
     "output_type": "execute_result"
    }
   ],
   "source": [
    "email_df.shape"
   ]
  },
  {
   "cell_type": "code",
   "execution_count": 44,
   "id": "67cf21c9",
   "metadata": {},
   "outputs": [
    {
     "data": {
      "text/plain": [
       "Index(['EmailType', 'MailOpened', 'MailClicked', 'yearofemail'], dtype='object')"
      ]
     },
     "execution_count": 44,
     "metadata": {},
     "output_type": "execute_result"
    }
   ],
   "source": [
    "email_df.columns"
   ]
  },
  {
   "cell_type": "code",
   "execution_count": 45,
   "id": "72e2621f",
   "metadata": {},
   "outputs": [
    {
     "data": {
      "text/plain": [
       "(23820, 2)"
      ]
     },
     "execution_count": 45,
     "metadata": {},
     "output_type": "execute_result"
    }
   ],
   "source": [
    "trans_df.shape"
   ]
  },
  {
   "cell_type": "code",
   "execution_count": 46,
   "id": "64f8d871",
   "metadata": {},
   "outputs": [
    {
     "data": {
      "text/plain": [
       "Index(['OrderQuantity', 'yearoforder'], dtype='object')"
      ]
     },
     "execution_count": 46,
     "metadata": {},
     "output_type": "execute_result"
    }
   ],
   "source": [
    "trans_df.columns"
   ]
  },
  {
   "cell_type": "markdown",
   "id": "55b0a5c5",
   "metadata": {},
   "source": [
    "**------------------------------------------------------------------------------------------------------------------------------**"
   ]
  },
  {
   "cell_type": "markdown",
   "id": "8e8fc5bc",
   "metadata": {},
   "source": [
    "# **Visualisation**"
   ]
  },
  {
   "cell_type": "markdown",
   "id": "d89f0792",
   "metadata": {},
   "source": [
    "Customer data"
   ]
  },
  {
   "cell_type": "code",
   "execution_count": 47,
   "id": "2106163d",
   "metadata": {},
   "outputs": [
    {
     "data": {
      "text/plain": [
       "Text(0.5, 1.0, 'City vs count')"
      ]
     },
     "execution_count": 47,
     "metadata": {},
     "output_type": "execute_result"
    },
    {
     "data": {
      "image/png": "[encoded data removed]",
      "text/plain": [
       "<Figure size 432x288 with 1 Axes>"
      ]
     },
     "metadata": {
      "needs_background": "light"
     },
     "output_type": "display_data"
    }
   ],
   "source": [
    "sns.countplot(x=\"City\", data=cust, order=cust[\"City\"].value_counts().index)   \n",
    "#plotting countplot for City\n",
    "plt.title('City vs count')"
   ]
  },
  {
   "cell_type": "markdown",
   "id": "703ab5cd",
   "metadata": {},
   "source": [
    "**From the above graph, we can see that there are more number of customers in City 4**"
   ]
  },
  {
   "cell_type": "code",
   "execution_count": 48,
   "id": "6825b92e",
   "metadata": {},
   "outputs": [
    {
     "data": {
      "text/plain": [
       "Text(0.5, 1.0, 'PreferredDeliveryDay vs count')"
      ]
     },
     "execution_count": 48,
     "metadata": {},
     "output_type": "execute_result"
    },
    {
     "data": {
      "image/png": "[encoded data removed]",
      "text/plain": [
       "<Figure size 432x288 with 1 Axes>"
      ]
     },
     "metadata": {
      "needs_background": "light"
     },
     "output_type": "display_data"
    }
   ],
   "source": [
    "sns.countplot(cust['PreferredDeliveryDay'],order=cust[\"PreferredDeliveryDay\"].value_counts().index)     \n",
    "#plotting countplot for PreferredDeliveryDay  \n",
    "plt.title('PreferredDeliveryDay vs count')"
   ]
  },
  {
   "cell_type": "markdown",
   "id": "0c5b6005",
   "metadata": {},
   "source": [
    "**From the above graph, we can see that the preferred day of delivery is Monday and Tuesday**"
   ]
  },
  {
   "cell_type": "code",
   "execution_count": 49,
   "id": "c9b4c327",
   "metadata": {},
   "outputs": [
    {
     "data": {
      "text/plain": [
       "Text(0.5, 1.0, 'City vs PreferredDelivery')"
      ]
     },
     "execution_count": 49,
     "metadata": {},
     "output_type": "execute_result"
    },
    {
     "data": {
      "image/png": "[encoded data removed]",
      "text/plain": [
       "<Figure size 432x288 with 1 Axes>"
      ]
     },
     "metadata": {
      "needs_background": "light"
     },
     "output_type": "display_data"
    }
   ],
   "source": [
    "sns.countplot(data=cust, y=\"City\", hue=\"PreferredDeliveryDay\", order=cust[\"City\"].value_counts().index)\n",
    "#plotting countplot for City vs PreferredDeliveryDay\n",
    "plt.title('City vs PreferredDelivery')"
   ]
  },
  {
   "cell_type": "markdown",
   "id": "efbf6872",
   "metadata": {},
   "source": [
    "**From the above graph, we can understand the most of the customers PreferredDeliveryDay is Monday in City4 and City2 and Tuesdday in City3 and thursday in City1**"
   ]
  },
  {
   "cell_type": "code",
   "execution_count": 50,
   "id": "3bf1d36e",
   "metadata": {},
   "outputs": [
    {
     "data": {
      "text/plain": [
       "Text(0.5, 1.0, 'OnlineCommunication vs count')"
      ]
     },
     "execution_count": 50,
     "metadata": {},
     "output_type": "execute_result"
    },
    {
     "data": {
      "image/png": "[encoded data removed]",
      "text/plain": [
       "<Figure size 432x288 with 1 Axes>"
      ]
     },
     "metadata": {
      "needs_background": "light"
     },
     "output_type": "display_data"
    }
   ],
   "source": [
    "sns.countplot(cust['OnlineCommunication'])\n",
    "#plotting countplot for OnlinCommunication\n",
    "plt.title('OnlineCommunication vs count')"
   ]
  },
  {
   "cell_type": "markdown",
   "id": "db1fea51",
   "metadata": {},
   "source": [
    "**From the graph, we can see that customers prefor online communication mode the most**"
   ]
  },
  {
   "cell_type": "code",
   "execution_count": 51,
   "id": "c3b520f1",
   "metadata": {},
   "outputs": [
    {
     "data": {
      "text/plain": [
       "Text(0.5, 1.0, 'City vs Online Communication')"
      ]
     },
     "execution_count": 51,
     "metadata": {},
     "output_type": "execute_result"
    },
    {
     "data": {
      "image/png": "[encoded data removed]",
      "text/plain": [
       "<Figure size 432x288 with 1 Axes>"
      ]
     },
     "metadata": {
      "needs_background": "light"
     },
     "output_type": "display_data"
    }
   ],
   "source": [
    "sns.countplot(data=cust, x=\"City\", hue=\"OnlineCommunication\", order=cust[\"City\"].value_counts().index)\n",
    "#plotting countplot for City vs OnlineCommunication\n",
    "plt.title('City vs Online Communication')"
   ]
  },
  {
   "cell_type": "markdown",
   "id": "0f8499d7",
   "metadata": {},
   "source": [
    "**From the above graph, we can understand the most of the customers in City4, City3 and City1 opted OnlineCOmmunication and CIty2 didn't opt for OnlineCommunication**"
   ]
  },
  {
   "cell_type": "code",
   "execution_count": 52,
   "id": "452ce835",
   "metadata": {},
   "outputs": [
    {
     "data": {
      "text/plain": [
       "Text(0.5, 1.0, 'AutomaticRefill')"
      ]
     },
     "execution_count": 52,
     "metadata": {},
     "output_type": "execute_result"
    },
    {
     "data": {
      "image/png": "[encoded data removed]",
      "text/plain": [
       "<Figure size 432x288 with 1 Axes>"
      ]
     },
     "metadata": {
      "needs_background": "light"
     },
     "output_type": "display_data"
    }
   ],
   "source": [
    "sns.countplot(cust['AutomaticRefill'])\n",
    "#plotting countplot for AutomaticRefill\n",
    "plt.title('AutomaticRefill')"
   ]
  },
  {
   "cell_type": "markdown",
   "id": "e828de06",
   "metadata": {},
   "source": [
    "**From the above graph, we can say the customers don't prefer AutomaticRefill**"
   ]
  },
  {
   "cell_type": "code",
   "execution_count": 53,
   "id": "6597bcb9",
   "metadata": {},
   "outputs": [
    {
     "data": {
      "text/plain": [
       "Text(0.5, 1.0, 'City vs AutomaticRefill')"
      ]
     },
     "execution_count": 53,
     "metadata": {},
     "output_type": "execute_result"
    },
    {
     "data": {
      "image/png": "[encoded data removed]",
      "text/plain": [
       "<Figure size 432x288 with 1 Axes>"
      ]
     },
     "metadata": {
      "needs_background": "light"
     },
     "output_type": "display_data"
    }
   ],
   "source": [
    "sns.countplot(data=cust, x=\"City\", hue=\"AutomaticRefill\",order=cust[\"City\"].value_counts().index)\n",
    "#plotting countplot for City vs AutomaticRefill\n",
    "plt.title('City vs AutomaticRefill')"
   ]
  },
  {
   "cell_type": "markdown",
   "id": "1ca1997e",
   "metadata": {},
   "source": [
    "**From the above graph, we can understand the most of the customers didn't opt AutomaticRefill in any of the City**"
   ]
  },
  {
   "cell_type": "code",
   "execution_count": 54,
   "id": "396cc1f3",
   "metadata": {},
   "outputs": [
    {
     "data": {
      "text/plain": [
       "Text(0.5, 1.0, 'DoorstepDelivery')"
      ]
     },
     "execution_count": 54,
     "metadata": {},
     "output_type": "execute_result"
    },
    {
     "data": {
      "image/png": "[encoded data removed]",
      "text/plain": [
       "<Figure size 432x288 with 1 Axes>"
      ]
     },
     "metadata": {
      "needs_background": "light"
     },
     "output_type": "display_data"
    }
   ],
   "source": [
    "sns.countplot(cust['DoorstepDelivery'])\n",
    "#plotting countplot for DoorstepDelivery\n",
    "plt.title('DoorstepDelivery')"
   ]
  },
  {
   "cell_type": "markdown",
   "id": "90957d79",
   "metadata": {},
   "source": [
    "**here form the above graph, we can observe that most of the customer sprefer doorstep delivery**"
   ]
  },
  {
   "cell_type": "code",
   "execution_count": 55,
   "id": "f47b5a05",
   "metadata": {},
   "outputs": [
    {
     "data": {
      "text/plain": [
       "Text(0.5, 1.0, 'OnlineCommunication vs DoorstepDelivery')"
      ]
     },
     "execution_count": 55,
     "metadata": {},
     "output_type": "execute_result"
    },
    {
     "data": {
      "image/png": "[encoded data removed]",
      "text/plain": [
       "<Figure size 432x288 with 1 Axes>"
      ]
     },
     "metadata": {
      "needs_background": "light"
     },
     "output_type": "display_data"
    }
   ],
   "source": [
    "sns.countplot(data=cust, x=\"OnlineCommunication\", hue=\"DoorstepDelivery\")\n",
    "#plotting countplot for OnlineCommunication vs DoorstepDelivery\n",
    "plt.title('OnlineCommunication vs DoorstepDelivery')"
   ]
  },
  {
   "cell_type": "markdown",
   "id": "16f4abaa",
   "metadata": {},
   "source": [
    "**From the above plot we can understand the most of the customers didn't opt AutomaticRefill in any of the City**"
   ]
  },
  {
   "cell_type": "markdown",
   "id": "dceeaa1c",
   "metadata": {},
   "source": [
    "Email_data"
   ]
  },
  {
   "cell_type": "code",
   "execution_count": 56,
   "id": "edc64e92",
   "metadata": {},
   "outputs": [
    {
     "data": {
      "text/plain": [
       "Text(0.5, 1.0, \"['EmailType']\")"
      ]
     },
     "execution_count": 56,
     "metadata": {},
     "output_type": "execute_result"
    },
    {
     "data": {
      "image/png": "[encoded data removed]",
      "text/plain": [
       "<Figure size 432x288 with 1 Axes>"
      ]
     },
     "metadata": {
      "needs_background": "light"
     },
     "output_type": "display_data"
    }
   ],
   "source": [
    "sns.countplot(email['EmailType'])\n",
    "#plotting countplot for EmailType\n",
    "plt.title(['EmailType'])"
   ]
  },
  {
   "cell_type": "markdown",
   "id": "b92ab40f",
   "metadata": {},
   "source": [
    "**From the above graph, we can say that most recieved email type is customized email**"
   ]
  },
  {
   "cell_type": "code",
   "execution_count": 57,
   "id": "dc7a6249",
   "metadata": {},
   "outputs": [
    {
     "data": {
      "text/plain": [
       "Text(0.5, 1.0, \"['MailOpened']\")"
      ]
     },
     "execution_count": 57,
     "metadata": {},
     "output_type": "execute_result"
    },
    {
     "data": {
      "image/png": "[encoded data removed]",
      "text/plain": [
       "<Figure size 432x288 with 1 Axes>"
      ]
     },
     "metadata": {
      "needs_background": "light"
     },
     "output_type": "display_data"
    }
   ],
   "source": [
    "sns.countplot(email['MailOpened'])\n",
    "#plotting countplot for MailOpened\n",
    "plt.title(['MailOpened'])"
   ]
  },
  {
   "cell_type": "markdown",
   "id": "0d908fb9",
   "metadata": {},
   "source": [
    "**From the above graph, we can say that most customers haven't opened mail recieved**"
   ]
  },
  {
   "cell_type": "code",
   "execution_count": 58,
   "id": "578b166e",
   "metadata": {},
   "outputs": [
    {
     "data": {
      "text/plain": [
       "Text(0.5, 1.0, 'MailClicked')"
      ]
     },
     "execution_count": 58,
     "metadata": {},
     "output_type": "execute_result"
    },
    {
     "data": {
      "image/png": "[encoded data removed]",
      "text/plain": [
       "<Figure size 432x288 with 1 Axes>"
      ]
     },
     "metadata": {
      "needs_background": "light"
     },
     "output_type": "display_data"
    }
   ],
   "source": [
    "sns.countplot(email['MailClicked'])\n",
    "#plotting countplot for MailClicked \n",
    "plt.title('MailClicked')"
   ]
  },
  {
   "cell_type": "markdown",
   "id": "730a8e9d",
   "metadata": {},
   "source": [
    "**From the above graph, we can say that most customers didn't clicked mail links**"
   ]
  },
  {
   "cell_type": "code",
   "execution_count": 59,
   "id": "32cb4327",
   "metadata": {},
   "outputs": [
    {
     "data": {
      "text/plain": [
       "([<matplotlib.patches.Wedge at 0x15b177d48b0>,\n",
       "  <matplotlib.patches.Wedge at 0x15b1b6281c0>,\n",
       "  <matplotlib.patches.Wedge at 0x15b1b6288e0>],\n",
       " [Text(-1.0463810118426773, 0.33924442229032264, 'no'),\n",
       "  Text(0.9865978618365224, -0.4864408073132871, 'yes'),\n",
       "  Text(1.0885269013145162, -0.15845878049075626, 'NotApplicable')],\n",
       " [Text(-0.5707532791869149, 0.1850424121583578, '90%'),\n",
       "  Text(0.5381442882744667, -0.2653313494436111, '5%'),\n",
       "  Text(0.5937419461715543, -0.08643206208586705, '5%')])"
      ]
     },
     "execution_count": 59,
     "metadata": {},
     "output_type": "execute_result"
    },
    {
     "data": {
      "image/png": "[encoded data removed]",
      "text/plain": [
       "<Figure size 864x360 with 1 Axes>"
      ]
     },
     "metadata": {},
     "output_type": "display_data"
    }
   ],
   "source": [
    "dims = (12, 5)\n",
    "fig, ax = plt.subplots(figsize=dims)\n",
    "colors = sns.color_palette('bright')[0:5]\n",
    "#plotting piechart for MailClicked\n",
    "e = email['MailClicked'].value_counts()\n",
    "plt.pie(e,labels = e.index, autopct='%.0f%%', colors=colors)"
   ]
  },
  {
   "cell_type": "markdown",
   "id": "a5af5805",
   "metadata": {},
   "source": [
    "Transaction data\n"
   ]
  },
  {
   "cell_type": "code",
   "execution_count": 60,
   "id": "1351e9d1",
   "metadata": {},
   "outputs": [
    {
     "data": {
      "text/plain": [
       "Text(0.5, 1.0, 'OrderQuantity')"
      ]
     },
     "execution_count": 60,
     "metadata": {},
     "output_type": "execute_result"
    },
    {
     "data": {
      "image/png": "[encoded data removed]",
      "text/plain": [
       "<Figure size 1152x648 with 1 Axes>"
      ]
     },
     "metadata": {
      "needs_background": "light"
     },
     "output_type": "display_data"
    }
   ],
   "source": [
    "dims = (16, 9)\n",
    "fig, ax = plt.subplots(figsize=dims)\n",
    "#plotting Distplot for OrderQuantity\n",
    "sns.distplot(trans[\"OrderQuantity\"],kde=True,hist=False)\n",
    "plt.title('OrderQuantity')"
   ]
  },
  {
   "cell_type": "markdown",
   "id": "595c10c1",
   "metadata": {},
   "source": [
    "**From the above graph, we can get to a conclusion that the orderQuantity is in range 0 to 1500 and most of the ordereQunatity is highed in teh range of 0 to 250**"
   ]
  },
  {
   "cell_type": "markdown",
   "id": "15069f32",
   "metadata": {},
   "source": [
    "**------------------------------------------------------------------------------------------------------------------------------**"
   ]
  },
  {
   "cell_type": "markdown",
   "id": "b912c7de",
   "metadata": {},
   "source": [
    "# **merging data**"
   ]
  },
  {
   "cell_type": "code",
   "execution_count": 61,
   "id": "da16fc9b",
   "metadata": {},
   "outputs": [],
   "source": [
    "#merging data of cust and train to merge1\n",
    "merge1=pd.merge(cust,train,on='CustomerID',how=\"inner\") "
   ]
  },
  {
   "cell_type": "code",
   "execution_count": 62,
   "id": "19699347",
   "metadata": {},
   "outputs": [
    {
     "data": {
      "text/html": [
       "<div>\n",
       "<style scoped>\n",
       "    .dataframe tbody tr th:only-of-type {\n",
       "        vertical-align: middle;\n",
       "    }\n",
       "\n",
       "    .dataframe tbody tr th {\n",
       "        vertical-align: top;\n",
       "    }\n",
       "\n",
       "    .dataframe thead th {\n",
       "        text-align: right;\n",
       "    }\n",
       "</style>\n",
       "<table border=\"1\" class=\"dataframe\">\n",
       "  <thead>\n",
       "    <tr style=\"text-align: right;\">\n",
       "      <th></th>\n",
       "      <th>CustomerID</th>\n",
       "      <th>City</th>\n",
       "      <th>OnlineCommunication</th>\n",
       "      <th>AutomaticRefill</th>\n",
       "      <th>DoorstepDelivery</th>\n",
       "      <th>PreferredDeliveryDay</th>\n",
       "      <th>yearofreg</th>\n",
       "      <th>RetentionPotential</th>\n",
       "    </tr>\n",
       "  </thead>\n",
       "  <tbody>\n",
       "    <tr>\n",
       "      <th>0</th>\n",
       "      <td>C16368</td>\n",
       "      <td>CITY2</td>\n",
       "      <td>0</td>\n",
       "      <td>0</td>\n",
       "      <td>0</td>\n",
       "      <td>Monday</td>\n",
       "      <td>2012</td>\n",
       "      <td>High</td>\n",
       "    </tr>\n",
       "    <tr>\n",
       "      <th>1</th>\n",
       "      <td>C20345</td>\n",
       "      <td>CITY2</td>\n",
       "      <td>1</td>\n",
       "      <td>1</td>\n",
       "      <td>1</td>\n",
       "      <td>Friday</td>\n",
       "      <td>2010</td>\n",
       "      <td>Low</td>\n",
       "    </tr>\n",
       "    <tr>\n",
       "      <th>2</th>\n",
       "      <td>C17683</td>\n",
       "      <td>CITY2</td>\n",
       "      <td>0</td>\n",
       "      <td>0</td>\n",
       "      <td>0</td>\n",
       "      <td>Wednesday</td>\n",
       "      <td>2010</td>\n",
       "      <td>Medium</td>\n",
       "    </tr>\n",
       "    <tr>\n",
       "      <th>3</th>\n",
       "      <td>C18647</td>\n",
       "      <td>CITY4</td>\n",
       "      <td>0</td>\n",
       "      <td>0</td>\n",
       "      <td>0</td>\n",
       "      <td>Monday</td>\n",
       "      <td>2010</td>\n",
       "      <td>Low</td>\n",
       "    </tr>\n",
       "    <tr>\n",
       "      <th>4</th>\n",
       "      <td>C36692</td>\n",
       "      <td>CITY2</td>\n",
       "      <td>1</td>\n",
       "      <td>1</td>\n",
       "      <td>0</td>\n",
       "      <td>Friday</td>\n",
       "      <td>2009</td>\n",
       "      <td>Low</td>\n",
       "    </tr>\n",
       "    <tr>\n",
       "      <th>...</th>\n",
       "      <td>...</td>\n",
       "      <td>...</td>\n",
       "      <td>...</td>\n",
       "      <td>...</td>\n",
       "      <td>...</td>\n",
       "      <td>...</td>\n",
       "      <td>...</td>\n",
       "      <td>...</td>\n",
       "    </tr>\n",
       "    <tr>\n",
       "      <th>23815</th>\n",
       "      <td>C23511</td>\n",
       "      <td>CITY2</td>\n",
       "      <td>1</td>\n",
       "      <td>1</td>\n",
       "      <td>0</td>\n",
       "      <td>Friday</td>\n",
       "      <td>2018</td>\n",
       "      <td>Low</td>\n",
       "    </tr>\n",
       "    <tr>\n",
       "      <th>23816</th>\n",
       "      <td>C12197</td>\n",
       "      <td>CITY3</td>\n",
       "      <td>1</td>\n",
       "      <td>0</td>\n",
       "      <td>1</td>\n",
       "      <td>Friday</td>\n",
       "      <td>2018</td>\n",
       "      <td>Low</td>\n",
       "    </tr>\n",
       "    <tr>\n",
       "      <th>23817</th>\n",
       "      <td>C40967</td>\n",
       "      <td>CITY3</td>\n",
       "      <td>1</td>\n",
       "      <td>0</td>\n",
       "      <td>0</td>\n",
       "      <td>Saturday</td>\n",
       "      <td>2018</td>\n",
       "      <td>Low</td>\n",
       "    </tr>\n",
       "    <tr>\n",
       "      <th>23818</th>\n",
       "      <td>C36140</td>\n",
       "      <td>CITY3</td>\n",
       "      <td>1</td>\n",
       "      <td>1</td>\n",
       "      <td>0</td>\n",
       "      <td>Saturday</td>\n",
       "      <td>2018</td>\n",
       "      <td>Low</td>\n",
       "    </tr>\n",
       "    <tr>\n",
       "      <th>23819</th>\n",
       "      <td>C42003</td>\n",
       "      <td>CITY4</td>\n",
       "      <td>1</td>\n",
       "      <td>0</td>\n",
       "      <td>0</td>\n",
       "      <td>Friday</td>\n",
       "      <td>2018</td>\n",
       "      <td>Low</td>\n",
       "    </tr>\n",
       "  </tbody>\n",
       "</table>\n",
       "<p>23820 rows × 8 columns</p>\n",
       "</div>"
      ],
      "text/plain": [
       "      CustomerID   City  OnlineCommunication  AutomaticRefill  \\\n",
       "0         C16368  CITY2                    0                0   \n",
       "1         C20345  CITY2                    1                1   \n",
       "2         C17683  CITY2                    0                0   \n",
       "3         C18647  CITY4                    0                0   \n",
       "4         C36692  CITY2                    1                1   \n",
       "...          ...    ...                  ...              ...   \n",
       "23815     C23511  CITY2                    1                1   \n",
       "23816     C12197  CITY3                    1                0   \n",
       "23817     C40967  CITY3                    1                0   \n",
       "23818     C36140  CITY3                    1                1   \n",
       "23819     C42003  CITY4                    1                0   \n",
       "\n",
       "       DoorstepDelivery PreferredDeliveryDay  yearofreg RetentionPotential  \n",
       "0                     0               Monday       2012               High  \n",
       "1                     1               Friday       2010                Low  \n",
       "2                     0            Wednesday       2010             Medium  \n",
       "3                     0               Monday       2010                Low  \n",
       "4                     0               Friday       2009                Low  \n",
       "...                 ...                  ...        ...                ...  \n",
       "23815                 0               Friday       2018                Low  \n",
       "23816                 1               Friday       2018                Low  \n",
       "23817                 0             Saturday       2018                Low  \n",
       "23818                 0             Saturday       2018                Low  \n",
       "23819                 0               Friday       2018                Low  \n",
       "\n",
       "[23820 rows x 8 columns]"
      ]
     },
     "execution_count": 62,
     "metadata": {},
     "output_type": "execute_result"
    }
   ],
   "source": [
    "merge1"
   ]
  },
  {
   "cell_type": "code",
   "execution_count": 63,
   "id": "e68c14ac",
   "metadata": {},
   "outputs": [
    {
     "data": {
      "text/plain": [
       "Index(['EmailType', 'MailOpened', 'MailClicked', 'yearofemail'], dtype='object')"
      ]
     },
     "execution_count": 63,
     "metadata": {},
     "output_type": "execute_result"
    }
   ],
   "source": [
    "email_df.columns"
   ]
  },
  {
   "cell_type": "code",
   "execution_count": 64,
   "id": "ab9d297b",
   "metadata": {},
   "outputs": [],
   "source": [
    "#merging data  of merge1 and email_df to merge2\n",
    "merge2 = pd.merge(merge1,email_df,on=['CustomerID'],how='inner')"
   ]
  },
  {
   "cell_type": "code",
   "execution_count": 65,
   "id": "2d046aa2",
   "metadata": {},
   "outputs": [
    {
     "data": {
      "text/html": [
       "<div>\n",
       "<style scoped>\n",
       "    .dataframe tbody tr th:only-of-type {\n",
       "        vertical-align: middle;\n",
       "    }\n",
       "\n",
       "    .dataframe tbody tr th {\n",
       "        vertical-align: top;\n",
       "    }\n",
       "\n",
       "    .dataframe thead th {\n",
       "        text-align: right;\n",
       "    }\n",
       "</style>\n",
       "<table border=\"1\" class=\"dataframe\">\n",
       "  <thead>\n",
       "    <tr style=\"text-align: right;\">\n",
       "      <th></th>\n",
       "      <th>CustomerID</th>\n",
       "      <th>City</th>\n",
       "      <th>OnlineCommunication</th>\n",
       "      <th>AutomaticRefill</th>\n",
       "      <th>DoorstepDelivery</th>\n",
       "      <th>PreferredDeliveryDay</th>\n",
       "      <th>yearofreg</th>\n",
       "      <th>RetentionPotential</th>\n",
       "      <th>EmailType</th>\n",
       "      <th>MailOpened</th>\n",
       "      <th>MailClicked</th>\n",
       "      <th>yearofemail</th>\n",
       "    </tr>\n",
       "  </thead>\n",
       "  <tbody>\n",
       "    <tr>\n",
       "      <th>0</th>\n",
       "      <td>C16368</td>\n",
       "      <td>CITY2</td>\n",
       "      <td>0</td>\n",
       "      <td>0</td>\n",
       "      <td>0</td>\n",
       "      <td>Monday</td>\n",
       "      <td>2012</td>\n",
       "      <td>High</td>\n",
       "      <td>30</td>\n",
       "      <td>30</td>\n",
       "      <td>30</td>\n",
       "      <td>30</td>\n",
       "    </tr>\n",
       "    <tr>\n",
       "      <th>1</th>\n",
       "      <td>C20345</td>\n",
       "      <td>CITY2</td>\n",
       "      <td>1</td>\n",
       "      <td>1</td>\n",
       "      <td>1</td>\n",
       "      <td>Friday</td>\n",
       "      <td>2010</td>\n",
       "      <td>Low</td>\n",
       "      <td>96</td>\n",
       "      <td>96</td>\n",
       "      <td>96</td>\n",
       "      <td>96</td>\n",
       "    </tr>\n",
       "    <tr>\n",
       "      <th>2</th>\n",
       "      <td>C17683</td>\n",
       "      <td>CITY2</td>\n",
       "      <td>0</td>\n",
       "      <td>0</td>\n",
       "      <td>0</td>\n",
       "      <td>Wednesday</td>\n",
       "      <td>2010</td>\n",
       "      <td>Medium</td>\n",
       "      <td>1</td>\n",
       "      <td>1</td>\n",
       "      <td>1</td>\n",
       "      <td>1</td>\n",
       "    </tr>\n",
       "    <tr>\n",
       "      <th>3</th>\n",
       "      <td>C18647</td>\n",
       "      <td>CITY4</td>\n",
       "      <td>0</td>\n",
       "      <td>0</td>\n",
       "      <td>0</td>\n",
       "      <td>Monday</td>\n",
       "      <td>2010</td>\n",
       "      <td>Low</td>\n",
       "      <td>31</td>\n",
       "      <td>31</td>\n",
       "      <td>31</td>\n",
       "      <td>31</td>\n",
       "    </tr>\n",
       "    <tr>\n",
       "      <th>4</th>\n",
       "      <td>C36692</td>\n",
       "      <td>CITY2</td>\n",
       "      <td>1</td>\n",
       "      <td>1</td>\n",
       "      <td>0</td>\n",
       "      <td>Friday</td>\n",
       "      <td>2009</td>\n",
       "      <td>Low</td>\n",
       "      <td>65</td>\n",
       "      <td>65</td>\n",
       "      <td>65</td>\n",
       "      <td>65</td>\n",
       "    </tr>\n",
       "    <tr>\n",
       "      <th>...</th>\n",
       "      <td>...</td>\n",
       "      <td>...</td>\n",
       "      <td>...</td>\n",
       "      <td>...</td>\n",
       "      <td>...</td>\n",
       "      <td>...</td>\n",
       "      <td>...</td>\n",
       "      <td>...</td>\n",
       "      <td>...</td>\n",
       "      <td>...</td>\n",
       "      <td>...</td>\n",
       "      <td>...</td>\n",
       "    </tr>\n",
       "    <tr>\n",
       "      <th>23815</th>\n",
       "      <td>C23511</td>\n",
       "      <td>CITY2</td>\n",
       "      <td>1</td>\n",
       "      <td>1</td>\n",
       "      <td>0</td>\n",
       "      <td>Friday</td>\n",
       "      <td>2018</td>\n",
       "      <td>Low</td>\n",
       "      <td>1</td>\n",
       "      <td>1</td>\n",
       "      <td>1</td>\n",
       "      <td>1</td>\n",
       "    </tr>\n",
       "    <tr>\n",
       "      <th>23816</th>\n",
       "      <td>C12197</td>\n",
       "      <td>CITY3</td>\n",
       "      <td>1</td>\n",
       "      <td>0</td>\n",
       "      <td>1</td>\n",
       "      <td>Friday</td>\n",
       "      <td>2018</td>\n",
       "      <td>Low</td>\n",
       "      <td>1</td>\n",
       "      <td>1</td>\n",
       "      <td>1</td>\n",
       "      <td>1</td>\n",
       "    </tr>\n",
       "    <tr>\n",
       "      <th>23817</th>\n",
       "      <td>C40967</td>\n",
       "      <td>CITY3</td>\n",
       "      <td>1</td>\n",
       "      <td>0</td>\n",
       "      <td>0</td>\n",
       "      <td>Saturday</td>\n",
       "      <td>2018</td>\n",
       "      <td>Low</td>\n",
       "      <td>1</td>\n",
       "      <td>1</td>\n",
       "      <td>1</td>\n",
       "      <td>1</td>\n",
       "    </tr>\n",
       "    <tr>\n",
       "      <th>23818</th>\n",
       "      <td>C36140</td>\n",
       "      <td>CITY3</td>\n",
       "      <td>1</td>\n",
       "      <td>1</td>\n",
       "      <td>0</td>\n",
       "      <td>Saturday</td>\n",
       "      <td>2018</td>\n",
       "      <td>Low</td>\n",
       "      <td>9</td>\n",
       "      <td>9</td>\n",
       "      <td>9</td>\n",
       "      <td>9</td>\n",
       "    </tr>\n",
       "    <tr>\n",
       "      <th>23819</th>\n",
       "      <td>C42003</td>\n",
       "      <td>CITY4</td>\n",
       "      <td>1</td>\n",
       "      <td>0</td>\n",
       "      <td>0</td>\n",
       "      <td>Friday</td>\n",
       "      <td>2018</td>\n",
       "      <td>Low</td>\n",
       "      <td>1</td>\n",
       "      <td>1</td>\n",
       "      <td>1</td>\n",
       "      <td>1</td>\n",
       "    </tr>\n",
       "  </tbody>\n",
       "</table>\n",
       "<p>23820 rows × 12 columns</p>\n",
       "</div>"
      ],
      "text/plain": [
       "      CustomerID   City  OnlineCommunication  AutomaticRefill  \\\n",
       "0         C16368  CITY2                    0                0   \n",
       "1         C20345  CITY2                    1                1   \n",
       "2         C17683  CITY2                    0                0   \n",
       "3         C18647  CITY4                    0                0   \n",
       "4         C36692  CITY2                    1                1   \n",
       "...          ...    ...                  ...              ...   \n",
       "23815     C23511  CITY2                    1                1   \n",
       "23816     C12197  CITY3                    1                0   \n",
       "23817     C40967  CITY3                    1                0   \n",
       "23818     C36140  CITY3                    1                1   \n",
       "23819     C42003  CITY4                    1                0   \n",
       "\n",
       "       DoorstepDelivery PreferredDeliveryDay  yearofreg RetentionPotential  \\\n",
       "0                     0               Monday       2012               High   \n",
       "1                     1               Friday       2010                Low   \n",
       "2                     0            Wednesday       2010             Medium   \n",
       "3                     0               Monday       2010                Low   \n",
       "4                     0               Friday       2009                Low   \n",
       "...                 ...                  ...        ...                ...   \n",
       "23815                 0               Friday       2018                Low   \n",
       "23816                 1               Friday       2018                Low   \n",
       "23817                 0             Saturday       2018                Low   \n",
       "23818                 0             Saturday       2018                Low   \n",
       "23819                 0               Friday       2018                Low   \n",
       "\n",
       "       EmailType  MailOpened  MailClicked  yearofemail  \n",
       "0             30          30           30           30  \n",
       "1             96          96           96           96  \n",
       "2              1           1            1            1  \n",
       "3             31          31           31           31  \n",
       "4             65          65           65           65  \n",
       "...          ...         ...          ...          ...  \n",
       "23815          1           1            1            1  \n",
       "23816          1           1            1            1  \n",
       "23817          1           1            1            1  \n",
       "23818          9           9            9            9  \n",
       "23819          1           1            1            1  \n",
       "\n",
       "[23820 rows x 12 columns]"
      ]
     },
     "execution_count": 65,
     "metadata": {},
     "output_type": "execute_result"
    }
   ],
   "source": [
    "merge2"
   ]
  },
  {
   "cell_type": "code",
   "execution_count": 66,
   "id": "8c3ebb6c",
   "metadata": {},
   "outputs": [
    {
     "data": {
      "text/plain": [
       "CustomerID              23820\n",
       "City                        4\n",
       "OnlineCommunication         2\n",
       "AutomaticRefill             2\n",
       "DoorstepDelivery            2\n",
       "PreferredDeliveryDay        7\n",
       "yearofreg                  11\n",
       "RetentionPotential          3\n",
       "EmailType                  84\n",
       "MailOpened                 84\n",
       "MailClicked                84\n",
       "yearofemail                84\n",
       "dtype: int64"
      ]
     },
     "execution_count": 66,
     "metadata": {},
     "output_type": "execute_result"
    }
   ],
   "source": [
    "merge2.nunique()"
   ]
  },
  {
   "cell_type": "code",
   "execution_count": 67,
   "id": "2f3d9734",
   "metadata": {},
   "outputs": [
    {
     "data": {
      "text/plain": [
       "0        30\n",
       "1        96\n",
       "2         1\n",
       "3        31\n",
       "4        65\n",
       "         ..\n",
       "23815     1\n",
       "23816     1\n",
       "23817     1\n",
       "23818     9\n",
       "23819     1\n",
       "Name: EmailType, Length: 23820, dtype: int64"
      ]
     },
     "execution_count": 67,
     "metadata": {},
     "output_type": "execute_result"
    }
   ],
   "source": [
    "merge2['EmailType']"
   ]
  },
  {
   "cell_type": "code",
   "execution_count": 68,
   "id": "de114557",
   "metadata": {},
   "outputs": [
    {
     "data": {
      "text/plain": [
       "CustomerID              23820\n",
       "City                        4\n",
       "OnlineCommunication         2\n",
       "AutomaticRefill             2\n",
       "DoorstepDelivery            2\n",
       "PreferredDeliveryDay        7\n",
       "yearofreg                  11\n",
       "RetentionPotential          3\n",
       "EmailType                  84\n",
       "MailOpened                 84\n",
       "MailClicked                84\n",
       "yearofemail                84\n",
       "dtype: int64"
      ]
     },
     "execution_count": 68,
     "metadata": {},
     "output_type": "execute_result"
    }
   ],
   "source": [
    "merge2.nunique()"
   ]
  },
  {
   "cell_type": "code",
   "execution_count": 69,
   "id": "5b5555c4",
   "metadata": {},
   "outputs": [
    {
     "data": {
      "text/plain": [
       "CustomerID              0\n",
       "City                    0\n",
       "OnlineCommunication     0\n",
       "AutomaticRefill         0\n",
       "DoorstepDelivery        0\n",
       "PreferredDeliveryDay    0\n",
       "yearofreg               0\n",
       "RetentionPotential      0\n",
       "EmailType               0\n",
       "MailOpened              0\n",
       "MailClicked             0\n",
       "yearofemail             0\n",
       "dtype: int64"
      ]
     },
     "execution_count": 69,
     "metadata": {},
     "output_type": "execute_result"
    }
   ],
   "source": [
    "merge2.isnull().sum()"
   ]
  },
  {
   "cell_type": "code",
   "execution_count": 70,
   "id": "cf3e784a",
   "metadata": {},
   "outputs": [
    {
     "data": {
      "text/plain": [
       "Index(['OrderQuantity', 'yearoforder'], dtype='object')"
      ]
     },
     "execution_count": 70,
     "metadata": {},
     "output_type": "execute_result"
    }
   ],
   "source": [
    "trans_df.columns"
   ]
  },
  {
   "cell_type": "code",
   "execution_count": 71,
   "id": "0d6866e0",
   "metadata": {},
   "outputs": [],
   "source": [
    "#merging merge2 and trans_df to train_merge\n",
    "train_merge = pd.merge(merge2,trans_df,on=['CustomerID'],how='inner')"
   ]
  },
  {
   "cell_type": "code",
   "execution_count": 72,
   "id": "adcd4304",
   "metadata": {},
   "outputs": [
    {
     "data": {
      "text/html": [
       "<div>\n",
       "<style scoped>\n",
       "    .dataframe tbody tr th:only-of-type {\n",
       "        vertical-align: middle;\n",
       "    }\n",
       "\n",
       "    .dataframe tbody tr th {\n",
       "        vertical-align: top;\n",
       "    }\n",
       "\n",
       "    .dataframe thead th {\n",
       "        text-align: right;\n",
       "    }\n",
       "</style>\n",
       "<table border=\"1\" class=\"dataframe\">\n",
       "  <thead>\n",
       "    <tr style=\"text-align: right;\">\n",
       "      <th></th>\n",
       "      <th>CustomerID</th>\n",
       "      <th>City</th>\n",
       "      <th>OnlineCommunication</th>\n",
       "      <th>AutomaticRefill</th>\n",
       "      <th>DoorstepDelivery</th>\n",
       "      <th>PreferredDeliveryDay</th>\n",
       "      <th>yearofreg</th>\n",
       "      <th>RetentionPotential</th>\n",
       "      <th>EmailType</th>\n",
       "      <th>MailOpened</th>\n",
       "      <th>MailClicked</th>\n",
       "      <th>yearofemail</th>\n",
       "      <th>OrderQuantity</th>\n",
       "      <th>yearoforder</th>\n",
       "    </tr>\n",
       "  </thead>\n",
       "  <tbody>\n",
       "    <tr>\n",
       "      <th>0</th>\n",
       "      <td>C16368</td>\n",
       "      <td>CITY2</td>\n",
       "      <td>0</td>\n",
       "      <td>0</td>\n",
       "      <td>0</td>\n",
       "      <td>Monday</td>\n",
       "      <td>2012</td>\n",
       "      <td>High</td>\n",
       "      <td>30</td>\n",
       "      <td>30</td>\n",
       "      <td>30</td>\n",
       "      <td>30</td>\n",
       "      <td>15</td>\n",
       "      <td>2013</td>\n",
       "    </tr>\n",
       "    <tr>\n",
       "      <th>1</th>\n",
       "      <td>C20345</td>\n",
       "      <td>CITY2</td>\n",
       "      <td>1</td>\n",
       "      <td>1</td>\n",
       "      <td>1</td>\n",
       "      <td>Friday</td>\n",
       "      <td>2010</td>\n",
       "      <td>Low</td>\n",
       "      <td>96</td>\n",
       "      <td>96</td>\n",
       "      <td>96</td>\n",
       "      <td>96</td>\n",
       "      <td>15614</td>\n",
       "      <td>374229</td>\n",
       "    </tr>\n",
       "    <tr>\n",
       "      <th>2</th>\n",
       "      <td>C17683</td>\n",
       "      <td>CITY2</td>\n",
       "      <td>0</td>\n",
       "      <td>0</td>\n",
       "      <td>0</td>\n",
       "      <td>Wednesday</td>\n",
       "      <td>2010</td>\n",
       "      <td>Medium</td>\n",
       "      <td>1</td>\n",
       "      <td>1</td>\n",
       "      <td>1</td>\n",
       "      <td>1</td>\n",
       "      <td>443</td>\n",
       "      <td>26141</td>\n",
       "    </tr>\n",
       "    <tr>\n",
       "      <th>3</th>\n",
       "      <td>C18647</td>\n",
       "      <td>CITY4</td>\n",
       "      <td>0</td>\n",
       "      <td>0</td>\n",
       "      <td>0</td>\n",
       "      <td>Monday</td>\n",
       "      <td>2010</td>\n",
       "      <td>Low</td>\n",
       "      <td>31</td>\n",
       "      <td>31</td>\n",
       "      <td>31</td>\n",
       "      <td>31</td>\n",
       "      <td>748</td>\n",
       "      <td>14080</td>\n",
       "    </tr>\n",
       "    <tr>\n",
       "      <th>4</th>\n",
       "      <td>C36692</td>\n",
       "      <td>CITY2</td>\n",
       "      <td>1</td>\n",
       "      <td>1</td>\n",
       "      <td>0</td>\n",
       "      <td>Friday</td>\n",
       "      <td>2009</td>\n",
       "      <td>Low</td>\n",
       "      <td>65</td>\n",
       "      <td>65</td>\n",
       "      <td>65</td>\n",
       "      <td>65</td>\n",
       "      <td>2350</td>\n",
       "      <td>68422</td>\n",
       "    </tr>\n",
       "    <tr>\n",
       "      <th>...</th>\n",
       "      <td>...</td>\n",
       "      <td>...</td>\n",
       "      <td>...</td>\n",
       "      <td>...</td>\n",
       "      <td>...</td>\n",
       "      <td>...</td>\n",
       "      <td>...</td>\n",
       "      <td>...</td>\n",
       "      <td>...</td>\n",
       "      <td>...</td>\n",
       "      <td>...</td>\n",
       "      <td>...</td>\n",
       "      <td>...</td>\n",
       "      <td>...</td>\n",
       "    </tr>\n",
       "    <tr>\n",
       "      <th>23815</th>\n",
       "      <td>C23511</td>\n",
       "      <td>CITY2</td>\n",
       "      <td>1</td>\n",
       "      <td>1</td>\n",
       "      <td>0</td>\n",
       "      <td>Friday</td>\n",
       "      <td>2018</td>\n",
       "      <td>Low</td>\n",
       "      <td>1</td>\n",
       "      <td>1</td>\n",
       "      <td>1</td>\n",
       "      <td>1</td>\n",
       "      <td>41</td>\n",
       "      <td>2018</td>\n",
       "    </tr>\n",
       "    <tr>\n",
       "      <th>23816</th>\n",
       "      <td>C12197</td>\n",
       "      <td>CITY3</td>\n",
       "      <td>1</td>\n",
       "      <td>0</td>\n",
       "      <td>1</td>\n",
       "      <td>Friday</td>\n",
       "      <td>2018</td>\n",
       "      <td>Low</td>\n",
       "      <td>1</td>\n",
       "      <td>1</td>\n",
       "      <td>1</td>\n",
       "      <td>1</td>\n",
       "      <td>56</td>\n",
       "      <td>2018</td>\n",
       "    </tr>\n",
       "    <tr>\n",
       "      <th>23817</th>\n",
       "      <td>C40967</td>\n",
       "      <td>CITY3</td>\n",
       "      <td>1</td>\n",
       "      <td>0</td>\n",
       "      <td>0</td>\n",
       "      <td>Saturday</td>\n",
       "      <td>2018</td>\n",
       "      <td>Low</td>\n",
       "      <td>1</td>\n",
       "      <td>1</td>\n",
       "      <td>1</td>\n",
       "      <td>1</td>\n",
       "      <td>35</td>\n",
       "      <td>2018</td>\n",
       "    </tr>\n",
       "    <tr>\n",
       "      <th>23818</th>\n",
       "      <td>C36140</td>\n",
       "      <td>CITY3</td>\n",
       "      <td>1</td>\n",
       "      <td>1</td>\n",
       "      <td>0</td>\n",
       "      <td>Saturday</td>\n",
       "      <td>2018</td>\n",
       "      <td>Low</td>\n",
       "      <td>9</td>\n",
       "      <td>9</td>\n",
       "      <td>9</td>\n",
       "      <td>9</td>\n",
       "      <td>100</td>\n",
       "      <td>4036</td>\n",
       "    </tr>\n",
       "    <tr>\n",
       "      <th>23819</th>\n",
       "      <td>C42003</td>\n",
       "      <td>CITY4</td>\n",
       "      <td>1</td>\n",
       "      <td>0</td>\n",
       "      <td>0</td>\n",
       "      <td>Friday</td>\n",
       "      <td>2018</td>\n",
       "      <td>Low</td>\n",
       "      <td>1</td>\n",
       "      <td>1</td>\n",
       "      <td>1</td>\n",
       "      <td>1</td>\n",
       "      <td>41</td>\n",
       "      <td>2018</td>\n",
       "    </tr>\n",
       "  </tbody>\n",
       "</table>\n",
       "<p>23820 rows × 14 columns</p>\n",
       "</div>"
      ],
      "text/plain": [
       "      CustomerID   City  OnlineCommunication  AutomaticRefill  \\\n",
       "0         C16368  CITY2                    0                0   \n",
       "1         C20345  CITY2                    1                1   \n",
       "2         C17683  CITY2                    0                0   \n",
       "3         C18647  CITY4                    0                0   \n",
       "4         C36692  CITY2                    1                1   \n",
       "...          ...    ...                  ...              ...   \n",
       "23815     C23511  CITY2                    1                1   \n",
       "23816     C12197  CITY3                    1                0   \n",
       "23817     C40967  CITY3                    1                0   \n",
       "23818     C36140  CITY3                    1                1   \n",
       "23819     C42003  CITY4                    1                0   \n",
       "\n",
       "       DoorstepDelivery PreferredDeliveryDay  yearofreg RetentionPotential  \\\n",
       "0                     0               Monday       2012               High   \n",
       "1                     1               Friday       2010                Low   \n",
       "2                     0            Wednesday       2010             Medium   \n",
       "3                     0               Monday       2010                Low   \n",
       "4                     0               Friday       2009                Low   \n",
       "...                 ...                  ...        ...                ...   \n",
       "23815                 0               Friday       2018                Low   \n",
       "23816                 1               Friday       2018                Low   \n",
       "23817                 0             Saturday       2018                Low   \n",
       "23818                 0             Saturday       2018                Low   \n",
       "23819                 0               Friday       2018                Low   \n",
       "\n",
       "       EmailType  MailOpened  MailClicked  yearofemail  OrderQuantity  \\\n",
       "0             30          30           30           30             15   \n",
       "1             96          96           96           96          15614   \n",
       "2              1           1            1            1            443   \n",
       "3             31          31           31           31            748   \n",
       "4             65          65           65           65           2350   \n",
       "...          ...         ...          ...          ...            ...   \n",
       "23815          1           1            1            1             41   \n",
       "23816          1           1            1            1             56   \n",
       "23817          1           1            1            1             35   \n",
       "23818          9           9            9            9            100   \n",
       "23819          1           1            1            1             41   \n",
       "\n",
       "       yearoforder  \n",
       "0             2013  \n",
       "1           374229  \n",
       "2            26141  \n",
       "3            14080  \n",
       "4            68422  \n",
       "...            ...  \n",
       "23815         2018  \n",
       "23816         2018  \n",
       "23817         2018  \n",
       "23818         4036  \n",
       "23819         2018  \n",
       "\n",
       "[23820 rows x 14 columns]"
      ]
     },
     "execution_count": 72,
     "metadata": {},
     "output_type": "execute_result"
    }
   ],
   "source": [
    "train_merge"
   ]
  },
  {
   "cell_type": "code",
   "execution_count": 73,
   "id": "3930fa6d",
   "metadata": {},
   "outputs": [
    {
     "data": {
      "text/plain": [
       "CustomerID              23820\n",
       "City                        4\n",
       "OnlineCommunication         2\n",
       "AutomaticRefill             2\n",
       "DoorstepDelivery            2\n",
       "PreferredDeliveryDay        7\n",
       "yearofreg                  11\n",
       "RetentionPotential          3\n",
       "EmailType                  84\n",
       "MailOpened                 84\n",
       "MailClicked                84\n",
       "yearofemail                84\n",
       "OrderQuantity            2206\n",
       "yearoforder              1699\n",
       "dtype: int64"
      ]
     },
     "execution_count": 73,
     "metadata": {},
     "output_type": "execute_result"
    }
   ],
   "source": [
    "train_merge.nunique()"
   ]
  },
  {
   "cell_type": "code",
   "execution_count": 74,
   "id": "85d0e511",
   "metadata": {},
   "outputs": [
    {
     "data": {
      "text/plain": [
       "CustomerID              0\n",
       "City                    0\n",
       "OnlineCommunication     0\n",
       "AutomaticRefill         0\n",
       "DoorstepDelivery        0\n",
       "PreferredDeliveryDay    0\n",
       "yearofreg               0\n",
       "RetentionPotential      0\n",
       "EmailType               0\n",
       "MailOpened              0\n",
       "MailClicked             0\n",
       "yearofemail             0\n",
       "OrderQuantity           0\n",
       "yearoforder             0\n",
       "dtype: int64"
      ]
     },
     "execution_count": 74,
     "metadata": {},
     "output_type": "execute_result"
    }
   ],
   "source": [
    "train_merge.isnull().sum()"
   ]
  },
  {
   "cell_type": "code",
   "execution_count": 75,
   "id": "2211477e",
   "metadata": {},
   "outputs": [],
   "source": [
    "dups = train_merge.duplicated()"
   ]
  },
  {
   "cell_type": "code",
   "execution_count": 76,
   "id": "37950dc5",
   "metadata": {},
   "outputs": [
    {
     "data": {
      "text/plain": [
       "0        False\n",
       "1        False\n",
       "2        False\n",
       "3        False\n",
       "4        False\n",
       "         ...  \n",
       "23815    False\n",
       "23816    False\n",
       "23817    False\n",
       "23818    False\n",
       "23819    False\n",
       "Length: 23820, dtype: bool"
      ]
     },
     "execution_count": 76,
     "metadata": {},
     "output_type": "execute_result"
    }
   ],
   "source": [
    "dups"
   ]
  },
  {
   "cell_type": "code",
   "execution_count": 77,
   "id": "b86495bc",
   "metadata": {},
   "outputs": [],
   "source": [
    "counts = train_merge[\"CustomerID\"].value_counts()"
   ]
  },
  {
   "cell_type": "code",
   "execution_count": 78,
   "id": "f8c96ba8",
   "metadata": {},
   "outputs": [
    {
     "data": {
      "text/plain": [
       "C16368    1\n",
       "C40030    1\n",
       "C28784    1\n",
       "C25280    1\n",
       "C15894    1\n",
       "         ..\n",
       "C13218    1\n",
       "C15061    1\n",
       "C34995    1\n",
       "C36782    1\n",
       "C42003    1\n",
       "Name: CustomerID, Length: 23820, dtype: int64"
      ]
     },
     "execution_count": 78,
     "metadata": {},
     "output_type": "execute_result"
    }
   ],
   "source": [
    "counts"
   ]
  },
  {
   "cell_type": "code",
   "execution_count": 79,
   "id": "4a7de01a",
   "metadata": {},
   "outputs": [
    {
     "data": {
      "text/plain": [
       "(23820, 14)"
      ]
     },
     "execution_count": 79,
     "metadata": {},
     "output_type": "execute_result"
    }
   ],
   "source": [
    "train_merge.shape"
   ]
  },
  {
   "cell_type": "code",
   "execution_count": 80,
   "id": "b8c522bb",
   "metadata": {},
   "outputs": [
    {
     "data": {
      "text/html": [
       "<div>\n",
       "<style scoped>\n",
       "    .dataframe tbody tr th:only-of-type {\n",
       "        vertical-align: middle;\n",
       "    }\n",
       "\n",
       "    .dataframe tbody tr th {\n",
       "        vertical-align: top;\n",
       "    }\n",
       "\n",
       "    .dataframe thead th {\n",
       "        text-align: right;\n",
       "    }\n",
       "</style>\n",
       "<table border=\"1\" class=\"dataframe\">\n",
       "  <thead>\n",
       "    <tr style=\"text-align: right;\">\n",
       "      <th></th>\n",
       "      <th>count</th>\n",
       "      <th>mean</th>\n",
       "      <th>std</th>\n",
       "      <th>min</th>\n",
       "      <th>25%</th>\n",
       "      <th>50%</th>\n",
       "      <th>75%</th>\n",
       "      <th>max</th>\n",
       "    </tr>\n",
       "  </thead>\n",
       "  <tbody>\n",
       "    <tr>\n",
       "      <th>OnlineCommunication</th>\n",
       "      <td>23820.0</td>\n",
       "      <td>0.660411</td>\n",
       "      <td>0.473580</td>\n",
       "      <td>0.0</td>\n",
       "      <td>0.0</td>\n",
       "      <td>1.0</td>\n",
       "      <td>1.0</td>\n",
       "      <td>1.0</td>\n",
       "    </tr>\n",
       "    <tr>\n",
       "      <th>AutomaticRefill</th>\n",
       "      <td>23820.0</td>\n",
       "      <td>0.094710</td>\n",
       "      <td>0.292821</td>\n",
       "      <td>0.0</td>\n",
       "      <td>0.0</td>\n",
       "      <td>0.0</td>\n",
       "      <td>0.0</td>\n",
       "      <td>1.0</td>\n",
       "    </tr>\n",
       "    <tr>\n",
       "      <th>DoorstepDelivery</th>\n",
       "      <td>23820.0</td>\n",
       "      <td>0.037615</td>\n",
       "      <td>0.190268</td>\n",
       "      <td>0.0</td>\n",
       "      <td>0.0</td>\n",
       "      <td>0.0</td>\n",
       "      <td>0.0</td>\n",
       "      <td>1.0</td>\n",
       "    </tr>\n",
       "    <tr>\n",
       "      <th>yearofreg</th>\n",
       "      <td>23820.0</td>\n",
       "      <td>2013.182032</td>\n",
       "      <td>1.952012</td>\n",
       "      <td>2008.0</td>\n",
       "      <td>2012.0</td>\n",
       "      <td>2013.0</td>\n",
       "      <td>2013.0</td>\n",
       "      <td>2018.0</td>\n",
       "    </tr>\n",
       "    <tr>\n",
       "      <th>EmailType</th>\n",
       "      <td>23820.0</td>\n",
       "      <td>21.732662</td>\n",
       "      <td>20.040546</td>\n",
       "      <td>1.0</td>\n",
       "      <td>1.0</td>\n",
       "      <td>20.0</td>\n",
       "      <td>41.0</td>\n",
       "      <td>292.0</td>\n",
       "    </tr>\n",
       "    <tr>\n",
       "      <th>MailOpened</th>\n",
       "      <td>23820.0</td>\n",
       "      <td>21.732662</td>\n",
       "      <td>20.040546</td>\n",
       "      <td>1.0</td>\n",
       "      <td>1.0</td>\n",
       "      <td>20.0</td>\n",
       "      <td>41.0</td>\n",
       "      <td>292.0</td>\n",
       "    </tr>\n",
       "    <tr>\n",
       "      <th>MailClicked</th>\n",
       "      <td>23820.0</td>\n",
       "      <td>21.732662</td>\n",
       "      <td>20.040546</td>\n",
       "      <td>1.0</td>\n",
       "      <td>1.0</td>\n",
       "      <td>20.0</td>\n",
       "      <td>41.0</td>\n",
       "      <td>292.0</td>\n",
       "    </tr>\n",
       "    <tr>\n",
       "      <th>yearofemail</th>\n",
       "      <td>23820.0</td>\n",
       "      <td>21.732662</td>\n",
       "      <td>20.040546</td>\n",
       "      <td>1.0</td>\n",
       "      <td>1.0</td>\n",
       "      <td>20.0</td>\n",
       "      <td>41.0</td>\n",
       "      <td>292.0</td>\n",
       "    </tr>\n",
       "    <tr>\n",
       "      <th>OrderQuantity</th>\n",
       "      <td>23820.0</td>\n",
       "      <td>357.622922</td>\n",
       "      <td>1335.649680</td>\n",
       "      <td>0.0</td>\n",
       "      <td>41.0</td>\n",
       "      <td>65.0</td>\n",
       "      <td>169.0</td>\n",
       "      <td>51429.0</td>\n",
       "    </tr>\n",
       "    <tr>\n",
       "      <th>yearoforder</th>\n",
       "      <td>23820.0</td>\n",
       "      <td>8853.096809</td>\n",
       "      <td>24440.702752</td>\n",
       "      <td>2008.0</td>\n",
       "      <td>2013.0</td>\n",
       "      <td>2014.0</td>\n",
       "      <td>6033.0</td>\n",
       "      <td>517839.0</td>\n",
       "    </tr>\n",
       "  </tbody>\n",
       "</table>\n",
       "</div>"
      ],
      "text/plain": [
       "                       count         mean           std     min     25%  \\\n",
       "OnlineCommunication  23820.0     0.660411      0.473580     0.0     0.0   \n",
       "AutomaticRefill      23820.0     0.094710      0.292821     0.0     0.0   \n",
       "DoorstepDelivery     23820.0     0.037615      0.190268     0.0     0.0   \n",
       "yearofreg            23820.0  2013.182032      1.952012  2008.0  2012.0   \n",
       "EmailType            23820.0    21.732662     20.040546     1.0     1.0   \n",
       "MailOpened           23820.0    21.732662     20.040546     1.0     1.0   \n",
       "MailClicked          23820.0    21.732662     20.040546     1.0     1.0   \n",
       "yearofemail          23820.0    21.732662     20.040546     1.0     1.0   \n",
       "OrderQuantity        23820.0   357.622922   1335.649680     0.0    41.0   \n",
       "yearoforder          23820.0  8853.096809  24440.702752  2008.0  2013.0   \n",
       "\n",
       "                        50%     75%       max  \n",
       "OnlineCommunication     1.0     1.0       1.0  \n",
       "AutomaticRefill         0.0     0.0       1.0  \n",
       "DoorstepDelivery        0.0     0.0       1.0  \n",
       "yearofreg            2013.0  2013.0    2018.0  \n",
       "EmailType              20.0    41.0     292.0  \n",
       "MailOpened             20.0    41.0     292.0  \n",
       "MailClicked            20.0    41.0     292.0  \n",
       "yearofemail            20.0    41.0     292.0  \n",
       "OrderQuantity          65.0   169.0   51429.0  \n",
       "yearoforder          2014.0  6033.0  517839.0  "
      ]
     },
     "execution_count": 80,
     "metadata": {},
     "output_type": "execute_result"
    }
   ],
   "source": [
    "train_merge.describe().T"
   ]
  },
  {
   "cell_type": "code",
   "execution_count": 81,
   "id": "6078f97a",
   "metadata": {},
   "outputs": [
    {
     "data": {
      "text/html": [
       "<div>\n",
       "<style scoped>\n",
       "    .dataframe tbody tr th:only-of-type {\n",
       "        vertical-align: middle;\n",
       "    }\n",
       "\n",
       "    .dataframe tbody tr th {\n",
       "        vertical-align: top;\n",
       "    }\n",
       "\n",
       "    .dataframe thead th {\n",
       "        text-align: right;\n",
       "    }\n",
       "</style>\n",
       "<table border=\"1\" class=\"dataframe\">\n",
       "  <thead>\n",
       "    <tr style=\"text-align: right;\">\n",
       "      <th></th>\n",
       "      <th>count</th>\n",
       "      <th>mean</th>\n",
       "      <th>std</th>\n",
       "      <th>min</th>\n",
       "      <th>25%</th>\n",
       "      <th>50%</th>\n",
       "      <th>75%</th>\n",
       "      <th>max</th>\n",
       "    </tr>\n",
       "  </thead>\n",
       "  <tbody>\n",
       "    <tr>\n",
       "      <th>OrderQuantity</th>\n",
       "      <td>23820.0</td>\n",
       "      <td>357.622922</td>\n",
       "      <td>1335.649680</td>\n",
       "      <td>0.0</td>\n",
       "      <td>41.0</td>\n",
       "      <td>65.0</td>\n",
       "      <td>169.0</td>\n",
       "      <td>51429.0</td>\n",
       "    </tr>\n",
       "    <tr>\n",
       "      <th>yearoforder</th>\n",
       "      <td>23820.0</td>\n",
       "      <td>8853.096809</td>\n",
       "      <td>24440.702752</td>\n",
       "      <td>2008.0</td>\n",
       "      <td>2013.0</td>\n",
       "      <td>2014.0</td>\n",
       "      <td>6033.0</td>\n",
       "      <td>517839.0</td>\n",
       "    </tr>\n",
       "  </tbody>\n",
       "</table>\n",
       "</div>"
      ],
      "text/plain": [
       "                 count         mean           std     min     25%     50%  \\\n",
       "OrderQuantity  23820.0   357.622922   1335.649680     0.0    41.0    65.0   \n",
       "yearoforder    23820.0  8853.096809  24440.702752  2008.0  2013.0  2014.0   \n",
       "\n",
       "                  75%       max  \n",
       "OrderQuantity   169.0   51429.0  \n",
       "yearoforder    6033.0  517839.0  "
      ]
     },
     "execution_count": 81,
     "metadata": {},
     "output_type": "execute_result"
    }
   ],
   "source": [
    "trans_df.describe().T"
   ]
  },
  {
   "cell_type": "code",
   "execution_count": 82,
   "id": "e6c732cf",
   "metadata": {},
   "outputs": [
    {
     "data": {
      "text/plain": [
       "CustomerID              object\n",
       "City                    object\n",
       "OnlineCommunication      int64\n",
       "AutomaticRefill          int64\n",
       "DoorstepDelivery         int64\n",
       "PreferredDeliveryDay    object\n",
       "yearofreg                int64\n",
       "RetentionPotential      object\n",
       "EmailType                int64\n",
       "MailOpened               int64\n",
       "MailClicked              int64\n",
       "yearofemail              int64\n",
       "OrderQuantity            int64\n",
       "yearoforder              int64\n",
       "dtype: object"
      ]
     },
     "execution_count": 82,
     "metadata": {},
     "output_type": "execute_result"
    }
   ],
   "source": [
    "train_merge.dtypes"
   ]
  },
  {
   "cell_type": "code",
   "execution_count": 83,
   "id": "6965d9fd",
   "metadata": {},
   "outputs": [],
   "source": [
    "#Dropping yearofeamil and yearoforder \n",
    "train_merge.drop(['yearofemail','yearoforder'], axis=1, inplace=True)"
   ]
  },
  {
   "cell_type": "code",
   "execution_count": 84,
   "id": "2c062e4b",
   "metadata": {},
   "outputs": [
    {
     "data": {
      "text/html": [
       "<div>\n",
       "<style scoped>\n",
       "    .dataframe tbody tr th:only-of-type {\n",
       "        vertical-align: middle;\n",
       "    }\n",
       "\n",
       "    .dataframe tbody tr th {\n",
       "        vertical-align: top;\n",
       "    }\n",
       "\n",
       "    .dataframe thead th {\n",
       "        text-align: right;\n",
       "    }\n",
       "</style>\n",
       "<table border=\"1\" class=\"dataframe\">\n",
       "  <thead>\n",
       "    <tr style=\"text-align: right;\">\n",
       "      <th></th>\n",
       "      <th>CustomerID</th>\n",
       "      <th>City</th>\n",
       "      <th>OnlineCommunication</th>\n",
       "      <th>AutomaticRefill</th>\n",
       "      <th>DoorstepDelivery</th>\n",
       "      <th>PreferredDeliveryDay</th>\n",
       "      <th>yearofreg</th>\n",
       "      <th>RetentionPotential</th>\n",
       "      <th>EmailType</th>\n",
       "      <th>MailOpened</th>\n",
       "      <th>MailClicked</th>\n",
       "      <th>OrderQuantity</th>\n",
       "    </tr>\n",
       "  </thead>\n",
       "  <tbody>\n",
       "    <tr>\n",
       "      <th>0</th>\n",
       "      <td>C16368</td>\n",
       "      <td>CITY2</td>\n",
       "      <td>0</td>\n",
       "      <td>0</td>\n",
       "      <td>0</td>\n",
       "      <td>Monday</td>\n",
       "      <td>2012</td>\n",
       "      <td>High</td>\n",
       "      <td>30</td>\n",
       "      <td>30</td>\n",
       "      <td>30</td>\n",
       "      <td>15</td>\n",
       "    </tr>\n",
       "    <tr>\n",
       "      <th>1</th>\n",
       "      <td>C20345</td>\n",
       "      <td>CITY2</td>\n",
       "      <td>1</td>\n",
       "      <td>1</td>\n",
       "      <td>1</td>\n",
       "      <td>Friday</td>\n",
       "      <td>2010</td>\n",
       "      <td>Low</td>\n",
       "      <td>96</td>\n",
       "      <td>96</td>\n",
       "      <td>96</td>\n",
       "      <td>15614</td>\n",
       "    </tr>\n",
       "    <tr>\n",
       "      <th>2</th>\n",
       "      <td>C17683</td>\n",
       "      <td>CITY2</td>\n",
       "      <td>0</td>\n",
       "      <td>0</td>\n",
       "      <td>0</td>\n",
       "      <td>Wednesday</td>\n",
       "      <td>2010</td>\n",
       "      <td>Medium</td>\n",
       "      <td>1</td>\n",
       "      <td>1</td>\n",
       "      <td>1</td>\n",
       "      <td>443</td>\n",
       "    </tr>\n",
       "    <tr>\n",
       "      <th>3</th>\n",
       "      <td>C18647</td>\n",
       "      <td>CITY4</td>\n",
       "      <td>0</td>\n",
       "      <td>0</td>\n",
       "      <td>0</td>\n",
       "      <td>Monday</td>\n",
       "      <td>2010</td>\n",
       "      <td>Low</td>\n",
       "      <td>31</td>\n",
       "      <td>31</td>\n",
       "      <td>31</td>\n",
       "      <td>748</td>\n",
       "    </tr>\n",
       "    <tr>\n",
       "      <th>4</th>\n",
       "      <td>C36692</td>\n",
       "      <td>CITY2</td>\n",
       "      <td>1</td>\n",
       "      <td>1</td>\n",
       "      <td>0</td>\n",
       "      <td>Friday</td>\n",
       "      <td>2009</td>\n",
       "      <td>Low</td>\n",
       "      <td>65</td>\n",
       "      <td>65</td>\n",
       "      <td>65</td>\n",
       "      <td>2350</td>\n",
       "    </tr>\n",
       "    <tr>\n",
       "      <th>...</th>\n",
       "      <td>...</td>\n",
       "      <td>...</td>\n",
       "      <td>...</td>\n",
       "      <td>...</td>\n",
       "      <td>...</td>\n",
       "      <td>...</td>\n",
       "      <td>...</td>\n",
       "      <td>...</td>\n",
       "      <td>...</td>\n",
       "      <td>...</td>\n",
       "      <td>...</td>\n",
       "      <td>...</td>\n",
       "    </tr>\n",
       "    <tr>\n",
       "      <th>23815</th>\n",
       "      <td>C23511</td>\n",
       "      <td>CITY2</td>\n",
       "      <td>1</td>\n",
       "      <td>1</td>\n",
       "      <td>0</td>\n",
       "      <td>Friday</td>\n",
       "      <td>2018</td>\n",
       "      <td>Low</td>\n",
       "      <td>1</td>\n",
       "      <td>1</td>\n",
       "      <td>1</td>\n",
       "      <td>41</td>\n",
       "    </tr>\n",
       "    <tr>\n",
       "      <th>23816</th>\n",
       "      <td>C12197</td>\n",
       "      <td>CITY3</td>\n",
       "      <td>1</td>\n",
       "      <td>0</td>\n",
       "      <td>1</td>\n",
       "      <td>Friday</td>\n",
       "      <td>2018</td>\n",
       "      <td>Low</td>\n",
       "      <td>1</td>\n",
       "      <td>1</td>\n",
       "      <td>1</td>\n",
       "      <td>56</td>\n",
       "    </tr>\n",
       "    <tr>\n",
       "      <th>23817</th>\n",
       "      <td>C40967</td>\n",
       "      <td>CITY3</td>\n",
       "      <td>1</td>\n",
       "      <td>0</td>\n",
       "      <td>0</td>\n",
       "      <td>Saturday</td>\n",
       "      <td>2018</td>\n",
       "      <td>Low</td>\n",
       "      <td>1</td>\n",
       "      <td>1</td>\n",
       "      <td>1</td>\n",
       "      <td>35</td>\n",
       "    </tr>\n",
       "    <tr>\n",
       "      <th>23818</th>\n",
       "      <td>C36140</td>\n",
       "      <td>CITY3</td>\n",
       "      <td>1</td>\n",
       "      <td>1</td>\n",
       "      <td>0</td>\n",
       "      <td>Saturday</td>\n",
       "      <td>2018</td>\n",
       "      <td>Low</td>\n",
       "      <td>9</td>\n",
       "      <td>9</td>\n",
       "      <td>9</td>\n",
       "      <td>100</td>\n",
       "    </tr>\n",
       "    <tr>\n",
       "      <th>23819</th>\n",
       "      <td>C42003</td>\n",
       "      <td>CITY4</td>\n",
       "      <td>1</td>\n",
       "      <td>0</td>\n",
       "      <td>0</td>\n",
       "      <td>Friday</td>\n",
       "      <td>2018</td>\n",
       "      <td>Low</td>\n",
       "      <td>1</td>\n",
       "      <td>1</td>\n",
       "      <td>1</td>\n",
       "      <td>41</td>\n",
       "    </tr>\n",
       "  </tbody>\n",
       "</table>\n",
       "<p>23820 rows × 12 columns</p>\n",
       "</div>"
      ],
      "text/plain": [
       "      CustomerID   City  OnlineCommunication  AutomaticRefill  \\\n",
       "0         C16368  CITY2                    0                0   \n",
       "1         C20345  CITY2                    1                1   \n",
       "2         C17683  CITY2                    0                0   \n",
       "3         C18647  CITY4                    0                0   \n",
       "4         C36692  CITY2                    1                1   \n",
       "...          ...    ...                  ...              ...   \n",
       "23815     C23511  CITY2                    1                1   \n",
       "23816     C12197  CITY3                    1                0   \n",
       "23817     C40967  CITY3                    1                0   \n",
       "23818     C36140  CITY3                    1                1   \n",
       "23819     C42003  CITY4                    1                0   \n",
       "\n",
       "       DoorstepDelivery PreferredDeliveryDay  yearofreg RetentionPotential  \\\n",
       "0                     0               Monday       2012               High   \n",
       "1                     1               Friday       2010                Low   \n",
       "2                     0            Wednesday       2010             Medium   \n",
       "3                     0               Monday       2010                Low   \n",
       "4                     0               Friday       2009                Low   \n",
       "...                 ...                  ...        ...                ...   \n",
       "23815                 0               Friday       2018                Low   \n",
       "23816                 1               Friday       2018                Low   \n",
       "23817                 0             Saturday       2018                Low   \n",
       "23818                 0             Saturday       2018                Low   \n",
       "23819                 0               Friday       2018                Low   \n",
       "\n",
       "       EmailType  MailOpened  MailClicked  OrderQuantity  \n",
       "0             30          30           30             15  \n",
       "1             96          96           96          15614  \n",
       "2              1           1            1            443  \n",
       "3             31          31           31            748  \n",
       "4             65          65           65           2350  \n",
       "...          ...         ...          ...            ...  \n",
       "23815          1           1            1             41  \n",
       "23816          1           1            1             56  \n",
       "23817          1           1            1             35  \n",
       "23818          9           9            9            100  \n",
       "23819          1           1            1             41  \n",
       "\n",
       "[23820 rows x 12 columns]"
      ]
     },
     "execution_count": 84,
     "metadata": {},
     "output_type": "execute_result"
    }
   ],
   "source": [
    "train_merge"
   ]
  },
  {
   "cell_type": "code",
   "execution_count": 85,
   "id": "fa1c9492",
   "metadata": {},
   "outputs": [
    {
     "data": {
      "text/plain": [
       "CustomerID              23820\n",
       "City                        4\n",
       "OnlineCommunication         2\n",
       "AutomaticRefill             2\n",
       "DoorstepDelivery            2\n",
       "PreferredDeliveryDay        7\n",
       "yearofreg                  11\n",
       "RetentionPotential          3\n",
       "EmailType                  84\n",
       "MailOpened                 84\n",
       "MailClicked                84\n",
       "OrderQuantity            2206\n",
       "dtype: int64"
      ]
     },
     "execution_count": 85,
     "metadata": {},
     "output_type": "execute_result"
    }
   ],
   "source": [
    "train_merge.nunique()"
   ]
  },
  {
   "cell_type": "code",
   "execution_count": 86,
   "id": "7c1a5b41",
   "metadata": {},
   "outputs": [
    {
     "data": {
      "text/plain": [
       "CustomerID              object\n",
       "City                    object\n",
       "OnlineCommunication      int64\n",
       "AutomaticRefill          int64\n",
       "DoorstepDelivery         int64\n",
       "PreferredDeliveryDay    object\n",
       "yearofreg                int64\n",
       "RetentionPotential      object\n",
       "EmailType                int64\n",
       "MailOpened               int64\n",
       "MailClicked              int64\n",
       "OrderQuantity            int64\n",
       "dtype: object"
      ]
     },
     "execution_count": 86,
     "metadata": {},
     "output_type": "execute_result"
    }
   ],
   "source": [
    "train_merge.dtypes"
   ]
  },
  {
   "cell_type": "code",
   "execution_count": 87,
   "id": "e5cc2a18",
   "metadata": {},
   "outputs": [],
   "source": [
    "for col in ['CustomerID', 'City', 'PreferredDeliveryDay', \n",
    "            'RetentionPotential']:\n",
    "    train_merge[col] = train_merge[col].astype('category')"
   ]
  },
  {
   "cell_type": "code",
   "execution_count": 88,
   "id": "05023639",
   "metadata": {},
   "outputs": [],
   "source": [
    "#dropping CustmerID, yearofreg, Retentionpotential in x\n",
    "x= train_merge.drop(['CustomerID','yearofreg','RetentionPotential'],axis=1)"
   ]
  },
  {
   "cell_type": "code",
   "execution_count": 89,
   "id": "a7a87784",
   "metadata": {},
   "outputs": [],
   "source": [
    "#picking up RetentionPotential in y\n",
    "y= train_merge['RetentionPotential']"
   ]
  },
  {
   "cell_type": "code",
   "execution_count": 90,
   "id": "d1a6db43",
   "metadata": {},
   "outputs": [
    {
     "data": {
      "text/html": [
       "<div>\n",
       "<style scoped>\n",
       "    .dataframe tbody tr th:only-of-type {\n",
       "        vertical-align: middle;\n",
       "    }\n",
       "\n",
       "    .dataframe tbody tr th {\n",
       "        vertical-align: top;\n",
       "    }\n",
       "\n",
       "    .dataframe thead th {\n",
       "        text-align: right;\n",
       "    }\n",
       "</style>\n",
       "<table border=\"1\" class=\"dataframe\">\n",
       "  <thead>\n",
       "    <tr style=\"text-align: right;\">\n",
       "      <th></th>\n",
       "      <th>City</th>\n",
       "      <th>OnlineCommunication</th>\n",
       "      <th>AutomaticRefill</th>\n",
       "      <th>DoorstepDelivery</th>\n",
       "      <th>PreferredDeliveryDay</th>\n",
       "      <th>EmailType</th>\n",
       "      <th>MailOpened</th>\n",
       "      <th>MailClicked</th>\n",
       "      <th>OrderQuantity</th>\n",
       "    </tr>\n",
       "  </thead>\n",
       "  <tbody>\n",
       "    <tr>\n",
       "      <th>0</th>\n",
       "      <td>CITY2</td>\n",
       "      <td>0</td>\n",
       "      <td>0</td>\n",
       "      <td>0</td>\n",
       "      <td>Monday</td>\n",
       "      <td>30</td>\n",
       "      <td>30</td>\n",
       "      <td>30</td>\n",
       "      <td>15</td>\n",
       "    </tr>\n",
       "    <tr>\n",
       "      <th>1</th>\n",
       "      <td>CITY2</td>\n",
       "      <td>1</td>\n",
       "      <td>1</td>\n",
       "      <td>1</td>\n",
       "      <td>Friday</td>\n",
       "      <td>96</td>\n",
       "      <td>96</td>\n",
       "      <td>96</td>\n",
       "      <td>15614</td>\n",
       "    </tr>\n",
       "    <tr>\n",
       "      <th>2</th>\n",
       "      <td>CITY2</td>\n",
       "      <td>0</td>\n",
       "      <td>0</td>\n",
       "      <td>0</td>\n",
       "      <td>Wednesday</td>\n",
       "      <td>1</td>\n",
       "      <td>1</td>\n",
       "      <td>1</td>\n",
       "      <td>443</td>\n",
       "    </tr>\n",
       "    <tr>\n",
       "      <th>3</th>\n",
       "      <td>CITY4</td>\n",
       "      <td>0</td>\n",
       "      <td>0</td>\n",
       "      <td>0</td>\n",
       "      <td>Monday</td>\n",
       "      <td>31</td>\n",
       "      <td>31</td>\n",
       "      <td>31</td>\n",
       "      <td>748</td>\n",
       "    </tr>\n",
       "    <tr>\n",
       "      <th>4</th>\n",
       "      <td>CITY2</td>\n",
       "      <td>1</td>\n",
       "      <td>1</td>\n",
       "      <td>0</td>\n",
       "      <td>Friday</td>\n",
       "      <td>65</td>\n",
       "      <td>65</td>\n",
       "      <td>65</td>\n",
       "      <td>2350</td>\n",
       "    </tr>\n",
       "    <tr>\n",
       "      <th>...</th>\n",
       "      <td>...</td>\n",
       "      <td>...</td>\n",
       "      <td>...</td>\n",
       "      <td>...</td>\n",
       "      <td>...</td>\n",
       "      <td>...</td>\n",
       "      <td>...</td>\n",
       "      <td>...</td>\n",
       "      <td>...</td>\n",
       "    </tr>\n",
       "    <tr>\n",
       "      <th>23815</th>\n",
       "      <td>CITY2</td>\n",
       "      <td>1</td>\n",
       "      <td>1</td>\n",
       "      <td>0</td>\n",
       "      <td>Friday</td>\n",
       "      <td>1</td>\n",
       "      <td>1</td>\n",
       "      <td>1</td>\n",
       "      <td>41</td>\n",
       "    </tr>\n",
       "    <tr>\n",
       "      <th>23816</th>\n",
       "      <td>CITY3</td>\n",
       "      <td>1</td>\n",
       "      <td>0</td>\n",
       "      <td>1</td>\n",
       "      <td>Friday</td>\n",
       "      <td>1</td>\n",
       "      <td>1</td>\n",
       "      <td>1</td>\n",
       "      <td>56</td>\n",
       "    </tr>\n",
       "    <tr>\n",
       "      <th>23817</th>\n",
       "      <td>CITY3</td>\n",
       "      <td>1</td>\n",
       "      <td>0</td>\n",
       "      <td>0</td>\n",
       "      <td>Saturday</td>\n",
       "      <td>1</td>\n",
       "      <td>1</td>\n",
       "      <td>1</td>\n",
       "      <td>35</td>\n",
       "    </tr>\n",
       "    <tr>\n",
       "      <th>23818</th>\n",
       "      <td>CITY3</td>\n",
       "      <td>1</td>\n",
       "      <td>1</td>\n",
       "      <td>0</td>\n",
       "      <td>Saturday</td>\n",
       "      <td>9</td>\n",
       "      <td>9</td>\n",
       "      <td>9</td>\n",
       "      <td>100</td>\n",
       "    </tr>\n",
       "    <tr>\n",
       "      <th>23819</th>\n",
       "      <td>CITY4</td>\n",
       "      <td>1</td>\n",
       "      <td>0</td>\n",
       "      <td>0</td>\n",
       "      <td>Friday</td>\n",
       "      <td>1</td>\n",
       "      <td>1</td>\n",
       "      <td>1</td>\n",
       "      <td>41</td>\n",
       "    </tr>\n",
       "  </tbody>\n",
       "</table>\n",
       "<p>23820 rows × 9 columns</p>\n",
       "</div>"
      ],
      "text/plain": [
       "        City  OnlineCommunication  AutomaticRefill  DoorstepDelivery  \\\n",
       "0      CITY2                    0                0                 0   \n",
       "1      CITY2                    1                1                 1   \n",
       "2      CITY2                    0                0                 0   \n",
       "3      CITY4                    0                0                 0   \n",
       "4      CITY2                    1                1                 0   \n",
       "...      ...                  ...              ...               ...   \n",
       "23815  CITY2                    1                1                 0   \n",
       "23816  CITY3                    1                0                 1   \n",
       "23817  CITY3                    1                0                 0   \n",
       "23818  CITY3                    1                1                 0   \n",
       "23819  CITY4                    1                0                 0   \n",
       "\n",
       "      PreferredDeliveryDay  EmailType  MailOpened  MailClicked  OrderQuantity  \n",
       "0                   Monday         30          30           30             15  \n",
       "1                   Friday         96          96           96          15614  \n",
       "2                Wednesday          1           1            1            443  \n",
       "3                   Monday         31          31           31            748  \n",
       "4                   Friday         65          65           65           2350  \n",
       "...                    ...        ...         ...          ...            ...  \n",
       "23815               Friday          1           1            1             41  \n",
       "23816               Friday          1           1            1             56  \n",
       "23817             Saturday          1           1            1             35  \n",
       "23818             Saturday          9           9            9            100  \n",
       "23819               Friday          1           1            1             41  \n",
       "\n",
       "[23820 rows x 9 columns]"
      ]
     },
     "execution_count": 90,
     "metadata": {},
     "output_type": "execute_result"
    }
   ],
   "source": [
    "x"
   ]
  },
  {
   "cell_type": "code",
   "execution_count": 91,
   "id": "45ea0d0e",
   "metadata": {
    "scrolled": true
   },
   "outputs": [
    {
     "data": {
      "text/html": [
       "<div>\n",
       "<style scoped>\n",
       "    .dataframe tbody tr th:only-of-type {\n",
       "        vertical-align: middle;\n",
       "    }\n",
       "\n",
       "    .dataframe tbody tr th {\n",
       "        vertical-align: top;\n",
       "    }\n",
       "\n",
       "    .dataframe thead th {\n",
       "        text-align: right;\n",
       "    }\n",
       "</style>\n",
       "<table border=\"1\" class=\"dataframe\">\n",
       "  <thead>\n",
       "    <tr style=\"text-align: right;\">\n",
       "      <th></th>\n",
       "      <th>RetentionPotential</th>\n",
       "    </tr>\n",
       "  </thead>\n",
       "  <tbody>\n",
       "    <tr>\n",
       "      <th>0</th>\n",
       "      <td>High</td>\n",
       "    </tr>\n",
       "    <tr>\n",
       "      <th>1</th>\n",
       "      <td>Low</td>\n",
       "    </tr>\n",
       "    <tr>\n",
       "      <th>2</th>\n",
       "      <td>Medium</td>\n",
       "    </tr>\n",
       "    <tr>\n",
       "      <th>3</th>\n",
       "      <td>Low</td>\n",
       "    </tr>\n",
       "    <tr>\n",
       "      <th>4</th>\n",
       "      <td>Low</td>\n",
       "    </tr>\n",
       "    <tr>\n",
       "      <th>...</th>\n",
       "      <td>...</td>\n",
       "    </tr>\n",
       "    <tr>\n",
       "      <th>23815</th>\n",
       "      <td>Low</td>\n",
       "    </tr>\n",
       "    <tr>\n",
       "      <th>23816</th>\n",
       "      <td>Low</td>\n",
       "    </tr>\n",
       "    <tr>\n",
       "      <th>23817</th>\n",
       "      <td>Low</td>\n",
       "    </tr>\n",
       "    <tr>\n",
       "      <th>23818</th>\n",
       "      <td>Low</td>\n",
       "    </tr>\n",
       "    <tr>\n",
       "      <th>23819</th>\n",
       "      <td>Low</td>\n",
       "    </tr>\n",
       "  </tbody>\n",
       "</table>\n",
       "<p>23820 rows × 1 columns</p>\n",
       "</div>"
      ],
      "text/plain": [
       "      RetentionPotential\n",
       "0                   High\n",
       "1                    Low\n",
       "2                 Medium\n",
       "3                    Low\n",
       "4                    Low\n",
       "...                  ...\n",
       "23815                Low\n",
       "23816                Low\n",
       "23817                Low\n",
       "23818                Low\n",
       "23819                Low\n",
       "\n",
       "[23820 rows x 1 columns]"
      ]
     },
     "execution_count": 91,
     "metadata": {},
     "output_type": "execute_result"
    }
   ],
   "source": [
    "pd.DataFrame(y)"
   ]
  },
  {
   "cell_type": "code",
   "execution_count": 92,
   "id": "69da0fc1",
   "metadata": {},
   "outputs": [],
   "source": [
    "#here we are replacing low with 0, medium with 1 and High with 2\n",
    "y.replace(('Low','Medium','High'), (2,1,0,),inplace=True)"
   ]
  },
  {
   "cell_type": "code",
   "execution_count": 93,
   "id": "f2bcaf16",
   "metadata": {},
   "outputs": [
    {
     "data": {
      "text/plain": [
       "2    0.805416\n",
       "0    0.157683\n",
       "1    0.036902\n",
       "Name: RetentionPotential, dtype: float64"
      ]
     },
     "execution_count": 93,
     "metadata": {},
     "output_type": "execute_result"
    }
   ],
   "source": [
    "y.value_counts(normalize=True)"
   ]
  },
  {
   "cell_type": "code",
   "execution_count": 94,
   "id": "f9bb79b8",
   "metadata": {},
   "outputs": [
    {
     "data": {
      "text/html": [
       "<div>\n",
       "<style scoped>\n",
       "    .dataframe tbody tr th:only-of-type {\n",
       "        vertical-align: middle;\n",
       "    }\n",
       "\n",
       "    .dataframe tbody tr th {\n",
       "        vertical-align: top;\n",
       "    }\n",
       "\n",
       "    .dataframe thead th {\n",
       "        text-align: right;\n",
       "    }\n",
       "</style>\n",
       "<table border=\"1\" class=\"dataframe\">\n",
       "  <thead>\n",
       "    <tr style=\"text-align: right;\">\n",
       "      <th></th>\n",
       "      <th>RetentionPotential</th>\n",
       "    </tr>\n",
       "  </thead>\n",
       "  <tbody>\n",
       "    <tr>\n",
       "      <th>0</th>\n",
       "      <td>0</td>\n",
       "    </tr>\n",
       "    <tr>\n",
       "      <th>1</th>\n",
       "      <td>2</td>\n",
       "    </tr>\n",
       "    <tr>\n",
       "      <th>2</th>\n",
       "      <td>1</td>\n",
       "    </tr>\n",
       "    <tr>\n",
       "      <th>3</th>\n",
       "      <td>2</td>\n",
       "    </tr>\n",
       "    <tr>\n",
       "      <th>4</th>\n",
       "      <td>2</td>\n",
       "    </tr>\n",
       "    <tr>\n",
       "      <th>...</th>\n",
       "      <td>...</td>\n",
       "    </tr>\n",
       "    <tr>\n",
       "      <th>23815</th>\n",
       "      <td>2</td>\n",
       "    </tr>\n",
       "    <tr>\n",
       "      <th>23816</th>\n",
       "      <td>2</td>\n",
       "    </tr>\n",
       "    <tr>\n",
       "      <th>23817</th>\n",
       "      <td>2</td>\n",
       "    </tr>\n",
       "    <tr>\n",
       "      <th>23818</th>\n",
       "      <td>2</td>\n",
       "    </tr>\n",
       "    <tr>\n",
       "      <th>23819</th>\n",
       "      <td>2</td>\n",
       "    </tr>\n",
       "  </tbody>\n",
       "</table>\n",
       "<p>23820 rows × 1 columns</p>\n",
       "</div>"
      ],
      "text/plain": [
       "      RetentionPotential\n",
       "0                      0\n",
       "1                      2\n",
       "2                      1\n",
       "3                      2\n",
       "4                      2\n",
       "...                  ...\n",
       "23815                  2\n",
       "23816                  2\n",
       "23817                  2\n",
       "23818                  2\n",
       "23819                  2\n",
       "\n",
       "[23820 rows x 1 columns]"
      ]
     },
     "execution_count": 94,
     "metadata": {},
     "output_type": "execute_result"
    }
   ],
   "source": [
    "pd.DataFrame(y)"
   ]
  },
  {
   "cell_type": "markdown",
   "id": "412a6922",
   "metadata": {},
   "source": [
    "# **Splitting data**"
   ]
  },
  {
   "cell_type": "code",
   "execution_count": 95,
   "id": "c13d1c50",
   "metadata": {},
   "outputs": [],
   "source": [
    "#here we are splitting the data into train and validation with test having a split of 30% \n",
    "from sklearn.model_selection import train_test_split\n",
    "x_train, x_valid, y_train, y_valid = train_test_split(x, y, test_size=0.25, random_state=123) "
   ]
  },
  {
   "cell_type": "code",
   "execution_count": 96,
   "id": "03a9eb01",
   "metadata": {},
   "outputs": [
    {
     "data": {
      "text/html": [
       "<div>\n",
       "<style scoped>\n",
       "    .dataframe tbody tr th:only-of-type {\n",
       "        vertical-align: middle;\n",
       "    }\n",
       "\n",
       "    .dataframe tbody tr th {\n",
       "        vertical-align: top;\n",
       "    }\n",
       "\n",
       "    .dataframe thead th {\n",
       "        text-align: right;\n",
       "    }\n",
       "</style>\n",
       "<table border=\"1\" class=\"dataframe\">\n",
       "  <thead>\n",
       "    <tr style=\"text-align: right;\">\n",
       "      <th></th>\n",
       "      <th>City</th>\n",
       "      <th>OnlineCommunication</th>\n",
       "      <th>AutomaticRefill</th>\n",
       "      <th>DoorstepDelivery</th>\n",
       "      <th>PreferredDeliveryDay</th>\n",
       "      <th>EmailType</th>\n",
       "      <th>MailOpened</th>\n",
       "      <th>MailClicked</th>\n",
       "      <th>OrderQuantity</th>\n",
       "    </tr>\n",
       "  </thead>\n",
       "  <tbody>\n",
       "    <tr>\n",
       "      <th>4252</th>\n",
       "      <td>CITY2</td>\n",
       "      <td>1</td>\n",
       "      <td>1</td>\n",
       "      <td>0</td>\n",
       "      <td>Monday</td>\n",
       "      <td>40</td>\n",
       "      <td>40</td>\n",
       "      <td>40</td>\n",
       "      <td>454</td>\n",
       "    </tr>\n",
       "    <tr>\n",
       "      <th>2138</th>\n",
       "      <td>CITY2</td>\n",
       "      <td>0</td>\n",
       "      <td>0</td>\n",
       "      <td>0</td>\n",
       "      <td>Friday</td>\n",
       "      <td>42</td>\n",
       "      <td>42</td>\n",
       "      <td>42</td>\n",
       "      <td>3699</td>\n",
       "    </tr>\n",
       "    <tr>\n",
       "      <th>19063</th>\n",
       "      <td>CITY2</td>\n",
       "      <td>0</td>\n",
       "      <td>0</td>\n",
       "      <td>0</td>\n",
       "      <td>Friday</td>\n",
       "      <td>1</td>\n",
       "      <td>1</td>\n",
       "      <td>1</td>\n",
       "      <td>69</td>\n",
       "    </tr>\n",
       "    <tr>\n",
       "      <th>5457</th>\n",
       "      <td>CITY2</td>\n",
       "      <td>0</td>\n",
       "      <td>0</td>\n",
       "      <td>0</td>\n",
       "      <td>Friday</td>\n",
       "      <td>19</td>\n",
       "      <td>19</td>\n",
       "      <td>19</td>\n",
       "      <td>1543</td>\n",
       "    </tr>\n",
       "    <tr>\n",
       "      <th>11787</th>\n",
       "      <td>CITY1</td>\n",
       "      <td>1</td>\n",
       "      <td>0</td>\n",
       "      <td>0</td>\n",
       "      <td>Thursday</td>\n",
       "      <td>40</td>\n",
       "      <td>40</td>\n",
       "      <td>40</td>\n",
       "      <td>183</td>\n",
       "    </tr>\n",
       "    <tr>\n",
       "      <th>...</th>\n",
       "      <td>...</td>\n",
       "      <td>...</td>\n",
       "      <td>...</td>\n",
       "      <td>...</td>\n",
       "      <td>...</td>\n",
       "      <td>...</td>\n",
       "      <td>...</td>\n",
       "      <td>...</td>\n",
       "      <td>...</td>\n",
       "    </tr>\n",
       "    <tr>\n",
       "      <th>15377</th>\n",
       "      <td>CITY4</td>\n",
       "      <td>0</td>\n",
       "      <td>0</td>\n",
       "      <td>0</td>\n",
       "      <td>Friday</td>\n",
       "      <td>1</td>\n",
       "      <td>1</td>\n",
       "      <td>1</td>\n",
       "      <td>41</td>\n",
       "    </tr>\n",
       "    <tr>\n",
       "      <th>21602</th>\n",
       "      <td>CITY4</td>\n",
       "      <td>1</td>\n",
       "      <td>0</td>\n",
       "      <td>0</td>\n",
       "      <td>Friday</td>\n",
       "      <td>1</td>\n",
       "      <td>1</td>\n",
       "      <td>1</td>\n",
       "      <td>41</td>\n",
       "    </tr>\n",
       "    <tr>\n",
       "      <th>17730</th>\n",
       "      <td>CITY1</td>\n",
       "      <td>1</td>\n",
       "      <td>1</td>\n",
       "      <td>1</td>\n",
       "      <td>Thursday</td>\n",
       "      <td>1</td>\n",
       "      <td>1</td>\n",
       "      <td>1</td>\n",
       "      <td>40</td>\n",
       "    </tr>\n",
       "    <tr>\n",
       "      <th>15725</th>\n",
       "      <td>CITY2</td>\n",
       "      <td>1</td>\n",
       "      <td>0</td>\n",
       "      <td>0</td>\n",
       "      <td>Thursday</td>\n",
       "      <td>1</td>\n",
       "      <td>1</td>\n",
       "      <td>1</td>\n",
       "      <td>41</td>\n",
       "    </tr>\n",
       "    <tr>\n",
       "      <th>19966</th>\n",
       "      <td>CITY1</td>\n",
       "      <td>0</td>\n",
       "      <td>0</td>\n",
       "      <td>0</td>\n",
       "      <td>Thursday</td>\n",
       "      <td>32</td>\n",
       "      <td>32</td>\n",
       "      <td>32</td>\n",
       "      <td>78</td>\n",
       "    </tr>\n",
       "  </tbody>\n",
       "</table>\n",
       "<p>17865 rows × 9 columns</p>\n",
       "</div>"
      ],
      "text/plain": [
       "        City  OnlineCommunication  AutomaticRefill  DoorstepDelivery  \\\n",
       "4252   CITY2                    1                1                 0   \n",
       "2138   CITY2                    0                0                 0   \n",
       "19063  CITY2                    0                0                 0   \n",
       "5457   CITY2                    0                0                 0   \n",
       "11787  CITY1                    1                0                 0   \n",
       "...      ...                  ...              ...               ...   \n",
       "15377  CITY4                    0                0                 0   \n",
       "21602  CITY4                    1                0                 0   \n",
       "17730  CITY1                    1                1                 1   \n",
       "15725  CITY2                    1                0                 0   \n",
       "19966  CITY1                    0                0                 0   \n",
       "\n",
       "      PreferredDeliveryDay  EmailType  MailOpened  MailClicked  OrderQuantity  \n",
       "4252                Monday         40          40           40            454  \n",
       "2138                Friday         42          42           42           3699  \n",
       "19063               Friday          1           1            1             69  \n",
       "5457                Friday         19          19           19           1543  \n",
       "11787             Thursday         40          40           40            183  \n",
       "...                    ...        ...         ...          ...            ...  \n",
       "15377               Friday          1           1            1             41  \n",
       "21602               Friday          1           1            1             41  \n",
       "17730             Thursday          1           1            1             40  \n",
       "15725             Thursday          1           1            1             41  \n",
       "19966             Thursday         32          32           32             78  \n",
       "\n",
       "[17865 rows x 9 columns]"
      ]
     },
     "execution_count": 96,
     "metadata": {},
     "output_type": "execute_result"
    }
   ],
   "source": [
    "x_train"
   ]
  },
  {
   "cell_type": "code",
   "execution_count": 97,
   "id": "b502a7b5",
   "metadata": {},
   "outputs": [
    {
     "data": {
      "text/plain": [
       "(17865, 9)"
      ]
     },
     "execution_count": 97,
     "metadata": {},
     "output_type": "execute_result"
    }
   ],
   "source": [
    "x_train.shape"
   ]
  },
  {
   "cell_type": "code",
   "execution_count": 98,
   "id": "e00f0738",
   "metadata": {},
   "outputs": [
    {
     "data": {
      "text/plain": [
       "City                    category\n",
       "OnlineCommunication        int64\n",
       "AutomaticRefill            int64\n",
       "DoorstepDelivery           int64\n",
       "PreferredDeliveryDay    category\n",
       "EmailType                  int64\n",
       "MailOpened                 int64\n",
       "MailClicked                int64\n",
       "OrderQuantity              int64\n",
       "dtype: object"
      ]
     },
     "execution_count": 98,
     "metadata": {},
     "output_type": "execute_result"
    }
   ],
   "source": [
    "x_train.dtypes"
   ]
  },
  {
   "cell_type": "code",
   "execution_count": 99,
   "id": "b5aac76f",
   "metadata": {},
   "outputs": [
    {
     "data": {
      "text/plain": [
       "(5955, 9)"
      ]
     },
     "execution_count": 99,
     "metadata": {},
     "output_type": "execute_result"
    }
   ],
   "source": [
    "x_valid.shape"
   ]
  },
  {
   "cell_type": "code",
   "execution_count": 100,
   "id": "32f72396",
   "metadata": {},
   "outputs": [
    {
     "data": {
      "text/plain": [
       "City                    category\n",
       "OnlineCommunication        int64\n",
       "AutomaticRefill            int64\n",
       "DoorstepDelivery           int64\n",
       "PreferredDeliveryDay    category\n",
       "EmailType                  int64\n",
       "MailOpened                 int64\n",
       "MailClicked                int64\n",
       "OrderQuantity              int64\n",
       "dtype: object"
      ]
     },
     "execution_count": 100,
     "metadata": {},
     "output_type": "execute_result"
    }
   ],
   "source": [
    "x_valid.dtypes"
   ]
  },
  {
   "cell_type": "code",
   "execution_count": 101,
   "id": "a216ee10",
   "metadata": {},
   "outputs": [
    {
     "data": {
      "text/plain": [
       "(17865,)"
      ]
     },
     "execution_count": 101,
     "metadata": {},
     "output_type": "execute_result"
    }
   ],
   "source": [
    "y_train.shape"
   ]
  },
  {
   "cell_type": "code",
   "execution_count": 102,
   "id": "e893c479",
   "metadata": {},
   "outputs": [
    {
     "data": {
      "text/plain": [
       "2    14369\n",
       "0     2837\n",
       "1      659\n",
       "Name: RetentionPotential, dtype: int64"
      ]
     },
     "execution_count": 102,
     "metadata": {},
     "output_type": "execute_result"
    }
   ],
   "source": [
    "y_train.value_counts()"
   ]
  },
  {
   "cell_type": "code",
   "execution_count": 103,
   "id": "09cfb98d",
   "metadata": {},
   "outputs": [
    {
     "data": {
      "text/plain": [
       "(5955,)"
      ]
     },
     "execution_count": 103,
     "metadata": {},
     "output_type": "execute_result"
    }
   ],
   "source": [
    "y_valid.shape"
   ]
  },
  {
   "cell_type": "code",
   "execution_count": 104,
   "id": "10c30b42",
   "metadata": {},
   "outputs": [
    {
     "data": {
      "text/plain": [
       "2    4816\n",
       "0     919\n",
       "1     220\n",
       "Name: RetentionPotential, dtype: int64"
      ]
     },
     "execution_count": 104,
     "metadata": {},
     "output_type": "execute_result"
    }
   ],
   "source": [
    "y_valid.value_counts()"
   ]
  },
  {
   "cell_type": "code",
   "execution_count": 105,
   "id": "eb22b978",
   "metadata": {},
   "outputs": [],
   "source": [
    "x1_train = pd.DataFrame(x_train[['OnlineCommunication','AutomaticRefill','DoorstepDelivery']])"
   ]
  },
  {
   "cell_type": "code",
   "execution_count": 106,
   "id": "81e6e8f3",
   "metadata": {},
   "outputs": [
    {
     "data": {
      "text/html": [
       "<div>\n",
       "<style scoped>\n",
       "    .dataframe tbody tr th:only-of-type {\n",
       "        vertical-align: middle;\n",
       "    }\n",
       "\n",
       "    .dataframe tbody tr th {\n",
       "        vertical-align: top;\n",
       "    }\n",
       "\n",
       "    .dataframe thead th {\n",
       "        text-align: right;\n",
       "    }\n",
       "</style>\n",
       "<table border=\"1\" class=\"dataframe\">\n",
       "  <thead>\n",
       "    <tr style=\"text-align: right;\">\n",
       "      <th></th>\n",
       "      <th>OnlineCommunication</th>\n",
       "      <th>AutomaticRefill</th>\n",
       "      <th>DoorstepDelivery</th>\n",
       "    </tr>\n",
       "  </thead>\n",
       "  <tbody>\n",
       "    <tr>\n",
       "      <th>4252</th>\n",
       "      <td>1</td>\n",
       "      <td>1</td>\n",
       "      <td>0</td>\n",
       "    </tr>\n",
       "    <tr>\n",
       "      <th>2138</th>\n",
       "      <td>0</td>\n",
       "      <td>0</td>\n",
       "      <td>0</td>\n",
       "    </tr>\n",
       "    <tr>\n",
       "      <th>19063</th>\n",
       "      <td>0</td>\n",
       "      <td>0</td>\n",
       "      <td>0</td>\n",
       "    </tr>\n",
       "    <tr>\n",
       "      <th>5457</th>\n",
       "      <td>0</td>\n",
       "      <td>0</td>\n",
       "      <td>0</td>\n",
       "    </tr>\n",
       "    <tr>\n",
       "      <th>11787</th>\n",
       "      <td>1</td>\n",
       "      <td>0</td>\n",
       "      <td>0</td>\n",
       "    </tr>\n",
       "    <tr>\n",
       "      <th>...</th>\n",
       "      <td>...</td>\n",
       "      <td>...</td>\n",
       "      <td>...</td>\n",
       "    </tr>\n",
       "    <tr>\n",
       "      <th>15377</th>\n",
       "      <td>0</td>\n",
       "      <td>0</td>\n",
       "      <td>0</td>\n",
       "    </tr>\n",
       "    <tr>\n",
       "      <th>21602</th>\n",
       "      <td>1</td>\n",
       "      <td>0</td>\n",
       "      <td>0</td>\n",
       "    </tr>\n",
       "    <tr>\n",
       "      <th>17730</th>\n",
       "      <td>1</td>\n",
       "      <td>1</td>\n",
       "      <td>1</td>\n",
       "    </tr>\n",
       "    <tr>\n",
       "      <th>15725</th>\n",
       "      <td>1</td>\n",
       "      <td>0</td>\n",
       "      <td>0</td>\n",
       "    </tr>\n",
       "    <tr>\n",
       "      <th>19966</th>\n",
       "      <td>0</td>\n",
       "      <td>0</td>\n",
       "      <td>0</td>\n",
       "    </tr>\n",
       "  </tbody>\n",
       "</table>\n",
       "<p>17865 rows × 3 columns</p>\n",
       "</div>"
      ],
      "text/plain": [
       "       OnlineCommunication  AutomaticRefill  DoorstepDelivery\n",
       "4252                     1                1                 0\n",
       "2138                     0                0                 0\n",
       "19063                    0                0                 0\n",
       "5457                     0                0                 0\n",
       "11787                    1                0                 0\n",
       "...                    ...              ...               ...\n",
       "15377                    0                0                 0\n",
       "21602                    1                0                 0\n",
       "17730                    1                1                 1\n",
       "15725                    1                0                 0\n",
       "19966                    0                0                 0\n",
       "\n",
       "[17865 rows x 3 columns]"
      ]
     },
     "execution_count": 106,
     "metadata": {},
     "output_type": "execute_result"
    }
   ],
   "source": [
    "x1_train"
   ]
  },
  {
   "cell_type": "code",
   "execution_count": 107,
   "id": "9e4af9a7",
   "metadata": {},
   "outputs": [
    {
     "data": {
      "text/plain": [
       "OnlineCommunication    0\n",
       "AutomaticRefill        0\n",
       "DoorstepDelivery       0\n",
       "dtype: int64"
      ]
     },
     "execution_count": 107,
     "metadata": {},
     "output_type": "execute_result"
    }
   ],
   "source": [
    "x1_train.isnull().sum()"
   ]
  },
  {
   "cell_type": "code",
   "execution_count": 108,
   "id": "afcd43cb",
   "metadata": {},
   "outputs": [],
   "source": [
    "x1_valid =  pd.DataFrame(x_valid[['OnlineCommunication','AutomaticRefill','DoorstepDelivery']])"
   ]
  },
  {
   "cell_type": "code",
   "execution_count": 109,
   "id": "e8e9bca1",
   "metadata": {},
   "outputs": [
    {
     "data": {
      "text/html": [
       "<div>\n",
       "<style scoped>\n",
       "    .dataframe tbody tr th:only-of-type {\n",
       "        vertical-align: middle;\n",
       "    }\n",
       "\n",
       "    .dataframe tbody tr th {\n",
       "        vertical-align: top;\n",
       "    }\n",
       "\n",
       "    .dataframe thead th {\n",
       "        text-align: right;\n",
       "    }\n",
       "</style>\n",
       "<table border=\"1\" class=\"dataframe\">\n",
       "  <thead>\n",
       "    <tr style=\"text-align: right;\">\n",
       "      <th></th>\n",
       "      <th>OnlineCommunication</th>\n",
       "      <th>AutomaticRefill</th>\n",
       "      <th>DoorstepDelivery</th>\n",
       "    </tr>\n",
       "  </thead>\n",
       "  <tbody>\n",
       "    <tr>\n",
       "      <th>16819</th>\n",
       "      <td>1</td>\n",
       "      <td>0</td>\n",
       "      <td>0</td>\n",
       "    </tr>\n",
       "    <tr>\n",
       "      <th>7844</th>\n",
       "      <td>0</td>\n",
       "      <td>0</td>\n",
       "      <td>0</td>\n",
       "    </tr>\n",
       "    <tr>\n",
       "      <th>23473</th>\n",
       "      <td>1</td>\n",
       "      <td>1</td>\n",
       "      <td>1</td>\n",
       "    </tr>\n",
       "    <tr>\n",
       "      <th>16711</th>\n",
       "      <td>1</td>\n",
       "      <td>0</td>\n",
       "      <td>0</td>\n",
       "    </tr>\n",
       "    <tr>\n",
       "      <th>1418</th>\n",
       "      <td>1</td>\n",
       "      <td>0</td>\n",
       "      <td>0</td>\n",
       "    </tr>\n",
       "    <tr>\n",
       "      <th>...</th>\n",
       "      <td>...</td>\n",
       "      <td>...</td>\n",
       "      <td>...</td>\n",
       "    </tr>\n",
       "    <tr>\n",
       "      <th>10712</th>\n",
       "      <td>1</td>\n",
       "      <td>0</td>\n",
       "      <td>0</td>\n",
       "    </tr>\n",
       "    <tr>\n",
       "      <th>13647</th>\n",
       "      <td>1</td>\n",
       "      <td>0</td>\n",
       "      <td>0</td>\n",
       "    </tr>\n",
       "    <tr>\n",
       "      <th>7111</th>\n",
       "      <td>0</td>\n",
       "      <td>0</td>\n",
       "      <td>0</td>\n",
       "    </tr>\n",
       "    <tr>\n",
       "      <th>15246</th>\n",
       "      <td>1</td>\n",
       "      <td>0</td>\n",
       "      <td>0</td>\n",
       "    </tr>\n",
       "    <tr>\n",
       "      <th>8609</th>\n",
       "      <td>1</td>\n",
       "      <td>0</td>\n",
       "      <td>0</td>\n",
       "    </tr>\n",
       "  </tbody>\n",
       "</table>\n",
       "<p>5955 rows × 3 columns</p>\n",
       "</div>"
      ],
      "text/plain": [
       "       OnlineCommunication  AutomaticRefill  DoorstepDelivery\n",
       "16819                    1                0                 0\n",
       "7844                     0                0                 0\n",
       "23473                    1                1                 1\n",
       "16711                    1                0                 0\n",
       "1418                     1                0                 0\n",
       "...                    ...              ...               ...\n",
       "10712                    1                0                 0\n",
       "13647                    1                0                 0\n",
       "7111                     0                0                 0\n",
       "15246                    1                0                 0\n",
       "8609                     1                0                 0\n",
       "\n",
       "[5955 rows x 3 columns]"
      ]
     },
     "execution_count": 109,
     "metadata": {},
     "output_type": "execute_result"
    }
   ],
   "source": [
    "x1_valid"
   ]
  },
  {
   "cell_type": "code",
   "execution_count": 110,
   "id": "81889899",
   "metadata": {},
   "outputs": [
    {
     "data": {
      "text/plain": [
       "OnlineCommunication    0\n",
       "AutomaticRefill        0\n",
       "DoorstepDelivery       0\n",
       "dtype: int64"
      ]
     },
     "execution_count": 110,
     "metadata": {},
     "output_type": "execute_result"
    }
   ],
   "source": [
    "x1_valid.isnull().sum()"
   ]
  },
  {
   "cell_type": "markdown",
   "id": "1145a492",
   "metadata": {},
   "source": [
    "**Convert Categorical to numerical**"
   ]
  },
  {
   "cell_type": "code",
   "execution_count": 111,
   "id": "27b812db",
   "metadata": {},
   "outputs": [],
   "source": [
    "from sklearn.preprocessing import OneHotEncoder\n",
    "enc = OneHotEncoder()"
   ]
  },
  {
   "cell_type": "code",
   "execution_count": 112,
   "id": "88053dc4",
   "metadata": {},
   "outputs": [],
   "source": [
    "cat_attr = x_train.select_dtypes(include=['category']).columns"
   ]
  },
  {
   "cell_type": "code",
   "execution_count": 113,
   "id": "f31b34e8",
   "metadata": {},
   "outputs": [
    {
     "data": {
      "text/plain": [
       "OneHotEncoder()"
      ]
     },
     "execution_count": 113,
     "metadata": {},
     "output_type": "execute_result"
    }
   ],
   "source": [
    "enc.fit(x_train[cat_attr])"
   ]
  },
  {
   "cell_type": "code",
   "execution_count": 114,
   "id": "83c1f4e2",
   "metadata": {},
   "outputs": [],
   "source": [
    "cols = list(enc.get_feature_names(cat_attr))"
   ]
  },
  {
   "cell_type": "code",
   "execution_count": 115,
   "id": "784b7e3a",
   "metadata": {},
   "outputs": [
    {
     "data": {
      "text/plain": [
       "['City_CITY1',\n",
       " 'City_CITY2',\n",
       " 'City_CITY3',\n",
       " 'City_CITY4',\n",
       " 'PreferredDeliveryDay_Friday',\n",
       " 'PreferredDeliveryDay_Monday',\n",
       " 'PreferredDeliveryDay_Saturday',\n",
       " 'PreferredDeliveryDay_Sunday',\n",
       " 'PreferredDeliveryDay_Thursday',\n",
       " 'PreferredDeliveryDay_Tuesday',\n",
       " 'PreferredDeliveryDay_Wednesday']"
      ]
     },
     "execution_count": 115,
     "metadata": {},
     "output_type": "execute_result"
    }
   ],
   "source": [
    "cols"
   ]
  },
  {
   "cell_type": "code",
   "execution_count": 116,
   "id": "c9b853c5",
   "metadata": {},
   "outputs": [],
   "source": [
    "\n",
    "x_train_ohe=pd.DataFrame(enc.transform(x_train[cat_attr]).toarray(),columns=cols)\n",
    "x_valid_ohe=pd.DataFrame(enc.transform(x_valid[cat_attr]).toarray(),columns=cols)"
   ]
  },
  {
   "cell_type": "code",
   "execution_count": 117,
   "id": "b3bc2f6b",
   "metadata": {},
   "outputs": [
    {
     "name": "stdout",
     "output_type": "stream",
     "text": [
      "(17865, 11)\n",
      "(5955, 11)\n"
     ]
    }
   ],
   "source": [
    "print(x_train_ohe.shape)\n",
    "print(x_valid_ohe.shape)"
   ]
  },
  {
   "cell_type": "code",
   "execution_count": 118,
   "id": "30d4d123",
   "metadata": {
    "scrolled": true
   },
   "outputs": [
    {
     "data": {
      "text/html": [
       "<div>\n",
       "<style scoped>\n",
       "    .dataframe tbody tr th:only-of-type {\n",
       "        vertical-align: middle;\n",
       "    }\n",
       "\n",
       "    .dataframe tbody tr th {\n",
       "        vertical-align: top;\n",
       "    }\n",
       "\n",
       "    .dataframe thead th {\n",
       "        text-align: right;\n",
       "    }\n",
       "</style>\n",
       "<table border=\"1\" class=\"dataframe\">\n",
       "  <thead>\n",
       "    <tr style=\"text-align: right;\">\n",
       "      <th></th>\n",
       "      <th>City_CITY1</th>\n",
       "      <th>City_CITY2</th>\n",
       "      <th>City_CITY3</th>\n",
       "      <th>City_CITY4</th>\n",
       "      <th>PreferredDeliveryDay_Friday</th>\n",
       "      <th>PreferredDeliveryDay_Monday</th>\n",
       "      <th>PreferredDeliveryDay_Saturday</th>\n",
       "      <th>PreferredDeliveryDay_Sunday</th>\n",
       "      <th>PreferredDeliveryDay_Thursday</th>\n",
       "      <th>PreferredDeliveryDay_Tuesday</th>\n",
       "      <th>PreferredDeliveryDay_Wednesday</th>\n",
       "    </tr>\n",
       "  </thead>\n",
       "  <tbody>\n",
       "    <tr>\n",
       "      <th>0</th>\n",
       "      <td>0.0</td>\n",
       "      <td>1.0</td>\n",
       "      <td>0.0</td>\n",
       "      <td>0.0</td>\n",
       "      <td>0.0</td>\n",
       "      <td>1.0</td>\n",
       "      <td>0.0</td>\n",
       "      <td>0.0</td>\n",
       "      <td>0.0</td>\n",
       "      <td>0.0</td>\n",
       "      <td>0.0</td>\n",
       "    </tr>\n",
       "    <tr>\n",
       "      <th>1</th>\n",
       "      <td>0.0</td>\n",
       "      <td>1.0</td>\n",
       "      <td>0.0</td>\n",
       "      <td>0.0</td>\n",
       "      <td>1.0</td>\n",
       "      <td>0.0</td>\n",
       "      <td>0.0</td>\n",
       "      <td>0.0</td>\n",
       "      <td>0.0</td>\n",
       "      <td>0.0</td>\n",
       "      <td>0.0</td>\n",
       "    </tr>\n",
       "    <tr>\n",
       "      <th>2</th>\n",
       "      <td>0.0</td>\n",
       "      <td>1.0</td>\n",
       "      <td>0.0</td>\n",
       "      <td>0.0</td>\n",
       "      <td>1.0</td>\n",
       "      <td>0.0</td>\n",
       "      <td>0.0</td>\n",
       "      <td>0.0</td>\n",
       "      <td>0.0</td>\n",
       "      <td>0.0</td>\n",
       "      <td>0.0</td>\n",
       "    </tr>\n",
       "    <tr>\n",
       "      <th>3</th>\n",
       "      <td>0.0</td>\n",
       "      <td>1.0</td>\n",
       "      <td>0.0</td>\n",
       "      <td>0.0</td>\n",
       "      <td>1.0</td>\n",
       "      <td>0.0</td>\n",
       "      <td>0.0</td>\n",
       "      <td>0.0</td>\n",
       "      <td>0.0</td>\n",
       "      <td>0.0</td>\n",
       "      <td>0.0</td>\n",
       "    </tr>\n",
       "    <tr>\n",
       "      <th>4</th>\n",
       "      <td>1.0</td>\n",
       "      <td>0.0</td>\n",
       "      <td>0.0</td>\n",
       "      <td>0.0</td>\n",
       "      <td>0.0</td>\n",
       "      <td>0.0</td>\n",
       "      <td>0.0</td>\n",
       "      <td>0.0</td>\n",
       "      <td>1.0</td>\n",
       "      <td>0.0</td>\n",
       "      <td>0.0</td>\n",
       "    </tr>\n",
       "    <tr>\n",
       "      <th>...</th>\n",
       "      <td>...</td>\n",
       "      <td>...</td>\n",
       "      <td>...</td>\n",
       "      <td>...</td>\n",
       "      <td>...</td>\n",
       "      <td>...</td>\n",
       "      <td>...</td>\n",
       "      <td>...</td>\n",
       "      <td>...</td>\n",
       "      <td>...</td>\n",
       "      <td>...</td>\n",
       "    </tr>\n",
       "    <tr>\n",
       "      <th>17860</th>\n",
       "      <td>0.0</td>\n",
       "      <td>0.0</td>\n",
       "      <td>0.0</td>\n",
       "      <td>1.0</td>\n",
       "      <td>1.0</td>\n",
       "      <td>0.0</td>\n",
       "      <td>0.0</td>\n",
       "      <td>0.0</td>\n",
       "      <td>0.0</td>\n",
       "      <td>0.0</td>\n",
       "      <td>0.0</td>\n",
       "    </tr>\n",
       "    <tr>\n",
       "      <th>17861</th>\n",
       "      <td>0.0</td>\n",
       "      <td>0.0</td>\n",
       "      <td>0.0</td>\n",
       "      <td>1.0</td>\n",
       "      <td>1.0</td>\n",
       "      <td>0.0</td>\n",
       "      <td>0.0</td>\n",
       "      <td>0.0</td>\n",
       "      <td>0.0</td>\n",
       "      <td>0.0</td>\n",
       "      <td>0.0</td>\n",
       "    </tr>\n",
       "    <tr>\n",
       "      <th>17862</th>\n",
       "      <td>1.0</td>\n",
       "      <td>0.0</td>\n",
       "      <td>0.0</td>\n",
       "      <td>0.0</td>\n",
       "      <td>0.0</td>\n",
       "      <td>0.0</td>\n",
       "      <td>0.0</td>\n",
       "      <td>0.0</td>\n",
       "      <td>1.0</td>\n",
       "      <td>0.0</td>\n",
       "      <td>0.0</td>\n",
       "    </tr>\n",
       "    <tr>\n",
       "      <th>17863</th>\n",
       "      <td>0.0</td>\n",
       "      <td>1.0</td>\n",
       "      <td>0.0</td>\n",
       "      <td>0.0</td>\n",
       "      <td>0.0</td>\n",
       "      <td>0.0</td>\n",
       "      <td>0.0</td>\n",
       "      <td>0.0</td>\n",
       "      <td>1.0</td>\n",
       "      <td>0.0</td>\n",
       "      <td>0.0</td>\n",
       "    </tr>\n",
       "    <tr>\n",
       "      <th>17864</th>\n",
       "      <td>1.0</td>\n",
       "      <td>0.0</td>\n",
       "      <td>0.0</td>\n",
       "      <td>0.0</td>\n",
       "      <td>0.0</td>\n",
       "      <td>0.0</td>\n",
       "      <td>0.0</td>\n",
       "      <td>0.0</td>\n",
       "      <td>1.0</td>\n",
       "      <td>0.0</td>\n",
       "      <td>0.0</td>\n",
       "    </tr>\n",
       "  </tbody>\n",
       "</table>\n",
       "<p>17865 rows × 11 columns</p>\n",
       "</div>"
      ],
      "text/plain": [
       "       City_CITY1  City_CITY2  City_CITY3  City_CITY4  \\\n",
       "0             0.0         1.0         0.0         0.0   \n",
       "1             0.0         1.0         0.0         0.0   \n",
       "2             0.0         1.0         0.0         0.0   \n",
       "3             0.0         1.0         0.0         0.0   \n",
       "4             1.0         0.0         0.0         0.0   \n",
       "...           ...         ...         ...         ...   \n",
       "17860         0.0         0.0         0.0         1.0   \n",
       "17861         0.0         0.0         0.0         1.0   \n",
       "17862         1.0         0.0         0.0         0.0   \n",
       "17863         0.0         1.0         0.0         0.0   \n",
       "17864         1.0         0.0         0.0         0.0   \n",
       "\n",
       "       PreferredDeliveryDay_Friday  PreferredDeliveryDay_Monday  \\\n",
       "0                              0.0                          1.0   \n",
       "1                              1.0                          0.0   \n",
       "2                              1.0                          0.0   \n",
       "3                              1.0                          0.0   \n",
       "4                              0.0                          0.0   \n",
       "...                            ...                          ...   \n",
       "17860                          1.0                          0.0   \n",
       "17861                          1.0                          0.0   \n",
       "17862                          0.0                          0.0   \n",
       "17863                          0.0                          0.0   \n",
       "17864                          0.0                          0.0   \n",
       "\n",
       "       PreferredDeliveryDay_Saturday  PreferredDeliveryDay_Sunday  \\\n",
       "0                                0.0                          0.0   \n",
       "1                                0.0                          0.0   \n",
       "2                                0.0                          0.0   \n",
       "3                                0.0                          0.0   \n",
       "4                                0.0                          0.0   \n",
       "...                              ...                          ...   \n",
       "17860                            0.0                          0.0   \n",
       "17861                            0.0                          0.0   \n",
       "17862                            0.0                          0.0   \n",
       "17863                            0.0                          0.0   \n",
       "17864                            0.0                          0.0   \n",
       "\n",
       "       PreferredDeliveryDay_Thursday  PreferredDeliveryDay_Tuesday  \\\n",
       "0                                0.0                           0.0   \n",
       "1                                0.0                           0.0   \n",
       "2                                0.0                           0.0   \n",
       "3                                0.0                           0.0   \n",
       "4                                1.0                           0.0   \n",
       "...                              ...                           ...   \n",
       "17860                            0.0                           0.0   \n",
       "17861                            0.0                           0.0   \n",
       "17862                            1.0                           0.0   \n",
       "17863                            1.0                           0.0   \n",
       "17864                            1.0                           0.0   \n",
       "\n",
       "       PreferredDeliveryDay_Wednesday  \n",
       "0                                 0.0  \n",
       "1                                 0.0  \n",
       "2                                 0.0  \n",
       "3                                 0.0  \n",
       "4                                 0.0  \n",
       "...                               ...  \n",
       "17860                             0.0  \n",
       "17861                             0.0  \n",
       "17862                             0.0  \n",
       "17863                             0.0  \n",
       "17864                             0.0  \n",
       "\n",
       "[17865 rows x 11 columns]"
      ]
     },
     "execution_count": 118,
     "metadata": {},
     "output_type": "execute_result"
    }
   ],
   "source": [
    "x_train_ohe"
   ]
  },
  {
   "cell_type": "code",
   "execution_count": 119,
   "id": "4cea2e3c",
   "metadata": {},
   "outputs": [
    {
     "data": {
      "text/html": [
       "<div>\n",
       "<style scoped>\n",
       "    .dataframe tbody tr th:only-of-type {\n",
       "        vertical-align: middle;\n",
       "    }\n",
       "\n",
       "    .dataframe tbody tr th {\n",
       "        vertical-align: top;\n",
       "    }\n",
       "\n",
       "    .dataframe thead th {\n",
       "        text-align: right;\n",
       "    }\n",
       "</style>\n",
       "<table border=\"1\" class=\"dataframe\">\n",
       "  <thead>\n",
       "    <tr style=\"text-align: right;\">\n",
       "      <th></th>\n",
       "      <th>City_CITY1</th>\n",
       "      <th>City_CITY2</th>\n",
       "      <th>City_CITY3</th>\n",
       "      <th>City_CITY4</th>\n",
       "      <th>PreferredDeliveryDay_Friday</th>\n",
       "      <th>PreferredDeliveryDay_Monday</th>\n",
       "      <th>PreferredDeliveryDay_Saturday</th>\n",
       "      <th>PreferredDeliveryDay_Sunday</th>\n",
       "      <th>PreferredDeliveryDay_Thursday</th>\n",
       "      <th>PreferredDeliveryDay_Tuesday</th>\n",
       "      <th>PreferredDeliveryDay_Wednesday</th>\n",
       "    </tr>\n",
       "  </thead>\n",
       "  <tbody>\n",
       "    <tr>\n",
       "      <th>0</th>\n",
       "      <td>0.0</td>\n",
       "      <td>0.0</td>\n",
       "      <td>1.0</td>\n",
       "      <td>0.0</td>\n",
       "      <td>0.0</td>\n",
       "      <td>0.0</td>\n",
       "      <td>0.0</td>\n",
       "      <td>0.0</td>\n",
       "      <td>1.0</td>\n",
       "      <td>0.0</td>\n",
       "      <td>0.0</td>\n",
       "    </tr>\n",
       "    <tr>\n",
       "      <th>1</th>\n",
       "      <td>0.0</td>\n",
       "      <td>1.0</td>\n",
       "      <td>0.0</td>\n",
       "      <td>0.0</td>\n",
       "      <td>0.0</td>\n",
       "      <td>0.0</td>\n",
       "      <td>0.0</td>\n",
       "      <td>0.0</td>\n",
       "      <td>0.0</td>\n",
       "      <td>1.0</td>\n",
       "      <td>0.0</td>\n",
       "    </tr>\n",
       "    <tr>\n",
       "      <th>2</th>\n",
       "      <td>1.0</td>\n",
       "      <td>0.0</td>\n",
       "      <td>0.0</td>\n",
       "      <td>0.0</td>\n",
       "      <td>0.0</td>\n",
       "      <td>0.0</td>\n",
       "      <td>0.0</td>\n",
       "      <td>0.0</td>\n",
       "      <td>1.0</td>\n",
       "      <td>0.0</td>\n",
       "      <td>0.0</td>\n",
       "    </tr>\n",
       "    <tr>\n",
       "      <th>3</th>\n",
       "      <td>0.0</td>\n",
       "      <td>1.0</td>\n",
       "      <td>0.0</td>\n",
       "      <td>0.0</td>\n",
       "      <td>0.0</td>\n",
       "      <td>1.0</td>\n",
       "      <td>0.0</td>\n",
       "      <td>0.0</td>\n",
       "      <td>0.0</td>\n",
       "      <td>0.0</td>\n",
       "      <td>0.0</td>\n",
       "    </tr>\n",
       "    <tr>\n",
       "      <th>4</th>\n",
       "      <td>1.0</td>\n",
       "      <td>0.0</td>\n",
       "      <td>0.0</td>\n",
       "      <td>0.0</td>\n",
       "      <td>0.0</td>\n",
       "      <td>0.0</td>\n",
       "      <td>0.0</td>\n",
       "      <td>0.0</td>\n",
       "      <td>0.0</td>\n",
       "      <td>1.0</td>\n",
       "      <td>0.0</td>\n",
       "    </tr>\n",
       "    <tr>\n",
       "      <th>...</th>\n",
       "      <td>...</td>\n",
       "      <td>...</td>\n",
       "      <td>...</td>\n",
       "      <td>...</td>\n",
       "      <td>...</td>\n",
       "      <td>...</td>\n",
       "      <td>...</td>\n",
       "      <td>...</td>\n",
       "      <td>...</td>\n",
       "      <td>...</td>\n",
       "      <td>...</td>\n",
       "    </tr>\n",
       "    <tr>\n",
       "      <th>5950</th>\n",
       "      <td>0.0</td>\n",
       "      <td>0.0</td>\n",
       "      <td>0.0</td>\n",
       "      <td>1.0</td>\n",
       "      <td>0.0</td>\n",
       "      <td>0.0</td>\n",
       "      <td>0.0</td>\n",
       "      <td>0.0</td>\n",
       "      <td>1.0</td>\n",
       "      <td>0.0</td>\n",
       "      <td>0.0</td>\n",
       "    </tr>\n",
       "    <tr>\n",
       "      <th>5951</th>\n",
       "      <td>0.0</td>\n",
       "      <td>0.0</td>\n",
       "      <td>0.0</td>\n",
       "      <td>1.0</td>\n",
       "      <td>0.0</td>\n",
       "      <td>0.0</td>\n",
       "      <td>0.0</td>\n",
       "      <td>0.0</td>\n",
       "      <td>0.0</td>\n",
       "      <td>1.0</td>\n",
       "      <td>0.0</td>\n",
       "    </tr>\n",
       "    <tr>\n",
       "      <th>5952</th>\n",
       "      <td>0.0</td>\n",
       "      <td>0.0</td>\n",
       "      <td>1.0</td>\n",
       "      <td>0.0</td>\n",
       "      <td>0.0</td>\n",
       "      <td>1.0</td>\n",
       "      <td>0.0</td>\n",
       "      <td>0.0</td>\n",
       "      <td>0.0</td>\n",
       "      <td>0.0</td>\n",
       "      <td>0.0</td>\n",
       "    </tr>\n",
       "    <tr>\n",
       "      <th>5953</th>\n",
       "      <td>0.0</td>\n",
       "      <td>1.0</td>\n",
       "      <td>0.0</td>\n",
       "      <td>0.0</td>\n",
       "      <td>0.0</td>\n",
       "      <td>1.0</td>\n",
       "      <td>0.0</td>\n",
       "      <td>0.0</td>\n",
       "      <td>0.0</td>\n",
       "      <td>0.0</td>\n",
       "      <td>0.0</td>\n",
       "    </tr>\n",
       "    <tr>\n",
       "      <th>5954</th>\n",
       "      <td>0.0</td>\n",
       "      <td>0.0</td>\n",
       "      <td>1.0</td>\n",
       "      <td>0.0</td>\n",
       "      <td>0.0</td>\n",
       "      <td>1.0</td>\n",
       "      <td>0.0</td>\n",
       "      <td>0.0</td>\n",
       "      <td>0.0</td>\n",
       "      <td>0.0</td>\n",
       "      <td>0.0</td>\n",
       "    </tr>\n",
       "  </tbody>\n",
       "</table>\n",
       "<p>5955 rows × 11 columns</p>\n",
       "</div>"
      ],
      "text/plain": [
       "      City_CITY1  City_CITY2  City_CITY3  City_CITY4  \\\n",
       "0            0.0         0.0         1.0         0.0   \n",
       "1            0.0         1.0         0.0         0.0   \n",
       "2            1.0         0.0         0.0         0.0   \n",
       "3            0.0         1.0         0.0         0.0   \n",
       "4            1.0         0.0         0.0         0.0   \n",
       "...          ...         ...         ...         ...   \n",
       "5950         0.0         0.0         0.0         1.0   \n",
       "5951         0.0         0.0         0.0         1.0   \n",
       "5952         0.0         0.0         1.0         0.0   \n",
       "5953         0.0         1.0         0.0         0.0   \n",
       "5954         0.0         0.0         1.0         0.0   \n",
       "\n",
       "      PreferredDeliveryDay_Friday  PreferredDeliveryDay_Monday  \\\n",
       "0                             0.0                          0.0   \n",
       "1                             0.0                          0.0   \n",
       "2                             0.0                          0.0   \n",
       "3                             0.0                          1.0   \n",
       "4                             0.0                          0.0   \n",
       "...                           ...                          ...   \n",
       "5950                          0.0                          0.0   \n",
       "5951                          0.0                          0.0   \n",
       "5952                          0.0                          1.0   \n",
       "5953                          0.0                          1.0   \n",
       "5954                          0.0                          1.0   \n",
       "\n",
       "      PreferredDeliveryDay_Saturday  PreferredDeliveryDay_Sunday  \\\n",
       "0                               0.0                          0.0   \n",
       "1                               0.0                          0.0   \n",
       "2                               0.0                          0.0   \n",
       "3                               0.0                          0.0   \n",
       "4                               0.0                          0.0   \n",
       "...                             ...                          ...   \n",
       "5950                            0.0                          0.0   \n",
       "5951                            0.0                          0.0   \n",
       "5952                            0.0                          0.0   \n",
       "5953                            0.0                          0.0   \n",
       "5954                            0.0                          0.0   \n",
       "\n",
       "      PreferredDeliveryDay_Thursday  PreferredDeliveryDay_Tuesday  \\\n",
       "0                               1.0                           0.0   \n",
       "1                               0.0                           1.0   \n",
       "2                               1.0                           0.0   \n",
       "3                               0.0                           0.0   \n",
       "4                               0.0                           1.0   \n",
       "...                             ...                           ...   \n",
       "5950                            1.0                           0.0   \n",
       "5951                            0.0                           1.0   \n",
       "5952                            0.0                           0.0   \n",
       "5953                            0.0                           0.0   \n",
       "5954                            0.0                           0.0   \n",
       "\n",
       "      PreferredDeliveryDay_Wednesday  \n",
       "0                                0.0  \n",
       "1                                0.0  \n",
       "2                                0.0  \n",
       "3                                0.0  \n",
       "4                                0.0  \n",
       "...                              ...  \n",
       "5950                             0.0  \n",
       "5951                             0.0  \n",
       "5952                             0.0  \n",
       "5953                             0.0  \n",
       "5954                             0.0  \n",
       "\n",
       "[5955 rows x 11 columns]"
      ]
     },
     "execution_count": 119,
     "metadata": {},
     "output_type": "execute_result"
    }
   ],
   "source": [
    "x_valid_ohe"
   ]
  },
  {
   "cell_type": "markdown",
   "id": "3a27cbb9",
   "metadata": {},
   "source": [
    "**standardize numerical variables**"
   ]
  },
  {
   "cell_type": "code",
   "execution_count": 120,
   "id": "3fc14546",
   "metadata": {},
   "outputs": [],
   "source": [
    "num_attr_train = x_train[['OrderQuantity','EmailType','MailOpened','MailClicked']]"
   ]
  },
  {
   "cell_type": "code",
   "execution_count": 121,
   "id": "0a6d664c",
   "metadata": {},
   "outputs": [],
   "source": [
    "num_attr_valid = x_valid[['OrderQuantity','EmailType','MailOpened','MailClicked']]"
   ]
  },
  {
   "cell_type": "code",
   "execution_count": 122,
   "id": "ff0d20f7",
   "metadata": {},
   "outputs": [],
   "source": [
    "from sklearn.preprocessing import StandardScaler\n",
    "scaler = StandardScaler()\n",
    "scaler.fit(num_attr_train)\n",
    "col=['OrderQuantity','EmailType','MailOpened','MailClicked']\n",
    "\n",
    "x_train_std =pd.DataFrame(scaler.transform(num_attr_train),columns=col)\n",
    "x_valid_std =pd.DataFrame(scaler.transform(num_attr_valid),columns=col)"
   ]
  },
  {
   "cell_type": "code",
   "execution_count": 123,
   "id": "19b657e1",
   "metadata": {},
   "outputs": [
    {
     "name": "stdout",
     "output_type": "stream",
     "text": [
      "(17865, 4)\n",
      "(5955, 4)\n"
     ]
    }
   ],
   "source": [
    "print(x_train_std.shape)\n",
    "print(x_valid_std.shape)"
   ]
  },
  {
   "cell_type": "code",
   "execution_count": 124,
   "id": "67b2d38f",
   "metadata": {},
   "outputs": [
    {
     "data": {
      "text/plain": [
       "(17865, 11)"
      ]
     },
     "execution_count": 124,
     "metadata": {},
     "output_type": "execute_result"
    }
   ],
   "source": [
    " x_train_ohe.shape"
   ]
  },
  {
   "cell_type": "code",
   "execution_count": 125,
   "id": "071462eb",
   "metadata": {},
   "outputs": [
    {
     "data": {
      "text/plain": [
       "(5955, 11)"
      ]
     },
     "execution_count": 125,
     "metadata": {},
     "output_type": "execute_result"
    }
   ],
   "source": [
    "x_valid_ohe.shape"
   ]
  },
  {
   "cell_type": "code",
   "execution_count": 126,
   "id": "cfd83ae1",
   "metadata": {},
   "outputs": [
    {
     "data": {
      "text/plain": [
       "(17865, 4)"
      ]
     },
     "execution_count": 126,
     "metadata": {},
     "output_type": "execute_result"
    }
   ],
   "source": [
    "x_train_std.shape"
   ]
  },
  {
   "cell_type": "markdown",
   "id": "19dcbe40",
   "metadata": {},
   "source": [
    "**Concatenate**\n"
   ]
  },
  {
   "cell_type": "code",
   "execution_count": 127,
   "id": "4b1e7786",
   "metadata": {},
   "outputs": [],
   "source": [
    "x_train_co = pd.concat([x_train_std, x_train_ohe], axis=1)\n",
    "x_valid_co = pd.concat([x_valid_std, x_valid_ohe], axis=1)"
   ]
  },
  {
   "cell_type": "code",
   "execution_count": 128,
   "id": "3e9e4e2a",
   "metadata": {},
   "outputs": [],
   "source": [
    "x_train_co1=pd.concat([x_train_co, x1_train], axis=1,join='outer')"
   ]
  },
  {
   "cell_type": "code",
   "execution_count": 129,
   "id": "c2c03ff4",
   "metadata": {},
   "outputs": [
    {
     "data": {
      "text/plain": [
       "(17865, 15)"
      ]
     },
     "execution_count": 129,
     "metadata": {},
     "output_type": "execute_result"
    }
   ],
   "source": [
    "x_train_co.shape"
   ]
  },
  {
   "cell_type": "code",
   "execution_count": 130,
   "id": "c4cb46da",
   "metadata": {},
   "outputs": [
    {
     "name": "stdout",
     "output_type": "stream",
     "text": [
      "(17865, 15)\n",
      "(5955, 15)\n"
     ]
    }
   ],
   "source": [
    "print(x_train_co.shape)\n",
    "print(x_valid_co.shape)"
   ]
  },
  {
   "cell_type": "code",
   "execution_count": 131,
   "id": "50eb879d",
   "metadata": {},
   "outputs": [],
   "source": [
    "x_train_con = x_train_co.join(x1_train)\n",
    "x_valid_con = x_valid_co.join(x1_valid) "
   ]
  },
  {
   "cell_type": "code",
   "execution_count": 132,
   "id": "1c8c7691",
   "metadata": {},
   "outputs": [
    {
     "data": {
      "text/html": [
       "<div>\n",
       "<style scoped>\n",
       "    .dataframe tbody tr th:only-of-type {\n",
       "        vertical-align: middle;\n",
       "    }\n",
       "\n",
       "    .dataframe tbody tr th {\n",
       "        vertical-align: top;\n",
       "    }\n",
       "\n",
       "    .dataframe thead th {\n",
       "        text-align: right;\n",
       "    }\n",
       "</style>\n",
       "<table border=\"1\" class=\"dataframe\">\n",
       "  <thead>\n",
       "    <tr style=\"text-align: right;\">\n",
       "      <th></th>\n",
       "      <th>OrderQuantity</th>\n",
       "      <th>EmailType</th>\n",
       "      <th>MailOpened</th>\n",
       "      <th>MailClicked</th>\n",
       "      <th>City_CITY1</th>\n",
       "      <th>City_CITY2</th>\n",
       "      <th>City_CITY3</th>\n",
       "      <th>City_CITY4</th>\n",
       "      <th>PreferredDeliveryDay_Friday</th>\n",
       "      <th>PreferredDeliveryDay_Monday</th>\n",
       "      <th>PreferredDeliveryDay_Saturday</th>\n",
       "      <th>PreferredDeliveryDay_Sunday</th>\n",
       "      <th>PreferredDeliveryDay_Thursday</th>\n",
       "      <th>PreferredDeliveryDay_Tuesday</th>\n",
       "      <th>PreferredDeliveryDay_Wednesday</th>\n",
       "      <th>OnlineCommunication</th>\n",
       "      <th>AutomaticRefill</th>\n",
       "      <th>DoorstepDelivery</th>\n",
       "    </tr>\n",
       "  </thead>\n",
       "  <tbody>\n",
       "    <tr>\n",
       "      <th>0</th>\n",
       "      <td>0.060261</td>\n",
       "      <td>0.906318</td>\n",
       "      <td>0.906318</td>\n",
       "      <td>0.906318</td>\n",
       "      <td>0.0</td>\n",
       "      <td>1.0</td>\n",
       "      <td>0.0</td>\n",
       "      <td>0.0</td>\n",
       "      <td>0.0</td>\n",
       "      <td>1.0</td>\n",
       "      <td>0.0</td>\n",
       "      <td>0.0</td>\n",
       "      <td>0.0</td>\n",
       "      <td>0.0</td>\n",
       "      <td>0.0</td>\n",
       "      <td>0.0</td>\n",
       "      <td>0.0</td>\n",
       "      <td>0.0</td>\n",
       "    </tr>\n",
       "    <tr>\n",
       "      <th>1</th>\n",
       "      <td>2.361158</td>\n",
       "      <td>1.005956</td>\n",
       "      <td>1.005956</td>\n",
       "      <td>1.005956</td>\n",
       "      <td>0.0</td>\n",
       "      <td>1.0</td>\n",
       "      <td>0.0</td>\n",
       "      <td>0.0</td>\n",
       "      <td>1.0</td>\n",
       "      <td>0.0</td>\n",
       "      <td>0.0</td>\n",
       "      <td>0.0</td>\n",
       "      <td>0.0</td>\n",
       "      <td>0.0</td>\n",
       "      <td>0.0</td>\n",
       "      <td>1.0</td>\n",
       "      <td>1.0</td>\n",
       "      <td>1.0</td>\n",
       "    </tr>\n",
       "    <tr>\n",
       "      <th>2</th>\n",
       "      <td>-0.212727</td>\n",
       "      <td>-1.036617</td>\n",
       "      <td>-1.036617</td>\n",
       "      <td>-1.036617</td>\n",
       "      <td>0.0</td>\n",
       "      <td>1.0</td>\n",
       "      <td>0.0</td>\n",
       "      <td>0.0</td>\n",
       "      <td>1.0</td>\n",
       "      <td>0.0</td>\n",
       "      <td>0.0</td>\n",
       "      <td>0.0</td>\n",
       "      <td>0.0</td>\n",
       "      <td>0.0</td>\n",
       "      <td>0.0</td>\n",
       "      <td>0.0</td>\n",
       "      <td>0.0</td>\n",
       "      <td>0.0</td>\n",
       "    </tr>\n",
       "    <tr>\n",
       "      <th>3</th>\n",
       "      <td>0.832426</td>\n",
       "      <td>-0.139878</td>\n",
       "      <td>-0.139878</td>\n",
       "      <td>-0.139878</td>\n",
       "      <td>0.0</td>\n",
       "      <td>1.0</td>\n",
       "      <td>0.0</td>\n",
       "      <td>0.0</td>\n",
       "      <td>1.0</td>\n",
       "      <td>0.0</td>\n",
       "      <td>0.0</td>\n",
       "      <td>0.0</td>\n",
       "      <td>0.0</td>\n",
       "      <td>0.0</td>\n",
       "      <td>0.0</td>\n",
       "      <td>0.0</td>\n",
       "      <td>0.0</td>\n",
       "      <td>0.0</td>\n",
       "    </tr>\n",
       "    <tr>\n",
       "      <th>4</th>\n",
       "      <td>-0.131894</td>\n",
       "      <td>0.906318</td>\n",
       "      <td>0.906318</td>\n",
       "      <td>0.906318</td>\n",
       "      <td>1.0</td>\n",
       "      <td>0.0</td>\n",
       "      <td>0.0</td>\n",
       "      <td>0.0</td>\n",
       "      <td>0.0</td>\n",
       "      <td>0.0</td>\n",
       "      <td>0.0</td>\n",
       "      <td>0.0</td>\n",
       "      <td>1.0</td>\n",
       "      <td>0.0</td>\n",
       "      <td>0.0</td>\n",
       "      <td>1.0</td>\n",
       "      <td>1.0</td>\n",
       "      <td>0.0</td>\n",
       "    </tr>\n",
       "    <tr>\n",
       "      <th>...</th>\n",
       "      <td>...</td>\n",
       "      <td>...</td>\n",
       "      <td>...</td>\n",
       "      <td>...</td>\n",
       "      <td>...</td>\n",
       "      <td>...</td>\n",
       "      <td>...</td>\n",
       "      <td>...</td>\n",
       "      <td>...</td>\n",
       "      <td>...</td>\n",
       "      <td>...</td>\n",
       "      <td>...</td>\n",
       "      <td>...</td>\n",
       "      <td>...</td>\n",
       "      <td>...</td>\n",
       "      <td>...</td>\n",
       "      <td>...</td>\n",
       "      <td>...</td>\n",
       "    </tr>\n",
       "    <tr>\n",
       "      <th>17860</th>\n",
       "      <td>-0.232581</td>\n",
       "      <td>-1.036617</td>\n",
       "      <td>-1.036617</td>\n",
       "      <td>-1.036617</td>\n",
       "      <td>0.0</td>\n",
       "      <td>0.0</td>\n",
       "      <td>0.0</td>\n",
       "      <td>1.0</td>\n",
       "      <td>1.0</td>\n",
       "      <td>0.0</td>\n",
       "      <td>0.0</td>\n",
       "      <td>0.0</td>\n",
       "      <td>0.0</td>\n",
       "      <td>0.0</td>\n",
       "      <td>0.0</td>\n",
       "      <td>1.0</td>\n",
       "      <td>0.0</td>\n",
       "      <td>0.0</td>\n",
       "    </tr>\n",
       "    <tr>\n",
       "      <th>17861</th>\n",
       "      <td>-0.232581</td>\n",
       "      <td>-1.036617</td>\n",
       "      <td>-1.036617</td>\n",
       "      <td>-1.036617</td>\n",
       "      <td>0.0</td>\n",
       "      <td>0.0</td>\n",
       "      <td>0.0</td>\n",
       "      <td>1.0</td>\n",
       "      <td>1.0</td>\n",
       "      <td>0.0</td>\n",
       "      <td>0.0</td>\n",
       "      <td>0.0</td>\n",
       "      <td>0.0</td>\n",
       "      <td>0.0</td>\n",
       "      <td>0.0</td>\n",
       "      <td>1.0</td>\n",
       "      <td>0.0</td>\n",
       "      <td>0.0</td>\n",
       "    </tr>\n",
       "    <tr>\n",
       "      <th>17862</th>\n",
       "      <td>-0.233290</td>\n",
       "      <td>-1.036617</td>\n",
       "      <td>-1.036617</td>\n",
       "      <td>-1.036617</td>\n",
       "      <td>1.0</td>\n",
       "      <td>0.0</td>\n",
       "      <td>0.0</td>\n",
       "      <td>0.0</td>\n",
       "      <td>0.0</td>\n",
       "      <td>0.0</td>\n",
       "      <td>0.0</td>\n",
       "      <td>0.0</td>\n",
       "      <td>1.0</td>\n",
       "      <td>0.0</td>\n",
       "      <td>0.0</td>\n",
       "      <td>1.0</td>\n",
       "      <td>0.0</td>\n",
       "      <td>0.0</td>\n",
       "    </tr>\n",
       "    <tr>\n",
       "      <th>17863</th>\n",
       "      <td>-0.232581</td>\n",
       "      <td>-1.036617</td>\n",
       "      <td>-1.036617</td>\n",
       "      <td>-1.036617</td>\n",
       "      <td>0.0</td>\n",
       "      <td>1.0</td>\n",
       "      <td>0.0</td>\n",
       "      <td>0.0</td>\n",
       "      <td>0.0</td>\n",
       "      <td>0.0</td>\n",
       "      <td>0.0</td>\n",
       "      <td>0.0</td>\n",
       "      <td>1.0</td>\n",
       "      <td>0.0</td>\n",
       "      <td>0.0</td>\n",
       "      <td>1.0</td>\n",
       "      <td>0.0</td>\n",
       "      <td>0.0</td>\n",
       "    </tr>\n",
       "    <tr>\n",
       "      <th>17864</th>\n",
       "      <td>-0.206345</td>\n",
       "      <td>0.507767</td>\n",
       "      <td>0.507767</td>\n",
       "      <td>0.507767</td>\n",
       "      <td>1.0</td>\n",
       "      <td>0.0</td>\n",
       "      <td>0.0</td>\n",
       "      <td>0.0</td>\n",
       "      <td>0.0</td>\n",
       "      <td>0.0</td>\n",
       "      <td>0.0</td>\n",
       "      <td>0.0</td>\n",
       "      <td>1.0</td>\n",
       "      <td>0.0</td>\n",
       "      <td>0.0</td>\n",
       "      <td>1.0</td>\n",
       "      <td>0.0</td>\n",
       "      <td>0.0</td>\n",
       "    </tr>\n",
       "  </tbody>\n",
       "</table>\n",
       "<p>17865 rows × 18 columns</p>\n",
       "</div>"
      ],
      "text/plain": [
       "       OrderQuantity  EmailType  MailOpened  MailClicked  City_CITY1  \\\n",
       "0           0.060261   0.906318    0.906318     0.906318         0.0   \n",
       "1           2.361158   1.005956    1.005956     1.005956         0.0   \n",
       "2          -0.212727  -1.036617   -1.036617    -1.036617         0.0   \n",
       "3           0.832426  -0.139878   -0.139878    -0.139878         0.0   \n",
       "4          -0.131894   0.906318    0.906318     0.906318         1.0   \n",
       "...              ...        ...         ...          ...         ...   \n",
       "17860      -0.232581  -1.036617   -1.036617    -1.036617         0.0   \n",
       "17861      -0.232581  -1.036617   -1.036617    -1.036617         0.0   \n",
       "17862      -0.233290  -1.036617   -1.036617    -1.036617         1.0   \n",
       "17863      -0.232581  -1.036617   -1.036617    -1.036617         0.0   \n",
       "17864      -0.206345   0.507767    0.507767     0.507767         1.0   \n",
       "\n",
       "       City_CITY2  City_CITY3  City_CITY4  PreferredDeliveryDay_Friday  \\\n",
       "0             1.0         0.0         0.0                          0.0   \n",
       "1             1.0         0.0         0.0                          1.0   \n",
       "2             1.0         0.0         0.0                          1.0   \n",
       "3             1.0         0.0         0.0                          1.0   \n",
       "4             0.0         0.0         0.0                          0.0   \n",
       "...           ...         ...         ...                          ...   \n",
       "17860         0.0         0.0         1.0                          1.0   \n",
       "17861         0.0         0.0         1.0                          1.0   \n",
       "17862         0.0         0.0         0.0                          0.0   \n",
       "17863         1.0         0.0         0.0                          0.0   \n",
       "17864         0.0         0.0         0.0                          0.0   \n",
       "\n",
       "       PreferredDeliveryDay_Monday  PreferredDeliveryDay_Saturday  \\\n",
       "0                              1.0                            0.0   \n",
       "1                              0.0                            0.0   \n",
       "2                              0.0                            0.0   \n",
       "3                              0.0                            0.0   \n",
       "4                              0.0                            0.0   \n",
       "...                            ...                            ...   \n",
       "17860                          0.0                            0.0   \n",
       "17861                          0.0                            0.0   \n",
       "17862                          0.0                            0.0   \n",
       "17863                          0.0                            0.0   \n",
       "17864                          0.0                            0.0   \n",
       "\n",
       "       PreferredDeliveryDay_Sunday  PreferredDeliveryDay_Thursday  \\\n",
       "0                              0.0                            0.0   \n",
       "1                              0.0                            0.0   \n",
       "2                              0.0                            0.0   \n",
       "3                              0.0                            0.0   \n",
       "4                              0.0                            1.0   \n",
       "...                            ...                            ...   \n",
       "17860                          0.0                            0.0   \n",
       "17861                          0.0                            0.0   \n",
       "17862                          0.0                            1.0   \n",
       "17863                          0.0                            1.0   \n",
       "17864                          0.0                            1.0   \n",
       "\n",
       "       PreferredDeliveryDay_Tuesday  PreferredDeliveryDay_Wednesday  \\\n",
       "0                               0.0                             0.0   \n",
       "1                               0.0                             0.0   \n",
       "2                               0.0                             0.0   \n",
       "3                               0.0                             0.0   \n",
       "4                               0.0                             0.0   \n",
       "...                             ...                             ...   \n",
       "17860                           0.0                             0.0   \n",
       "17861                           0.0                             0.0   \n",
       "17862                           0.0                             0.0   \n",
       "17863                           0.0                             0.0   \n",
       "17864                           0.0                             0.0   \n",
       "\n",
       "       OnlineCommunication  AutomaticRefill  DoorstepDelivery  \n",
       "0                      0.0              0.0               0.0  \n",
       "1                      1.0              1.0               1.0  \n",
       "2                      0.0              0.0               0.0  \n",
       "3                      0.0              0.0               0.0  \n",
       "4                      1.0              1.0               0.0  \n",
       "...                    ...              ...               ...  \n",
       "17860                  1.0              0.0               0.0  \n",
       "17861                  1.0              0.0               0.0  \n",
       "17862                  1.0              0.0               0.0  \n",
       "17863                  1.0              0.0               0.0  \n",
       "17864                  1.0              0.0               0.0  \n",
       "\n",
       "[17865 rows x 18 columns]"
      ]
     },
     "execution_count": 132,
     "metadata": {},
     "output_type": "execute_result"
    }
   ],
   "source": [
    "x_train_con"
   ]
  },
  {
   "cell_type": "code",
   "execution_count": 133,
   "id": "5e22850e",
   "metadata": {},
   "outputs": [
    {
     "data": {
      "text/html": [
       "<div>\n",
       "<style scoped>\n",
       "    .dataframe tbody tr th:only-of-type {\n",
       "        vertical-align: middle;\n",
       "    }\n",
       "\n",
       "    .dataframe tbody tr th {\n",
       "        vertical-align: top;\n",
       "    }\n",
       "\n",
       "    .dataframe thead th {\n",
       "        text-align: right;\n",
       "    }\n",
       "</style>\n",
       "<table border=\"1\" class=\"dataframe\">\n",
       "  <thead>\n",
       "    <tr style=\"text-align: right;\">\n",
       "      <th></th>\n",
       "      <th>OrderQuantity</th>\n",
       "      <th>EmailType</th>\n",
       "      <th>MailOpened</th>\n",
       "      <th>MailClicked</th>\n",
       "      <th>City_CITY1</th>\n",
       "      <th>City_CITY2</th>\n",
       "      <th>City_CITY3</th>\n",
       "      <th>City_CITY4</th>\n",
       "      <th>PreferredDeliveryDay_Friday</th>\n",
       "      <th>PreferredDeliveryDay_Monday</th>\n",
       "      <th>PreferredDeliveryDay_Saturday</th>\n",
       "      <th>PreferredDeliveryDay_Sunday</th>\n",
       "      <th>PreferredDeliveryDay_Thursday</th>\n",
       "      <th>PreferredDeliveryDay_Tuesday</th>\n",
       "      <th>PreferredDeliveryDay_Wednesday</th>\n",
       "      <th>OnlineCommunication</th>\n",
       "      <th>AutomaticRefill</th>\n",
       "      <th>DoorstepDelivery</th>\n",
       "    </tr>\n",
       "  </thead>\n",
       "  <tbody>\n",
       "    <tr>\n",
       "      <th>0</th>\n",
       "      <td>-0.236126</td>\n",
       "      <td>-1.036617</td>\n",
       "      <td>-1.036617</td>\n",
       "      <td>-1.036617</td>\n",
       "      <td>0.0</td>\n",
       "      <td>0.0</td>\n",
       "      <td>1.0</td>\n",
       "      <td>0.0</td>\n",
       "      <td>0.0</td>\n",
       "      <td>0.0</td>\n",
       "      <td>0.0</td>\n",
       "      <td>0.0</td>\n",
       "      <td>1.0</td>\n",
       "      <td>0.0</td>\n",
       "      <td>0.0</td>\n",
       "      <td>NaN</td>\n",
       "      <td>NaN</td>\n",
       "      <td>NaN</td>\n",
       "    </tr>\n",
       "    <tr>\n",
       "      <th>1</th>\n",
       "      <td>0.037571</td>\n",
       "      <td>1.055775</td>\n",
       "      <td>1.055775</td>\n",
       "      <td>1.055775</td>\n",
       "      <td>0.0</td>\n",
       "      <td>1.0</td>\n",
       "      <td>0.0</td>\n",
       "      <td>0.0</td>\n",
       "      <td>0.0</td>\n",
       "      <td>0.0</td>\n",
       "      <td>0.0</td>\n",
       "      <td>0.0</td>\n",
       "      <td>0.0</td>\n",
       "      <td>1.0</td>\n",
       "      <td>0.0</td>\n",
       "      <td>NaN</td>\n",
       "      <td>NaN</td>\n",
       "      <td>NaN</td>\n",
       "    </tr>\n",
       "    <tr>\n",
       "      <th>2</th>\n",
       "      <td>0.241780</td>\n",
       "      <td>0.358311</td>\n",
       "      <td>0.358311</td>\n",
       "      <td>0.358311</td>\n",
       "      <td>1.0</td>\n",
       "      <td>0.0</td>\n",
       "      <td>0.0</td>\n",
       "      <td>0.0</td>\n",
       "      <td>0.0</td>\n",
       "      <td>0.0</td>\n",
       "      <td>0.0</td>\n",
       "      <td>0.0</td>\n",
       "      <td>1.0</td>\n",
       "      <td>0.0</td>\n",
       "      <td>0.0</td>\n",
       "      <td>NaN</td>\n",
       "      <td>NaN</td>\n",
       "      <td>NaN</td>\n",
       "    </tr>\n",
       "    <tr>\n",
       "      <th>3</th>\n",
       "      <td>-0.236126</td>\n",
       "      <td>-1.036617</td>\n",
       "      <td>-1.036617</td>\n",
       "      <td>-1.036617</td>\n",
       "      <td>0.0</td>\n",
       "      <td>1.0</td>\n",
       "      <td>0.0</td>\n",
       "      <td>0.0</td>\n",
       "      <td>0.0</td>\n",
       "      <td>1.0</td>\n",
       "      <td>0.0</td>\n",
       "      <td>0.0</td>\n",
       "      <td>0.0</td>\n",
       "      <td>0.0</td>\n",
       "      <td>0.0</td>\n",
       "      <td>NaN</td>\n",
       "      <td>NaN</td>\n",
       "      <td>NaN</td>\n",
       "    </tr>\n",
       "    <tr>\n",
       "      <th>4</th>\n",
       "      <td>0.057425</td>\n",
       "      <td>1.454325</td>\n",
       "      <td>1.454325</td>\n",
       "      <td>1.454325</td>\n",
       "      <td>1.0</td>\n",
       "      <td>0.0</td>\n",
       "      <td>0.0</td>\n",
       "      <td>0.0</td>\n",
       "      <td>0.0</td>\n",
       "      <td>0.0</td>\n",
       "      <td>0.0</td>\n",
       "      <td>0.0</td>\n",
       "      <td>0.0</td>\n",
       "      <td>1.0</td>\n",
       "      <td>0.0</td>\n",
       "      <td>NaN</td>\n",
       "      <td>NaN</td>\n",
       "      <td>NaN</td>\n",
       "    </tr>\n",
       "    <tr>\n",
       "      <th>...</th>\n",
       "      <td>...</td>\n",
       "      <td>...</td>\n",
       "      <td>...</td>\n",
       "      <td>...</td>\n",
       "      <td>...</td>\n",
       "      <td>...</td>\n",
       "      <td>...</td>\n",
       "      <td>...</td>\n",
       "      <td>...</td>\n",
       "      <td>...</td>\n",
       "      <td>...</td>\n",
       "      <td>...</td>\n",
       "      <td>...</td>\n",
       "      <td>...</td>\n",
       "      <td>...</td>\n",
       "      <td>...</td>\n",
       "      <td>...</td>\n",
       "      <td>...</td>\n",
       "    </tr>\n",
       "    <tr>\n",
       "      <th>5950</th>\n",
       "      <td>-0.232581</td>\n",
       "      <td>-1.036617</td>\n",
       "      <td>-1.036617</td>\n",
       "      <td>-1.036617</td>\n",
       "      <td>0.0</td>\n",
       "      <td>0.0</td>\n",
       "      <td>0.0</td>\n",
       "      <td>1.0</td>\n",
       "      <td>0.0</td>\n",
       "      <td>0.0</td>\n",
       "      <td>0.0</td>\n",
       "      <td>0.0</td>\n",
       "      <td>1.0</td>\n",
       "      <td>0.0</td>\n",
       "      <td>0.0</td>\n",
       "      <td>NaN</td>\n",
       "      <td>NaN</td>\n",
       "      <td>NaN</td>\n",
       "    </tr>\n",
       "    <tr>\n",
       "      <th>5951</th>\n",
       "      <td>-0.224072</td>\n",
       "      <td>-1.036617</td>\n",
       "      <td>-1.036617</td>\n",
       "      <td>-1.036617</td>\n",
       "      <td>0.0</td>\n",
       "      <td>0.0</td>\n",
       "      <td>0.0</td>\n",
       "      <td>1.0</td>\n",
       "      <td>0.0</td>\n",
       "      <td>0.0</td>\n",
       "      <td>0.0</td>\n",
       "      <td>0.0</td>\n",
       "      <td>0.0</td>\n",
       "      <td>1.0</td>\n",
       "      <td>0.0</td>\n",
       "      <td>NaN</td>\n",
       "      <td>NaN</td>\n",
       "      <td>NaN</td>\n",
       "    </tr>\n",
       "    <tr>\n",
       "      <th>5952</th>\n",
       "      <td>-0.223363</td>\n",
       "      <td>1.055775</td>\n",
       "      <td>1.055775</td>\n",
       "      <td>1.055775</td>\n",
       "      <td>0.0</td>\n",
       "      <td>0.0</td>\n",
       "      <td>1.0</td>\n",
       "      <td>0.0</td>\n",
       "      <td>0.0</td>\n",
       "      <td>1.0</td>\n",
       "      <td>0.0</td>\n",
       "      <td>0.0</td>\n",
       "      <td>0.0</td>\n",
       "      <td>0.0</td>\n",
       "      <td>0.0</td>\n",
       "      <td>NaN</td>\n",
       "      <td>NaN</td>\n",
       "      <td>NaN</td>\n",
       "    </tr>\n",
       "    <tr>\n",
       "      <th>5953</th>\n",
       "      <td>-0.232581</td>\n",
       "      <td>0.806680</td>\n",
       "      <td>0.806680</td>\n",
       "      <td>0.806680</td>\n",
       "      <td>0.0</td>\n",
       "      <td>1.0</td>\n",
       "      <td>0.0</td>\n",
       "      <td>0.0</td>\n",
       "      <td>0.0</td>\n",
       "      <td>1.0</td>\n",
       "      <td>0.0</td>\n",
       "      <td>0.0</td>\n",
       "      <td>0.0</td>\n",
       "      <td>0.0</td>\n",
       "      <td>0.0</td>\n",
       "      <td>0.0</td>\n",
       "      <td>0.0</td>\n",
       "      <td>0.0</td>\n",
       "    </tr>\n",
       "    <tr>\n",
       "      <th>5954</th>\n",
       "      <td>-0.239671</td>\n",
       "      <td>0.956137</td>\n",
       "      <td>0.956137</td>\n",
       "      <td>0.956137</td>\n",
       "      <td>0.0</td>\n",
       "      <td>0.0</td>\n",
       "      <td>1.0</td>\n",
       "      <td>0.0</td>\n",
       "      <td>0.0</td>\n",
       "      <td>1.0</td>\n",
       "      <td>0.0</td>\n",
       "      <td>0.0</td>\n",
       "      <td>0.0</td>\n",
       "      <td>0.0</td>\n",
       "      <td>0.0</td>\n",
       "      <td>NaN</td>\n",
       "      <td>NaN</td>\n",
       "      <td>NaN</td>\n",
       "    </tr>\n",
       "  </tbody>\n",
       "</table>\n",
       "<p>5955 rows × 18 columns</p>\n",
       "</div>"
      ],
      "text/plain": [
       "      OrderQuantity  EmailType  MailOpened  MailClicked  City_CITY1  \\\n",
       "0         -0.236126  -1.036617   -1.036617    -1.036617         0.0   \n",
       "1          0.037571   1.055775    1.055775     1.055775         0.0   \n",
       "2          0.241780   0.358311    0.358311     0.358311         1.0   \n",
       "3         -0.236126  -1.036617   -1.036617    -1.036617         0.0   \n",
       "4          0.057425   1.454325    1.454325     1.454325         1.0   \n",
       "...             ...        ...         ...          ...         ...   \n",
       "5950      -0.232581  -1.036617   -1.036617    -1.036617         0.0   \n",
       "5951      -0.224072  -1.036617   -1.036617    -1.036617         0.0   \n",
       "5952      -0.223363   1.055775    1.055775     1.055775         0.0   \n",
       "5953      -0.232581   0.806680    0.806680     0.806680         0.0   \n",
       "5954      -0.239671   0.956137    0.956137     0.956137         0.0   \n",
       "\n",
       "      City_CITY2  City_CITY3  City_CITY4  PreferredDeliveryDay_Friday  \\\n",
       "0            0.0         1.0         0.0                          0.0   \n",
       "1            1.0         0.0         0.0                          0.0   \n",
       "2            0.0         0.0         0.0                          0.0   \n",
       "3            1.0         0.0         0.0                          0.0   \n",
       "4            0.0         0.0         0.0                          0.0   \n",
       "...          ...         ...         ...                          ...   \n",
       "5950         0.0         0.0         1.0                          0.0   \n",
       "5951         0.0         0.0         1.0                          0.0   \n",
       "5952         0.0         1.0         0.0                          0.0   \n",
       "5953         1.0         0.0         0.0                          0.0   \n",
       "5954         0.0         1.0         0.0                          0.0   \n",
       "\n",
       "      PreferredDeliveryDay_Monday  PreferredDeliveryDay_Saturday  \\\n",
       "0                             0.0                            0.0   \n",
       "1                             0.0                            0.0   \n",
       "2                             0.0                            0.0   \n",
       "3                             1.0                            0.0   \n",
       "4                             0.0                            0.0   \n",
       "...                           ...                            ...   \n",
       "5950                          0.0                            0.0   \n",
       "5951                          0.0                            0.0   \n",
       "5952                          1.0                            0.0   \n",
       "5953                          1.0                            0.0   \n",
       "5954                          1.0                            0.0   \n",
       "\n",
       "      PreferredDeliveryDay_Sunday  PreferredDeliveryDay_Thursday  \\\n",
       "0                             0.0                            1.0   \n",
       "1                             0.0                            0.0   \n",
       "2                             0.0                            1.0   \n",
       "3                             0.0                            0.0   \n",
       "4                             0.0                            0.0   \n",
       "...                           ...                            ...   \n",
       "5950                          0.0                            1.0   \n",
       "5951                          0.0                            0.0   \n",
       "5952                          0.0                            0.0   \n",
       "5953                          0.0                            0.0   \n",
       "5954                          0.0                            0.0   \n",
       "\n",
       "      PreferredDeliveryDay_Tuesday  PreferredDeliveryDay_Wednesday  \\\n",
       "0                              0.0                             0.0   \n",
       "1                              1.0                             0.0   \n",
       "2                              0.0                             0.0   \n",
       "3                              0.0                             0.0   \n",
       "4                              1.0                             0.0   \n",
       "...                            ...                             ...   \n",
       "5950                           0.0                             0.0   \n",
       "5951                           1.0                             0.0   \n",
       "5952                           0.0                             0.0   \n",
       "5953                           0.0                             0.0   \n",
       "5954                           0.0                             0.0   \n",
       "\n",
       "      OnlineCommunication  AutomaticRefill  DoorstepDelivery  \n",
       "0                     NaN              NaN               NaN  \n",
       "1                     NaN              NaN               NaN  \n",
       "2                     NaN              NaN               NaN  \n",
       "3                     NaN              NaN               NaN  \n",
       "4                     NaN              NaN               NaN  \n",
       "...                   ...              ...               ...  \n",
       "5950                  NaN              NaN               NaN  \n",
       "5951                  NaN              NaN               NaN  \n",
       "5952                  NaN              NaN               NaN  \n",
       "5953                  0.0              0.0               0.0  \n",
       "5954                  NaN              NaN               NaN  \n",
       "\n",
       "[5955 rows x 18 columns]"
      ]
     },
     "execution_count": 133,
     "metadata": {},
     "output_type": "execute_result"
    }
   ],
   "source": [
    "x_valid_con"
   ]
  },
  {
   "cell_type": "code",
   "execution_count": 134,
   "id": "c8a5c5a6",
   "metadata": {},
   "outputs": [
    {
     "data": {
      "text/plain": [
       "OrderQuantity                     float64\n",
       "EmailType                         float64\n",
       "MailOpened                        float64\n",
       "MailClicked                       float64\n",
       "City_CITY1                        float64\n",
       "City_CITY2                        float64\n",
       "City_CITY3                        float64\n",
       "City_CITY4                        float64\n",
       "PreferredDeliveryDay_Friday       float64\n",
       "PreferredDeliveryDay_Monday       float64\n",
       "PreferredDeliveryDay_Saturday     float64\n",
       "PreferredDeliveryDay_Sunday       float64\n",
       "PreferredDeliveryDay_Thursday     float64\n",
       "PreferredDeliveryDay_Tuesday      float64\n",
       "PreferredDeliveryDay_Wednesday    float64\n",
       "OnlineCommunication               float64\n",
       "AutomaticRefill                   float64\n",
       "DoorstepDelivery                  float64\n",
       "dtype: object"
      ]
     },
     "execution_count": 134,
     "metadata": {},
     "output_type": "execute_result"
    }
   ],
   "source": [
    "x_train_con.dtypes"
   ]
  },
  {
   "cell_type": "code",
   "execution_count": 135,
   "id": "d68bed7d",
   "metadata": {
    "scrolled": true
   },
   "outputs": [
    {
     "data": {
      "text/plain": [
       "OrderQuantity                        0\n",
       "EmailType                            0\n",
       "MailOpened                           0\n",
       "MailClicked                          0\n",
       "City_CITY1                           0\n",
       "City_CITY2                           0\n",
       "City_CITY3                           0\n",
       "City_CITY4                           0\n",
       "PreferredDeliveryDay_Friday          0\n",
       "PreferredDeliveryDay_Monday          0\n",
       "PreferredDeliveryDay_Saturday        0\n",
       "PreferredDeliveryDay_Sunday          0\n",
       "PreferredDeliveryDay_Thursday        0\n",
       "PreferredDeliveryDay_Tuesday         0\n",
       "PreferredDeliveryDay_Wednesday       0\n",
       "OnlineCommunication               4447\n",
       "AutomaticRefill                   4447\n",
       "DoorstepDelivery                  4447\n",
       "dtype: int64"
      ]
     },
     "execution_count": 135,
     "metadata": {},
     "output_type": "execute_result"
    }
   ],
   "source": [
    "x_train_con.isnull().sum()"
   ]
  },
  {
   "cell_type": "code",
   "execution_count": 136,
   "id": "39331cf5",
   "metadata": {},
   "outputs": [],
   "source": [
    "for i in ['OnlineCommunication', 'AutomaticRefill','DoorstepDelivery']:\n",
    "    x_train_con[i] = x_train_con[i].fillna(1)"
   ]
  },
  {
   "cell_type": "code",
   "execution_count": 137,
   "id": "984ceeca",
   "metadata": {},
   "outputs": [
    {
     "data": {
      "text/plain": [
       "OrderQuantity                     0\n",
       "EmailType                         0\n",
       "MailOpened                        0\n",
       "MailClicked                       0\n",
       "City_CITY1                        0\n",
       "City_CITY2                        0\n",
       "City_CITY3                        0\n",
       "City_CITY4                        0\n",
       "PreferredDeliveryDay_Friday       0\n",
       "PreferredDeliveryDay_Monday       0\n",
       "PreferredDeliveryDay_Saturday     0\n",
       "PreferredDeliveryDay_Sunday       0\n",
       "PreferredDeliveryDay_Thursday     0\n",
       "PreferredDeliveryDay_Tuesday      0\n",
       "PreferredDeliveryDay_Wednesday    0\n",
       "OnlineCommunication               0\n",
       "AutomaticRefill                   0\n",
       "DoorstepDelivery                  0\n",
       "dtype: int64"
      ]
     },
     "execution_count": 137,
     "metadata": {},
     "output_type": "execute_result"
    }
   ],
   "source": [
    "x_train_con.isnull().sum()"
   ]
  },
  {
   "cell_type": "code",
   "execution_count": 138,
   "id": "332e1baa",
   "metadata": {},
   "outputs": [
    {
     "data": {
      "text/plain": [
       "OrderQuantity                        0\n",
       "EmailType                            0\n",
       "MailOpened                           0\n",
       "MailClicked                          0\n",
       "City_CITY1                           0\n",
       "City_CITY2                           0\n",
       "City_CITY3                           0\n",
       "City_CITY4                           0\n",
       "PreferredDeliveryDay_Friday          0\n",
       "PreferredDeliveryDay_Monday          0\n",
       "PreferredDeliveryDay_Saturday        0\n",
       "PreferredDeliveryDay_Sunday          0\n",
       "PreferredDeliveryDay_Thursday        0\n",
       "PreferredDeliveryDay_Tuesday         0\n",
       "PreferredDeliveryDay_Wednesday       0\n",
       "OnlineCommunication               4485\n",
       "AutomaticRefill                   4485\n",
       "DoorstepDelivery                  4485\n",
       "dtype: int64"
      ]
     },
     "execution_count": 138,
     "metadata": {},
     "output_type": "execute_result"
    }
   ],
   "source": [
    "x_valid_con.isnull().sum()"
   ]
  },
  {
   "cell_type": "code",
   "execution_count": 139,
   "id": "9837cfea",
   "metadata": {},
   "outputs": [],
   "source": [
    "for i in ['OnlineCommunication', 'AutomaticRefill','DoorstepDelivery']:\n",
    "    x_valid_con[i] = x_valid_con[i].fillna(1)"
   ]
  },
  {
   "cell_type": "code",
   "execution_count": 140,
   "id": "3880529b",
   "metadata": {},
   "outputs": [
    {
     "data": {
      "text/plain": [
       "OrderQuantity                     0\n",
       "EmailType                         0\n",
       "MailOpened                        0\n",
       "MailClicked                       0\n",
       "City_CITY1                        0\n",
       "City_CITY2                        0\n",
       "City_CITY3                        0\n",
       "City_CITY4                        0\n",
       "PreferredDeliveryDay_Friday       0\n",
       "PreferredDeliveryDay_Monday       0\n",
       "PreferredDeliveryDay_Saturday     0\n",
       "PreferredDeliveryDay_Sunday       0\n",
       "PreferredDeliveryDay_Thursday     0\n",
       "PreferredDeliveryDay_Tuesday      0\n",
       "PreferredDeliveryDay_Wednesday    0\n",
       "OnlineCommunication               0\n",
       "AutomaticRefill                   0\n",
       "DoorstepDelivery                  0\n",
       "dtype: int64"
      ]
     },
     "execution_count": 140,
     "metadata": {},
     "output_type": "execute_result"
    }
   ],
   "source": [
    "x_valid_con.isnull().sum()"
   ]
  },
  {
   "cell_type": "code",
   "execution_count": 141,
   "id": "b60ea85e",
   "metadata": {},
   "outputs": [
    {
     "data": {
      "text/plain": [
       "OrderQuantity                     float64\n",
       "EmailType                         float64\n",
       "MailOpened                        float64\n",
       "MailClicked                       float64\n",
       "City_CITY1                        float64\n",
       "City_CITY2                        float64\n",
       "City_CITY3                        float64\n",
       "City_CITY4                        float64\n",
       "PreferredDeliveryDay_Friday       float64\n",
       "PreferredDeliveryDay_Monday       float64\n",
       "PreferredDeliveryDay_Saturday     float64\n",
       "PreferredDeliveryDay_Sunday       float64\n",
       "PreferredDeliveryDay_Thursday     float64\n",
       "PreferredDeliveryDay_Tuesday      float64\n",
       "PreferredDeliveryDay_Wednesday    float64\n",
       "OnlineCommunication               float64\n",
       "AutomaticRefill                   float64\n",
       "DoorstepDelivery                  float64\n",
       "dtype: object"
      ]
     },
     "execution_count": 141,
     "metadata": {},
     "output_type": "execute_result"
    }
   ],
   "source": [
    "x_valid_con.dtypes"
   ]
  },
  {
   "cell_type": "code",
   "execution_count": null,
   "id": "f16b3cd5",
   "metadata": {},
   "outputs": [],
   "source": []
  },
  {
   "cell_type": "markdown",
   "id": "f4e71ebd",
   "metadata": {},
   "source": [
    "# ***Model Buildng***"
   ]
  },
  {
   "cell_type": "code",
   "execution_count": 142,
   "id": "cb5fd115",
   "metadata": {},
   "outputs": [],
   "source": [
    "def evaluate_model(act, pred):                   #the fundtion helps us to get error metrics of the model\n",
    "    from sklearn.metrics import confusion_matrix, recall_score\n",
    "    print(\"Confusion Matrix \\n\", confusion_matrix(act, pred))           \n",
    "    #this provides us with confusion matrix     \n",
    "    print(\"Recall: \", recall_score(act, pred,average =None)[1])\n",
    "    #tgis provides us with recall score\n",
    "    \n",
    "    "
   ]
  },
  {
   "cell_type": "code",
   "execution_count": 143,
   "id": "6f3d429c",
   "metadata": {},
   "outputs": [],
   "source": [
    " #for getting classification report\n",
    "from sklearn.metrics import classification_report as cr"
   ]
  },
  {
   "cell_type": "code",
   "execution_count": 144,
   "id": "f628e280",
   "metadata": {},
   "outputs": [],
   "source": [
    " #for getting grid Search\n",
    "from sklearn.model_selection import GridSearchCV"
   ]
  },
  {
   "cell_type": "markdown",
   "id": "da84f56c",
   "metadata": {},
   "source": [
    "# ***Upsampling***"
   ]
  },
  {
   "cell_type": "code",
   "execution_count": 145,
   "id": "19bc4133",
   "metadata": {},
   "outputs": [],
   "source": [
    "from imblearn.over_sampling import SMOTE\n",
    "smote = SMOTE(random_state=123)\n",
    "x_train_sm, y_train_sm = smote.fit_resample(x_train_con, y_train)\n",
    "x_valid_sm,y_valid_sm = smote.fit_resample(x_valid_con, y_valid)"
   ]
  },
  {
   "cell_type": "code",
   "execution_count": 146,
   "id": "68467f64",
   "metadata": {
    "scrolled": true
   },
   "outputs": [
    {
     "data": {
      "text/plain": [
       "(array([0, 1, 2], dtype=int64), array([14369, 14369, 14369], dtype=int64))"
      ]
     },
     "execution_count": 146,
     "metadata": {},
     "output_type": "execute_result"
    }
   ],
   "source": [
    "np.unique(y_train, return_counts= True)\n",
    "np.unique(y_train_sm, return_counts= True)"
   ]
  },
  {
   "cell_type": "code",
   "execution_count": 147,
   "id": "4a164d38",
   "metadata": {},
   "outputs": [
    {
     "data": {
      "text/plain": [
       "(43107, 18)"
      ]
     },
     "execution_count": 147,
     "metadata": {},
     "output_type": "execute_result"
    }
   ],
   "source": [
    "x_train_sm.shape"
   ]
  },
  {
   "cell_type": "code",
   "execution_count": 148,
   "id": "b76496e1",
   "metadata": {},
   "outputs": [
    {
     "data": {
      "text/plain": [
       "(43107,)"
      ]
     },
     "execution_count": 148,
     "metadata": {},
     "output_type": "execute_result"
    }
   ],
   "source": [
    "y_train_sm.shape"
   ]
  },
  {
   "cell_type": "markdown",
   "id": "06e9b7ee",
   "metadata": {},
   "source": [
    "# **KNN**"
   ]
  },
  {
   "cell_type": "code",
   "execution_count": 149,
   "id": "f31d7db5",
   "metadata": {},
   "outputs": [],
   "source": [
    "from sklearn.neighbors import KNeighborsClassifier\n",
    "clf_knn1 = KNeighborsClassifier()\n",
    "clf_knn1.fit(x_train_con, y_train)\n",
    "\n",
    "train_pred_knn1 = clf_knn1.predict(x_train_con)\n",
    "valid_pred_knn1 = clf_knn1.predict(x_valid_con)"
   ]
  },
  {
   "cell_type": "code",
   "execution_count": 150,
   "id": "1588ce96",
   "metadata": {},
   "outputs": [
    {
     "name": "stdout",
     "output_type": "stream",
     "text": [
      "Classification Report \n",
      "               precision    recall  f1-score   support\n",
      "\n",
      "           0       0.64      0.49      0.56      2837\n",
      "           1       0.89      0.57      0.70       659\n",
      "           2       0.90      0.95      0.93     14369\n",
      "\n",
      "    accuracy                           0.87     17865\n",
      "   macro avg       0.81      0.67      0.73     17865\n",
      "weighted avg       0.86      0.87      0.86     17865\n",
      "\n",
      "classification report \n",
      "               precision    recall  f1-score   support\n",
      "\n",
      "           0       0.52      0.38      0.44       919\n",
      "           1       0.88      0.52      0.65       220\n",
      "           2       0.88      0.94      0.91      4816\n",
      "\n",
      "    accuracy                           0.84      5955\n",
      "   macro avg       0.76      0.61      0.67      5955\n",
      "weighted avg       0.82      0.84      0.83      5955\n",
      "\n"
     ]
    }
   ],
   "source": [
    "\n",
    "print(\"Classification Report \\n\", cr(y_train, train_pred_knn1))\n",
    "print(\"classification report \\n\", cr(y_valid, valid_pred_knn1))\n",
    "      "
   ]
  },
  {
   "cell_type": "code",
   "execution_count": 151,
   "id": "190875b3",
   "metadata": {},
   "outputs": [
    {
     "name": "stdout",
     "output_type": "stream",
     "text": [
      "--Train--\n",
      "Confusion Matrix \n",
      " [[ 1398    31  1408]\n",
      " [  151   378   130]\n",
      " [  630    17 13722]]\n",
      "Recall:  0.5735963581183612\n",
      "--valid--\n",
      "Confusion Matrix \n",
      " [[ 351   12  556]\n",
      " [  50  114   56]\n",
      " [ 276    4 4536]]\n",
      "Recall:  0.5181818181818182\n"
     ]
    }
   ],
   "source": [
    "print(\"--Train--\")\n",
    "evaluate_model(y_train, train_pred_knn1)\n",
    "print(\"--valid--\")\n",
    "evaluate_model(y_valid, valid_pred_knn1)"
   ]
  },
  {
   "cell_type": "markdown",
   "id": "c2b80575",
   "metadata": {},
   "source": [
    "**Grid Search KNN**"
   ]
  },
  {
   "cell_type": "code",
   "execution_count": 152,
   "id": "3c28a7e3",
   "metadata": {},
   "outputs": [],
   "source": [
    "k_range = list(range(11,14,18))\n",
    "param_grid_knn = dict(n_neighbors=k_range)"
   ]
  },
  {
   "cell_type": "code",
   "execution_count": 153,
   "id": "4b63420e",
   "metadata": {},
   "outputs": [],
   "source": [
    "grid_knn =  GridSearchCV(clf_knn1, param_grid_knn, cv=10, scoring='accuracy', return_train_score=False,verbose=1)"
   ]
  },
  {
   "cell_type": "code",
   "execution_count": 154,
   "id": "b15babb1",
   "metadata": {},
   "outputs": [
    {
     "name": "stdout",
     "output_type": "stream",
     "text": [
      "Fitting 10 folds for each of 1 candidates, totalling 10 fits\n"
     ]
    }
   ],
   "source": [
    "grid_search_knn = grid_knn.fit(x_train_con, y_train)"
   ]
  },
  {
   "cell_type": "code",
   "execution_count": 155,
   "id": "5193ae9b",
   "metadata": {},
   "outputs": [
    {
     "data": {
      "text/plain": [
       "{'n_neighbors': 11}"
      ]
     },
     "execution_count": 155,
     "metadata": {},
     "output_type": "execute_result"
    }
   ],
   "source": [
    "grid_search_knn.best_params_"
   ]
  },
  {
   "cell_type": "code",
   "execution_count": 156,
   "id": "78de4d12",
   "metadata": {},
   "outputs": [],
   "source": [
    "train_pred_knn2 = grid_search_knn.predict(x_train_con)\n",
    "valid_pred_knn2 = grid_search_knn.predict(x_valid_con)"
   ]
  },
  {
   "cell_type": "code",
   "execution_count": 157,
   "id": "bf557b1b",
   "metadata": {},
   "outputs": [
    {
     "name": "stdout",
     "output_type": "stream",
     "text": [
      "Confusion Matrix \n",
      "               precision    recall  f1-score   support\n",
      "\n",
      "           0       0.61      0.41      0.49      2837\n",
      "           1       0.93      0.44      0.59       659\n",
      "           2       0.88      0.96      0.92     14369\n",
      "\n",
      "    accuracy                           0.85     17865\n",
      "   macro avg       0.81      0.60      0.67     17865\n",
      "weighted avg       0.84      0.85      0.84     17865\n",
      "\n",
      "Confusion Matrix \n",
      "               precision    recall  f1-score   support\n",
      "\n",
      "           0       0.54      0.37      0.44       919\n",
      "           1       0.92      0.37      0.53       220\n",
      "           2       0.88      0.95      0.91      4816\n",
      "\n",
      "    accuracy                           0.84      5955\n",
      "   macro avg       0.78      0.56      0.63      5955\n",
      "weighted avg       0.83      0.84      0.83      5955\n",
      "\n"
     ]
    }
   ],
   "source": [
    "print(\"Confusion Matrix \\n\", cr(y_train, train_pred_knn2))\n",
    "print(\"Confusion Matrix \\n\", cr(y_valid, valid_pred_knn2))"
   ]
  },
  {
   "cell_type": "code",
   "execution_count": 158,
   "id": "6d4f72cf",
   "metadata": {},
   "outputs": [
    {
     "name": "stdout",
     "output_type": "stream",
     "text": [
      "--Train--\n",
      "Confusion Matrix \n",
      " [[ 1165    17  1655]\n",
      " [  191   288   180]\n",
      " [  548     5 13816]]\n",
      "Recall:  0.4370257966616085\n",
      "--valid--\n",
      "Confusion Matrix \n",
      " [[ 340    4  575]\n",
      " [  67   81   72]\n",
      " [ 227    3 4586]]\n",
      "Recall:  0.36818181818181817\n"
     ]
    }
   ],
   "source": [
    "print(\"--Train--\")\n",
    "evaluate_model(y_train, train_pred_knn2)\n",
    "print(\"--valid--\")\n",
    "evaluate_model(y_valid, valid_pred_knn2)"
   ]
  },
  {
   "cell_type": "markdown",
   "id": "2ec5d1fd",
   "metadata": {},
   "source": [
    "**After Upsampling KNN**"
   ]
  },
  {
   "cell_type": "code",
   "execution_count": 159,
   "id": "d40e5151",
   "metadata": {},
   "outputs": [],
   "source": [
    "clf_knn2 = KNeighborsClassifier()\n",
    "clf_knn2.fit(x_train_sm, y_train_sm)\n",
    "\n",
    "train_pred_knn3 = clf_knn2.predict(x_train_sm)\n",
    "valid_pred_knn3 = clf_knn2.predict(x_valid_con)"
   ]
  },
  {
   "cell_type": "code",
   "execution_count": 160,
   "id": "b6ab56b0",
   "metadata": {},
   "outputs": [
    {
     "name": "stdout",
     "output_type": "stream",
     "text": [
      "Classification Report \n",
      "               precision    recall  f1-score   support\n",
      "\n",
      "           0       0.78      0.88      0.83     14369\n",
      "           1       0.96      0.95      0.95     14369\n",
      "           2       0.89      0.79      0.84     14369\n",
      "\n",
      "    accuracy                           0.87     43107\n",
      "   macro avg       0.88      0.87      0.87     43107\n",
      "weighted avg       0.88      0.87      0.87     43107\n",
      "\n",
      "classification report \n",
      "               precision    recall  f1-score   support\n",
      "\n",
      "           0       0.35      0.69      0.46       919\n",
      "           1       0.48      0.70      0.57       220\n",
      "           2       0.94      0.74      0.83      4816\n",
      "\n",
      "    accuracy                           0.73      5955\n",
      "   macro avg       0.59      0.71      0.62      5955\n",
      "weighted avg       0.83      0.73      0.76      5955\n",
      "\n"
     ]
    }
   ],
   "source": [
    "print(\"Classification Report \\n\", cr(y_train_sm, train_pred_knn3))\n",
    "print(\"classification report \\n\", cr(y_valid, valid_pred_knn3))"
   ]
  },
  {
   "cell_type": "code",
   "execution_count": 161,
   "id": "59d5b9a5",
   "metadata": {},
   "outputs": [
    {
     "name": "stdout",
     "output_type": "stream",
     "text": [
      "--Train--\n",
      "Confusion Matrix \n",
      " [[12601   431  1337]\n",
      " [  685 13603    81]\n",
      " [ 2801   182 11386]]\n",
      "Recall:  0.9466907926786833\n",
      "--valid--\n",
      "Confusion Matrix \n",
      " [[ 632   75  212]\n",
      " [  39  154   27]\n",
      " [1134   95 3587]]\n",
      "Recall:  0.7\n"
     ]
    }
   ],
   "source": [
    "print(\"--Train--\")\n",
    "evaluate_model(y_train_sm, train_pred_knn3)\n",
    "print(\"--valid--\")\n",
    "evaluate_model(y_valid, valid_pred_knn3)"
   ]
  },
  {
   "cell_type": "markdown",
   "id": "429dc66c",
   "metadata": {},
   "source": [
    "# **RandomForest**"
   ]
  },
  {
   "cell_type": "code",
   "execution_count": 162,
   "id": "09d150b1",
   "metadata": {},
   "outputs": [],
   "source": [
    "from sklearn.ensemble import RandomForestClassifier\n",
    "clf_rf1 = RandomForestClassifier(n_estimators=3)\n",
    "clf_rf1.fit(x_train_con, y_train)\n",
    "\n",
    "train_pred_rf1 = clf_rf1.predict(x_train_con)\n",
    "valid_pred_rf1 = clf_rf1.predict(x_valid_con)"
   ]
  },
  {
   "cell_type": "code",
   "execution_count": 163,
   "id": "b3585a05",
   "metadata": {},
   "outputs": [
    {
     "name": "stdout",
     "output_type": "stream",
     "text": [
      "Classification Report \n",
      "               precision    recall  f1-score   support\n",
      "\n",
      "           0       0.83      0.66      0.73      2837\n",
      "           1       0.95      0.87      0.91       659\n",
      "           2       0.93      0.98      0.95     14369\n",
      "\n",
      "    accuracy                           0.92     17865\n",
      "   macro avg       0.90      0.83      0.86     17865\n",
      "weighted avg       0.92      0.92      0.92     17865\n",
      "\n",
      "classification report \n",
      "               precision    recall  f1-score   support\n",
      "\n",
      "           0       0.49      0.43      0.45       919\n",
      "           1       0.74      0.63      0.68       220\n",
      "           2       0.89      0.92      0.91      4816\n",
      "\n",
      "    accuracy                           0.83      5955\n",
      "   macro avg       0.71      0.66      0.68      5955\n",
      "weighted avg       0.82      0.83      0.83      5955\n",
      "\n"
     ]
    }
   ],
   "source": [
    "\n",
    "print(\"Classification Report \\n\", cr(y_train, train_pred_rf1))\n",
    "print(\"classification report \\n\", cr(y_valid, valid_pred_rf1))\n",
    "      "
   ]
  },
  {
   "cell_type": "code",
   "execution_count": 164,
   "id": "0259f6d7",
   "metadata": {},
   "outputs": [
    {
     "name": "stdout",
     "output_type": "stream",
     "text": [
      "--Train--\n",
      "Confusion Matrix \n",
      " [[ 1860    21   956]\n",
      " [   33   572    54]\n",
      " [  342    10 14017]]\n",
      "Recall:  0.8679817905918058\n",
      "--valid--\n",
      "Confusion Matrix \n",
      " [[ 391   34  494]\n",
      " [  40  138   42]\n",
      " [ 374   15 4427]]\n",
      "Recall:  0.6272727272727273\n"
     ]
    }
   ],
   "source": [
    "print(\"--Train--\")\n",
    "evaluate_model(y_train, train_pred_rf1)\n",
    "print(\"--valid--\")\n",
    "evaluate_model(y_valid, valid_pred_rf1)"
   ]
  },
  {
   "cell_type": "markdown",
   "id": "e32c5e6f",
   "metadata": {},
   "source": [
    "**Gridsearch RandomForest**"
   ]
  },
  {
   "cell_type": "code",
   "execution_count": 165,
   "id": "19351978",
   "metadata": {},
   "outputs": [],
   "source": [
    "from sklearn.model_selection import GridSearchCV\n",
    "param={'n_estimators':[50,100,200,250],\n",
    "      'criterion':['gini','entropy'],\n",
    "       'max_depth':[10,20,50,100]}"
   ]
  },
  {
   "cell_type": "code",
   "execution_count": 166,
   "id": "bd054201",
   "metadata": {},
   "outputs": [
    {
     "name": "stdout",
     "output_type": "stream",
     "text": [
      "Fitting 3 folds for each of 32 candidates, totalling 96 fits\n"
     ]
    },
    {
     "data": {
      "text/plain": [
       "GridSearchCV(cv=3, estimator=RandomForestClassifier(n_estimators=3),\n",
       "             param_grid={'criterion': ['gini', 'entropy'],\n",
       "                         'max_depth': [10, 20, 50, 100],\n",
       "                         'n_estimators': [50, 100, 200, 250]},\n",
       "             verbose=1)"
      ]
     },
     "execution_count": 166,
     "metadata": {},
     "output_type": "execute_result"
    }
   ],
   "source": [
    "grid_rf=GridSearchCV(estimator=clf_rf1, param_grid=param,cv=3,verbose=1)\n",
    "grid_rf.fit(x_train_con, y_train)"
   ]
  },
  {
   "cell_type": "code",
   "execution_count": 167,
   "id": "c312b066",
   "metadata": {},
   "outputs": [
    {
     "data": {
      "text/plain": [
       "{'criterion': 'entropy', 'max_depth': 10, 'n_estimators': 100}"
      ]
     },
     "execution_count": 167,
     "metadata": {},
     "output_type": "execute_result"
    }
   ],
   "source": [
    "grid_rf.best_params_"
   ]
  },
  {
   "cell_type": "code",
   "execution_count": 168,
   "id": "aa75bd8b",
   "metadata": {},
   "outputs": [],
   "source": [
    "train_pred_rf2 = grid_rf.predict(x_train_con)\n",
    "valid_pred_rf2 = grid_rf.predict(x_valid_con)"
   ]
  },
  {
   "cell_type": "code",
   "execution_count": 169,
   "id": "5a441050",
   "metadata": {},
   "outputs": [
    {
     "name": "stdout",
     "output_type": "stream",
     "text": [
      "Confusion Matrix \n",
      "               precision    recall  f1-score   support\n",
      "\n",
      "           0       0.79      0.30      0.43      2837\n",
      "           1       0.92      0.77      0.84       659\n",
      "           2       0.87      0.99      0.93     14369\n",
      "\n",
      "    accuracy                           0.87     17865\n",
      "   macro avg       0.86      0.69      0.73     17865\n",
      "weighted avg       0.86      0.87      0.85     17865\n",
      "\n",
      "Confusion Matrix \n",
      "               precision    recall  f1-score   support\n",
      "\n",
      "           0       0.64      0.24      0.35       919\n",
      "           1       0.81      0.66      0.73       220\n",
      "           2       0.87      0.98      0.92      4816\n",
      "\n",
      "    accuracy                           0.85      5955\n",
      "   macro avg       0.77      0.63      0.67      5955\n",
      "weighted avg       0.83      0.85      0.82      5955\n",
      "\n"
     ]
    }
   ],
   "source": [
    "print(\"Confusion Matrix \\n\", cr(y_train, train_pred_rf2))\n",
    "print(\"Confusion Matrix \\n\", cr(y_valid, valid_pred_rf2))"
   ]
  },
  {
   "cell_type": "code",
   "execution_count": 170,
   "id": "3082553b",
   "metadata": {},
   "outputs": [
    {
     "name": "stdout",
     "output_type": "stream",
     "text": [
      "--Train--\n",
      "Confusion Matrix \n",
      " [[  848    35  1954]\n",
      " [   50   508   101]\n",
      " [  173     7 14189]]\n",
      "Recall:  0.7708649468892261\n",
      "--valid--\n",
      "Confusion Matrix \n",
      " [[ 223   23  673]\n",
      " [  31  146   43]\n",
      " [  96   12 4708]]\n",
      "Recall:  0.6636363636363637\n"
     ]
    }
   ],
   "source": [
    "print(\"--Train--\")\n",
    "evaluate_model(y_train, train_pred_rf2)\n",
    "print(\"--valid--\")\n",
    "\n",
    "evaluate_model(y_valid, valid_pred_rf2)"
   ]
  },
  {
   "cell_type": "markdown",
   "id": "3cf6448b",
   "metadata": {},
   "source": [
    "**After Upsampling RandomForest**"
   ]
  },
  {
   "cell_type": "code",
   "execution_count": 171,
   "id": "e2112d9e",
   "metadata": {},
   "outputs": [],
   "source": [
    "#from sklearn.ensemble import RandomForestClassifier\n",
    "clf_rf3 = RandomForestClassifier(n_estimators=3)\n",
    "clf_rf3.fit(x_train_sm, y_train_sm)\n",
    "\n",
    "train_pred_rf3 = clf_rf3.predict(x_train_sm)\n",
    "valid_pred_rf3 = clf_rf3.predict(x_valid_con)"
   ]
  },
  {
   "cell_type": "code",
   "execution_count": 172,
   "id": "8956b857",
   "metadata": {},
   "outputs": [
    {
     "name": "stdout",
     "output_type": "stream",
     "text": [
      "Classification Report \n",
      "               precision    recall  f1-score   support\n",
      "\n",
      "           0       0.87      0.92      0.90     14369\n",
      "           1       0.98      0.98      0.98     14369\n",
      "           2       0.93      0.87      0.90     14369\n",
      "\n",
      "    accuracy                           0.92     43107\n",
      "   macro avg       0.92      0.92      0.92     43107\n",
      "weighted avg       0.92      0.92      0.92     43107\n",
      "\n",
      "classification report \n",
      "               precision    recall  f1-score   support\n",
      "\n",
      "           0       0.37      0.63      0.46       919\n",
      "           1       0.53      0.70      0.60       220\n",
      "           2       0.93      0.79      0.85      4816\n",
      "\n",
      "    accuracy                           0.76      5955\n",
      "   macro avg       0.61      0.70      0.64      5955\n",
      "weighted avg       0.83      0.76      0.78      5955\n",
      "\n"
     ]
    }
   ],
   "source": [
    "from sklearn.metrics import classification_report as cr\n",
    "print(\"Classification Report \\n\", cr(y_train_sm, train_pred_rf3))\n",
    "print(\"classification report \\n\", cr(y_valid, valid_pred_rf3))"
   ]
  },
  {
   "cell_type": "code",
   "execution_count": 173,
   "id": "1b5da3bf",
   "metadata": {},
   "outputs": [
    {
     "name": "stdout",
     "output_type": "stream",
     "text": [
      "--Train--\n",
      "Confusion Matrix \n",
      " [[13248   224   897]\n",
      " [  204 14084    81]\n",
      " [ 1783   102 12484]]\n",
      "Recall:  0.9801656343517294\n",
      "--valid--\n",
      "Confusion Matrix \n",
      " [[ 577   79  263]\n",
      " [  34  153   33]\n",
      " [ 956   58 3802]]\n",
      "Recall:  0.6954545454545454\n"
     ]
    }
   ],
   "source": [
    "print(\"--Train--\")\n",
    "evaluate_model(y_train_sm, train_pred_rf3)\n",
    "print(\"--valid--\")\n",
    "evaluate_model(y_valid, valid_pred_rf3)"
   ]
  },
  {
   "cell_type": "markdown",
   "id": "5abc6163",
   "metadata": {},
   "source": [
    "# **Decision Tree**"
   ]
  },
  {
   "cell_type": "code",
   "execution_count": 174,
   "id": "6881fdc4",
   "metadata": {},
   "outputs": [],
   "source": [
    "from sklearn.tree import DecisionTreeClassifier\n",
    "clf_dt1 = DecisionTreeClassifier()\n",
    "clf_dt1 = clf_dt1.fit(x_train_con, y_train)"
   ]
  },
  {
   "cell_type": "code",
   "execution_count": 175,
   "id": "9c61d293",
   "metadata": {},
   "outputs": [],
   "source": [
    "train_pred_dt1 = clf_dt1.predict(x_train_con)\n",
    "valid_pred_dt1 = clf_dt1.predict(x_valid_con)"
   ]
  },
  {
   "cell_type": "code",
   "execution_count": 176,
   "id": "495b105d",
   "metadata": {},
   "outputs": [
    {
     "name": "stdout",
     "output_type": "stream",
     "text": [
      "Confusion Matrix \n",
      "               precision    recall  f1-score   support\n",
      "\n",
      "           0       0.87      0.76      0.81      2837\n",
      "           1       1.00      0.94      0.97       659\n",
      "           2       0.95      0.98      0.96     14369\n",
      "\n",
      "    accuracy                           0.94     17865\n",
      "   macro avg       0.94      0.90      0.92     17865\n",
      "weighted avg       0.94      0.94      0.94     17865\n",
      "\n",
      "Confusion Matrix \n",
      "               precision    recall  f1-score   support\n",
      "\n",
      "           0       0.42      0.40      0.41       919\n",
      "           1       0.64      0.61      0.62       220\n",
      "           2       0.89      0.90      0.89      4816\n",
      "\n",
      "    accuracy                           0.81      5955\n",
      "   macro avg       0.65      0.64      0.64      5955\n",
      "weighted avg       0.81      0.81      0.81      5955\n",
      "\n"
     ]
    }
   ],
   "source": [
    "print(\"Confusion Matrix \\n\", cr(y_train, train_pred_dt1))\n",
    "print(\"Confusion Matrix \\n\", cr(y_valid, valid_pred_dt1))"
   ]
  },
  {
   "cell_type": "code",
   "execution_count": 177,
   "id": "61826fd7",
   "metadata": {},
   "outputs": [
    {
     "name": "stdout",
     "output_type": "stream",
     "text": [
      "--Train--\n",
      "Confusion Matrix \n",
      " [[ 2166     0   671]\n",
      " [    6   622    31]\n",
      " [  316     2 14051]]\n",
      "Recall:  0.9438543247344461\n",
      "--valid--\n",
      "Confusion Matrix \n",
      " [[ 366   44  509]\n",
      " [  44  134   42]\n",
      " [ 455   31 4330]]\n",
      "Recall:  0.6090909090909091\n"
     ]
    }
   ],
   "source": [
    "print(\"--Train--\")\n",
    "evaluate_model(y_train, train_pred_dt1)\n",
    "print(\"--valid--\")\n",
    "\n",
    "evaluate_model(y_valid, valid_pred_dt1)"
   ]
  },
  {
   "cell_type": "markdown",
   "id": "3b03fad1",
   "metadata": {},
   "source": [
    "**after upsampling Decision Tree**"
   ]
  },
  {
   "cell_type": "code",
   "execution_count": 178,
   "id": "7488b186",
   "metadata": {},
   "outputs": [],
   "source": [
    "clf_dt2 = DecisionTreeClassifier()\n",
    "clf_dt2.fit(x_train_sm, y_train_sm)\n",
    "\n",
    "train_pred_dt2 = clf_dt2.predict(x_train_sm)\n",
    "valid_pred_dt2 = clf_dt2.predict(x_valid_con)"
   ]
  },
  {
   "cell_type": "code",
   "execution_count": 179,
   "id": "916ce4df",
   "metadata": {},
   "outputs": [
    {
     "name": "stdout",
     "output_type": "stream",
     "text": [
      "Classification Report \n",
      "               precision    recall  f1-score   support\n",
      "\n",
      "           0       0.88      0.97      0.92     14369\n",
      "           1       0.99      0.99      0.99     14369\n",
      "           2       0.97      0.88      0.92     14369\n",
      "\n",
      "    accuracy                           0.95     43107\n",
      "   macro avg       0.95      0.95      0.95     43107\n",
      "weighted avg       0.95      0.95      0.95     43107\n",
      "\n",
      "classification report \n",
      "               precision    recall  f1-score   support\n",
      "\n",
      "           0       0.34      0.60      0.44       919\n",
      "           1       0.52      0.71      0.60       220\n",
      "           2       0.92      0.78      0.84      4816\n",
      "\n",
      "    accuracy                           0.75      5955\n",
      "   macro avg       0.59      0.70      0.63      5955\n",
      "weighted avg       0.82      0.75      0.77      5955\n",
      "\n"
     ]
    }
   ],
   "source": [
    "\n",
    "print(\"Classification Report \\n\", cr(y_train_sm, train_pred_dt2))\n",
    "print(\"classification report \\n\", cr(y_valid, valid_pred_dt2))"
   ]
  },
  {
   "cell_type": "code",
   "execution_count": 180,
   "id": "1df5e109",
   "metadata": {},
   "outputs": [
    {
     "name": "stdout",
     "output_type": "stream",
     "text": [
      "--Train--\n",
      "Confusion Matrix \n",
      " [[13896    62   411]\n",
      " [   71 14272    26]\n",
      " [ 1741    55 12573]]\n",
      "Recall:  0.9932493562530448\n",
      "--valid--\n",
      "Confusion Matrix \n",
      " [[ 549   75  295]\n",
      " [  40  157   23]\n",
      " [1010   72 3734]]\n",
      "Recall:  0.7136363636363636\n"
     ]
    }
   ],
   "source": [
    "print(\"--Train--\")\n",
    "evaluate_model(y_train_sm, train_pred_dt2)\n",
    "print(\"--valid--\")\n",
    "evaluate_model(y_valid, valid_pred_dt2)"
   ]
  },
  {
   "cell_type": "markdown",
   "id": "3993a8e2",
   "metadata": {},
   "source": [
    "**decision tree gridsearch**"
   ]
  },
  {
   "cell_type": "code",
   "execution_count": 181,
   "id": "65373cf8",
   "metadata": {},
   "outputs": [],
   "source": [
    "params = {\n",
    "    'max_leaf_nodes': [2, 6, 10, 16, 22,28],\n",
    "    'min_samples_split': [2, 4, 6, 8, 10, 12, 14, 16]}\n",
    "\n",
    "grid_search_dt = GridSearchCV(DecisionTreeClassifier(random_state=42), params, verbose=1, cv=3)\n",
    "\n"
   ]
  },
  {
   "cell_type": "code",
   "execution_count": 182,
   "id": "64b0ce70",
   "metadata": {},
   "outputs": [
    {
     "name": "stdout",
     "output_type": "stream",
     "text": [
      "Fitting 3 folds for each of 48 candidates, totalling 144 fits\n"
     ]
    },
    {
     "data": {
      "text/plain": [
       "GridSearchCV(cv=3, estimator=DecisionTreeClassifier(random_state=42),\n",
       "             param_grid={'max_leaf_nodes': [2, 6, 10, 16, 22, 28],\n",
       "                         'min_samples_split': [2, 4, 6, 8, 10, 12, 14, 16]},\n",
       "             verbose=1)"
      ]
     },
     "execution_count": 182,
     "metadata": {},
     "output_type": "execute_result"
    }
   ],
   "source": [
    "grid_search_dt.fit(x_train_con, y_train)"
   ]
  },
  {
   "cell_type": "code",
   "execution_count": 183,
   "id": "b1849f6c",
   "metadata": {},
   "outputs": [
    {
     "data": {
      "text/plain": [
       "{'max_leaf_nodes': 22, 'min_samples_split': 2}"
      ]
     },
     "execution_count": 183,
     "metadata": {},
     "output_type": "execute_result"
    }
   ],
   "source": [
    "grid_search_dt.best_params_"
   ]
  },
  {
   "cell_type": "code",
   "execution_count": 184,
   "id": "1ab28a81",
   "metadata": {},
   "outputs": [],
   "source": [
    "train_pred_dt3 = grid_search_dt.predict(x_train_con)\n",
    "valid_pred_dt3 = grid_search_dt.predict(x_valid_con)"
   ]
  },
  {
   "cell_type": "code",
   "execution_count": 185,
   "id": "0343d94b",
   "metadata": {},
   "outputs": [
    {
     "name": "stdout",
     "output_type": "stream",
     "text": [
      "Confusion Matrix \n",
      "               precision    recall  f1-score   support\n",
      "\n",
      "           0       0.60      0.41      0.48      2837\n",
      "           1       0.81      0.68      0.74       659\n",
      "           2       0.89      0.95      0.92     14369\n",
      "\n",
      "    accuracy                           0.86     17865\n",
      "   macro avg       0.77      0.68      0.71     17865\n",
      "weighted avg       0.84      0.86      0.84     17865\n",
      "\n",
      "Confusion Matrix \n",
      "               precision    recall  f1-score   support\n",
      "\n",
      "           0       0.57      0.40      0.47       919\n",
      "           1       0.80      0.68      0.73       220\n",
      "           2       0.89      0.95      0.92      4816\n",
      "\n",
      "    accuracy                           0.85      5955\n",
      "   macro avg       0.75      0.67      0.71      5955\n",
      "weighted avg       0.84      0.85      0.84      5955\n",
      "\n"
     ]
    }
   ],
   "source": [
    "print(\"Confusion Matrix \\n\", cr(y_train, train_pred_dt3))\n",
    "print(\"Confusion Matrix \\n\", cr(y_valid, valid_pred_dt3))"
   ]
  },
  {
   "cell_type": "code",
   "execution_count": 186,
   "id": "45904144",
   "metadata": {},
   "outputs": [
    {
     "name": "stdout",
     "output_type": "stream",
     "text": [
      "--Train--\n",
      "Confusion Matrix \n",
      " [[ 1153    75  1609]\n",
      " [  101   450   108]\n",
      " [  664    32 13673]]\n",
      "Recall:  0.6828528072837633\n",
      "--valid--\n",
      "Confusion Matrix \n",
      " [[ 365   25  529]\n",
      " [  33  149   38]\n",
      " [ 239   12 4565]]\n",
      "Recall:  0.6772727272727272\n"
     ]
    }
   ],
   "source": [
    "print(\"--Train--\")\n",
    "evaluate_model(y_train, train_pred_dt3)\n",
    "print(\"--valid--\")\n",
    "evaluate_model(y_valid, valid_pred_dt3)"
   ]
  },
  {
   "cell_type": "markdown",
   "id": "cd315215",
   "metadata": {},
   "source": [
    "# **GradientBoosting**"
   ]
  },
  {
   "cell_type": "code",
   "execution_count": 187,
   "id": "42c06d54",
   "metadata": {},
   "outputs": [],
   "source": [
    "from sklearn.ensemble import GradientBoostingClassifier\n",
    "clf_gb1 = GradientBoostingClassifier()\n",
    "\n",
    "clf_gb1 = clf_gb1.fit(x_train_con, y_train)"
   ]
  },
  {
   "cell_type": "code",
   "execution_count": 188,
   "id": "fe48cadf",
   "metadata": {},
   "outputs": [],
   "source": [
    "train_pred_gb1 = clf_gb1.predict(x_train_con)\n",
    "valid_pred_gb1 = clf_gb1.predict(x_valid_con)"
   ]
  },
  {
   "cell_type": "code",
   "execution_count": 189,
   "id": "96b3e147",
   "metadata": {},
   "outputs": [
    {
     "name": "stdout",
     "output_type": "stream",
     "text": [
      "Confusion Matrix \n",
      "               precision    recall  f1-score   support\n",
      "\n",
      "           0       0.63      0.37      0.47      2837\n",
      "           1       0.86      0.71      0.77       659\n",
      "           2       0.88      0.96      0.92     14369\n",
      "\n",
      "    accuracy                           0.86     17865\n",
      "   macro avg       0.79      0.68      0.72     17865\n",
      "weighted avg       0.84      0.86      0.84     17865\n",
      "\n",
      "Confusion Matrix \n",
      "               precision    recall  f1-score   support\n",
      "\n",
      "           0       0.60      0.36      0.45       919\n",
      "           1       0.83      0.69      0.75       220\n",
      "           2       0.88      0.96      0.92      4816\n",
      "\n",
      "    accuracy                           0.86      5955\n",
      "   macro avg       0.77      0.67      0.71      5955\n",
      "weighted avg       0.84      0.86      0.84      5955\n",
      "\n"
     ]
    }
   ],
   "source": [
    "print(\"Confusion Matrix \\n\", cr(y_train, train_pred_gb1))\n",
    "print(\"Confusion Matrix \\n\", cr(y_valid, valid_pred_gb1))"
   ]
  },
  {
   "cell_type": "code",
   "execution_count": 190,
   "id": "207273db",
   "metadata": {
    "scrolled": true
   },
   "outputs": [
    {
     "name": "stdout",
     "output_type": "stream",
     "text": [
      "--Train--\n",
      "Confusion Matrix \n",
      " [[ 1052    59  1726]\n",
      " [   97   466    96]\n",
      " [  512    19 13838]]\n",
      "Recall:  0.7071320182094082\n",
      "--valid--\n",
      "Confusion Matrix \n",
      " [[ 334   19  566]\n",
      " [  34  151   35]\n",
      " [ 188   11 4617]]\n",
      "Recall:  0.6863636363636364\n"
     ]
    }
   ],
   "source": [
    "print(\"--Train--\")\n",
    "evaluate_model(y_train, train_pred_gb1)\n",
    "print(\"--valid--\")\n",
    "evaluate_model(y_valid, valid_pred_gb1)"
   ]
  },
  {
   "cell_type": "markdown",
   "id": "66fffefa",
   "metadata": {},
   "source": [
    "**GradientBoosting Upsampling**"
   ]
  },
  {
   "cell_type": "code",
   "execution_count": 191,
   "id": "93d6345c",
   "metadata": {},
   "outputs": [],
   "source": [
    "clf_gb2 = GradientBoostingClassifier()\n",
    "clf_gb2.fit(x_train_sm, y_train_sm)\n",
    "\n",
    "train_pred_gb2 = clf_gb2.predict(x_train_sm)\n",
    "valid_pred_gb2 = clf_gb2.predict(x_valid_con)"
   ]
  },
  {
   "cell_type": "code",
   "execution_count": 192,
   "id": "d4219125",
   "metadata": {},
   "outputs": [
    {
     "name": "stdout",
     "output_type": "stream",
     "text": [
      "Classification Report \n",
      "               precision    recall  f1-score   support\n",
      "\n",
      "           0       0.72      0.87      0.79     14369\n",
      "           1       0.93      0.90      0.92     14369\n",
      "           2       0.90      0.73      0.80     14369\n",
      "\n",
      "    accuracy                           0.83     43107\n",
      "   macro avg       0.85      0.83      0.83     43107\n",
      "weighted avg       0.85      0.83      0.83     43107\n",
      "\n",
      "classification report \n",
      "               precision    recall  f1-score   support\n",
      "\n",
      "           0       0.35      0.83      0.49       919\n",
      "           1       0.62      0.80      0.70       220\n",
      "           2       0.97      0.70      0.81      4816\n",
      "\n",
      "    accuracy                           0.73      5955\n",
      "   macro avg       0.65      0.78      0.67      5955\n",
      "weighted avg       0.86      0.73      0.76      5955\n",
      "\n"
     ]
    }
   ],
   "source": [
    "\n",
    "print(\"Classification Report \\n\", cr(y_train_sm, train_pred_gb2))\n",
    "print(\"classification report \\n\", cr(y_valid, valid_pred_gb2))"
   ]
  },
  {
   "cell_type": "code",
   "execution_count": 193,
   "id": "1cbb1984",
   "metadata": {},
   "outputs": [
    {
     "name": "stdout",
     "output_type": "stream",
     "text": [
      "--Train--\n",
      "Confusion Matrix \n",
      " [[12539   792  1038]\n",
      " [ 1241 12967   161]\n",
      " [ 3748   188 10433]]\n",
      "Recall:  0.9024288398635952\n",
      "--valid--\n",
      "Confusion Matrix \n",
      " [[ 766   51  102]\n",
      " [  31  177   12]\n",
      " [1384   56 3376]]\n",
      "Recall:  0.8045454545454546\n"
     ]
    }
   ],
   "source": [
    "print(\"--Train--\")\n",
    "evaluate_model(y_train_sm, train_pred_gb2)\n",
    "print(\"--valid--\")\n",
    "evaluate_model(y_valid, valid_pred_gb2)"
   ]
  },
  {
   "cell_type": "markdown",
   "id": "5448d670",
   "metadata": {},
   "source": [
    "**Grid search GBM**"
   ]
  },
  {
   "cell_type": "code",
   "execution_count": 194,
   "id": "ff92feee",
   "metadata": {},
   "outputs": [],
   "source": [
    "from sklearn.model_selection import GridSearchCV\n",
    "param={'loss':['deviance'],\n",
    "       'learning_rate':[0.01,0.1,0,1,10],\n",
    "       'n_estimators':[10]}"
   ]
  },
  {
   "cell_type": "code",
   "execution_count": 195,
   "id": "8898440a",
   "metadata": {},
   "outputs": [
    {
     "name": "stdout",
     "output_type": "stream",
     "text": [
      "Fitting 3 folds for each of 5 candidates, totalling 15 fits\n"
     ]
    },
    {
     "data": {
      "text/plain": [
       "GridSearchCV(cv=3, estimator=GradientBoostingClassifier(), n_jobs=-1,\n",
       "             param_grid={'learning_rate': [0.01, 0.1, 0, 1, 10],\n",
       "                         'loss': ['deviance'], 'n_estimators': [10]},\n",
       "             verbose=1)"
      ]
     },
     "execution_count": 195,
     "metadata": {},
     "output_type": "execute_result"
    }
   ],
   "source": [
    "grid_search_gb = GridSearchCV(clf_gb1, param, verbose=1, cv=3,n_jobs=-1)\n",
    "grid_search_gb.fit(x_train_con, y_train)"
   ]
  },
  {
   "cell_type": "code",
   "execution_count": 196,
   "id": "4e879bf1",
   "metadata": {},
   "outputs": [
    {
     "data": {
      "text/plain": [
       "{'learning_rate': 0.1, 'loss': 'deviance', 'n_estimators': 10}"
      ]
     },
     "execution_count": 196,
     "metadata": {},
     "output_type": "execute_result"
    }
   ],
   "source": [
    "grid_search_gb.best_params_"
   ]
  },
  {
   "cell_type": "code",
   "execution_count": 197,
   "id": "ab5b6d5b",
   "metadata": {},
   "outputs": [],
   "source": [
    "train_pred_gb3 = grid_search_gb.predict(x_train_con)\n",
    "valid_pred_gb3 = grid_search_gb.predict(x_valid_con)"
   ]
  },
  {
   "cell_type": "code",
   "execution_count": 198,
   "id": "d26a9065",
   "metadata": {},
   "outputs": [
    {
     "name": "stdout",
     "output_type": "stream",
     "text": [
      "Classification Report \n",
      "               precision    recall  f1-score   support\n",
      "\n",
      "           0       0.65      0.10      0.18      2837\n",
      "           1       0.86      0.64      0.74       659\n",
      "           2       0.84      0.99      0.91     14369\n",
      "\n",
      "    accuracy                           0.84     17865\n",
      "   macro avg       0.78      0.58      0.61     17865\n",
      "weighted avg       0.81      0.84      0.79     17865\n",
      "\n",
      "classification report \n",
      "               precision    recall  f1-score   support\n",
      "\n",
      "           0       0.65      0.10      0.18       919\n",
      "           1       0.84      0.64      0.73       220\n",
      "           2       0.85      0.99      0.91      4816\n",
      "\n",
      "    accuracy                           0.84      5955\n",
      "   macro avg       0.78      0.58      0.61      5955\n",
      "weighted avg       0.82      0.84      0.79      5955\n",
      "\n"
     ]
    }
   ],
   "source": [
    "\n",
    "print(\"Classification Report \\n\", cr(y_train, train_pred_gb3))\n",
    "print(\"classification report \\n\", cr(y_valid, valid_pred_gb3))"
   ]
  },
  {
   "cell_type": "code",
   "execution_count": 199,
   "id": "17d0dd17",
   "metadata": {},
   "outputs": [
    {
     "name": "stdout",
     "output_type": "stream",
     "text": [
      "--Train--\n",
      "Confusion Matrix \n",
      " [[  295    50  2492]\n",
      " [   67   423   169]\n",
      " [   95    17 14257]]\n",
      "Recall:  0.6418816388467374\n",
      "--valid--\n",
      "Confusion Matrix \n",
      " [[  95   17  807]\n",
      " [  25  141   54]\n",
      " [  26    9 4781]]\n",
      "Recall:  0.6409090909090909\n"
     ]
    }
   ],
   "source": [
    "print(\"--Train--\")\n",
    "evaluate_model(y_train, train_pred_gb3)\n",
    "print(\"--valid--\")\n",
    "evaluate_model(y_valid, valid_pred_gb3)"
   ]
  },
  {
   "cell_type": "markdown",
   "id": "3cebc22b",
   "metadata": {},
   "source": [
    "# **AdaBoost**"
   ]
  },
  {
   "cell_type": "code",
   "execution_count": 200,
   "id": "47d4d5e8",
   "metadata": {},
   "outputs": [
    {
     "data": {
      "text/plain": [
       "AdaBoostClassifier()"
      ]
     },
     "execution_count": 200,
     "metadata": {},
     "output_type": "execute_result"
    }
   ],
   "source": [
    "from sklearn.ensemble import AdaBoostClassifier\n",
    "ada = AdaBoostClassifier()\n",
    "ada.fit(x_train_con, y_train)"
   ]
  },
  {
   "cell_type": "code",
   "execution_count": 201,
   "id": "7d81ed01",
   "metadata": {},
   "outputs": [],
   "source": [
    "train_pred_ada = ada.predict(x_train_con)\n",
    "valid_pred_ada = ada.predict(x_valid_con)"
   ]
  },
  {
   "cell_type": "code",
   "execution_count": 202,
   "id": "2971f69f",
   "metadata": {
    "scrolled": true
   },
   "outputs": [
    {
     "name": "stdout",
     "output_type": "stream",
     "text": [
      "Classification Report \n",
      "               precision    recall  f1-score   support\n",
      "\n",
      "           0       0.53      0.40      0.45      2837\n",
      "           1       0.72      0.72      0.72       659\n",
      "           2       0.89      0.93      0.91     14369\n",
      "\n",
      "    accuracy                           0.84     17865\n",
      "   macro avg       0.71      0.68      0.70     17865\n",
      "weighted avg       0.82      0.84      0.83     17865\n",
      "\n",
      "classification report \n",
      "               precision    recall  f1-score   support\n",
      "\n",
      "           0       0.52      0.43      0.47       919\n",
      "           1       0.74      0.71      0.73       220\n",
      "           2       0.90      0.93      0.91      4816\n",
      "\n",
      "    accuracy                           0.84      5955\n",
      "   macro avg       0.72      0.69      0.70      5955\n",
      "weighted avg       0.83      0.84      0.84      5955\n",
      "\n"
     ]
    }
   ],
   "source": [
    "print(\"Classification Report \\n\", cr(y_train, train_pred_ada))\n",
    "print(\"classification report \\n\", cr(y_valid, valid_pred_ada))"
   ]
  },
  {
   "cell_type": "code",
   "execution_count": 203,
   "id": "3cf69c85",
   "metadata": {},
   "outputs": [
    {
     "name": "stdout",
     "output_type": "stream",
     "text": [
      "--Train--\n",
      "Confusion Matrix \n",
      " [[ 1136    99  1602]\n",
      " [   99   477    83]\n",
      " [  923    82 13364]]\n",
      "Recall:  0.723823975720789\n",
      "--valid--\n",
      "Confusion Matrix \n",
      " [[ 394   32  493]\n",
      " [  33  157   30]\n",
      " [ 334   22 4460]]\n",
      "Recall:  0.7136363636363636\n"
     ]
    }
   ],
   "source": [
    "print(\"--Train--\")\n",
    "evaluate_model(y_train, train_pred_ada)\n",
    "print(\"--valid--\")\n",
    "evaluate_model(y_valid, valid_pred_ada)"
   ]
  },
  {
   "cell_type": "markdown",
   "id": "d81f4707",
   "metadata": {},
   "source": [
    "**Grid Sreach for adaboost**"
   ]
  },
  {
   "cell_type": "code",
   "execution_count": 204,
   "id": "81d1b1fb",
   "metadata": {},
   "outputs": [],
   "source": [
    "param={\n",
    "       'learning_rate':[0.01,0.1,0,1,10],\n",
    "       'n_estimators':[10,20,30,40]}"
   ]
  },
  {
   "cell_type": "code",
   "execution_count": 205,
   "id": "746b0d11",
   "metadata": {},
   "outputs": [
    {
     "name": "stdout",
     "output_type": "stream",
     "text": [
      "Fitting 3 folds for each of 20 candidates, totalling 60 fits\n"
     ]
    },
    {
     "data": {
      "text/plain": [
       "GridSearchCV(cv=3, estimator=AdaBoostClassifier(),\n",
       "             param_grid={'learning_rate': [0.01, 0.1, 0, 1, 10],\n",
       "                         'n_estimators': [10, 20, 30, 40]},\n",
       "             verbose=1)"
      ]
     },
     "execution_count": 205,
     "metadata": {},
     "output_type": "execute_result"
    }
   ],
   "source": [
    "grid_search_ada = GridSearchCV(ada, param, verbose=1, cv=3)\n",
    "grid_search_ada.fit(x_train_con, y_train)"
   ]
  },
  {
   "cell_type": "code",
   "execution_count": 206,
   "id": "0d93d617",
   "metadata": {},
   "outputs": [
    {
     "data": {
      "text/plain": [
       "{'learning_rate': 1, 'n_estimators': 30}"
      ]
     },
     "execution_count": 206,
     "metadata": {},
     "output_type": "execute_result"
    }
   ],
   "source": [
    "grid_search_ada.best_params_"
   ]
  },
  {
   "cell_type": "code",
   "execution_count": 207,
   "id": "7f35508e",
   "metadata": {},
   "outputs": [],
   "source": [
    "train_pred_ada2 = grid_search_ada.predict(x_train_con)\n",
    "valid_pred_ada2 = grid_search_ada.predict(x_valid_con)"
   ]
  },
  {
   "cell_type": "code",
   "execution_count": 208,
   "id": "9cb4fe86",
   "metadata": {},
   "outputs": [
    {
     "name": "stdout",
     "output_type": "stream",
     "text": [
      "Classification Report \n",
      "               precision    recall  f1-score   support\n",
      "\n",
      "           0       0.53      0.40      0.45      2837\n",
      "           1       0.67      0.76      0.71       659\n",
      "           2       0.89      0.93      0.91     14369\n",
      "\n",
      "    accuracy                           0.84     17865\n",
      "   macro avg       0.70      0.69      0.69     17865\n",
      "weighted avg       0.82      0.84      0.83     17865\n",
      "\n",
      "classification report \n",
      "               precision    recall  f1-score   support\n",
      "\n",
      "           0       0.52      0.41      0.46       919\n",
      "           1       0.70      0.75      0.72       220\n",
      "           2       0.89      0.93      0.91      4816\n",
      "\n",
      "    accuracy                           0.84      5955\n",
      "   macro avg       0.70      0.70      0.70      5955\n",
      "weighted avg       0.83      0.84      0.83      5955\n",
      "\n"
     ]
    }
   ],
   "source": [
    "print(\"Classification Report \\n\", cr(y_train, train_pred_ada2))\n",
    "print(\"classification report \\n\", cr(y_valid, valid_pred_ada2))"
   ]
  },
  {
   "cell_type": "code",
   "execution_count": 209,
   "id": "8479d7e5",
   "metadata": {},
   "outputs": [
    {
     "name": "stdout",
     "output_type": "stream",
     "text": [
      "--Train--\n",
      "Confusion Matrix \n",
      " [[ 1124   132  1581]\n",
      " [   77   498    84]\n",
      " [  931   112 13326]]\n",
      "Recall:  0.7556904400606981\n",
      "--valid--\n",
      "Confusion Matrix \n",
      " [[ 380   43  496]\n",
      " [  26  165   29]\n",
      " [ 331   29 4456]]\n",
      "Recall:  0.75\n"
     ]
    }
   ],
   "source": [
    "print(\"--Train--\")\n",
    "evaluate_model(y_train, train_pred_ada2)\n",
    "print(\"--valid--\")\n",
    "evaluate_model(y_valid, valid_pred_ada2)"
   ]
  },
  {
   "cell_type": "markdown",
   "id": "747519b4",
   "metadata": {},
   "source": [
    "**upsampling adaboost**"
   ]
  },
  {
   "cell_type": "code",
   "execution_count": 210,
   "id": "d55b6f62",
   "metadata": {
    "scrolled": true
   },
   "outputs": [
    {
     "data": {
      "text/plain": [
       "AdaBoostClassifier()"
      ]
     },
     "execution_count": 210,
     "metadata": {},
     "output_type": "execute_result"
    }
   ],
   "source": [
    "from sklearn.ensemble import AdaBoostClassifier\n",
    "ada3 = AdaBoostClassifier()\n",
    "ada3.fit(x_train_sm, y_train_sm)"
   ]
  },
  {
   "cell_type": "code",
   "execution_count": 211,
   "id": "001ecb53",
   "metadata": {},
   "outputs": [],
   "source": [
    "train_pred_ada3 = ada3.predict(x_train_sm)\n",
    "valid_pred_ada3 = ada3.predict(x_valid_con)"
   ]
  },
  {
   "cell_type": "code",
   "execution_count": 212,
   "id": "687d3d27",
   "metadata": {},
   "outputs": [
    {
     "name": "stdout",
     "output_type": "stream",
     "text": [
      "Classification Report \n",
      "               precision    recall  f1-score   support\n",
      "\n",
      "           0       0.67      0.86      0.75     14369\n",
      "           1       0.90      0.89      0.89     14369\n",
      "           2       0.88      0.64      0.74     14369\n",
      "\n",
      "    accuracy                           0.80     43107\n",
      "   macro avg       0.82      0.80      0.79     43107\n",
      "weighted avg       0.82      0.80      0.79     43107\n",
      "\n",
      "classification report \n",
      "               precision    recall  f1-score   support\n",
      "\n",
      "           0       0.32      0.86      0.46       919\n",
      "           1       0.48      0.81      0.60       220\n",
      "           2       0.97      0.62      0.76      4816\n",
      "\n",
      "    accuracy                           0.67      5955\n",
      "   macro avg       0.59      0.76      0.61      5955\n",
      "weighted avg       0.85      0.67      0.71      5955\n",
      "\n"
     ]
    }
   ],
   "source": [
    "print(\"Classification Report \\n\", cr(y_train_sm, train_pred_ada3))\n",
    "print(\"classification report \\n\", cr(y_valid, valid_pred_ada3))"
   ]
  },
  {
   "cell_type": "code",
   "execution_count": 213,
   "id": "2f701663",
   "metadata": {},
   "outputs": [
    {
     "name": "stdout",
     "output_type": "stream",
     "text": [
      "--Train--\n",
      "Confusion Matrix \n",
      " [[12364  1015   990]\n",
      " [ 1329 12777   263]\n",
      " [ 4754   469  9146]]\n",
      "Recall:  0.8892059294314149\n",
      "--valid--\n",
      "Confusion Matrix \n",
      " [[ 787   61   71]\n",
      " [  34  178    8]\n",
      " [1671  135 3010]]\n",
      "Recall:  0.8090909090909091\n"
     ]
    }
   ],
   "source": [
    "print(\"--Train--\")\n",
    "evaluate_model(y_train_sm, train_pred_ada3)\n",
    "print(\"--valid--\")\n",
    "evaluate_model(y_valid, valid_pred_ada3)"
   ]
  },
  {
   "cell_type": "markdown",
   "id": "b5e161a4",
   "metadata": {},
   "source": [
    "# **XGboost**"
   ]
  },
  {
   "cell_type": "code",
   "execution_count": 214,
   "id": "0e606710",
   "metadata": {},
   "outputs": [
    {
     "data": {
      "text/plain": [
       "XGBClassifier(base_score=0.5, booster='gbtree', callbacks=None,\n",
       "              colsample_bylevel=1, colsample_bynode=1, colsample_bytree=1,\n",
       "              early_stopping_rounds=None, enable_categorical=False,\n",
       "              eval_metric=None, feature_types=None, gamma=0, gpu_id=-1,\n",
       "              grow_policy='depthwise', importance_type=None,\n",
       "              interaction_constraints='', learning_rate=0.300000012,\n",
       "              max_bin=256, max_cat_threshold=64, max_cat_to_onehot=4,\n",
       "              max_delta_step=0, max_depth=6, max_leaves=0, min_child_weight=1,\n",
       "              missing=nan, monotone_constraints='()', n_estimators=100,\n",
       "              n_jobs=0, num_parallel_tree=1, objective='multi:softprob',\n",
       "              predictor='auto', ...)"
      ]
     },
     "execution_count": 214,
     "metadata": {},
     "output_type": "execute_result"
    }
   ],
   "source": [
    "from xgboost import XGBClassifier\n",
    "xgb = XGBClassifier()\n",
    "xgb.fit(x_train_con, y_train)"
   ]
  },
  {
   "cell_type": "code",
   "execution_count": 215,
   "id": "9e65d0b4",
   "metadata": {},
   "outputs": [],
   "source": [
    "train_pred_xgb = xgb.predict(x_train_con)\n",
    "valid_pred_xgb = xgb.predict(x_valid_con)"
   ]
  },
  {
   "cell_type": "code",
   "execution_count": 216,
   "id": "21d063b4",
   "metadata": {},
   "outputs": [
    {
     "name": "stdout",
     "output_type": "stream",
     "text": [
      "Classification Report \n",
      "               precision    recall  f1-score   support\n",
      "\n",
      "           0       0.77      0.48      0.59      2837\n",
      "           1       0.99      0.84      0.91       659\n",
      "           2       0.90      0.98      0.94     14369\n",
      "\n",
      "    accuracy                           0.89     17865\n",
      "   macro avg       0.89      0.76      0.81     17865\n",
      "weighted avg       0.88      0.89      0.88     17865\n",
      "\n",
      "classification report \n",
      "               precision    recall  f1-score   support\n",
      "\n",
      "           0       0.57      0.36      0.44       919\n",
      "           1       0.79      0.65      0.71       220\n",
      "           2       0.88      0.95      0.92      4816\n",
      "\n",
      "    accuracy                           0.85      5955\n",
      "   macro avg       0.75      0.65      0.69      5955\n",
      "weighted avg       0.83      0.85      0.84      5955\n",
      "\n"
     ]
    }
   ],
   "source": [
    "print(\"Classification Report \\n\", cr(y_train, train_pred_xgb))\n",
    "print(\"classification report \\n\", cr(y_valid, valid_pred_xgb))"
   ]
  },
  {
   "cell_type": "code",
   "execution_count": 217,
   "id": "543eb07b",
   "metadata": {},
   "outputs": [
    {
     "name": "stdout",
     "output_type": "stream",
     "text": [
      "--Train--\n",
      "Confusion Matrix \n",
      " [[ 1360     4  1473]\n",
      " [   50   551    58]\n",
      " [  349     3 14017]]\n",
      "Recall:  0.8361153262518968\n",
      "--valid--\n",
      "Confusion Matrix \n",
      " [[ 331   22  566]\n",
      " [  38  143   39]\n",
      " [ 210   16 4590]]\n",
      "Recall:  0.65\n"
     ]
    }
   ],
   "source": [
    "print(\"--Train--\")\n",
    "evaluate_model(y_train, train_pred_xgb)\n",
    "print(\"--valid--\")\n",
    "evaluate_model(y_valid, valid_pred_xgb)"
   ]
  },
  {
   "cell_type": "markdown",
   "id": "d16c6135",
   "metadata": {},
   "source": [
    "**Upsampling XGB**"
   ]
  },
  {
   "cell_type": "code",
   "execution_count": 218,
   "id": "166a013c",
   "metadata": {},
   "outputs": [
    {
     "data": {
      "text/plain": [
       "XGBClassifier(base_score=0.5, booster='gbtree', callbacks=None,\n",
       "              colsample_bylevel=1, colsample_bynode=1, colsample_bytree=1,\n",
       "              early_stopping_rounds=None, enable_categorical=False,\n",
       "              eval_metric=None, feature_types=None, gamma=0, gpu_id=-1,\n",
       "              grow_policy='depthwise', importance_type=None,\n",
       "              interaction_constraints='', learning_rate=0.300000012,\n",
       "              max_bin=256, max_cat_threshold=64, max_cat_to_onehot=4,\n",
       "              max_delta_step=0, max_depth=6, max_leaves=0, min_child_weight=1,\n",
       "              missing=nan, monotone_constraints='()', n_estimators=100,\n",
       "              n_jobs=0, num_parallel_tree=1, objective='multi:softprob',\n",
       "              predictor='auto', ...)"
      ]
     },
     "execution_count": 218,
     "metadata": {},
     "output_type": "execute_result"
    }
   ],
   "source": [
    "xgb2 = XGBClassifier()\n",
    "xgb2.fit(x_train_sm, y_train_sm)"
   ]
  },
  {
   "cell_type": "code",
   "execution_count": 219,
   "id": "922761da",
   "metadata": {},
   "outputs": [],
   "source": [
    "train_pred_xgb2 = xgb2.predict(x_train_sm)\n",
    "valid_pred_xgb2 = xgb2.predict(x_valid_con)"
   ]
  },
  {
   "cell_type": "code",
   "execution_count": 220,
   "id": "4931e00b",
   "metadata": {},
   "outputs": [
    {
     "name": "stdout",
     "output_type": "stream",
     "text": [
      "Classification Report \n",
      "               precision    recall  f1-score   support\n",
      "\n",
      "           0       0.77      0.92      0.84     14369\n",
      "           1       0.96      0.94      0.95     14369\n",
      "           2       0.94      0.79      0.86     14369\n",
      "\n",
      "    accuracy                           0.88     43107\n",
      "   macro avg       0.89      0.88      0.88     43107\n",
      "weighted avg       0.89      0.88      0.88     43107\n",
      "\n",
      "classification report \n",
      "               precision    recall  f1-score   support\n",
      "\n",
      "           0       0.37      0.78      0.50       919\n",
      "           1       0.67      0.75      0.71       220\n",
      "           2       0.95      0.75      0.84      4816\n",
      "\n",
      "    accuracy                           0.75      5955\n",
      "   macro avg       0.67      0.76      0.68      5955\n",
      "weighted avg       0.85      0.75      0.78      5955\n",
      "\n"
     ]
    }
   ],
   "source": [
    "print(\"Classification Report \\n\", cr(y_train_sm, train_pred_xgb2))\n",
    "print(\"classification report \\n\", cr(y_valid, valid_pred_xgb2))"
   ]
  },
  {
   "cell_type": "code",
   "execution_count": 221,
   "id": "514d484d",
   "metadata": {},
   "outputs": [
    {
     "name": "stdout",
     "output_type": "stream",
     "text": [
      "--Train--\n",
      "Confusion Matrix \n",
      " [[13213   489   667]\n",
      " [  849 13459    61]\n",
      " [ 3014    49 11306]]\n",
      "Recall:  0.9366692184563992\n",
      "--valid--\n",
      "Confusion Matrix \n",
      " [[ 714   51  154]\n",
      " [  32  166   22]\n",
      " [1175   29 3612]]\n",
      "Recall:  0.7545454545454545\n"
     ]
    }
   ],
   "source": [
    "print(\"--Train--\")\n",
    "evaluate_model(y_train_sm, train_pred_xgb2)\n",
    "print(\"--valid--\")\n",
    "evaluate_model(y_valid, valid_pred_xgb2)"
   ]
  },
  {
   "cell_type": "markdown",
   "id": "1c49a4b7",
   "metadata": {},
   "source": [
    "**Gridsearch XGB**"
   ]
  },
  {
   "cell_type": "code",
   "execution_count": 222,
   "id": "b211d71f",
   "metadata": {},
   "outputs": [],
   "source": [
    "estimator = XGBClassifier(\n",
    "    objective= 'binary:logistic',\n",
    "    nthread=3,\n",
    "    seed=22\n",
    ")"
   ]
  },
  {
   "cell_type": "code",
   "execution_count": 223,
   "id": "67abeb8a",
   "metadata": {},
   "outputs": [],
   "source": [
    "parameters = {\n",
    "    'max_depth': range (2, 10, 1),\n",
    "    'n_estimators': range(60, 220, 40),\n",
    "    'learning_rate': [0.1, 0.01, 0.05]\n",
    "}"
   ]
  },
  {
   "cell_type": "code",
   "execution_count": 224,
   "id": "5819f236",
   "metadata": {},
   "outputs": [],
   "source": [
    "grid_search_XGB = GridSearchCV(\n",
    "    estimator=estimator,\n",
    "    param_grid=parameters,\n",
    "    scoring = 'roc_auc',\n",
    "    n_jobs = 5,\n",
    "    cv = 2,\n",
    "    verbose=True\n",
    ")"
   ]
  },
  {
   "cell_type": "code",
   "execution_count": 225,
   "id": "cc39237c",
   "metadata": {},
   "outputs": [
    {
     "name": "stdout",
     "output_type": "stream",
     "text": [
      "Fitting 2 folds for each of 96 candidates, totalling 192 fits\n"
     ]
    },
    {
     "data": {
      "text/plain": [
       "GridSearchCV(cv=2,\n",
       "             estimator=XGBClassifier(base_score=None, booster=None,\n",
       "                                     callbacks=None, colsample_bylevel=None,\n",
       "                                     colsample_bynode=None,\n",
       "                                     colsample_bytree=None,\n",
       "                                     early_stopping_rounds=None,\n",
       "                                     enable_categorical=False, eval_metric=None,\n",
       "                                     feature_types=None, gamma=None,\n",
       "                                     gpu_id=None, grow_policy=None,\n",
       "                                     importance_type=None,\n",
       "                                     interaction_constraints=None,\n",
       "                                     learning_rate=None,...\n",
       "                                     max_cat_to_onehot=None,\n",
       "                                     max_delta_step=None, max_depth=None,\n",
       "                                     max_leaves=None, min_child_weight=None,\n",
       "                                     missing=nan, monotone_constraints=None,\n",
       "                                     n_estimators=100, n_jobs=None, nthread=3,\n",
       "                                     num_parallel_tree=None, predictor=None, ...),\n",
       "             n_jobs=5,\n",
       "             param_grid={'learning_rate': [0.1, 0.01, 0.05],\n",
       "                         'max_depth': range(2, 10),\n",
       "                         'n_estimators': range(60, 220, 40)},\n",
       "             scoring='roc_auc', verbose=True)"
      ]
     },
     "execution_count": 225,
     "metadata": {},
     "output_type": "execute_result"
    }
   ],
   "source": [
    "grid_search_XGB.fit(x_train_con, y_train)"
   ]
  },
  {
   "cell_type": "code",
   "execution_count": 226,
   "id": "f5a53d44",
   "metadata": {},
   "outputs": [
    {
     "data": {
      "text/plain": [
       "{'learning_rate': 0.1, 'max_depth': 2, 'n_estimators': 60}"
      ]
     },
     "execution_count": 226,
     "metadata": {},
     "output_type": "execute_result"
    }
   ],
   "source": [
    "grid_search_XGB.best_params_"
   ]
  },
  {
   "cell_type": "code",
   "execution_count": 227,
   "id": "9b3070f7",
   "metadata": {},
   "outputs": [],
   "source": [
    "train_pred_xgb3 = grid_search_XGB.predict(x_train_con)\n",
    "valid_pred_xgb3 = grid_search_XGB.predict(x_valid_con)"
   ]
  },
  {
   "cell_type": "code",
   "execution_count": 228,
   "id": "a590a2c5",
   "metadata": {},
   "outputs": [
    {
     "name": "stdout",
     "output_type": "stream",
     "text": [
      "--Train--\n",
      "Confusion Matrix \n",
      " [[  540    56  2241]\n",
      " [  102   438   119]\n",
      " [  199    29 14141]]\n",
      "Recall:  0.6646433990895296\n",
      "--valid--\n",
      "Confusion Matrix \n",
      " [[ 194   18  707]\n",
      " [  35  145   40]\n",
      " [  64   11 4741]]\n",
      "Recall:  0.6590909090909091\n"
     ]
    }
   ],
   "source": [
    "print(\"--Train--\")\n",
    "evaluate_model(y_train, train_pred_xgb3)\n",
    "print(\"--valid--\")\n",
    "evaluate_model(y_valid, valid_pred_xgb3)"
   ]
  },
  {
   "cell_type": "markdown",
   "id": "8c771f95",
   "metadata": {},
   "source": [
    "# **creating dataframe**"
   ]
  },
  {
   "cell_type": "code",
   "execution_count": 229,
   "id": "48c91029",
   "metadata": {},
   "outputs": [],
   "source": [
    "performance_columns = ['Model name','Train recall', 'Test recall']\n",
    "performance_comparison = pd.DataFrame(columns=performance_columns)"
   ]
  },
  {
   "cell_type": "code",
   "execution_count": 230,
   "id": "2a3a633a",
   "metadata": {},
   "outputs": [],
   "source": [
    "def add_to_perform_compare_df(df, model_name, train_actual, train_predict, test_actual, test_predict):\n",
    "    #function to create dataframe of all the evaluaction metrics of all the models \n",
    "    from sklearn.metrics import recall_score\n",
    "    \n",
    "    #for test Recall   \n",
    "    train_recall = recall_score(train_actual, train_predict,average='weighted')\n",
    "    #for train Recall\n",
    "    test_recall = recall_score(test_actual,test_predict,average='weighted')\n",
    "   \n",
    "    df = df.append(pd.Series([model_name, train_recall, test_recall],index=df.columns),ignore_index=True)\n",
    "    return df"
   ]
  },
  {
   "cell_type": "code",
   "execution_count": 231,
   "id": "e096e521",
   "metadata": {},
   "outputs": [],
   "source": [
    "performance_comparison = add_to_perform_compare_df(performance_comparison, 'KNN', y_train, train_pred_knn1, y_valid, valid_pred_knn1)"
   ]
  },
  {
   "cell_type": "code",
   "execution_count": 232,
   "id": "83034630",
   "metadata": {},
   "outputs": [],
   "source": [
    "performance_comparison = add_to_perform_compare_df(performance_comparison, 'KNN_gridsearch', y_train, train_pred_knn2, y_valid, valid_pred_knn2)"
   ]
  },
  {
   "cell_type": "code",
   "execution_count": 233,
   "id": "38004e76",
   "metadata": {},
   "outputs": [],
   "source": [
    "performance_comparison = add_to_perform_compare_df(performance_comparison, 'KNN_upsampled', y_train_sm, train_pred_knn3, y_valid, valid_pred_knn3)"
   ]
  },
  {
   "cell_type": "code",
   "execution_count": 234,
   "id": "6854e139",
   "metadata": {},
   "outputs": [],
   "source": [
    "performance_comparison = add_to_perform_compare_df(performance_comparison, 'RandomForest', y_train, train_pred_rf1, y_valid, valid_pred_rf1)"
   ]
  },
  {
   "cell_type": "code",
   "execution_count": 235,
   "id": "534b14ae",
   "metadata": {},
   "outputs": [],
   "source": [
    "performance_comparison = add_to_perform_compare_df(performance_comparison, 'RandomForest_grid', y_train, train_pred_rf2, y_valid, valid_pred_rf2)"
   ]
  },
  {
   "cell_type": "code",
   "execution_count": 236,
   "id": "d07af65f",
   "metadata": {},
   "outputs": [],
   "source": [
    "performance_comparison = add_to_perform_compare_df(performance_comparison, 'RandomForest_upsampled', y_train_sm, train_pred_rf3, y_valid, valid_pred_rf3)"
   ]
  },
  {
   "cell_type": "code",
   "execution_count": 237,
   "id": "375e2400",
   "metadata": {},
   "outputs": [],
   "source": [
    "performance_comparison = add_to_perform_compare_df(performance_comparison, 'Decision Tree', y_train, train_pred_dt1, y_valid, valid_pred_dt1)"
   ]
  },
  {
   "cell_type": "code",
   "execution_count": 238,
   "id": "d6a837a5",
   "metadata": {},
   "outputs": [],
   "source": [
    "performance_comparison = add_to_perform_compare_df(performance_comparison, 'Decision Tree_upsampling', y_train_sm, train_pred_dt2, y_valid, valid_pred_dt2)"
   ]
  },
  {
   "cell_type": "code",
   "execution_count": 239,
   "id": "a64d4087",
   "metadata": {},
   "outputs": [],
   "source": [
    "performance_comparison = add_to_perform_compare_df(performance_comparison, 'Decision Tree_grid', y_train, train_pred_dt3, y_valid, valid_pred_dt3)"
   ]
  },
  {
   "cell_type": "code",
   "execution_count": 240,
   "id": "a1ae2da3",
   "metadata": {},
   "outputs": [],
   "source": [
    "performance_comparison = add_to_perform_compare_df(performance_comparison, 'GBM', y_train, train_pred_gb1, y_valid, valid_pred_gb1)"
   ]
  },
  {
   "cell_type": "code",
   "execution_count": 241,
   "id": "fb436a19",
   "metadata": {},
   "outputs": [],
   "source": [
    "performance_comparison = add_to_perform_compare_df(performance_comparison, 'GBM_grid', y_train, train_pred_gb3, y_valid, valid_pred_gb3)"
   ]
  },
  {
   "cell_type": "code",
   "execution_count": 242,
   "id": "6202ddd9",
   "metadata": {},
   "outputs": [],
   "source": [
    "performance_comparison = add_to_perform_compare_df(performance_comparison, 'GBM_upsampled', y_train_sm, train_pred_gb2, y_valid, valid_pred_gb2)"
   ]
  },
  {
   "cell_type": "code",
   "execution_count": 243,
   "id": "7782b6df",
   "metadata": {},
   "outputs": [],
   "source": [
    "performance_comparison = add_to_perform_compare_df(performance_comparison, 'AdaBoost', y_train, train_pred_ada, y_valid, valid_pred_ada)"
   ]
  },
  {
   "cell_type": "code",
   "execution_count": 244,
   "id": "5c6b6e0b",
   "metadata": {},
   "outputs": [],
   "source": [
    "performance_comparison = add_to_perform_compare_df(performance_comparison, 'ada_grid', y_train, train_pred_ada2, y_valid, valid_pred_ada2)"
   ]
  },
  {
   "cell_type": "code",
   "execution_count": 245,
   "id": "f6454752",
   "metadata": {},
   "outputs": [],
   "source": [
    "performance_comparison = add_to_perform_compare_df(performance_comparison, 'GBM_upsampled', y_train_sm, train_pred_ada3, y_valid, valid_pred_ada3)"
   ]
  },
  {
   "cell_type": "code",
   "execution_count": 246,
   "id": "2ee5fe7f",
   "metadata": {},
   "outputs": [],
   "source": [
    "performance_comparison = add_to_perform_compare_df(performance_comparison, 'XGB', y_train, train_pred_xgb, y_valid, valid_pred_xgb)"
   ]
  },
  {
   "cell_type": "code",
   "execution_count": 247,
   "id": "d2c586c4",
   "metadata": {},
   "outputs": [],
   "source": [
    "performance_comparison = add_to_perform_compare_df(performance_comparison, 'XGB_grid', y_train, train_pred_xgb3, y_valid, valid_pred_xgb3)"
   ]
  },
  {
   "cell_type": "code",
   "execution_count": 248,
   "id": "c9ffd86d",
   "metadata": {},
   "outputs": [],
   "source": [
    "performance_comparison = add_to_perform_compare_df(performance_comparison, 'XGB_upsampled', y_train_sm, train_pred_xgb2, y_valid, valid_pred_xgb2)"
   ]
  },
  {
   "cell_type": "code",
   "execution_count": 249,
   "id": "9b2f1ab7",
   "metadata": {},
   "outputs": [
    {
     "data": {
      "text/html": [
       "<div>\n",
       "<style scoped>\n",
       "    .dataframe tbody tr th:only-of-type {\n",
       "        vertical-align: middle;\n",
       "    }\n",
       "\n",
       "    .dataframe tbody tr th {\n",
       "        vertical-align: top;\n",
       "    }\n",
       "\n",
       "    .dataframe thead th {\n",
       "        text-align: right;\n",
       "    }\n",
       "</style>\n",
       "<table border=\"1\" class=\"dataframe\">\n",
       "  <thead>\n",
       "    <tr style=\"text-align: right;\">\n",
       "      <th></th>\n",
       "      <th>Model name</th>\n",
       "      <th>Train recall</th>\n",
       "      <th>Test recall</th>\n",
       "    </tr>\n",
       "  </thead>\n",
       "  <tbody>\n",
       "    <tr>\n",
       "      <th>0</th>\n",
       "      <td>KNN</td>\n",
       "      <td>0.867506</td>\n",
       "      <td>0.839798</td>\n",
       "    </tr>\n",
       "    <tr>\n",
       "      <th>1</th>\n",
       "      <td>KNN_gridsearch</td>\n",
       "      <td>0.854688</td>\n",
       "      <td>0.840806</td>\n",
       "    </tr>\n",
       "    <tr>\n",
       "      <th>2</th>\n",
       "      <td>KNN_upsampled</td>\n",
       "      <td>0.872016</td>\n",
       "      <td>0.734341</td>\n",
       "    </tr>\n",
       "    <tr>\n",
       "      <th>3</th>\n",
       "      <td>RandomForest</td>\n",
       "      <td>0.920739</td>\n",
       "      <td>0.832242</td>\n",
       "    </tr>\n",
       "    <tr>\n",
       "      <th>4</th>\n",
       "      <td>RandomForest_grid</td>\n",
       "      <td>0.870137</td>\n",
       "      <td>0.852561</td>\n",
       "    </tr>\n",
       "    <tr>\n",
       "      <th>5</th>\n",
       "      <td>RandomForest_upsampled</td>\n",
       "      <td>0.923655</td>\n",
       "      <td>0.761041</td>\n",
       "    </tr>\n",
       "    <tr>\n",
       "      <th>6</th>\n",
       "      <td>Decision Tree</td>\n",
       "      <td>0.942569</td>\n",
       "      <td>0.811083</td>\n",
       "    </tr>\n",
       "    <tr>\n",
       "      <th>7</th>\n",
       "      <td>Decision Tree_upsampling</td>\n",
       "      <td>0.945113</td>\n",
       "      <td>0.745592</td>\n",
       "    </tr>\n",
       "    <tr>\n",
       "      <th>8</th>\n",
       "      <td>Decision Tree_grid</td>\n",
       "      <td>0.85508</td>\n",
       "      <td>0.852897</td>\n",
       "    </tr>\n",
       "    <tr>\n",
       "      <th>9</th>\n",
       "      <td>GBM</td>\n",
       "      <td>0.859558</td>\n",
       "      <td>0.856759</td>\n",
       "    </tr>\n",
       "    <tr>\n",
       "      <th>10</th>\n",
       "      <td>GBM_grid</td>\n",
       "      <td>0.838231</td>\n",
       "      <td>0.842485</td>\n",
       "    </tr>\n",
       "    <tr>\n",
       "      <th>11</th>\n",
       "      <td>GBM_upsampled</td>\n",
       "      <td>0.833716</td>\n",
       "      <td>0.725273</td>\n",
       "    </tr>\n",
       "    <tr>\n",
       "      <th>12</th>\n",
       "      <td>AdaBoost</td>\n",
       "      <td>0.838343</td>\n",
       "      <td>0.841478</td>\n",
       "    </tr>\n",
       "    <tr>\n",
       "      <th>13</th>\n",
       "      <td>ada_grid</td>\n",
       "      <td>0.83672</td>\n",
       "      <td>0.839798</td>\n",
       "    </tr>\n",
       "    <tr>\n",
       "      <th>14</th>\n",
       "      <td>GBM_upsampled</td>\n",
       "      <td>0.795393</td>\n",
       "      <td>0.667506</td>\n",
       "    </tr>\n",
       "    <tr>\n",
       "      <th>15</th>\n",
       "      <td>XGB</td>\n",
       "      <td>0.891576</td>\n",
       "      <td>0.850378</td>\n",
       "    </tr>\n",
       "    <tr>\n",
       "      <th>16</th>\n",
       "      <td>XGB_grid</td>\n",
       "      <td>0.846292</td>\n",
       "      <td>0.853065</td>\n",
       "    </tr>\n",
       "    <tr>\n",
       "      <th>17</th>\n",
       "      <td>XGB_upsampled</td>\n",
       "      <td>0.881017</td>\n",
       "      <td>0.754324</td>\n",
       "    </tr>\n",
       "  </tbody>\n",
       "</table>\n",
       "</div>"
      ],
      "text/plain": [
       "                  Model name Train recall Test recall\n",
       "0                        KNN     0.867506    0.839798\n",
       "1             KNN_gridsearch     0.854688    0.840806\n",
       "2              KNN_upsampled     0.872016    0.734341\n",
       "3               RandomForest     0.920739    0.832242\n",
       "4          RandomForest_grid     0.870137    0.852561\n",
       "5     RandomForest_upsampled     0.923655    0.761041\n",
       "6              Decision Tree     0.942569    0.811083\n",
       "7   Decision Tree_upsampling     0.945113    0.745592\n",
       "8         Decision Tree_grid      0.85508    0.852897\n",
       "9                        GBM     0.859558    0.856759\n",
       "10                  GBM_grid     0.838231    0.842485\n",
       "11             GBM_upsampled     0.833716    0.725273\n",
       "12                  AdaBoost     0.838343    0.841478\n",
       "13                  ada_grid      0.83672    0.839798\n",
       "14             GBM_upsampled     0.795393    0.667506\n",
       "15                       XGB     0.891576    0.850378\n",
       "16                  XGB_grid     0.846292    0.853065\n",
       "17             XGB_upsampled     0.881017    0.754324"
      ]
     },
     "execution_count": 249,
     "metadata": {},
     "output_type": "execute_result"
    }
   ],
   "source": [
    "performance_comparison"
   ]
  },
  {
   "cell_type": "markdown",
   "id": "13019a78",
   "metadata": {},
   "source": [
    "**>From the above table we can see that gridsearch of every model performed a bit better than any other model**\n",
    "\n",
    "**>Decision Tree_upsampled has the best train recall score ie, 0.94**\n",
    "\n",
    "**>GBM has the best Test recall score ie, 0.86**\n",
    "\n",
    "\n"
   ]
  },
  {
   "cell_type": "markdown",
   "id": "4c43b984",
   "metadata": {},
   "source": [
    "# Test data"
   ]
  },
  {
   "cell_type": "markdown",
   "id": "251a8271",
   "metadata": {},
   "source": [
    "# **Reading Test data**"
   ]
  },
  {
   "cell_type": "code",
   "execution_count": 250,
   "id": "13c3c225",
   "metadata": {},
   "outputs": [],
   "source": [
    "##reading data file\n",
    "cust_test = pd.read_excel(r'C:\\Users\\saipr\\Downloads\\TestData\\Customerdata_Test.xlsx',na_values=['#','?',',','*'])\n",
    "email_test = pd.read_excel(r'C:\\Users\\saipr\\Downloads\\TestData\\Emaildata_Test.xlsx',na_values=['#','?',',','*'])\n",
    "test = pd.read_excel(r'C:\\Users\\saipr\\Downloads\\TestData\\Test.xlsx',na_values=['#','?',',','*'])\n",
    "trans_test = pd.read_excel(r'C:\\Users\\saipr\\Downloads\\TestData\\transactionsdata_Test.xlsx',na_values=['#','?',',','*'])\n",
    " "
   ]
  },
  {
   "cell_type": "markdown",
   "id": "23478327",
   "metadata": {},
   "source": [
    "**Checking shape**"
   ]
  },
  {
   "cell_type": "code",
   "execution_count": 251,
   "id": "b3842cb2",
   "metadata": {},
   "outputs": [
    {
     "name": "stdout",
     "output_type": "stream",
     "text": [
      "(5955, 7)\n",
      "(129074, 6)\n",
      "(26768, 4)\n",
      "(5955, 1)\n"
     ]
    }
   ],
   "source": [
    "print(cust_test.shape)\n",
    "print(email_test.shape)\n",
    "print(trans_test.shape)\n",
    "print(test.shape)"
   ]
  },
  {
   "cell_type": "code",
   "execution_count": 252,
   "id": "37b14a5a",
   "metadata": {},
   "outputs": [
    {
     "data": {
      "text/html": [
       "<div>\n",
       "<style scoped>\n",
       "    .dataframe tbody tr th:only-of-type {\n",
       "        vertical-align: middle;\n",
       "    }\n",
       "\n",
       "    .dataframe tbody tr th {\n",
       "        vertical-align: top;\n",
       "    }\n",
       "\n",
       "    .dataframe thead th {\n",
       "        text-align: right;\n",
       "    }\n",
       "</style>\n",
       "<table border=\"1\" class=\"dataframe\">\n",
       "  <thead>\n",
       "    <tr style=\"text-align: right;\">\n",
       "      <th></th>\n",
       "      <th>CustomerID</th>\n",
       "      <th>City</th>\n",
       "      <th>DateOfRegistration</th>\n",
       "      <th>OnlineCommunication</th>\n",
       "      <th>AutomaticRefill</th>\n",
       "      <th>DoorstepDelivery</th>\n",
       "      <th>PreferredDeliveryDay</th>\n",
       "    </tr>\n",
       "  </thead>\n",
       "  <tbody>\n",
       "    <tr>\n",
       "      <th>0</th>\n",
       "      <td>C17838</td>\n",
       "      <td>CITY4</td>\n",
       "      <td>2010-10-22</td>\n",
       "      <td>0</td>\n",
       "      <td>0</td>\n",
       "      <td>0</td>\n",
       "      <td>Thursday</td>\n",
       "    </tr>\n",
       "    <tr>\n",
       "      <th>1</th>\n",
       "      <td>C12403</td>\n",
       "      <td>CITY2</td>\n",
       "      <td>2008-11-17</td>\n",
       "      <td>1</td>\n",
       "      <td>1</td>\n",
       "      <td>0</td>\n",
       "      <td>Wednesday</td>\n",
       "    </tr>\n",
       "    <tr>\n",
       "      <th>2</th>\n",
       "      <td>C19041</td>\n",
       "      <td>CITY4</td>\n",
       "      <td>2011-01-24</td>\n",
       "      <td>0</td>\n",
       "      <td>1</td>\n",
       "      <td>0</td>\n",
       "      <td>Friday</td>\n",
       "    </tr>\n",
       "    <tr>\n",
       "      <th>3</th>\n",
       "      <td>C24069</td>\n",
       "      <td>CITY2</td>\n",
       "      <td>2010-09-18</td>\n",
       "      <td>0</td>\n",
       "      <td>0</td>\n",
       "      <td>0</td>\n",
       "      <td>Wednesday</td>\n",
       "    </tr>\n",
       "    <tr>\n",
       "      <th>4</th>\n",
       "      <td>C26718</td>\n",
       "      <td>CITY2</td>\n",
       "      <td>2010-10-02</td>\n",
       "      <td>1</td>\n",
       "      <td>0</td>\n",
       "      <td>0</td>\n",
       "      <td>Monday</td>\n",
       "    </tr>\n",
       "    <tr>\n",
       "      <th>...</th>\n",
       "      <td>...</td>\n",
       "      <td>...</td>\n",
       "      <td>...</td>\n",
       "      <td>...</td>\n",
       "      <td>...</td>\n",
       "      <td>...</td>\n",
       "      <td>...</td>\n",
       "    </tr>\n",
       "    <tr>\n",
       "      <th>5950</th>\n",
       "      <td>C32947</td>\n",
       "      <td>CITY2</td>\n",
       "      <td>2018-01-17</td>\n",
       "      <td>1</td>\n",
       "      <td>0</td>\n",
       "      <td>0</td>\n",
       "      <td>Friday</td>\n",
       "    </tr>\n",
       "    <tr>\n",
       "      <th>5951</th>\n",
       "      <td>C28951</td>\n",
       "      <td>CITY3</td>\n",
       "      <td>2018-01-17</td>\n",
       "      <td>1</td>\n",
       "      <td>0</td>\n",
       "      <td>0</td>\n",
       "      <td>Friday</td>\n",
       "    </tr>\n",
       "    <tr>\n",
       "      <th>5952</th>\n",
       "      <td>C38741</td>\n",
       "      <td>CITY3</td>\n",
       "      <td>2018-01-17</td>\n",
       "      <td>1</td>\n",
       "      <td>0</td>\n",
       "      <td>0</td>\n",
       "      <td>Monday</td>\n",
       "    </tr>\n",
       "    <tr>\n",
       "      <th>5953</th>\n",
       "      <td>C20407</td>\n",
       "      <td>CITY2</td>\n",
       "      <td>2018-01-17</td>\n",
       "      <td>1</td>\n",
       "      <td>0</td>\n",
       "      <td>0</td>\n",
       "      <td>Friday</td>\n",
       "    </tr>\n",
       "    <tr>\n",
       "      <th>5954</th>\n",
       "      <td>C27220</td>\n",
       "      <td>CITY3</td>\n",
       "      <td>2018-01-17</td>\n",
       "      <td>1</td>\n",
       "      <td>0</td>\n",
       "      <td>0</td>\n",
       "      <td>Friday</td>\n",
       "    </tr>\n",
       "  </tbody>\n",
       "</table>\n",
       "<p>5955 rows × 7 columns</p>\n",
       "</div>"
      ],
      "text/plain": [
       "     CustomerID   City DateOfRegistration  OnlineCommunication  \\\n",
       "0        C17838  CITY4         2010-10-22                    0   \n",
       "1        C12403  CITY2         2008-11-17                    1   \n",
       "2        C19041  CITY4         2011-01-24                    0   \n",
       "3        C24069  CITY2         2010-09-18                    0   \n",
       "4        C26718  CITY2         2010-10-02                    1   \n",
       "...         ...    ...                ...                  ...   \n",
       "5950     C32947  CITY2         2018-01-17                    1   \n",
       "5951     C28951  CITY3         2018-01-17                    1   \n",
       "5952     C38741  CITY3         2018-01-17                    1   \n",
       "5953     C20407  CITY2         2018-01-17                    1   \n",
       "5954     C27220  CITY3         2018-01-17                    1   \n",
       "\n",
       "      AutomaticRefill  DoorstepDelivery PreferredDeliveryDay  \n",
       "0                   0                 0             Thursday  \n",
       "1                   1                 0            Wednesday  \n",
       "2                   1                 0               Friday  \n",
       "3                   0                 0            Wednesday  \n",
       "4                   0                 0               Monday  \n",
       "...               ...               ...                  ...  \n",
       "5950                0                 0               Friday  \n",
       "5951                0                 0               Friday  \n",
       "5952                0                 0               Monday  \n",
       "5953                0                 0               Friday  \n",
       "5954                0                 0               Friday  \n",
       "\n",
       "[5955 rows x 7 columns]"
      ]
     },
     "execution_count": 252,
     "metadata": {},
     "output_type": "execute_result"
    }
   ],
   "source": [
    "cust_test"
   ]
  },
  {
   "cell_type": "code",
   "execution_count": 253,
   "id": "3155b0b5",
   "metadata": {},
   "outputs": [
    {
     "data": {
      "text/html": [
       "<div>\n",
       "<style scoped>\n",
       "    .dataframe tbody tr th:only-of-type {\n",
       "        vertical-align: middle;\n",
       "    }\n",
       "\n",
       "    .dataframe tbody tr th {\n",
       "        vertical-align: top;\n",
       "    }\n",
       "\n",
       "    .dataframe thead th {\n",
       "        text-align: right;\n",
       "    }\n",
       "</style>\n",
       "<table border=\"1\" class=\"dataframe\">\n",
       "  <thead>\n",
       "    <tr style=\"text-align: right;\">\n",
       "      <th></th>\n",
       "      <th>CustomerID</th>\n",
       "      <th>DateOfemail</th>\n",
       "      <th>EmailType</th>\n",
       "      <th>timestamp</th>\n",
       "      <th>MailOpened</th>\n",
       "      <th>MailClicked</th>\n",
       "    </tr>\n",
       "  </thead>\n",
       "  <tbody>\n",
       "    <tr>\n",
       "      <th>0</th>\n",
       "      <td>C17838</td>\n",
       "      <td>2010-10-22</td>\n",
       "      <td>WelcomeEmail</td>\n",
       "      <td>16:59:02</td>\n",
       "      <td>yes</td>\n",
       "      <td>NotApplicable</td>\n",
       "    </tr>\n",
       "    <tr>\n",
       "      <th>1</th>\n",
       "      <td>C12403</td>\n",
       "      <td>2008-11-17</td>\n",
       "      <td>WelcomeEmail</td>\n",
       "      <td>12:46:56</td>\n",
       "      <td>yes</td>\n",
       "      <td>NotApplicable</td>\n",
       "    </tr>\n",
       "    <tr>\n",
       "      <th>2</th>\n",
       "      <td>C19041</td>\n",
       "      <td>2011-01-24</td>\n",
       "      <td>WelcomeEmail</td>\n",
       "      <td>14:35:22</td>\n",
       "      <td>yes</td>\n",
       "      <td>NotApplicable</td>\n",
       "    </tr>\n",
       "    <tr>\n",
       "      <th>3</th>\n",
       "      <td>C24069</td>\n",
       "      <td>2010-09-18</td>\n",
       "      <td>WelcomeEmail</td>\n",
       "      <td>12:25:26</td>\n",
       "      <td>yes</td>\n",
       "      <td>NotApplicable</td>\n",
       "    </tr>\n",
       "    <tr>\n",
       "      <th>4</th>\n",
       "      <td>C26718</td>\n",
       "      <td>2010-10-02</td>\n",
       "      <td>WelcomeEmail</td>\n",
       "      <td>11:55:58</td>\n",
       "      <td>yes</td>\n",
       "      <td>NotApplicable</td>\n",
       "    </tr>\n",
       "    <tr>\n",
       "      <th>...</th>\n",
       "      <td>...</td>\n",
       "      <td>...</td>\n",
       "      <td>...</td>\n",
       "      <td>...</td>\n",
       "      <td>...</td>\n",
       "      <td>...</td>\n",
       "    </tr>\n",
       "    <tr>\n",
       "      <th>129069</th>\n",
       "      <td>C30169</td>\n",
       "      <td>2018-01-15</td>\n",
       "      <td>CustomizedEmail</td>\n",
       "      <td>13:55:28</td>\n",
       "      <td>no</td>\n",
       "      <td>no</td>\n",
       "    </tr>\n",
       "    <tr>\n",
       "      <th>129070</th>\n",
       "      <td>C30169</td>\n",
       "      <td>2018-01-15</td>\n",
       "      <td>CustomizedEmail</td>\n",
       "      <td>15:17:34</td>\n",
       "      <td>no</td>\n",
       "      <td>no</td>\n",
       "    </tr>\n",
       "    <tr>\n",
       "      <th>129071</th>\n",
       "      <td>C30169</td>\n",
       "      <td>2018-01-15</td>\n",
       "      <td>CustomizedEmail</td>\n",
       "      <td>10:24:54</td>\n",
       "      <td>yes</td>\n",
       "      <td>yes</td>\n",
       "    </tr>\n",
       "    <tr>\n",
       "      <th>129072</th>\n",
       "      <td>C30169</td>\n",
       "      <td>2018-01-15</td>\n",
       "      <td>CustomizedEmail</td>\n",
       "      <td>17:15:26</td>\n",
       "      <td>yes</td>\n",
       "      <td>no</td>\n",
       "    </tr>\n",
       "    <tr>\n",
       "      <th>129073</th>\n",
       "      <td>C30169</td>\n",
       "      <td>2018-01-15</td>\n",
       "      <td>CustomizedEmail</td>\n",
       "      <td>10:10:10</td>\n",
       "      <td>yes</td>\n",
       "      <td>no</td>\n",
       "    </tr>\n",
       "  </tbody>\n",
       "</table>\n",
       "<p>129074 rows × 6 columns</p>\n",
       "</div>"
      ],
      "text/plain": [
       "       CustomerID DateOfemail        EmailType timestamp MailOpened  \\\n",
       "0          C17838  2010-10-22     WelcomeEmail  16:59:02        yes   \n",
       "1          C12403  2008-11-17     WelcomeEmail  12:46:56        yes   \n",
       "2          C19041  2011-01-24     WelcomeEmail  14:35:22        yes   \n",
       "3          C24069  2010-09-18     WelcomeEmail  12:25:26        yes   \n",
       "4          C26718  2010-10-02     WelcomeEmail  11:55:58        yes   \n",
       "...           ...         ...              ...       ...        ...   \n",
       "129069     C30169  2018-01-15  CustomizedEmail  13:55:28         no   \n",
       "129070     C30169  2018-01-15  CustomizedEmail  15:17:34         no   \n",
       "129071     C30169  2018-01-15  CustomizedEmail  10:24:54        yes   \n",
       "129072     C30169  2018-01-15  CustomizedEmail  17:15:26        yes   \n",
       "129073     C30169  2018-01-15  CustomizedEmail  10:10:10        yes   \n",
       "\n",
       "          MailClicked  \n",
       "0       NotApplicable  \n",
       "1       NotApplicable  \n",
       "2       NotApplicable  \n",
       "3       NotApplicable  \n",
       "4       NotApplicable  \n",
       "...               ...  \n",
       "129069             no  \n",
       "129070             no  \n",
       "129071            yes  \n",
       "129072             no  \n",
       "129073             no  \n",
       "\n",
       "[129074 rows x 6 columns]"
      ]
     },
     "execution_count": 253,
     "metadata": {},
     "output_type": "execute_result"
    }
   ],
   "source": [
    "email_test"
   ]
  },
  {
   "cell_type": "code",
   "execution_count": 254,
   "id": "4fbf3871",
   "metadata": {},
   "outputs": [
    {
     "data": {
      "text/html": [
       "<div>\n",
       "<style scoped>\n",
       "    .dataframe tbody tr th:only-of-type {\n",
       "        vertical-align: middle;\n",
       "    }\n",
       "\n",
       "    .dataframe tbody tr th {\n",
       "        vertical-align: top;\n",
       "    }\n",
       "\n",
       "    .dataframe thead th {\n",
       "        text-align: right;\n",
       "    }\n",
       "</style>\n",
       "<table border=\"1\" class=\"dataframe\">\n",
       "  <thead>\n",
       "    <tr style=\"text-align: right;\">\n",
       "      <th></th>\n",
       "      <th>CustomerID</th>\n",
       "      <th>DateOfOrder</th>\n",
       "      <th>timestamp</th>\n",
       "      <th>OrderQuantity</th>\n",
       "    </tr>\n",
       "  </thead>\n",
       "  <tbody>\n",
       "    <tr>\n",
       "      <th>0</th>\n",
       "      <td>C17838</td>\n",
       "      <td>2011-03-28</td>\n",
       "      <td>17:41:08</td>\n",
       "      <td>55</td>\n",
       "    </tr>\n",
       "    <tr>\n",
       "      <th>1</th>\n",
       "      <td>C12403</td>\n",
       "      <td>2010-10-12</td>\n",
       "      <td>15:58:02</td>\n",
       "      <td>174</td>\n",
       "    </tr>\n",
       "    <tr>\n",
       "      <th>2</th>\n",
       "      <td>C12403</td>\n",
       "      <td>2010-11-27</td>\n",
       "      <td>20:13:48</td>\n",
       "      <td>171</td>\n",
       "    </tr>\n",
       "    <tr>\n",
       "      <th>3</th>\n",
       "      <td>C12403</td>\n",
       "      <td>2011-12-09</td>\n",
       "      <td>14:34:44</td>\n",
       "      <td>166</td>\n",
       "    </tr>\n",
       "    <tr>\n",
       "      <th>4</th>\n",
       "      <td>C12403</td>\n",
       "      <td>2011-03-04</td>\n",
       "      <td>18:20:18</td>\n",
       "      <td>179</td>\n",
       "    </tr>\n",
       "    <tr>\n",
       "      <th>...</th>\n",
       "      <td>...</td>\n",
       "      <td>...</td>\n",
       "      <td>...</td>\n",
       "      <td>...</td>\n",
       "    </tr>\n",
       "    <tr>\n",
       "      <th>26763</th>\n",
       "      <td>C32947</td>\n",
       "      <td>2018-01-17</td>\n",
       "      <td>21:35:26</td>\n",
       "      <td>41</td>\n",
       "    </tr>\n",
       "    <tr>\n",
       "      <th>26764</th>\n",
       "      <td>C28951</td>\n",
       "      <td>2018-01-17</td>\n",
       "      <td>17:05:50</td>\n",
       "      <td>40</td>\n",
       "    </tr>\n",
       "    <tr>\n",
       "      <th>26765</th>\n",
       "      <td>C38741</td>\n",
       "      <td>2018-01-17</td>\n",
       "      <td>18:56:16</td>\n",
       "      <td>36</td>\n",
       "    </tr>\n",
       "    <tr>\n",
       "      <th>26766</th>\n",
       "      <td>C20407</td>\n",
       "      <td>2018-01-17</td>\n",
       "      <td>10:24:52</td>\n",
       "      <td>75</td>\n",
       "    </tr>\n",
       "    <tr>\n",
       "      <th>26767</th>\n",
       "      <td>C27220</td>\n",
       "      <td>2018-01-17</td>\n",
       "      <td>12:04:10</td>\n",
       "      <td>40</td>\n",
       "    </tr>\n",
       "  </tbody>\n",
       "</table>\n",
       "<p>26768 rows × 4 columns</p>\n",
       "</div>"
      ],
      "text/plain": [
       "      CustomerID DateOfOrder timestamp  OrderQuantity\n",
       "0         C17838  2011-03-28  17:41:08             55\n",
       "1         C12403  2010-10-12  15:58:02            174\n",
       "2         C12403  2010-11-27  20:13:48            171\n",
       "3         C12403  2011-12-09  14:34:44            166\n",
       "4         C12403  2011-03-04  18:20:18            179\n",
       "...          ...         ...       ...            ...\n",
       "26763     C32947  2018-01-17  21:35:26             41\n",
       "26764     C28951  2018-01-17  17:05:50             40\n",
       "26765     C38741  2018-01-17  18:56:16             36\n",
       "26766     C20407  2018-01-17  10:24:52             75\n",
       "26767     C27220  2018-01-17  12:04:10             40\n",
       "\n",
       "[26768 rows x 4 columns]"
      ]
     },
     "execution_count": 254,
     "metadata": {},
     "output_type": "execute_result"
    }
   ],
   "source": [
    "trans_test"
   ]
  },
  {
   "cell_type": "markdown",
   "id": "94551035",
   "metadata": {},
   "source": [
    "**Sorting according to CustomerID**"
   ]
  },
  {
   "cell_type": "code",
   "execution_count": 255,
   "id": "a3351fd9",
   "metadata": {},
   "outputs": [],
   "source": [
    "#cust_test = cust_test.sort_values(\"CustomerID\", ascending=True)"
   ]
  },
  {
   "cell_type": "code",
   "execution_count": 256,
   "id": "fe1eae38",
   "metadata": {},
   "outputs": [],
   "source": [
    "#email_test = email_test.sort_values(\"CustomerID\", ascending=True)"
   ]
  },
  {
   "cell_type": "code",
   "execution_count": 257,
   "id": "df4bdcb5",
   "metadata": {},
   "outputs": [],
   "source": [
    "#trans_test = trans_test.sort_values('CustomerID', ascending=True)"
   ]
  },
  {
   "cell_type": "code",
   "execution_count": 258,
   "id": "33cef026",
   "metadata": {},
   "outputs": [],
   "source": [
    "#test = test.sort_values('CustomerID',ascending=True)"
   ]
  },
  {
   "cell_type": "code",
   "execution_count": 259,
   "id": "2d2bfa33",
   "metadata": {},
   "outputs": [
    {
     "data": {
      "text/html": [
       "<div>\n",
       "<style scoped>\n",
       "    .dataframe tbody tr th:only-of-type {\n",
       "        vertical-align: middle;\n",
       "    }\n",
       "\n",
       "    .dataframe tbody tr th {\n",
       "        vertical-align: top;\n",
       "    }\n",
       "\n",
       "    .dataframe thead th {\n",
       "        text-align: right;\n",
       "    }\n",
       "</style>\n",
       "<table border=\"1\" class=\"dataframe\">\n",
       "  <thead>\n",
       "    <tr style=\"text-align: right;\">\n",
       "      <th></th>\n",
       "      <th>CustomerID</th>\n",
       "      <th>City</th>\n",
       "      <th>DateOfRegistration</th>\n",
       "      <th>OnlineCommunication</th>\n",
       "      <th>AutomaticRefill</th>\n",
       "      <th>DoorstepDelivery</th>\n",
       "      <th>PreferredDeliveryDay</th>\n",
       "    </tr>\n",
       "  </thead>\n",
       "  <tbody>\n",
       "    <tr>\n",
       "      <th>0</th>\n",
       "      <td>C17838</td>\n",
       "      <td>CITY4</td>\n",
       "      <td>2010-10-22</td>\n",
       "      <td>0</td>\n",
       "      <td>0</td>\n",
       "      <td>0</td>\n",
       "      <td>Thursday</td>\n",
       "    </tr>\n",
       "    <tr>\n",
       "      <th>1</th>\n",
       "      <td>C12403</td>\n",
       "      <td>CITY2</td>\n",
       "      <td>2008-11-17</td>\n",
       "      <td>1</td>\n",
       "      <td>1</td>\n",
       "      <td>0</td>\n",
       "      <td>Wednesday</td>\n",
       "    </tr>\n",
       "    <tr>\n",
       "      <th>2</th>\n",
       "      <td>C19041</td>\n",
       "      <td>CITY4</td>\n",
       "      <td>2011-01-24</td>\n",
       "      <td>0</td>\n",
       "      <td>1</td>\n",
       "      <td>0</td>\n",
       "      <td>Friday</td>\n",
       "    </tr>\n",
       "    <tr>\n",
       "      <th>3</th>\n",
       "      <td>C24069</td>\n",
       "      <td>CITY2</td>\n",
       "      <td>2010-09-18</td>\n",
       "      <td>0</td>\n",
       "      <td>0</td>\n",
       "      <td>0</td>\n",
       "      <td>Wednesday</td>\n",
       "    </tr>\n",
       "    <tr>\n",
       "      <th>4</th>\n",
       "      <td>C26718</td>\n",
       "      <td>CITY2</td>\n",
       "      <td>2010-10-02</td>\n",
       "      <td>1</td>\n",
       "      <td>0</td>\n",
       "      <td>0</td>\n",
       "      <td>Monday</td>\n",
       "    </tr>\n",
       "  </tbody>\n",
       "</table>\n",
       "</div>"
      ],
      "text/plain": [
       "  CustomerID   City DateOfRegistration  OnlineCommunication  AutomaticRefill  \\\n",
       "0     C17838  CITY4         2010-10-22                    0                0   \n",
       "1     C12403  CITY2         2008-11-17                    1                1   \n",
       "2     C19041  CITY4         2011-01-24                    0                1   \n",
       "3     C24069  CITY2         2010-09-18                    0                0   \n",
       "4     C26718  CITY2         2010-10-02                    1                0   \n",
       "\n",
       "   DoorstepDelivery PreferredDeliveryDay  \n",
       "0                 0             Thursday  \n",
       "1                 0            Wednesday  \n",
       "2                 0               Friday  \n",
       "3                 0            Wednesday  \n",
       "4                 0               Monday  "
      ]
     },
     "execution_count": 259,
     "metadata": {},
     "output_type": "execute_result"
    }
   ],
   "source": [
    "cust_test.head()"
   ]
  },
  {
   "cell_type": "code",
   "execution_count": 260,
   "id": "04e756af",
   "metadata": {},
   "outputs": [
    {
     "data": {
      "text/plain": [
       "CustomerID                      object\n",
       "City                            object\n",
       "DateOfRegistration      datetime64[ns]\n",
       "OnlineCommunication              int64\n",
       "AutomaticRefill                  int64\n",
       "DoorstepDelivery                 int64\n",
       "PreferredDeliveryDay            object\n",
       "dtype: object"
      ]
     },
     "execution_count": 260,
     "metadata": {},
     "output_type": "execute_result"
    }
   ],
   "source": [
    "cust_test.dtypes"
   ]
  },
  {
   "cell_type": "code",
   "execution_count": 261,
   "id": "487d51d5",
   "metadata": {},
   "outputs": [
    {
     "data": {
      "text/html": [
       "<div>\n",
       "<style scoped>\n",
       "    .dataframe tbody tr th:only-of-type {\n",
       "        vertical-align: middle;\n",
       "    }\n",
       "\n",
       "    .dataframe tbody tr th {\n",
       "        vertical-align: top;\n",
       "    }\n",
       "\n",
       "    .dataframe thead th {\n",
       "        text-align: right;\n",
       "    }\n",
       "</style>\n",
       "<table border=\"1\" class=\"dataframe\">\n",
       "  <thead>\n",
       "    <tr style=\"text-align: right;\">\n",
       "      <th></th>\n",
       "      <th>CustomerID</th>\n",
       "      <th>DateOfemail</th>\n",
       "      <th>EmailType</th>\n",
       "      <th>timestamp</th>\n",
       "      <th>MailOpened</th>\n",
       "      <th>MailClicked</th>\n",
       "    </tr>\n",
       "  </thead>\n",
       "  <tbody>\n",
       "    <tr>\n",
       "      <th>0</th>\n",
       "      <td>C17838</td>\n",
       "      <td>2010-10-22</td>\n",
       "      <td>WelcomeEmail</td>\n",
       "      <td>16:59:02</td>\n",
       "      <td>yes</td>\n",
       "      <td>NotApplicable</td>\n",
       "    </tr>\n",
       "    <tr>\n",
       "      <th>1</th>\n",
       "      <td>C12403</td>\n",
       "      <td>2008-11-17</td>\n",
       "      <td>WelcomeEmail</td>\n",
       "      <td>12:46:56</td>\n",
       "      <td>yes</td>\n",
       "      <td>NotApplicable</td>\n",
       "    </tr>\n",
       "    <tr>\n",
       "      <th>2</th>\n",
       "      <td>C19041</td>\n",
       "      <td>2011-01-24</td>\n",
       "      <td>WelcomeEmail</td>\n",
       "      <td>14:35:22</td>\n",
       "      <td>yes</td>\n",
       "      <td>NotApplicable</td>\n",
       "    </tr>\n",
       "    <tr>\n",
       "      <th>3</th>\n",
       "      <td>C24069</td>\n",
       "      <td>2010-09-18</td>\n",
       "      <td>WelcomeEmail</td>\n",
       "      <td>12:25:26</td>\n",
       "      <td>yes</td>\n",
       "      <td>NotApplicable</td>\n",
       "    </tr>\n",
       "    <tr>\n",
       "      <th>4</th>\n",
       "      <td>C26718</td>\n",
       "      <td>2010-10-02</td>\n",
       "      <td>WelcomeEmail</td>\n",
       "      <td>11:55:58</td>\n",
       "      <td>yes</td>\n",
       "      <td>NotApplicable</td>\n",
       "    </tr>\n",
       "  </tbody>\n",
       "</table>\n",
       "</div>"
      ],
      "text/plain": [
       "  CustomerID DateOfemail     EmailType timestamp MailOpened    MailClicked\n",
       "0     C17838  2010-10-22  WelcomeEmail  16:59:02        yes  NotApplicable\n",
       "1     C12403  2008-11-17  WelcomeEmail  12:46:56        yes  NotApplicable\n",
       "2     C19041  2011-01-24  WelcomeEmail  14:35:22        yes  NotApplicable\n",
       "3     C24069  2010-09-18  WelcomeEmail  12:25:26        yes  NotApplicable\n",
       "4     C26718  2010-10-02  WelcomeEmail  11:55:58        yes  NotApplicable"
      ]
     },
     "execution_count": 261,
     "metadata": {},
     "output_type": "execute_result"
    }
   ],
   "source": [
    "email_test.head()"
   ]
  },
  {
   "cell_type": "code",
   "execution_count": 262,
   "id": "0b412570",
   "metadata": {},
   "outputs": [
    {
     "data": {
      "text/plain": [
       "CustomerID     object\n",
       "DateOfemail    object\n",
       "EmailType      object\n",
       "timestamp      object\n",
       "MailOpened     object\n",
       "MailClicked    object\n",
       "dtype: object"
      ]
     },
     "execution_count": 262,
     "metadata": {},
     "output_type": "execute_result"
    }
   ],
   "source": [
    "\n",
    "email_test.dtypes"
   ]
  },
  {
   "cell_type": "code",
   "execution_count": 263,
   "id": "1e21c23f",
   "metadata": {},
   "outputs": [
    {
     "data": {
      "text/plain": [
       "CustomerID      5955\n",
       "DateOfemail     3149\n",
       "EmailType          2\n",
       "timestamp      14366\n",
       "MailOpened         2\n",
       "MailClicked        3\n",
       "dtype: int64"
      ]
     },
     "execution_count": 263,
     "metadata": {},
     "output_type": "execute_result"
    }
   ],
   "source": [
    "email_test.nunique()"
   ]
  },
  {
   "cell_type": "code",
   "execution_count": 264,
   "id": "173dcd13",
   "metadata": {},
   "outputs": [
    {
     "data": {
      "text/plain": [
       "CustomizedEmail    123119\n",
       "WelcomeEmail         5955\n",
       "Name: EmailType, dtype: int64"
      ]
     },
     "execution_count": 264,
     "metadata": {},
     "output_type": "execute_result"
    }
   ],
   "source": [
    "email_test['EmailType'].value_counts()"
   ]
  },
  {
   "cell_type": "code",
   "execution_count": 265,
   "id": "b4031df5",
   "metadata": {},
   "outputs": [
    {
     "data": {
      "text/html": [
       "<div>\n",
       "<style scoped>\n",
       "    .dataframe tbody tr th:only-of-type {\n",
       "        vertical-align: middle;\n",
       "    }\n",
       "\n",
       "    .dataframe tbody tr th {\n",
       "        vertical-align: top;\n",
       "    }\n",
       "\n",
       "    .dataframe thead th {\n",
       "        text-align: right;\n",
       "    }\n",
       "</style>\n",
       "<table border=\"1\" class=\"dataframe\">\n",
       "  <thead>\n",
       "    <tr style=\"text-align: right;\">\n",
       "      <th></th>\n",
       "      <th>CustomerID</th>\n",
       "      <th>DateOfOrder</th>\n",
       "      <th>timestamp</th>\n",
       "      <th>OrderQuantity</th>\n",
       "    </tr>\n",
       "  </thead>\n",
       "  <tbody>\n",
       "    <tr>\n",
       "      <th>0</th>\n",
       "      <td>C17838</td>\n",
       "      <td>2011-03-28</td>\n",
       "      <td>17:41:08</td>\n",
       "      <td>55</td>\n",
       "    </tr>\n",
       "    <tr>\n",
       "      <th>1</th>\n",
       "      <td>C12403</td>\n",
       "      <td>2010-10-12</td>\n",
       "      <td>15:58:02</td>\n",
       "      <td>174</td>\n",
       "    </tr>\n",
       "    <tr>\n",
       "      <th>2</th>\n",
       "      <td>C12403</td>\n",
       "      <td>2010-11-27</td>\n",
       "      <td>20:13:48</td>\n",
       "      <td>171</td>\n",
       "    </tr>\n",
       "    <tr>\n",
       "      <th>3</th>\n",
       "      <td>C12403</td>\n",
       "      <td>2011-12-09</td>\n",
       "      <td>14:34:44</td>\n",
       "      <td>166</td>\n",
       "    </tr>\n",
       "    <tr>\n",
       "      <th>4</th>\n",
       "      <td>C12403</td>\n",
       "      <td>2011-03-04</td>\n",
       "      <td>18:20:18</td>\n",
       "      <td>179</td>\n",
       "    </tr>\n",
       "  </tbody>\n",
       "</table>\n",
       "</div>"
      ],
      "text/plain": [
       "  CustomerID DateOfOrder timestamp  OrderQuantity\n",
       "0     C17838  2011-03-28  17:41:08             55\n",
       "1     C12403  2010-10-12  15:58:02            174\n",
       "2     C12403  2010-11-27  20:13:48            171\n",
       "3     C12403  2011-12-09  14:34:44            166\n",
       "4     C12403  2011-03-04  18:20:18            179"
      ]
     },
     "execution_count": 265,
     "metadata": {},
     "output_type": "execute_result"
    }
   ],
   "source": [
    "trans_test.head()"
   ]
  },
  {
   "cell_type": "code",
   "execution_count": 266,
   "id": "f8e9dac2",
   "metadata": {},
   "outputs": [
    {
     "data": {
      "text/plain": [
       "CustomerID       object\n",
       "DateOfOrder      object\n",
       "timestamp        object\n",
       "OrderQuantity     int64\n",
       "dtype: object"
      ]
     },
     "execution_count": 266,
     "metadata": {},
     "output_type": "execute_result"
    }
   ],
   "source": [
    "trans_test.dtypes"
   ]
  },
  {
   "cell_type": "code",
   "execution_count": 267,
   "id": "39cc8c4f",
   "metadata": {},
   "outputs": [
    {
     "data": {
      "text/html": [
       "<div>\n",
       "<style scoped>\n",
       "    .dataframe tbody tr th:only-of-type {\n",
       "        vertical-align: middle;\n",
       "    }\n",
       "\n",
       "    .dataframe tbody tr th {\n",
       "        vertical-align: top;\n",
       "    }\n",
       "\n",
       "    .dataframe thead th {\n",
       "        text-align: right;\n",
       "    }\n",
       "</style>\n",
       "<table border=\"1\" class=\"dataframe\">\n",
       "  <thead>\n",
       "    <tr style=\"text-align: right;\">\n",
       "      <th></th>\n",
       "      <th>CustomerID</th>\n",
       "    </tr>\n",
       "  </thead>\n",
       "  <tbody>\n",
       "    <tr>\n",
       "      <th>0</th>\n",
       "      <td>C12121</td>\n",
       "    </tr>\n",
       "    <tr>\n",
       "      <th>1</th>\n",
       "      <td>C12132</td>\n",
       "    </tr>\n",
       "    <tr>\n",
       "      <th>2</th>\n",
       "      <td>C12134</td>\n",
       "    </tr>\n",
       "    <tr>\n",
       "      <th>3</th>\n",
       "      <td>C12135</td>\n",
       "    </tr>\n",
       "    <tr>\n",
       "      <th>4</th>\n",
       "      <td>C12136</td>\n",
       "    </tr>\n",
       "  </tbody>\n",
       "</table>\n",
       "</div>"
      ],
      "text/plain": [
       "  CustomerID\n",
       "0     C12121\n",
       "1     C12132\n",
       "2     C12134\n",
       "3     C12135\n",
       "4     C12136"
      ]
     },
     "execution_count": 267,
     "metadata": {},
     "output_type": "execute_result"
    }
   ],
   "source": [
    "test.head()"
   ]
  },
  {
   "cell_type": "code",
   "execution_count": 268,
   "id": "2f76614e",
   "metadata": {},
   "outputs": [
    {
     "data": {
      "text/plain": [
       "CustomerID    object\n",
       "dtype: object"
      ]
     },
     "execution_count": 268,
     "metadata": {},
     "output_type": "execute_result"
    }
   ],
   "source": [
    "test.dtypes"
   ]
  },
  {
   "cell_type": "markdown",
   "id": "808edbc2",
   "metadata": {},
   "source": [
    "# **Preprpcessing test data**"
   ]
  },
  {
   "cell_type": "markdown",
   "id": "89d18641",
   "metadata": {},
   "source": [
    "**Extracting year form DateOfRegistration**"
   ]
  },
  {
   "cell_type": "code",
   "execution_count": 269,
   "id": "2bce0a0d",
   "metadata": {},
   "outputs": [],
   "source": [
    "cust_test['DateOfRegistration'] = pd.to_datetime(cust_test['DateOfRegistration'])\n",
    "cust_test['yearofreg'] = cust_test['DateOfRegistration'].apply(lambda x:x.year)"
   ]
  },
  {
   "cell_type": "code",
   "execution_count": 270,
   "id": "6a61e4c2",
   "metadata": {},
   "outputs": [
    {
     "data": {
      "text/html": [
       "<div>\n",
       "<style scoped>\n",
       "    .dataframe tbody tr th:only-of-type {\n",
       "        vertical-align: middle;\n",
       "    }\n",
       "\n",
       "    .dataframe tbody tr th {\n",
       "        vertical-align: top;\n",
       "    }\n",
       "\n",
       "    .dataframe thead th {\n",
       "        text-align: right;\n",
       "    }\n",
       "</style>\n",
       "<table border=\"1\" class=\"dataframe\">\n",
       "  <thead>\n",
       "    <tr style=\"text-align: right;\">\n",
       "      <th></th>\n",
       "      <th>CustomerID</th>\n",
       "      <th>City</th>\n",
       "      <th>DateOfRegistration</th>\n",
       "      <th>OnlineCommunication</th>\n",
       "      <th>AutomaticRefill</th>\n",
       "      <th>DoorstepDelivery</th>\n",
       "      <th>PreferredDeliveryDay</th>\n",
       "      <th>yearofreg</th>\n",
       "    </tr>\n",
       "  </thead>\n",
       "  <tbody>\n",
       "    <tr>\n",
       "      <th>0</th>\n",
       "      <td>C17838</td>\n",
       "      <td>CITY4</td>\n",
       "      <td>2010-10-22</td>\n",
       "      <td>0</td>\n",
       "      <td>0</td>\n",
       "      <td>0</td>\n",
       "      <td>Thursday</td>\n",
       "      <td>2010</td>\n",
       "    </tr>\n",
       "    <tr>\n",
       "      <th>1</th>\n",
       "      <td>C12403</td>\n",
       "      <td>CITY2</td>\n",
       "      <td>2008-11-17</td>\n",
       "      <td>1</td>\n",
       "      <td>1</td>\n",
       "      <td>0</td>\n",
       "      <td>Wednesday</td>\n",
       "      <td>2008</td>\n",
       "    </tr>\n",
       "    <tr>\n",
       "      <th>2</th>\n",
       "      <td>C19041</td>\n",
       "      <td>CITY4</td>\n",
       "      <td>2011-01-24</td>\n",
       "      <td>0</td>\n",
       "      <td>1</td>\n",
       "      <td>0</td>\n",
       "      <td>Friday</td>\n",
       "      <td>2011</td>\n",
       "    </tr>\n",
       "    <tr>\n",
       "      <th>3</th>\n",
       "      <td>C24069</td>\n",
       "      <td>CITY2</td>\n",
       "      <td>2010-09-18</td>\n",
       "      <td>0</td>\n",
       "      <td>0</td>\n",
       "      <td>0</td>\n",
       "      <td>Wednesday</td>\n",
       "      <td>2010</td>\n",
       "    </tr>\n",
       "    <tr>\n",
       "      <th>4</th>\n",
       "      <td>C26718</td>\n",
       "      <td>CITY2</td>\n",
       "      <td>2010-10-02</td>\n",
       "      <td>1</td>\n",
       "      <td>0</td>\n",
       "      <td>0</td>\n",
       "      <td>Monday</td>\n",
       "      <td>2010</td>\n",
       "    </tr>\n",
       "    <tr>\n",
       "      <th>...</th>\n",
       "      <td>...</td>\n",
       "      <td>...</td>\n",
       "      <td>...</td>\n",
       "      <td>...</td>\n",
       "      <td>...</td>\n",
       "      <td>...</td>\n",
       "      <td>...</td>\n",
       "      <td>...</td>\n",
       "    </tr>\n",
       "    <tr>\n",
       "      <th>5950</th>\n",
       "      <td>C32947</td>\n",
       "      <td>CITY2</td>\n",
       "      <td>2018-01-17</td>\n",
       "      <td>1</td>\n",
       "      <td>0</td>\n",
       "      <td>0</td>\n",
       "      <td>Friday</td>\n",
       "      <td>2018</td>\n",
       "    </tr>\n",
       "    <tr>\n",
       "      <th>5951</th>\n",
       "      <td>C28951</td>\n",
       "      <td>CITY3</td>\n",
       "      <td>2018-01-17</td>\n",
       "      <td>1</td>\n",
       "      <td>0</td>\n",
       "      <td>0</td>\n",
       "      <td>Friday</td>\n",
       "      <td>2018</td>\n",
       "    </tr>\n",
       "    <tr>\n",
       "      <th>5952</th>\n",
       "      <td>C38741</td>\n",
       "      <td>CITY3</td>\n",
       "      <td>2018-01-17</td>\n",
       "      <td>1</td>\n",
       "      <td>0</td>\n",
       "      <td>0</td>\n",
       "      <td>Monday</td>\n",
       "      <td>2018</td>\n",
       "    </tr>\n",
       "    <tr>\n",
       "      <th>5953</th>\n",
       "      <td>C20407</td>\n",
       "      <td>CITY2</td>\n",
       "      <td>2018-01-17</td>\n",
       "      <td>1</td>\n",
       "      <td>0</td>\n",
       "      <td>0</td>\n",
       "      <td>Friday</td>\n",
       "      <td>2018</td>\n",
       "    </tr>\n",
       "    <tr>\n",
       "      <th>5954</th>\n",
       "      <td>C27220</td>\n",
       "      <td>CITY3</td>\n",
       "      <td>2018-01-17</td>\n",
       "      <td>1</td>\n",
       "      <td>0</td>\n",
       "      <td>0</td>\n",
       "      <td>Friday</td>\n",
       "      <td>2018</td>\n",
       "    </tr>\n",
       "  </tbody>\n",
       "</table>\n",
       "<p>5955 rows × 8 columns</p>\n",
       "</div>"
      ],
      "text/plain": [
       "     CustomerID   City DateOfRegistration  OnlineCommunication  \\\n",
       "0        C17838  CITY4         2010-10-22                    0   \n",
       "1        C12403  CITY2         2008-11-17                    1   \n",
       "2        C19041  CITY4         2011-01-24                    0   \n",
       "3        C24069  CITY2         2010-09-18                    0   \n",
       "4        C26718  CITY2         2010-10-02                    1   \n",
       "...         ...    ...                ...                  ...   \n",
       "5950     C32947  CITY2         2018-01-17                    1   \n",
       "5951     C28951  CITY3         2018-01-17                    1   \n",
       "5952     C38741  CITY3         2018-01-17                    1   \n",
       "5953     C20407  CITY2         2018-01-17                    1   \n",
       "5954     C27220  CITY3         2018-01-17                    1   \n",
       "\n",
       "      AutomaticRefill  DoorstepDelivery PreferredDeliveryDay  yearofreg  \n",
       "0                   0                 0             Thursday       2010  \n",
       "1                   1                 0            Wednesday       2008  \n",
       "2                   1                 0               Friday       2011  \n",
       "3                   0                 0            Wednesday       2010  \n",
       "4                   0                 0               Monday       2010  \n",
       "...               ...               ...                  ...        ...  \n",
       "5950                0                 0               Friday       2018  \n",
       "5951                0                 0               Friday       2018  \n",
       "5952                0                 0               Monday       2018  \n",
       "5953                0                 0               Friday       2018  \n",
       "5954                0                 0               Friday       2018  \n",
       "\n",
       "[5955 rows x 8 columns]"
      ]
     },
     "execution_count": 270,
     "metadata": {},
     "output_type": "execute_result"
    }
   ],
   "source": [
    "cust_test"
   ]
  },
  {
   "cell_type": "code",
   "execution_count": 271,
   "id": "a84042ae",
   "metadata": {},
   "outputs": [],
   "source": [
    "cust_test.drop('DateOfRegistration', axis=1, inplace=True)"
   ]
  },
  {
   "cell_type": "code",
   "execution_count": 272,
   "id": "39160712",
   "metadata": {},
   "outputs": [
    {
     "data": {
      "text/html": [
       "<div>\n",
       "<style scoped>\n",
       "    .dataframe tbody tr th:only-of-type {\n",
       "        vertical-align: middle;\n",
       "    }\n",
       "\n",
       "    .dataframe tbody tr th {\n",
       "        vertical-align: top;\n",
       "    }\n",
       "\n",
       "    .dataframe thead th {\n",
       "        text-align: right;\n",
       "    }\n",
       "</style>\n",
       "<table border=\"1\" class=\"dataframe\">\n",
       "  <thead>\n",
       "    <tr style=\"text-align: right;\">\n",
       "      <th></th>\n",
       "      <th>CustomerID</th>\n",
       "      <th>City</th>\n",
       "      <th>OnlineCommunication</th>\n",
       "      <th>AutomaticRefill</th>\n",
       "      <th>DoorstepDelivery</th>\n",
       "      <th>PreferredDeliveryDay</th>\n",
       "      <th>yearofreg</th>\n",
       "    </tr>\n",
       "  </thead>\n",
       "  <tbody>\n",
       "    <tr>\n",
       "      <th>0</th>\n",
       "      <td>C17838</td>\n",
       "      <td>CITY4</td>\n",
       "      <td>0</td>\n",
       "      <td>0</td>\n",
       "      <td>0</td>\n",
       "      <td>Thursday</td>\n",
       "      <td>2010</td>\n",
       "    </tr>\n",
       "    <tr>\n",
       "      <th>1</th>\n",
       "      <td>C12403</td>\n",
       "      <td>CITY2</td>\n",
       "      <td>1</td>\n",
       "      <td>1</td>\n",
       "      <td>0</td>\n",
       "      <td>Wednesday</td>\n",
       "      <td>2008</td>\n",
       "    </tr>\n",
       "    <tr>\n",
       "      <th>2</th>\n",
       "      <td>C19041</td>\n",
       "      <td>CITY4</td>\n",
       "      <td>0</td>\n",
       "      <td>1</td>\n",
       "      <td>0</td>\n",
       "      <td>Friday</td>\n",
       "      <td>2011</td>\n",
       "    </tr>\n",
       "    <tr>\n",
       "      <th>3</th>\n",
       "      <td>C24069</td>\n",
       "      <td>CITY2</td>\n",
       "      <td>0</td>\n",
       "      <td>0</td>\n",
       "      <td>0</td>\n",
       "      <td>Wednesday</td>\n",
       "      <td>2010</td>\n",
       "    </tr>\n",
       "    <tr>\n",
       "      <th>4</th>\n",
       "      <td>C26718</td>\n",
       "      <td>CITY2</td>\n",
       "      <td>1</td>\n",
       "      <td>0</td>\n",
       "      <td>0</td>\n",
       "      <td>Monday</td>\n",
       "      <td>2010</td>\n",
       "    </tr>\n",
       "    <tr>\n",
       "      <th>...</th>\n",
       "      <td>...</td>\n",
       "      <td>...</td>\n",
       "      <td>...</td>\n",
       "      <td>...</td>\n",
       "      <td>...</td>\n",
       "      <td>...</td>\n",
       "      <td>...</td>\n",
       "    </tr>\n",
       "    <tr>\n",
       "      <th>5950</th>\n",
       "      <td>C32947</td>\n",
       "      <td>CITY2</td>\n",
       "      <td>1</td>\n",
       "      <td>0</td>\n",
       "      <td>0</td>\n",
       "      <td>Friday</td>\n",
       "      <td>2018</td>\n",
       "    </tr>\n",
       "    <tr>\n",
       "      <th>5951</th>\n",
       "      <td>C28951</td>\n",
       "      <td>CITY3</td>\n",
       "      <td>1</td>\n",
       "      <td>0</td>\n",
       "      <td>0</td>\n",
       "      <td>Friday</td>\n",
       "      <td>2018</td>\n",
       "    </tr>\n",
       "    <tr>\n",
       "      <th>5952</th>\n",
       "      <td>C38741</td>\n",
       "      <td>CITY3</td>\n",
       "      <td>1</td>\n",
       "      <td>0</td>\n",
       "      <td>0</td>\n",
       "      <td>Monday</td>\n",
       "      <td>2018</td>\n",
       "    </tr>\n",
       "    <tr>\n",
       "      <th>5953</th>\n",
       "      <td>C20407</td>\n",
       "      <td>CITY2</td>\n",
       "      <td>1</td>\n",
       "      <td>0</td>\n",
       "      <td>0</td>\n",
       "      <td>Friday</td>\n",
       "      <td>2018</td>\n",
       "    </tr>\n",
       "    <tr>\n",
       "      <th>5954</th>\n",
       "      <td>C27220</td>\n",
       "      <td>CITY3</td>\n",
       "      <td>1</td>\n",
       "      <td>0</td>\n",
       "      <td>0</td>\n",
       "      <td>Friday</td>\n",
       "      <td>2018</td>\n",
       "    </tr>\n",
       "  </tbody>\n",
       "</table>\n",
       "<p>5955 rows × 7 columns</p>\n",
       "</div>"
      ],
      "text/plain": [
       "     CustomerID   City  OnlineCommunication  AutomaticRefill  \\\n",
       "0        C17838  CITY4                    0                0   \n",
       "1        C12403  CITY2                    1                1   \n",
       "2        C19041  CITY4                    0                1   \n",
       "3        C24069  CITY2                    0                0   \n",
       "4        C26718  CITY2                    1                0   \n",
       "...         ...    ...                  ...              ...   \n",
       "5950     C32947  CITY2                    1                0   \n",
       "5951     C28951  CITY3                    1                0   \n",
       "5952     C38741  CITY3                    1                0   \n",
       "5953     C20407  CITY2                    1                0   \n",
       "5954     C27220  CITY3                    1                0   \n",
       "\n",
       "      DoorstepDelivery PreferredDeliveryDay  yearofreg  \n",
       "0                    0             Thursday       2010  \n",
       "1                    0            Wednesday       2008  \n",
       "2                    0               Friday       2011  \n",
       "3                    0            Wednesday       2010  \n",
       "4                    0               Monday       2010  \n",
       "...                ...                  ...        ...  \n",
       "5950                 0               Friday       2018  \n",
       "5951                 0               Friday       2018  \n",
       "5952                 0               Monday       2018  \n",
       "5953                 0               Friday       2018  \n",
       "5954                 0               Friday       2018  \n",
       "\n",
       "[5955 rows x 7 columns]"
      ]
     },
     "execution_count": 272,
     "metadata": {},
     "output_type": "execute_result"
    }
   ],
   "source": [
    "cust_test"
   ]
  },
  {
   "cell_type": "code",
   "execution_count": 273,
   "id": "7261d109",
   "metadata": {},
   "outputs": [
    {
     "data": {
      "text/plain": [
       "CustomerID              object\n",
       "City                    object\n",
       "OnlineCommunication      int64\n",
       "AutomaticRefill          int64\n",
       "DoorstepDelivery         int64\n",
       "PreferredDeliveryDay    object\n",
       "yearofreg                int64\n",
       "dtype: object"
      ]
     },
     "execution_count": 273,
     "metadata": {},
     "output_type": "execute_result"
    }
   ],
   "source": [
    "cust_test.dtypes"
   ]
  },
  {
   "cell_type": "markdown",
   "id": "f1eefe46",
   "metadata": {},
   "source": [
    "**Extracting year form DateOfEmail**"
   ]
  },
  {
   "cell_type": "code",
   "execution_count": 274,
   "id": "b3ad1f03",
   "metadata": {},
   "outputs": [],
   "source": [
    "email_test['DateOfemail'] = pd.to_datetime(email_test['DateOfemail'])\n",
    "email_test['yearofemail'] = email_test['DateOfemail'].apply(lambda x:x.year)"
   ]
  },
  {
   "cell_type": "code",
   "execution_count": 275,
   "id": "a221de12",
   "metadata": {},
   "outputs": [
    {
     "data": {
      "text/html": [
       "<div>\n",
       "<style scoped>\n",
       "    .dataframe tbody tr th:only-of-type {\n",
       "        vertical-align: middle;\n",
       "    }\n",
       "\n",
       "    .dataframe tbody tr th {\n",
       "        vertical-align: top;\n",
       "    }\n",
       "\n",
       "    .dataframe thead th {\n",
       "        text-align: right;\n",
       "    }\n",
       "</style>\n",
       "<table border=\"1\" class=\"dataframe\">\n",
       "  <thead>\n",
       "    <tr style=\"text-align: right;\">\n",
       "      <th></th>\n",
       "      <th>CustomerID</th>\n",
       "      <th>DateOfemail</th>\n",
       "      <th>EmailType</th>\n",
       "      <th>timestamp</th>\n",
       "      <th>MailOpened</th>\n",
       "      <th>MailClicked</th>\n",
       "      <th>yearofemail</th>\n",
       "    </tr>\n",
       "  </thead>\n",
       "  <tbody>\n",
       "    <tr>\n",
       "      <th>0</th>\n",
       "      <td>C17838</td>\n",
       "      <td>2010-10-22</td>\n",
       "      <td>WelcomeEmail</td>\n",
       "      <td>16:59:02</td>\n",
       "      <td>yes</td>\n",
       "      <td>NotApplicable</td>\n",
       "      <td>2010</td>\n",
       "    </tr>\n",
       "    <tr>\n",
       "      <th>1</th>\n",
       "      <td>C12403</td>\n",
       "      <td>2008-11-17</td>\n",
       "      <td>WelcomeEmail</td>\n",
       "      <td>12:46:56</td>\n",
       "      <td>yes</td>\n",
       "      <td>NotApplicable</td>\n",
       "      <td>2008</td>\n",
       "    </tr>\n",
       "    <tr>\n",
       "      <th>2</th>\n",
       "      <td>C19041</td>\n",
       "      <td>2011-01-24</td>\n",
       "      <td>WelcomeEmail</td>\n",
       "      <td>14:35:22</td>\n",
       "      <td>yes</td>\n",
       "      <td>NotApplicable</td>\n",
       "      <td>2011</td>\n",
       "    </tr>\n",
       "    <tr>\n",
       "      <th>3</th>\n",
       "      <td>C24069</td>\n",
       "      <td>2010-09-18</td>\n",
       "      <td>WelcomeEmail</td>\n",
       "      <td>12:25:26</td>\n",
       "      <td>yes</td>\n",
       "      <td>NotApplicable</td>\n",
       "      <td>2010</td>\n",
       "    </tr>\n",
       "    <tr>\n",
       "      <th>4</th>\n",
       "      <td>C26718</td>\n",
       "      <td>2010-10-02</td>\n",
       "      <td>WelcomeEmail</td>\n",
       "      <td>11:55:58</td>\n",
       "      <td>yes</td>\n",
       "      <td>NotApplicable</td>\n",
       "      <td>2010</td>\n",
       "    </tr>\n",
       "    <tr>\n",
       "      <th>...</th>\n",
       "      <td>...</td>\n",
       "      <td>...</td>\n",
       "      <td>...</td>\n",
       "      <td>...</td>\n",
       "      <td>...</td>\n",
       "      <td>...</td>\n",
       "      <td>...</td>\n",
       "    </tr>\n",
       "    <tr>\n",
       "      <th>129069</th>\n",
       "      <td>C30169</td>\n",
       "      <td>2018-01-15</td>\n",
       "      <td>CustomizedEmail</td>\n",
       "      <td>13:55:28</td>\n",
       "      <td>no</td>\n",
       "      <td>no</td>\n",
       "      <td>2018</td>\n",
       "    </tr>\n",
       "    <tr>\n",
       "      <th>129070</th>\n",
       "      <td>C30169</td>\n",
       "      <td>2018-01-15</td>\n",
       "      <td>CustomizedEmail</td>\n",
       "      <td>15:17:34</td>\n",
       "      <td>no</td>\n",
       "      <td>no</td>\n",
       "      <td>2018</td>\n",
       "    </tr>\n",
       "    <tr>\n",
       "      <th>129071</th>\n",
       "      <td>C30169</td>\n",
       "      <td>2018-01-15</td>\n",
       "      <td>CustomizedEmail</td>\n",
       "      <td>10:24:54</td>\n",
       "      <td>yes</td>\n",
       "      <td>yes</td>\n",
       "      <td>2018</td>\n",
       "    </tr>\n",
       "    <tr>\n",
       "      <th>129072</th>\n",
       "      <td>C30169</td>\n",
       "      <td>2018-01-15</td>\n",
       "      <td>CustomizedEmail</td>\n",
       "      <td>17:15:26</td>\n",
       "      <td>yes</td>\n",
       "      <td>no</td>\n",
       "      <td>2018</td>\n",
       "    </tr>\n",
       "    <tr>\n",
       "      <th>129073</th>\n",
       "      <td>C30169</td>\n",
       "      <td>2018-01-15</td>\n",
       "      <td>CustomizedEmail</td>\n",
       "      <td>10:10:10</td>\n",
       "      <td>yes</td>\n",
       "      <td>no</td>\n",
       "      <td>2018</td>\n",
       "    </tr>\n",
       "  </tbody>\n",
       "</table>\n",
       "<p>129074 rows × 7 columns</p>\n",
       "</div>"
      ],
      "text/plain": [
       "       CustomerID DateOfemail        EmailType timestamp MailOpened  \\\n",
       "0          C17838  2010-10-22     WelcomeEmail  16:59:02        yes   \n",
       "1          C12403  2008-11-17     WelcomeEmail  12:46:56        yes   \n",
       "2          C19041  2011-01-24     WelcomeEmail  14:35:22        yes   \n",
       "3          C24069  2010-09-18     WelcomeEmail  12:25:26        yes   \n",
       "4          C26718  2010-10-02     WelcomeEmail  11:55:58        yes   \n",
       "...           ...         ...              ...       ...        ...   \n",
       "129069     C30169  2018-01-15  CustomizedEmail  13:55:28         no   \n",
       "129070     C30169  2018-01-15  CustomizedEmail  15:17:34         no   \n",
       "129071     C30169  2018-01-15  CustomizedEmail  10:24:54        yes   \n",
       "129072     C30169  2018-01-15  CustomizedEmail  17:15:26        yes   \n",
       "129073     C30169  2018-01-15  CustomizedEmail  10:10:10        yes   \n",
       "\n",
       "          MailClicked  yearofemail  \n",
       "0       NotApplicable         2010  \n",
       "1       NotApplicable         2008  \n",
       "2       NotApplicable         2011  \n",
       "3       NotApplicable         2010  \n",
       "4       NotApplicable         2010  \n",
       "...               ...          ...  \n",
       "129069             no         2018  \n",
       "129070             no         2018  \n",
       "129071            yes         2018  \n",
       "129072             no         2018  \n",
       "129073             no         2018  \n",
       "\n",
       "[129074 rows x 7 columns]"
      ]
     },
     "execution_count": 275,
     "metadata": {},
     "output_type": "execute_result"
    }
   ],
   "source": [
    "email_test"
   ]
  },
  {
   "cell_type": "code",
   "execution_count": 276,
   "id": "84f2bbef",
   "metadata": {},
   "outputs": [],
   "source": [
    "email_test.drop(['DateOfemail','timestamp'], axis=1, inplace=True)"
   ]
  },
  {
   "cell_type": "code",
   "execution_count": 277,
   "id": "9950e59d",
   "metadata": {},
   "outputs": [
    {
     "data": {
      "text/html": [
       "<div>\n",
       "<style scoped>\n",
       "    .dataframe tbody tr th:only-of-type {\n",
       "        vertical-align: middle;\n",
       "    }\n",
       "\n",
       "    .dataframe tbody tr th {\n",
       "        vertical-align: top;\n",
       "    }\n",
       "\n",
       "    .dataframe thead th {\n",
       "        text-align: right;\n",
       "    }\n",
       "</style>\n",
       "<table border=\"1\" class=\"dataframe\">\n",
       "  <thead>\n",
       "    <tr style=\"text-align: right;\">\n",
       "      <th></th>\n",
       "      <th>CustomerID</th>\n",
       "      <th>EmailType</th>\n",
       "      <th>MailOpened</th>\n",
       "      <th>MailClicked</th>\n",
       "      <th>yearofemail</th>\n",
       "    </tr>\n",
       "  </thead>\n",
       "  <tbody>\n",
       "    <tr>\n",
       "      <th>0</th>\n",
       "      <td>C17838</td>\n",
       "      <td>WelcomeEmail</td>\n",
       "      <td>yes</td>\n",
       "      <td>NotApplicable</td>\n",
       "      <td>2010</td>\n",
       "    </tr>\n",
       "    <tr>\n",
       "      <th>1</th>\n",
       "      <td>C12403</td>\n",
       "      <td>WelcomeEmail</td>\n",
       "      <td>yes</td>\n",
       "      <td>NotApplicable</td>\n",
       "      <td>2008</td>\n",
       "    </tr>\n",
       "    <tr>\n",
       "      <th>2</th>\n",
       "      <td>C19041</td>\n",
       "      <td>WelcomeEmail</td>\n",
       "      <td>yes</td>\n",
       "      <td>NotApplicable</td>\n",
       "      <td>2011</td>\n",
       "    </tr>\n",
       "    <tr>\n",
       "      <th>3</th>\n",
       "      <td>C24069</td>\n",
       "      <td>WelcomeEmail</td>\n",
       "      <td>yes</td>\n",
       "      <td>NotApplicable</td>\n",
       "      <td>2010</td>\n",
       "    </tr>\n",
       "    <tr>\n",
       "      <th>4</th>\n",
       "      <td>C26718</td>\n",
       "      <td>WelcomeEmail</td>\n",
       "      <td>yes</td>\n",
       "      <td>NotApplicable</td>\n",
       "      <td>2010</td>\n",
       "    </tr>\n",
       "    <tr>\n",
       "      <th>...</th>\n",
       "      <td>...</td>\n",
       "      <td>...</td>\n",
       "      <td>...</td>\n",
       "      <td>...</td>\n",
       "      <td>...</td>\n",
       "    </tr>\n",
       "    <tr>\n",
       "      <th>129069</th>\n",
       "      <td>C30169</td>\n",
       "      <td>CustomizedEmail</td>\n",
       "      <td>no</td>\n",
       "      <td>no</td>\n",
       "      <td>2018</td>\n",
       "    </tr>\n",
       "    <tr>\n",
       "      <th>129070</th>\n",
       "      <td>C30169</td>\n",
       "      <td>CustomizedEmail</td>\n",
       "      <td>no</td>\n",
       "      <td>no</td>\n",
       "      <td>2018</td>\n",
       "    </tr>\n",
       "    <tr>\n",
       "      <th>129071</th>\n",
       "      <td>C30169</td>\n",
       "      <td>CustomizedEmail</td>\n",
       "      <td>yes</td>\n",
       "      <td>yes</td>\n",
       "      <td>2018</td>\n",
       "    </tr>\n",
       "    <tr>\n",
       "      <th>129072</th>\n",
       "      <td>C30169</td>\n",
       "      <td>CustomizedEmail</td>\n",
       "      <td>yes</td>\n",
       "      <td>no</td>\n",
       "      <td>2018</td>\n",
       "    </tr>\n",
       "    <tr>\n",
       "      <th>129073</th>\n",
       "      <td>C30169</td>\n",
       "      <td>CustomizedEmail</td>\n",
       "      <td>yes</td>\n",
       "      <td>no</td>\n",
       "      <td>2018</td>\n",
       "    </tr>\n",
       "  </tbody>\n",
       "</table>\n",
       "<p>129074 rows × 5 columns</p>\n",
       "</div>"
      ],
      "text/plain": [
       "       CustomerID        EmailType MailOpened    MailClicked  yearofemail\n",
       "0          C17838     WelcomeEmail        yes  NotApplicable         2010\n",
       "1          C12403     WelcomeEmail        yes  NotApplicable         2008\n",
       "2          C19041     WelcomeEmail        yes  NotApplicable         2011\n",
       "3          C24069     WelcomeEmail        yes  NotApplicable         2010\n",
       "4          C26718     WelcomeEmail        yes  NotApplicable         2010\n",
       "...           ...              ...        ...            ...          ...\n",
       "129069     C30169  CustomizedEmail         no             no         2018\n",
       "129070     C30169  CustomizedEmail         no             no         2018\n",
       "129071     C30169  CustomizedEmail        yes            yes         2018\n",
       "129072     C30169  CustomizedEmail        yes             no         2018\n",
       "129073     C30169  CustomizedEmail        yes             no         2018\n",
       "\n",
       "[129074 rows x 5 columns]"
      ]
     },
     "execution_count": 277,
     "metadata": {},
     "output_type": "execute_result"
    }
   ],
   "source": [
    "email_test"
   ]
  },
  {
   "cell_type": "code",
   "execution_count": 278,
   "id": "211ade3d",
   "metadata": {},
   "outputs": [
    {
     "data": {
      "text/plain": [
       "CustomerID     object\n",
       "EmailType      object\n",
       "MailOpened     object\n",
       "MailClicked    object\n",
       "yearofemail     int64\n",
       "dtype: object"
      ]
     },
     "execution_count": 278,
     "metadata": {},
     "output_type": "execute_result"
    }
   ],
   "source": [
    "email_test.dtypes"
   ]
  },
  {
   "cell_type": "markdown",
   "id": "13671487",
   "metadata": {},
   "source": [
    "**Extracting year form DateOfOrder**"
   ]
  },
  {
   "cell_type": "code",
   "execution_count": 279,
   "id": "68a5655b",
   "metadata": {},
   "outputs": [],
   "source": [
    "trans_test['DateOfOrder'] = pd.to_datetime(trans_test['DateOfOrder'])\n",
    "trans_test['yearoforder'] = trans_test['DateOfOrder'].apply(lambda x:x.year)"
   ]
  },
  {
   "cell_type": "code",
   "execution_count": 280,
   "id": "0cae9ea7",
   "metadata": {},
   "outputs": [
    {
     "data": {
      "text/html": [
       "<div>\n",
       "<style scoped>\n",
       "    .dataframe tbody tr th:only-of-type {\n",
       "        vertical-align: middle;\n",
       "    }\n",
       "\n",
       "    .dataframe tbody tr th {\n",
       "        vertical-align: top;\n",
       "    }\n",
       "\n",
       "    .dataframe thead th {\n",
       "        text-align: right;\n",
       "    }\n",
       "</style>\n",
       "<table border=\"1\" class=\"dataframe\">\n",
       "  <thead>\n",
       "    <tr style=\"text-align: right;\">\n",
       "      <th></th>\n",
       "      <th>CustomerID</th>\n",
       "      <th>DateOfOrder</th>\n",
       "      <th>timestamp</th>\n",
       "      <th>OrderQuantity</th>\n",
       "      <th>yearoforder</th>\n",
       "    </tr>\n",
       "  </thead>\n",
       "  <tbody>\n",
       "    <tr>\n",
       "      <th>0</th>\n",
       "      <td>C17838</td>\n",
       "      <td>2011-03-28</td>\n",
       "      <td>17:41:08</td>\n",
       "      <td>55</td>\n",
       "      <td>2011</td>\n",
       "    </tr>\n",
       "    <tr>\n",
       "      <th>1</th>\n",
       "      <td>C12403</td>\n",
       "      <td>2010-10-12</td>\n",
       "      <td>15:58:02</td>\n",
       "      <td>174</td>\n",
       "      <td>2010</td>\n",
       "    </tr>\n",
       "    <tr>\n",
       "      <th>2</th>\n",
       "      <td>C12403</td>\n",
       "      <td>2010-11-27</td>\n",
       "      <td>20:13:48</td>\n",
       "      <td>171</td>\n",
       "      <td>2010</td>\n",
       "    </tr>\n",
       "    <tr>\n",
       "      <th>3</th>\n",
       "      <td>C12403</td>\n",
       "      <td>2011-12-09</td>\n",
       "      <td>14:34:44</td>\n",
       "      <td>166</td>\n",
       "      <td>2011</td>\n",
       "    </tr>\n",
       "    <tr>\n",
       "      <th>4</th>\n",
       "      <td>C12403</td>\n",
       "      <td>2011-03-04</td>\n",
       "      <td>18:20:18</td>\n",
       "      <td>179</td>\n",
       "      <td>2011</td>\n",
       "    </tr>\n",
       "    <tr>\n",
       "      <th>...</th>\n",
       "      <td>...</td>\n",
       "      <td>...</td>\n",
       "      <td>...</td>\n",
       "      <td>...</td>\n",
       "      <td>...</td>\n",
       "    </tr>\n",
       "    <tr>\n",
       "      <th>26763</th>\n",
       "      <td>C32947</td>\n",
       "      <td>2018-01-17</td>\n",
       "      <td>21:35:26</td>\n",
       "      <td>41</td>\n",
       "      <td>2018</td>\n",
       "    </tr>\n",
       "    <tr>\n",
       "      <th>26764</th>\n",
       "      <td>C28951</td>\n",
       "      <td>2018-01-17</td>\n",
       "      <td>17:05:50</td>\n",
       "      <td>40</td>\n",
       "      <td>2018</td>\n",
       "    </tr>\n",
       "    <tr>\n",
       "      <th>26765</th>\n",
       "      <td>C38741</td>\n",
       "      <td>2018-01-17</td>\n",
       "      <td>18:56:16</td>\n",
       "      <td>36</td>\n",
       "      <td>2018</td>\n",
       "    </tr>\n",
       "    <tr>\n",
       "      <th>26766</th>\n",
       "      <td>C20407</td>\n",
       "      <td>2018-01-17</td>\n",
       "      <td>10:24:52</td>\n",
       "      <td>75</td>\n",
       "      <td>2018</td>\n",
       "    </tr>\n",
       "    <tr>\n",
       "      <th>26767</th>\n",
       "      <td>C27220</td>\n",
       "      <td>2018-01-17</td>\n",
       "      <td>12:04:10</td>\n",
       "      <td>40</td>\n",
       "      <td>2018</td>\n",
       "    </tr>\n",
       "  </tbody>\n",
       "</table>\n",
       "<p>26768 rows × 5 columns</p>\n",
       "</div>"
      ],
      "text/plain": [
       "      CustomerID DateOfOrder timestamp  OrderQuantity  yearoforder\n",
       "0         C17838  2011-03-28  17:41:08             55         2011\n",
       "1         C12403  2010-10-12  15:58:02            174         2010\n",
       "2         C12403  2010-11-27  20:13:48            171         2010\n",
       "3         C12403  2011-12-09  14:34:44            166         2011\n",
       "4         C12403  2011-03-04  18:20:18            179         2011\n",
       "...          ...         ...       ...            ...          ...\n",
       "26763     C32947  2018-01-17  21:35:26             41         2018\n",
       "26764     C28951  2018-01-17  17:05:50             40         2018\n",
       "26765     C38741  2018-01-17  18:56:16             36         2018\n",
       "26766     C20407  2018-01-17  10:24:52             75         2018\n",
       "26767     C27220  2018-01-17  12:04:10             40         2018\n",
       "\n",
       "[26768 rows x 5 columns]"
      ]
     },
     "execution_count": 280,
     "metadata": {},
     "output_type": "execute_result"
    }
   ],
   "source": [
    "trans_test"
   ]
  },
  {
   "cell_type": "code",
   "execution_count": 281,
   "id": "47afcaeb",
   "metadata": {},
   "outputs": [],
   "source": [
    "trans_test.drop(['DateOfOrder','timestamp'], axis=1, inplace=True)"
   ]
  },
  {
   "cell_type": "code",
   "execution_count": 282,
   "id": "f38b024a",
   "metadata": {},
   "outputs": [
    {
     "data": {
      "text/html": [
       "<div>\n",
       "<style scoped>\n",
       "    .dataframe tbody tr th:only-of-type {\n",
       "        vertical-align: middle;\n",
       "    }\n",
       "\n",
       "    .dataframe tbody tr th {\n",
       "        vertical-align: top;\n",
       "    }\n",
       "\n",
       "    .dataframe thead th {\n",
       "        text-align: right;\n",
       "    }\n",
       "</style>\n",
       "<table border=\"1\" class=\"dataframe\">\n",
       "  <thead>\n",
       "    <tr style=\"text-align: right;\">\n",
       "      <th></th>\n",
       "      <th>CustomerID</th>\n",
       "      <th>OrderQuantity</th>\n",
       "      <th>yearoforder</th>\n",
       "    </tr>\n",
       "  </thead>\n",
       "  <tbody>\n",
       "    <tr>\n",
       "      <th>0</th>\n",
       "      <td>C17838</td>\n",
       "      <td>55</td>\n",
       "      <td>2011</td>\n",
       "    </tr>\n",
       "    <tr>\n",
       "      <th>1</th>\n",
       "      <td>C12403</td>\n",
       "      <td>174</td>\n",
       "      <td>2010</td>\n",
       "    </tr>\n",
       "    <tr>\n",
       "      <th>2</th>\n",
       "      <td>C12403</td>\n",
       "      <td>171</td>\n",
       "      <td>2010</td>\n",
       "    </tr>\n",
       "    <tr>\n",
       "      <th>3</th>\n",
       "      <td>C12403</td>\n",
       "      <td>166</td>\n",
       "      <td>2011</td>\n",
       "    </tr>\n",
       "    <tr>\n",
       "      <th>4</th>\n",
       "      <td>C12403</td>\n",
       "      <td>179</td>\n",
       "      <td>2011</td>\n",
       "    </tr>\n",
       "    <tr>\n",
       "      <th>...</th>\n",
       "      <td>...</td>\n",
       "      <td>...</td>\n",
       "      <td>...</td>\n",
       "    </tr>\n",
       "    <tr>\n",
       "      <th>26763</th>\n",
       "      <td>C32947</td>\n",
       "      <td>41</td>\n",
       "      <td>2018</td>\n",
       "    </tr>\n",
       "    <tr>\n",
       "      <th>26764</th>\n",
       "      <td>C28951</td>\n",
       "      <td>40</td>\n",
       "      <td>2018</td>\n",
       "    </tr>\n",
       "    <tr>\n",
       "      <th>26765</th>\n",
       "      <td>C38741</td>\n",
       "      <td>36</td>\n",
       "      <td>2018</td>\n",
       "    </tr>\n",
       "    <tr>\n",
       "      <th>26766</th>\n",
       "      <td>C20407</td>\n",
       "      <td>75</td>\n",
       "      <td>2018</td>\n",
       "    </tr>\n",
       "    <tr>\n",
       "      <th>26767</th>\n",
       "      <td>C27220</td>\n",
       "      <td>40</td>\n",
       "      <td>2018</td>\n",
       "    </tr>\n",
       "  </tbody>\n",
       "</table>\n",
       "<p>26768 rows × 3 columns</p>\n",
       "</div>"
      ],
      "text/plain": [
       "      CustomerID  OrderQuantity  yearoforder\n",
       "0         C17838             55         2011\n",
       "1         C12403            174         2010\n",
       "2         C12403            171         2010\n",
       "3         C12403            166         2011\n",
       "4         C12403            179         2011\n",
       "...          ...            ...          ...\n",
       "26763     C32947             41         2018\n",
       "26764     C28951             40         2018\n",
       "26765     C38741             36         2018\n",
       "26766     C20407             75         2018\n",
       "26767     C27220             40         2018\n",
       "\n",
       "[26768 rows x 3 columns]"
      ]
     },
     "execution_count": 282,
     "metadata": {},
     "output_type": "execute_result"
    }
   ],
   "source": [
    "trans_test"
   ]
  },
  {
   "cell_type": "code",
   "execution_count": 283,
   "id": "de0f47a9",
   "metadata": {},
   "outputs": [
    {
     "data": {
      "text/plain": [
       "CustomerID       object\n",
       "OrderQuantity     int64\n",
       "yearoforder       int64\n",
       "dtype: object"
      ]
     },
     "execution_count": 283,
     "metadata": {},
     "output_type": "execute_result"
    }
   ],
   "source": [
    "trans_test.dtypes"
   ]
  },
  {
   "cell_type": "markdown",
   "id": "7aee3aa2",
   "metadata": {},
   "source": [
    "**grouping customerID and year**"
   ]
  },
  {
   "cell_type": "code",
   "execution_count": 284,
   "id": "fa4c77cf",
   "metadata": {},
   "outputs": [],
   "source": [
    "email_test_df=email_test.groupby([\"CustomerID\"]).count()"
   ]
  },
  {
   "cell_type": "code",
   "execution_count": 285,
   "id": "80f0aeff",
   "metadata": {},
   "outputs": [
    {
     "data": {
      "text/html": [
       "<div>\n",
       "<style scoped>\n",
       "    .dataframe tbody tr th:only-of-type {\n",
       "        vertical-align: middle;\n",
       "    }\n",
       "\n",
       "    .dataframe tbody tr th {\n",
       "        vertical-align: top;\n",
       "    }\n",
       "\n",
       "    .dataframe thead th {\n",
       "        text-align: right;\n",
       "    }\n",
       "</style>\n",
       "<table border=\"1\" class=\"dataframe\">\n",
       "  <thead>\n",
       "    <tr style=\"text-align: right;\">\n",
       "      <th></th>\n",
       "      <th>EmailType</th>\n",
       "      <th>MailOpened</th>\n",
       "      <th>MailClicked</th>\n",
       "      <th>yearofemail</th>\n",
       "    </tr>\n",
       "    <tr>\n",
       "      <th>CustomerID</th>\n",
       "      <th></th>\n",
       "      <th></th>\n",
       "      <th></th>\n",
       "      <th></th>\n",
       "    </tr>\n",
       "  </thead>\n",
       "  <tbody>\n",
       "    <tr>\n",
       "      <th>C12121</th>\n",
       "      <td>25</td>\n",
       "      <td>25</td>\n",
       "      <td>25</td>\n",
       "      <td>25</td>\n",
       "    </tr>\n",
       "    <tr>\n",
       "      <th>C12132</th>\n",
       "      <td>1</td>\n",
       "      <td>1</td>\n",
       "      <td>1</td>\n",
       "      <td>1</td>\n",
       "    </tr>\n",
       "    <tr>\n",
       "      <th>C12134</th>\n",
       "      <td>1</td>\n",
       "      <td>1</td>\n",
       "      <td>1</td>\n",
       "      <td>1</td>\n",
       "    </tr>\n",
       "    <tr>\n",
       "      <th>C12135</th>\n",
       "      <td>30</td>\n",
       "      <td>30</td>\n",
       "      <td>30</td>\n",
       "      <td>30</td>\n",
       "    </tr>\n",
       "    <tr>\n",
       "      <th>C12136</th>\n",
       "      <td>42</td>\n",
       "      <td>42</td>\n",
       "      <td>42</td>\n",
       "      <td>42</td>\n",
       "    </tr>\n",
       "    <tr>\n",
       "      <th>...</th>\n",
       "      <td>...</td>\n",
       "      <td>...</td>\n",
       "      <td>...</td>\n",
       "      <td>...</td>\n",
       "    </tr>\n",
       "    <tr>\n",
       "      <th>C42153</th>\n",
       "      <td>11</td>\n",
       "      <td>11</td>\n",
       "      <td>11</td>\n",
       "      <td>11</td>\n",
       "    </tr>\n",
       "    <tr>\n",
       "      <th>C42155</th>\n",
       "      <td>1</td>\n",
       "      <td>1</td>\n",
       "      <td>1</td>\n",
       "      <td>1</td>\n",
       "    </tr>\n",
       "    <tr>\n",
       "      <th>C42157</th>\n",
       "      <td>1</td>\n",
       "      <td>1</td>\n",
       "      <td>1</td>\n",
       "      <td>1</td>\n",
       "    </tr>\n",
       "    <tr>\n",
       "      <th>C42167</th>\n",
       "      <td>50</td>\n",
       "      <td>50</td>\n",
       "      <td>50</td>\n",
       "      <td>50</td>\n",
       "    </tr>\n",
       "    <tr>\n",
       "      <th>C42190</th>\n",
       "      <td>1</td>\n",
       "      <td>1</td>\n",
       "      <td>1</td>\n",
       "      <td>1</td>\n",
       "    </tr>\n",
       "  </tbody>\n",
       "</table>\n",
       "<p>5955 rows × 4 columns</p>\n",
       "</div>"
      ],
      "text/plain": [
       "            EmailType  MailOpened  MailClicked  yearofemail\n",
       "CustomerID                                                 \n",
       "C12121             25          25           25           25\n",
       "C12132              1           1            1            1\n",
       "C12134              1           1            1            1\n",
       "C12135             30          30           30           30\n",
       "C12136             42          42           42           42\n",
       "...               ...         ...          ...          ...\n",
       "C42153             11          11           11           11\n",
       "C42155              1           1            1            1\n",
       "C42157              1           1            1            1\n",
       "C42167             50          50           50           50\n",
       "C42190              1           1            1            1\n",
       "\n",
       "[5955 rows x 4 columns]"
      ]
     },
     "execution_count": 285,
     "metadata": {},
     "output_type": "execute_result"
    }
   ],
   "source": [
    "email_test_df"
   ]
  },
  {
   "cell_type": "code",
   "execution_count": 286,
   "id": "e5f1803f",
   "metadata": {},
   "outputs": [
    {
     "data": {
      "text/plain": [
       "EmailType      76\n",
       "MailOpened     76\n",
       "MailClicked    76\n",
       "yearofemail    76\n",
       "dtype: int64"
      ]
     },
     "execution_count": 286,
     "metadata": {},
     "output_type": "execute_result"
    }
   ],
   "source": [
    "email_test_df.nunique()"
   ]
  },
  {
   "cell_type": "code",
   "execution_count": 287,
   "id": "0b71967a",
   "metadata": {},
   "outputs": [],
   "source": [
    "trans_test_df = trans_test.groupby([\"CustomerID\"]).sum()"
   ]
  },
  {
   "cell_type": "code",
   "execution_count": 288,
   "id": "d642fca2",
   "metadata": {},
   "outputs": [
    {
     "data": {
      "text/html": [
       "<div>\n",
       "<style scoped>\n",
       "    .dataframe tbody tr th:only-of-type {\n",
       "        vertical-align: middle;\n",
       "    }\n",
       "\n",
       "    .dataframe tbody tr th {\n",
       "        vertical-align: top;\n",
       "    }\n",
       "\n",
       "    .dataframe thead th {\n",
       "        text-align: right;\n",
       "    }\n",
       "</style>\n",
       "<table border=\"1\" class=\"dataframe\">\n",
       "  <thead>\n",
       "    <tr style=\"text-align: right;\">\n",
       "      <th></th>\n",
       "      <th>OrderQuantity</th>\n",
       "      <th>yearoforder</th>\n",
       "    </tr>\n",
       "    <tr>\n",
       "      <th>CustomerID</th>\n",
       "      <th></th>\n",
       "      <th></th>\n",
       "    </tr>\n",
       "  </thead>\n",
       "  <tbody>\n",
       "    <tr>\n",
       "      <th>C12121</th>\n",
       "      <td>52</td>\n",
       "      <td>2017</td>\n",
       "    </tr>\n",
       "    <tr>\n",
       "      <th>C12132</th>\n",
       "      <td>40</td>\n",
       "      <td>2013</td>\n",
       "    </tr>\n",
       "    <tr>\n",
       "      <th>C12134</th>\n",
       "      <td>40</td>\n",
       "      <td>2013</td>\n",
       "    </tr>\n",
       "    <tr>\n",
       "      <th>C12135</th>\n",
       "      <td>41</td>\n",
       "      <td>2018</td>\n",
       "    </tr>\n",
       "    <tr>\n",
       "      <th>C12136</th>\n",
       "      <td>79</td>\n",
       "      <td>2013</td>\n",
       "    </tr>\n",
       "    <tr>\n",
       "      <th>...</th>\n",
       "      <td>...</td>\n",
       "      <td>...</td>\n",
       "    </tr>\n",
       "    <tr>\n",
       "      <th>C42153</th>\n",
       "      <td>379</td>\n",
       "      <td>10060</td>\n",
       "    </tr>\n",
       "    <tr>\n",
       "      <th>C42155</th>\n",
       "      <td>41</td>\n",
       "      <td>2013</td>\n",
       "    </tr>\n",
       "    <tr>\n",
       "      <th>C42157</th>\n",
       "      <td>41</td>\n",
       "      <td>2013</td>\n",
       "    </tr>\n",
       "    <tr>\n",
       "      <th>C42167</th>\n",
       "      <td>502</td>\n",
       "      <td>12100</td>\n",
       "    </tr>\n",
       "    <tr>\n",
       "      <th>C42190</th>\n",
       "      <td>40</td>\n",
       "      <td>2013</td>\n",
       "    </tr>\n",
       "  </tbody>\n",
       "</table>\n",
       "<p>5955 rows × 2 columns</p>\n",
       "</div>"
      ],
      "text/plain": [
       "            OrderQuantity  yearoforder\n",
       "CustomerID                            \n",
       "C12121                 52         2017\n",
       "C12132                 40         2013\n",
       "C12134                 40         2013\n",
       "C12135                 41         2018\n",
       "C12136                 79         2013\n",
       "...                   ...          ...\n",
       "C42153                379        10060\n",
       "C42155                 41         2013\n",
       "C42157                 41         2013\n",
       "C42167                502        12100\n",
       "C42190                 40         2013\n",
       "\n",
       "[5955 rows x 2 columns]"
      ]
     },
     "execution_count": 288,
     "metadata": {},
     "output_type": "execute_result"
    }
   ],
   "source": [
    "trans_test_df"
   ]
  },
  {
   "cell_type": "code",
   "execution_count": 289,
   "id": "c3ffa9e2",
   "metadata": {},
   "outputs": [
    {
     "data": {
      "text/plain": [
       "(5955, 7)"
      ]
     },
     "execution_count": 289,
     "metadata": {},
     "output_type": "execute_result"
    }
   ],
   "source": [
    "cust_test.shape"
   ]
  },
  {
   "cell_type": "code",
   "execution_count": 290,
   "id": "bdfb44a0",
   "metadata": {},
   "outputs": [
    {
     "data": {
      "text/plain": [
       "Index(['CustomerID', 'City', 'OnlineCommunication', 'AutomaticRefill',\n",
       "       'DoorstepDelivery', 'PreferredDeliveryDay', 'yearofreg'],\n",
       "      dtype='object')"
      ]
     },
     "execution_count": 290,
     "metadata": {},
     "output_type": "execute_result"
    }
   ],
   "source": [
    "cust_test.columns"
   ]
  },
  {
   "cell_type": "code",
   "execution_count": 291,
   "id": "bcd1231a",
   "metadata": {},
   "outputs": [
    {
     "data": {
      "text/plain": [
       "(5955, 1)"
      ]
     },
     "execution_count": 291,
     "metadata": {},
     "output_type": "execute_result"
    }
   ],
   "source": [
    "test.shape"
   ]
  },
  {
   "cell_type": "code",
   "execution_count": 292,
   "id": "13cdd7dc",
   "metadata": {},
   "outputs": [
    {
     "data": {
      "text/plain": [
       "Index(['CustomerID'], dtype='object')"
      ]
     },
     "execution_count": 292,
     "metadata": {},
     "output_type": "execute_result"
    }
   ],
   "source": [
    "test.columns"
   ]
  },
  {
   "cell_type": "code",
   "execution_count": 293,
   "id": "240a12fa",
   "metadata": {},
   "outputs": [
    {
     "data": {
      "text/plain": [
       "(5955, 4)"
      ]
     },
     "execution_count": 293,
     "metadata": {},
     "output_type": "execute_result"
    }
   ],
   "source": [
    "email_test_df.shape"
   ]
  },
  {
   "cell_type": "code",
   "execution_count": 294,
   "id": "c7c25641",
   "metadata": {},
   "outputs": [
    {
     "data": {
      "text/plain": [
       "Index(['EmailType', 'MailOpened', 'MailClicked', 'yearofemail'], dtype='object')"
      ]
     },
     "execution_count": 294,
     "metadata": {},
     "output_type": "execute_result"
    }
   ],
   "source": [
    "email_test_df.columns"
   ]
  },
  {
   "cell_type": "code",
   "execution_count": 295,
   "id": "b94b5bed",
   "metadata": {},
   "outputs": [
    {
     "data": {
      "text/plain": [
       "(5955, 2)"
      ]
     },
     "execution_count": 295,
     "metadata": {},
     "output_type": "execute_result"
    }
   ],
   "source": [
    "trans_test_df.shape"
   ]
  },
  {
   "cell_type": "code",
   "execution_count": 296,
   "id": "1d945889",
   "metadata": {},
   "outputs": [
    {
     "data": {
      "text/plain": [
       "Index(['OrderQuantity', 'yearoforder'], dtype='object')"
      ]
     },
     "execution_count": 296,
     "metadata": {},
     "output_type": "execute_result"
    }
   ],
   "source": [
    "trans_test_df.columns"
   ]
  },
  {
   "cell_type": "markdown",
   "id": "48343ff2",
   "metadata": {},
   "source": [
    "# **merging test data**"
   ]
  },
  {
   "cell_type": "code",
   "execution_count": 297,
   "id": "9af583a1",
   "metadata": {},
   "outputs": [],
   "source": [
    "#merging data of cust_test and eamil_test_df to merge_test1\n",
    "merge_test1=pd.merge(cust_test,email_test_df,on='CustomerID',how=\"inner\") "
   ]
  },
  {
   "cell_type": "code",
   "execution_count": 298,
   "id": "8c220ec2",
   "metadata": {
    "scrolled": true
   },
   "outputs": [
    {
     "data": {
      "text/html": [
       "<div>\n",
       "<style scoped>\n",
       "    .dataframe tbody tr th:only-of-type {\n",
       "        vertical-align: middle;\n",
       "    }\n",
       "\n",
       "    .dataframe tbody tr th {\n",
       "        vertical-align: top;\n",
       "    }\n",
       "\n",
       "    .dataframe thead th {\n",
       "        text-align: right;\n",
       "    }\n",
       "</style>\n",
       "<table border=\"1\" class=\"dataframe\">\n",
       "  <thead>\n",
       "    <tr style=\"text-align: right;\">\n",
       "      <th></th>\n",
       "      <th>CustomerID</th>\n",
       "      <th>City</th>\n",
       "      <th>OnlineCommunication</th>\n",
       "      <th>AutomaticRefill</th>\n",
       "      <th>DoorstepDelivery</th>\n",
       "      <th>PreferredDeliveryDay</th>\n",
       "      <th>yearofreg</th>\n",
       "      <th>EmailType</th>\n",
       "      <th>MailOpened</th>\n",
       "      <th>MailClicked</th>\n",
       "      <th>yearofemail</th>\n",
       "    </tr>\n",
       "  </thead>\n",
       "  <tbody>\n",
       "    <tr>\n",
       "      <th>0</th>\n",
       "      <td>C17838</td>\n",
       "      <td>CITY4</td>\n",
       "      <td>0</td>\n",
       "      <td>0</td>\n",
       "      <td>0</td>\n",
       "      <td>Thursday</td>\n",
       "      <td>2010</td>\n",
       "      <td>1</td>\n",
       "      <td>1</td>\n",
       "      <td>1</td>\n",
       "      <td>1</td>\n",
       "    </tr>\n",
       "    <tr>\n",
       "      <th>1</th>\n",
       "      <td>C12403</td>\n",
       "      <td>CITY2</td>\n",
       "      <td>1</td>\n",
       "      <td>1</td>\n",
       "      <td>0</td>\n",
       "      <td>Wednesday</td>\n",
       "      <td>2008</td>\n",
       "      <td>47</td>\n",
       "      <td>47</td>\n",
       "      <td>47</td>\n",
       "      <td>47</td>\n",
       "    </tr>\n",
       "    <tr>\n",
       "      <th>2</th>\n",
       "      <td>C19041</td>\n",
       "      <td>CITY4</td>\n",
       "      <td>0</td>\n",
       "      <td>1</td>\n",
       "      <td>0</td>\n",
       "      <td>Friday</td>\n",
       "      <td>2011</td>\n",
       "      <td>61</td>\n",
       "      <td>61</td>\n",
       "      <td>61</td>\n",
       "      <td>61</td>\n",
       "    </tr>\n",
       "    <tr>\n",
       "      <th>3</th>\n",
       "      <td>C24069</td>\n",
       "      <td>CITY2</td>\n",
       "      <td>0</td>\n",
       "      <td>0</td>\n",
       "      <td>0</td>\n",
       "      <td>Wednesday</td>\n",
       "      <td>2010</td>\n",
       "      <td>46</td>\n",
       "      <td>46</td>\n",
       "      <td>46</td>\n",
       "      <td>46</td>\n",
       "    </tr>\n",
       "    <tr>\n",
       "      <th>4</th>\n",
       "      <td>C26718</td>\n",
       "      <td>CITY2</td>\n",
       "      <td>1</td>\n",
       "      <td>0</td>\n",
       "      <td>0</td>\n",
       "      <td>Monday</td>\n",
       "      <td>2010</td>\n",
       "      <td>14</td>\n",
       "      <td>14</td>\n",
       "      <td>14</td>\n",
       "      <td>14</td>\n",
       "    </tr>\n",
       "    <tr>\n",
       "      <th>...</th>\n",
       "      <td>...</td>\n",
       "      <td>...</td>\n",
       "      <td>...</td>\n",
       "      <td>...</td>\n",
       "      <td>...</td>\n",
       "      <td>...</td>\n",
       "      <td>...</td>\n",
       "      <td>...</td>\n",
       "      <td>...</td>\n",
       "      <td>...</td>\n",
       "      <td>...</td>\n",
       "    </tr>\n",
       "    <tr>\n",
       "      <th>5950</th>\n",
       "      <td>C32947</td>\n",
       "      <td>CITY2</td>\n",
       "      <td>1</td>\n",
       "      <td>0</td>\n",
       "      <td>0</td>\n",
       "      <td>Friday</td>\n",
       "      <td>2018</td>\n",
       "      <td>1</td>\n",
       "      <td>1</td>\n",
       "      <td>1</td>\n",
       "      <td>1</td>\n",
       "    </tr>\n",
       "    <tr>\n",
       "      <th>5951</th>\n",
       "      <td>C28951</td>\n",
       "      <td>CITY3</td>\n",
       "      <td>1</td>\n",
       "      <td>0</td>\n",
       "      <td>0</td>\n",
       "      <td>Friday</td>\n",
       "      <td>2018</td>\n",
       "      <td>1</td>\n",
       "      <td>1</td>\n",
       "      <td>1</td>\n",
       "      <td>1</td>\n",
       "    </tr>\n",
       "    <tr>\n",
       "      <th>5952</th>\n",
       "      <td>C38741</td>\n",
       "      <td>CITY3</td>\n",
       "      <td>1</td>\n",
       "      <td>0</td>\n",
       "      <td>0</td>\n",
       "      <td>Monday</td>\n",
       "      <td>2018</td>\n",
       "      <td>1</td>\n",
       "      <td>1</td>\n",
       "      <td>1</td>\n",
       "      <td>1</td>\n",
       "    </tr>\n",
       "    <tr>\n",
       "      <th>5953</th>\n",
       "      <td>C20407</td>\n",
       "      <td>CITY2</td>\n",
       "      <td>1</td>\n",
       "      <td>0</td>\n",
       "      <td>0</td>\n",
       "      <td>Friday</td>\n",
       "      <td>2018</td>\n",
       "      <td>1</td>\n",
       "      <td>1</td>\n",
       "      <td>1</td>\n",
       "      <td>1</td>\n",
       "    </tr>\n",
       "    <tr>\n",
       "      <th>5954</th>\n",
       "      <td>C27220</td>\n",
       "      <td>CITY3</td>\n",
       "      <td>1</td>\n",
       "      <td>0</td>\n",
       "      <td>0</td>\n",
       "      <td>Friday</td>\n",
       "      <td>2018</td>\n",
       "      <td>1</td>\n",
       "      <td>1</td>\n",
       "      <td>1</td>\n",
       "      <td>1</td>\n",
       "    </tr>\n",
       "  </tbody>\n",
       "</table>\n",
       "<p>5955 rows × 11 columns</p>\n",
       "</div>"
      ],
      "text/plain": [
       "     CustomerID   City  OnlineCommunication  AutomaticRefill  \\\n",
       "0        C17838  CITY4                    0                0   \n",
       "1        C12403  CITY2                    1                1   \n",
       "2        C19041  CITY4                    0                1   \n",
       "3        C24069  CITY2                    0                0   \n",
       "4        C26718  CITY2                    1                0   \n",
       "...         ...    ...                  ...              ...   \n",
       "5950     C32947  CITY2                    1                0   \n",
       "5951     C28951  CITY3                    1                0   \n",
       "5952     C38741  CITY3                    1                0   \n",
       "5953     C20407  CITY2                    1                0   \n",
       "5954     C27220  CITY3                    1                0   \n",
       "\n",
       "      DoorstepDelivery PreferredDeliveryDay  yearofreg  EmailType  MailOpened  \\\n",
       "0                    0             Thursday       2010          1           1   \n",
       "1                    0            Wednesday       2008         47          47   \n",
       "2                    0               Friday       2011         61          61   \n",
       "3                    0            Wednesday       2010         46          46   \n",
       "4                    0               Monday       2010         14          14   \n",
       "...                ...                  ...        ...        ...         ...   \n",
       "5950                 0               Friday       2018          1           1   \n",
       "5951                 0               Friday       2018          1           1   \n",
       "5952                 0               Monday       2018          1           1   \n",
       "5953                 0               Friday       2018          1           1   \n",
       "5954                 0               Friday       2018          1           1   \n",
       "\n",
       "      MailClicked  yearofemail  \n",
       "0               1            1  \n",
       "1              47           47  \n",
       "2              61           61  \n",
       "3              46           46  \n",
       "4              14           14  \n",
       "...           ...          ...  \n",
       "5950            1            1  \n",
       "5951            1            1  \n",
       "5952            1            1  \n",
       "5953            1            1  \n",
       "5954            1            1  \n",
       "\n",
       "[5955 rows x 11 columns]"
      ]
     },
     "execution_count": 298,
     "metadata": {},
     "output_type": "execute_result"
    }
   ],
   "source": [
    "merge_test1"
   ]
  },
  {
   "cell_type": "code",
   "execution_count": 299,
   "id": "63ed990c",
   "metadata": {},
   "outputs": [],
   "source": [
    "#merging data of merge_test1 and trans_test_df to x_test\n",
    "x_test = pd.merge(merge_test1,trans_test_df,on=['CustomerID'],how='inner')"
   ]
  },
  {
   "cell_type": "code",
   "execution_count": 300,
   "id": "77301c77",
   "metadata": {},
   "outputs": [
    {
     "data": {
      "text/html": [
       "<div>\n",
       "<style scoped>\n",
       "    .dataframe tbody tr th:only-of-type {\n",
       "        vertical-align: middle;\n",
       "    }\n",
       "\n",
       "    .dataframe tbody tr th {\n",
       "        vertical-align: top;\n",
       "    }\n",
       "\n",
       "    .dataframe thead th {\n",
       "        text-align: right;\n",
       "    }\n",
       "</style>\n",
       "<table border=\"1\" class=\"dataframe\">\n",
       "  <thead>\n",
       "    <tr style=\"text-align: right;\">\n",
       "      <th></th>\n",
       "      <th>CustomerID</th>\n",
       "      <th>City</th>\n",
       "      <th>OnlineCommunication</th>\n",
       "      <th>AutomaticRefill</th>\n",
       "      <th>DoorstepDelivery</th>\n",
       "      <th>PreferredDeliveryDay</th>\n",
       "      <th>yearofreg</th>\n",
       "      <th>EmailType</th>\n",
       "      <th>MailOpened</th>\n",
       "      <th>MailClicked</th>\n",
       "      <th>yearofemail</th>\n",
       "      <th>OrderQuantity</th>\n",
       "      <th>yearoforder</th>\n",
       "    </tr>\n",
       "  </thead>\n",
       "  <tbody>\n",
       "    <tr>\n",
       "      <th>0</th>\n",
       "      <td>C17838</td>\n",
       "      <td>CITY4</td>\n",
       "      <td>0</td>\n",
       "      <td>0</td>\n",
       "      <td>0</td>\n",
       "      <td>Thursday</td>\n",
       "      <td>2010</td>\n",
       "      <td>1</td>\n",
       "      <td>1</td>\n",
       "      <td>1</td>\n",
       "      <td>1</td>\n",
       "      <td>55</td>\n",
       "      <td>2011</td>\n",
       "    </tr>\n",
       "    <tr>\n",
       "      <th>1</th>\n",
       "      <td>C12403</td>\n",
       "      <td>CITY2</td>\n",
       "      <td>1</td>\n",
       "      <td>1</td>\n",
       "      <td>0</td>\n",
       "      <td>Wednesday</td>\n",
       "      <td>2008</td>\n",
       "      <td>47</td>\n",
       "      <td>47</td>\n",
       "      <td>47</td>\n",
       "      <td>47</td>\n",
       "      <td>29537</td>\n",
       "      <td>337984</td>\n",
       "    </tr>\n",
       "    <tr>\n",
       "      <th>2</th>\n",
       "      <td>C19041</td>\n",
       "      <td>CITY4</td>\n",
       "      <td>0</td>\n",
       "      <td>1</td>\n",
       "      <td>0</td>\n",
       "      <td>Friday</td>\n",
       "      <td>2011</td>\n",
       "      <td>61</td>\n",
       "      <td>61</td>\n",
       "      <td>61</td>\n",
       "      <td>61</td>\n",
       "      <td>14321</td>\n",
       "      <td>245487</td>\n",
       "    </tr>\n",
       "    <tr>\n",
       "      <th>3</th>\n",
       "      <td>C24069</td>\n",
       "      <td>CITY2</td>\n",
       "      <td>0</td>\n",
       "      <td>0</td>\n",
       "      <td>0</td>\n",
       "      <td>Wednesday</td>\n",
       "      <td>2010</td>\n",
       "      <td>46</td>\n",
       "      <td>46</td>\n",
       "      <td>46</td>\n",
       "      <td>46</td>\n",
       "      <td>47</td>\n",
       "      <td>2010</td>\n",
       "    </tr>\n",
       "    <tr>\n",
       "      <th>4</th>\n",
       "      <td>C26718</td>\n",
       "      <td>CITY2</td>\n",
       "      <td>1</td>\n",
       "      <td>0</td>\n",
       "      <td>0</td>\n",
       "      <td>Monday</td>\n",
       "      <td>2010</td>\n",
       "      <td>14</td>\n",
       "      <td>14</td>\n",
       "      <td>14</td>\n",
       "      <td>14</td>\n",
       "      <td>20238</td>\n",
       "      <td>259555</td>\n",
       "    </tr>\n",
       "    <tr>\n",
       "      <th>...</th>\n",
       "      <td>...</td>\n",
       "      <td>...</td>\n",
       "      <td>...</td>\n",
       "      <td>...</td>\n",
       "      <td>...</td>\n",
       "      <td>...</td>\n",
       "      <td>...</td>\n",
       "      <td>...</td>\n",
       "      <td>...</td>\n",
       "      <td>...</td>\n",
       "      <td>...</td>\n",
       "      <td>...</td>\n",
       "      <td>...</td>\n",
       "    </tr>\n",
       "    <tr>\n",
       "      <th>5950</th>\n",
       "      <td>C32947</td>\n",
       "      <td>CITY2</td>\n",
       "      <td>1</td>\n",
       "      <td>0</td>\n",
       "      <td>0</td>\n",
       "      <td>Friday</td>\n",
       "      <td>2018</td>\n",
       "      <td>1</td>\n",
       "      <td>1</td>\n",
       "      <td>1</td>\n",
       "      <td>1</td>\n",
       "      <td>41</td>\n",
       "      <td>2018</td>\n",
       "    </tr>\n",
       "    <tr>\n",
       "      <th>5951</th>\n",
       "      <td>C28951</td>\n",
       "      <td>CITY3</td>\n",
       "      <td>1</td>\n",
       "      <td>0</td>\n",
       "      <td>0</td>\n",
       "      <td>Friday</td>\n",
       "      <td>2018</td>\n",
       "      <td>1</td>\n",
       "      <td>1</td>\n",
       "      <td>1</td>\n",
       "      <td>1</td>\n",
       "      <td>40</td>\n",
       "      <td>2018</td>\n",
       "    </tr>\n",
       "    <tr>\n",
       "      <th>5952</th>\n",
       "      <td>C38741</td>\n",
       "      <td>CITY3</td>\n",
       "      <td>1</td>\n",
       "      <td>0</td>\n",
       "      <td>0</td>\n",
       "      <td>Monday</td>\n",
       "      <td>2018</td>\n",
       "      <td>1</td>\n",
       "      <td>1</td>\n",
       "      <td>1</td>\n",
       "      <td>1</td>\n",
       "      <td>36</td>\n",
       "      <td>2018</td>\n",
       "    </tr>\n",
       "    <tr>\n",
       "      <th>5953</th>\n",
       "      <td>C20407</td>\n",
       "      <td>CITY2</td>\n",
       "      <td>1</td>\n",
       "      <td>0</td>\n",
       "      <td>0</td>\n",
       "      <td>Friday</td>\n",
       "      <td>2018</td>\n",
       "      <td>1</td>\n",
       "      <td>1</td>\n",
       "      <td>1</td>\n",
       "      <td>1</td>\n",
       "      <td>75</td>\n",
       "      <td>2018</td>\n",
       "    </tr>\n",
       "    <tr>\n",
       "      <th>5954</th>\n",
       "      <td>C27220</td>\n",
       "      <td>CITY3</td>\n",
       "      <td>1</td>\n",
       "      <td>0</td>\n",
       "      <td>0</td>\n",
       "      <td>Friday</td>\n",
       "      <td>2018</td>\n",
       "      <td>1</td>\n",
       "      <td>1</td>\n",
       "      <td>1</td>\n",
       "      <td>1</td>\n",
       "      <td>40</td>\n",
       "      <td>2018</td>\n",
       "    </tr>\n",
       "  </tbody>\n",
       "</table>\n",
       "<p>5955 rows × 13 columns</p>\n",
       "</div>"
      ],
      "text/plain": [
       "     CustomerID   City  OnlineCommunication  AutomaticRefill  \\\n",
       "0        C17838  CITY4                    0                0   \n",
       "1        C12403  CITY2                    1                1   \n",
       "2        C19041  CITY4                    0                1   \n",
       "3        C24069  CITY2                    0                0   \n",
       "4        C26718  CITY2                    1                0   \n",
       "...         ...    ...                  ...              ...   \n",
       "5950     C32947  CITY2                    1                0   \n",
       "5951     C28951  CITY3                    1                0   \n",
       "5952     C38741  CITY3                    1                0   \n",
       "5953     C20407  CITY2                    1                0   \n",
       "5954     C27220  CITY3                    1                0   \n",
       "\n",
       "      DoorstepDelivery PreferredDeliveryDay  yearofreg  EmailType  MailOpened  \\\n",
       "0                    0             Thursday       2010          1           1   \n",
       "1                    0            Wednesday       2008         47          47   \n",
       "2                    0               Friday       2011         61          61   \n",
       "3                    0            Wednesday       2010         46          46   \n",
       "4                    0               Monday       2010         14          14   \n",
       "...                ...                  ...        ...        ...         ...   \n",
       "5950                 0               Friday       2018          1           1   \n",
       "5951                 0               Friday       2018          1           1   \n",
       "5952                 0               Monday       2018          1           1   \n",
       "5953                 0               Friday       2018          1           1   \n",
       "5954                 0               Friday       2018          1           1   \n",
       "\n",
       "      MailClicked  yearofemail  OrderQuantity  yearoforder  \n",
       "0               1            1             55         2011  \n",
       "1              47           47          29537       337984  \n",
       "2              61           61          14321       245487  \n",
       "3              46           46             47         2010  \n",
       "4              14           14          20238       259555  \n",
       "...           ...          ...            ...          ...  \n",
       "5950            1            1             41         2018  \n",
       "5951            1            1             40         2018  \n",
       "5952            1            1             36         2018  \n",
       "5953            1            1             75         2018  \n",
       "5954            1            1             40         2018  \n",
       "\n",
       "[5955 rows x 13 columns]"
      ]
     },
     "execution_count": 300,
     "metadata": {},
     "output_type": "execute_result"
    }
   ],
   "source": [
    "x_test"
   ]
  },
  {
   "cell_type": "code",
   "execution_count": 301,
   "id": "9f44dfac",
   "metadata": {},
   "outputs": [
    {
     "data": {
      "text/plain": [
       "CustomerID              5955\n",
       "City                       4\n",
       "OnlineCommunication        2\n",
       "AutomaticRefill            2\n",
       "DoorstepDelivery           2\n",
       "PreferredDeliveryDay       7\n",
       "yearofreg                 11\n",
       "EmailType                 76\n",
       "MailOpened                76\n",
       "MailClicked               76\n",
       "yearofemail               76\n",
       "OrderQuantity           1030\n",
       "yearoforder              667\n",
       "dtype: int64"
      ]
     },
     "execution_count": 301,
     "metadata": {},
     "output_type": "execute_result"
    }
   ],
   "source": [
    "x_test.nunique()"
   ]
  },
  {
   "cell_type": "code",
   "execution_count": 302,
   "id": "a26cd47a",
   "metadata": {},
   "outputs": [
    {
     "data": {
      "text/plain": [
       "CustomerID              0\n",
       "City                    0\n",
       "OnlineCommunication     0\n",
       "AutomaticRefill         0\n",
       "DoorstepDelivery        0\n",
       "PreferredDeliveryDay    0\n",
       "yearofreg               0\n",
       "EmailType               0\n",
       "MailOpened              0\n",
       "MailClicked             0\n",
       "yearofemail             0\n",
       "OrderQuantity           0\n",
       "yearoforder             0\n",
       "dtype: int64"
      ]
     },
     "execution_count": 302,
     "metadata": {},
     "output_type": "execute_result"
    }
   ],
   "source": [
    "x_test.isnull().sum()"
   ]
  },
  {
   "cell_type": "code",
   "execution_count": 303,
   "id": "c59cf493",
   "metadata": {},
   "outputs": [],
   "source": [
    "#dropping yearofemail and yearoforder\n",
    "x_test.drop(['yearofemail','yearoforder'], axis=1, inplace=True)"
   ]
  },
  {
   "cell_type": "code",
   "execution_count": 304,
   "id": "83bc4dcd",
   "metadata": {},
   "outputs": [
    {
     "data": {
      "text/html": [
       "<div>\n",
       "<style scoped>\n",
       "    .dataframe tbody tr th:only-of-type {\n",
       "        vertical-align: middle;\n",
       "    }\n",
       "\n",
       "    .dataframe tbody tr th {\n",
       "        vertical-align: top;\n",
       "    }\n",
       "\n",
       "    .dataframe thead th {\n",
       "        text-align: right;\n",
       "    }\n",
       "</style>\n",
       "<table border=\"1\" class=\"dataframe\">\n",
       "  <thead>\n",
       "    <tr style=\"text-align: right;\">\n",
       "      <th></th>\n",
       "      <th>CustomerID</th>\n",
       "      <th>City</th>\n",
       "      <th>OnlineCommunication</th>\n",
       "      <th>AutomaticRefill</th>\n",
       "      <th>DoorstepDelivery</th>\n",
       "      <th>PreferredDeliveryDay</th>\n",
       "      <th>yearofreg</th>\n",
       "      <th>EmailType</th>\n",
       "      <th>MailOpened</th>\n",
       "      <th>MailClicked</th>\n",
       "      <th>OrderQuantity</th>\n",
       "    </tr>\n",
       "  </thead>\n",
       "  <tbody>\n",
       "    <tr>\n",
       "      <th>0</th>\n",
       "      <td>C17838</td>\n",
       "      <td>CITY4</td>\n",
       "      <td>0</td>\n",
       "      <td>0</td>\n",
       "      <td>0</td>\n",
       "      <td>Thursday</td>\n",
       "      <td>2010</td>\n",
       "      <td>1</td>\n",
       "      <td>1</td>\n",
       "      <td>1</td>\n",
       "      <td>55</td>\n",
       "    </tr>\n",
       "    <tr>\n",
       "      <th>1</th>\n",
       "      <td>C12403</td>\n",
       "      <td>CITY2</td>\n",
       "      <td>1</td>\n",
       "      <td>1</td>\n",
       "      <td>0</td>\n",
       "      <td>Wednesday</td>\n",
       "      <td>2008</td>\n",
       "      <td>47</td>\n",
       "      <td>47</td>\n",
       "      <td>47</td>\n",
       "      <td>29537</td>\n",
       "    </tr>\n",
       "    <tr>\n",
       "      <th>2</th>\n",
       "      <td>C19041</td>\n",
       "      <td>CITY4</td>\n",
       "      <td>0</td>\n",
       "      <td>1</td>\n",
       "      <td>0</td>\n",
       "      <td>Friday</td>\n",
       "      <td>2011</td>\n",
       "      <td>61</td>\n",
       "      <td>61</td>\n",
       "      <td>61</td>\n",
       "      <td>14321</td>\n",
       "    </tr>\n",
       "    <tr>\n",
       "      <th>3</th>\n",
       "      <td>C24069</td>\n",
       "      <td>CITY2</td>\n",
       "      <td>0</td>\n",
       "      <td>0</td>\n",
       "      <td>0</td>\n",
       "      <td>Wednesday</td>\n",
       "      <td>2010</td>\n",
       "      <td>46</td>\n",
       "      <td>46</td>\n",
       "      <td>46</td>\n",
       "      <td>47</td>\n",
       "    </tr>\n",
       "    <tr>\n",
       "      <th>4</th>\n",
       "      <td>C26718</td>\n",
       "      <td>CITY2</td>\n",
       "      <td>1</td>\n",
       "      <td>0</td>\n",
       "      <td>0</td>\n",
       "      <td>Monday</td>\n",
       "      <td>2010</td>\n",
       "      <td>14</td>\n",
       "      <td>14</td>\n",
       "      <td>14</td>\n",
       "      <td>20238</td>\n",
       "    </tr>\n",
       "    <tr>\n",
       "      <th>...</th>\n",
       "      <td>...</td>\n",
       "      <td>...</td>\n",
       "      <td>...</td>\n",
       "      <td>...</td>\n",
       "      <td>...</td>\n",
       "      <td>...</td>\n",
       "      <td>...</td>\n",
       "      <td>...</td>\n",
       "      <td>...</td>\n",
       "      <td>...</td>\n",
       "      <td>...</td>\n",
       "    </tr>\n",
       "    <tr>\n",
       "      <th>5950</th>\n",
       "      <td>C32947</td>\n",
       "      <td>CITY2</td>\n",
       "      <td>1</td>\n",
       "      <td>0</td>\n",
       "      <td>0</td>\n",
       "      <td>Friday</td>\n",
       "      <td>2018</td>\n",
       "      <td>1</td>\n",
       "      <td>1</td>\n",
       "      <td>1</td>\n",
       "      <td>41</td>\n",
       "    </tr>\n",
       "    <tr>\n",
       "      <th>5951</th>\n",
       "      <td>C28951</td>\n",
       "      <td>CITY3</td>\n",
       "      <td>1</td>\n",
       "      <td>0</td>\n",
       "      <td>0</td>\n",
       "      <td>Friday</td>\n",
       "      <td>2018</td>\n",
       "      <td>1</td>\n",
       "      <td>1</td>\n",
       "      <td>1</td>\n",
       "      <td>40</td>\n",
       "    </tr>\n",
       "    <tr>\n",
       "      <th>5952</th>\n",
       "      <td>C38741</td>\n",
       "      <td>CITY3</td>\n",
       "      <td>1</td>\n",
       "      <td>0</td>\n",
       "      <td>0</td>\n",
       "      <td>Monday</td>\n",
       "      <td>2018</td>\n",
       "      <td>1</td>\n",
       "      <td>1</td>\n",
       "      <td>1</td>\n",
       "      <td>36</td>\n",
       "    </tr>\n",
       "    <tr>\n",
       "      <th>5953</th>\n",
       "      <td>C20407</td>\n",
       "      <td>CITY2</td>\n",
       "      <td>1</td>\n",
       "      <td>0</td>\n",
       "      <td>0</td>\n",
       "      <td>Friday</td>\n",
       "      <td>2018</td>\n",
       "      <td>1</td>\n",
       "      <td>1</td>\n",
       "      <td>1</td>\n",
       "      <td>75</td>\n",
       "    </tr>\n",
       "    <tr>\n",
       "      <th>5954</th>\n",
       "      <td>C27220</td>\n",
       "      <td>CITY3</td>\n",
       "      <td>1</td>\n",
       "      <td>0</td>\n",
       "      <td>0</td>\n",
       "      <td>Friday</td>\n",
       "      <td>2018</td>\n",
       "      <td>1</td>\n",
       "      <td>1</td>\n",
       "      <td>1</td>\n",
       "      <td>40</td>\n",
       "    </tr>\n",
       "  </tbody>\n",
       "</table>\n",
       "<p>5955 rows × 11 columns</p>\n",
       "</div>"
      ],
      "text/plain": [
       "     CustomerID   City  OnlineCommunication  AutomaticRefill  \\\n",
       "0        C17838  CITY4                    0                0   \n",
       "1        C12403  CITY2                    1                1   \n",
       "2        C19041  CITY4                    0                1   \n",
       "3        C24069  CITY2                    0                0   \n",
       "4        C26718  CITY2                    1                0   \n",
       "...         ...    ...                  ...              ...   \n",
       "5950     C32947  CITY2                    1                0   \n",
       "5951     C28951  CITY3                    1                0   \n",
       "5952     C38741  CITY3                    1                0   \n",
       "5953     C20407  CITY2                    1                0   \n",
       "5954     C27220  CITY3                    1                0   \n",
       "\n",
       "      DoorstepDelivery PreferredDeliveryDay  yearofreg  EmailType  MailOpened  \\\n",
       "0                    0             Thursday       2010          1           1   \n",
       "1                    0            Wednesday       2008         47          47   \n",
       "2                    0               Friday       2011         61          61   \n",
       "3                    0            Wednesday       2010         46          46   \n",
       "4                    0               Monday       2010         14          14   \n",
       "...                ...                  ...        ...        ...         ...   \n",
       "5950                 0               Friday       2018          1           1   \n",
       "5951                 0               Friday       2018          1           1   \n",
       "5952                 0               Monday       2018          1           1   \n",
       "5953                 0               Friday       2018          1           1   \n",
       "5954                 0               Friday       2018          1           1   \n",
       "\n",
       "      MailClicked  OrderQuantity  \n",
       "0               1             55  \n",
       "1              47          29537  \n",
       "2              61          14321  \n",
       "3              46             47  \n",
       "4              14          20238  \n",
       "...           ...            ...  \n",
       "5950            1             41  \n",
       "5951            1             40  \n",
       "5952            1             36  \n",
       "5953            1             75  \n",
       "5954            1             40  \n",
       "\n",
       "[5955 rows x 11 columns]"
      ]
     },
     "execution_count": 304,
     "metadata": {},
     "output_type": "execute_result"
    }
   ],
   "source": [
    "x_test"
   ]
  },
  {
   "cell_type": "code",
   "execution_count": 305,
   "id": "d58e32f3",
   "metadata": {},
   "outputs": [
    {
     "data": {
      "text/plain": [
       "CustomerID              5955\n",
       "City                       4\n",
       "OnlineCommunication        2\n",
       "AutomaticRefill            2\n",
       "DoorstepDelivery           2\n",
       "PreferredDeliveryDay       7\n",
       "yearofreg                 11\n",
       "EmailType                 76\n",
       "MailOpened                76\n",
       "MailClicked               76\n",
       "OrderQuantity           1030\n",
       "dtype: int64"
      ]
     },
     "execution_count": 305,
     "metadata": {},
     "output_type": "execute_result"
    }
   ],
   "source": [
    "x_test.nunique()"
   ]
  },
  {
   "cell_type": "code",
   "execution_count": 306,
   "id": "caa7f586",
   "metadata": {},
   "outputs": [
    {
     "data": {
      "text/plain": [
       "CustomerID              object\n",
       "City                    object\n",
       "OnlineCommunication      int64\n",
       "AutomaticRefill          int64\n",
       "DoorstepDelivery         int64\n",
       "PreferredDeliveryDay    object\n",
       "yearofreg                int64\n",
       "EmailType                int64\n",
       "MailOpened               int64\n",
       "MailClicked              int64\n",
       "OrderQuantity            int64\n",
       "dtype: object"
      ]
     },
     "execution_count": 306,
     "metadata": {},
     "output_type": "execute_result"
    }
   ],
   "source": [
    "x_test.dtypes"
   ]
  },
  {
   "cell_type": "code",
   "execution_count": 307,
   "id": "b08a0dce",
   "metadata": {},
   "outputs": [],
   "source": [
    "for col in ['CustomerID', 'City', 'PreferredDeliveryDay']:\n",
    "    x_test[col] = x_test[col].astype('category')"
   ]
  },
  {
   "cell_type": "code",
   "execution_count": 308,
   "id": "c0c9c84b",
   "metadata": {},
   "outputs": [],
   "source": [
    "x_test= x_test.drop(['CustomerID','yearofreg'],axis=1)"
   ]
  },
  {
   "cell_type": "code",
   "execution_count": 309,
   "id": "ec0b3513",
   "metadata": {},
   "outputs": [
    {
     "data": {
      "text/plain": [
       "City                    category\n",
       "OnlineCommunication        int64\n",
       "AutomaticRefill            int64\n",
       "DoorstepDelivery           int64\n",
       "PreferredDeliveryDay    category\n",
       "EmailType                  int64\n",
       "MailOpened                 int64\n",
       "MailClicked                int64\n",
       "OrderQuantity              int64\n",
       "dtype: object"
      ]
     },
     "execution_count": 309,
     "metadata": {},
     "output_type": "execute_result"
    }
   ],
   "source": [
    "x_test.dtypes"
   ]
  },
  {
   "cell_type": "code",
   "execution_count": 310,
   "id": "f19c783e",
   "metadata": {},
   "outputs": [
    {
     "data": {
      "text/plain": [
       "(5955, 9)"
      ]
     },
     "execution_count": 310,
     "metadata": {},
     "output_type": "execute_result"
    }
   ],
   "source": [
    "x_test.shape"
   ]
  },
  {
   "cell_type": "code",
   "execution_count": 311,
   "id": "5ff1db08",
   "metadata": {},
   "outputs": [],
   "source": [
    "x1_test = pd.DataFrame(x_test[['OnlineCommunication','AutomaticRefill','DoorstepDelivery']])"
   ]
  },
  {
   "cell_type": "code",
   "execution_count": 312,
   "id": "a8de9fa8",
   "metadata": {},
   "outputs": [
    {
     "data": {
      "text/html": [
       "<div>\n",
       "<style scoped>\n",
       "    .dataframe tbody tr th:only-of-type {\n",
       "        vertical-align: middle;\n",
       "    }\n",
       "\n",
       "    .dataframe tbody tr th {\n",
       "        vertical-align: top;\n",
       "    }\n",
       "\n",
       "    .dataframe thead th {\n",
       "        text-align: right;\n",
       "    }\n",
       "</style>\n",
       "<table border=\"1\" class=\"dataframe\">\n",
       "  <thead>\n",
       "    <tr style=\"text-align: right;\">\n",
       "      <th></th>\n",
       "      <th>OnlineCommunication</th>\n",
       "      <th>AutomaticRefill</th>\n",
       "      <th>DoorstepDelivery</th>\n",
       "    </tr>\n",
       "  </thead>\n",
       "  <tbody>\n",
       "    <tr>\n",
       "      <th>0</th>\n",
       "      <td>0</td>\n",
       "      <td>0</td>\n",
       "      <td>0</td>\n",
       "    </tr>\n",
       "    <tr>\n",
       "      <th>1</th>\n",
       "      <td>1</td>\n",
       "      <td>1</td>\n",
       "      <td>0</td>\n",
       "    </tr>\n",
       "    <tr>\n",
       "      <th>2</th>\n",
       "      <td>0</td>\n",
       "      <td>1</td>\n",
       "      <td>0</td>\n",
       "    </tr>\n",
       "    <tr>\n",
       "      <th>3</th>\n",
       "      <td>0</td>\n",
       "      <td>0</td>\n",
       "      <td>0</td>\n",
       "    </tr>\n",
       "    <tr>\n",
       "      <th>4</th>\n",
       "      <td>1</td>\n",
       "      <td>0</td>\n",
       "      <td>0</td>\n",
       "    </tr>\n",
       "    <tr>\n",
       "      <th>...</th>\n",
       "      <td>...</td>\n",
       "      <td>...</td>\n",
       "      <td>...</td>\n",
       "    </tr>\n",
       "    <tr>\n",
       "      <th>5950</th>\n",
       "      <td>1</td>\n",
       "      <td>0</td>\n",
       "      <td>0</td>\n",
       "    </tr>\n",
       "    <tr>\n",
       "      <th>5951</th>\n",
       "      <td>1</td>\n",
       "      <td>0</td>\n",
       "      <td>0</td>\n",
       "    </tr>\n",
       "    <tr>\n",
       "      <th>5952</th>\n",
       "      <td>1</td>\n",
       "      <td>0</td>\n",
       "      <td>0</td>\n",
       "    </tr>\n",
       "    <tr>\n",
       "      <th>5953</th>\n",
       "      <td>1</td>\n",
       "      <td>0</td>\n",
       "      <td>0</td>\n",
       "    </tr>\n",
       "    <tr>\n",
       "      <th>5954</th>\n",
       "      <td>1</td>\n",
       "      <td>0</td>\n",
       "      <td>0</td>\n",
       "    </tr>\n",
       "  </tbody>\n",
       "</table>\n",
       "<p>5955 rows × 3 columns</p>\n",
       "</div>"
      ],
      "text/plain": [
       "      OnlineCommunication  AutomaticRefill  DoorstepDelivery\n",
       "0                       0                0                 0\n",
       "1                       1                1                 0\n",
       "2                       0                1                 0\n",
       "3                       0                0                 0\n",
       "4                       1                0                 0\n",
       "...                   ...              ...               ...\n",
       "5950                    1                0                 0\n",
       "5951                    1                0                 0\n",
       "5952                    1                0                 0\n",
       "5953                    1                0                 0\n",
       "5954                    1                0                 0\n",
       "\n",
       "[5955 rows x 3 columns]"
      ]
     },
     "execution_count": 312,
     "metadata": {},
     "output_type": "execute_result"
    }
   ],
   "source": [
    "x1_test"
   ]
  },
  {
   "cell_type": "markdown",
   "id": "c744975a",
   "metadata": {},
   "source": [
    "# **categorical to Numerical**"
   ]
  },
  {
   "cell_type": "code",
   "execution_count": 313,
   "id": "0b9004fb",
   "metadata": {},
   "outputs": [],
   "source": [
    "enc_test = OneHotEncoder()"
   ]
  },
  {
   "cell_type": "code",
   "execution_count": 314,
   "id": "01a2908d",
   "metadata": {},
   "outputs": [],
   "source": [
    "cat_attr_test = x_test.select_dtypes(include=['category']).columns"
   ]
  },
  {
   "cell_type": "code",
   "execution_count": 315,
   "id": "8bf289f1",
   "metadata": {},
   "outputs": [
    {
     "data": {
      "text/plain": [
       "OneHotEncoder()"
      ]
     },
     "execution_count": 315,
     "metadata": {},
     "output_type": "execute_result"
    }
   ],
   "source": [
    "enc_test.fit(x_test[cat_attr])"
   ]
  },
  {
   "cell_type": "code",
   "execution_count": 316,
   "id": "80e700f2",
   "metadata": {},
   "outputs": [],
   "source": [
    "cols = list(enc_test.get_feature_names(cat_attr_test))"
   ]
  },
  {
   "cell_type": "code",
   "execution_count": 317,
   "id": "3316ea3e",
   "metadata": {},
   "outputs": [
    {
     "data": {
      "text/plain": [
       "['City_CITY1',\n",
       " 'City_CITY2',\n",
       " 'City_CITY3',\n",
       " 'City_CITY4',\n",
       " 'PreferredDeliveryDay_Friday',\n",
       " 'PreferredDeliveryDay_Monday',\n",
       " 'PreferredDeliveryDay_Saturday',\n",
       " 'PreferredDeliveryDay_Sunday',\n",
       " 'PreferredDeliveryDay_Thursday',\n",
       " 'PreferredDeliveryDay_Tuesday',\n",
       " 'PreferredDeliveryDay_Wednesday']"
      ]
     },
     "execution_count": 317,
     "metadata": {},
     "output_type": "execute_result"
    }
   ],
   "source": [
    "cols"
   ]
  },
  {
   "cell_type": "code",
   "execution_count": 318,
   "id": "e51604fa",
   "metadata": {},
   "outputs": [],
   "source": [
    "x_test_ohe=pd.DataFrame(enc_test.transform(x_test[cat_attr_test]).toarray(),columns=cols)"
   ]
  },
  {
   "cell_type": "code",
   "execution_count": 319,
   "id": "8d072f1f",
   "metadata": {},
   "outputs": [
    {
     "name": "stdout",
     "output_type": "stream",
     "text": [
      "(5955, 11)\n"
     ]
    }
   ],
   "source": [
    "print(x_test_ohe.shape)"
   ]
  },
  {
   "cell_type": "code",
   "execution_count": 320,
   "id": "b478043a",
   "metadata": {
    "scrolled": true
   },
   "outputs": [
    {
     "data": {
      "text/html": [
       "<div>\n",
       "<style scoped>\n",
       "    .dataframe tbody tr th:only-of-type {\n",
       "        vertical-align: middle;\n",
       "    }\n",
       "\n",
       "    .dataframe tbody tr th {\n",
       "        vertical-align: top;\n",
       "    }\n",
       "\n",
       "    .dataframe thead th {\n",
       "        text-align: right;\n",
       "    }\n",
       "</style>\n",
       "<table border=\"1\" class=\"dataframe\">\n",
       "  <thead>\n",
       "    <tr style=\"text-align: right;\">\n",
       "      <th></th>\n",
       "      <th>City_CITY1</th>\n",
       "      <th>City_CITY2</th>\n",
       "      <th>City_CITY3</th>\n",
       "      <th>City_CITY4</th>\n",
       "      <th>PreferredDeliveryDay_Friday</th>\n",
       "      <th>PreferredDeliveryDay_Monday</th>\n",
       "      <th>PreferredDeliveryDay_Saturday</th>\n",
       "      <th>PreferredDeliveryDay_Sunday</th>\n",
       "      <th>PreferredDeliveryDay_Thursday</th>\n",
       "      <th>PreferredDeliveryDay_Tuesday</th>\n",
       "      <th>PreferredDeliveryDay_Wednesday</th>\n",
       "    </tr>\n",
       "  </thead>\n",
       "  <tbody>\n",
       "    <tr>\n",
       "      <th>0</th>\n",
       "      <td>0.0</td>\n",
       "      <td>0.0</td>\n",
       "      <td>0.0</td>\n",
       "      <td>1.0</td>\n",
       "      <td>0.0</td>\n",
       "      <td>0.0</td>\n",
       "      <td>0.0</td>\n",
       "      <td>0.0</td>\n",
       "      <td>1.0</td>\n",
       "      <td>0.0</td>\n",
       "      <td>0.0</td>\n",
       "    </tr>\n",
       "    <tr>\n",
       "      <th>1</th>\n",
       "      <td>0.0</td>\n",
       "      <td>1.0</td>\n",
       "      <td>0.0</td>\n",
       "      <td>0.0</td>\n",
       "      <td>0.0</td>\n",
       "      <td>0.0</td>\n",
       "      <td>0.0</td>\n",
       "      <td>0.0</td>\n",
       "      <td>0.0</td>\n",
       "      <td>0.0</td>\n",
       "      <td>1.0</td>\n",
       "    </tr>\n",
       "    <tr>\n",
       "      <th>2</th>\n",
       "      <td>0.0</td>\n",
       "      <td>0.0</td>\n",
       "      <td>0.0</td>\n",
       "      <td>1.0</td>\n",
       "      <td>1.0</td>\n",
       "      <td>0.0</td>\n",
       "      <td>0.0</td>\n",
       "      <td>0.0</td>\n",
       "      <td>0.0</td>\n",
       "      <td>0.0</td>\n",
       "      <td>0.0</td>\n",
       "    </tr>\n",
       "    <tr>\n",
       "      <th>3</th>\n",
       "      <td>0.0</td>\n",
       "      <td>1.0</td>\n",
       "      <td>0.0</td>\n",
       "      <td>0.0</td>\n",
       "      <td>0.0</td>\n",
       "      <td>0.0</td>\n",
       "      <td>0.0</td>\n",
       "      <td>0.0</td>\n",
       "      <td>0.0</td>\n",
       "      <td>0.0</td>\n",
       "      <td>1.0</td>\n",
       "    </tr>\n",
       "    <tr>\n",
       "      <th>4</th>\n",
       "      <td>0.0</td>\n",
       "      <td>1.0</td>\n",
       "      <td>0.0</td>\n",
       "      <td>0.0</td>\n",
       "      <td>0.0</td>\n",
       "      <td>1.0</td>\n",
       "      <td>0.0</td>\n",
       "      <td>0.0</td>\n",
       "      <td>0.0</td>\n",
       "      <td>0.0</td>\n",
       "      <td>0.0</td>\n",
       "    </tr>\n",
       "    <tr>\n",
       "      <th>...</th>\n",
       "      <td>...</td>\n",
       "      <td>...</td>\n",
       "      <td>...</td>\n",
       "      <td>...</td>\n",
       "      <td>...</td>\n",
       "      <td>...</td>\n",
       "      <td>...</td>\n",
       "      <td>...</td>\n",
       "      <td>...</td>\n",
       "      <td>...</td>\n",
       "      <td>...</td>\n",
       "    </tr>\n",
       "    <tr>\n",
       "      <th>5950</th>\n",
       "      <td>0.0</td>\n",
       "      <td>1.0</td>\n",
       "      <td>0.0</td>\n",
       "      <td>0.0</td>\n",
       "      <td>1.0</td>\n",
       "      <td>0.0</td>\n",
       "      <td>0.0</td>\n",
       "      <td>0.0</td>\n",
       "      <td>0.0</td>\n",
       "      <td>0.0</td>\n",
       "      <td>0.0</td>\n",
       "    </tr>\n",
       "    <tr>\n",
       "      <th>5951</th>\n",
       "      <td>0.0</td>\n",
       "      <td>0.0</td>\n",
       "      <td>1.0</td>\n",
       "      <td>0.0</td>\n",
       "      <td>1.0</td>\n",
       "      <td>0.0</td>\n",
       "      <td>0.0</td>\n",
       "      <td>0.0</td>\n",
       "      <td>0.0</td>\n",
       "      <td>0.0</td>\n",
       "      <td>0.0</td>\n",
       "    </tr>\n",
       "    <tr>\n",
       "      <th>5952</th>\n",
       "      <td>0.0</td>\n",
       "      <td>0.0</td>\n",
       "      <td>1.0</td>\n",
       "      <td>0.0</td>\n",
       "      <td>0.0</td>\n",
       "      <td>1.0</td>\n",
       "      <td>0.0</td>\n",
       "      <td>0.0</td>\n",
       "      <td>0.0</td>\n",
       "      <td>0.0</td>\n",
       "      <td>0.0</td>\n",
       "    </tr>\n",
       "    <tr>\n",
       "      <th>5953</th>\n",
       "      <td>0.0</td>\n",
       "      <td>1.0</td>\n",
       "      <td>0.0</td>\n",
       "      <td>0.0</td>\n",
       "      <td>1.0</td>\n",
       "      <td>0.0</td>\n",
       "      <td>0.0</td>\n",
       "      <td>0.0</td>\n",
       "      <td>0.0</td>\n",
       "      <td>0.0</td>\n",
       "      <td>0.0</td>\n",
       "    </tr>\n",
       "    <tr>\n",
       "      <th>5954</th>\n",
       "      <td>0.0</td>\n",
       "      <td>0.0</td>\n",
       "      <td>1.0</td>\n",
       "      <td>0.0</td>\n",
       "      <td>1.0</td>\n",
       "      <td>0.0</td>\n",
       "      <td>0.0</td>\n",
       "      <td>0.0</td>\n",
       "      <td>0.0</td>\n",
       "      <td>0.0</td>\n",
       "      <td>0.0</td>\n",
       "    </tr>\n",
       "  </tbody>\n",
       "</table>\n",
       "<p>5955 rows × 11 columns</p>\n",
       "</div>"
      ],
      "text/plain": [
       "      City_CITY1  City_CITY2  City_CITY3  City_CITY4  \\\n",
       "0            0.0         0.0         0.0         1.0   \n",
       "1            0.0         1.0         0.0         0.0   \n",
       "2            0.0         0.0         0.0         1.0   \n",
       "3            0.0         1.0         0.0         0.0   \n",
       "4            0.0         1.0         0.0         0.0   \n",
       "...          ...         ...         ...         ...   \n",
       "5950         0.0         1.0         0.0         0.0   \n",
       "5951         0.0         0.0         1.0         0.0   \n",
       "5952         0.0         0.0         1.0         0.0   \n",
       "5953         0.0         1.0         0.0         0.0   \n",
       "5954         0.0         0.0         1.0         0.0   \n",
       "\n",
       "      PreferredDeliveryDay_Friday  PreferredDeliveryDay_Monday  \\\n",
       "0                             0.0                          0.0   \n",
       "1                             0.0                          0.0   \n",
       "2                             1.0                          0.0   \n",
       "3                             0.0                          0.0   \n",
       "4                             0.0                          1.0   \n",
       "...                           ...                          ...   \n",
       "5950                          1.0                          0.0   \n",
       "5951                          1.0                          0.0   \n",
       "5952                          0.0                          1.0   \n",
       "5953                          1.0                          0.0   \n",
       "5954                          1.0                          0.0   \n",
       "\n",
       "      PreferredDeliveryDay_Saturday  PreferredDeliveryDay_Sunday  \\\n",
       "0                               0.0                          0.0   \n",
       "1                               0.0                          0.0   \n",
       "2                               0.0                          0.0   \n",
       "3                               0.0                          0.0   \n",
       "4                               0.0                          0.0   \n",
       "...                             ...                          ...   \n",
       "5950                            0.0                          0.0   \n",
       "5951                            0.0                          0.0   \n",
       "5952                            0.0                          0.0   \n",
       "5953                            0.0                          0.0   \n",
       "5954                            0.0                          0.0   \n",
       "\n",
       "      PreferredDeliveryDay_Thursday  PreferredDeliveryDay_Tuesday  \\\n",
       "0                               1.0                           0.0   \n",
       "1                               0.0                           0.0   \n",
       "2                               0.0                           0.0   \n",
       "3                               0.0                           0.0   \n",
       "4                               0.0                           0.0   \n",
       "...                             ...                           ...   \n",
       "5950                            0.0                           0.0   \n",
       "5951                            0.0                           0.0   \n",
       "5952                            0.0                           0.0   \n",
       "5953                            0.0                           0.0   \n",
       "5954                            0.0                           0.0   \n",
       "\n",
       "      PreferredDeliveryDay_Wednesday  \n",
       "0                                0.0  \n",
       "1                                1.0  \n",
       "2                                0.0  \n",
       "3                                1.0  \n",
       "4                                0.0  \n",
       "...                              ...  \n",
       "5950                             0.0  \n",
       "5951                             0.0  \n",
       "5952                             0.0  \n",
       "5953                             0.0  \n",
       "5954                             0.0  \n",
       "\n",
       "[5955 rows x 11 columns]"
      ]
     },
     "execution_count": 320,
     "metadata": {},
     "output_type": "execute_result"
    }
   ],
   "source": [
    "x_test_ohe"
   ]
  },
  {
   "cell_type": "markdown",
   "id": "5ee100cc",
   "metadata": {},
   "source": [
    "**standardizing**"
   ]
  },
  {
   "cell_type": "code",
   "execution_count": 321,
   "id": "24793309",
   "metadata": {},
   "outputs": [],
   "source": [
    "num_attr_test = x_test[['OrderQuantity','EmailType','MailOpened','MailClicked']]"
   ]
  },
  {
   "cell_type": "code",
   "execution_count": 322,
   "id": "68fb2827",
   "metadata": {},
   "outputs": [],
   "source": [
    "scaler_test = StandardScaler()\n",
    "scaler_test.fit(num_attr_test)\n",
    "col=['OrderQuantity','EmailType','MailOpened','MailClicked']\n",
    "\n",
    "x_test_std =pd.DataFrame(scaler.transform(num_attr_test),columns=col)\n"
   ]
  },
  {
   "cell_type": "code",
   "execution_count": 323,
   "id": "eb62a9d6",
   "metadata": {},
   "outputs": [],
   "source": [
    "#pred.replace((1,2,0), (2,0,1),inplace=True)"
   ]
  },
  {
   "cell_type": "code",
   "execution_count": 324,
   "id": "aa2e42a7",
   "metadata": {},
   "outputs": [
    {
     "data": {
      "text/html": [
       "<div>\n",
       "<style scoped>\n",
       "    .dataframe tbody tr th:only-of-type {\n",
       "        vertical-align: middle;\n",
       "    }\n",
       "\n",
       "    .dataframe tbody tr th {\n",
       "        vertical-align: top;\n",
       "    }\n",
       "\n",
       "    .dataframe thead th {\n",
       "        text-align: right;\n",
       "    }\n",
       "</style>\n",
       "<table border=\"1\" class=\"dataframe\">\n",
       "  <thead>\n",
       "    <tr style=\"text-align: right;\">\n",
       "      <th></th>\n",
       "      <th>OrderQuantity</th>\n",
       "      <th>EmailType</th>\n",
       "      <th>MailOpened</th>\n",
       "      <th>MailClicked</th>\n",
       "    </tr>\n",
       "  </thead>\n",
       "  <tbody>\n",
       "    <tr>\n",
       "      <th>0</th>\n",
       "      <td>-0.222654</td>\n",
       "      <td>-1.036617</td>\n",
       "      <td>-1.036617</td>\n",
       "      <td>-1.036617</td>\n",
       "    </tr>\n",
       "    <tr>\n",
       "      <th>1</th>\n",
       "      <td>20.681831</td>\n",
       "      <td>1.255050</td>\n",
       "      <td>1.255050</td>\n",
       "      <td>1.255050</td>\n",
       "    </tr>\n",
       "    <tr>\n",
       "      <th>2</th>\n",
       "      <td>9.892785</td>\n",
       "      <td>1.952514</td>\n",
       "      <td>1.952514</td>\n",
       "      <td>1.952514</td>\n",
       "    </tr>\n",
       "    <tr>\n",
       "      <th>3</th>\n",
       "      <td>-0.228326</td>\n",
       "      <td>1.205231</td>\n",
       "      <td>1.205231</td>\n",
       "      <td>1.205231</td>\n",
       "    </tr>\n",
       "    <tr>\n",
       "      <th>4</th>\n",
       "      <td>14.088289</td>\n",
       "      <td>-0.388972</td>\n",
       "      <td>-0.388972</td>\n",
       "      <td>-0.388972</td>\n",
       "    </tr>\n",
       "    <tr>\n",
       "      <th>...</th>\n",
       "      <td>...</td>\n",
       "      <td>...</td>\n",
       "      <td>...</td>\n",
       "      <td>...</td>\n",
       "    </tr>\n",
       "    <tr>\n",
       "      <th>5950</th>\n",
       "      <td>-0.232581</td>\n",
       "      <td>-1.036617</td>\n",
       "      <td>-1.036617</td>\n",
       "      <td>-1.036617</td>\n",
       "    </tr>\n",
       "    <tr>\n",
       "      <th>5951</th>\n",
       "      <td>-0.233290</td>\n",
       "      <td>-1.036617</td>\n",
       "      <td>-1.036617</td>\n",
       "      <td>-1.036617</td>\n",
       "    </tr>\n",
       "    <tr>\n",
       "      <th>5952</th>\n",
       "      <td>-0.236126</td>\n",
       "      <td>-1.036617</td>\n",
       "      <td>-1.036617</td>\n",
       "      <td>-1.036617</td>\n",
       "    </tr>\n",
       "    <tr>\n",
       "      <th>5953</th>\n",
       "      <td>-0.208473</td>\n",
       "      <td>-1.036617</td>\n",
       "      <td>-1.036617</td>\n",
       "      <td>-1.036617</td>\n",
       "    </tr>\n",
       "    <tr>\n",
       "      <th>5954</th>\n",
       "      <td>-0.233290</td>\n",
       "      <td>-1.036617</td>\n",
       "      <td>-1.036617</td>\n",
       "      <td>-1.036617</td>\n",
       "    </tr>\n",
       "  </tbody>\n",
       "</table>\n",
       "<p>5955 rows × 4 columns</p>\n",
       "</div>"
      ],
      "text/plain": [
       "      OrderQuantity  EmailType  MailOpened  MailClicked\n",
       "0         -0.222654  -1.036617   -1.036617    -1.036617\n",
       "1         20.681831   1.255050    1.255050     1.255050\n",
       "2          9.892785   1.952514    1.952514     1.952514\n",
       "3         -0.228326   1.205231    1.205231     1.205231\n",
       "4         14.088289  -0.388972   -0.388972    -0.388972\n",
       "...             ...        ...         ...          ...\n",
       "5950      -0.232581  -1.036617   -1.036617    -1.036617\n",
       "5951      -0.233290  -1.036617   -1.036617    -1.036617\n",
       "5952      -0.236126  -1.036617   -1.036617    -1.036617\n",
       "5953      -0.208473  -1.036617   -1.036617    -1.036617\n",
       "5954      -0.233290  -1.036617   -1.036617    -1.036617\n",
       "\n",
       "[5955 rows x 4 columns]"
      ]
     },
     "execution_count": 324,
     "metadata": {},
     "output_type": "execute_result"
    }
   ],
   "source": [
    "x_test_std"
   ]
  },
  {
   "cell_type": "code",
   "execution_count": 325,
   "id": "3544c6ec",
   "metadata": {},
   "outputs": [
    {
     "data": {
      "text/plain": [
       "(5955, 4)"
      ]
     },
     "execution_count": 325,
     "metadata": {},
     "output_type": "execute_result"
    }
   ],
   "source": [
    "x_test_std.shape"
   ]
  },
  {
   "cell_type": "code",
   "execution_count": 326,
   "id": "3003b645",
   "metadata": {},
   "outputs": [],
   "source": [
    "x_test_co = pd.concat([x_test_ohe, x_test_std], axis=1)\n"
   ]
  },
  {
   "cell_type": "code",
   "execution_count": 327,
   "id": "d65f865a",
   "metadata": {},
   "outputs": [
    {
     "data": {
      "text/html": [
       "<div>\n",
       "<style scoped>\n",
       "    .dataframe tbody tr th:only-of-type {\n",
       "        vertical-align: middle;\n",
       "    }\n",
       "\n",
       "    .dataframe tbody tr th {\n",
       "        vertical-align: top;\n",
       "    }\n",
       "\n",
       "    .dataframe thead th {\n",
       "        text-align: right;\n",
       "    }\n",
       "</style>\n",
       "<table border=\"1\" class=\"dataframe\">\n",
       "  <thead>\n",
       "    <tr style=\"text-align: right;\">\n",
       "      <th></th>\n",
       "      <th>City_CITY1</th>\n",
       "      <th>City_CITY2</th>\n",
       "      <th>City_CITY3</th>\n",
       "      <th>City_CITY4</th>\n",
       "      <th>PreferredDeliveryDay_Friday</th>\n",
       "      <th>PreferredDeliveryDay_Monday</th>\n",
       "      <th>PreferredDeliveryDay_Saturday</th>\n",
       "      <th>PreferredDeliveryDay_Sunday</th>\n",
       "      <th>PreferredDeliveryDay_Thursday</th>\n",
       "      <th>PreferredDeliveryDay_Tuesday</th>\n",
       "      <th>PreferredDeliveryDay_Wednesday</th>\n",
       "      <th>OrderQuantity</th>\n",
       "      <th>EmailType</th>\n",
       "      <th>MailOpened</th>\n",
       "      <th>MailClicked</th>\n",
       "    </tr>\n",
       "  </thead>\n",
       "  <tbody>\n",
       "    <tr>\n",
       "      <th>0</th>\n",
       "      <td>0.0</td>\n",
       "      <td>0.0</td>\n",
       "      <td>0.0</td>\n",
       "      <td>1.0</td>\n",
       "      <td>0.0</td>\n",
       "      <td>0.0</td>\n",
       "      <td>0.0</td>\n",
       "      <td>0.0</td>\n",
       "      <td>1.0</td>\n",
       "      <td>0.0</td>\n",
       "      <td>0.0</td>\n",
       "      <td>-0.222654</td>\n",
       "      <td>-1.036617</td>\n",
       "      <td>-1.036617</td>\n",
       "      <td>-1.036617</td>\n",
       "    </tr>\n",
       "    <tr>\n",
       "      <th>1</th>\n",
       "      <td>0.0</td>\n",
       "      <td>1.0</td>\n",
       "      <td>0.0</td>\n",
       "      <td>0.0</td>\n",
       "      <td>0.0</td>\n",
       "      <td>0.0</td>\n",
       "      <td>0.0</td>\n",
       "      <td>0.0</td>\n",
       "      <td>0.0</td>\n",
       "      <td>0.0</td>\n",
       "      <td>1.0</td>\n",
       "      <td>20.681831</td>\n",
       "      <td>1.255050</td>\n",
       "      <td>1.255050</td>\n",
       "      <td>1.255050</td>\n",
       "    </tr>\n",
       "    <tr>\n",
       "      <th>2</th>\n",
       "      <td>0.0</td>\n",
       "      <td>0.0</td>\n",
       "      <td>0.0</td>\n",
       "      <td>1.0</td>\n",
       "      <td>1.0</td>\n",
       "      <td>0.0</td>\n",
       "      <td>0.0</td>\n",
       "      <td>0.0</td>\n",
       "      <td>0.0</td>\n",
       "      <td>0.0</td>\n",
       "      <td>0.0</td>\n",
       "      <td>9.892785</td>\n",
       "      <td>1.952514</td>\n",
       "      <td>1.952514</td>\n",
       "      <td>1.952514</td>\n",
       "    </tr>\n",
       "    <tr>\n",
       "      <th>3</th>\n",
       "      <td>0.0</td>\n",
       "      <td>1.0</td>\n",
       "      <td>0.0</td>\n",
       "      <td>0.0</td>\n",
       "      <td>0.0</td>\n",
       "      <td>0.0</td>\n",
       "      <td>0.0</td>\n",
       "      <td>0.0</td>\n",
       "      <td>0.0</td>\n",
       "      <td>0.0</td>\n",
       "      <td>1.0</td>\n",
       "      <td>-0.228326</td>\n",
       "      <td>1.205231</td>\n",
       "      <td>1.205231</td>\n",
       "      <td>1.205231</td>\n",
       "    </tr>\n",
       "    <tr>\n",
       "      <th>4</th>\n",
       "      <td>0.0</td>\n",
       "      <td>1.0</td>\n",
       "      <td>0.0</td>\n",
       "      <td>0.0</td>\n",
       "      <td>0.0</td>\n",
       "      <td>1.0</td>\n",
       "      <td>0.0</td>\n",
       "      <td>0.0</td>\n",
       "      <td>0.0</td>\n",
       "      <td>0.0</td>\n",
       "      <td>0.0</td>\n",
       "      <td>14.088289</td>\n",
       "      <td>-0.388972</td>\n",
       "      <td>-0.388972</td>\n",
       "      <td>-0.388972</td>\n",
       "    </tr>\n",
       "    <tr>\n",
       "      <th>...</th>\n",
       "      <td>...</td>\n",
       "      <td>...</td>\n",
       "      <td>...</td>\n",
       "      <td>...</td>\n",
       "      <td>...</td>\n",
       "      <td>...</td>\n",
       "      <td>...</td>\n",
       "      <td>...</td>\n",
       "      <td>...</td>\n",
       "      <td>...</td>\n",
       "      <td>...</td>\n",
       "      <td>...</td>\n",
       "      <td>...</td>\n",
       "      <td>...</td>\n",
       "      <td>...</td>\n",
       "    </tr>\n",
       "    <tr>\n",
       "      <th>5950</th>\n",
       "      <td>0.0</td>\n",
       "      <td>1.0</td>\n",
       "      <td>0.0</td>\n",
       "      <td>0.0</td>\n",
       "      <td>1.0</td>\n",
       "      <td>0.0</td>\n",
       "      <td>0.0</td>\n",
       "      <td>0.0</td>\n",
       "      <td>0.0</td>\n",
       "      <td>0.0</td>\n",
       "      <td>0.0</td>\n",
       "      <td>-0.232581</td>\n",
       "      <td>-1.036617</td>\n",
       "      <td>-1.036617</td>\n",
       "      <td>-1.036617</td>\n",
       "    </tr>\n",
       "    <tr>\n",
       "      <th>5951</th>\n",
       "      <td>0.0</td>\n",
       "      <td>0.0</td>\n",
       "      <td>1.0</td>\n",
       "      <td>0.0</td>\n",
       "      <td>1.0</td>\n",
       "      <td>0.0</td>\n",
       "      <td>0.0</td>\n",
       "      <td>0.0</td>\n",
       "      <td>0.0</td>\n",
       "      <td>0.0</td>\n",
       "      <td>0.0</td>\n",
       "      <td>-0.233290</td>\n",
       "      <td>-1.036617</td>\n",
       "      <td>-1.036617</td>\n",
       "      <td>-1.036617</td>\n",
       "    </tr>\n",
       "    <tr>\n",
       "      <th>5952</th>\n",
       "      <td>0.0</td>\n",
       "      <td>0.0</td>\n",
       "      <td>1.0</td>\n",
       "      <td>0.0</td>\n",
       "      <td>0.0</td>\n",
       "      <td>1.0</td>\n",
       "      <td>0.0</td>\n",
       "      <td>0.0</td>\n",
       "      <td>0.0</td>\n",
       "      <td>0.0</td>\n",
       "      <td>0.0</td>\n",
       "      <td>-0.236126</td>\n",
       "      <td>-1.036617</td>\n",
       "      <td>-1.036617</td>\n",
       "      <td>-1.036617</td>\n",
       "    </tr>\n",
       "    <tr>\n",
       "      <th>5953</th>\n",
       "      <td>0.0</td>\n",
       "      <td>1.0</td>\n",
       "      <td>0.0</td>\n",
       "      <td>0.0</td>\n",
       "      <td>1.0</td>\n",
       "      <td>0.0</td>\n",
       "      <td>0.0</td>\n",
       "      <td>0.0</td>\n",
       "      <td>0.0</td>\n",
       "      <td>0.0</td>\n",
       "      <td>0.0</td>\n",
       "      <td>-0.208473</td>\n",
       "      <td>-1.036617</td>\n",
       "      <td>-1.036617</td>\n",
       "      <td>-1.036617</td>\n",
       "    </tr>\n",
       "    <tr>\n",
       "      <th>5954</th>\n",
       "      <td>0.0</td>\n",
       "      <td>0.0</td>\n",
       "      <td>1.0</td>\n",
       "      <td>0.0</td>\n",
       "      <td>1.0</td>\n",
       "      <td>0.0</td>\n",
       "      <td>0.0</td>\n",
       "      <td>0.0</td>\n",
       "      <td>0.0</td>\n",
       "      <td>0.0</td>\n",
       "      <td>0.0</td>\n",
       "      <td>-0.233290</td>\n",
       "      <td>-1.036617</td>\n",
       "      <td>-1.036617</td>\n",
       "      <td>-1.036617</td>\n",
       "    </tr>\n",
       "  </tbody>\n",
       "</table>\n",
       "<p>5955 rows × 15 columns</p>\n",
       "</div>"
      ],
      "text/plain": [
       "      City_CITY1  City_CITY2  City_CITY3  City_CITY4  \\\n",
       "0            0.0         0.0         0.0         1.0   \n",
       "1            0.0         1.0         0.0         0.0   \n",
       "2            0.0         0.0         0.0         1.0   \n",
       "3            0.0         1.0         0.0         0.0   \n",
       "4            0.0         1.0         0.0         0.0   \n",
       "...          ...         ...         ...         ...   \n",
       "5950         0.0         1.0         0.0         0.0   \n",
       "5951         0.0         0.0         1.0         0.0   \n",
       "5952         0.0         0.0         1.0         0.0   \n",
       "5953         0.0         1.0         0.0         0.0   \n",
       "5954         0.0         0.0         1.0         0.0   \n",
       "\n",
       "      PreferredDeliveryDay_Friday  PreferredDeliveryDay_Monday  \\\n",
       "0                             0.0                          0.0   \n",
       "1                             0.0                          0.0   \n",
       "2                             1.0                          0.0   \n",
       "3                             0.0                          0.0   \n",
       "4                             0.0                          1.0   \n",
       "...                           ...                          ...   \n",
       "5950                          1.0                          0.0   \n",
       "5951                          1.0                          0.0   \n",
       "5952                          0.0                          1.0   \n",
       "5953                          1.0                          0.0   \n",
       "5954                          1.0                          0.0   \n",
       "\n",
       "      PreferredDeliveryDay_Saturday  PreferredDeliveryDay_Sunday  \\\n",
       "0                               0.0                          0.0   \n",
       "1                               0.0                          0.0   \n",
       "2                               0.0                          0.0   \n",
       "3                               0.0                          0.0   \n",
       "4                               0.0                          0.0   \n",
       "...                             ...                          ...   \n",
       "5950                            0.0                          0.0   \n",
       "5951                            0.0                          0.0   \n",
       "5952                            0.0                          0.0   \n",
       "5953                            0.0                          0.0   \n",
       "5954                            0.0                          0.0   \n",
       "\n",
       "      PreferredDeliveryDay_Thursday  PreferredDeliveryDay_Tuesday  \\\n",
       "0                               1.0                           0.0   \n",
       "1                               0.0                           0.0   \n",
       "2                               0.0                           0.0   \n",
       "3                               0.0                           0.0   \n",
       "4                               0.0                           0.0   \n",
       "...                             ...                           ...   \n",
       "5950                            0.0                           0.0   \n",
       "5951                            0.0                           0.0   \n",
       "5952                            0.0                           0.0   \n",
       "5953                            0.0                           0.0   \n",
       "5954                            0.0                           0.0   \n",
       "\n",
       "      PreferredDeliveryDay_Wednesday  OrderQuantity  EmailType  MailOpened  \\\n",
       "0                                0.0      -0.222654  -1.036617   -1.036617   \n",
       "1                                1.0      20.681831   1.255050    1.255050   \n",
       "2                                0.0       9.892785   1.952514    1.952514   \n",
       "3                                1.0      -0.228326   1.205231    1.205231   \n",
       "4                                0.0      14.088289  -0.388972   -0.388972   \n",
       "...                              ...            ...        ...         ...   \n",
       "5950                             0.0      -0.232581  -1.036617   -1.036617   \n",
       "5951                             0.0      -0.233290  -1.036617   -1.036617   \n",
       "5952                             0.0      -0.236126  -1.036617   -1.036617   \n",
       "5953                             0.0      -0.208473  -1.036617   -1.036617   \n",
       "5954                             0.0      -0.233290  -1.036617   -1.036617   \n",
       "\n",
       "      MailClicked  \n",
       "0       -1.036617  \n",
       "1        1.255050  \n",
       "2        1.952514  \n",
       "3        1.205231  \n",
       "4       -0.388972  \n",
       "...           ...  \n",
       "5950    -1.036617  \n",
       "5951    -1.036617  \n",
       "5952    -1.036617  \n",
       "5953    -1.036617  \n",
       "5954    -1.036617  \n",
       "\n",
       "[5955 rows x 15 columns]"
      ]
     },
     "execution_count": 327,
     "metadata": {},
     "output_type": "execute_result"
    }
   ],
   "source": [
    "x_test_co"
   ]
  },
  {
   "cell_type": "code",
   "execution_count": 328,
   "id": "eb9b8d92",
   "metadata": {},
   "outputs": [],
   "source": [
    "x_test_con = x_test_co.join(x1_test)\n"
   ]
  },
  {
   "cell_type": "code",
   "execution_count": 329,
   "id": "b958a957",
   "metadata": {},
   "outputs": [
    {
     "data": {
      "text/html": [
       "<div>\n",
       "<style scoped>\n",
       "    .dataframe tbody tr th:only-of-type {\n",
       "        vertical-align: middle;\n",
       "    }\n",
       "\n",
       "    .dataframe tbody tr th {\n",
       "        vertical-align: top;\n",
       "    }\n",
       "\n",
       "    .dataframe thead th {\n",
       "        text-align: right;\n",
       "    }\n",
       "</style>\n",
       "<table border=\"1\" class=\"dataframe\">\n",
       "  <thead>\n",
       "    <tr style=\"text-align: right;\">\n",
       "      <th></th>\n",
       "      <th>City_CITY1</th>\n",
       "      <th>City_CITY2</th>\n",
       "      <th>City_CITY3</th>\n",
       "      <th>City_CITY4</th>\n",
       "      <th>PreferredDeliveryDay_Friday</th>\n",
       "      <th>PreferredDeliveryDay_Monday</th>\n",
       "      <th>PreferredDeliveryDay_Saturday</th>\n",
       "      <th>PreferredDeliveryDay_Sunday</th>\n",
       "      <th>PreferredDeliveryDay_Thursday</th>\n",
       "      <th>PreferredDeliveryDay_Tuesday</th>\n",
       "      <th>PreferredDeliveryDay_Wednesday</th>\n",
       "      <th>OrderQuantity</th>\n",
       "      <th>EmailType</th>\n",
       "      <th>MailOpened</th>\n",
       "      <th>MailClicked</th>\n",
       "      <th>OnlineCommunication</th>\n",
       "      <th>AutomaticRefill</th>\n",
       "      <th>DoorstepDelivery</th>\n",
       "    </tr>\n",
       "  </thead>\n",
       "  <tbody>\n",
       "    <tr>\n",
       "      <th>0</th>\n",
       "      <td>0.0</td>\n",
       "      <td>0.0</td>\n",
       "      <td>0.0</td>\n",
       "      <td>1.0</td>\n",
       "      <td>0.0</td>\n",
       "      <td>0.0</td>\n",
       "      <td>0.0</td>\n",
       "      <td>0.0</td>\n",
       "      <td>1.0</td>\n",
       "      <td>0.0</td>\n",
       "      <td>0.0</td>\n",
       "      <td>-0.222654</td>\n",
       "      <td>-1.036617</td>\n",
       "      <td>-1.036617</td>\n",
       "      <td>-1.036617</td>\n",
       "      <td>0</td>\n",
       "      <td>0</td>\n",
       "      <td>0</td>\n",
       "    </tr>\n",
       "    <tr>\n",
       "      <th>1</th>\n",
       "      <td>0.0</td>\n",
       "      <td>1.0</td>\n",
       "      <td>0.0</td>\n",
       "      <td>0.0</td>\n",
       "      <td>0.0</td>\n",
       "      <td>0.0</td>\n",
       "      <td>0.0</td>\n",
       "      <td>0.0</td>\n",
       "      <td>0.0</td>\n",
       "      <td>0.0</td>\n",
       "      <td>1.0</td>\n",
       "      <td>20.681831</td>\n",
       "      <td>1.255050</td>\n",
       "      <td>1.255050</td>\n",
       "      <td>1.255050</td>\n",
       "      <td>1</td>\n",
       "      <td>1</td>\n",
       "      <td>0</td>\n",
       "    </tr>\n",
       "    <tr>\n",
       "      <th>2</th>\n",
       "      <td>0.0</td>\n",
       "      <td>0.0</td>\n",
       "      <td>0.0</td>\n",
       "      <td>1.0</td>\n",
       "      <td>1.0</td>\n",
       "      <td>0.0</td>\n",
       "      <td>0.0</td>\n",
       "      <td>0.0</td>\n",
       "      <td>0.0</td>\n",
       "      <td>0.0</td>\n",
       "      <td>0.0</td>\n",
       "      <td>9.892785</td>\n",
       "      <td>1.952514</td>\n",
       "      <td>1.952514</td>\n",
       "      <td>1.952514</td>\n",
       "      <td>0</td>\n",
       "      <td>1</td>\n",
       "      <td>0</td>\n",
       "    </tr>\n",
       "    <tr>\n",
       "      <th>3</th>\n",
       "      <td>0.0</td>\n",
       "      <td>1.0</td>\n",
       "      <td>0.0</td>\n",
       "      <td>0.0</td>\n",
       "      <td>0.0</td>\n",
       "      <td>0.0</td>\n",
       "      <td>0.0</td>\n",
       "      <td>0.0</td>\n",
       "      <td>0.0</td>\n",
       "      <td>0.0</td>\n",
       "      <td>1.0</td>\n",
       "      <td>-0.228326</td>\n",
       "      <td>1.205231</td>\n",
       "      <td>1.205231</td>\n",
       "      <td>1.205231</td>\n",
       "      <td>0</td>\n",
       "      <td>0</td>\n",
       "      <td>0</td>\n",
       "    </tr>\n",
       "    <tr>\n",
       "      <th>4</th>\n",
       "      <td>0.0</td>\n",
       "      <td>1.0</td>\n",
       "      <td>0.0</td>\n",
       "      <td>0.0</td>\n",
       "      <td>0.0</td>\n",
       "      <td>1.0</td>\n",
       "      <td>0.0</td>\n",
       "      <td>0.0</td>\n",
       "      <td>0.0</td>\n",
       "      <td>0.0</td>\n",
       "      <td>0.0</td>\n",
       "      <td>14.088289</td>\n",
       "      <td>-0.388972</td>\n",
       "      <td>-0.388972</td>\n",
       "      <td>-0.388972</td>\n",
       "      <td>1</td>\n",
       "      <td>0</td>\n",
       "      <td>0</td>\n",
       "    </tr>\n",
       "    <tr>\n",
       "      <th>...</th>\n",
       "      <td>...</td>\n",
       "      <td>...</td>\n",
       "      <td>...</td>\n",
       "      <td>...</td>\n",
       "      <td>...</td>\n",
       "      <td>...</td>\n",
       "      <td>...</td>\n",
       "      <td>...</td>\n",
       "      <td>...</td>\n",
       "      <td>...</td>\n",
       "      <td>...</td>\n",
       "      <td>...</td>\n",
       "      <td>...</td>\n",
       "      <td>...</td>\n",
       "      <td>...</td>\n",
       "      <td>...</td>\n",
       "      <td>...</td>\n",
       "      <td>...</td>\n",
       "    </tr>\n",
       "    <tr>\n",
       "      <th>5950</th>\n",
       "      <td>0.0</td>\n",
       "      <td>1.0</td>\n",
       "      <td>0.0</td>\n",
       "      <td>0.0</td>\n",
       "      <td>1.0</td>\n",
       "      <td>0.0</td>\n",
       "      <td>0.0</td>\n",
       "      <td>0.0</td>\n",
       "      <td>0.0</td>\n",
       "      <td>0.0</td>\n",
       "      <td>0.0</td>\n",
       "      <td>-0.232581</td>\n",
       "      <td>-1.036617</td>\n",
       "      <td>-1.036617</td>\n",
       "      <td>-1.036617</td>\n",
       "      <td>1</td>\n",
       "      <td>0</td>\n",
       "      <td>0</td>\n",
       "    </tr>\n",
       "    <tr>\n",
       "      <th>5951</th>\n",
       "      <td>0.0</td>\n",
       "      <td>0.0</td>\n",
       "      <td>1.0</td>\n",
       "      <td>0.0</td>\n",
       "      <td>1.0</td>\n",
       "      <td>0.0</td>\n",
       "      <td>0.0</td>\n",
       "      <td>0.0</td>\n",
       "      <td>0.0</td>\n",
       "      <td>0.0</td>\n",
       "      <td>0.0</td>\n",
       "      <td>-0.233290</td>\n",
       "      <td>-1.036617</td>\n",
       "      <td>-1.036617</td>\n",
       "      <td>-1.036617</td>\n",
       "      <td>1</td>\n",
       "      <td>0</td>\n",
       "      <td>0</td>\n",
       "    </tr>\n",
       "    <tr>\n",
       "      <th>5952</th>\n",
       "      <td>0.0</td>\n",
       "      <td>0.0</td>\n",
       "      <td>1.0</td>\n",
       "      <td>0.0</td>\n",
       "      <td>0.0</td>\n",
       "      <td>1.0</td>\n",
       "      <td>0.0</td>\n",
       "      <td>0.0</td>\n",
       "      <td>0.0</td>\n",
       "      <td>0.0</td>\n",
       "      <td>0.0</td>\n",
       "      <td>-0.236126</td>\n",
       "      <td>-1.036617</td>\n",
       "      <td>-1.036617</td>\n",
       "      <td>-1.036617</td>\n",
       "      <td>1</td>\n",
       "      <td>0</td>\n",
       "      <td>0</td>\n",
       "    </tr>\n",
       "    <tr>\n",
       "      <th>5953</th>\n",
       "      <td>0.0</td>\n",
       "      <td>1.0</td>\n",
       "      <td>0.0</td>\n",
       "      <td>0.0</td>\n",
       "      <td>1.0</td>\n",
       "      <td>0.0</td>\n",
       "      <td>0.0</td>\n",
       "      <td>0.0</td>\n",
       "      <td>0.0</td>\n",
       "      <td>0.0</td>\n",
       "      <td>0.0</td>\n",
       "      <td>-0.208473</td>\n",
       "      <td>-1.036617</td>\n",
       "      <td>-1.036617</td>\n",
       "      <td>-1.036617</td>\n",
       "      <td>1</td>\n",
       "      <td>0</td>\n",
       "      <td>0</td>\n",
       "    </tr>\n",
       "    <tr>\n",
       "      <th>5954</th>\n",
       "      <td>0.0</td>\n",
       "      <td>0.0</td>\n",
       "      <td>1.0</td>\n",
       "      <td>0.0</td>\n",
       "      <td>1.0</td>\n",
       "      <td>0.0</td>\n",
       "      <td>0.0</td>\n",
       "      <td>0.0</td>\n",
       "      <td>0.0</td>\n",
       "      <td>0.0</td>\n",
       "      <td>0.0</td>\n",
       "      <td>-0.233290</td>\n",
       "      <td>-1.036617</td>\n",
       "      <td>-1.036617</td>\n",
       "      <td>-1.036617</td>\n",
       "      <td>1</td>\n",
       "      <td>0</td>\n",
       "      <td>0</td>\n",
       "    </tr>\n",
       "  </tbody>\n",
       "</table>\n",
       "<p>5955 rows × 18 columns</p>\n",
       "</div>"
      ],
      "text/plain": [
       "      City_CITY1  City_CITY2  City_CITY3  City_CITY4  \\\n",
       "0            0.0         0.0         0.0         1.0   \n",
       "1            0.0         1.0         0.0         0.0   \n",
       "2            0.0         0.0         0.0         1.0   \n",
       "3            0.0         1.0         0.0         0.0   \n",
       "4            0.0         1.0         0.0         0.0   \n",
       "...          ...         ...         ...         ...   \n",
       "5950         0.0         1.0         0.0         0.0   \n",
       "5951         0.0         0.0         1.0         0.0   \n",
       "5952         0.0         0.0         1.0         0.0   \n",
       "5953         0.0         1.0         0.0         0.0   \n",
       "5954         0.0         0.0         1.0         0.0   \n",
       "\n",
       "      PreferredDeliveryDay_Friday  PreferredDeliveryDay_Monday  \\\n",
       "0                             0.0                          0.0   \n",
       "1                             0.0                          0.0   \n",
       "2                             1.0                          0.0   \n",
       "3                             0.0                          0.0   \n",
       "4                             0.0                          1.0   \n",
       "...                           ...                          ...   \n",
       "5950                          1.0                          0.0   \n",
       "5951                          1.0                          0.0   \n",
       "5952                          0.0                          1.0   \n",
       "5953                          1.0                          0.0   \n",
       "5954                          1.0                          0.0   \n",
       "\n",
       "      PreferredDeliveryDay_Saturday  PreferredDeliveryDay_Sunday  \\\n",
       "0                               0.0                          0.0   \n",
       "1                               0.0                          0.0   \n",
       "2                               0.0                          0.0   \n",
       "3                               0.0                          0.0   \n",
       "4                               0.0                          0.0   \n",
       "...                             ...                          ...   \n",
       "5950                            0.0                          0.0   \n",
       "5951                            0.0                          0.0   \n",
       "5952                            0.0                          0.0   \n",
       "5953                            0.0                          0.0   \n",
       "5954                            0.0                          0.0   \n",
       "\n",
       "      PreferredDeliveryDay_Thursday  PreferredDeliveryDay_Tuesday  \\\n",
       "0                               1.0                           0.0   \n",
       "1                               0.0                           0.0   \n",
       "2                               0.0                           0.0   \n",
       "3                               0.0                           0.0   \n",
       "4                               0.0                           0.0   \n",
       "...                             ...                           ...   \n",
       "5950                            0.0                           0.0   \n",
       "5951                            0.0                           0.0   \n",
       "5952                            0.0                           0.0   \n",
       "5953                            0.0                           0.0   \n",
       "5954                            0.0                           0.0   \n",
       "\n",
       "      PreferredDeliveryDay_Wednesday  OrderQuantity  EmailType  MailOpened  \\\n",
       "0                                0.0      -0.222654  -1.036617   -1.036617   \n",
       "1                                1.0      20.681831   1.255050    1.255050   \n",
       "2                                0.0       9.892785   1.952514    1.952514   \n",
       "3                                1.0      -0.228326   1.205231    1.205231   \n",
       "4                                0.0      14.088289  -0.388972   -0.388972   \n",
       "...                              ...            ...        ...         ...   \n",
       "5950                             0.0      -0.232581  -1.036617   -1.036617   \n",
       "5951                             0.0      -0.233290  -1.036617   -1.036617   \n",
       "5952                             0.0      -0.236126  -1.036617   -1.036617   \n",
       "5953                             0.0      -0.208473  -1.036617   -1.036617   \n",
       "5954                             0.0      -0.233290  -1.036617   -1.036617   \n",
       "\n",
       "      MailClicked  OnlineCommunication  AutomaticRefill  DoorstepDelivery  \n",
       "0       -1.036617                    0                0                 0  \n",
       "1        1.255050                    1                1                 0  \n",
       "2        1.952514                    0                1                 0  \n",
       "3        1.205231                    0                0                 0  \n",
       "4       -0.388972                    1                0                 0  \n",
       "...           ...                  ...              ...               ...  \n",
       "5950    -1.036617                    1                0                 0  \n",
       "5951    -1.036617                    1                0                 0  \n",
       "5952    -1.036617                    1                0                 0  \n",
       "5953    -1.036617                    1                0                 0  \n",
       "5954    -1.036617                    1                0                 0  \n",
       "\n",
       "[5955 rows x 18 columns]"
      ]
     },
     "execution_count": 329,
     "metadata": {},
     "output_type": "execute_result"
    }
   ],
   "source": [
    "x_test_con"
   ]
  },
  {
   "cell_type": "code",
   "execution_count": 330,
   "id": "645a0d34",
   "metadata": {},
   "outputs": [
    {
     "data": {
      "text/plain": [
       "City_CITY1                        float64\n",
       "City_CITY2                        float64\n",
       "City_CITY3                        float64\n",
       "City_CITY4                        float64\n",
       "PreferredDeliveryDay_Friday       float64\n",
       "PreferredDeliveryDay_Monday       float64\n",
       "PreferredDeliveryDay_Saturday     float64\n",
       "PreferredDeliveryDay_Sunday       float64\n",
       "PreferredDeliveryDay_Thursday     float64\n",
       "PreferredDeliveryDay_Tuesday      float64\n",
       "PreferredDeliveryDay_Wednesday    float64\n",
       "OrderQuantity                     float64\n",
       "EmailType                         float64\n",
       "MailOpened                        float64\n",
       "MailClicked                       float64\n",
       "OnlineCommunication                 int64\n",
       "AutomaticRefill                     int64\n",
       "DoorstepDelivery                    int64\n",
       "dtype: object"
      ]
     },
     "execution_count": 330,
     "metadata": {},
     "output_type": "execute_result"
    }
   ],
   "source": [
    "x_test_con.dtypes"
   ]
  },
  {
   "cell_type": "code",
   "execution_count": 331,
   "id": "34fac045",
   "metadata": {},
   "outputs": [],
   "source": [
    "for cols in ['OnlineCommunication','AutomaticRefill','DoorstepDelivery']:\n",
    "    x_test_con[cols] = x_test_con[cols].astype('float64')"
   ]
  },
  {
   "cell_type": "code",
   "execution_count": 332,
   "id": "31cdcb6c",
   "metadata": {},
   "outputs": [
    {
     "data": {
      "text/plain": [
       "City_CITY1                        0\n",
       "City_CITY2                        0\n",
       "City_CITY3                        0\n",
       "City_CITY4                        0\n",
       "PreferredDeliveryDay_Friday       0\n",
       "PreferredDeliveryDay_Monday       0\n",
       "PreferredDeliveryDay_Saturday     0\n",
       "PreferredDeliveryDay_Sunday       0\n",
       "PreferredDeliveryDay_Thursday     0\n",
       "PreferredDeliveryDay_Tuesday      0\n",
       "PreferredDeliveryDay_Wednesday    0\n",
       "OrderQuantity                     0\n",
       "EmailType                         0\n",
       "MailOpened                        0\n",
       "MailClicked                       0\n",
       "OnlineCommunication               0\n",
       "AutomaticRefill                   0\n",
       "DoorstepDelivery                  0\n",
       "dtype: int64"
      ]
     },
     "execution_count": 332,
     "metadata": {},
     "output_type": "execute_result"
    }
   ],
   "source": [
    "x_test_con.isnull().sum()"
   ]
  },
  {
   "cell_type": "code",
   "execution_count": 333,
   "id": "500e59e2",
   "metadata": {},
   "outputs": [
    {
     "data": {
      "text/plain": [
       "City_CITY1                        float64\n",
       "City_CITY2                        float64\n",
       "City_CITY3                        float64\n",
       "City_CITY4                        float64\n",
       "PreferredDeliveryDay_Friday       float64\n",
       "PreferredDeliveryDay_Monday       float64\n",
       "PreferredDeliveryDay_Saturday     float64\n",
       "PreferredDeliveryDay_Sunday       float64\n",
       "PreferredDeliveryDay_Thursday     float64\n",
       "PreferredDeliveryDay_Tuesday      float64\n",
       "PreferredDeliveryDay_Wednesday    float64\n",
       "OrderQuantity                     float64\n",
       "EmailType                         float64\n",
       "MailOpened                        float64\n",
       "MailClicked                       float64\n",
       "OnlineCommunication               float64\n",
       "AutomaticRefill                   float64\n",
       "DoorstepDelivery                  float64\n",
       "dtype: object"
      ]
     },
     "execution_count": 333,
     "metadata": {},
     "output_type": "execute_result"
    }
   ],
   "source": [
    "x_test_con.dtypes"
   ]
  },
  {
   "cell_type": "code",
   "execution_count": 334,
   "id": "c3afa9f1",
   "metadata": {
    "scrolled": true
   },
   "outputs": [
    {
     "data": {
      "text/html": [
       "<div>\n",
       "<style scoped>\n",
       "    .dataframe tbody tr th:only-of-type {\n",
       "        vertical-align: middle;\n",
       "    }\n",
       "\n",
       "    .dataframe tbody tr th {\n",
       "        vertical-align: top;\n",
       "    }\n",
       "\n",
       "    .dataframe thead th {\n",
       "        text-align: right;\n",
       "    }\n",
       "</style>\n",
       "<table border=\"1\" class=\"dataframe\">\n",
       "  <thead>\n",
       "    <tr style=\"text-align: right;\">\n",
       "      <th></th>\n",
       "      <th>City_CITY1</th>\n",
       "      <th>City_CITY2</th>\n",
       "      <th>City_CITY3</th>\n",
       "      <th>City_CITY4</th>\n",
       "      <th>PreferredDeliveryDay_Friday</th>\n",
       "      <th>PreferredDeliveryDay_Monday</th>\n",
       "      <th>PreferredDeliveryDay_Saturday</th>\n",
       "      <th>PreferredDeliveryDay_Sunday</th>\n",
       "      <th>PreferredDeliveryDay_Thursday</th>\n",
       "      <th>PreferredDeliveryDay_Tuesday</th>\n",
       "      <th>PreferredDeliveryDay_Wednesday</th>\n",
       "      <th>OrderQuantity</th>\n",
       "      <th>EmailType</th>\n",
       "      <th>MailOpened</th>\n",
       "      <th>MailClicked</th>\n",
       "      <th>OnlineCommunication</th>\n",
       "      <th>AutomaticRefill</th>\n",
       "      <th>DoorstepDelivery</th>\n",
       "    </tr>\n",
       "  </thead>\n",
       "  <tbody>\n",
       "    <tr>\n",
       "      <th>0</th>\n",
       "      <td>0.0</td>\n",
       "      <td>0.0</td>\n",
       "      <td>0.0</td>\n",
       "      <td>1.0</td>\n",
       "      <td>0.0</td>\n",
       "      <td>0.0</td>\n",
       "      <td>0.0</td>\n",
       "      <td>0.0</td>\n",
       "      <td>1.0</td>\n",
       "      <td>0.0</td>\n",
       "      <td>0.0</td>\n",
       "      <td>-0.222654</td>\n",
       "      <td>-1.036617</td>\n",
       "      <td>-1.036617</td>\n",
       "      <td>-1.036617</td>\n",
       "      <td>0.0</td>\n",
       "      <td>0.0</td>\n",
       "      <td>0.0</td>\n",
       "    </tr>\n",
       "    <tr>\n",
       "      <th>1</th>\n",
       "      <td>0.0</td>\n",
       "      <td>1.0</td>\n",
       "      <td>0.0</td>\n",
       "      <td>0.0</td>\n",
       "      <td>0.0</td>\n",
       "      <td>0.0</td>\n",
       "      <td>0.0</td>\n",
       "      <td>0.0</td>\n",
       "      <td>0.0</td>\n",
       "      <td>0.0</td>\n",
       "      <td>1.0</td>\n",
       "      <td>20.681831</td>\n",
       "      <td>1.255050</td>\n",
       "      <td>1.255050</td>\n",
       "      <td>1.255050</td>\n",
       "      <td>1.0</td>\n",
       "      <td>1.0</td>\n",
       "      <td>0.0</td>\n",
       "    </tr>\n",
       "    <tr>\n",
       "      <th>2</th>\n",
       "      <td>0.0</td>\n",
       "      <td>0.0</td>\n",
       "      <td>0.0</td>\n",
       "      <td>1.0</td>\n",
       "      <td>1.0</td>\n",
       "      <td>0.0</td>\n",
       "      <td>0.0</td>\n",
       "      <td>0.0</td>\n",
       "      <td>0.0</td>\n",
       "      <td>0.0</td>\n",
       "      <td>0.0</td>\n",
       "      <td>9.892785</td>\n",
       "      <td>1.952514</td>\n",
       "      <td>1.952514</td>\n",
       "      <td>1.952514</td>\n",
       "      <td>0.0</td>\n",
       "      <td>1.0</td>\n",
       "      <td>0.0</td>\n",
       "    </tr>\n",
       "    <tr>\n",
       "      <th>3</th>\n",
       "      <td>0.0</td>\n",
       "      <td>1.0</td>\n",
       "      <td>0.0</td>\n",
       "      <td>0.0</td>\n",
       "      <td>0.0</td>\n",
       "      <td>0.0</td>\n",
       "      <td>0.0</td>\n",
       "      <td>0.0</td>\n",
       "      <td>0.0</td>\n",
       "      <td>0.0</td>\n",
       "      <td>1.0</td>\n",
       "      <td>-0.228326</td>\n",
       "      <td>1.205231</td>\n",
       "      <td>1.205231</td>\n",
       "      <td>1.205231</td>\n",
       "      <td>0.0</td>\n",
       "      <td>0.0</td>\n",
       "      <td>0.0</td>\n",
       "    </tr>\n",
       "    <tr>\n",
       "      <th>4</th>\n",
       "      <td>0.0</td>\n",
       "      <td>1.0</td>\n",
       "      <td>0.0</td>\n",
       "      <td>0.0</td>\n",
       "      <td>0.0</td>\n",
       "      <td>1.0</td>\n",
       "      <td>0.0</td>\n",
       "      <td>0.0</td>\n",
       "      <td>0.0</td>\n",
       "      <td>0.0</td>\n",
       "      <td>0.0</td>\n",
       "      <td>14.088289</td>\n",
       "      <td>-0.388972</td>\n",
       "      <td>-0.388972</td>\n",
       "      <td>-0.388972</td>\n",
       "      <td>1.0</td>\n",
       "      <td>0.0</td>\n",
       "      <td>0.0</td>\n",
       "    </tr>\n",
       "    <tr>\n",
       "      <th>...</th>\n",
       "      <td>...</td>\n",
       "      <td>...</td>\n",
       "      <td>...</td>\n",
       "      <td>...</td>\n",
       "      <td>...</td>\n",
       "      <td>...</td>\n",
       "      <td>...</td>\n",
       "      <td>...</td>\n",
       "      <td>...</td>\n",
       "      <td>...</td>\n",
       "      <td>...</td>\n",
       "      <td>...</td>\n",
       "      <td>...</td>\n",
       "      <td>...</td>\n",
       "      <td>...</td>\n",
       "      <td>...</td>\n",
       "      <td>...</td>\n",
       "      <td>...</td>\n",
       "    </tr>\n",
       "    <tr>\n",
       "      <th>5950</th>\n",
       "      <td>0.0</td>\n",
       "      <td>1.0</td>\n",
       "      <td>0.0</td>\n",
       "      <td>0.0</td>\n",
       "      <td>1.0</td>\n",
       "      <td>0.0</td>\n",
       "      <td>0.0</td>\n",
       "      <td>0.0</td>\n",
       "      <td>0.0</td>\n",
       "      <td>0.0</td>\n",
       "      <td>0.0</td>\n",
       "      <td>-0.232581</td>\n",
       "      <td>-1.036617</td>\n",
       "      <td>-1.036617</td>\n",
       "      <td>-1.036617</td>\n",
       "      <td>1.0</td>\n",
       "      <td>0.0</td>\n",
       "      <td>0.0</td>\n",
       "    </tr>\n",
       "    <tr>\n",
       "      <th>5951</th>\n",
       "      <td>0.0</td>\n",
       "      <td>0.0</td>\n",
       "      <td>1.0</td>\n",
       "      <td>0.0</td>\n",
       "      <td>1.0</td>\n",
       "      <td>0.0</td>\n",
       "      <td>0.0</td>\n",
       "      <td>0.0</td>\n",
       "      <td>0.0</td>\n",
       "      <td>0.0</td>\n",
       "      <td>0.0</td>\n",
       "      <td>-0.233290</td>\n",
       "      <td>-1.036617</td>\n",
       "      <td>-1.036617</td>\n",
       "      <td>-1.036617</td>\n",
       "      <td>1.0</td>\n",
       "      <td>0.0</td>\n",
       "      <td>0.0</td>\n",
       "    </tr>\n",
       "    <tr>\n",
       "      <th>5952</th>\n",
       "      <td>0.0</td>\n",
       "      <td>0.0</td>\n",
       "      <td>1.0</td>\n",
       "      <td>0.0</td>\n",
       "      <td>0.0</td>\n",
       "      <td>1.0</td>\n",
       "      <td>0.0</td>\n",
       "      <td>0.0</td>\n",
       "      <td>0.0</td>\n",
       "      <td>0.0</td>\n",
       "      <td>0.0</td>\n",
       "      <td>-0.236126</td>\n",
       "      <td>-1.036617</td>\n",
       "      <td>-1.036617</td>\n",
       "      <td>-1.036617</td>\n",
       "      <td>1.0</td>\n",
       "      <td>0.0</td>\n",
       "      <td>0.0</td>\n",
       "    </tr>\n",
       "    <tr>\n",
       "      <th>5953</th>\n",
       "      <td>0.0</td>\n",
       "      <td>1.0</td>\n",
       "      <td>0.0</td>\n",
       "      <td>0.0</td>\n",
       "      <td>1.0</td>\n",
       "      <td>0.0</td>\n",
       "      <td>0.0</td>\n",
       "      <td>0.0</td>\n",
       "      <td>0.0</td>\n",
       "      <td>0.0</td>\n",
       "      <td>0.0</td>\n",
       "      <td>-0.208473</td>\n",
       "      <td>-1.036617</td>\n",
       "      <td>-1.036617</td>\n",
       "      <td>-1.036617</td>\n",
       "      <td>1.0</td>\n",
       "      <td>0.0</td>\n",
       "      <td>0.0</td>\n",
       "    </tr>\n",
       "    <tr>\n",
       "      <th>5954</th>\n",
       "      <td>0.0</td>\n",
       "      <td>0.0</td>\n",
       "      <td>1.0</td>\n",
       "      <td>0.0</td>\n",
       "      <td>1.0</td>\n",
       "      <td>0.0</td>\n",
       "      <td>0.0</td>\n",
       "      <td>0.0</td>\n",
       "      <td>0.0</td>\n",
       "      <td>0.0</td>\n",
       "      <td>0.0</td>\n",
       "      <td>-0.233290</td>\n",
       "      <td>-1.036617</td>\n",
       "      <td>-1.036617</td>\n",
       "      <td>-1.036617</td>\n",
       "      <td>1.0</td>\n",
       "      <td>0.0</td>\n",
       "      <td>0.0</td>\n",
       "    </tr>\n",
       "  </tbody>\n",
       "</table>\n",
       "<p>5955 rows × 18 columns</p>\n",
       "</div>"
      ],
      "text/plain": [
       "      City_CITY1  City_CITY2  City_CITY3  City_CITY4  \\\n",
       "0            0.0         0.0         0.0         1.0   \n",
       "1            0.0         1.0         0.0         0.0   \n",
       "2            0.0         0.0         0.0         1.0   \n",
       "3            0.0         1.0         0.0         0.0   \n",
       "4            0.0         1.0         0.0         0.0   \n",
       "...          ...         ...         ...         ...   \n",
       "5950         0.0         1.0         0.0         0.0   \n",
       "5951         0.0         0.0         1.0         0.0   \n",
       "5952         0.0         0.0         1.0         0.0   \n",
       "5953         0.0         1.0         0.0         0.0   \n",
       "5954         0.0         0.0         1.0         0.0   \n",
       "\n",
       "      PreferredDeliveryDay_Friday  PreferredDeliveryDay_Monday  \\\n",
       "0                             0.0                          0.0   \n",
       "1                             0.0                          0.0   \n",
       "2                             1.0                          0.0   \n",
       "3                             0.0                          0.0   \n",
       "4                             0.0                          1.0   \n",
       "...                           ...                          ...   \n",
       "5950                          1.0                          0.0   \n",
       "5951                          1.0                          0.0   \n",
       "5952                          0.0                          1.0   \n",
       "5953                          1.0                          0.0   \n",
       "5954                          1.0                          0.0   \n",
       "\n",
       "      PreferredDeliveryDay_Saturday  PreferredDeliveryDay_Sunday  \\\n",
       "0                               0.0                          0.0   \n",
       "1                               0.0                          0.0   \n",
       "2                               0.0                          0.0   \n",
       "3                               0.0                          0.0   \n",
       "4                               0.0                          0.0   \n",
       "...                             ...                          ...   \n",
       "5950                            0.0                          0.0   \n",
       "5951                            0.0                          0.0   \n",
       "5952                            0.0                          0.0   \n",
       "5953                            0.0                          0.0   \n",
       "5954                            0.0                          0.0   \n",
       "\n",
       "      PreferredDeliveryDay_Thursday  PreferredDeliveryDay_Tuesday  \\\n",
       "0                               1.0                           0.0   \n",
       "1                               0.0                           0.0   \n",
       "2                               0.0                           0.0   \n",
       "3                               0.0                           0.0   \n",
       "4                               0.0                           0.0   \n",
       "...                             ...                           ...   \n",
       "5950                            0.0                           0.0   \n",
       "5951                            0.0                           0.0   \n",
       "5952                            0.0                           0.0   \n",
       "5953                            0.0                           0.0   \n",
       "5954                            0.0                           0.0   \n",
       "\n",
       "      PreferredDeliveryDay_Wednesday  OrderQuantity  EmailType  MailOpened  \\\n",
       "0                                0.0      -0.222654  -1.036617   -1.036617   \n",
       "1                                1.0      20.681831   1.255050    1.255050   \n",
       "2                                0.0       9.892785   1.952514    1.952514   \n",
       "3                                1.0      -0.228326   1.205231    1.205231   \n",
       "4                                0.0      14.088289  -0.388972   -0.388972   \n",
       "...                              ...            ...        ...         ...   \n",
       "5950                             0.0      -0.232581  -1.036617   -1.036617   \n",
       "5951                             0.0      -0.233290  -1.036617   -1.036617   \n",
       "5952                             0.0      -0.236126  -1.036617   -1.036617   \n",
       "5953                             0.0      -0.208473  -1.036617   -1.036617   \n",
       "5954                             0.0      -0.233290  -1.036617   -1.036617   \n",
       "\n",
       "      MailClicked  OnlineCommunication  AutomaticRefill  DoorstepDelivery  \n",
       "0       -1.036617                  0.0              0.0               0.0  \n",
       "1        1.255050                  1.0              1.0               0.0  \n",
       "2        1.952514                  0.0              1.0               0.0  \n",
       "3        1.205231                  0.0              0.0               0.0  \n",
       "4       -0.388972                  1.0              0.0               0.0  \n",
       "...           ...                  ...              ...               ...  \n",
       "5950    -1.036617                  1.0              0.0               0.0  \n",
       "5951    -1.036617                  1.0              0.0               0.0  \n",
       "5952    -1.036617                  1.0              0.0               0.0  \n",
       "5953    -1.036617                  1.0              0.0               0.0  \n",
       "5954    -1.036617                  1.0              0.0               0.0  \n",
       "\n",
       "[5955 rows x 18 columns]"
      ]
     },
     "execution_count": 334,
     "metadata": {},
     "output_type": "execute_result"
    }
   ],
   "source": [
    "x_test_con"
   ]
  },
  {
   "cell_type": "markdown",
   "id": "a0ff757a",
   "metadata": {},
   "source": [
    "# **predicting outcome of RetentionPotential**"
   ]
  },
  {
   "cell_type": "code",
   "execution_count": 352,
   "id": "1c15cbe0",
   "metadata": {},
   "outputs": [
    {
     "data": {
      "text/html": [
       "<div>\n",
       "<style scoped>\n",
       "    .dataframe tbody tr th:only-of-type {\n",
       "        vertical-align: middle;\n",
       "    }\n",
       "\n",
       "    .dataframe tbody tr th {\n",
       "        vertical-align: top;\n",
       "    }\n",
       "\n",
       "    .dataframe thead th {\n",
       "        text-align: right;\n",
       "    }\n",
       "</style>\n",
       "<table border=\"1\" class=\"dataframe\">\n",
       "  <thead>\n",
       "    <tr style=\"text-align: right;\">\n",
       "      <th></th>\n",
       "      <th>RetentionPotential</th>\n",
       "    </tr>\n",
       "  </thead>\n",
       "  <tbody>\n",
       "    <tr>\n",
       "      <th>0</th>\n",
       "      <td>2</td>\n",
       "    </tr>\n",
       "    <tr>\n",
       "      <th>1</th>\n",
       "      <td>2</td>\n",
       "    </tr>\n",
       "    <tr>\n",
       "      <th>2</th>\n",
       "      <td>2</td>\n",
       "    </tr>\n",
       "    <tr>\n",
       "      <th>3</th>\n",
       "      <td>0</td>\n",
       "    </tr>\n",
       "    <tr>\n",
       "      <th>4</th>\n",
       "      <td>2</td>\n",
       "    </tr>\n",
       "    <tr>\n",
       "      <th>...</th>\n",
       "      <td>...</td>\n",
       "    </tr>\n",
       "    <tr>\n",
       "      <th>5950</th>\n",
       "      <td>2</td>\n",
       "    </tr>\n",
       "    <tr>\n",
       "      <th>5951</th>\n",
       "      <td>2</td>\n",
       "    </tr>\n",
       "    <tr>\n",
       "      <th>5952</th>\n",
       "      <td>0</td>\n",
       "    </tr>\n",
       "    <tr>\n",
       "      <th>5953</th>\n",
       "      <td>2</td>\n",
       "    </tr>\n",
       "    <tr>\n",
       "      <th>5954</th>\n",
       "      <td>2</td>\n",
       "    </tr>\n",
       "  </tbody>\n",
       "</table>\n",
       "<p>5955 rows × 1 columns</p>\n",
       "</div>"
      ],
      "text/plain": [
       "      RetentionPotential\n",
       "0                      2\n",
       "1                      2\n",
       "2                      2\n",
       "3                      0\n",
       "4                      2\n",
       "...                  ...\n",
       "5950                   2\n",
       "5951                   2\n",
       "5952                   0\n",
       "5953                   2\n",
       "5954                   2\n",
       "\n",
       "[5955 rows x 1 columns]"
      ]
     },
     "execution_count": 352,
     "metadata": {},
     "output_type": "execute_result"
    }
   ],
   "source": [
    "#here we predict data using upsampled KNN cassifier i.e., clf8\n",
    "pred = clf_knn2.predict(x_test_con)\n",
    "pred = pd.DataFrame(pred, columns=['RetentionPotential'])\n",
    "pred"
   ]
  },
  {
   "cell_type": "code",
   "execution_count": 353,
   "id": "035d2001",
   "metadata": {},
   "outputs": [
    {
     "data": {
      "text/plain": [
       "RetentionPotential\n",
       "2                     2666\n",
       "1                     2040\n",
       "0                     1249\n",
       "dtype: int64"
      ]
     },
     "execution_count": 353,
     "metadata": {},
     "output_type": "execute_result"
    }
   ],
   "source": [
    "pred.value_counts()"
   ]
  },
  {
   "cell_type": "code",
   "execution_count": 354,
   "id": "7274b6ca",
   "metadata": {},
   "outputs": [],
   "source": [
    "test_data = test.join([pred])\n",
    " "
   ]
  },
  {
   "cell_type": "code",
   "execution_count": 355,
   "id": "7e6edb87",
   "metadata": {},
   "outputs": [
    {
     "data": {
      "text/html": [
       "<div>\n",
       "<style scoped>\n",
       "    .dataframe tbody tr th:only-of-type {\n",
       "        vertical-align: middle;\n",
       "    }\n",
       "\n",
       "    .dataframe tbody tr th {\n",
       "        vertical-align: top;\n",
       "    }\n",
       "\n",
       "    .dataframe thead th {\n",
       "        text-align: right;\n",
       "    }\n",
       "</style>\n",
       "<table border=\"1\" class=\"dataframe\">\n",
       "  <thead>\n",
       "    <tr style=\"text-align: right;\">\n",
       "      <th></th>\n",
       "      <th>CustomerID</th>\n",
       "      <th>RetentionPotential</th>\n",
       "    </tr>\n",
       "  </thead>\n",
       "  <tbody>\n",
       "    <tr>\n",
       "      <th>0</th>\n",
       "      <td>C12121</td>\n",
       "      <td>2</td>\n",
       "    </tr>\n",
       "    <tr>\n",
       "      <th>1</th>\n",
       "      <td>C12132</td>\n",
       "      <td>2</td>\n",
       "    </tr>\n",
       "    <tr>\n",
       "      <th>2</th>\n",
       "      <td>C12134</td>\n",
       "      <td>2</td>\n",
       "    </tr>\n",
       "    <tr>\n",
       "      <th>3</th>\n",
       "      <td>C12135</td>\n",
       "      <td>0</td>\n",
       "    </tr>\n",
       "    <tr>\n",
       "      <th>4</th>\n",
       "      <td>C12136</td>\n",
       "      <td>2</td>\n",
       "    </tr>\n",
       "    <tr>\n",
       "      <th>...</th>\n",
       "      <td>...</td>\n",
       "      <td>...</td>\n",
       "    </tr>\n",
       "    <tr>\n",
       "      <th>5950</th>\n",
       "      <td>C42153</td>\n",
       "      <td>2</td>\n",
       "    </tr>\n",
       "    <tr>\n",
       "      <th>5951</th>\n",
       "      <td>C42155</td>\n",
       "      <td>2</td>\n",
       "    </tr>\n",
       "    <tr>\n",
       "      <th>5952</th>\n",
       "      <td>C42157</td>\n",
       "      <td>0</td>\n",
       "    </tr>\n",
       "    <tr>\n",
       "      <th>5953</th>\n",
       "      <td>C42167</td>\n",
       "      <td>2</td>\n",
       "    </tr>\n",
       "    <tr>\n",
       "      <th>5954</th>\n",
       "      <td>C42190</td>\n",
       "      <td>2</td>\n",
       "    </tr>\n",
       "  </tbody>\n",
       "</table>\n",
       "<p>5955 rows × 2 columns</p>\n",
       "</div>"
      ],
      "text/plain": [
       "     CustomerID  RetentionPotential\n",
       "0        C12121                   2\n",
       "1        C12132                   2\n",
       "2        C12134                   2\n",
       "3        C12135                   0\n",
       "4        C12136                   2\n",
       "...         ...                 ...\n",
       "5950     C42153                   2\n",
       "5951     C42155                   2\n",
       "5952     C42157                   0\n",
       "5953     C42167                   2\n",
       "5954     C42190                   2\n",
       "\n",
       "[5955 rows x 2 columns]"
      ]
     },
     "execution_count": 355,
     "metadata": {},
     "output_type": "execute_result"
    }
   ],
   "source": [
    "test_data"
   ]
  },
  {
   "cell_type": "code",
   "execution_count": 339,
   "id": "6e6e54d6",
   "metadata": {},
   "outputs": [],
   "source": [
    "##converting prediction to csv\n",
    "test_data.to_csv(\"SaiPraneeth_Meduri_RPL_FinalHack.csv\",index=False)"
   ]
  }
 ],
 "metadata": {
  "kernelspec": {
   "display_name": "Python 3 (ipykernel)",
   "language": "python",
   "name": "python3"
  },
  "language_info": {
   "codemirror_mode": {
    "name": "ipython",
    "version": 3
   },
   "file_extension": ".py",
   "mimetype": "text/x-python",
   "name": "python",
   "nbconvert_exporter": "python",
   "pygments_lexer": "ipython3",
   "version": "3.9.12"
  },
  "vscode": {
   "interpreter": {
    "hash": "c076d2f79da40ef602e3340d48218f9e371af6876590813df93300922aa6ab53"
   }
  }
 },
 "nbformat": 4,
 "nbformat_minor": 5
}
